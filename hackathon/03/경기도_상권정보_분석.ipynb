{
  "nbformat": 4,
  "nbformat_minor": 0,
  "metadata": {
    "colab": {
      "name": "경기도 상권정보 분석.ipynb",
      "provenance": []
    },
    "kernelspec": {
      "name": "python3",
      "display_name": "Python 3"
    },
    "language_info": {
      "name": "python"
    }
  },
  "cells": [
    {
      "cell_type": "code",
      "metadata": {
        "colab": {
          "base_uri": "https://localhost:8080/"
        },
        "id": "vYEx6Sh0eHao",
        "outputId": "907cc21f-d5d3-4d3d-d9c5-ea1a6d198678"
      },
      "source": [
        "from google.colab import drive\n",
        "drive.mount('/content/gdrive')"
      ],
      "execution_count": 45,
      "outputs": [
        {
          "output_type": "stream",
          "name": "stdout",
          "text": [
            "Drive already mounted at /content/gdrive; to attempt to forcibly remount, call drive.mount(\"/content/gdrive\", force_remount=True).\n"
          ]
        }
      ]
    },
    {
      "cell_type": "markdown",
      "metadata": {
        "id": "dAjt7JuZfknB"
      },
      "source": [
        "### 라이브러리 로드 및 초기설정"
      ]
    },
    {
      "cell_type": "code",
      "metadata": {
        "id": "nwoGTWFsePWC"
      },
      "source": [
        "import pandas as pd\n",
        "import numpy as np\n",
        "import matplotlib.pyplot as plt\n",
        "import seaborn as sns\n",
        "import os"
      ],
      "execution_count": 46,
      "outputs": []
    },
    {
      "cell_type": "code",
      "metadata": {
        "id": "-I6E3dsKfBaJ"
      },
      "source": [
        "# 하나의 cell에서 print문을 사용하지 않고 multiple output 출력을 가능하게 하는 코드\n",
        "from IPython.core.interactiveshell import InteractiveShell\n",
        "InteractiveShell.ast_node_interactivity = \"all\"\n",
        "\n",
        "# DataFrame의 사이즈가 큰 경우, 어떻게 화면에 출력을 할지 setting하는 코드\n",
        "pd.set_option('display.float_format', lambda x: '%.3f' % x)\n",
        "pd.set_option('max_columns', None)"
      ],
      "execution_count": 47,
      "outputs": []
    },
    {
      "cell_type": "code",
      "metadata": {
        "colab": {
          "base_uri": "https://localhost:8080/"
        },
        "id": "9khTxttefEz1",
        "outputId": "5e64ea54-cc74-49d7-de90-f37b1d135abe"
      },
      "source": [
        "# 시스템 운영체제에 맞는 폰트를 불러와 적용하기\n",
        "def get_font_family():\n",
        "    \"\"\"\n",
        "    시스템 환경에 따른 기본 폰트명을 반환하는 함수\n",
        "    \"\"\"\n",
        "    import platform\n",
        "    system_name = platform.system()\n",
        "    # colab 사용자는 system_name이 'Linux'로 확인\n",
        "\n",
        "    if system_name == \"Darwin\" :\n",
        "        font_family = \"AppleGothic\"\n",
        "    elif system_name == \"Windows\":\n",
        "        font_family = \"Malgun Gothic\"\n",
        "    else:\n",
        "        !apt-get install fonts-nanum -qq  > /dev/null\n",
        "        !fc-cache -fv\n",
        "\n",
        "        import matplotlib as mpl\n",
        "        mpl.font_manager._rebuild()\n",
        "        findfont = mpl.font_manager.fontManager.findfont\n",
        "        mpl.font_manager.findfont = findfont\n",
        "        mpl.backends.backend_agg.findfont = findfont\n",
        "        \n",
        "        font_family = \"NanumBarunGothic\"\n",
        "    return font_family\n",
        "\n",
        "font_family = get_font_family()"
      ],
      "execution_count": 48,
      "outputs": [
        {
          "output_type": "stream",
          "name": "stdout",
          "text": [
            "/usr/share/fonts: caching, new cache contents: 0 fonts, 1 dirs\n",
            "/usr/share/fonts/truetype: caching, new cache contents: 0 fonts, 3 dirs\n",
            "/usr/share/fonts/truetype/humor-sans: caching, new cache contents: 1 fonts, 0 dirs\n",
            "/usr/share/fonts/truetype/liberation: caching, new cache contents: 16 fonts, 0 dirs\n",
            "/usr/share/fonts/truetype/nanum: caching, new cache contents: 10 fonts, 0 dirs\n",
            "/usr/local/share/fonts: caching, new cache contents: 0 fonts, 0 dirs\n",
            "/root/.local/share/fonts: skipping, no such directory\n",
            "/root/.fonts: skipping, no such directory\n",
            "/var/cache/fontconfig: cleaning cache directory\n",
            "/root/.cache/fontconfig: not cleaning non-existent cache directory\n",
            "/root/.fontconfig: not cleaning non-existent cache directory\n",
            "fc-cache: succeeded\n"
          ]
        }
      ]
    },
    {
      "cell_type": "code",
      "metadata": {
        "id": "r8ZyC_3lfHLa"
      },
      "source": [
        "# 시각화를 위한 폰트설정\n",
        "# 위에서 만든 함수를 통해 시스템 폰트를 불러와서 font_family 라는 변수에 할당합니다.\n",
        "\n",
        "# 폰트설정\n",
        "plt.rc(\"font\", family=font_family)\n",
        "\n",
        "# 마이너스 폰트 설정\n",
        "plt.rc(\"axes\", unicode_minus=False)\n",
        "\n",
        "# 그래프에 retina display 적용\n",
        "from IPython.display import set_matplotlib_formats\n",
        "set_matplotlib_formats(\"retina\")"
      ],
      "execution_count": 49,
      "outputs": []
    },
    {
      "cell_type": "markdown",
      "metadata": {
        "id": "FdbZMpMqfdY6"
      },
      "source": [
        "### 데이터 불러오기"
      ]
    },
    {
      "cell_type": "code",
      "metadata": {
        "id": "rg8ix7UGefEu"
      },
      "source": [
        "path_dir = '/content/gdrive/MyDrive/aiffel-hackathon/data'\n",
        "file_list = os.listdir(path_dir)"
      ],
      "execution_count": 50,
      "outputs": []
    },
    {
      "cell_type": "code",
      "metadata": {
        "colab": {
          "base_uri": "https://localhost:8080/"
        },
        "id": "iY8V_nq5ejH1",
        "outputId": "43b77fb3-f907-46cf-c1bf-d25591af26d2"
      },
      "source": [
        "file_list"
      ],
      "execution_count": 51,
      "outputs": [
        {
          "output_type": "execute_result",
          "data": {
            "text/plain": [
              "['상가업소정보_201912_03.csv', '상가업소정보_201912_04.csv']"
            ]
          },
          "metadata": {},
          "execution_count": 51
        }
      ]
    },
    {
      "cell_type": "code",
      "metadata": {
        "colab": {
          "base_uri": "https://localhost:8080/",
          "height": 777
        },
        "id": "jWOsAEHveyju",
        "outputId": "603fa77a-5e54-4f7e-cdb0-d802418a6c45"
      },
      "source": [
        "df = pd.read_csv(path_dir + '/상가업소정보_201912_03.csv', sep='|')\n",
        "df.shape\n",
        "df.head(2)"
      ],
      "execution_count": 52,
      "outputs": [
        {
          "output_type": "stream",
          "name": "stderr",
          "text": [
            "/usr/local/lib/python3.7/dist-packages/IPython/core/interactiveshell.py:2718: DtypeWarning: Columns (35,36) have mixed types.Specify dtype option on import or set low_memory=False.\n",
            "  interactivity=interactivity, compiler=compiler, result=result)\n"
          ]
        },
        {
          "output_type": "execute_result",
          "data": {
            "text/plain": [
              "(869907, 39)"
            ]
          },
          "metadata": {},
          "execution_count": 52
        },
        {
          "output_type": "execute_result",
          "data": {
            "text/html": [
              "<div>\n",
              "<style scoped>\n",
              "    .dataframe tbody tr th:only-of-type {\n",
              "        vertical-align: middle;\n",
              "    }\n",
              "\n",
              "    .dataframe tbody tr th {\n",
              "        vertical-align: top;\n",
              "    }\n",
              "\n",
              "    .dataframe thead th {\n",
              "        text-align: right;\n",
              "    }\n",
              "</style>\n",
              "<table border=\"1\" class=\"dataframe\">\n",
              "  <thead>\n",
              "    <tr style=\"text-align: right;\">\n",
              "      <th></th>\n",
              "      <th>상가업소번호</th>\n",
              "      <th>상호명</th>\n",
              "      <th>지점명</th>\n",
              "      <th>상권업종대분류코드</th>\n",
              "      <th>상권업종대분류명</th>\n",
              "      <th>상권업종중분류코드</th>\n",
              "      <th>상권업종중분류명</th>\n",
              "      <th>상권업종소분류코드</th>\n",
              "      <th>상권업종소분류명</th>\n",
              "      <th>표준산업분류코드</th>\n",
              "      <th>표준산업분류명</th>\n",
              "      <th>시도코드</th>\n",
              "      <th>시도명</th>\n",
              "      <th>시군구코드</th>\n",
              "      <th>시군구명</th>\n",
              "      <th>행정동코드</th>\n",
              "      <th>행정동명</th>\n",
              "      <th>법정동코드</th>\n",
              "      <th>법정동명</th>\n",
              "      <th>지번코드</th>\n",
              "      <th>대지구분코드</th>\n",
              "      <th>대지구분명</th>\n",
              "      <th>지번본번지</th>\n",
              "      <th>지번부번지</th>\n",
              "      <th>지번주소</th>\n",
              "      <th>도로명코드</th>\n",
              "      <th>도로명</th>\n",
              "      <th>건물본번지</th>\n",
              "      <th>건물부번지</th>\n",
              "      <th>건물관리번호</th>\n",
              "      <th>건물명</th>\n",
              "      <th>도로명주소</th>\n",
              "      <th>구우편번호</th>\n",
              "      <th>신우편번호</th>\n",
              "      <th>동정보</th>\n",
              "      <th>층정보</th>\n",
              "      <th>호정보</th>\n",
              "      <th>경도</th>\n",
              "      <th>위도</th>\n",
              "    </tr>\n",
              "  </thead>\n",
              "  <tbody>\n",
              "    <tr>\n",
              "      <th>0</th>\n",
              "      <td>19943193</td>\n",
              "      <td>프리즐</td>\n",
              "      <td>NaN</td>\n",
              "      <td>Q</td>\n",
              "      <td>음식</td>\n",
              "      <td>Q04</td>\n",
              "      <td>분식</td>\n",
              "      <td>Q04A01</td>\n",
              "      <td>라면김밥분식</td>\n",
              "      <td>I56194</td>\n",
              "      <td>분식 및 김밥 전문점</td>\n",
              "      <td>41</td>\n",
              "      <td>경기도</td>\n",
              "      <td>41360</td>\n",
              "      <td>남양주시</td>\n",
              "      <td>4136025300</td>\n",
              "      <td>진접읍</td>\n",
              "      <td>4136025321</td>\n",
              "      <td>진접읍</td>\n",
              "      <td>4136025321206720001</td>\n",
              "      <td>1</td>\n",
              "      <td>대지</td>\n",
              "      <td>672</td>\n",
              "      <td>1.000</td>\n",
              "      <td>경기도 남양주시 진접읍 장현리 672-1</td>\n",
              "      <td>413603197028</td>\n",
              "      <td>경기도 남양주시 진접읍 봉현로</td>\n",
              "      <td>14</td>\n",
              "      <td>nan</td>\n",
              "      <td>4136025321106720001024396</td>\n",
              "      <td>NaN</td>\n",
              "      <td>경기도 남양주시 진접읍 봉현로 14</td>\n",
              "      <td>472865.000</td>\n",
              "      <td>12013.000</td>\n",
              "      <td>NaN</td>\n",
              "      <td>3.000</td>\n",
              "      <td>NaN</td>\n",
              "      <td>127.181</td>\n",
              "      <td>37.715</td>\n",
              "    </tr>\n",
              "    <tr>\n",
              "      <th>1</th>\n",
              "      <td>19943449</td>\n",
              "      <td>최씨네별난맛집</td>\n",
              "      <td>NaN</td>\n",
              "      <td>Q</td>\n",
              "      <td>음식</td>\n",
              "      <td>Q01</td>\n",
              "      <td>한식</td>\n",
              "      <td>Q01A01</td>\n",
              "      <td>한식/백반/한정식</td>\n",
              "      <td>I56111</td>\n",
              "      <td>한식 음식점업</td>\n",
              "      <td>41</td>\n",
              "      <td>경기도</td>\n",
              "      <td>41250</td>\n",
              "      <td>동두천시</td>\n",
              "      <td>4125056500</td>\n",
              "      <td>불현동</td>\n",
              "      <td>4125010400</td>\n",
              "      <td>광암동</td>\n",
              "      <td>4125010400204940034</td>\n",
              "      <td>1</td>\n",
              "      <td>대지</td>\n",
              "      <td>494</td>\n",
              "      <td>34.000</td>\n",
              "      <td>경기도 동두천시 광암동 494-34</td>\n",
              "      <td>412504367026</td>\n",
              "      <td>경기도 동두천시 광암로33번길</td>\n",
              "      <td>15</td>\n",
              "      <td>nan</td>\n",
              "      <td>4125010400104940034000001</td>\n",
              "      <td>NaN</td>\n",
              "      <td>경기도 동두천시 광암로33번길 15</td>\n",
              "      <td>483040.000</td>\n",
              "      <td>11321.000</td>\n",
              "      <td>NaN</td>\n",
              "      <td>1.000</td>\n",
              "      <td>NaN</td>\n",
              "      <td>127.086</td>\n",
              "      <td>37.896</td>\n",
              "    </tr>\n",
              "  </tbody>\n",
              "</table>\n",
              "</div>"
            ],
            "text/plain": [
              "     상가업소번호      상호명  지점명 상권업종대분류코드 상권업종대분류명 상권업종중분류코드 상권업종중분류명 상권업종소분류코드  \\\n",
              "0  19943193      프리즐  NaN         Q       음식       Q04       분식    Q04A01   \n",
              "1  19943449  최씨네별난맛집  NaN         Q       음식       Q01       한식    Q01A01   \n",
              "\n",
              "    상권업종소분류명 표준산업분류코드      표준산업분류명  시도코드  시도명  시군구코드  시군구명       행정동코드 행정동명  \\\n",
              "0     라면김밥분식   I56194  분식 및 김밥 전문점    41  경기도  41360  남양주시  4136025300  진접읍   \n",
              "1  한식/백반/한정식   I56111      한식 음식점업    41  경기도  41250  동두천시  4125056500  불현동   \n",
              "\n",
              "        법정동코드 법정동명                 지번코드  대지구분코드 대지구분명  지번본번지  지번부번지  \\\n",
              "0  4136025321  진접읍  4136025321206720001       1    대지    672  1.000   \n",
              "1  4125010400  광암동  4125010400204940034       1    대지    494 34.000   \n",
              "\n",
              "                     지번주소         도로명코드               도로명  건물본번지  건물부번지  \\\n",
              "0  경기도 남양주시 진접읍 장현리 672-1  413603197028  경기도 남양주시 진접읍 봉현로     14    nan   \n",
              "1     경기도 동두천시 광암동 494-34  412504367026  경기도 동두천시 광암로33번길     15    nan   \n",
              "\n",
              "                      건물관리번호  건물명                도로명주소      구우편번호     신우편번호  \\\n",
              "0  4136025321106720001024396  NaN  경기도 남양주시 진접읍 봉현로 14 472865.000 12013.000   \n",
              "1  4125010400104940034000001  NaN  경기도 동두천시 광암로33번길 15 483040.000 11321.000   \n",
              "\n",
              "   동정보   층정보  호정보      경도     위도  \n",
              "0  NaN 3.000  NaN 127.181 37.715  \n",
              "1  NaN 1.000  NaN 127.086 37.896  "
            ]
          },
          "metadata": {},
          "execution_count": 52
        }
      ]
    },
    {
      "cell_type": "markdown",
      "metadata": {
        "id": "r8jWF8H2tFJk"
      },
      "source": [
        "### 데이터 전처리"
      ]
    },
    {
      "cell_type": "code",
      "metadata": {
        "colab": {
          "base_uri": "https://localhost:8080/"
        },
        "id": "bdUkkfSShOFn",
        "outputId": "130036c1-f432-44db-91e7-fd9db54799ff"
      },
      "source": [
        "# 결측치 확인\n",
        "df.isnull().sum()"
      ],
      "execution_count": 53,
      "outputs": [
        {
          "output_type": "execute_result",
          "data": {
            "text/plain": [
              "상가업소번호            0\n",
              "상호명               1\n",
              "지점명          763443\n",
              "상권업종대분류코드         0\n",
              "상권업종대분류명          0\n",
              "상권업종중분류코드         0\n",
              "상권업종중분류명          0\n",
              "상권업종소분류코드         0\n",
              "상권업종소분류명          0\n",
              "표준산업분류코드      57052\n",
              "표준산업분류명       57052\n",
              "시도코드              0\n",
              "시도명               0\n",
              "시군구코드             0\n",
              "시군구명              0\n",
              "행정동코드             0\n",
              "행정동명              0\n",
              "법정동코드             0\n",
              "법정동명              0\n",
              "지번코드              0\n",
              "대지구분코드            0\n",
              "대지구분명             0\n",
              "지번본번지             0\n",
              "지번부번지        238875\n",
              "지번주소              0\n",
              "도로명코드             0\n",
              "도로명               0\n",
              "건물본번지             0\n",
              "건물부번지        699310\n",
              "건물관리번호            0\n",
              "건물명          498654\n",
              "도로명주소             0\n",
              "구우편번호           285\n",
              "신우편번호            26\n",
              "동정보          794604\n",
              "층정보          441871\n",
              "호정보          688190\n",
              "경도                0\n",
              "위도                0\n",
              "dtype: int64"
            ]
          },
          "metadata": {},
          "execution_count": 53
        }
      ]
    },
    {
      "cell_type": "markdown",
      "metadata": {
        "id": "Hw_UvTOrjRp7"
      },
      "source": [
        "결측치가 많은 값들을 확인해보니 다른 값들로 대체하기도 어렵고, 없어도 무방한 것으로 판단되어 컬럼을 삭제해준다."
      ]
    },
    {
      "cell_type": "code",
      "metadata": {
        "colab": {
          "base_uri": "https://localhost:8080/"
        },
        "id": "BRC8H4-MfNjd",
        "outputId": "41b1bfaa-b1d0-4801-8aa9-8009d5cd5424"
      },
      "source": [
        "# 컬럼 list 조회\n",
        "cols = df.columns\n",
        "cols"
      ],
      "execution_count": 54,
      "outputs": [
        {
          "output_type": "execute_result",
          "data": {
            "text/plain": [
              "Index(['상가업소번호', '상호명', '지점명', '상권업종대분류코드', '상권업종대분류명', '상권업종중분류코드',\n",
              "       '상권업종중분류명', '상권업종소분류코드', '상권업종소분류명', '표준산업분류코드', '표준산업분류명', '시도코드',\n",
              "       '시도명', '시군구코드', '시군구명', '행정동코드', '행정동명', '법정동코드', '법정동명', '지번코드',\n",
              "       '대지구분코드', '대지구분명', '지번본번지', '지번부번지', '지번주소', '도로명코드', '도로명', '건물본번지',\n",
              "       '건물부번지', '건물관리번호', '건물명', '도로명주소', '구우편번호', '신우편번호', '동정보', '층정보',\n",
              "       '호정보', '경도', '위도'],\n",
              "      dtype='object')"
            ]
          },
          "metadata": {},
          "execution_count": 54
        }
      ]
    },
    {
      "cell_type": "code",
      "metadata": {
        "colab": {
          "base_uri": "https://localhost:8080/"
        },
        "id": "UBkK8nKYjfqY",
        "outputId": "bde06339-1f80-4f78-f1ad-4d15e21d2429"
      },
      "source": [
        "# 결측치가 많은 컬럼 제거를 위한 변수 생성\n",
        "missing_cols = ['지점명', '표준산업분류명', '지번부번지', '건물부번지', '건물명', '동정보', '층정보', '호정보']\n",
        "missing_cols"
      ],
      "execution_count": 55,
      "outputs": [
        {
          "output_type": "execute_result",
          "data": {
            "text/plain": [
              "['지점명', '표준산업분류명', '지번부번지', '건물부번지', '건물명', '동정보', '층정보', '호정보']"
            ]
          },
          "metadata": {},
          "execution_count": 55
        }
      ]
    },
    {
      "cell_type": "code",
      "metadata": {
        "colab": {
          "base_uri": "https://localhost:8080/"
        },
        "id": "APMws3LFgnBD",
        "outputId": "c3f7693e-f09a-4a73-feae-18e1fb80c5b2"
      },
      "source": [
        "# 이외 불필요한 컬럼 제거를 위한 변수 생성\n",
        "not_use_cols = cols[cols.str.contains('번호|코드')]\n",
        "not_use_cols"
      ],
      "execution_count": 56,
      "outputs": [
        {
          "output_type": "execute_result",
          "data": {
            "text/plain": [
              "Index(['상가업소번호', '상권업종대분류코드', '상권업종중분류코드', '상권업종소분류코드', '표준산업분류코드', '시도코드',\n",
              "       '시군구코드', '행정동코드', '법정동코드', '지번코드', '대지구분코드', '도로명코드', '건물관리번호', '구우편번호',\n",
              "       '신우편번호'],\n",
              "      dtype='object')"
            ]
          },
          "metadata": {},
          "execution_count": 56
        }
      ]
    },
    {
      "cell_type": "code",
      "metadata": {
        "id": "U-xLDkPwmOET"
      },
      "source": [
        "# 추가적으로 삭제할 컬럼에 대한 변수 생성\n",
        "drop_cols = ['행정동명', '대지구분명', '지번본번지', '건물본번지']"
      ],
      "execution_count": 62,
      "outputs": []
    },
    {
      "cell_type": "code",
      "metadata": {
        "colab": {
          "base_uri": "https://localhost:8080/"
        },
        "id": "pQDYJJDmguRx",
        "outputId": "ce9b1023-a35f-47e7-d2d2-5fc1dde65aad"
      },
      "source": [
        "# 결측치 컬럼 삭제\n",
        "print('기존 컬럼수', df.shape)\n",
        "df = df.drop(missing_cols, axis=1)\n",
        "print('변경 컬럼수', df.shape)"
      ],
      "execution_count": 57,
      "outputs": [
        {
          "output_type": "stream",
          "name": "stdout",
          "text": [
            "기존 컬럼수 (869907, 39)\n",
            "변경 컬럼수 (869907, 31)\n"
          ]
        }
      ]
    },
    {
      "cell_type": "code",
      "metadata": {
        "colab": {
          "base_uri": "https://localhost:8080/"
        },
        "id": "woKRR4_tlT1i",
        "outputId": "cdcee8ca-0aac-4b5c-8efa-803e1d465db0"
      },
      "source": [
        "# 불필요한 컬럼 삭제1\n",
        "print('기존 컬럼수', df.shape)\n",
        "df = df.drop(not_use_cols, axis=1)\n",
        "print('변경 컬럼수', df.shape)"
      ],
      "execution_count": 58,
      "outputs": [
        {
          "output_type": "stream",
          "name": "stdout",
          "text": [
            "기존 컬럼수 (869907, 31)\n",
            "변경 컬럼수 (869907, 16)\n"
          ]
        }
      ]
    },
    {
      "cell_type": "code",
      "metadata": {
        "colab": {
          "base_uri": "https://localhost:8080/"
        },
        "id": "pNI0c7b1mlOl",
        "outputId": "b336ef2c-10ab-44c2-9058-33d316c51370"
      },
      "source": [
        "# 불필요한 컬럼 삭제2\n",
        "print('기존 컬럼수', df.shape)\n",
        "df = df.drop(drop_cols, axis=1)\n",
        "print('변경 컬럼수', df.shape)"
      ],
      "execution_count": 63,
      "outputs": [
        {
          "output_type": "stream",
          "name": "stdout",
          "text": [
            "기존 컬럼수 (869907, 16)\n",
            "변경 컬럼수 (869907, 12)\n"
          ]
        }
      ]
    },
    {
      "cell_type": "code",
      "metadata": {
        "colab": {
          "base_uri": "https://localhost:8080/",
          "height": 164
        },
        "id": "6C9wGjqlhLDL",
        "outputId": "6b306084-c23b-4312-ccaf-0c825db782ce"
      },
      "source": [
        "df.head(2)"
      ],
      "execution_count": 64,
      "outputs": [
        {
          "output_type": "execute_result",
          "data": {
            "text/html": [
              "<div>\n",
              "<style scoped>\n",
              "    .dataframe tbody tr th:only-of-type {\n",
              "        vertical-align: middle;\n",
              "    }\n",
              "\n",
              "    .dataframe tbody tr th {\n",
              "        vertical-align: top;\n",
              "    }\n",
              "\n",
              "    .dataframe thead th {\n",
              "        text-align: right;\n",
              "    }\n",
              "</style>\n",
              "<table border=\"1\" class=\"dataframe\">\n",
              "  <thead>\n",
              "    <tr style=\"text-align: right;\">\n",
              "      <th></th>\n",
              "      <th>상호명</th>\n",
              "      <th>상권업종대분류명</th>\n",
              "      <th>상권업종중분류명</th>\n",
              "      <th>상권업종소분류명</th>\n",
              "      <th>시도명</th>\n",
              "      <th>시군구명</th>\n",
              "      <th>법정동명</th>\n",
              "      <th>지번주소</th>\n",
              "      <th>도로명</th>\n",
              "      <th>도로명주소</th>\n",
              "      <th>경도</th>\n",
              "      <th>위도</th>\n",
              "    </tr>\n",
              "  </thead>\n",
              "  <tbody>\n",
              "    <tr>\n",
              "      <th>0</th>\n",
              "      <td>프리즐</td>\n",
              "      <td>음식</td>\n",
              "      <td>분식</td>\n",
              "      <td>라면김밥분식</td>\n",
              "      <td>경기도</td>\n",
              "      <td>남양주시</td>\n",
              "      <td>진접읍</td>\n",
              "      <td>경기도 남양주시 진접읍 장현리 672-1</td>\n",
              "      <td>경기도 남양주시 진접읍 봉현로</td>\n",
              "      <td>경기도 남양주시 진접읍 봉현로 14</td>\n",
              "      <td>127.181</td>\n",
              "      <td>37.715</td>\n",
              "    </tr>\n",
              "    <tr>\n",
              "      <th>1</th>\n",
              "      <td>최씨네별난맛집</td>\n",
              "      <td>음식</td>\n",
              "      <td>한식</td>\n",
              "      <td>한식/백반/한정식</td>\n",
              "      <td>경기도</td>\n",
              "      <td>동두천시</td>\n",
              "      <td>광암동</td>\n",
              "      <td>경기도 동두천시 광암동 494-34</td>\n",
              "      <td>경기도 동두천시 광암로33번길</td>\n",
              "      <td>경기도 동두천시 광암로33번길 15</td>\n",
              "      <td>127.086</td>\n",
              "      <td>37.896</td>\n",
              "    </tr>\n",
              "  </tbody>\n",
              "</table>\n",
              "</div>"
            ],
            "text/plain": [
              "       상호명 상권업종대분류명 상권업종중분류명   상권업종소분류명  시도명  시군구명 법정동명  \\\n",
              "0      프리즐       음식       분식     라면김밥분식  경기도  남양주시  진접읍   \n",
              "1  최씨네별난맛집       음식       한식  한식/백반/한정식  경기도  동두천시  광암동   \n",
              "\n",
              "                     지번주소               도로명                도로명주소      경도  \\\n",
              "0  경기도 남양주시 진접읍 장현리 672-1  경기도 남양주시 진접읍 봉현로  경기도 남양주시 진접읍 봉현로 14 127.181   \n",
              "1     경기도 동두천시 광암동 494-34  경기도 동두천시 광암로33번길  경기도 동두천시 광암로33번길 15 127.086   \n",
              "\n",
              "      위도  \n",
              "0 37.715  \n",
              "1 37.896  "
            ]
          },
          "metadata": {},
          "execution_count": 64
        }
      ]
    },
    {
      "cell_type": "code",
      "metadata": {
        "id": "k87YFPnUrVeN"
      },
      "source": [
        "df['지역'] = df['시도명'] + ' ' + df['시군구명']"
      ],
      "execution_count": 79,
      "outputs": []
    },
    {
      "cell_type": "code",
      "metadata": {
        "colab": {
          "base_uri": "https://localhost:8080/"
        },
        "id": "TMsIeZblhTsP",
        "outputId": "39bf1833-d28a-4116-f11e-428773c70d66"
      },
      "source": [
        "df['시도명'].value_counts()"
      ],
      "execution_count": 66,
      "outputs": [
        {
          "output_type": "execute_result",
          "data": {
            "text/plain": [
              "경기도     650152\n",
              "강원도     120019\n",
              "충청북도     99736\n",
              "Name: 시도명, dtype: int64"
            ]
          },
          "metadata": {},
          "execution_count": 66
        }
      ]
    },
    {
      "cell_type": "code",
      "metadata": {
        "colab": {
          "base_uri": "https://localhost:8080/"
        },
        "id": "BvLPYCoMrpWc",
        "outputId": "17d0068f-f659-4f82-99be-ead4d52e5c4c"
      },
      "source": [
        "df_gg = df[df['시도명'] == '경기도']\n",
        "df_gg.shape"
      ],
      "execution_count": 81,
      "outputs": [
        {
          "output_type": "execute_result",
          "data": {
            "text/plain": [
              "(650152, 13)"
            ]
          },
          "metadata": {},
          "execution_count": 81
        }
      ]
    },
    {
      "cell_type": "code",
      "metadata": {
        "colab": {
          "base_uri": "https://localhost:8080/"
        },
        "id": "w0cLIhZTr7jj",
        "outputId": "1dbb30ab-4a61-4c2f-cc44-9ebc0146cd11"
      },
      "source": [
        "df_gg['지역'].unique()"
      ],
      "execution_count": 84,
      "outputs": [
        {
          "output_type": "execute_result",
          "data": {
            "text/plain": [
              "array(['경기도 남양주시', '경기도 동두천시', '경기도 성남시 중원구', '경기도 성남시 분당구',\n",
              "       '경기도 성남시 수정구', '경기도 구리시', '경기도 광명시', '경기도 안양시 만안구', '경기도 의정부시',\n",
              "       '경기도 평택시', '경기도 안산시 단원구', '경기도 수원시 장안구', '경기도 고양시 일산동구',\n",
              "       '경기도 고양시 덕양구', '경기도 안양시 동안구', '경기도 여주시', '경기도 양평군', '경기도 안성시',\n",
              "       '경기도 시흥시', '경기도 광주시', '경기도 파주시', '경기도 화성시', '경기도 고양시 일산서구',\n",
              "       '경기도 수원시 영통구', '경기도 안산시 상록구', '경기도 용인시 수지구', '경기도 연천군',\n",
              "       '경기도 수원시 팔달구', '경기도 포천시', '경기도 수원시 권선구', '경기도 군포시', '경기도 용인시 기흥구',\n",
              "       '경기도 부천시', '경기도 하남시', '경기도 양주시', '경기도 용인시 처인구', '경기도 오산시',\n",
              "       '경기도 이천시', '경기도 의왕시', '경기도 과천시', '경기도 김포시', '경기도 가평군'],\n",
              "      dtype=object)"
            ]
          },
          "metadata": {},
          "execution_count": 84
        }
      ]
    },
    {
      "cell_type": "code",
      "metadata": {
        "id": "CFBifWwVsVKr"
      },
      "source": [
        "# 쏘카 데이터에서 제공하는 시군구 데이터 리스트\n",
        "df_gg_socar_zone_region_list = ['경기도 남양주시', '경기도 성남시 중원구', '경기도 성남시 분당구',\n",
        "       '경기도 성남시 수정구', '경기도 구리시', '경기도 광명시', '경기도 안양시 만안구', '경기도 의정부시',\n",
        "       '경기도 고양시 일산동구', '경기도 안양시 동안구', '경기도 양평군', '경기도 화성시', '경기도 고양시 일산서구',\n",
        "       '경기도 하남시', '경기도 김포시']"
      ],
      "execution_count": 85,
      "outputs": []
    },
    {
      "cell_type": "code",
      "metadata": {
        "id": "GpxmlV0RsCTe"
      },
      "source": [
        "# 쏘카 데이터에서 제공하는 시군구 데이터만 변수에 담아준다\n",
        "df_gg_socar_zone = df_gg[df_gg['지역'].isin(df_gg_socar_zone_region_list)]"
      ],
      "execution_count": 90,
      "outputs": []
    },
    {
      "cell_type": "code",
      "metadata": {
        "colab": {
          "base_uri": "https://localhost:8080/",
          "height": 337
        },
        "id": "7WlritmTm9-v",
        "outputId": "24377f36-cf95-4abb-bd9b-987557051900"
      },
      "source": [
        "df_gg_socar_zone['상권업종대분류명'].value_counts().plot.bar()"
      ],
      "execution_count": 91,
      "outputs": [
        {
          "output_type": "execute_result",
          "data": {
            "text/plain": [
              "<matplotlib.axes._subplots.AxesSubplot at 0x7f001d029990>"
            ]
          },
          "metadata": {},
          "execution_count": 91
        },
        {
          "output_type": "display_data",
          "data": {
            "image/png": "[encoded data removed]",
            "text/plain": [
              "<Figure size 432x288 with 1 Axes>"
            ]
          },
          "metadata": {
            "image/png": {
              "width": 385,
              "height": 301
            },
            "needs_background": "light"
          }
        }
      ]
    },
    {
      "cell_type": "code",
      "metadata": {
        "colab": {
          "base_uri": "https://localhost:8080/"
        },
        "id": "rvVK0Ac2nGR-",
        "outputId": "c2685197-21fe-4e53-9e24-56977053d578"
      },
      "source": [
        "df_gg_socar_zone[df_gg_socar_zone['상권업종대분류명'] == '음식']['상권업종중분류명'].value_counts()"
      ],
      "execution_count": 92,
      "outputs": [
        {
          "output_type": "execute_result",
          "data": {
            "text/plain": [
              "한식         28425\n",
              "유흥주점       11022\n",
              "커피점/카페      9539\n",
              "분식          7167\n",
              "일식/수산물      6025\n",
              "닭/오리요리      5630\n",
              "제과제빵떡케익     3347\n",
              "패스트푸드       3105\n",
              "양식          3066\n",
              "별식/퓨전요리     2159\n",
              "중식          1950\n",
              "부페           596\n",
              "기타음식업        221\n",
              "음식배달서비스       99\n",
              "Name: 상권업종중분류명, dtype: int64"
            ]
          },
          "metadata": {},
          "execution_count": 92
        }
      ]
    },
    {
      "cell_type": "markdown",
      "metadata": {
        "id": "Ys0_SAfrpR5U"
      },
      "source": [
        "유흥주점, 커피점/카페, 패스트푸드, 제과제빵떡케익 등이 있는 곳이 20/30대가 몰리는 지역이지 않을까?"
      ]
    },
    {
      "cell_type": "code",
      "metadata": {
        "colab": {
          "base_uri": "https://localhost:8080/"
        },
        "id": "7cvV6hFdqu60",
        "outputId": "aa1d84db-c275-445d-d6b5-2f8e0a415c32"
      },
      "source": [
        "df_gg_socar_zone[df_gg_socar_zone['상권업종대분류명'] == '소매']['상권업종중분류명'].value_counts()"
      ],
      "execution_count": 93,
      "outputs": [
        {
          "output_type": "execute_result",
          "data": {
            "text/plain": [
              "의복의류             14680\n",
              "종합소매점            13878\n",
              "음/식료품소매           8701\n",
              "가정/주방/인테리어        8233\n",
              "화장품소매             4542\n",
              "사진/광학/정밀기기소매      4131\n",
              "가방/신발/액세서리        3477\n",
              "사무/문구/컴퓨터         3161\n",
              "건강/미용식품           2983\n",
              "철물/난방/건설자재소매      2546\n",
              "선물/팬시/기념품         2487\n",
              "자동차/자동차용품         2317\n",
              "운동/경기용품소매         2227\n",
              "기타판매업             1828\n",
              "가구소매              1641\n",
              "가전제품소매            1264\n",
              "책/서적/도서            940\n",
              "의약/의료품소매           939\n",
              "시계/귀금속소매           820\n",
              "중고품소매/교환           628\n",
              "취미/오락관련소매          553\n",
              "페인트/유리제품소매         388\n",
              "애견/애완/동물           365\n",
              "유아용품               319\n",
              "예술품/골동품/수석/분재      268\n",
              "종교용품판매              28\n",
              "Name: 상권업종중분류명, dtype: int64"
            ]
          },
          "metadata": {},
          "execution_count": 93
        }
      ]
    },
    {
      "cell_type": "markdown",
      "metadata": {
        "id": "QL6N_IHexduD"
      },
      "source": [
        "단편적으로 생각해봤을 때 쏘카존과 소매 업종의 상관관계는 별로 없어 보이긴 하나,\n",
        "다른 가능성을 고민해볼 필요가 있다."
      ]
    },
    {
      "cell_type": "code",
      "metadata": {
        "colab": {
          "base_uri": "https://localhost:8080/"
        },
        "id": "g0mtodsLq-4m",
        "outputId": "7e1cf895-31a4-4438-f2ca-22c1be51f9ec"
      },
      "source": [
        "df_gg_socar_zone[df_gg_socar_zone['상권업종대분류명'] == '생활서비스']['상권업종중분류명'].value_counts()"
      ],
      "execution_count": 94,
      "outputs": [
        {
          "output_type": "execute_result",
          "data": {
            "text/plain": [
              "이/미용/건강       19241\n",
              "세탁/가사서비스       5092\n",
              "자동차/이륜차        4780\n",
              "개인/가정용품수리      1774\n",
              "주택수리           1316\n",
              "광고/인쇄          1117\n",
              "인력/고용/용역알선      800\n",
              "물품기기대여          762\n",
              "기타서비스업          745\n",
              "운송/배달/택배        731\n",
              "개인서비스           713\n",
              "주유소/충전소         680\n",
              "사진              668\n",
              "대중목욕탕/휴게        642\n",
              "예식/의례/관혼상제      312\n",
              "장례/묘지           258\n",
              "대행업             178\n",
              "행사/이벤트          136\n",
              "법무세무회계           40\n",
              "Name: 상권업종중분류명, dtype: int64"
            ]
          },
          "metadata": {},
          "execution_count": 94
        }
      ]
    },
    {
      "cell_type": "markdown",
      "metadata": {
        "id": "iT8QPN4Ew-4R"
      },
      "source": [
        "미용실이 많은 지역에 유동인구가 많지 않을까?  \n",
        "세탁/가사서비스가 많은 지역에 오피스텔/원룸 등이 많이 있지 않을까?"
      ]
    },
    {
      "cell_type": "code",
      "metadata": {
        "colab": {
          "base_uri": "https://localhost:8080/"
        },
        "id": "RyiC4h_AvCnC",
        "outputId": "802e85d5-9ee9-4938-f883-b0a40273234f"
      },
      "source": [
        "df_gg_socar_zone[df_gg_socar_zone['상권업종대분류명'] == '학문/교육']['상권업종중분류명'].value_counts()"
      ],
      "execution_count": 96,
      "outputs": [
        {
          "output_type": "execute_result",
          "data": {
            "text/plain": [
              "학원-보습교습입시     6281\n",
              "학원-음악미술무용     4163\n",
              "유아교육          3646\n",
              "학원기타          3628\n",
              "학원-어학         3614\n",
              "학원-예능취미체육     1646\n",
              "도서관/독서실        835\n",
              "학문교육기타         463\n",
              "학원-자격/국가고시     291\n",
              "학원-컴퓨터         170\n",
              "학원-창업취업취미      129\n",
              "Name: 상권업종중분류명, dtype: int64"
            ]
          },
          "metadata": {},
          "execution_count": 96
        }
      ]
    },
    {
      "cell_type": "markdown",
      "metadata": {
        "id": "O6tApzL4wy4V"
      },
      "source": [
        "보습교습/유아교육/음악미술/어학/독서실 등은 아파트 단지에 많이 몰려 있지 않을까?"
      ]
    },
    {
      "cell_type": "code",
      "metadata": {
        "colab": {
          "base_uri": "https://localhost:8080/"
        },
        "id": "EyXT8X8ovKi9",
        "outputId": "29e7800b-c4ee-43a9-93c6-bc8162fd35b7"
      },
      "source": [
        "df_gg_socar_zone[df_gg_socar_zone['상권업종대분류명'] == '부동산']['상권업종중분류명'].value_counts()"
      ],
      "execution_count": 97,
      "outputs": [
        {
          "output_type": "execute_result",
          "data": {
            "text/plain": [
              "부동산중개       9732\n",
              "분양           763\n",
              "평가/개발/관리     194\n",
              "부동산관련서비스       1\n",
              "Name: 상권업종중분류명, dtype: int64"
            ]
          },
          "metadata": {},
          "execution_count": 97
        }
      ]
    },
    {
      "cell_type": "code",
      "metadata": {
        "colab": {
          "base_uri": "https://localhost:8080/"
        },
        "id": "_N26Vdh7vRvb",
        "outputId": "a5209ee2-0a63-4384-aac8-be9a6e97c8a7"
      },
      "source": [
        "df_gg_socar_zone[df_gg_socar_zone['상권업종대분류명'] == '의료']['상권업종중분류명'].value_counts()"
      ],
      "execution_count": 98,
      "outputs": [
        {
          "output_type": "execute_result",
          "data": {
            "text/plain": [
              "병원          6189\n",
              "약국/한약방      1909\n",
              "수의업          597\n",
              "유사의료업        345\n",
              "의료관련서비스업      83\n",
              "Name: 상권업종중분류명, dtype: int64"
            ]
          },
          "metadata": {},
          "execution_count": 98
        }
      ]
    },
    {
      "cell_type": "markdown",
      "metadata": {
        "id": "9b895v_3wMkP"
      },
      "source": [
        "병원/약국이 많은 지역의 상권 특성을 분석해볼 필요가 있을 것이다.(다른 상권과 상관관계 여부)  \n",
        "\n",
        "아파트 단지 주변에도 병원이 많지 않을까?"
      ]
    },
    {
      "cell_type": "code",
      "metadata": {
        "colab": {
          "base_uri": "https://localhost:8080/"
        },
        "id": "pm452588vVrr",
        "outputId": "27387d15-106c-448b-ef2c-06a58adf0f51"
      },
      "source": [
        "df_gg_socar_zone[df_gg_socar_zone['상권업종대분류명'] == '관광/여가/오락']['상권업종중분류명'].value_counts()"
      ],
      "execution_count": 99,
      "outputs": [
        {
          "output_type": "execute_result",
          "data": {
            "text/plain": [
              "무도/유흥/가무        2823\n",
              "PC/오락/당구/볼링등    2805\n",
              "요가/단전/마사지       1242\n",
              "경마/경륜/성인오락       186\n",
              "연극/영화/극장         121\n",
              "놀이/여가/취미          97\n",
              "스포츠/운동            26\n",
              "Name: 상권업종중분류명, dtype: int64"
            ]
          },
          "metadata": {},
          "execution_count": 99
        }
      ]
    },
    {
      "cell_type": "markdown",
      "metadata": {
        "id": "Zs-SEbP6v6b4"
      },
      "source": [
        "노래방, PC방, 요가/필라테스, 영화관 등이 영향을 미칠 수 있지 않을까? "
      ]
    },
    {
      "cell_type": "code",
      "metadata": {
        "colab": {
          "base_uri": "https://localhost:8080/"
        },
        "id": "AFM_8inovZyN",
        "outputId": "8d39211e-36a8-4b28-f6bc-e7daab23e84d"
      },
      "source": [
        "df_gg_socar_zone[df_gg_socar_zone['상권업종대분류명'] == '숙박']['상권업종중분류명'].value_counts()"
      ],
      "execution_count": 100,
      "outputs": [
        {
          "output_type": "execute_result",
          "data": {
            "text/plain": [
              "모텔/여관/여인숙    1638\n",
              "호텔/콘도         239\n",
              "캠프/별장/펜션      232\n",
              "민박/하숙         138\n",
              "유스호스텔           3\n",
              "Name: 상권업종중분류명, dtype: int64"
            ]
          },
          "metadata": {},
          "execution_count": 100
        }
      ]
    },
    {
      "cell_type": "markdown",
      "metadata": {
        "id": "wLe3hXhpxs9k"
      },
      "source": [
        "통상적으로 유흥가/회사 주변에 모텔이 많이 있다. 이런 지역은 유동인구가 많을 것이다.  \n",
        "쏘카존과는 어떤 관계가 있을까?"
      ]
    },
    {
      "cell_type": "code",
      "metadata": {
        "colab": {
          "base_uri": "https://localhost:8080/"
        },
        "id": "TSAGG03ivgkN",
        "outputId": "85069aab-1948-49fd-e0e6-de4b7da8322e"
      },
      "source": [
        "df_gg_socar_zone[df_gg_socar_zone['상권업종대분류명'] == '스포츠']['상권업종중분류명'].value_counts()"
      ],
      "execution_count": 101,
      "outputs": [
        {
          "output_type": "execute_result",
          "data": {
            "text/plain": [
              "실내운동시설    125\n",
              "운영관리시설     15\n",
              "실외운동시설      3\n",
              "Name: 상권업종중분류명, dtype: int64"
            ]
          },
          "metadata": {},
          "execution_count": 101
        }
      ]
    },
    {
      "cell_type": "markdown",
      "metadata": {
        "id": "iJKnCLR6vj2c"
      },
      "source": [
        "운동시설과 쏘카존이 상관관계가 있을지는 잘 모르겠다."
      ]
    }
  ]
}