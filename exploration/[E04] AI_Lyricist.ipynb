{
 "cells": [
  {
   "cell_type": "markdown",
   "id": "obvious-worth",
   "metadata": {},
   "source": [
    "# 프로젝트: 멋진 작사가 만들기"
   ]
  },
  {
   "cell_type": "markdown",
   "id": "pacific-february",
   "metadata": {},
   "source": [
    "## 1. 데이터 다운로드"
   ]
  },
  {
   "cell_type": "code",
   "execution_count": 2,
   "id": "sized-interstate",
   "metadata": {},
   "outputs": [],
   "source": [
    "# ln -s ~/data"
   ]
  },
  {
   "cell_type": "markdown",
   "id": "interracial-sector",
   "metadata": {},
   "source": [
    "## 2. 데이터 읽어오기"
   ]
  },
  {
   "cell_type": "code",
   "execution_count": 3,
   "id": "essential-committee",
   "metadata": {},
   "outputs": [],
   "source": [
    "import glob\n",
    "import os"
   ]
  },
  {
   "cell_type": "code",
   "execution_count": 4,
   "id": "joined-harassment",
   "metadata": {},
   "outputs": [
    {
     "name": "stdout",
     "output_type": "stream",
     "text": [
      "데이터 크기: 187088\n",
      "Examples:\n",
      " ['I hear you callin\\', \"Here I come baby\"', 'To save you, oh oh', \"Baby no more stallin'\", 'These hands have been longing to touch you baby', \"And now that you've come around, to seein' it my way\", \"You won't regret it baby, and you surely won't forget it baby\", \"It's unbelieveable how your body's calling for me\", \"I can just hear it callin' callin' for me My body's callin' for you\", \"My body's callin' for you\", \"My body's callin' for you\"]\n"
     ]
    }
   ],
   "source": [
    "txt_file_path = os.getenv('HOME') + '/aiffel/exploration/E04/data/lyrics/*'\n",
    "\n",
    "txt_list = glob.glob(txt_file_path)\n",
    "\n",
    "raw_corpus = []\n",
    "\n",
    "# 여러개의 txt 파일을 모두 읽어서 raw_corpus 에 담습니다.\n",
    "for txt_file in txt_list:\n",
    "    with open(txt_file, \"r\") as f:\n",
    "        raw = f.read().splitlines()\n",
    "        raw_corpus.extend(raw)\n",
    "        \n",
    "print(\"데이터 크기:\", len(raw_corpus))\n",
    "print(\"Examples:\\n\", raw_corpus[:10]) # \\n : 줄바꿈"
   ]
  },
  {
   "cell_type": "markdown",
   "id": "living-consumption",
   "metadata": {},
   "source": [
    "## 3. 데이터 정제"
   ]
  },
  {
   "cell_type": "markdown",
   "id": "binding-bookmark",
   "metadata": {},
   "source": [
    "#### 정규 표현식을 이용한 corpus 생성"
   ]
  },
  {
   "cell_type": "code",
   "execution_count": 5,
   "id": "interstate-equilibrium",
   "metadata": {},
   "outputs": [],
   "source": [
    "import re"
   ]
  },
  {
   "cell_type": "code",
   "execution_count": 6,
   "id": "swedish-press",
   "metadata": {},
   "outputs": [],
   "source": [
    "# 정규 표현식 만들기\n",
    "# 1. 소문자로 바꾸고, 양쪽 공백을 지웁니다\n",
    "# 2. 특수문자 양쪽에 공백을 넣고\n",
    "# 3. 여러개의 공백은 하나의 공백으로 바꿉니다\n",
    "# 4. a-zA-Z?.!,¿가 아닌 모든 문자를 하나의 공백으로 바꿉니다 (단, don't와 같은 어퍼스트로피는 남겨놓기)\n",
    "# 5. [Hook]처럼 대괄호로 파트 구분하는 문자 제거\n",
    "# 6. 다시 양쪽 공백을 지웁니다\n",
    "# 7. 문장 시작에는 <start>, 끝에는 <end>를 추가합니다"
   ]
  },
  {
   "cell_type": "code",
   "execution_count": 7,
   "id": "diagnostic-omaha",
   "metadata": {},
   "outputs": [
    {
     "name": "stdout",
     "output_type": "stream",
     "text": [
      "<start> don t won t sample sentence . <end>\n"
     ]
    }
   ],
   "source": [
    "def preprocess_sentence(sentence):\n",
    "    sentence = sentence.lower().strip()  # 1\n",
    "    sentence = re.sub(r\"([?.!,¿])\", r\" \\1 \", sentence)  # 2 \n",
    "    sentence = re.sub(r'[\" \"]+', \" \", sentence)  # 3\n",
    "    sentence = re.sub(r\"[^a-zA-Z?.!,¿]+\", \" \", sentence)  # 4\n",
    "  # sentence = re.sub(r'\\[[^)]*\\]', '', sentence)  # 5 \n",
    "    sentence = sentence.strip()  # 6\n",
    "    sentence = '<start> ' + sentence + ' <end>'  # 6 7\n",
    "\n",
    "    return sentence\n",
    "\n",
    "# 예시 문장 필터링 확인\n",
    "print(preprocess_sentence(\" Don't  @_won't ;;;sample        sentence.\"))"
   ]
  },
  {
   "cell_type": "markdown",
   "id": "partial-graph",
   "metadata": {},
   "source": [
    "#### 문장 정제하기"
   ]
  },
  {
   "cell_type": "code",
   "execution_count": 8,
   "id": "elect-canberra",
   "metadata": {
    "scrolled": false
   },
   "outputs": [
    {
     "name": "stdout",
     "output_type": "stream",
     "text": [
      "정제된 문장 개수:  156013\n"
     ]
    },
    {
     "data": {
      "text/plain": [
       "['<start> i hear you callin , here i come baby <end>',\n",
       " '<start> to save you , oh oh <end>',\n",
       " '<start> baby no more stallin <end>',\n",
       " '<start> these hands have been longing to touch you baby <end>',\n",
       " '<start> and now that you ve come around , to seein it my way <end>',\n",
       " '<start> it s unbelieveable how your body s calling for me <end>',\n",
       " '<start> my body s callin for you <end>',\n",
       " '<start> my body s callin for you <end>',\n",
       " '<start> my body s callin for you tell me , what s your desire <end>',\n",
       " '<start> baby your wish is my deal oh yes it is baby <end>']"
      ]
     },
     "execution_count": 8,
     "metadata": {},
     "output_type": "execute_result"
    }
   ],
   "source": [
    "# 정제된 문장 모으기\n",
    "corpus = []\n",
    "\n",
    "for sentence in raw_corpus:\n",
    "    # 원하지 않는 문장은 건너 뛰기\n",
    "    if len(sentence) == 0: continue \n",
    "    if sentence[-1] == \":\": continue\n",
    "       \n",
    "    # 정제된 문장 담기\n",
    "    preprocessed_sentence = preprocess_sentence(sentence)\n",
    "    if len(preprocessed_sentence) == 0: continue # 길이가 0인 문장 건너뛰기\n",
    "    if len(preprocessed_sentence.split()) > 15: continue # 문장 길이가 15가 넘으면 건너뛰기\n",
    "    corpus.append(preprocessed_sentence)\n",
    "    \n",
    "print(\"정제된 문장 개수: \", len(corpus))\n",
    "\n",
    "# 정제된 문장 샘플 확인(10개)\n",
    "corpus[:10]"
   ]
  },
  {
   "cell_type": "markdown",
   "id": "experimental-upgrade",
   "metadata": {},
   "source": [
    "#### 문장 토큰화"
   ]
  },
  {
   "cell_type": "code",
   "execution_count": 9,
   "id": "signed-university",
   "metadata": {},
   "outputs": [],
   "source": [
    "import tensorflow as tf"
   ]
  },
  {
   "cell_type": "code",
   "execution_count": 10,
   "id": "promising-luxembourg",
   "metadata": {},
   "outputs": [
    {
     "name": "stdout",
     "output_type": "stream",
     "text": [
      "[[  2   4 186 ...   0   0   0]\n",
      " [  2  10 588 ...   0   0   0]\n",
      " [  2  52  42 ...   0   0   0]\n",
      " ...\n",
      " [  2   4  92 ...   0   0   0]\n",
      " [  2   9 156 ...   0   0   0]\n",
      " [  2 178  16 ...   0   0   0]] <keras_preprocessing.text.Tokenizer object at 0x7fc96134f6d0>\n"
     ]
    }
   ],
   "source": [
    "# 토큰화 : Tokenizer, pad_sequences 사용\n",
    "def tokenize(corpus):\n",
    "    tokenizer = tf.keras.preprocessing.text.Tokenizer(\n",
    "        num_words = 12000,    # 12,000개의 단어사전 tokenizer 만들기\n",
    "        filters = ' ',        # 문장을 이미 정제했기 때문에 filters 미사용\n",
    "        oov_token = \"<unk>\")  # 12,000개 단어에 포함되지 못하는 단어는 <unk>로 대체\n",
    "    \n",
    "    # corpus를 이용해 tokenizer 내부의 단어사전을 완성(인덱스 구축)합니다\n",
    "    tokenizer.fit_on_texts(corpus)\n",
    "    \n",
    "    # 준비한 tokenizer를 이용해 corpus를 Tensor로 변환합니다\n",
    "    tensor = tokenizer.texts_to_sequences(corpus)\n",
    "    \n",
    "    # 입력 데이터의 시퀀스 길이를 일정하게 맞춰주기 (maxlen : 15)\n",
    "    # 만약 시퀀스가 짧다면 문장 뒤에 padding을 붙여 길이를 맞춰줌\n",
    "    tensor = tf.keras.preprocessing.sequence.pad_sequences(tensor, padding='post', maxlen=15)\n",
    "    # 단, 문장 앞에 패딩을 붙여 길이를 맞추고 싶다면 padding='pre'를 사용합니다\n",
    "    \n",
    "    print(tensor, tokenizer)\n",
    "    return tensor, tokenizer\n",
    "\n",
    "tensor, tokenizer = tokenize(corpus)"
   ]
  },
  {
   "cell_type": "code",
   "execution_count": 11,
   "id": "genetic-nicholas",
   "metadata": {
    "scrolled": true
   },
   "outputs": [
    {
     "name": "stdout",
     "output_type": "stream",
     "text": [
      "[[   2    4  186    7  838    5   90    4   68   52]\n",
      " [   2   10  588    7    5   47   47    3    0    0]\n",
      " [   2   52   42   98 6826    3    0    0    0    0]]\n"
     ]
    },
    {
     "data": {
      "text/plain": [
       "(156013, 15)"
      ]
     },
     "execution_count": 11,
     "metadata": {},
     "output_type": "execute_result"
    }
   ],
   "source": [
    "# 생성된 tensor 데이터를 3번째 행, 10번째 열까지만 출력해본다.\n",
    "print(tensor[:3, :10])\n",
    "\n",
    "# tensor 크기 확인\n",
    "tensor.shape"
   ]
  },
  {
   "cell_type": "markdown",
   "id": "informal-vegetarian",
   "metadata": {},
   "source": [
    "텐서 데이터는 모두 정수로 이루어져 있는데, tokenizer에 구축된 단어 사전의 인덱스 단어 사전이 어떻게 구축되었는지 아래와 같이 확인한다."
   ]
  },
  {
   "cell_type": "code",
   "execution_count": 12,
   "id": "pressing-train",
   "metadata": {},
   "outputs": [
    {
     "name": "stdout",
     "output_type": "stream",
     "text": [
      "1 : <unk>\n",
      "2 : <start>\n",
      "3 : <end>\n",
      "4 : i\n",
      "5 : ,\n",
      "6 : the\n",
      "7 : you\n",
      "8 : and\n",
      "9 : a\n",
      "10 : to\n",
      "11 : it\n",
      "12 : me\n",
      "13 : my\n",
      "14 : in\n",
      "15 : that\n"
     ]
    }
   ],
   "source": [
    "for idx in tokenizer.index_word:\n",
    "    print(idx, \":\", tokenizer.index_word[idx])\n",
    "    \n",
    "    if idx >= 15: break\n",
    "\n",
    "# 사전에는 없지만 0은 바로 패딩 문자 <pad>가 될 것"
   ]
  },
  {
   "cell_type": "markdown",
   "id": "arctic-bennett",
   "metadata": {},
   "source": [
    "#### 소스문장, 타켓문장 생성(X_train, y_train)"
   ]
  },
  {
   "cell_type": "code",
   "execution_count": 13,
   "id": "colonial-replication",
   "metadata": {},
   "outputs": [
    {
     "name": "stdout",
     "output_type": "stream",
     "text": [
      "[  2   4 186   7 838   5  90   4  68  52   3   0   0   0]\n",
      "[  4 186   7 838   5  90   4  68  52   3   0   0   0   0]\n"
     ]
    }
   ],
   "source": [
    "# tensor에서 마지막 토큰을 잘라내서 소스 문장을 생성합니다.\n",
    "# 마지막 토큰은 <end>가 아니라 <pad>일 가능성이 높습니다.\n",
    "src_input = tensor[:, :-1]\n",
    "\n",
    "# tensor에서 <start>를 잘라내서 타겟 문장을 생성합니다.\n",
    "tgt_input = tensor[:, 1:]\n",
    "\n",
    "print(src_input[0])\n",
    "print(tgt_input[0])"
   ]
  },
  {
   "cell_type": "markdown",
   "id": "alone-repository",
   "metadata": {},
   "source": [
    "### 평가 데이터셋 분리"
   ]
  },
  {
   "cell_type": "code",
   "execution_count": 14,
   "id": "judicial-baseline",
   "metadata": {},
   "outputs": [],
   "source": [
    "from sklearn.model_selection import train_test_split"
   ]
  },
  {
   "cell_type": "code",
   "execution_count": 15,
   "id": "distant-fleet",
   "metadata": {},
   "outputs": [
    {
     "name": "stdout",
     "output_type": "stream",
     "text": [
      "Source Train: (124810, 14)\n",
      "Target Train: (124810, 14)\n"
     ]
    }
   ],
   "source": [
    "# tensor를 train, test 데이터셋으로 각각 분리\n",
    "enc_train, enc_val, dec_train, dec_val = train_test_split(src_input,\n",
    "                                                          tgt_input,\n",
    "                                                          test_size=0.2,\n",
    "                                                          random_state=42)\n",
    "\n",
    "print(\"Source Train:\", enc_train.shape)\n",
    "print(\"Target Train:\", dec_train.shape)"
   ]
  },
  {
   "cell_type": "code",
   "execution_count": 16,
   "id": "recreational-fantasy",
   "metadata": {},
   "outputs": [
    {
     "name": "stdout",
     "output_type": "stream",
     "text": [
      "<BatchDataset shapes: ((256, 14), (256, 14)), types: (tf.int32, tf.int32)>\n"
     ]
    }
   ],
   "source": [
    "BUFFER_SIZE = len(src_input)\n",
    "BATCH_SIZE = 256\n",
    "step_per_epoch = len(src_input) // BATCH_SIZE\n",
    "\n",
    "# tokenizer가 구축한 단어사전 내 12000개와, 여기 포함되지 않은 0:<pad>를 포함하여 12001개\n",
    "VOCAB_SIZE = tokenizer.num_words + 1\n",
    "\n",
    "# 준비한 데이터 소스로부터 데이터셋을 만듭니다\n",
    "dataset = tf.data.Dataset.from_tensor_slices((src_input, tgt_input))\n",
    "dataset = dataset.shuffle(BUFFER_SIZE)\n",
    "dataset = dataset.batch(BATCH_SIZE, drop_remainder=True)\n",
    "print(dataset)"
   ]
  },
  {
   "cell_type": "markdown",
   "id": "surgical-medline",
   "metadata": {},
   "source": [
    "- 참고자료 : [tensorflow 공식문서]('https://www.tensorflow.org/api_docs/python/tf/data/Dataset')"
   ]
  },
  {
   "cell_type": "markdown",
   "id": "regulation-november",
   "metadata": {},
   "source": [
    "## 인공지능 만들기"
   ]
  },
  {
   "cell_type": "code",
   "execution_count": 17,
   "id": "junior-intro",
   "metadata": {},
   "outputs": [],
   "source": [
    "class TextGenerator(tf.keras.Model):\n",
    "    def __init__(self, vocab_size, embedding_size, hidden_size):\n",
    "        super().__init__()\n",
    "        \n",
    "        self.embedding = tf.keras.layers.Embedding(vocab_size, embedding_size)\n",
    "        self.rnn_1 = tf.keras.layers.LSTM(hidden_size, return_sequences=True)\n",
    "        self.rnn_2 = tf.keras.layers.LSTM(hidden_size, return_sequences=True)\n",
    "        self.linear = tf.keras.layers.Dense(vocab_size)\n",
    "        \n",
    "    def call(self, x):\n",
    "        out = self.embedding(x)\n",
    "        out = self.rnn_1(out)\n",
    "        out = self.rnn_2(out)\n",
    "        out = self.linear(out)\n",
    "        \n",
    "        return out\n",
    "\n",
    "embedding_size = 1024\n",
    "hidden_size = 2048\n",
    "model = TextGenerator(tokenizer.num_words + 1, embedding_size, hidden_size)"
   ]
  },
  {
   "cell_type": "code",
   "execution_count": 18,
   "id": "periodic-white",
   "metadata": {},
   "outputs": [
    {
     "data": {
      "text/plain": [
       "<tf.Tensor: shape=(256, 14, 12001), dtype=float32, numpy=\n",
       "array([[[ 3.91984395e-05, -4.83857475e-05,  1.55421018e-04, ...,\n",
       "         -3.54962423e-04,  2.82910187e-04,  2.09671503e-04],\n",
       "        [ 3.00875632e-04, -1.37776427e-04,  1.61294694e-04, ...,\n",
       "         -5.65404596e-04,  4.18907905e-04,  4.53320972e-04],\n",
       "        [ 2.72920297e-04, -6.19244995e-04,  1.20228462e-04, ...,\n",
       "         -2.01004805e-04,  6.13783137e-04,  5.72134377e-05],\n",
       "        ...,\n",
       "        [-9.65559622e-04,  3.05379916e-04, -5.50120021e-04, ...,\n",
       "         -6.52855670e-04,  8.99775070e-04,  2.13937252e-03],\n",
       "        [-1.44513801e-03,  5.13032137e-04,  1.27757667e-04, ...,\n",
       "         -5.91285760e-04,  1.15494506e-04,  2.91368226e-03],\n",
       "        [-1.88266486e-03,  7.70633749e-04,  7.77961919e-04, ...,\n",
       "         -4.80752671e-04, -6.01434207e-04,  3.67597723e-03]],\n",
       "\n",
       "       [[ 3.91984395e-05, -4.83857475e-05,  1.55421018e-04, ...,\n",
       "         -3.54962423e-04,  2.82910187e-04,  2.09671503e-04],\n",
       "        [ 2.60907342e-04, -4.87888392e-05,  1.93047235e-04, ...,\n",
       "         -6.03339926e-04,  1.07194239e-03,  4.14245267e-04],\n",
       "        [ 9.60070101e-05,  3.43441498e-04,  4.47610277e-04, ...,\n",
       "         -1.15953747e-03,  1.27635722e-03,  3.71246453e-04],\n",
       "        ...,\n",
       "        [-2.49348511e-03,  1.57135888e-03,  3.09217861e-03, ...,\n",
       "          1.93983404e-04, -1.83589628e-03,  3.79167264e-03],\n",
       "        [-2.79883854e-03,  1.76657876e-03,  3.39465216e-03, ...,\n",
       "          2.66894553e-04, -2.22090632e-03,  4.47776541e-03],\n",
       "        [-3.11792502e-03,  1.93812721e-03,  3.64932534e-03, ...,\n",
       "          3.34098906e-04, -2.51815328e-03,  5.10656321e-03]],\n",
       "\n",
       "       [[ 3.91984395e-05, -4.83857475e-05,  1.55421018e-04, ...,\n",
       "         -3.54962423e-04,  2.82910187e-04,  2.09671503e-04],\n",
       "        [-1.10344925e-04, -3.32285010e-04, -1.36475632e-04, ...,\n",
       "         -5.13899198e-04,  5.63797694e-05,  7.44005956e-04],\n",
       "        [-1.69340528e-05, -4.17941861e-04, -4.22506564e-04, ...,\n",
       "         -7.41476833e-04,  6.55375014e-04,  1.08343700e-03],\n",
       "        ...,\n",
       "        [-1.53503031e-03,  1.14392338e-03,  1.97072560e-03, ...,\n",
       "          6.39558944e-04, -8.88130569e-04,  5.29926876e-03],\n",
       "        [-1.91777700e-03,  1.27671787e-03,  2.26076320e-03, ...,\n",
       "          6.51641923e-04, -1.56223762e-03,  5.65719511e-03],\n",
       "        [-2.27518170e-03,  1.43692573e-03,  2.53446144e-03, ...,\n",
       "          6.85886363e-04, -2.13798927e-03,  6.00761827e-03]],\n",
       "\n",
       "       ...,\n",
       "\n",
       "       [[ 3.91984395e-05, -4.83857475e-05,  1.55421018e-04, ...,\n",
       "         -3.54962423e-04,  2.82910187e-04,  2.09671503e-04],\n",
       "        [-4.34578018e-04,  1.75887806e-04,  8.57988853e-05, ...,\n",
       "         -2.78102234e-04,  5.97035432e-05, -1.39134878e-04],\n",
       "        [-1.03079958e-03,  3.71304399e-04,  4.80810064e-04, ...,\n",
       "         -2.71306453e-05,  3.60703038e-04, -5.25172043e-04],\n",
       "        ...,\n",
       "        [-1.77258649e-03, -2.35065847e-04,  7.23998121e-04, ...,\n",
       "          9.25999193e-04,  1.04549620e-03,  2.63146753e-03],\n",
       "        [-2.13616202e-03, -3.02772387e-04,  6.60176098e-04, ...,\n",
       "          7.08122854e-04,  6.13078766e-04,  3.13498592e-03],\n",
       "        [-2.48420052e-03, -2.64121481e-04,  7.58544309e-04, ...,\n",
       "          4.99365211e-04, -5.49407050e-05,  3.67900636e-03]],\n",
       "\n",
       "       [[ 3.91984395e-05, -4.83857475e-05,  1.55421018e-04, ...,\n",
       "         -3.54962423e-04,  2.82910187e-04,  2.09671503e-04],\n",
       "        [-3.60963080e-04,  4.18515643e-04,  2.98891420e-04, ...,\n",
       "         -3.14490637e-04, -2.77766143e-04,  2.17176042e-04],\n",
       "        [-4.77688736e-04,  4.00983641e-04,  3.04682995e-04, ...,\n",
       "         -5.31015430e-05, -5.70592529e-04,  3.52568197e-04],\n",
       "        ...,\n",
       "        [-2.09383760e-03,  1.69609743e-03,  1.39878932e-04, ...,\n",
       "          1.71835383e-03, -1.13594683e-03,  3.00378026e-03],\n",
       "        [-2.37628212e-03,  1.79756433e-03,  6.52253162e-04, ...,\n",
       "          1.65255973e-03, -1.73562730e-03,  3.64997122e-03],\n",
       "        [-2.65116850e-03,  1.92684389e-03,  1.12523208e-03, ...,\n",
       "          1.61152112e-03, -2.22844514e-03,  4.27328981e-03]],\n",
       "\n",
       "       [[ 3.91984395e-05, -4.83857475e-05,  1.55421018e-04, ...,\n",
       "         -3.54962423e-04,  2.82910187e-04,  2.09671503e-04],\n",
       "        [ 1.96138615e-04, -4.03180544e-04,  2.67612602e-04, ...,\n",
       "         -3.95784737e-04,  7.04288832e-04,  8.46307899e-04],\n",
       "        [ 2.25862241e-05, -3.99474084e-04,  7.14966271e-04, ...,\n",
       "         -7.85747601e-04,  9.99810523e-04,  1.31535600e-03],\n",
       "        ...,\n",
       "        [-1.31881121e-03,  1.77077227e-03,  1.25748385e-03, ...,\n",
       "          6.40670361e-04, -1.03190611e-03,  1.68795232e-03],\n",
       "        [-1.54038309e-03,  2.10410403e-03,  1.89778616e-03, ...,\n",
       "          4.20406577e-04, -8.86572583e-04,  1.79320155e-03],\n",
       "        [-2.02182983e-03,  2.26920284e-03,  2.03882228e-03, ...,\n",
       "          1.46297258e-04, -6.24087988e-04,  1.85045204e-03]]],\n",
       "      dtype=float32)>"
      ]
     },
     "execution_count": 18,
     "metadata": {},
     "output_type": "execute_result"
    }
   ],
   "source": [
    "# 데이터셋에서 데이터셋 한 배치만 불러오기\n",
    "for src_sample, tgt_sample in dataset.take(1): break\n",
    "\n",
    "# 한 배치만 불러온 데이터를 모델에 넣기\n",
    "model(src_sample)"
   ]
  },
  {
   "cell_type": "code",
   "execution_count": 19,
   "id": "hybrid-opinion",
   "metadata": {
    "scrolled": true
   },
   "outputs": [
    {
     "name": "stdout",
     "output_type": "stream",
     "text": [
      "Model: \"text_generator\"\n",
      "_________________________________________________________________\n",
      "Layer (type)                 Output Shape              Param #   \n",
      "=================================================================\n",
      "embedding (Embedding)        multiple                  12289024  \n",
      "_________________________________________________________________\n",
      "lstm (LSTM)                  multiple                  25174016  \n",
      "_________________________________________________________________\n",
      "lstm_1 (LSTM)                multiple                  33562624  \n",
      "_________________________________________________________________\n",
      "dense (Dense)                multiple                  24590049  \n",
      "=================================================================\n",
      "Total params: 95,615,713\n",
      "Trainable params: 95,615,713\n",
      "Non-trainable params: 0\n",
      "_________________________________________________________________\n"
     ]
    }
   ],
   "source": [
    "model.summary()"
   ]
  },
  {
   "cell_type": "markdown",
   "id": "equal-combat",
   "metadata": {},
   "source": [
    "### 모델 학습"
   ]
  },
  {
   "cell_type": "code",
   "execution_count": 20,
   "id": "divided-season",
   "metadata": {},
   "outputs": [
    {
     "name": "stdout",
     "output_type": "stream",
     "text": [
      "Epoch 1/7\n",
      "488/488 [==============================] - 541s 1s/step - loss: 3.7536 - val_loss: 2.8638\n",
      "Epoch 2/7\n",
      "488/488 [==============================] - 542s 1s/step - loss: 2.7492 - val_loss: 2.6106\n",
      "Epoch 3/7\n",
      "488/488 [==============================] - 541s 1s/step - loss: 2.4025 - val_loss: 2.4364\n",
      "Epoch 4/7\n",
      "488/488 [==============================] - 541s 1s/step - loss: 2.0789 - val_loss: 2.3022\n",
      "Epoch 5/7\n",
      "488/488 [==============================] - 540s 1s/step - loss: 1.7648 - val_loss: 2.2103\n",
      "Epoch 6/7\n",
      "488/488 [==============================] - 538s 1s/step - loss: 1.4941 - val_loss: 2.1508\n",
      "Epoch 7/7\n",
      "488/488 [==============================] - 541s 1s/step - loss: 1.2809 - val_loss: 2.1286\n"
     ]
    }
   ],
   "source": [
    "optimizer = tf.keras.optimizers.Adam()\n",
    "loss = tf.keras.losses.SparseCategoricalCrossentropy(\n",
    "    from_logits=True, reduction='none')\n",
    "\n",
    "model.compile(loss=loss, optimizer=optimizer)\n",
    "history = model.fit(enc_train, dec_train, epochs=7, batch_size=256, validation_data=(enc_val, dec_val), verbose=1)"
   ]
  },
  {
   "cell_type": "markdown",
   "id": "statistical-puppy",
   "metadata": {},
   "source": [
    "## 학습 결과 평가하기"
   ]
  },
  {
   "cell_type": "code",
   "execution_count": 22,
   "id": "practical-championship",
   "metadata": {},
   "outputs": [],
   "source": [
    "def generate_text(model, tokenizer, init_sentence=\"<strat>\", max_len=20):\n",
    "    # 테스트를 위해서 입력받은 init_sentence도 텐서로 변환합니다\n",
    "    test_input = tokenizer.texts_to_sequences([init_sentence])\n",
    "    test_tensor = tf.convert_to_tensor(test_input, dtype=tf.int64)\n",
    "    end_token = tokenizer.word_index[\"<end>\"]\n",
    "    \n",
    "    # 단어 하나씩 예측해 문장을 만듭니다\n",
    "    #    1. 입력받은 문장의 텐서를 입력합니다\n",
    "    #    2. 예측된 값 중 가장 높은 확률인 word index를 뽑아냅니다\n",
    "    #    3. 2에서 예측된 word index를 문장 뒤에 붙입니다\n",
    "    #    4. 모델이 <end>를 예측했거나, max_len에 도달했다면 문장 생성을 마칩니다\n",
    "    \n",
    "    while True:\n",
    "        # 1\n",
    "        predict = model(test_tensor)\n",
    "        # 2\n",
    "        predict_word = tf.argmax(tf.nn.softmax(predict, axis=-1), axis=-1)[:, -1]\n",
    "        # 3\n",
    "        test_tensor = tf.concat([test_tensor, tf.expand_dims(predict_word, axis=0)], axis=-1)\n",
    "        # 4\n",
    "        if predict_word.numpy()[0] == end_token: break\n",
    "        \n",
    "    generated = \"\"\n",
    "    # tokenizer를 이용해 word index를 단어로 하나씩 변환합니다 \n",
    "    for word_index in test_tensor[0].numpy():\n",
    "        generated += tokenizer.index_word[word_index] + \" \"\n",
    "    \n",
    "    return generated"
   ]
  },
  {
   "cell_type": "code",
   "execution_count": 23,
   "id": "chicken-slovakia",
   "metadata": {},
   "outputs": [
    {
     "data": {
      "text/plain": [
       "'<start> i love ma little nasty girl <end> '"
      ]
     },
     "execution_count": 23,
     "metadata": {},
     "output_type": "execute_result"
    }
   ],
   "source": [
    "generate_text(model, tokenizer, init_sentence=\"<start> i love\", max_len=20)"
   ]
  },
  {
   "cell_type": "markdown",
   "id": "compliant-botswana",
   "metadata": {},
   "source": [
    "## 회고"
   ]
  },
  {
   "cell_type": "markdown",
   "id": "resistant-object",
   "metadata": {},
   "source": [
    "### 데이터 정제\n",
    "- 학습 데이터 개수가 노드에서 원하는 개수보다 계속 높게 나와서 [Hook]과 같은 대괄호를 제거하기 위해 전처리 과정에서 정규표현식을 추가적으로 사용해서 제거 하였는데 생각보다 제거되는 것이 많지 않았다.\n",
    "\n",
    "\n",
    "- 처음에는 정규표현식을 적용하기 전 문장 길이가 15가 초과 되는걸 continue하게 해줬는데 결과가 좋지 않아, 정규표현식 적용 후 정제된 문장을 담는 과정에서 문장 길이가 15가 초과는 문장을 continue 시켰더니 학습 데이터의 개수가 기준 값보다 작게 나올 수 있었다."
   ]
  },
  {
   "cell_type": "markdown",
   "id": "coordinate-expense",
   "metadata": {},
   "source": [
    "### 모델 학습\n",
    "- 지난 주에 진행 했었던 E03, E04 노드는 풀잎스쿨 발표 준비와 겹쳐서 루브릭에 맞추기에만 급급했다. 운좋게도 한번 만에 Validation loss가 2.2가 나왔다고 생각했으나 Validation loss가 아닌 loss 값이 2.2로 나온 것이었다.\n",
    "\n",
    "\n",
    "- 그래서 embedding_size를 256에서 1024로, hidden_size를 1024에서 2048로 올려서 학습을 시켰는데 Validation loss가 2.2 밑으로 떨어졌다.\n",
    "\n",
    "- hidden_size를 올려서 그런지 학습하는데 시간이 너무 많이 걸려서 epoch를 7로 줄였음에도 1시간 가까운 시간이 걸렸다. 얼떨결에 validation loss는 맞췄으나 이게 과적합일 수도 있다고 생각한다. 시간이 없어서 제대로 학습시킨 건지 더 검토해보지 못하고 제출하게 되는게 아쉽다. \n",
    "\n",
    "- dateset을 합치지 않고 train set과 validation set을 분리하여 학습 시켰더니 결과가 더 좋게 나왔다. 이것도 왜 그런지는 잘 모르겠다."
   ]
  },
  {
   "cell_type": "markdown",
   "id": "champion-distance",
   "metadata": {},
   "source": [
    "### 새로 알게된 것\n",
    "- 자연어 처리를 위해서는 RNN, LSTM, 임베딩 등을 이해하여야 한다.\n",
    "\n",
    "\n",
    "- 복잡하고 헷갈리는 정규표현식을 '이렇게 사용할 수 있구나'라고 알게 되었다. 엑셀에서는 ctrl+h 만 누르면 단어, 숫자, 특수문자 등을 아주 쉽게 바꿀 수 있는데 파이썬은 이 부분이 조금 어려운 것 같다. 그렇지만 데이터 분석시에도 많이 활용되는 부분이어서 반드시 알아두어야 할 부분이다."
   ]
  },
  {
   "cell_type": "markdown",
   "id": "fluid-webster",
   "metadata": {},
   "source": [
    "### 소감\n",
    "- 프로젝트로 계속 진행하고 있지만 특히, 모델을 학습 시켰을 때 이 모델이 학습이 잘 된것인지 아직 판단할 수 있는 능력과 시간이 안되는 것 같다. 다음 노드부터는 이런 부분을 보완하기 위해 최대한 다른 분들께 여쭤가면서 진행해봐야겠다.\n",
    "\n",
    "\n",
    "- 학습 후 다양한 단어를 입력하여 작사를 시켜보았더니 아래와 같이 뭔가 2% 아쉬운 결과가 나왔다."
   ]
  },
  {
   "cell_type": "code",
   "execution_count": 24,
   "id": "deluxe-bleeding",
   "metadata": {},
   "outputs": [
    {
     "data": {
      "text/plain": [
       "'<start> he loves me , he loves me , loves me , loves me <end> '"
      ]
     },
     "execution_count": 24,
     "metadata": {},
     "output_type": "execute_result"
    }
   ],
   "source": [
    "generate_text(model, tokenizer, init_sentence=\"<start> he loves\", max_len=20)"
   ]
  },
  {
   "cell_type": "code",
   "execution_count": 25,
   "id": "overall-population",
   "metadata": {},
   "outputs": [
    {
     "data": {
      "text/plain": [
       "'<start> i hate the way you shake that thing girl <end> '"
      ]
     },
     "execution_count": 25,
     "metadata": {},
     "output_type": "execute_result"
    }
   ],
   "source": [
    "generate_text(model, tokenizer, init_sentence=\"<start> i hate\", max_len=20)"
   ]
  },
  {
   "cell_type": "code",
   "execution_count": 26,
   "id": "imperial-asian",
   "metadata": {},
   "outputs": [
    {
     "data": {
      "text/plain": [
       "'<start> you know i m bad you know it <end> '"
      ]
     },
     "execution_count": 26,
     "metadata": {},
     "output_type": "execute_result"
    }
   ],
   "source": [
    "generate_text(model, tokenizer, init_sentence=\"<start> you\", max_len=20)"
   ]
  },
  {
   "cell_type": "markdown",
   "id": "accomplished-nylon",
   "metadata": {},
   "source": [
    "### 참고자료\n",
    "- [딥러닝을 이용한 자연어 처리 입문]('https://wikidocs.net/book/2155')\n",
    "- [RNN과 LSTM을 이해해보자!]('https://ratsgo.github.io/natural%20language%20processing/2017/03/09/rnnlstm/')"
   ]
  }
 ],
 "metadata": {
  "kernelspec": {
   "display_name": "Python 3",
   "language": "python",
   "name": "python3"
  },
  "language_info": {
   "codemirror_mode": {
    "name": "ipython",
    "version": 3
   },
   "file_extension": ".py",
   "mimetype": "text/x-python",
   "name": "python",
   "nbconvert_exporter": "python",
   "pygments_lexer": "ipython3",
   "version": "3.7.9"
  }
 },
 "nbformat": 4,
 "nbformat_minor": 5
}
