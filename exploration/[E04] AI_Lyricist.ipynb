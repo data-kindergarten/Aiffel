{
 "cells": [
  {
   "cell_type": "markdown",
   "id": "brave-exposure",
   "metadata": {},
   "source": [
    "# 프로젝트: 멋진 작사가 만들기"
   ]
  },
  {
   "cell_type": "markdown",
   "id": "labeled-paragraph",
   "metadata": {},
   "source": [
    "## 1. 데이터 다운로드"
   ]
  },
  {
   "cell_type": "code",
   "execution_count": 1,
   "id": "continental-vault",
   "metadata": {},
   "outputs": [],
   "source": [
    "# ln -s ~/data"
   ]
  },
  {
   "cell_type": "markdown",
   "id": "acute-activity",
   "metadata": {},
   "source": [
    "## 2. 데이터 읽어오기"
   ]
  },
  {
   "cell_type": "code",
   "execution_count": 2,
   "id": "clean-sullivan",
   "metadata": {},
   "outputs": [
    {
     "name": "stdout",
     "output_type": "stream",
     "text": [
      "데이터 크기: 187088\n",
      "Examples:\n",
      " ['I hear you callin\\', \"Here I come baby\"', 'To save you, oh oh', \"Baby no more stallin'\", 'These hands have been longing to touch you baby', \"And now that you've come around, to seein' it my way\", \"You won't regret it baby, and you surely won't forget it baby\", \"It's unbelieveable how your body's calling for me\", \"I can just hear it callin' callin' for me My body's callin' for you\", \"My body's callin' for you\", \"My body's callin' for you\"]\n"
     ]
    }
   ],
   "source": [
    "import glob\n",
    "import os\n",
    "\n",
    "txt_file_path = os.getenv('HOME') + '/aiffel/exploration/E04/data/lyrics/*'\n",
    "\n",
    "txt_list = glob.glob(txt_file_path)\n",
    "\n",
    "raw_corpus = []\n",
    "\n",
    "# 여러개의 txt 파일을 모두 읽어서 raw_corpus 에 담습니다.\n",
    "for txt_file in txt_list:\n",
    "    with open(txt_file, \"r\") as f:\n",
    "        raw = f.read().splitlines()\n",
    "        raw_corpus.extend(raw)\n",
    "        \n",
    "print(\"데이터 크기:\", len(raw_corpus))\n",
    "print(\"Examples:\\n\", raw_corpus[:10]) # \\n : 줄바꿈"
   ]
  },
  {
   "cell_type": "markdown",
   "id": "arctic-bhutan",
   "metadata": {},
   "source": [
    "## 3. 데이터 정제하기"
   ]
  },
  {
   "cell_type": "markdown",
   "id": "auburn-advice",
   "metadata": {},
   "source": [
    "### 공백 문장 여부 체크하기"
   ]
  },
  {
   "cell_type": "code",
   "execution_count": 3,
   "id": "public-bacon",
   "metadata": {},
   "outputs": [
    {
     "name": "stdout",
     "output_type": "stream",
     "text": [
      "I hear you callin', \"Here I come baby\"\n",
      "To save you, oh oh\n",
      "Baby no more stallin'\n",
      "These hands have been longing to touch you baby\n",
      "And now that you've come around, to seein' it my way\n",
      "You won't regret it baby, and you surely won't forget it baby\n",
      "It's unbelieveable how your body's calling for me\n",
      "I can just hear it callin' callin' for me My body's callin' for you\n",
      "My body's callin' for you\n",
      "My body's callin' for you\n"
     ]
    }
   ],
   "source": [
    "for idx, sentence in enumerate(raw_corpus):\n",
    "    if len(sentence) == 0: continue\n",
    "    \n",
    "    if idx > 9: break\n",
    "    \n",
    "    print(sentence)"
   ]
  },
  {
   "cell_type": "markdown",
   "id": "romance-lindsay",
   "metadata": {},
   "source": [
    "### 토큰화(Tokenize)"
   ]
  },
  {
   "cell_type": "markdown",
   "id": "hungry-maximum",
   "metadata": {},
   "source": [
    "#### 정규 표현식을 이용한 corpus 생성"
   ]
  },
  {
   "cell_type": "code",
   "execution_count": 4,
   "id": "invisible-brush",
   "metadata": {
    "scrolled": true
   },
   "outputs": [
    {
     "name": "stdout",
     "output_type": "stream",
     "text": [
      "<start> don t won t sample sentence . <end>\n"
     ]
    }
   ],
   "source": [
    "import re\n",
    "\n",
    "# 1. 소문자로 바꾸고, 양쪽 공백을 지웁니다\n",
    "# 2. 특수문자 양쪽에 공백을 넣고\n",
    "# 3. 여러개의 공백은 하나의 공백으로 바꿉니다\n",
    "# 4. a-zA-Z?.!,¿가 아닌 모든 문자를 하나의 공백으로 바꿉니다\n",
    "# 5. 다시 양쪽 공백을 지웁니다\n",
    "# 6. 문장 시작에는 <start>, 끝에는 <end>를 추가합니다\n",
    "\n",
    "# 데이터 정제를 위한 정규 표현식 적용 함수 만들기\n",
    "def preprocess_sentence(sentence):\n",
    "    sentence = sentence.lower().strip()  # 1\n",
    "    sentence = re.sub(r\"([?.!,¿])\", r\" \\1 \", sentence)  # 2\n",
    "    sentence = re.sub(r'[\" \"]+', \" \", sentence)  # 3\n",
    "    sentence = re.sub(r\"[^a-zA-Z?.!,¿]+\", \" \", sentence)  # 4\n",
    "    sentence = re.sub(r'\\[[^)]*\\]', '', sentence)\n",
    "    sentence = sentence.strip()  # 5\n",
    "    sentence = '<start> ' + sentence + ' <end>'  # 6\n",
    "    return sentence\n",
    "\n",
    "# 예시 문장 필터링 확인\n",
    "print(preprocess_sentence(\" Don't  @_won't ;;;sample        sentence.\"))"
   ]
  },
  {
   "cell_type": "markdown",
   "id": "heated-crash",
   "metadata": {},
   "source": [
    "#### 소스 문장, 타겟 문장 만들기"
   ]
  },
  {
   "cell_type": "code",
   "execution_count": 5,
   "id": "bulgarian-positive",
   "metadata": {
    "scrolled": false
   },
   "outputs": [
    {
     "data": {
      "text/plain": [
       "['<start> i hear you callin , here i come baby <end>',\n",
       " '<start> to save you , oh oh <end>',\n",
       " '<start> baby no more stallin <end>',\n",
       " '<start> these hands have been longing to touch you baby <end>',\n",
       " '<start> and now that you ve come around , to seein it my way <end>',\n",
       " '<start> you won t regret it baby , and you surely won t forget it baby <end>',\n",
       " '<start> it s unbelieveable how your body s calling for me <end>',\n",
       " '<start> my body s callin for you <end>',\n",
       " '<start> my body s callin for you <end>',\n",
       " '<start> my body s callin for you tell me , what s your desire <end>']"
      ]
     },
     "execution_count": 5,
     "metadata": {},
     "output_type": "execute_result"
    }
   ],
   "source": [
    "# 정제된 문장 모으기\n",
    "corpus = []\n",
    "\n",
    "for sentence in raw_corpus:\n",
    "    # 원하지 않는 문장은 건너 뛰기\n",
    "    if len(sentence) == 0: continue\n",
    "    if len(sentence.split()) > 13: continue  # 토큰의 개수가 13개가 넘어가면 학습 데이터에서 제외\n",
    "        \n",
    "    # 정제된 문장 담기\n",
    "    preprocessed_sentence = preprocess_sentence(sentence)\n",
    "    corpus.append(preprocessed_sentence)\n",
    "    \n",
    "# 정제된 문장 샘플 확인(10개)\n",
    "corpus[:10]"
   ]
  },
  {
   "cell_type": "markdown",
   "id": "executed-disease",
   "metadata": {},
   "source": [
    "#### 텐서플로우 패키지를 이용해 벡터화"
   ]
  },
  {
   "cell_type": "code",
   "execution_count": 6,
   "id": "willing-speech",
   "metadata": {},
   "outputs": [
    {
     "name": "stdout",
     "output_type": "stream",
     "text": [
      "[[  2   5 187 ...   0   0   0]\n",
      " [  2  10 576 ...   0   0   0]\n",
      " [  2  51  38 ...   0   0   0]\n",
      " ...\n",
      " [  2   5  93 ...   0   0   0]\n",
      " [  2   9 157 ...   0   0   0]\n",
      " [  2 164  15 ...   0   0   0]] <keras_preprocessing.text.Tokenizer object at 0x7f6805346b50>\n"
     ]
    }
   ],
   "source": [
    "import tensorflow as tf\n",
    "# 토큰화 : Tokenizer, pad_sequences 사용\n",
    "\n",
    "def tokenize(corpus):\n",
    "    tokenizer = tf.keras.preprocessing.text.Tokenizer(\n",
    "        num_words = 12000,    # 12,000개의 단어장 tokenizer 만들기\n",
    "        filters = ' ',        # 문장을 이미 정제했기 때문에 filters 미사용\n",
    "        oov_token = \"<unk>\")  # 12,000개 단어에 포함되지 못하는 단어는 <unk>로 대체\n",
    "    \n",
    "    # corpus를 이용해 tokenizer 내부의 단어장을 완성합니다\n",
    "    tokenizer.fit_on_texts(corpus)\n",
    "    \n",
    "    # 준비한 tokenizer를 이용해 corpus를 Tensor로 변환합니다\n",
    "    tensor = tokenizer.texts_to_sequences(corpus)\n",
    "    \n",
    "    # 입력 데이터의 시퀀스 길이를 일정하게 맞춰주는 작업 (maxlen : 15)\n",
    "    # 만약 시퀀스가 짧다면 문장 뒤에 padding을 붙여 길이를 맞춰줌\n",
    "    tensor = tf.keras.preprocessing.sequence.pad_sequences(tensor, padding='post', maxlen=15)\n",
    "    # 문장 앞에 패딩을 붙여 길이를 맞추고 싶다면 padding='pre'를 사용합니다\n",
    "    \n",
    "    print(tensor, tokenizer)\n",
    "    return tensor, tokenizer\n",
    "\n",
    "tensor, tokenizer = tokenize(corpus)"
   ]
  },
  {
   "cell_type": "code",
   "execution_count": 7,
   "id": "exotic-exemption",
   "metadata": {
    "scrolled": true
   },
   "outputs": [
    {
     "name": "stdout",
     "output_type": "stream",
     "text": [
      "[[   2    5  187    7  821    4   92    5   67   51]\n",
      " [   2   10  576    7    4   41   41    3    0    0]\n",
      " [   2   51   38   99 7077    3    0    0    0    0]]\n"
     ]
    },
    {
     "data": {
      "text/plain": [
       "(163272, 15)"
      ]
     },
     "execution_count": 7,
     "metadata": {},
     "output_type": "execute_result"
    }
   ],
   "source": [
    "# 생성된 tensor 데이터를 3번째 행, 10번째 열까지만 출력해본다.\n",
    "print(tensor[:3, :10])\n",
    "\n",
    "# tensor 크기 확인\n",
    "tensor.shape"
   ]
  },
  {
   "cell_type": "markdown",
   "id": "individual-davis",
   "metadata": {},
   "source": [
    "텐서 데이터는 모두 정수로 이루어져 있는데, tokenizer에 구축된 단어 사전의 인덱스 단어 사전이 어떻게 구축되었는지 아래와 같이 확인한다."
   ]
  },
  {
   "cell_type": "code",
   "execution_count": 8,
   "id": "outdoor-bulgarian",
   "metadata": {},
   "outputs": [
    {
     "name": "stdout",
     "output_type": "stream",
     "text": [
      "1 : <unk>\n",
      "2 : <start>\n",
      "3 : <end>\n",
      "4 : ,\n",
      "5 : i\n",
      "6 : the\n",
      "7 : you\n",
      "8 : and\n",
      "9 : a\n",
      "10 : to\n",
      "11 : it\n",
      "12 : me\n",
      "13 : my\n",
      "14 : in\n",
      "15 : t\n"
     ]
    }
   ],
   "source": [
    "for idx in tokenizer.index_word:\n",
    "    print(idx, \":\", tokenizer.index_word[idx])\n",
    "    \n",
    "    if idx >= 15: break\n",
    "\n",
    "# 사전에는 없지만 0은 바로 패딩 문자 <pad>가 될 것"
   ]
  },
  {
   "cell_type": "code",
   "execution_count": 9,
   "id": "optimum-baltimore",
   "metadata": {},
   "outputs": [
    {
     "name": "stdout",
     "output_type": "stream",
     "text": [
      "[  2   5 187   7 821   4  92   5  67  51   3   0   0   0]\n",
      "[  5 187   7 821   4  92   5  67  51   3   0   0   0   0]\n"
     ]
    }
   ],
   "source": [
    "# tensor에서 마지막 토큰을 잘라내서 소스 문장을 생성합니다\n",
    "# 마지막 토큰은 <end>가 아니라 <pad>일 가능성이 높습니다.\n",
    "src_input = tensor[:, :-1]\n",
    "\n",
    "# tensor에서 <start>를 잘라내서 타겟 문장을 생성합니다.\n",
    "tgt_input = tensor[:, 1:]\n",
    "\n",
    "print(src_input[0])\n",
    "print(tgt_input[0])"
   ]
  },
  {
   "cell_type": "code",
   "execution_count": 10,
   "id": "going-scotland",
   "metadata": {},
   "outputs": [
    {
     "data": {
      "text/plain": [
       "(163272, 14)"
      ]
     },
     "execution_count": 10,
     "metadata": {},
     "output_type": "execute_result"
    }
   ],
   "source": [
    "src_input.shape"
   ]
  },
  {
   "cell_type": "code",
   "execution_count": 11,
   "id": "associate-cookbook",
   "metadata": {},
   "outputs": [
    {
     "data": {
      "text/plain": [
       "(163272, 14)"
      ]
     },
     "execution_count": 11,
     "metadata": {},
     "output_type": "execute_result"
    }
   ],
   "source": [
    "tgt_input.shape"
   ]
  },
  {
   "cell_type": "markdown",
   "id": "material-monkey",
   "metadata": {},
   "source": [
    "## 4. 평가 데이터셋 분리"
   ]
  },
  {
   "cell_type": "code",
   "execution_count": 12,
   "id": "downtown-senate",
   "metadata": {},
   "outputs": [
    {
     "name": "stdout",
     "output_type": "stream",
     "text": [
      "enc_train 개수:  130617\n",
      "dec_train 개수:  130617\n"
     ]
    }
   ],
   "source": [
    "from sklearn.model_selection import train_test_split\n",
    "\n",
    "# tensor를 train, test 데이터셋으로 각각 분리\n",
    "enc_train, enc_val, dec_train, dec_val = train_test_split(src_input,\n",
    "                                                          tgt_input,\n",
    "                                                          test_size=0.2)\n",
    "\n",
    "print('enc_train 개수: ', len(enc_train))\n",
    "print('dec_train 개수: ', len(dec_train))"
   ]
  },
  {
   "cell_type": "code",
   "execution_count": 13,
   "id": "parental-probe",
   "metadata": {},
   "outputs": [
    {
     "name": "stdout",
     "output_type": "stream",
     "text": [
      "Source Train: (130617, 14)\n",
      "Target Train: (130617, 14)\n"
     ]
    }
   ],
   "source": [
    "print(\"Source Train:\", enc_train.shape)\n",
    "print(\"Target Train:\", dec_train.shape)"
   ]
  },
  {
   "cell_type": "code",
   "execution_count": 14,
   "id": "anticipated-banana",
   "metadata": {},
   "outputs": [
    {
     "data": {
      "text/plain": [
       "<BatchDataset shapes: ((256, 14), (256, 14)), types: (tf.int32, tf.int32)>"
      ]
     },
     "execution_count": 14,
     "metadata": {},
     "output_type": "execute_result"
    }
   ],
   "source": [
    "BUFFER_SIZE = len(src_input)\n",
    "BATCH_SIZE = 256\n",
    "step_per_epoch = len(src_input) // BATCH_SIZE\n",
    "\n",
    "# tokenizer가 구축한 단어사전 내 12000개와, 여기 포함되지 않은 0:<pad>를 포함하여 12001개\n",
    "VOCAB_SIZE = tokenizer.num_words + 1\n",
    "\n",
    "# 준비한 데이터 소스로부터 데이터셋을 만듭니다\n",
    "dataset = tf.data.Dataset.from_tensor_slices((src_input, tgt_input))\n",
    "dataset = dataset.shuffle(BUFFER_SIZE)\n",
    "dataset = dataset.batch(BATCH_SIZE, drop_remainder=True)\n",
    "dataset"
   ]
  },
  {
   "cell_type": "markdown",
   "id": "hundred-cocktail",
   "metadata": {},
   "source": [
    "## 5. 인공지능 만들기"
   ]
  },
  {
   "cell_type": "code",
   "execution_count": 15,
   "id": "continuing-grill",
   "metadata": {},
   "outputs": [],
   "source": [
    "class TextGenerator(tf.keras.Model):\n",
    "    def __init__(self, vocab_size, embedding_size, hidden_size):\n",
    "        super().__init__()\n",
    "        \n",
    "        self.embedding = tf.keras.layers.Embedding(vocab_size, embedding_size)\n",
    "        self.rnn_1 = tf.keras.layers.LSTM(hidden_size, return_sequences=True)\n",
    "        self.rnn_2 = tf.keras.layers.LSTM(hidden_size, return_sequences=True)\n",
    "        self.linear = tf.keras.layers.Dense(vocab_size)\n",
    "        \n",
    "    def call(self, x):\n",
    "        out = self.embedding(x)\n",
    "        out = self.rnn_1(out)\n",
    "        out = self.rnn_2(out)\n",
    "        out = self.linear(out)\n",
    "        \n",
    "        return out\n",
    "\n",
    "embedding_size = 256\n",
    "hidden_size = 1024\n",
    "model = TextGenerator(tokenizer.num_words + 1, embedding_size, hidden_size)"
   ]
  },
  {
   "cell_type": "code",
   "execution_count": 16,
   "id": "palestinian-paper",
   "metadata": {},
   "outputs": [
    {
     "data": {
      "text/plain": [
       "<tf.Tensor: shape=(256, 14, 12001), dtype=float32, numpy=\n",
       "array([[[ 7.81740164e-05, -2.82949732e-05, -1.44942474e-04, ...,\n",
       "          2.94208992e-04, -2.20224552e-04, -1.20946424e-04],\n",
       "        [ 1.63521938e-04, -2.28375884e-05,  2.68275180e-05, ...,\n",
       "          4.17186850e-04, -4.19628457e-04, -1.41565579e-05],\n",
       "        [ 2.99146544e-04,  1.62833036e-04, -1.74058310e-04, ...,\n",
       "          6.37780468e-04, -1.96775931e-04, -2.73265669e-05],\n",
       "        ...,\n",
       "        [-2.25254800e-04,  6.48849586e-04, -3.01928783e-04, ...,\n",
       "          8.35007115e-04, -4.90190578e-04,  6.37940946e-04],\n",
       "        [-2.95354635e-04,  4.40775329e-04, -1.48666499e-04, ...,\n",
       "          5.19652502e-04, -1.23682595e-03,  8.96741985e-04],\n",
       "        [-3.38146579e-04,  2.00698618e-04,  2.79358410e-05, ...,\n",
       "          1.86800011e-04, -1.94472261e-03,  1.15084101e-03]],\n",
       "\n",
       "       [[ 7.81740164e-05, -2.82949732e-05, -1.44942474e-04, ...,\n",
       "          2.94208992e-04, -2.20224552e-04, -1.20946424e-04],\n",
       "        [ 9.84691942e-05,  2.97257880e-04, -2.37489832e-04, ...,\n",
       "          4.34038084e-04, -1.51536042e-05, -1.30484303e-04],\n",
       "        [ 1.07809996e-04,  4.52877866e-04, -1.10558642e-04, ...,\n",
       "          3.03421868e-04, -8.51690420e-05, -3.08377523e-04],\n",
       "        ...,\n",
       "        [ 3.79251433e-05,  5.20650065e-04,  8.11187492e-05, ...,\n",
       "         -2.17143781e-04, -4.49008076e-04,  8.72517354e-04],\n",
       "        [-4.74599256e-05,  4.45576850e-04,  5.26840668e-05, ...,\n",
       "         -1.47805782e-04, -7.16530369e-04,  1.14174979e-03],\n",
       "        [-8.87030037e-05,  2.98121158e-04,  1.30530898e-04, ...,\n",
       "         -2.27957338e-04, -1.20291801e-03,  1.36027706e-03]],\n",
       "\n",
       "       [[ 7.81740164e-05, -2.82949732e-05, -1.44942474e-04, ...,\n",
       "          2.94208992e-04, -2.20224552e-04, -1.20946424e-04],\n",
       "        [ 2.83819008e-05, -8.17017572e-05, -3.85280931e-04, ...,\n",
       "          3.77558026e-04, -2.68997042e-04, -3.05770023e-04],\n",
       "        [-6.14369055e-05, -7.89210899e-05, -3.15521233e-04, ...,\n",
       "          6.12542208e-04, -2.67606054e-04, -3.47442343e-04],\n",
       "        ...,\n",
       "        [-4.11426998e-04, -4.05609055e-04, -1.76247791e-04, ...,\n",
       "          2.52364465e-04, -3.72705376e-03,  1.28517626e-03],\n",
       "        [-4.22009587e-04, -6.31774368e-04,  3.03963661e-05, ...,\n",
       "         -1.13852257e-04, -4.10787854e-03,  1.53248152e-03],\n",
       "        [-4.35811933e-04, -8.45380302e-04,  2.34606734e-04, ...,\n",
       "         -4.29313775e-04, -4.40817466e-03,  1.79584429e-03]],\n",
       "\n",
       "       ...,\n",
       "\n",
       "       [[ 7.81740164e-05, -2.82949732e-05, -1.44942474e-04, ...,\n",
       "          2.94208992e-04, -2.20224552e-04, -1.20946424e-04],\n",
       "        [ 2.17442648e-04, -1.39736576e-05,  2.03465170e-05, ...,\n",
       "          6.22616091e-04, -6.29700546e-04, -3.10549833e-04],\n",
       "        [ 1.24459693e-04, -2.79847554e-05,  9.65174913e-05, ...,\n",
       "          7.48013554e-04, -9.32488707e-04, -4.01337922e-04],\n",
       "        ...,\n",
       "        [ 1.07311091e-04, -9.82640311e-04,  3.63203988e-04, ...,\n",
       "          1.79662922e-04, -1.48487883e-03,  4.36130998e-04],\n",
       "        [ 7.18498195e-05, -1.06072275e-03,  4.06351057e-04, ...,\n",
       "         -1.46039078e-04, -2.11582240e-03,  7.18921481e-04],\n",
       "        [ 3.02258086e-05, -1.14354200e-03,  4.64202487e-04, ...,\n",
       "         -4.35664406e-04, -2.68446677e-03,  1.02005037e-03]],\n",
       "\n",
       "       [[ 7.81740164e-05, -2.82949732e-05, -1.44942474e-04, ...,\n",
       "          2.94208992e-04, -2.20224552e-04, -1.20946424e-04],\n",
       "        [ 9.84691942e-05,  2.97257880e-04, -2.37489832e-04, ...,\n",
       "          4.34038084e-04, -1.51536042e-05, -1.30484303e-04],\n",
       "        [ 1.07809996e-04,  4.52877866e-04, -1.10558642e-04, ...,\n",
       "          3.03421868e-04, -8.51690420e-05, -3.08377523e-04],\n",
       "        ...,\n",
       "        [-3.79870762e-04, -1.23217629e-04, -1.86097401e-03, ...,\n",
       "          6.65867992e-04,  1.21779172e-04, -3.49962560e-04],\n",
       "        [-5.47081640e-04, -1.68802057e-04, -2.09997990e-03, ...,\n",
       "          1.02467439e-03,  3.51637747e-04, -9.20792008e-05],\n",
       "        [-5.58967411e-04, -2.85731483e-04, -2.12216610e-03, ...,\n",
       "          9.62155696e-04,  1.31841134e-05,  7.19260061e-05]],\n",
       "\n",
       "       [[ 7.81740164e-05, -2.82949732e-05, -1.44942474e-04, ...,\n",
       "          2.94208992e-04, -2.20224552e-04, -1.20946424e-04],\n",
       "        [ 3.61755840e-04, -1.23781429e-04, -2.93894962e-04, ...,\n",
       "          5.62628440e-04, -1.47343424e-04, -2.01634131e-04],\n",
       "        [ 6.68331166e-04, -1.64156343e-04, -2.86243798e-04, ...,\n",
       "          6.88791159e-04, -2.66735646e-04, -3.23093642e-04],\n",
       "        ...,\n",
       "        [-3.25337111e-04,  1.85695128e-04,  2.72938836e-04, ...,\n",
       "         -7.13166723e-04, -1.23933097e-03,  7.88439589e-04],\n",
       "        [-3.03409761e-04,  2.54502083e-05,  4.32262605e-04, ...,\n",
       "         -9.63615370e-04, -1.83296797e-03,  1.10490085e-03],\n",
       "        [-2.81467626e-04, -1.57666494e-04,  5.93033212e-04, ...,\n",
       "         -1.17777078e-03, -2.38602678e-03,  1.40940759e-03]]],\n",
       "      dtype=float32)>"
      ]
     },
     "execution_count": 16,
     "metadata": {},
     "output_type": "execute_result"
    }
   ],
   "source": [
    "# 데이터셋에서 데이터 한 배치만 불러온다.\n",
    "for src_sample, tgt_sample in dataset.take(1): break\n",
    "\n",
    "# 한 배치만 불러온 데이터를 모델에 넣어본다.\n",
    "model(src_sample)"
   ]
  },
  {
   "cell_type": "code",
   "execution_count": 17,
   "id": "scenic-insurance",
   "metadata": {},
   "outputs": [
    {
     "name": "stdout",
     "output_type": "stream",
     "text": [
      "Model: \"text_generator\"\n",
      "_________________________________________________________________\n",
      "Layer (type)                 Output Shape              Param #   \n",
      "=================================================================\n",
      "embedding (Embedding)        multiple                  3072256   \n",
      "_________________________________________________________________\n",
      "lstm (LSTM)                  multiple                  5246976   \n",
      "_________________________________________________________________\n",
      "lstm_1 (LSTM)                multiple                  8392704   \n",
      "_________________________________________________________________\n",
      "dense (Dense)                multiple                  12301025  \n",
      "=================================================================\n",
      "Total params: 29,012,961\n",
      "Trainable params: 29,012,961\n",
      "Non-trainable params: 0\n",
      "_________________________________________________________________\n"
     ]
    }
   ],
   "source": [
    "model.summary()"
   ]
  },
  {
   "cell_type": "code",
   "execution_count": 18,
   "id": "regulated-stylus",
   "metadata": {},
   "outputs": [
    {
     "name": "stdout",
     "output_type": "stream",
     "text": [
      "Epoch 1/10\n",
      "637/637 [==============================] - 223s 347ms/step - loss: 3.9827\n",
      "Epoch 2/10\n",
      "637/637 [==============================] - 225s 353ms/step - loss: 3.0767\n",
      "Epoch 3/10\n",
      "637/637 [==============================] - 226s 354ms/step - loss: 2.8721\n",
      "Epoch 4/10\n",
      "637/637 [==============================] - 226s 354ms/step - loss: 2.7264\n",
      "Epoch 5/10\n",
      "637/637 [==============================] - 225s 354ms/step - loss: 2.6024\n",
      "Epoch 6/10\n",
      "637/637 [==============================] - 227s 356ms/step - loss: 2.4908\n",
      "Epoch 7/10\n",
      "637/637 [==============================] - 227s 355ms/step - loss: 2.3827\n",
      "Epoch 8/10\n",
      "637/637 [==============================] - 226s 355ms/step - loss: 2.2862\n",
      "Epoch 9/10\n",
      "637/637 [==============================] - 226s 355ms/step - loss: 2.1920\n",
      "Epoch 10/10\n",
      "637/637 [==============================] - 226s 354ms/step - loss: 2.1183\n"
     ]
    },
    {
     "data": {
      "text/plain": [
       "<tensorflow.python.keras.callbacks.History at 0x7f675e4212d0>"
      ]
     },
     "execution_count": 18,
     "metadata": {},
     "output_type": "execute_result"
    }
   ],
   "source": [
    "optimizer = tf.keras.optimizers.Adam()\n",
    "loss = tf.keras.losses.SparseCategoricalCrossentropy(\n",
    "    from_logits=True, reduction='none')\n",
    "\n",
    "model.compile(loss=loss, optimizer=optimizer)\n",
    "model.fit(dataset, epochs=10)"
   ]
  },
  {
   "cell_type": "markdown",
   "id": "foster-ecuador",
   "metadata": {},
   "source": [
    "## 6. 학습 결과 평가하기"
   ]
  },
  {
   "cell_type": "code",
   "execution_count": 19,
   "id": "angry-millennium",
   "metadata": {},
   "outputs": [],
   "source": [
    "def generate_text(model, tokenizer, init_sentence=\"<strat>\", max_len=20):\n",
    "    # 테스트를 위해서 입력받은 init_sentence도 텐서로 변환합니다\n",
    "    test_input = tokenizer.texts_to_sequences([init_sentence])\n",
    "    test_tensor = tf.convert_to_tensor(test_input, dtype=tf.int64)\n",
    "    end_token = tokenizer.word_index[\"<end>\"]\n",
    "    \n",
    "    # 단어 하나씩 예측해 문장을 만듭니다\n",
    "    #    1. 입력받은 문장의 텐서를 입력합니다\n",
    "    #    2. 예측된 값 중 가장 높은 확률인 word index를 뽑아냅니다\n",
    "    #    3. 2에서 예측된 word index를 문장 뒤에 붙입니다\n",
    "    #    4. 모델이 <end>를 예측했거나, max_len에 도달했다면 문장 생성을 마칩니다\n",
    "    \n",
    "    while True:\n",
    "        # 1\n",
    "        predict = model(test_tensor)\n",
    "        # 2\n",
    "        predict_word = tf.argmax(tf.nn.softmax(predict, axis=-1), axis=-1)[:, -1]\n",
    "        # 3\n",
    "        test_tensor = tf.concat([test_tensor, tf.expand_dims(predict_word, axis=0)], axis=-1)\n",
    "        # 4\n",
    "        if predict_word.numpy()[0] == end_token: break\n",
    "        \n",
    "    generated = \"\"\n",
    "    # tokenizer를 이용해 word index를 단어로 하나씩 변환합니다 \n",
    "    for word_index in test_tensor[0].numpy():\n",
    "        generated += tokenizer.index_word[word_index] + \" \"\n",
    "    \n",
    "    return generated"
   ]
  },
  {
   "cell_type": "code",
   "execution_count": 21,
   "id": "hybrid-walker",
   "metadata": {},
   "outputs": [
    {
     "data": {
      "text/plain": [
       "'<start> i love you , i m not gonna crack <end> '"
      ]
     },
     "execution_count": 21,
     "metadata": {},
     "output_type": "execute_result"
    }
   ],
   "source": [
    "generate_text(model, tokenizer, init_sentence=\"<start> i love\", max_len=20)"
   ]
  },
  {
   "cell_type": "markdown",
   "id": "empty-summer",
   "metadata": {},
   "source": [
    "## 회고"
   ]
  },
  {
   "cell_type": "markdown",
   "id": "competitive-works",
   "metadata": {},
   "source": [
    "### 새로 알게된 것\n",
    "- 자연어 처리를 위해서는 RNN, LSTM, 임베딩 등을 이해하여야 한다.\n",
    "- 복잡하고 헷갈리는 정규표현식을 '이렇게 사용할 수 있구나'라고 알게 되었다. 엑셀에서는 ctrl+h 만 누르면 단어, 숫자, 특수문자 등을 아주 쉽게 바꿀 수 있는데 파이썬은 이 부분이 조금 어려운 것 같다. 그렇지만 데이터 분석시에도 많이 활용되는 부분이어서 반드시 알아두어야 할 부분이다."
   ]
  },
  {
   "cell_type": "markdown",
   "id": "parallel-sheep",
   "metadata": {},
   "source": [
    "### 아쉬운 점\n",
    "- 지난 주에 진행 했었던 E03, E04 노드는 풀잎스쿨 발표 준비와 겹쳐서 루브릭에 맞추기에만 급급했다. 운좋게도 한번 만에 Validation loss가 2.2 이하로 나왔으나 코드를 이해 못한 부분이 많다.\n",
    "- [Hook]과 같은 대괄호를 제거하기 위해 전처리 과정에서 정규표현식을 추가적으로 사용해서 제거 하였는데 생각보다 제거되는 것이 많지 않아 학습데이터 개수가 124960개 보다 많이 나왔다."
   ]
  },
  {
   "cell_type": "markdown",
   "id": "controversial-czech",
   "metadata": {},
   "source": [
    "### 소감\n",
    "- 다른 파일에서 학습 후 다양한 단어를 입력하여 작사를 하게 했는데 꽤 그럴듯 했다."
   ]
  },
  {
   "cell_type": "markdown",
   "id": "enabling-necklace",
   "metadata": {},
   "source": [
    "### 참고자료\n",
    "- [딥러닝을 이용한 자연어 처리 입문]('https://wikidocs.net/book/2155')\n",
    "- [RNN과 LSTM을 이해해보자!]('https://ratsgo.github.io/natural%20language%20processing/2017/03/09/rnnlstm/')"
   ]
  }
 ],
 "metadata": {
  "kernelspec": {
   "display_name": "Python 3",
   "language": "python",
   "name": "python3"
  },
  "language_info": {
   "codemirror_mode": {
    "name": "ipython",
    "version": 3
   },
   "file_extension": ".py",
   "mimetype": "text/x-python",
   "name": "python",
   "nbconvert_exporter": "python",
   "pygments_lexer": "ipython3",
   "version": "3.7.9"
  }
 },
 "nbformat": 4,
 "nbformat_minor": 5
}
