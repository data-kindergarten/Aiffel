{
 "cells": [
  {
   "cell_type": "markdown",
   "id": "convenient-omega",
   "metadata": {},
   "source": [
    "# 프로젝트명 : Movielens 영화 추천 실습"
   ]
  },
  {
   "cell_type": "markdown",
   "id": "cultural-layout",
   "metadata": {},
   "source": [
    "이번에 활용할 데이터셋은 추천시스템의 MNIST라고 부를만한 Movielens 데이터입니다.\n",
    "- 유저가 영화에 대해 평점을 매긴 데이터가 데이터 크기 별로 있습니다. MovieLens 1M Dataset 사용을 권장합니다.\n",
    "- 별점 데이터는 대표적인 explicit 데이터입니다. 하지만 implicit 데이터로 간주하고 테스트해볼 수 있습니다.\n",
    "- 별점을 시청횟수로 해석해서 생각하겠습니다.\n",
    "- 또한 유저가 3점 미만으로 준 데이터는 선호하지 않는다고 가정하고 제외하겠습니다."
   ]
  },
  {
   "cell_type": "markdown",
   "id": "vertical-credits",
   "metadata": {},
   "source": [
    "## 1. 데이터 준비와 전처리"
   ]
  },
  {
   "cell_type": "markdown",
   "id": "distant-point",
   "metadata": {},
   "source": [
    "Movielens 데이터는 rating.dat 안에 이미 인덱싱까지 완료된 사용자-영화-평점 데이터가 깔끔하게 정리되어 있습니다."
   ]
  },
  {
   "cell_type": "code",
   "execution_count": 61,
   "id": "blessed-klein",
   "metadata": {},
   "outputs": [
    {
     "data": {
      "text/html": [
       "<div>\n",
       "<style scoped>\n",
       "    .dataframe tbody tr th:only-of-type {\n",
       "        vertical-align: middle;\n",
       "    }\n",
       "\n",
       "    .dataframe tbody tr th {\n",
       "        vertical-align: top;\n",
       "    }\n",
       "\n",
       "    .dataframe thead th {\n",
       "        text-align: right;\n",
       "    }\n",
       "</style>\n",
       "<table border=\"1\" class=\"dataframe\">\n",
       "  <thead>\n",
       "    <tr style=\"text-align: right;\">\n",
       "      <th></th>\n",
       "      <th>user_id</th>\n",
       "      <th>movie_id</th>\n",
       "      <th>rating</th>\n",
       "      <th>timestamp</th>\n",
       "    </tr>\n",
       "  </thead>\n",
       "  <tbody>\n",
       "    <tr>\n",
       "      <th>0</th>\n",
       "      <td>1</td>\n",
       "      <td>1193</td>\n",
       "      <td>5</td>\n",
       "      <td>978300760</td>\n",
       "    </tr>\n",
       "    <tr>\n",
       "      <th>1</th>\n",
       "      <td>1</td>\n",
       "      <td>661</td>\n",
       "      <td>3</td>\n",
       "      <td>978302109</td>\n",
       "    </tr>\n",
       "    <tr>\n",
       "      <th>2</th>\n",
       "      <td>1</td>\n",
       "      <td>914</td>\n",
       "      <td>3</td>\n",
       "      <td>978301968</td>\n",
       "    </tr>\n",
       "    <tr>\n",
       "      <th>3</th>\n",
       "      <td>1</td>\n",
       "      <td>3408</td>\n",
       "      <td>4</td>\n",
       "      <td>978300275</td>\n",
       "    </tr>\n",
       "    <tr>\n",
       "      <th>4</th>\n",
       "      <td>1</td>\n",
       "      <td>2355</td>\n",
       "      <td>5</td>\n",
       "      <td>978824291</td>\n",
       "    </tr>\n",
       "  </tbody>\n",
       "</table>\n",
       "</div>"
      ],
      "text/plain": [
       "   user_id  movie_id  rating  timestamp\n",
       "0        1      1193       5  978300760\n",
       "1        1       661       3  978302109\n",
       "2        1       914       3  978301968\n",
       "3        1      3408       4  978300275\n",
       "4        1      2355       5  978824291"
      ]
     },
     "execution_count": 61,
     "metadata": {},
     "output_type": "execute_result"
    }
   ],
   "source": [
    "import os\n",
    "import pandas as pd\n",
    "rating_file_path = os.getenv('HOME') + '/aiffel/exploration/E09/recommendata_iu/data/ml-1m/ratings.dat'\n",
    "ratings_cols = ['user_id', 'movie_id', 'rating', 'timestamp']\n",
    "ratings = pd.read_csv(rating_file_path, sep='::', names=ratings_cols, engine='python', encoding = \"ISO-8859-1\")\n",
    "original_data_size = len(ratings)\n",
    "ratings.head()"
   ]
  },
  {
   "cell_type": "code",
   "execution_count": 62,
   "id": "electronic-public",
   "metadata": {},
   "outputs": [
    {
     "name": "stdout",
     "output_type": "stream",
     "text": [
      "original_data_size: 1000209, filtered_data_size: 836478\n",
      "Ratio of Remaining Data is 83.63%\n"
     ]
    }
   ],
   "source": [
    "# 3점 이상만 남깁니다.\n",
    "ratings = ratings[ratings['rating'] >= 3]\n",
    "filtered_data_size = len(ratings)\n",
    "\n",
    "print(f'original_data_size: {original_data_size}, filtered_data_size: {filtered_data_size}')\n",
    "print(f'Ratio of Remaining Data is {filtered_data_size / original_data_size:.2%}')"
   ]
  },
  {
   "cell_type": "code",
   "execution_count": 63,
   "id": "rough-amplifier",
   "metadata": {},
   "outputs": [],
   "source": [
    "# rating 컬럼의 이름을 count로 바꿉니다.\n",
    "ratings.rename(columns={'rating':'count'}, inplace=True)"
   ]
  },
  {
   "cell_type": "code",
   "execution_count": 64,
   "id": "injured-mixture",
   "metadata": {},
   "outputs": [
    {
     "data": {
      "text/plain": [
       "0          5\n",
       "1          3\n",
       "2          3\n",
       "3          4\n",
       "4          5\n",
       "          ..\n",
       "1000203    3\n",
       "1000205    5\n",
       "1000206    5\n",
       "1000207    4\n",
       "1000208    4\n",
       "Name: count, Length: 836478, dtype: int64"
      ]
     },
     "execution_count": 64,
     "metadata": {},
     "output_type": "execute_result"
    }
   ],
   "source": [
    "ratings['count']"
   ]
  },
  {
   "cell_type": "code",
   "execution_count": 65,
   "id": "operating-departure",
   "metadata": {},
   "outputs": [
    {
     "data": {
      "text/html": [
       "<div>\n",
       "<style scoped>\n",
       "    .dataframe tbody tr th:only-of-type {\n",
       "        vertical-align: middle;\n",
       "    }\n",
       "\n",
       "    .dataframe tbody tr th {\n",
       "        vertical-align: top;\n",
       "    }\n",
       "\n",
       "    .dataframe thead th {\n",
       "        text-align: right;\n",
       "    }\n",
       "</style>\n",
       "<table border=\"1\" class=\"dataframe\">\n",
       "  <thead>\n",
       "    <tr style=\"text-align: right;\">\n",
       "      <th></th>\n",
       "      <th>movie_id</th>\n",
       "      <th>title</th>\n",
       "      <th>genre</th>\n",
       "    </tr>\n",
       "  </thead>\n",
       "  <tbody>\n",
       "    <tr>\n",
       "      <th>0</th>\n",
       "      <td>1</td>\n",
       "      <td>Toy Story (1995)</td>\n",
       "      <td>Animation|Children's|Comedy</td>\n",
       "    </tr>\n",
       "    <tr>\n",
       "      <th>1</th>\n",
       "      <td>2</td>\n",
       "      <td>Jumanji (1995)</td>\n",
       "      <td>Adventure|Children's|Fantasy</td>\n",
       "    </tr>\n",
       "    <tr>\n",
       "      <th>2</th>\n",
       "      <td>3</td>\n",
       "      <td>Grumpier Old Men (1995)</td>\n",
       "      <td>Comedy|Romance</td>\n",
       "    </tr>\n",
       "    <tr>\n",
       "      <th>3</th>\n",
       "      <td>4</td>\n",
       "      <td>Waiting to Exhale (1995)</td>\n",
       "      <td>Comedy|Drama</td>\n",
       "    </tr>\n",
       "    <tr>\n",
       "      <th>4</th>\n",
       "      <td>5</td>\n",
       "      <td>Father of the Bride Part II (1995)</td>\n",
       "      <td>Comedy</td>\n",
       "    </tr>\n",
       "  </tbody>\n",
       "</table>\n",
       "</div>"
      ],
      "text/plain": [
       "   movie_id                               title                         genre\n",
       "0         1                    Toy Story (1995)   Animation|Children's|Comedy\n",
       "1         2                      Jumanji (1995)  Adventure|Children's|Fantasy\n",
       "2         3             Grumpier Old Men (1995)                Comedy|Romance\n",
       "3         4            Waiting to Exhale (1995)                  Comedy|Drama\n",
       "4         5  Father of the Bride Part II (1995)                        Comedy"
      ]
     },
     "execution_count": 65,
     "metadata": {},
     "output_type": "execute_result"
    }
   ],
   "source": [
    "# 영화 제목을 보기 위해 메타 데이터를 읽어옵니다.\n",
    "movie_file_path=os.getenv('HOME') + '/aiffel/exploration/E09/recommendata_iu/data/ml-1m/movies.dat'\n",
    "cols = ['movie_id', 'title', 'genre']\n",
    "movies = pd.read_csv(movie_file_path, sep='::', names=cols, engine='python', encoding='ISO-8859-1')\n",
    "movies.head()"
   ]
  },
  {
   "cell_type": "markdown",
   "id": "addressed-regression",
   "metadata": {},
   "source": [
    "## 2. 데이터 분석"
   ]
  },
  {
   "cell_type": "markdown",
   "id": "expensive-marble",
   "metadata": {},
   "source": [
    "__ratings에 있는 유니크한 영화 개수__"
   ]
  },
  {
   "cell_type": "code",
   "execution_count": 66,
   "id": "surface-dryer",
   "metadata": {},
   "outputs": [
    {
     "data": {
      "text/plain": [
       "3628"
      ]
     },
     "execution_count": 66,
     "metadata": {},
     "output_type": "execute_result"
    }
   ],
   "source": [
    "# ratings에 있는 유니크한 영화 개수\n",
    "ratings['movie_id'].nunique()"
   ]
  },
  {
   "cell_type": "markdown",
   "id": "russian-civilian",
   "metadata": {},
   "source": [
    "__rating에 있는 유니크한 사용자 수__"
   ]
  },
  {
   "cell_type": "code",
   "execution_count": 67,
   "id": "sharp-eugene",
   "metadata": {},
   "outputs": [
    {
     "data": {
      "text/plain": [
       "6039"
      ]
     },
     "execution_count": 67,
     "metadata": {},
     "output_type": "execute_result"
    }
   ],
   "source": [
    "# ratings에 있는 유니크한 사용자 수\n",
    "ratings['user_id'].nunique()"
   ]
  },
  {
   "cell_type": "markdown",
   "id": "other-company",
   "metadata": {},
   "source": [
    "__가장 인기 있는 영화 30개(인기순)__"
   ]
  },
  {
   "cell_type": "code",
   "execution_count": 68,
   "id": "shared-thumbnail",
   "metadata": {
    "scrolled": true
   },
   "outputs": [
    {
     "data": {
      "text/plain": [
       "(836478, 6)"
      ]
     },
     "execution_count": 68,
     "metadata": {},
     "output_type": "execute_result"
    }
   ],
   "source": [
    "# 앞에서 불러온 2개의 데이터를 1개로 합쳐준다.\n",
    "# 2개 데이터에서 공통으로 가지고 있는 movie_id 기준으로 데이터를 merge 한다.\n",
    "movie_df = pd.merge(ratings, movies, on='movie_id')\n",
    "movie_df.shape"
   ]
  },
  {
   "cell_type": "code",
   "execution_count": 69,
   "id": "composite-circle",
   "metadata": {
    "scrolled": false
   },
   "outputs": [
    {
     "data": {
      "text/html": [
       "<div>\n",
       "<style scoped>\n",
       "    .dataframe tbody tr th:only-of-type {\n",
       "        vertical-align: middle;\n",
       "    }\n",
       "\n",
       "    .dataframe tbody tr th {\n",
       "        vertical-align: top;\n",
       "    }\n",
       "\n",
       "    .dataframe thead th {\n",
       "        text-align: right;\n",
       "    }\n",
       "</style>\n",
       "<table border=\"1\" class=\"dataframe\">\n",
       "  <thead>\n",
       "    <tr style=\"text-align: right;\">\n",
       "      <th></th>\n",
       "      <th>user_id</th>\n",
       "      <th>movie_id</th>\n",
       "      <th>count</th>\n",
       "      <th>timestamp</th>\n",
       "      <th>title</th>\n",
       "      <th>genre</th>\n",
       "    </tr>\n",
       "  </thead>\n",
       "  <tbody>\n",
       "    <tr>\n",
       "      <th>0</th>\n",
       "      <td>1</td>\n",
       "      <td>1193</td>\n",
       "      <td>5</td>\n",
       "      <td>978300760</td>\n",
       "      <td>One Flew Over the Cuckoo's Nest (1975)</td>\n",
       "      <td>Drama</td>\n",
       "    </tr>\n",
       "    <tr>\n",
       "      <th>1</th>\n",
       "      <td>2</td>\n",
       "      <td>1193</td>\n",
       "      <td>5</td>\n",
       "      <td>978298413</td>\n",
       "      <td>One Flew Over the Cuckoo's Nest (1975)</td>\n",
       "      <td>Drama</td>\n",
       "    </tr>\n",
       "    <tr>\n",
       "      <th>2</th>\n",
       "      <td>12</td>\n",
       "      <td>1193</td>\n",
       "      <td>4</td>\n",
       "      <td>978220179</td>\n",
       "      <td>One Flew Over the Cuckoo's Nest (1975)</td>\n",
       "      <td>Drama</td>\n",
       "    </tr>\n",
       "    <tr>\n",
       "      <th>3</th>\n",
       "      <td>15</td>\n",
       "      <td>1193</td>\n",
       "      <td>4</td>\n",
       "      <td>978199279</td>\n",
       "      <td>One Flew Over the Cuckoo's Nest (1975)</td>\n",
       "      <td>Drama</td>\n",
       "    </tr>\n",
       "    <tr>\n",
       "      <th>4</th>\n",
       "      <td>17</td>\n",
       "      <td>1193</td>\n",
       "      <td>5</td>\n",
       "      <td>978158471</td>\n",
       "      <td>One Flew Over the Cuckoo's Nest (1975)</td>\n",
       "      <td>Drama</td>\n",
       "    </tr>\n",
       "  </tbody>\n",
       "</table>\n",
       "</div>"
      ],
      "text/plain": [
       "   user_id  movie_id  count  timestamp  \\\n",
       "0        1      1193      5  978300760   \n",
       "1        2      1193      5  978298413   \n",
       "2       12      1193      4  978220179   \n",
       "3       15      1193      4  978199279   \n",
       "4       17      1193      5  978158471   \n",
       "\n",
       "                                    title  genre  \n",
       "0  One Flew Over the Cuckoo's Nest (1975)  Drama  \n",
       "1  One Flew Over the Cuckoo's Nest (1975)  Drama  \n",
       "2  One Flew Over the Cuckoo's Nest (1975)  Drama  \n",
       "3  One Flew Over the Cuckoo's Nest (1975)  Drama  \n",
       "4  One Flew Over the Cuckoo's Nest (1975)  Drama  "
      ]
     },
     "execution_count": 69,
     "metadata": {},
     "output_type": "execute_result"
    }
   ],
   "source": [
    "# 기존 ratings 데이터에 title, genre 컬럼이 추가된 movie_df가 만들어졌다.\n",
    "movie_df.head()"
   ]
  },
  {
   "cell_type": "code",
   "execution_count": 70,
   "id": "daily-diamond",
   "metadata": {
    "scrolled": false
   },
   "outputs": [
    {
     "data": {
      "text/plain": [
       "title\n",
       "American Beauty (1999)                                   3211\n",
       "Star Wars: Episode IV - A New Hope (1977)                2910\n",
       "Star Wars: Episode V - The Empire Strikes Back (1980)    2885\n",
       "Star Wars: Episode VI - Return of the Jedi (1983)        2716\n",
       "Saving Private Ryan (1998)                               2561\n",
       "Terminator 2: Judgment Day (1991)                        2509\n",
       "Silence of the Lambs, The (1991)                         2498\n",
       "Raiders of the Lost Ark (1981)                           2473\n",
       "Back to the Future (1985)                                2460\n",
       "Matrix, The (1999)                                       2434\n",
       "Jurassic Park (1993)                                     2413\n",
       "Sixth Sense, The (1999)                                  2385\n",
       "Fargo (1996)                                             2371\n",
       "Braveheart (1995)                                        2314\n",
       "Men in Black (1997)                                      2297\n",
       "Schindler's List (1993)                                  2257\n",
       "Princess Bride, The (1987)                               2252\n",
       "Shakespeare in Love (1998)                               2213\n",
       "L.A. Confidential (1997)                                 2210\n",
       "Shawshank Redemption, The (1994)                         2194\n",
       "Godfather, The (1972)                                    2167\n",
       "Groundhog Day (1993)                                     2121\n",
       "E.T. the Extra-Terrestrial (1982)                        2102\n",
       "Being John Malkovich (1999)                              2066\n",
       "Ghostbusters (1984)                                      2051\n",
       "Pulp Fiction (1994)                                      2030\n",
       "Forrest Gump (1994)                                      2022\n",
       "Terminator, The (1984)                                   2019\n",
       "Toy Story (1995)                                         2000\n",
       "Fugitive, The (1993)                                     1941\n",
       "Name: user_id, dtype: int64"
      ]
     },
     "execution_count": 70,
     "metadata": {},
     "output_type": "execute_result"
    }
   ],
   "source": [
    "# 가장 인기있는 영화 30선 출력\n",
    "movie_df.groupby('title')['user_id'].count().sort_values(ascending=False).head(30)"
   ]
  },
  {
   "cell_type": "markdown",
   "id": "phantom-harvard",
   "metadata": {},
   "source": [
    "__기타__"
   ]
  },
  {
   "cell_type": "code",
   "execution_count": 71,
   "id": "sixth-election",
   "metadata": {
    "scrolled": true
   },
   "outputs": [
    {
     "data": {
      "text/plain": [
       "count    3628.000000\n",
       "mean      230.561742\n",
       "std       355.596393\n",
       "min         1.000000\n",
       "25%        23.000000\n",
       "50%        87.000000\n",
       "75%       285.000000\n",
       "max      3211.000000\n",
       "Name: user_id, dtype: float64"
      ]
     },
     "execution_count": 71,
     "metadata": {},
     "output_type": "execute_result"
    }
   ],
   "source": [
    "# 유저별 몇개의 영화에 대해 평가했는지에 대한 통계\n",
    "user_count = movie_df.groupby('title')['user_id'].count()\n",
    "user_count.describe()"
   ]
  },
  {
   "cell_type": "code",
   "execution_count": 72,
   "id": "consecutive-picking",
   "metadata": {
    "scrolled": true
   },
   "outputs": [
    {
     "data": {
      "text/html": [
       "<div>\n",
       "<style scoped>\n",
       "    .dataframe tbody tr th:only-of-type {\n",
       "        vertical-align: middle;\n",
       "    }\n",
       "\n",
       "    .dataframe tbody tr th {\n",
       "        vertical-align: top;\n",
       "    }\n",
       "\n",
       "    .dataframe thead th {\n",
       "        text-align: right;\n",
       "    }\n",
       "</style>\n",
       "<table border=\"1\" class=\"dataframe\">\n",
       "  <thead>\n",
       "    <tr style=\"text-align: right;\">\n",
       "      <th></th>\n",
       "      <th>user_id</th>\n",
       "      <th>count</th>\n",
       "      <th>title</th>\n",
       "    </tr>\n",
       "  </thead>\n",
       "  <tbody>\n",
       "    <tr>\n",
       "      <th>0</th>\n",
       "      <td>1</td>\n",
       "      <td>5</td>\n",
       "      <td>One Flew Over the Cuckoo's Nest (1975)</td>\n",
       "    </tr>\n",
       "    <tr>\n",
       "      <th>1</th>\n",
       "      <td>2</td>\n",
       "      <td>5</td>\n",
       "      <td>One Flew Over the Cuckoo's Nest (1975)</td>\n",
       "    </tr>\n",
       "    <tr>\n",
       "      <th>2</th>\n",
       "      <td>12</td>\n",
       "      <td>4</td>\n",
       "      <td>One Flew Over the Cuckoo's Nest (1975)</td>\n",
       "    </tr>\n",
       "    <tr>\n",
       "      <th>3</th>\n",
       "      <td>15</td>\n",
       "      <td>4</td>\n",
       "      <td>One Flew Over the Cuckoo's Nest (1975)</td>\n",
       "    </tr>\n",
       "    <tr>\n",
       "      <th>4</th>\n",
       "      <td>17</td>\n",
       "      <td>5</td>\n",
       "      <td>One Flew Over the Cuckoo's Nest (1975)</td>\n",
       "    </tr>\n",
       "  </tbody>\n",
       "</table>\n",
       "</div>"
      ],
      "text/plain": [
       "   user_id  count                                   title\n",
       "0        1      5  One Flew Over the Cuckoo's Nest (1975)\n",
       "1        2      5  One Flew Over the Cuckoo's Nest (1975)\n",
       "2       12      4  One Flew Over the Cuckoo's Nest (1975)\n",
       "3       15      4  One Flew Over the Cuckoo's Nest (1975)\n",
       "4       17      5  One Flew Over the Cuckoo's Nest (1975)"
      ]
     },
     "execution_count": 72,
     "metadata": {},
     "output_type": "execute_result"
    }
   ],
   "source": [
    "# 필요없는 컬럼 제외\n",
    "movie_df = movie_df.drop(columns=['movie_id', 'timestamp', 'genre'])\n",
    "movie_df.head()"
   ]
  },
  {
   "cell_type": "markdown",
   "id": "apart-defendant",
   "metadata": {},
   "source": [
    "## 3. 내가 선호하는 영화 5가지를 추가하기"
   ]
  },
  {
   "cell_type": "markdown",
   "id": "oriented-edition",
   "metadata": {},
   "source": [
    "데이터 인덱싱을 통해 내가 선호하는 영화 제목을 찾아본다.  \n",
    "단, 2000년대 이후 영화는 검색이 안되는 것 같다."
   ]
  },
  {
   "cell_type": "code",
   "execution_count": 73,
   "id": "military-retention",
   "metadata": {
    "scrolled": true
   },
   "outputs": [
    {
     "data": {
      "text/html": [
       "<div>\n",
       "<style scoped>\n",
       "    .dataframe tbody tr th:only-of-type {\n",
       "        vertical-align: middle;\n",
       "    }\n",
       "\n",
       "    .dataframe tbody tr th {\n",
       "        vertical-align: top;\n",
       "    }\n",
       "\n",
       "    .dataframe thead th {\n",
       "        text-align: right;\n",
       "    }\n",
       "</style>\n",
       "<table border=\"1\" class=\"dataframe\">\n",
       "  <thead>\n",
       "    <tr style=\"text-align: right;\">\n",
       "      <th></th>\n",
       "      <th>user_id</th>\n",
       "      <th>count</th>\n",
       "      <th>title</th>\n",
       "    </tr>\n",
       "  </thead>\n",
       "  <tbody>\n",
       "    <tr>\n",
       "      <th>771772</th>\n",
       "      <td>75</td>\n",
       "      <td>5</td>\n",
       "      <td>Home Alone 3 (1997)</td>\n",
       "    </tr>\n",
       "  </tbody>\n",
       "</table>\n",
       "</div>"
      ],
      "text/plain": [
       "        user_id  count                title\n",
       "771772       75      5  Home Alone 3 (1997)"
      ]
     },
     "execution_count": 73,
     "metadata": {},
     "output_type": "execute_result"
    }
   ],
   "source": [
    "movie_df[movie_df['title'].str.lower().str.contains('home alone 3')].head(1)"
   ]
  },
  {
   "cell_type": "code",
   "execution_count": 74,
   "id": "hourly-extension",
   "metadata": {},
   "outputs": [],
   "source": [
    "# 내가 선호하는 영화 5개\n",
    "my_favorite = [\n",
    "    'Terminator 2: Judgment Day (1991)' , \n",
    "    'Parent Trap, The (1998)' ,\n",
    "    'Home Alone 3 (1997)', \n",
    "    'Notting Hill (1999)',\n",
    "    'Shawshank Redemption, The (1994)'\n",
    "]\n",
    "\n",
    "# 유저id, 영화제목, 평점 추가\n",
    "my_rating = pd.DataFrame({'user_id': [9999]*5, 'title': my_favorite, 'count': [5]*5})"
   ]
  },
  {
   "cell_type": "code",
   "execution_count": 75,
   "id": "soviet-coupon",
   "metadata": {},
   "outputs": [
    {
     "data": {
      "text/html": [
       "<div>\n",
       "<style scoped>\n",
       "    .dataframe tbody tr th:only-of-type {\n",
       "        vertical-align: middle;\n",
       "    }\n",
       "\n",
       "    .dataframe tbody tr th {\n",
       "        vertical-align: top;\n",
       "    }\n",
       "\n",
       "    .dataframe thead th {\n",
       "        text-align: right;\n",
       "    }\n",
       "</style>\n",
       "<table border=\"1\" class=\"dataframe\">\n",
       "  <thead>\n",
       "    <tr style=\"text-align: right;\">\n",
       "      <th></th>\n",
       "      <th>user_id</th>\n",
       "      <th>count</th>\n",
       "      <th>title</th>\n",
       "    </tr>\n",
       "  </thead>\n",
       "  <tbody>\n",
       "    <tr>\n",
       "      <th>836473</th>\n",
       "      <td>5851</td>\n",
       "      <td>5</td>\n",
       "      <td>One Little Indian (1973)</td>\n",
       "    </tr>\n",
       "    <tr>\n",
       "      <th>836474</th>\n",
       "      <td>5854</td>\n",
       "      <td>4</td>\n",
       "      <td>Slaughterhouse (1987)</td>\n",
       "    </tr>\n",
       "    <tr>\n",
       "      <th>836475</th>\n",
       "      <td>5854</td>\n",
       "      <td>3</td>\n",
       "      <td>Promise, The (Versprechen, Das) (1994)</td>\n",
       "    </tr>\n",
       "    <tr>\n",
       "      <th>836476</th>\n",
       "      <td>5938</td>\n",
       "      <td>4</td>\n",
       "      <td>Five Wives, Three Secretaries and Me (1998)</td>\n",
       "    </tr>\n",
       "    <tr>\n",
       "      <th>836477</th>\n",
       "      <td>5948</td>\n",
       "      <td>5</td>\n",
       "      <td>Identification of a Woman (Identificazione di ...</td>\n",
       "    </tr>\n",
       "    <tr>\n",
       "      <th>0</th>\n",
       "      <td>9999</td>\n",
       "      <td>5</td>\n",
       "      <td>Terminator 2: Judgment Day (1991)</td>\n",
       "    </tr>\n",
       "    <tr>\n",
       "      <th>1</th>\n",
       "      <td>9999</td>\n",
       "      <td>5</td>\n",
       "      <td>Parent Trap, The (1998)</td>\n",
       "    </tr>\n",
       "    <tr>\n",
       "      <th>2</th>\n",
       "      <td>9999</td>\n",
       "      <td>5</td>\n",
       "      <td>Home Alone 3 (1997)</td>\n",
       "    </tr>\n",
       "    <tr>\n",
       "      <th>3</th>\n",
       "      <td>9999</td>\n",
       "      <td>5</td>\n",
       "      <td>Notting Hill (1999)</td>\n",
       "    </tr>\n",
       "    <tr>\n",
       "      <th>4</th>\n",
       "      <td>9999</td>\n",
       "      <td>5</td>\n",
       "      <td>Shawshank Redemption, The (1994)</td>\n",
       "    </tr>\n",
       "  </tbody>\n",
       "</table>\n",
       "</div>"
      ],
      "text/plain": [
       "        user_id  count                                              title\n",
       "836473     5851      5                           One Little Indian (1973)\n",
       "836474     5854      4                              Slaughterhouse (1987)\n",
       "836475     5854      3             Promise, The (Versprechen, Das) (1994)\n",
       "836476     5938      4        Five Wives, Three Secretaries and Me (1998)\n",
       "836477     5948      5  Identification of a Woman (Identificazione di ...\n",
       "0          9999      5                  Terminator 2: Judgment Day (1991)\n",
       "1          9999      5                            Parent Trap, The (1998)\n",
       "2          9999      5                                Home Alone 3 (1997)\n",
       "3          9999      5                                Notting Hill (1999)\n",
       "4          9999      5                   Shawshank Redemption, The (1994)"
      ]
     },
     "execution_count": 75,
     "metadata": {},
     "output_type": "execute_result"
    }
   ],
   "source": [
    "if not movie_df.isin({'user_id':[9999]})['user_id'].any():  # user_id에 '9999'라는 데이터가 없다면\n",
    "    movie_df = movie_df.append(my_rating)                   # 위에 임의로 만든 my_favorite 데이터를 추가해 줍니다. \n",
    "\n",
    "movie_df.tail(10)       # 잘 추가되었는지 확인해 봅시다."
   ]
  },
  {
   "cell_type": "markdown",
   "id": "organizational-carroll",
   "metadata": {},
   "source": [
    "### 모델에 활용하기 위한 전처리"
   ]
  },
  {
   "cell_type": "markdown",
   "id": "cosmetic-backing",
   "metadata": {},
   "source": [
    "사람이 태어나면 주민등록번호가, 학교에 가면 출석번호가 있듯이 데이터의 관리를 쉽게 하기 위해 번호를 붙여주고 싶습니다. 우리가 다루는 데이터에서는 user와 artist 각각에 번호를 붙이고 싶습니다. 보통 이런 작업을 __indexing__ 이라고 합니다. 추천시스템, 자연어처리에서 자주 하는 작업들이라 직접 해보시면 좋겠습니다."
   ]
  },
  {
   "cell_type": "code",
   "execution_count": 76,
   "id": "cleared-probe",
   "metadata": {},
   "outputs": [],
   "source": [
    "# 고유한 유저, 아티스트를 찾아내는 코드\n",
    "user_unique = movie_df['user_id'].unique() \n",
    "title_unique = movie_df['title'].unique()\n",
    "\n",
    "# 유저, 아티스트 indexing 하는 코드 idx는 index의 약자 입니다.\n",
    "user_to_idx = {v:k for k,v in enumerate(user_unique)}\n",
    "title_to_idx = {v:k for k,v in enumerate(title_unique)}"
   ]
  },
  {
   "cell_type": "code",
   "execution_count": 77,
   "id": "designed-prague",
   "metadata": {
    "scrolled": true
   },
   "outputs": [
    {
     "name": "stdout",
     "output_type": "stream",
     "text": [
      "6039\n",
      "1151\n"
     ]
    }
   ],
   "source": [
    "# 인덱싱이 잘 되었는지 확인해 봅니다. \n",
    "print(user_to_idx[9999])  \n",
    "print(title_to_idx['Notting Hill (1999)'])"
   ]
  },
  {
   "cell_type": "code",
   "execution_count": 78,
   "id": "parliamentary-bunny",
   "metadata": {},
   "outputs": [
    {
     "name": "stdout",
     "output_type": "stream",
     "text": [
      "user_id column indexing OK!!\n",
      "movie title column indexing OK!!\n"
     ]
    },
    {
     "data": {
      "text/html": [
       "<div>\n",
       "<style scoped>\n",
       "    .dataframe tbody tr th:only-of-type {\n",
       "        vertical-align: middle;\n",
       "    }\n",
       "\n",
       "    .dataframe tbody tr th {\n",
       "        vertical-align: top;\n",
       "    }\n",
       "\n",
       "    .dataframe thead th {\n",
       "        text-align: right;\n",
       "    }\n",
       "</style>\n",
       "<table border=\"1\" class=\"dataframe\">\n",
       "  <thead>\n",
       "    <tr style=\"text-align: right;\">\n",
       "      <th></th>\n",
       "      <th>user_id</th>\n",
       "      <th>count</th>\n",
       "      <th>title</th>\n",
       "    </tr>\n",
       "  </thead>\n",
       "  <tbody>\n",
       "    <tr>\n",
       "      <th>0</th>\n",
       "      <td>0</td>\n",
       "      <td>5</td>\n",
       "      <td>0</td>\n",
       "    </tr>\n",
       "    <tr>\n",
       "      <th>1</th>\n",
       "      <td>1</td>\n",
       "      <td>5</td>\n",
       "      <td>0</td>\n",
       "    </tr>\n",
       "    <tr>\n",
       "      <th>2</th>\n",
       "      <td>2</td>\n",
       "      <td>4</td>\n",
       "      <td>0</td>\n",
       "    </tr>\n",
       "    <tr>\n",
       "      <th>3</th>\n",
       "      <td>3</td>\n",
       "      <td>4</td>\n",
       "      <td>0</td>\n",
       "    </tr>\n",
       "    <tr>\n",
       "      <th>4</th>\n",
       "      <td>4</td>\n",
       "      <td>5</td>\n",
       "      <td>0</td>\n",
       "    </tr>\n",
       "    <tr>\n",
       "      <th>...</th>\n",
       "      <td>...</td>\n",
       "      <td>...</td>\n",
       "      <td>...</td>\n",
       "    </tr>\n",
       "    <tr>\n",
       "      <th>0</th>\n",
       "      <td>6039</td>\n",
       "      <td>5</td>\n",
       "      <td>92</td>\n",
       "    </tr>\n",
       "    <tr>\n",
       "      <th>1</th>\n",
       "      <td>6039</td>\n",
       "      <td>5</td>\n",
       "      <td>1510</td>\n",
       "    </tr>\n",
       "    <tr>\n",
       "      <th>2</th>\n",
       "      <td>6039</td>\n",
       "      <td>5</td>\n",
       "      <td>1994</td>\n",
       "    </tr>\n",
       "    <tr>\n",
       "      <th>3</th>\n",
       "      <td>6039</td>\n",
       "      <td>5</td>\n",
       "      <td>1151</td>\n",
       "    </tr>\n",
       "    <tr>\n",
       "      <th>4</th>\n",
       "      <td>6039</td>\n",
       "      <td>5</td>\n",
       "      <td>157</td>\n",
       "    </tr>\n",
       "  </tbody>\n",
       "</table>\n",
       "<p>836483 rows × 3 columns</p>\n",
       "</div>"
      ],
      "text/plain": [
       "    user_id  count  title\n",
       "0         0      5      0\n",
       "1         1      5      0\n",
       "2         2      4      0\n",
       "3         3      4      0\n",
       "4         4      5      0\n",
       "..      ...    ...    ...\n",
       "0      6039      5     92\n",
       "1      6039      5   1510\n",
       "2      6039      5   1994\n",
       "3      6039      5   1151\n",
       "4      6039      5    157\n",
       "\n",
       "[836483 rows x 3 columns]"
      ]
     },
     "execution_count": 78,
     "metadata": {},
     "output_type": "execute_result"
    }
   ],
   "source": [
    "# indexing을 통해 데이터 컬럼 내 값을 바꾸는 코드\n",
    "# dictionary 자료형의 get 함수는 https://wikidocs.net/16 을 참고하세요.\n",
    "\n",
    "# user_to_idx.get을 통해 user_id 컬럼의 모든 값을 인덱싱한 Series를 구해 봅시다. \n",
    "# 혹시 정상적으로 인덱싱되지 않은 row가 있다면 인덱스가 NaN이 될 테니 dropna()로 제거합니다. \n",
    "temp_user_data = movie_df['user_id'].map(user_to_idx.get).dropna()\n",
    "if len(temp_user_data) == len(movie_df):  # 모든 row가 정상적으로 인덱싱되었다면\n",
    "    print('user_id column indexing OK!!')\n",
    "    movie_df['user_id'] = temp_user_data  # data['user_id']을 인덱싱된 Series로 교체해 줍니다.\n",
    "else:\n",
    "    print('user_id column indexing Fail!!')\n",
    "    \n",
    "# title_to_idx을 통해 title 컬럼도 동일한 방식으로 인덱싱해 줍니다. \n",
    "temp_title_data = movie_df['title'].map(title_to_idx.get).dropna()\n",
    "if len(temp_title_data) == len(movie_df): \n",
    "    print('movie title column indexing OK!!')\n",
    "    movie_df['title'] = temp_title_data\n",
    "else:\n",
    "    print('movie title column indexing Fail!!')\n",
    "\n",
    "movie_df"
   ]
  },
  {
   "cell_type": "markdown",
   "id": "regulation-triangle",
   "metadata": {},
   "source": [
    "## 4. CSR matrix 만들기"
   ]
  },
  {
   "cell_type": "markdown",
   "id": "divided-surname",
   "metadata": {},
   "source": [
    "CSR Matrix는 Sparse한 matrix에서 0이 아닌 유효한 데이터로 채워지는 데이터의 값과 좌표 정보만으로 구성하여 메모리 사용량을 최소화하면서도 Sparse한 matrix와 동일한 행렬을 표현할 수 있도록 하는 데이터 구조입니다."
   ]
  },
  {
   "cell_type": "code",
   "execution_count": 79,
   "id": "british-amplifier",
   "metadata": {},
   "outputs": [
    {
     "data": {
      "text/plain": [
       "<6040x3628 sparse matrix of type '<class 'numpy.longlong'>'\n",
       "\twith 836483 stored elements in Compressed Sparse Row format>"
      ]
     },
     "execution_count": 79,
     "metadata": {},
     "output_type": "execute_result"
    }
   ],
   "source": [
    "from scipy.sparse import csr_matrix\n",
    "\n",
    "num_user = movie_df['user_id'].nunique()\n",
    "num_title = movie_df['title'].nunique()\n",
    "\n",
    "csr_data = csr_matrix((movie_df['count'], (movie_df.user_id, movie_df.title)), shape= (num_user, num_title))\n",
    "csr_data"
   ]
  },
  {
   "cell_type": "markdown",
   "id": "worse-sphere",
   "metadata": {},
   "source": [
    "## 5. als_model = AlternatingLeastSquares 모델 훈련"
   ]
  },
  {
   "cell_type": "markdown",
   "id": "embedded-january",
   "metadata": {},
   "source": [
    "이전 스텝에서 설명한 Matrix Factorization 모델을 implicit 패키지를 사용하여 학습해 봅시다.\n",
    "- implicit 패키지는 이전 스텝에서 설명한 암묵적(implicit) dataset을 사용하는 다양한 모델을 굉장히 빠르게 학습할 수 있는 패키지입니다.  \n",
    "  \n",
    "  \n",
    "- 이 패키지에 구현된 als(AlternatingLeastSquares) 모델을 사용하겠습니다. Matrix Factorization에서 쪼개진 두 Feature Matrix를 한꺼번에 훈련하는 것은 잘 수렴하지 않기 때문에, 한쪽을 고정시키고 다른 쪽을 학습하는 방식을 번갈아 수행하는 AlternatingLeastSquares 방식이 효과적인 것으로 알려져 있습니다."
   ]
  },
  {
   "cell_type": "code",
   "execution_count": 80,
   "id": "generic-definition",
   "metadata": {},
   "outputs": [],
   "source": [
    "from implicit.als import AlternatingLeastSquares\n",
    "import os\n",
    "import numpy as np\n",
    "\n",
    "# implicit 라이브러리에서 권장하고 있는 부분입니다. 학습 내용과는 무관합니다.\n",
    "os.environ['OPENBLAS_NUM_THREADS']='1'\n",
    "os.environ['KMP_DUPLICATE_LIB_OK']='True'\n",
    "os.environ['MKL_NUM_THREADS']='1'"
   ]
  },
  {
   "cell_type": "markdown",
   "id": "pressed-integer",
   "metadata": {},
   "source": [
    "AlternatingLeastSquares 클래스의 __ init __ 파라미터를 살펴보겠습니다.   \n",
    "1. factors : 유저와 아이템의 벡터를 몇 차원으로 할 것인지   \n",
    "2. regularization : 과적합을 방지하기 위해 정규화 값을 얼마나 사용할 것인지  \n",
    "3. use_gpu : GPU를 사용할 것인지  \n",
    "4. iterations : epochs와 같은 의미입니다. 데이터를 몇 번 반복해서 학습할 것인지  "
   ]
  },
  {
   "cell_type": "code",
   "execution_count": 81,
   "id": "greenhouse-accident",
   "metadata": {},
   "outputs": [],
   "source": [
    "# Implicit AlternatingLeastSquares 모델의 선언\n",
    "als_model = AlternatingLeastSquares(factors=150,\n",
    "                                   regularization=0.01,\n",
    "                                   use_gpu=False,\n",
    "                                   iterations=30,\n",
    "                                   dtype=np.float32)"
   ]
  },
  {
   "cell_type": "code",
   "execution_count": 82,
   "id": "statutory-sponsorship",
   "metadata": {},
   "outputs": [
    {
     "data": {
      "text/plain": [
       "<3628x6040 sparse matrix of type '<class 'numpy.longlong'>'\n",
       "\twith 836483 stored elements in Compressed Sparse Column format>"
      ]
     },
     "execution_count": 82,
     "metadata": {},
     "output_type": "execute_result"
    }
   ],
   "source": [
    "# als 모델은 input으로 (item X user 꼴의 matrix를 받기 때문에 Transpose해줍니다.)\n",
    "csr_data_transpose = csr_data.T\n",
    "csr_data_transpose"
   ]
  },
  {
   "cell_type": "code",
   "execution_count": 83,
   "id": "applicable-progress",
   "metadata": {},
   "outputs": [
    {
     "data": {
      "application/vnd.jupyter.widget-view+json": {
       "model_id": "8fb7ae13a62841e7b0eebd097909772a",
       "version_major": 2,
       "version_minor": 0
      },
      "text/plain": [
       "  0%|          | 0/30 [00:00<?, ?it/s]"
      ]
     },
     "metadata": {},
     "output_type": "display_data"
    }
   ],
   "source": [
    "# 모델 훈련\n",
    "als_model.fit(csr_data_transpose)"
   ]
  },
  {
   "cell_type": "markdown",
   "id": "allied-affect",
   "metadata": {},
   "source": [
    "## 6. 훈련된 모델로 나의 선호도 파악하기"
   ]
  },
  {
   "cell_type": "markdown",
   "id": "adjusted-railway",
   "metadata": {},
   "source": [
    "__1) 나의 user_id vector와 영화 쇼생크탈출 vector 확인하기__"
   ]
  },
  {
   "cell_type": "code",
   "execution_count": 84,
   "id": "minus-fundamentals",
   "metadata": {},
   "outputs": [],
   "source": [
    "my_movie, shawshank = user_to_idx[9999], title_to_idx['Shawshank Redemption, The (1994)']\n",
    "my_movie_vector, shawshank_vector = als_model.user_factors[my_movie], als_model.item_factors[shawshank]"
   ]
  },
  {
   "cell_type": "code",
   "execution_count": 85,
   "id": "electoral-capture",
   "metadata": {},
   "outputs": [
    {
     "data": {
      "text/plain": [
       "array([ 0.07646539,  0.19678286,  0.4668112 ,  0.01771674, -0.4624646 ,\n",
       "       -0.27005824, -0.05147791,  0.37931117,  0.21556425,  0.22590415,\n",
       "        0.12625173,  0.17250834,  0.08730108,  0.52408236,  0.58624244,\n",
       "       -0.58121544, -0.12258033,  0.6827645 , -0.08162428,  0.09398942,\n",
       "        0.5677554 , -0.50242156,  0.56153274, -0.0506565 ,  0.14076541,\n",
       "        0.10345643, -0.80491316, -0.15541768, -0.12489144, -0.7469446 ,\n",
       "       -0.11469573,  0.29283193, -0.16821657, -0.06832883,  0.01346262,\n",
       "       -0.2874667 ,  0.3951984 , -0.6640183 , -0.1629786 ,  0.23420894,\n",
       "       -0.66486496,  0.307177  ,  0.15960506,  0.17545876, -0.5040985 ,\n",
       "        0.43324846, -0.33254415, -0.03154882, -0.3411111 ,  0.29141507,\n",
       "       -0.22511403,  0.2808769 ,  0.24617496, -0.30360055,  0.832705  ,\n",
       "       -0.61186105, -0.37508225,  0.28213355,  0.2150437 ,  0.129221  ,\n",
       "       -0.32531822, -0.5210914 ,  0.06320646, -0.30957216, -0.3876198 ,\n",
       "        0.4947483 , -0.13052759,  0.324723  , -0.0875893 , -0.12626679,\n",
       "       -0.030562  ,  0.3322103 ,  0.40624446,  0.74387753,  0.16972332,\n",
       "       -0.17201239, -0.3423795 ,  0.15928164, -0.04862956, -0.16585535,\n",
       "        0.01118803, -0.0050262 , -0.16097142,  0.14647698,  0.02226389,\n",
       "       -0.35642892,  0.17965466,  0.07593376, -0.58034503,  0.47941795,\n",
       "        0.54062194,  0.40909111,  0.31223762,  0.10313286,  0.04567601,\n",
       "       -0.11107549,  0.0213433 ,  0.05765826,  0.2751036 ,  0.2265854 ,\n",
       "        0.2703814 , -0.00586827, -0.17715678, -0.38372022,  0.12334218,\n",
       "       -0.0428075 , -0.03014319,  0.7035893 ,  0.08922397, -0.50335795,\n",
       "       -0.7150138 ,  0.5757959 , -0.68996304, -0.30136892, -0.38883984,\n",
       "        0.6077415 , -0.28704026,  0.06075929, -0.22935471, -0.41013333,\n",
       "        0.55423385,  0.225569  , -0.11144389,  0.17175266, -0.48815823,\n",
       "       -0.45017278, -0.03862546, -0.69226384,  0.529015  ,  0.3208369 ,\n",
       "        0.03676669,  0.35065195,  0.4100019 ,  0.64891005,  0.04522219,\n",
       "       -0.22099365,  0.14968911,  0.04675015, -0.05670441, -0.4153867 ,\n",
       "        0.3538035 , -0.14303122,  0.06889807,  0.04548852,  0.14848204,\n",
       "        0.02616056, -0.2361086 , -0.19758719, -0.13537528, -0.36354572],\n",
       "      dtype=float32)"
      ]
     },
     "execution_count": 85,
     "metadata": {},
     "output_type": "execute_result"
    }
   ],
   "source": [
    "my_movie_vector "
   ]
  },
  {
   "cell_type": "code",
   "execution_count": 86,
   "id": "returning-finland",
   "metadata": {},
   "outputs": [
    {
     "data": {
      "text/plain": [
       "array([-7.26925675e-03,  9.42128524e-03,  2.43471246e-02,  2.39632539e-02,\n",
       "        3.28799174e-03,  2.77842544e-02,  1.78680196e-02,  3.92791219e-02,\n",
       "        9.94162541e-03,  3.00293267e-02,  2.39633638e-02, -1.08793601e-02,\n",
       "       -7.75725860e-03,  1.83821786e-02,  2.95686908e-02,  2.66481414e-02,\n",
       "        2.28491686e-02,  2.70922333e-02,  1.48169212e-02,  2.33195983e-02,\n",
       "        2.73590963e-02, -4.99081751e-03,  3.15200761e-02,  6.99425116e-04,\n",
       "        1.90930497e-02,  5.51416958e-03, -3.82393412e-02,  1.68704847e-03,\n",
       "       -1.90827865e-02, -2.33949572e-02,  3.44708338e-02,  1.28628453e-02,\n",
       "        9.74715222e-03,  1.16339903e-02, -6.35001017e-03,  2.98507791e-03,\n",
       "        3.19183655e-02, -1.01805758e-02,  1.88919492e-02, -4.58433293e-04,\n",
       "       -2.22017001e-02,  1.38620650e-02,  6.86435774e-03, -8.26343894e-03,\n",
       "       -1.06726948e-03,  1.07537238e-02, -4.75754682e-03, -1.31111136e-02,\n",
       "        3.46360682e-03, -8.15882720e-03,  5.74412523e-03,  2.38924883e-02,\n",
       "        2.74415314e-02, -7.76146865e-03,  2.27430500e-02,  2.69683730e-02,\n",
       "        2.64662206e-02,  1.99299864e-02,  1.95393916e-02, -7.93414842e-03,\n",
       "        2.52119154e-02, -1.31158074e-02, -7.62084732e-03,  1.59772998e-03,\n",
       "        2.18790770e-02, -2.04308294e-02,  1.07287429e-02,  1.44633502e-02,\n",
       "        1.82971340e-02,  1.05898781e-02,  3.17006161e-05,  3.14111747e-02,\n",
       "        2.84652375e-02,  9.83949471e-03, -6.19174622e-04, -1.81760930e-03,\n",
       "        6.79967634e-04, -4.39422345e-03,  1.17120948e-02, -2.98631862e-02,\n",
       "        6.15803758e-03, -1.34662678e-02, -4.12495900e-03,  1.11394720e-02,\n",
       "        1.84474755e-02, -1.43957930e-02,  2.13737376e-02, -3.18191270e-03,\n",
       "       -3.37285139e-02,  9.21794586e-03,  1.50344158e-02,  4.22457531e-02,\n",
       "        1.32604837e-02, -5.12340292e-03, -5.82754333e-03, -5.89214824e-03,\n",
       "       -1.11005660e-02,  2.33835243e-02,  4.91599925e-02, -7.87213631e-03,\n",
       "       -1.59431598e-03,  2.35426016e-02,  1.02085592e-02, -1.22090559e-02,\n",
       "       -1.38632124e-02, -1.81268789e-02, -3.45348530e-02,  2.20784601e-02,\n",
       "       -7.70936348e-03, -2.31651887e-02, -4.93053645e-02,  5.92643302e-03,\n",
       "       -2.16299333e-02, -6.29329449e-03, -2.59343199e-02,  1.72720701e-02,\n",
       "       -6.84924517e-03,  1.04463371e-02, -1.18699735e-02, -3.09968716e-03,\n",
       "       -1.27890874e-02,  1.45928236e-02,  2.42222310e-03,  1.00991642e-02,\n",
       "       -2.29076110e-02, -1.40092894e-02, -3.11314519e-02, -4.88459989e-02,\n",
       "        3.94064151e-02,  2.45311782e-02, -2.40820628e-02,  2.39670072e-02,\n",
       "        1.64796393e-02,  4.47450392e-02,  4.18973118e-02, -1.22506591e-02,\n",
       "        2.29431801e-02,  1.29605662e-02,  1.16058970e-02,  8.21389537e-03,\n",
       "        1.87865589e-02, -6.09102566e-03,  2.56805681e-02, -3.88886733e-03,\n",
       "        8.07190593e-03,  6.17605774e-03, -4.03363444e-03,  4.13307501e-03,\n",
       "       -2.21528579e-02,  4.22746688e-03], dtype=float32)"
      ]
     },
     "execution_count": 86,
     "metadata": {},
     "output_type": "execute_result"
    }
   ],
   "source": [
    "shawshank_vector"
   ]
  },
  {
   "cell_type": "markdown",
   "id": "confirmed-solomon",
   "metadata": {},
   "source": [
    "__2) 위의 두 벡터를 곱하면 어떤 값이 나오는지 확인합니다.__"
   ]
  },
  {
   "cell_type": "markdown",
   "id": "toxic-person",
   "metadata": {},
   "source": [
    "내적 결과가 낮다고 생각되어 factors, iterations를 조금씩 상향 시켜주며 모델 학습을 진행하니 결과가 상승하였다."
   ]
  },
  {
   "cell_type": "code",
   "execution_count": 87,
   "id": "metallic-chemical",
   "metadata": {},
   "outputs": [
    {
     "data": {
      "text/plain": [
       "0.53635305"
      ]
     },
     "execution_count": 87,
     "metadata": {},
     "output_type": "execute_result"
    }
   ],
   "source": [
    "# zimin과 black_eyed_peas를 내적하는 코드\n",
    "np.dot(my_movie_vector, shawshank_vector)"
   ]
  },
  {
   "cell_type": "markdown",
   "id": "initial-paint",
   "metadata": {},
   "source": [
    "__3) 학습된 모델이 다른 영화에 대한 선호도를 어떻게 예측할지 다른 영화의 벡터를 가지고 확인해봅니다.__"
   ]
  },
  {
   "cell_type": "code",
   "execution_count": 88,
   "id": "union-indian",
   "metadata": {},
   "outputs": [
    {
     "data": {
      "text/plain": [
       "0.08417789"
      ]
     },
     "execution_count": 88,
     "metadata": {},
     "output_type": "execute_result"
    }
   ],
   "source": [
    "home_alone = title_to_idx['Home Alone 3 (1997)']\n",
    "home_alone_vector = als_model.item_factors[home_alone]\n",
    "np.dot(my_movie_vector, home_alone_vector)"
   ]
  },
  {
   "cell_type": "markdown",
   "id": "parental-picking",
   "metadata": {},
   "source": [
    "## 7. 비슷한 영화 추천받기"
   ]
  },
  {
   "cell_type": "markdown",
   "id": "young-resolution",
   "metadata": {},
   "source": [
    "AlternatingLeastSquares 클래스에 구현되어 있는 similar_items 메서드를 통하여 비슷한 영화를 찾습니다."
   ]
  },
  {
   "cell_type": "code",
   "execution_count": 89,
   "id": "driven-adobe",
   "metadata": {},
   "outputs": [
    {
     "data": {
      "text/plain": [
       "[(1994, 1.0000001),\n",
       " (2363, 0.8318139),\n",
       " (1989, 0.82048357),\n",
       " (3020, 0.7768847),\n",
       " (3022, 0.77367014),\n",
       " (2016, 0.77111787),\n",
       " (1617, 0.77061623),\n",
       " (2015, 0.7658319),\n",
       " (1645, 0.76165515),\n",
       " (2019, 0.7516407)]"
      ]
     },
     "execution_count": 89,
     "metadata": {},
     "output_type": "execute_result"
    }
   ],
   "source": [
    "favorite_movie = 'Home Alone 3 (1997)'\n",
    "movie_id = title_to_idx[favorite_movie]\n",
    "similar_movie = als_model.similar_items(movie_id, N=10)\n",
    "similar_movie"
   ]
  },
  {
   "cell_type": "code",
   "execution_count": 90,
   "id": "studied-vehicle",
   "metadata": {},
   "outputs": [
    {
     "data": {
      "text/plain": [
       "['Home Alone 3 (1997)',\n",
       " 'Richie Rich (1994)',\n",
       " 'Jungle2Jungle (a.k.a. Jungle 2 Jungle) (1997)',\n",
       " 'Leave It to Beaver (1997)',\n",
       " 'Problem Child 2 (1991)',\n",
       " 'Dunston Checks In (1996)',\n",
       " 'Little Rascals, The (1994)',\n",
       " 'Home Alone 2: Lost in New York (1992)',\n",
       " 'Flintstones, The (1994)',\n",
       " 'Blank Check (1994)']"
      ]
     },
     "execution_count": 90,
     "metadata": {},
     "output_type": "execute_result"
    }
   ],
   "source": [
    "# title_to_idx 를 뒤집어, index로부터 영화 제목을 얻는 dict를 생성합니다.\n",
    "idx_to_title = {v:k for k,v in title_to_idx.items()}\n",
    "[idx_to_title[i[0]] for i in similar_movie]"
   ]
  },
  {
   "cell_type": "code",
   "execution_count": 92,
   "id": "creative-video",
   "metadata": {},
   "outputs": [],
   "source": [
    "# get_similar_movies 함수를 통해 다른 영화에 대해서도 확인해볼 수 있다.\n",
    "def get_similar_movies(movie_title: str):\n",
    "    movie_id = title_to_idx[movie_title]\n",
    "    similar_movie = als_model.similar_items(movie_id)\n",
    "    similar_movie = [idx_to_title[i[0]] for i in similar_movie]\n",
    "    return similar_movie"
   ]
  },
  {
   "cell_type": "code",
   "execution_count": 93,
   "id": "hollow-twins",
   "metadata": {},
   "outputs": [
    {
     "data": {
      "text/plain": [
       "['Notting Hill (1999)',\n",
       " \"My Best Friend's Wedding (1997)\",\n",
       " \"You've Got Mail (1998)\",\n",
       " 'Sleepless in Seattle (1993)',\n",
       " 'Pretty Woman (1990)',\n",
       " 'Sabrina (1995)',\n",
       " 'While You Were Sleeping (1995)',\n",
       " 'French Kiss (1995)',\n",
       " 'Four Weddings and a Funeral (1994)',\n",
       " 'Truth About Cats & Dogs, The (1996)']"
      ]
     },
     "execution_count": 93,
     "metadata": {},
     "output_type": "execute_result"
    }
   ],
   "source": [
    "get_similar_movies('Notting Hill (1999)')"
   ]
  },
  {
   "cell_type": "code",
   "execution_count": 94,
   "id": "objective-grass",
   "metadata": {},
   "outputs": [
    {
     "data": {
      "text/plain": [
       "['Shawshank Redemption, The (1994)',\n",
       " 'Silence of the Lambs, The (1991)',\n",
       " 'Pulp Fiction (1994)',\n",
       " \"Schindler's List (1993)\",\n",
       " 'Fargo (1996)',\n",
       " 'Good Will Hunting (1997)',\n",
       " 'GoodFellas (1990)',\n",
       " 'Dead Man Walking (1995)',\n",
       " 'Usual Suspects, The (1995)',\n",
       " 'Amadeus (1984)']"
      ]
     },
     "execution_count": 94,
     "metadata": {},
     "output_type": "execute_result"
    }
   ],
   "source": [
    "get_similar_movies('Shawshank Redemption, The (1994)')"
   ]
  },
  {
   "cell_type": "markdown",
   "id": "under-dairy",
   "metadata": {},
   "source": [
    "## 8. 내가 좋아할만한 영화 추천 받기"
   ]
  },
  {
   "cell_type": "markdown",
   "id": "manual-given",
   "metadata": {},
   "source": [
    "AlternatingLeastSquares 클래스에 구현되어 있는 recommend 메서드를 통하여 제가 좋아할 만한 아티스트를 추천받습니다. filter_already_liked_items 는 유저가 이미 평가한 아이템은 제외하는 Argument입니다."
   ]
  },
  {
   "cell_type": "code",
   "execution_count": 95,
   "id": "thrown-headquarters",
   "metadata": {},
   "outputs": [
    {
     "data": {
      "text/plain": [
       "[(23, 0.40258133),\n",
       " (121, 0.36262235),\n",
       " (124, 0.33864346),\n",
       " (51, 0.30571544),\n",
       " (222, 0.2794707),\n",
       " (200, 0.25548238),\n",
       " (62, 0.24865238),\n",
       " (276, 0.24455208),\n",
       " (626, 0.21834509),\n",
       " (87, 0.20310894),\n",
       " (175, 0.19630235),\n",
       " (1200, 0.18303409),\n",
       " (1178, 0.18043827),\n",
       " (340, 0.17802215),\n",
       " (233, 0.17759438),\n",
       " (666, 0.17576918),\n",
       " (336, 0.17439137),\n",
       " (248, 0.17235425),\n",
       " (269, 0.16672176),\n",
       " (384, 0.15967913)]"
      ]
     },
     "execution_count": 95,
     "metadata": {},
     "output_type": "execute_result"
    }
   ],
   "source": [
    "user = user_to_idx[9999]\n",
    "\n",
    "# recommend에서는 user*item CSR Matrix를 받습니다.\n",
    "movie_recommended = als_model.recommend(user, csr_data, N=20, filter_already_liked_items=True)\n",
    "movie_recommended"
   ]
  },
  {
   "cell_type": "code",
   "execution_count": 96,
   "id": "russian-charge",
   "metadata": {},
   "outputs": [
    {
     "data": {
      "text/plain": [
       "[\"Schindler's List (1993)\",\n",
       " 'Silence of the Lambs, The (1991)',\n",
       " 'Matrix, The (1999)',\n",
       " 'Fargo (1996)',\n",
       " 'Pulp Fiction (1994)',\n",
       " 'Terminator, The (1984)',\n",
       " 'Total Recall (1990)',\n",
       " 'North by Northwest (1959)',\n",
       " \"You've Got Mail (1998)\",\n",
       " 'Braveheart (1995)',\n",
       " 'Men in Black (1997)',\n",
       " 'American President, The (1995)',\n",
       " 'Hoosiers (1986)',\n",
       " \"My Best Friend's Wedding (1997)\",\n",
       " 'Usual Suspects, The (1995)',\n",
       " 'Sleepless in Seattle (1993)',\n",
       " 'Pretty Woman (1990)',\n",
       " 'Good Will Hunting (1997)',\n",
       " 'GoodFellas (1990)',\n",
       " 'Jerry Maguire (1996)']"
      ]
     },
     "execution_count": 96,
     "metadata": {},
     "output_type": "execute_result"
    }
   ],
   "source": [
    "[idx_to_title[i[0]] for i in movie_recommended]"
   ]
  },
  {
   "cell_type": "markdown",
   "id": "whole-locking",
   "metadata": {},
   "source": [
    "AlternatingLeastSquares 클래스에 구현된 explain 메소드를 사용하면 제가 기록을 남긴 데이터 중 이 추천에 기여한 정도를 확인할 수 있습니다."
   ]
  },
  {
   "cell_type": "code",
   "execution_count": 97,
   "id": "protected-rates",
   "metadata": {},
   "outputs": [],
   "source": [
    "schindelrlist = title_to_idx[\"Schindler's List (1993)\"]\n",
    "explain = als_model.explain(user, csr_data, itemid=schindelrlist)"
   ]
  },
  {
   "cell_type": "markdown",
   "id": "invalid-metallic",
   "metadata": {},
   "source": [
    "이 method는 추천한 콘텐츠의 점수에 기여한 다른 콘텐츠와 기여도를 반환합니다.  \n",
    "어떤 아티스트들이 이 추천에 얼마나 기여하고 있는 걸까요?"
   ]
  },
  {
   "cell_type": "code",
   "execution_count": 98,
   "id": "brutal-bullet",
   "metadata": {},
   "outputs": [
    {
     "data": {
      "text/plain": [
       "[('Shawshank Redemption, The (1994)', 0.336826625681622),\n",
       " ('Notting Hill (1999)', 0.05881900447259472),\n",
       " ('Parent Trap, The (1998)', 0.017984240736659843),\n",
       " ('Home Alone 3 (1997)', 0.005707597928730595),\n",
       " ('Terminator 2: Judgment Day (1991)', -0.021735671496217454)]"
      ]
     },
     "execution_count": 98,
     "metadata": {},
     "output_type": "execute_result"
    }
   ],
   "source": [
    "[(idx_to_title[i[0]], i[1]) for i in explain[1]]"
   ]
  },
  {
   "cell_type": "markdown",
   "id": "aggressive-yahoo",
   "metadata": {},
   "source": [
    "장르가 가장 유사한 쇼생크 탈출이 가장 큰 기여를 했고 나머지 영화들은 장르가 전혀 달라 큰 기여를 하지 않은 것으로 추측된다."
   ]
  },
  {
   "cell_type": "markdown",
   "id": "complicated-tower",
   "metadata": {},
   "source": [
    "## 9. 정리"
   ]
  },
  {
   "cell_type": "markdown",
   "id": "treated-prompt",
   "metadata": {},
   "source": [
    "- CSR matrix와 MF모델을 활용하여 비교적 어렵지 않게 간단한 추천시스템을 구현해볼 수 있었다. 추천시스템을 구현하는 건 어렵지 않으나 실제로 사용자의 성향에 맞는 영화를 얼마나 정확하게 추천해주는 문제는 매우 어려운 부분인 것 같다.  \n",
    "  \n",
    "  \n",
    "- 프로젝트에서는 내가 선호하는 영화를 5개 추가하는 것으로 진행했는데 왓챠플레이처럼 더 많은 영화에 대한 선호도 정보를 제공한다면 좀 더 정확한 추천이 이루어질 수 있을 것 같다.  \n",
    "  \n",
    "  \n",
    "- 제공된 데이터의 한계(사용자 id, 영화제목, 평점, 장르) 때문에 더 뛰어난 추천시스템을 만들기 위해서 연령대, 성별 같은 정보도 추가되면 좋을 것 같다.  \n",
    "  \n",
    "  \n",
    "- 유튜브, 음원사이트, 이커머스 등 우리가 활용하고 있는 다양한 앱에서 어떻게 나의 성향을 파악해서 추천 시스템을 제공하는지 궁금했는데 이번 노드를 통해서 약간이나마 그 프로세스를 이해할 수 있어서 유익하였다."
   ]
  }
 ],
 "metadata": {
  "kernelspec": {
   "display_name": "Python 3",
   "language": "python",
   "name": "python3"
  },
  "language_info": {
   "codemirror_mode": {
    "name": "ipython",
    "version": 3
   },
   "file_extension": ".py",
   "mimetype": "text/x-python",
   "name": "python",
   "nbconvert_exporter": "python",
   "pygments_lexer": "ipython3",
   "version": "3.7.9"
  }
 },
 "nbformat": 4,
 "nbformat_minor": 5
}
