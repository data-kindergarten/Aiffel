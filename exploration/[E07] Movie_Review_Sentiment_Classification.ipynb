{
 "cells": [
  {
   "cell_type": "markdown",
   "id": "deadly-things",
   "metadata": {},
   "source": [
    "# 프로젝트명 : 네이버 영화리뷰 감성분석 도전하기"
   ]
  },
  {
   "cell_type": "markdown",
   "id": "decent-error",
   "metadata": {},
   "source": [
    "__데이터 준비 및 확인__"
   ]
  },
  {
   "cell_type": "code",
   "execution_count": 44,
   "id": "extreme-cricket",
   "metadata": {
    "scrolled": true
   },
   "outputs": [],
   "source": [
    "import pandas as pd\n",
    "import urllib.request\n",
    "%matplotlib inline\n",
    "import matplotlib.pyplot as plt\n",
    "import re\n",
    "from konlpy.tag import Okt\n",
    "from tensorflow import keras\n",
    "from tensorflow.keras.preprocessing.text import Tokenizer\n",
    "import numpy as np\n",
    "from tensorflow.keras.preprocessing.sequence import pad_sequences\n",
    "from collections import Counter\n",
    "\n",
    "# 데이터 불러오기\n",
    "train_data = pd.read_table('~/aiffel/exploration/E07/sentiment_classification/data/ratings_train.txt')\n",
    "test_data = pd.read_table('~/aiffel/exploration/E07/sentiment_classification/data/ratings_test.txt')"
   ]
  },
  {
   "cell_type": "code",
   "execution_count": 45,
   "id": "improved-acoustic",
   "metadata": {},
   "outputs": [
    {
     "data": {
      "text/html": [
       "<div>\n",
       "<style scoped>\n",
       "    .dataframe tbody tr th:only-of-type {\n",
       "        vertical-align: middle;\n",
       "    }\n",
       "\n",
       "    .dataframe tbody tr th {\n",
       "        vertical-align: top;\n",
       "    }\n",
       "\n",
       "    .dataframe thead th {\n",
       "        text-align: right;\n",
       "    }\n",
       "</style>\n",
       "<table border=\"1\" class=\"dataframe\">\n",
       "  <thead>\n",
       "    <tr style=\"text-align: right;\">\n",
       "      <th></th>\n",
       "      <th>id</th>\n",
       "      <th>document</th>\n",
       "      <th>label</th>\n",
       "    </tr>\n",
       "  </thead>\n",
       "  <tbody>\n",
       "    <tr>\n",
       "      <th>0</th>\n",
       "      <td>9976970</td>\n",
       "      <td>아 더빙.. 진짜 짜증나네요 목소리</td>\n",
       "      <td>0</td>\n",
       "    </tr>\n",
       "    <tr>\n",
       "      <th>1</th>\n",
       "      <td>3819312</td>\n",
       "      <td>흠...포스터보고 초딩영화줄....오버연기조차 가볍지 않구나</td>\n",
       "      <td>1</td>\n",
       "    </tr>\n",
       "    <tr>\n",
       "      <th>2</th>\n",
       "      <td>10265843</td>\n",
       "      <td>너무재밓었다그래서보는것을추천한다</td>\n",
       "      <td>0</td>\n",
       "    </tr>\n",
       "    <tr>\n",
       "      <th>3</th>\n",
       "      <td>9045019</td>\n",
       "      <td>교도소 이야기구먼 ..솔직히 재미는 없다..평점 조정</td>\n",
       "      <td>0</td>\n",
       "    </tr>\n",
       "    <tr>\n",
       "      <th>4</th>\n",
       "      <td>6483659</td>\n",
       "      <td>사이몬페그의 익살스런 연기가 돋보였던 영화!스파이더맨에서 늙어보이기만 했던 커스틴 ...</td>\n",
       "      <td>1</td>\n",
       "    </tr>\n",
       "  </tbody>\n",
       "</table>\n",
       "</div>"
      ],
      "text/plain": [
       "         id                                           document  label\n",
       "0   9976970                                아 더빙.. 진짜 짜증나네요 목소리      0\n",
       "1   3819312                  흠...포스터보고 초딩영화줄....오버연기조차 가볍지 않구나      1\n",
       "2  10265843                                  너무재밓었다그래서보는것을추천한다      0\n",
       "3   9045019                      교도소 이야기구먼 ..솔직히 재미는 없다..평점 조정      0\n",
       "4   6483659  사이몬페그의 익살스런 연기가 돋보였던 영화!스파이더맨에서 늙어보이기만 했던 커스틴 ...      1"
      ]
     },
     "execution_count": 45,
     "metadata": {},
     "output_type": "execute_result"
    }
   ],
   "source": [
    "train_data.head()"
   ]
  },
  {
   "cell_type": "code",
   "execution_count": 46,
   "id": "induced-leisure",
   "metadata": {},
   "outputs": [
    {
     "name": "stdout",
     "output_type": "stream",
     "text": [
      "(150000, 3)\n",
      "(50000, 3)\n"
     ]
    }
   ],
   "source": [
    "print(train_data.shape)\n",
    "print(test_data.shape)"
   ]
  },
  {
   "cell_type": "markdown",
   "id": "continued-privilege",
   "metadata": {},
   "source": [
    "### 데이터 로더 구성"
   ]
  },
  {
   "cell_type": "markdown",
   "id": "explicit-employee",
   "metadata": {},
   "source": [
    "실습 때 다루었던 IMDB 데이터셋은 텍스트를 가공하여 imdb.data_loader() 메소드를 호출하면 숫자 인덱스로 변환된 텍스트와 word_to_index 딕셔너리까지 친절하게 제공합니다. 그러나 이번에 다루게 될 nsmc 데이터셋은 전혀 가공되지 않은 텍스트 파일로 이루어져 있습니다. 이것을 읽어서 imdb.data_loader()와 동일하게 동작하는 자신만의 data_loader를 만들어 보는 것으로 시작합니다. data_loader 안에서는 다음을 수행해야 합니다."
   ]
  },
  {
   "cell_type": "markdown",
   "id": "generous-rocket",
   "metadata": {},
   "source": [
    "- 데이터의 중복 제거\n",
    "- NaN 결측치 제거\n",
    "- 한국어 토크나이저로 토큰화\n",
    "- 불용어(Stopwords) 제거\n",
    "- 사전 word_to_index 구성\n",
    "- 텍스트 스트링을 사전 인덱스 스트링으로 변환\n",
    "- X_train, y_train, X_test, y_test, word_to_index 리턴"
   ]
  },
  {
   "cell_type": "code",
   "execution_count": 47,
   "id": "limiting-journey",
   "metadata": {},
   "outputs": [],
   "source": [
    "from konlpy.tag import Mecab\n",
    "\n",
    "tokenizer = Mecab()\n",
    "stopwords = ['의','가','이','은','들','는','좀','잘','걍','과','도','를','으로','자','에','와','한','하다'] # 불용어\n",
    "\n",
    "def load_data(train_data, test_data, num_words=10000):\n",
    "    train_data.drop_duplicates(subset=['document'], inplace=True)  # 데이터 중복 제거\n",
    "    train_data = train_data.dropna(how = 'any')  # 결측치 제거\n",
    "    test_data.drop_duplicates(subset=['document'], inplace=True)  # 데이터 중복 제거\n",
    "    test_data = test_data.dropna(how = 'any')  # 결측치 제거\n",
    "    \n",
    "    X_train = []\n",
    "    for sentence in train_data['document']:\n",
    "        temp_X = tokenizer.morphs(sentence)  # 토큰화\n",
    "        temp_X = [word for word in temp_X if not word in stopwords]  # 불용어 제거\n",
    "        X_train.append(temp_X)\n",
    "\n",
    "    X_test = []\n",
    "    for sentence in test_data['document']:\n",
    "        temp_X = tokenizer.morphs(sentence)  # 토큰화\n",
    "        temp_X = [word for word in temp_X if not word in stopwords]  # 불용어 제거\n",
    "        X_test.append(temp_X)\n",
    "    \n",
    "    words = np.concatenate(X_train).tolist()\n",
    "    counter = Counter(words)\n",
    "    counter = counter.most_common(10000-4)\n",
    "    vocab = ['<PAD>', '<BOS>', '<UNK>', '<UNUSED>'] + [key for key, _ in counter]\n",
    "    word_to_index = {word:index for index, word in enumerate(vocab)}\n",
    "        \n",
    "    def wordlist_to_indexlist(wordlist):\n",
    "        return [word_to_index[word] if word in word_to_index else word_to_index['<UNK>'] for word in wordlist]\n",
    "        \n",
    "    X_train = list(map(wordlist_to_indexlist, X_train))\n",
    "    X_test = list(map(wordlist_to_indexlist, X_test))\n",
    "        \n",
    "    return X_train, np.array(list(train_data['label'])), X_test, np.array(list(test_data['label'])), word_to_index"
   ]
  },
  {
   "cell_type": "code",
   "execution_count": 48,
   "id": "advance-baseline",
   "metadata": {},
   "outputs": [],
   "source": [
    "# 데이터 로더 실행하여 데이터셋 생성\n",
    "X_train, y_train, X_test, y_test, word_to_index = load_data(train_data, test_data)  "
   ]
  },
  {
   "cell_type": "code",
   "execution_count": 49,
   "id": "adaptive-flour",
   "metadata": {},
   "outputs": [],
   "source": [
    "index_to_word = {index:word for word, index in word_to_index.items()}  # {인덱스:단어} 딕셔너리 생성"
   ]
  },
  {
   "cell_type": "code",
   "execution_count": 50,
   "id": "described-stress",
   "metadata": {},
   "outputs": [],
   "source": [
    "# 문장 1개를 활용할 딕셔너리와 함께 주면, 단어 인덱스 리스트 벡터로 변환해 주는 함수입니다. \n",
    "# 단, 모든 문장은 <BOS>로 시작하는 것으로 합니다. \n",
    "def get_encoded_sentence(sentence, word_to_index):\n",
    "    return [word_to_index['<BOS>']]+[word_to_index[word] if word in word_to_index else word_to_index['<UNK>'] for word in sentence.split()]\n",
    "\n",
    "# 여러 개의 문장 리스트를 한꺼번에 단어 인덱스 리스트 벡터로 encode해 주는 함수입니다. \n",
    "def get_encoded_sentences(sentences, word_to_index):\n",
    "    return [get_encoded_sentence(sentence, word_to_index) for sentence in sentences]\n",
    "\n",
    "# 숫자 벡터로 encode된 문장을 원래대로 decode하는 함수입니다. \n",
    "def get_decoded_sentence(encoded_sentence, index_to_word):\n",
    "    return ' '.join(index_to_word[index] if index in index_to_word else '<UNK>' for index in encoded_sentence[1:]) #[1:]를 통해 <BOS>를 제외\n",
    "\n",
    "# 여러 개의 숫자 벡터로 encode된 문장을 한꺼번에 원래대로 decode하는 함수입니다. \n",
    "def get_decoded_sentences(encoded_sentences, index_to_word):\n",
    "    return [get_encoded_sentence(sentence, word_to_index) for encoded_sentence in encoded_sentences]"
   ]
  },
  {
   "cell_type": "code",
   "execution_count": 51,
   "id": "furnished-tunisia",
   "metadata": {},
   "outputs": [
    {
     "name": "stdout",
     "output_type": "stream",
     "text": [
      "[32, 74, 919, 4, 4, 39, 228, 20, 33, 748]\n",
      "더 빙 . . 진짜 짜증 나 네요 목소리\n",
      "1번째 리뷰 문장 길이:  10\n"
     ]
    }
   ],
   "source": [
    "print(X_train[0])\n",
    "print(get_decoded_sentence(X_train[0], index_to_word))\n",
    "print('1번째 리뷰 문장 길이: ', len(X_train[0]))"
   ]
  },
  {
   "cell_type": "markdown",
   "id": "after-radio",
   "metadata": {},
   "source": [
    "## 데이터 분석 및 패딩"
   ]
  },
  {
   "cell_type": "markdown",
   "id": "worse-firewall",
   "metadata": {},
   "source": [
    "### 데이터 분포 확인"
   ]
  },
  {
   "cell_type": "code",
   "execution_count": 52,
   "id": "compliant-pilot",
   "metadata": {},
   "outputs": [
    {
     "name": "stdout",
     "output_type": "stream",
     "text": [
      "문장길이 평균 :  15.96940191154864\n",
      "문장길이 최대 :  116\n",
      "문장길이 표준편차 :  12.843571191092\n",
      "pad_sequences maxlen :  41\n",
      "전체 문장의 0.9342988343341575%가 maxlen 설정값 이내에 포함됩니다. \n"
     ]
    }
   ],
   "source": [
    "# 텍스트데이터 문장 길이의 리스트를 생성\n",
    "total_data_text = list(X_train) + list(X_test)\n",
    "num_tokens = [len(tokens) for tokens in total_data_text]\n",
    "num_tokens = np.array(num_tokens)\n",
    "\n",
    "# 문장길이의 평균값, 최대값, 표준편차를 계산\n",
    "print('문장길이 평균 : ', np.mean(num_tokens))\n",
    "print('문장길이 최대 : ', np.max(num_tokens))\n",
    "print('문장길이 표준편차 : ', np.std(num_tokens))\n",
    "\n",
    "# 최대 길이를 (평균 + 2 * 표준편차)로 정한다. (조정 가능)\n",
    "max_tokens = np.mean(num_tokens) + 2 * np.std(num_tokens)\n",
    "maxlen = int(max_tokens)\n",
    "print('pad_sequences maxlen : ', maxlen)\n",
    "print('전체 문장의 {}%가 maxlen 설정값 이내에 포함됩니다. '.format(np.sum(num_tokens < max_tokens) / len(num_tokens)))  # maxlen=41이 된다. "
   ]
  },
  {
   "cell_type": "markdown",
   "id": "covered-citizen",
   "metadata": {},
   "source": [
    "### Padding"
   ]
  },
  {
   "cell_type": "markdown",
   "id": "antique-kuwait",
   "metadata": {},
   "source": [
    "RNN은 입력데이터가 순차적으로 처리되어, 가장 마지막 입력이 최종 state 값에 가장 영향을 많이 미치게 됩니다. 그러므로 마지막 입력이 무의미한 padding으로 채워지는 것은 비효율적입니다. 따라서 'pre'가 훨씬 유리하며, 10% 이상의 테스트 성능 차이를 보이게 됩니다."
   ]
  },
  {
   "cell_type": "code",
   "execution_count": 53,
   "id": "applicable-statement",
   "metadata": {},
   "outputs": [
    {
     "name": "stdout",
     "output_type": "stream",
     "text": [
      "(146182, 41)\n"
     ]
    }
   ],
   "source": [
    "X_train = keras.preprocessing.sequence.pad_sequences(X_train,\n",
    "                                                        value=word_to_index[\"<PAD>\"],\n",
    "                                                        padding='pre', # 혹은 'pre'\n",
    "                                                        maxlen=maxlen)\n",
    "\n",
    "X_test = keras.preprocessing.sequence.pad_sequences(X_test,\n",
    "                                                       value=word_to_index[\"<PAD>\"],\n",
    "                                                       padding='pre', # 혹은 'pre'\n",
    "                                                       maxlen=maxlen)\n",
    "\n",
    "print(X_train.shape)"
   ]
  },
  {
   "cell_type": "markdown",
   "id": "minor-contractor",
   "metadata": {},
   "source": [
    "### Validation set 분리"
   ]
  },
  {
   "cell_type": "code",
   "execution_count": 54,
   "id": "united-genome",
   "metadata": {},
   "outputs": [
    {
     "name": "stdout",
     "output_type": "stream",
     "text": [
      "(100000, 41)\n",
      "(100000,)\n"
     ]
    }
   ],
   "source": [
    "# validation set 100,000건 분리\n",
    "X_val = X_train[:46182]\n",
    "y_val = y_train[:46182]\n",
    "\n",
    "# validation set을 제외한 나머지\n",
    "partial_X_train = X_train[46182:]\n",
    "partial_y_train = y_train[46182:]\n",
    "\n",
    "print(partial_X_train.shape)\n",
    "print(partial_y_train.shape)"
   ]
  },
  {
   "cell_type": "markdown",
   "id": "cloudy-knife",
   "metadata": {},
   "source": [
    "## 모델 설계, 훈련, 평가"
   ]
  },
  {
   "cell_type": "markdown",
   "id": "trying-german",
   "metadata": {},
   "source": [
    "### LSTM"
   ]
  },
  {
   "cell_type": "code",
   "execution_count": 55,
   "id": "swedish-camel",
   "metadata": {
    "scrolled": false
   },
   "outputs": [
    {
     "name": "stdout",
     "output_type": "stream",
     "text": [
      "Model: \"sequential_4\"\n",
      "_________________________________________________________________\n",
      "Layer (type)                 Output Shape              Param #   \n",
      "=================================================================\n",
      "embedding_4 (Embedding)      (None, None, 16)          160000    \n",
      "_________________________________________________________________\n",
      "lstm_2 (LSTM)                (None, 256)               279552    \n",
      "_________________________________________________________________\n",
      "dense_8 (Dense)              (None, 8)                 2056      \n",
      "_________________________________________________________________\n",
      "dense_9 (Dense)              (None, 1)                 9         \n",
      "=================================================================\n",
      "Total params: 441,617\n",
      "Trainable params: 441,617\n",
      "Non-trainable params: 0\n",
      "_________________________________________________________________\n"
     ]
    }
   ],
   "source": [
    "# 모델 설계\n",
    "vocab_size = 10000  # 어휘 사전의 크기입니다(10개의 단어)\n",
    "word_vector_dim = 16  # 단어 하나를 표현하는 임베딩 벡터의 차원수입니다. \n",
    "\n",
    "model = keras.Sequential()\n",
    "model.add(keras.layers.Embedding(vocab_size, word_vector_dim, input_shape=(None,)))\n",
    "model.add(keras.layers.LSTM(256))   # 가장 널리 쓰이는 RNN인 LSTM 레이어를 사용하였습니다. 이때 LSTM state 벡터의 차원수는 256로 하였습니다. (변경 가능)\n",
    "model.add(keras.layers.Dense(8, activation='relu'))\n",
    "model.add(keras.layers.Dense(1, activation='sigmoid'))  # 최종 출력은 긍정/부정을 나타내는 1dim 입니다.\n",
    "\n",
    "model.summary()"
   ]
  },
  {
   "cell_type": "markdown",
   "id": "driven-brand",
   "metadata": {},
   "source": [
    "정확도를 올리기 위해 LSTM(8) 에서 조금씩 수치를 높여 LSTM(256) 까지 올려보았다."
   ]
  },
  {
   "cell_type": "markdown",
   "id": "computational-surprise",
   "metadata": {},
   "source": [
    "__1) LSTM + adam__"
   ]
  },
  {
   "cell_type": "code",
   "execution_count": 56,
   "id": "transparent-encounter",
   "metadata": {
    "scrolled": true
   },
   "outputs": [
    {
     "name": "stdout",
     "output_type": "stream",
     "text": [
      "Epoch 1/10\n",
      "196/196 [==============================] - 11s 49ms/step - loss: 0.6156 - accuracy: 0.6522 - val_loss: 0.3610 - val_accuracy: 0.8426\n",
      "Epoch 2/10\n",
      "196/196 [==============================] - 9s 46ms/step - loss: 0.3421 - accuracy: 0.8559 - val_loss: 0.3490 - val_accuracy: 0.8478\n",
      "Epoch 3/10\n",
      "196/196 [==============================] - 9s 46ms/step - loss: 0.3149 - accuracy: 0.8709 - val_loss: 0.3524 - val_accuracy: 0.8473\n",
      "Epoch 4/10\n",
      "196/196 [==============================] - 9s 46ms/step - loss: 0.3051 - accuracy: 0.8751 - val_loss: 0.3538 - val_accuracy: 0.8485\n",
      "Epoch 5/10\n",
      "196/196 [==============================] - 9s 46ms/step - loss: 0.2929 - accuracy: 0.8822 - val_loss: 0.3497 - val_accuracy: 0.8489\n",
      "Epoch 6/10\n",
      "196/196 [==============================] - 9s 46ms/step - loss: 0.2752 - accuracy: 0.8901 - val_loss: 0.3489 - val_accuracy: 0.8491\n",
      "Epoch 7/10\n",
      "196/196 [==============================] - 9s 47ms/step - loss: 0.2596 - accuracy: 0.8965 - val_loss: 0.3479 - val_accuracy: 0.8502\n",
      "Epoch 8/10\n",
      "196/196 [==============================] - 9s 47ms/step - loss: 0.2407 - accuracy: 0.9058 - val_loss: 0.3622 - val_accuracy: 0.8503\n",
      "Epoch 9/10\n",
      "196/196 [==============================] - 9s 46ms/step - loss: 0.2250 - accuracy: 0.9121 - val_loss: 0.3764 - val_accuracy: 0.8485\n",
      "Epoch 10/10\n",
      "196/196 [==============================] - 9s 47ms/step - loss: 0.2078 - accuracy: 0.9195 - val_loss: 0.3809 - val_accuracy: 0.8479\n"
     ]
    }
   ],
   "source": [
    "# 모델 훈련\n",
    "model.compile(optimizer='adam',\n",
    "              loss='binary_crossentropy',\n",
    "              metrics=['accuracy'])\n",
    "              \n",
    "epochs=10  # 몇 epoch를 훈련하면 좋을지 결과를 보면서 바꾸어 봅시다. \n",
    "\n",
    "history = model.fit(partial_X_train,\n",
    "                    partial_y_train,\n",
    "                    epochs=epochs,\n",
    "                    batch_size=512,\n",
    "                    validation_data=(X_val, y_val),\n",
    "                    verbose=1)"
   ]
  },
  {
   "cell_type": "code",
   "execution_count": 57,
   "id": "honey-storm",
   "metadata": {},
   "outputs": [
    {
     "name": "stdout",
     "output_type": "stream",
     "text": [
      "1537/1537 - 6s - loss: 0.3908 - accuracy: 0.8424\n",
      "[0.3907743990421295, 0.842443585395813]\n"
     ]
    }
   ],
   "source": [
    "# 모델 평가\n",
    "results = model.evaluate(X_test, y_test, verbose=2)\n",
    "\n",
    "print(results)"
   ]
  },
  {
   "cell_type": "code",
   "execution_count": 58,
   "id": "introductory-vermont",
   "metadata": {
    "scrolled": true
   },
   "outputs": [
    {
     "name": "stdout",
     "output_type": "stream",
     "text": [
      "dict_keys(['loss', 'accuracy', 'val_loss', 'val_accuracy'])\n"
     ]
    }
   ],
   "source": [
    "# 시각화\n",
    "history_dict = history.history\n",
    "print(history_dict.keys()) "
   ]
  },
  {
   "cell_type": "code",
   "execution_count": 59,
   "id": "universal-gauge",
   "metadata": {},
   "outputs": [
    {
     "data": {
      "text/plain": [
       "<matplotlib.legend.Legend at 0x7f6175986e50>"
      ]
     },
     "execution_count": 59,
     "metadata": {},
     "output_type": "execute_result"
    },
    {
     "data": {
      "image/png": "[encoded data removed]",
      "text/plain": [
       "<Figure size 1080x288 with 2 Axes>"
      ]
     },
     "metadata": {
      "needs_background": "light"
     },
     "output_type": "display_data"
    }
   ],
   "source": [
    "acc = history_dict['accuracy']\n",
    "val_acc = history_dict['val_accuracy']\n",
    "loss = history_dict['loss']\n",
    "val_loss = history_dict['val_loss']\n",
    "\n",
    "epochs = range(1, len(acc) + 1)\n",
    "\n",
    "plt.figure(figsize=(15,4))\n",
    "\n",
    "plt.subplot(1, 2, 1)\n",
    "plt.plot(epochs, loss, color='r', marker='o', label='Training loss') # marker\n",
    "plt.plot(epochs, val_loss, color='b', marker='o', label='Validation loss') \n",
    "plt.title('Training and validation loss')\n",
    "plt.xlabel('Epochs')\n",
    "plt.ylabel('Loss')\n",
    "plt.legend()\n",
    "\n",
    "plt.subplot(1, 2, 2)\n",
    "plt.plot(epochs, acc, 'r--', marker='o', label='Training acc')  # color-- (점선 스타일 옵션)\n",
    "plt.plot(epochs, val_acc, 'b--', marker='o', label='Validation acc')\n",
    "plt.title('Training and validation accuracy')\n",
    "plt.xlabel('Epochs')\n",
    "plt.ylabel('Accuracy')\n",
    "plt.ylim(0.6, 1)\n",
    "plt.legend()"
   ]
  },
  {
   "cell_type": "markdown",
   "id": "adverse-dodge",
   "metadata": {},
   "source": [
    "__2) LSTM + RMSprop__"
   ]
  },
  {
   "cell_type": "markdown",
   "id": "hidden-cyprus",
   "metadata": {},
   "source": [
    "optimizer를 adam이 아닌 RMSprop을 쓰게 되면 정확도가 더 올라간다는 정보가 있어 optimizer를 변경해보았다."
   ]
  },
  {
   "cell_type": "code",
   "execution_count": 60,
   "id": "hollow-federal",
   "metadata": {},
   "outputs": [
    {
     "name": "stdout",
     "output_type": "stream",
     "text": [
      "Epoch 1/10\n",
      "196/196 [==============================] - 11s 49ms/step - loss: 0.2107 - accuracy: 0.9205 - val_loss: 0.4003 - val_accuracy: 0.8394\n",
      "Epoch 2/10\n",
      "196/196 [==============================] - 9s 47ms/step - loss: 0.1873 - accuracy: 0.9288 - val_loss: 0.3948 - val_accuracy: 0.8501\n",
      "Epoch 3/10\n",
      "196/196 [==============================] - 9s 47ms/step - loss: 0.1827 - accuracy: 0.9303 - val_loss: 0.4763 - val_accuracy: 0.8454\n",
      "Epoch 4/10\n",
      "196/196 [==============================] - 9s 47ms/step - loss: 0.1695 - accuracy: 0.9354 - val_loss: 0.4312 - val_accuracy: 0.8479\n",
      "Epoch 5/10\n",
      "196/196 [==============================] - 9s 47ms/step - loss: 0.1707 - accuracy: 0.9345 - val_loss: 0.4025 - val_accuracy: 0.8504\n",
      "Epoch 6/10\n",
      "196/196 [==============================] - 9s 47ms/step - loss: 0.1625 - accuracy: 0.9371 - val_loss: 0.4516 - val_accuracy: 0.8416\n",
      "Epoch 7/10\n",
      "196/196 [==============================] - 9s 47ms/step - loss: 0.1553 - accuracy: 0.9409 - val_loss: 0.4683 - val_accuracy: 0.8478\n",
      "Epoch 8/10\n",
      "196/196 [==============================] - 9s 47ms/step - loss: 0.1509 - accuracy: 0.9418 - val_loss: 0.4687 - val_accuracy: 0.8444\n",
      "Epoch 9/10\n",
      "196/196 [==============================] - 9s 47ms/step - loss: 0.1462 - accuracy: 0.9442 - val_loss: 0.4751 - val_accuracy: 0.8490\n",
      "Epoch 10/10\n",
      "196/196 [==============================] - 9s 47ms/step - loss: 0.1423 - accuracy: 0.9450 - val_loss: 0.5088 - val_accuracy: 0.8404\n"
     ]
    }
   ],
   "source": [
    "# 모델 훈련\n",
    "model.compile(optimizer='RMSprop',\n",
    "              loss='binary_crossentropy',\n",
    "              metrics=['accuracy'])\n",
    "              \n",
    "epochs=10  # 몇 epoch를 훈련하면 좋을지 결과를 보면서 바꾸어 봅시다. \n",
    "\n",
    "history = model.fit(partial_X_train,\n",
    "                    partial_y_train,\n",
    "                    epochs=epochs,\n",
    "                    batch_size=512,\n",
    "                    validation_data=(X_val, y_val),\n",
    "                    verbose=1)"
   ]
  },
  {
   "cell_type": "code",
   "execution_count": 61,
   "id": "angry-perspective",
   "metadata": {},
   "outputs": [
    {
     "name": "stdout",
     "output_type": "stream",
     "text": [
      "1537/1537 - 7s - loss: 0.5171 - accuracy: 0.8351\n",
      "[0.5170814394950867, 0.8350591063499451]\n"
     ]
    }
   ],
   "source": [
    "# 모델 평가\n",
    "results = model.evaluate(X_test, y_test, verbose=2)\n",
    "\n",
    "print(results)"
   ]
  },
  {
   "cell_type": "code",
   "execution_count": 62,
   "id": "resistant-graham",
   "metadata": {},
   "outputs": [
    {
     "name": "stdout",
     "output_type": "stream",
     "text": [
      "dict_keys(['loss', 'accuracy', 'val_loss', 'val_accuracy'])\n"
     ]
    }
   ],
   "source": [
    "# 시각화\n",
    "history_dict = history.history\n",
    "print(history_dict.keys()) "
   ]
  },
  {
   "cell_type": "code",
   "execution_count": 63,
   "id": "golden-hundred",
   "metadata": {
    "scrolled": false
   },
   "outputs": [
    {
     "data": {
      "text/plain": [
       "<matplotlib.legend.Legend at 0x7f617510eed0>"
      ]
     },
     "execution_count": 63,
     "metadata": {},
     "output_type": "execute_result"
    },
    {
     "data": {
      "image/png": "[encoded data removed]",
      "text/plain": [
       "<Figure size 1080x288 with 2 Axes>"
      ]
     },
     "metadata": {
      "needs_background": "light"
     },
     "output_type": "display_data"
    }
   ],
   "source": [
    "# 시각화\n",
    "acc = history_dict['accuracy']\n",
    "val_acc = history_dict['val_accuracy']\n",
    "loss = history_dict['loss']\n",
    "val_loss = history_dict['val_loss']\n",
    "\n",
    "epochs = range(1, len(acc) + 1)\n",
    "\n",
    "plt.figure(figsize=(15,4))\n",
    "\n",
    "plt.subplot(1, 2, 1)\n",
    "plt.plot(epochs, loss, color='r', marker='o', label='Training loss') # marker\n",
    "plt.plot(epochs, val_loss, color='b', marker='o', label='Validation loss') \n",
    "plt.title('Training and validation loss')\n",
    "plt.xlabel('Epochs')\n",
    "plt.ylabel('Loss')\n",
    "plt.legend()\n",
    "\n",
    "plt.subplot(1, 2, 2)\n",
    "plt.plot(epochs, acc, 'r--', marker='o', label='Training acc')  # color-- (점선 스타일 옵션)\n",
    "plt.plot(epochs, val_acc, 'b--', marker='o', label='Validation acc')\n",
    "plt.title('Training and validation accuracy')\n",
    "plt.xlabel('Epochs')\n",
    "plt.ylabel('Accuracy')\n",
    "plt.legend()"
   ]
  },
  {
   "cell_type": "markdown",
   "id": "hollywood-street",
   "metadata": {},
   "source": [
    "### 1-D CNN"
   ]
  },
  {
   "cell_type": "markdown",
   "id": "rough-press",
   "metadata": {},
   "source": [
    "__모델 설계__"
   ]
  },
  {
   "cell_type": "code",
   "execution_count": 64,
   "id": "focused-newport",
   "metadata": {},
   "outputs": [
    {
     "name": "stdout",
     "output_type": "stream",
     "text": [
      "Model: \"sequential_5\"\n",
      "_________________________________________________________________\n",
      "Layer (type)                 Output Shape              Param #   \n",
      "=================================================================\n",
      "embedding_5 (Embedding)      (None, None, 16)          160000    \n",
      "_________________________________________________________________\n",
      "conv1d_2 (Conv1D)            (None, None, 16)          1808      \n",
      "_________________________________________________________________\n",
      "max_pooling1d_1 (MaxPooling1 (None, None, 16)          0         \n",
      "_________________________________________________________________\n",
      "conv1d_3 (Conv1D)            (None, None, 16)          1808      \n",
      "_________________________________________________________________\n",
      "global_max_pooling1d_2 (Glob (None, 16)                0         \n",
      "_________________________________________________________________\n",
      "dense_10 (Dense)             (None, 8)                 136       \n",
      "_________________________________________________________________\n",
      "dense_11 (Dense)             (None, 1)                 9         \n",
      "=================================================================\n",
      "Total params: 163,761\n",
      "Trainable params: 163,761\n",
      "Non-trainable params: 0\n",
      "_________________________________________________________________\n"
     ]
    }
   ],
   "source": [
    "vocab_size = 10000\n",
    "word_vector_dim = 16  # 워드 벡터의 차원 수 (변경 가능한 하이퍼파라미터)\n",
    "\n",
    "model = keras.Sequential()\n",
    "model.add(keras.layers.Embedding(vocab_size, word_vector_dim, input_shape=(None,)))\n",
    "model.add(keras.layers.Conv1D(16, 7, activation='relu'))\n",
    "model.add(keras.layers.MaxPooling1D(5))\n",
    "model.add(keras.layers.Conv1D(16, 7, activation='relu'))\n",
    "model.add(keras.layers.GlobalMaxPooling1D())\n",
    "model.add(keras.layers.Dense(8, activation='relu'))\n",
    "model.add(keras.layers.Dense(1, activation='sigmoid'))  # 최종 출력은 긍정/부정을 나타내는 1dim 입니다.\n",
    "\n",
    "model.summary()"
   ]
  },
  {
   "cell_type": "markdown",
   "id": "active-guidance",
   "metadata": {},
   "source": [
    "__모델 훈련__"
   ]
  },
  {
   "cell_type": "code",
   "execution_count": 65,
   "id": "compound-blocking",
   "metadata": {},
   "outputs": [
    {
     "name": "stdout",
     "output_type": "stream",
     "text": [
      "Epoch 1/10\n",
      "196/196 [==============================] - 2s 8ms/step - loss: 0.6170 - accuracy: 0.6622 - val_loss: 0.3827 - val_accuracy: 0.8310\n",
      "Epoch 2/10\n",
      "196/196 [==============================] - 1s 7ms/step - loss: 0.3612 - accuracy: 0.8438 - val_loss: 0.3524 - val_accuracy: 0.8456\n",
      "Epoch 3/10\n",
      "196/196 [==============================] - 1s 7ms/step - loss: 0.3243 - accuracy: 0.8631 - val_loss: 0.3427 - val_accuracy: 0.8508\n",
      "Epoch 4/10\n",
      "196/196 [==============================] - 1s 8ms/step - loss: 0.3045 - accuracy: 0.8729 - val_loss: 0.3445 - val_accuracy: 0.8505\n",
      "Epoch 5/10\n",
      "196/196 [==============================] - 1s 8ms/step - loss: 0.2880 - accuracy: 0.8798 - val_loss: 0.3395 - val_accuracy: 0.8544\n",
      "Epoch 6/10\n",
      "196/196 [==============================] - 2s 8ms/step - loss: 0.2703 - accuracy: 0.8902 - val_loss: 0.3378 - val_accuracy: 0.8562\n",
      "Epoch 7/10\n",
      "196/196 [==============================] - 2s 8ms/step - loss: 0.2496 - accuracy: 0.8999 - val_loss: 0.3431 - val_accuracy: 0.8559\n",
      "Epoch 8/10\n",
      "196/196 [==============================] - 2s 8ms/step - loss: 0.2296 - accuracy: 0.9100 - val_loss: 0.3542 - val_accuracy: 0.8529\n",
      "Epoch 9/10\n",
      "196/196 [==============================] - 2s 8ms/step - loss: 0.2099 - accuracy: 0.9193 - val_loss: 0.3591 - val_accuracy: 0.8528\n",
      "Epoch 10/10\n",
      "196/196 [==============================] - 2s 8ms/step - loss: 0.1923 - accuracy: 0.9278 - val_loss: 0.3911 - val_accuracy: 0.8429\n"
     ]
    }
   ],
   "source": [
    "model.compile(optimizer='RMSprop',\n",
    "              loss='binary_crossentropy',\n",
    "              metrics=['accuracy'])\n",
    "              \n",
    "epochs=10  # 몇 epoch를 훈련하면 좋을지 결과를 보면서 바꾸어 봅시다. \n",
    "\n",
    "history = model.fit(partial_X_train,\n",
    "                    partial_y_train,\n",
    "                    epochs=epochs,\n",
    "                    batch_size=512,\n",
    "                    validation_data=(X_val, y_val),\n",
    "                    verbose=1)"
   ]
  },
  {
   "cell_type": "markdown",
   "id": "extended-while",
   "metadata": {},
   "source": [
    "__모델 평가__"
   ]
  },
  {
   "cell_type": "code",
   "execution_count": 66,
   "id": "configured-french",
   "metadata": {},
   "outputs": [
    {
     "name": "stdout",
     "output_type": "stream",
     "text": [
      "1537/1537 - 2s - loss: 0.4016 - accuracy: 0.8384\n",
      "[0.40161290764808655, 0.838395357131958]\n"
     ]
    }
   ],
   "source": [
    "results = model.evaluate(X_test, y_test, verbose=2)\n",
    "\n",
    "print(results)"
   ]
  },
  {
   "cell_type": "markdown",
   "id": "instrumental-married",
   "metadata": {},
   "source": [
    "__시각화__"
   ]
  },
  {
   "cell_type": "code",
   "execution_count": 67,
   "id": "bacterial-claim",
   "metadata": {},
   "outputs": [
    {
     "name": "stdout",
     "output_type": "stream",
     "text": [
      "dict_keys(['loss', 'accuracy', 'val_loss', 'val_accuracy'])\n"
     ]
    }
   ],
   "source": [
    "# 시각화\n",
    "history_dict = history.history\n",
    "print(history_dict.keys()) "
   ]
  },
  {
   "cell_type": "code",
   "execution_count": 68,
   "id": "swedish-ensemble",
   "metadata": {},
   "outputs": [
    {
     "data": {
      "text/plain": [
       "<matplotlib.legend.Legend at 0x7f6174e12890>"
      ]
     },
     "execution_count": 68,
     "metadata": {},
     "output_type": "execute_result"
    },
    {
     "data": {
      "image/png": "[encoded data removed]",
      "text/plain": [
       "<Figure size 1080x288 with 2 Axes>"
      ]
     },
     "metadata": {
      "needs_background": "light"
     },
     "output_type": "display_data"
    }
   ],
   "source": [
    "acc = history_dict['accuracy']\n",
    "val_acc = history_dict['val_accuracy']\n",
    "loss = history_dict['loss']\n",
    "val_loss = history_dict['val_loss']\n",
    "\n",
    "epochs = range(1, len(acc) + 1)\n",
    "\n",
    "plt.figure(figsize=(15,4))\n",
    "\n",
    "plt.subplot(1, 2, 1)\n",
    "plt.plot(epochs, loss, color='r', marker='o', label='Training loss')\n",
    "plt.plot(epochs, val_loss, color='b', marker='o', label='Validation loss')\n",
    "plt.title('Training and validation loss')\n",
    "plt.xlabel('Epochs')\n",
    "plt.ylabel('Loss')\n",
    "plt.legend()\n",
    "\n",
    "plt.subplot(1, 2, 2)\n",
    "plt.plot(epochs, acc, 'r--', marker='o', label='Training acc')\n",
    "plt.plot(epochs, val_acc, 'b--', marker='o', label='Validation acc')\n",
    "plt.title('Training and validation accuracy')\n",
    "plt.xlabel('Epochs')\n",
    "plt.ylabel('Accuracy')\n",
    "plt.legend()"
   ]
  },
  {
   "cell_type": "markdown",
   "id": "hundred-perspective",
   "metadata": {},
   "source": [
    "### GlobalMaxPooling1D"
   ]
  },
  {
   "cell_type": "markdown",
   "id": "prime-federal",
   "metadata": {},
   "source": [
    "__모델 설계__"
   ]
  },
  {
   "cell_type": "code",
   "execution_count": 69,
   "id": "accompanied-effects",
   "metadata": {},
   "outputs": [
    {
     "name": "stdout",
     "output_type": "stream",
     "text": [
      "Model: \"sequential_6\"\n",
      "_________________________________________________________________\n",
      "Layer (type)                 Output Shape              Param #   \n",
      "=================================================================\n",
      "embedding_6 (Embedding)      (None, None, 16)          160000    \n",
      "_________________________________________________________________\n",
      "global_max_pooling1d_3 (Glob (None, 16)                0         \n",
      "_________________________________________________________________\n",
      "dense_12 (Dense)             (None, 8)                 136       \n",
      "_________________________________________________________________\n",
      "dense_13 (Dense)             (None, 1)                 9         \n",
      "=================================================================\n",
      "Total params: 160,145\n",
      "Trainable params: 160,145\n",
      "Non-trainable params: 0\n",
      "_________________________________________________________________\n"
     ]
    }
   ],
   "source": [
    "vocab_size = 10000  # 어휘 사전의 크기입니다(10개의 단어)\n",
    "word_vector_dim = 16   # 단어 하나를 표현하는 임베딩 벡터의 차원 수입니다. \n",
    "\n",
    "model = keras.Sequential()\n",
    "model.add(keras.layers.Embedding(vocab_size, word_vector_dim, input_shape=(None,)))\n",
    "model.add(keras.layers.GlobalMaxPooling1D())\n",
    "model.add(keras.layers.Dense(8, activation='relu'))\n",
    "model.add(keras.layers.Dense(1, activation='sigmoid'))  # 최종 출력은 긍정/부정을 나타내는 1dim 입니다.\n",
    "\n",
    "model.summary()"
   ]
  },
  {
   "cell_type": "markdown",
   "id": "fifty-commercial",
   "metadata": {},
   "source": [
    "__모델 훈련__"
   ]
  },
  {
   "cell_type": "code",
   "execution_count": 70,
   "id": "fitted-hampshire",
   "metadata": {},
   "outputs": [
    {
     "name": "stdout",
     "output_type": "stream",
     "text": [
      "Epoch 1/10\n",
      "196/196 [==============================] - 2s 6ms/step - loss: 0.6723 - accuracy: 0.6917 - val_loss: 0.5580 - val_accuracy: 0.7846\n",
      "Epoch 2/10\n",
      "196/196 [==============================] - 1s 5ms/step - loss: 0.5155 - accuracy: 0.7961 - val_loss: 0.4175 - val_accuracy: 0.8170\n",
      "Epoch 3/10\n",
      "196/196 [==============================] - 1s 5ms/step - loss: 0.3987 - accuracy: 0.8277 - val_loss: 0.3765 - val_accuracy: 0.8325\n",
      "Epoch 4/10\n",
      "196/196 [==============================] - 1s 5ms/step - loss: 0.3564 - accuracy: 0.8475 - val_loss: 0.3630 - val_accuracy: 0.8397\n",
      "Epoch 5/10\n",
      "196/196 [==============================] - 1s 5ms/step - loss: 0.3373 - accuracy: 0.8560 - val_loss: 0.3567 - val_accuracy: 0.8435\n",
      "Epoch 6/10\n",
      "196/196 [==============================] - 1s 5ms/step - loss: 0.3230 - accuracy: 0.8643 - val_loss: 0.3539 - val_accuracy: 0.8455\n",
      "Epoch 7/10\n",
      "196/196 [==============================] - 1s 5ms/step - loss: 0.3145 - accuracy: 0.8682 - val_loss: 0.3528 - val_accuracy: 0.8468\n",
      "Epoch 8/10\n",
      "196/196 [==============================] - 1s 5ms/step - loss: 0.3060 - accuracy: 0.8710 - val_loss: 0.3529 - val_accuracy: 0.8473\n",
      "Epoch 9/10\n",
      "196/196 [==============================] - 1s 5ms/step - loss: 0.2981 - accuracy: 0.8759 - val_loss: 0.3539 - val_accuracy: 0.8474\n",
      "Epoch 10/10\n",
      "196/196 [==============================] - 1s 5ms/step - loss: 0.2933 - accuracy: 0.8781 - val_loss: 0.3550 - val_accuracy: 0.8473\n"
     ]
    }
   ],
   "source": [
    "model.compile(optimizer='RMSprop',\n",
    "              loss='binary_crossentropy',\n",
    "              metrics=['accuracy'])\n",
    "              \n",
    "epochs=10  # 몇 epoch를 훈련하면 좋을지 결과를 보면서 바꾸어 봅시다. \n",
    "\n",
    "history = model.fit(partial_X_train,\n",
    "                    partial_y_train,\n",
    "                    epochs=epochs,\n",
    "                    batch_size=512,\n",
    "                    validation_data=(X_val, y_val),\n",
    "                    verbose=1)"
   ]
  },
  {
   "cell_type": "markdown",
   "id": "fifty-reynolds",
   "metadata": {},
   "source": [
    "__모델 평가__"
   ]
  },
  {
   "cell_type": "code",
   "execution_count": 71,
   "id": "subject-subsection",
   "metadata": {},
   "outputs": [
    {
     "name": "stdout",
     "output_type": "stream",
     "text": [
      "1537/1537 - 2s - loss: 0.3663 - accuracy: 0.8423\n",
      "[0.36630743741989136, 0.8422808647155762]\n"
     ]
    }
   ],
   "source": [
    "results = model.evaluate(X_test, y_test, verbose=2)\n",
    "\n",
    "print(results)"
   ]
  },
  {
   "cell_type": "markdown",
   "id": "perfect-wholesale",
   "metadata": {},
   "source": [
    "__시각화__"
   ]
  },
  {
   "cell_type": "code",
   "execution_count": 72,
   "id": "fixed-final",
   "metadata": {},
   "outputs": [
    {
     "name": "stdout",
     "output_type": "stream",
     "text": [
      "dict_keys(['loss', 'accuracy', 'val_loss', 'val_accuracy'])\n"
     ]
    }
   ],
   "source": [
    "# 시각화\n",
    "history_dict = history.history\n",
    "print(history_dict.keys()) "
   ]
  },
  {
   "cell_type": "code",
   "execution_count": 73,
   "id": "labeled-alexandria",
   "metadata": {},
   "outputs": [
    {
     "data": {
      "text/plain": [
       "<matplotlib.legend.Legend at 0x7f6174b75610>"
      ]
     },
     "execution_count": 73,
     "metadata": {},
     "output_type": "execute_result"
    },
    {
     "data": {
      "image/png": "[encoded data removed]",
      "text/plain": [
       "<Figure size 1080x288 with 2 Axes>"
      ]
     },
     "metadata": {
      "needs_background": "light"
     },
     "output_type": "display_data"
    }
   ],
   "source": [
    "acc = history_dict['accuracy']\n",
    "val_acc = history_dict['val_accuracy']\n",
    "loss = history_dict['loss']\n",
    "val_loss = history_dict['val_loss']\n",
    "\n",
    "epochs = range(1, len(acc) + 1)\n",
    "\n",
    "plt.figure(figsize=(15,4))\n",
    "\n",
    "plt.subplot(1, 2, 1)\n",
    "plt.plot(epochs, loss, color='r', marker='o', label='Training loss')\n",
    "plt.plot(epochs, val_loss, color='b', marker='o', label='Validation loss')\n",
    "plt.title('Training and validation loss')\n",
    "plt.xlabel('Epochs')\n",
    "plt.ylabel('Loss')\n",
    "plt.legend()\n",
    "\n",
    "\n",
    "plt.subplot(1, 2, 2)\n",
    "plt.plot(epochs, acc, 'r--', marker='o', label='Training acc')\n",
    "plt.plot(epochs, val_acc, 'b--', marker='o', label='Validation acc')\n",
    "plt.title('Training and validation accuracy')\n",
    "plt.xlabel('Epochs')\n",
    "plt.ylabel('Accuracy')\n",
    "plt.legend()"
   ]
  },
  {
   "cell_type": "markdown",
   "id": "armed-estate",
   "metadata": {},
   "source": [
    "## 학습된 Embedding 레이어 분석"
   ]
  },
  {
   "cell_type": "code",
   "execution_count": 74,
   "id": "rural-sussex",
   "metadata": {},
   "outputs": [
    {
     "name": "stdout",
     "output_type": "stream",
     "text": [
      "(10000, 16)\n"
     ]
    }
   ],
   "source": [
    "import os\n",
    "import gensim\n",
    "from gensim.models.keyedvectors import Word2VecKeyedVectors\n",
    "from tensorflow.keras.initializers import Constant\n",
    "\n",
    "embedding_layer = model.layers[0]\n",
    "weights = embedding_layer.get_weights()[0]\n",
    "print(weights.shape)   # shape: (vocab_size, embedding_dim)"
   ]
  },
  {
   "cell_type": "code",
   "execution_count": 75,
   "id": "brave-america",
   "metadata": {},
   "outputs": [],
   "source": [
    "import os\n",
    "\n",
    "# 학습한 Embedding 파라미터를 파일에 써서 저장합니다. \n",
    "word2vec_file_path = os.getenv('HOME')+'/aiffel/exploration/E07/sentiment_classification/data/word2vec.txt'\n",
    "f = open(word2vec_file_path, 'w')\n",
    "f.write('{} {}\\n'.format(vocab_size-4, word_vector_dim))  # 몇개의 벡터를 얼마 사이즈로 기재할지 타이틀을 씁니다.\n",
    "\n",
    "# 단어 개수(에서 특수문자 4개는 제외하고)만큼의 워드 벡터를 파일에 기록합니다. \n",
    "vectors = model.get_weights()[0]\n",
    "for i in range(4,vocab_size):\n",
    "    f.write('{} {}\\n'.format(index_to_word[i], ' '.join(map(str, list(vectors[i, :])))))\n",
    "f.close()"
   ]
  },
  {
   "cell_type": "code",
   "execution_count": 76,
   "id": "useful-confusion",
   "metadata": {},
   "outputs": [
    {
     "data": {
      "text/plain": [
       "array([-0.04191822, -0.09820771,  0.00724678, -0.11781214, -0.07866538,\n",
       "       -0.09028915, -0.10790052, -0.09761561,  0.00416257, -0.03509455,\n",
       "        0.00501326, -0.05767121,  0.12388616, -0.07938895, -0.11601929,\n",
       "       -0.079024  ], dtype=float32)"
      ]
     },
     "execution_count": 76,
     "metadata": {},
     "output_type": "execute_result"
    }
   ],
   "source": [
    "from gensim.models.keyedvectors import Word2VecKeyedVectors\n",
    "\n",
    "word_vectors = Word2VecKeyedVectors.load_word2vec_format(word2vec_file_path, binary=False)\n",
    "\n",
    "vector = word_vectors['무서운']\n",
    "vector"
   ]
  },
  {
   "cell_type": "code",
   "execution_count": 77,
   "id": "legal-croatia",
   "metadata": {},
   "outputs": [
    {
     "data": {
      "text/plain": [
       "[('ㅋ', 0.9598186016082764),\n",
       " ('But', 0.9473171234130859),\n",
       " ('지혜', 0.9403699040412903),\n",
       " ('덕', 0.9372261762619019),\n",
       " ('더군요', 0.9297573566436768),\n",
       " ('숀', 0.929451584815979),\n",
       " ('실화', 0.9228657484054565),\n",
       " ('옵', 0.9213446378707886),\n",
       " ('세상', 0.9165921211242676),\n",
       " ('감정', 0.9160683155059814)]"
      ]
     },
     "execution_count": 77,
     "metadata": {},
     "output_type": "execute_result"
    }
   ],
   "source": [
    "word_vectors.similar_by_word(\"무서운\")"
   ]
  },
  {
   "cell_type": "markdown",
   "id": "commercial-season",
   "metadata": {},
   "source": [
    "## 한국어 Word2Vec 임베딩 활용 성능 개선"
   ]
  },
  {
   "cell_type": "code",
   "execution_count": 78,
   "id": "violent-germany",
   "metadata": {},
   "outputs": [
    {
     "name": "stderr",
     "output_type": "stream",
     "text": [
      "/opt/conda/lib/python3.7/site-packages/ipykernel_launcher.py:5: DeprecationWarning: Call to deprecated `__getitem__` (Method will be removed in 4.0.0, use self.wv.__getitem__() instead).\n",
      "  \"\"\"\n"
     ]
    },
    {
     "data": {
      "text/plain": [
       "array([-0.24589412, -0.2997355 , -0.21933518, -0.6895362 , -0.20709205,\n",
       "       -0.11269051, -0.20730084,  0.13952582, -0.03920427, -0.03002776,\n",
       "        0.12838244, -0.4806046 ,  0.24563384,  0.15346129,  0.00095992,\n",
       "       -0.276586  , -0.06469819, -0.03427793,  0.06423511, -0.41485658,\n",
       "       -0.18523969,  0.34493387,  0.00390786, -0.03683728, -0.11530887,\n",
       "        0.08474598,  0.09951345,  0.09378272,  0.3237774 , -0.05825485,\n",
       "        0.11030284,  0.23983563, -0.5808367 , -0.08091211,  0.13395862,\n",
       "       -0.20894633,  0.160962  ,  0.13012794,  0.13553406, -0.21047778,\n",
       "       -0.41025117,  0.16132198,  0.15283999, -0.3526689 ,  0.23549904,\n",
       "       -0.11868552,  0.23966478,  0.11241938,  0.32805884,  0.13124104,\n",
       "       -0.21070935,  0.09859888, -0.00323418,  0.04344514, -0.18248425,\n",
       "       -0.02035202, -0.15306213,  0.23801841,  0.24382284, -0.48005247,\n",
       "        0.13151534,  0.38227504, -0.18493582,  0.35142717,  0.04102791,\n",
       "        0.1823288 ,  0.4657583 , -0.09732415, -0.2890572 ,  0.05485785,\n",
       "        0.01610797, -0.32810682,  0.05885639,  0.08114102,  0.3227371 ,\n",
       "        0.24960937,  0.1711039 ,  0.20851706, -0.07361507,  0.19079891,\n",
       "        0.1304893 , -0.5756988 ,  0.50065625, -0.25210512, -0.16867958,\n",
       "       -0.01613703, -0.14434077, -0.21886154, -0.09225854,  0.22887373,\n",
       "       -0.29188475, -0.69425076, -0.10260929, -0.1526215 ,  0.06478399,\n",
       "        0.10174388, -0.26247627,  0.13318922,  0.37364167,  0.28159162,\n",
       "       -0.22945155, -0.11150555,  0.08025065,  0.00671979, -0.49356624,\n",
       "        0.16054067,  0.56788325,  0.02228548,  0.10901362, -0.3186232 ,\n",
       "        0.39662704, -0.1708755 ,  0.17775288, -0.12455772,  0.14922039,\n",
       "        0.09163618, -0.38131744,  0.24295343,  0.04825466,  0.54035527,\n",
       "        0.07748768, -0.18226646,  0.02852681, -0.10874882,  0.05283294,\n",
       "        0.87059927, -0.1167769 , -0.08644243, -0.31920052, -0.4295617 ,\n",
       "       -0.15342443, -0.35749197,  0.13424653,  0.1853533 ,  0.3717621 ,\n",
       "       -0.16900787, -0.08488611, -0.5068267 ,  0.04077299, -0.16214935,\n",
       "       -0.32395437,  0.00795843, -0.09505341,  0.13298604,  0.03414764,\n",
       "        0.09668819, -0.40141773, -0.4651926 , -0.3718297 ,  0.21234587,\n",
       "       -0.11602977, -0.18485299, -0.32231253, -0.00175038, -0.5277436 ,\n",
       "       -0.03262641,  0.10711834,  0.6386627 ,  0.0814149 , -0.01871996,\n",
       "        0.77794814, -0.48277676, -0.04759088, -0.22229646, -0.18364407,\n",
       "       -0.19653739,  0.2093866 , -0.0882895 , -0.12883863,  0.31466326,\n",
       "        0.25611565, -0.4193287 ,  0.44908026, -0.1647732 ,  0.38574722,\n",
       "       -0.33914724, -0.42086303, -0.01178943,  0.03497935, -0.06933138,\n",
       "       -0.38027585, -0.02436934,  0.13649987, -0.3216456 ,  0.07535098,\n",
       "        0.2255491 ,  0.22829522, -0.03220996, -0.29153037, -0.47751725,\n",
       "        0.2744337 ,  0.48359218,  0.07186139,  0.15337136,  0.06517248,\n",
       "        0.1933366 ,  0.4153965 ,  0.5123991 ,  0.26663524, -0.03388782],\n",
       "      dtype=float32)"
      ]
     },
     "execution_count": 78,
     "metadata": {},
     "output_type": "execute_result"
    }
   ],
   "source": [
    "from gensim.models import KeyedVectors\n",
    "\n",
    "word2vec_path = os.getenv('HOME') + '/aiffel/exploration/E07/sentiment_classification/data/ko.bin'\n",
    "word2vec = gensim.models.Word2Vec.load(word2vec_path)\n",
    "vector = word2vec['짜증']\n",
    "vector  "
   ]
  },
  {
   "cell_type": "code",
   "execution_count": 79,
   "id": "excellent-sensitivity",
   "metadata": {},
   "outputs": [
    {
     "name": "stderr",
     "output_type": "stream",
     "text": [
      "/opt/conda/lib/python3.7/site-packages/ipykernel_launcher.py:2: DeprecationWarning: Call to deprecated `similar_by_word` (Method will be removed in 4.0.0, use self.wv.similar_by_word() instead).\n",
      "  \n"
     ]
    },
    {
     "data": {
      "text/plain": [
       "[('싫증', 0.7431163787841797),\n",
       " ('흠집', 0.590933620929718),\n",
       " ('흉내', 0.5880372524261475),\n",
       " ('아물', 0.5121865272521973),\n",
       " ('울음소리', 0.5063953995704651),\n",
       " ('탄로', 0.4944570064544678),\n",
       " ('그러', 0.4920297861099243),\n",
       " ('내보', 0.48765820264816284),\n",
       " ('악취', 0.48633816838264465),\n",
       " ('이거', 0.48398834466934204)]"
      ]
     },
     "execution_count": 79,
     "metadata": {},
     "output_type": "execute_result"
    }
   ],
   "source": [
    "# 메모리를 다소 많이 소비하는 작업이니 유의해 주세요.\n",
    "word2vec.similar_by_word(\"짜증\")"
   ]
  },
  {
   "cell_type": "code",
   "execution_count": 80,
   "id": "happy-error",
   "metadata": {},
   "outputs": [
    {
     "name": "stderr",
     "output_type": "stream",
     "text": [
      "/opt/conda/lib/python3.7/site-packages/ipykernel_launcher.py:8: DeprecationWarning: Call to deprecated `__contains__` (Method will be removed in 4.0.0, use self.wv.__contains__() instead).\n",
      "  \n",
      "/opt/conda/lib/python3.7/site-packages/ipykernel_launcher.py:9: DeprecationWarning: Call to deprecated `__getitem__` (Method will be removed in 4.0.0, use self.wv.__getitem__() instead).\n",
      "  if __name__ == '__main__':\n"
     ]
    }
   ],
   "source": [
    "vocab_size = 10000\n",
    "word_vector_dim = 200\n",
    "\n",
    "embedding_matrix = np.random.rand(vocab_size, word_vector_dim)\n",
    "\n",
    "# embedding_matrix에 Word2Vec 워드 벡터를 단어 하나씩마다 차례차례 카피한다.\n",
    "for i in range(4, vocab_size):\n",
    "    if index_to_word[i] in word2vec:\n",
    "        embedding_matrix[i] = word2vec[index_to_word[i]]"
   ]
  },
  {
   "cell_type": "code",
   "execution_count": 81,
   "id": "prospective-utility",
   "metadata": {},
   "outputs": [
    {
     "name": "stdout",
     "output_type": "stream",
     "text": [
      "Model: \"sequential_7\"\n",
      "_________________________________________________________________\n",
      "Layer (type)                 Output Shape              Param #   \n",
      "=================================================================\n",
      "embedding_7 (Embedding)      (None, None, 200)         2000000   \n",
      "_________________________________________________________________\n",
      "lstm_3 (LSTM)                (None, 256)               467968    \n",
      "_________________________________________________________________\n",
      "dense_14 (Dense)             (None, 8)                 2056      \n",
      "_________________________________________________________________\n",
      "dense_15 (Dense)             (None, 1)                 9         \n",
      "=================================================================\n",
      "Total params: 2,470,033\n",
      "Trainable params: 2,470,033\n",
      "Non-trainable params: 0\n",
      "_________________________________________________________________\n"
     ]
    }
   ],
   "source": [
    "from tensorflow.keras.initializers import Constant\n",
    "\n",
    "# 모델 구성\n",
    "model = keras.Sequential()\n",
    "model.add(keras.layers.Embedding(vocab_size, word_vector_dim, input_shape=(None,)))\n",
    "model.add(keras.layers.LSTM(256))   # 가장 널리 쓰이는 RNN인 LSTM 레이어를 사용하였습니다. 이때 LSTM state 벡터의 차원수는 8로 하였습니다. (변경 가능)\n",
    "model.add(keras.layers.Dense(8, activation='relu'))\n",
    "model.add(keras.layers.Dense(1, activation='sigmoid'))  # 최종 출력은 긍정/부정을 나타내는 1dim 입니다.\n",
    "\n",
    "model.summary()"
   ]
  },
  {
   "cell_type": "markdown",
   "id": "operational-founder",
   "metadata": {},
   "source": [
    "### 모델 학습"
   ]
  },
  {
   "cell_type": "code",
   "execution_count": 82,
   "id": "sophisticated-prince",
   "metadata": {},
   "outputs": [
    {
     "name": "stdout",
     "output_type": "stream",
     "text": [
      "Epoch 1/10\n",
      "196/196 [==============================] - 18s 80ms/step - loss: 0.5208 - accuracy: 0.7432 - val_loss: 0.3487 - val_accuracy: 0.8479\n",
      "Epoch 2/10\n",
      "196/196 [==============================] - 15s 78ms/step - loss: 0.3308 - accuracy: 0.8593 - val_loss: 0.3447 - val_accuracy: 0.8522\n",
      "Epoch 3/10\n",
      "196/196 [==============================] - 15s 78ms/step - loss: 0.2985 - accuracy: 0.8748 - val_loss: 0.3272 - val_accuracy: 0.8604\n",
      "Epoch 4/10\n",
      "196/196 [==============================] - 15s 78ms/step - loss: 0.2726 - accuracy: 0.8864 - val_loss: 0.3375 - val_accuracy: 0.8585\n",
      "Epoch 5/10\n",
      "196/196 [==============================] - 15s 79ms/step - loss: 0.2466 - accuracy: 0.8978 - val_loss: 0.3349 - val_accuracy: 0.8644\n",
      "Epoch 6/10\n",
      "196/196 [==============================] - 15s 78ms/step - loss: 0.2291 - accuracy: 0.9061 - val_loss: 0.3389 - val_accuracy: 0.8654\n",
      "Epoch 7/10\n",
      "196/196 [==============================] - 15s 78ms/step - loss: 0.2127 - accuracy: 0.9128 - val_loss: 0.3777 - val_accuracy: 0.8578\n",
      "Epoch 8/10\n",
      "196/196 [==============================] - 15s 79ms/step - loss: 0.1953 - accuracy: 0.9214 - val_loss: 0.3446 - val_accuracy: 0.8626\n",
      "Epoch 9/10\n",
      "196/196 [==============================] - 15s 78ms/step - loss: 0.1781 - accuracy: 0.9308 - val_loss: 0.3551 - val_accuracy: 0.8626\n",
      "Epoch 10/10\n",
      "196/196 [==============================] - 15s 78ms/step - loss: 0.1622 - accuracy: 0.9359 - val_loss: 0.3874 - val_accuracy: 0.8576\n"
     ]
    }
   ],
   "source": [
    "model.compile(optimizer='RMSprop',\n",
    "              loss='binary_crossentropy',\n",
    "              metrics=['accuracy'])\n",
    "              \n",
    "epochs=10  # 몇 epoch를 훈련하면 좋을지 결과를 보면서 바꾸어 봅시다. \n",
    "\n",
    "history = model.fit(partial_X_train,\n",
    "                    partial_y_train,\n",
    "                    epochs=epochs,\n",
    "                    batch_size=512,\n",
    "                    validation_data=(X_val, y_val),\n",
    "                    verbose=1)"
   ]
  },
  {
   "cell_type": "markdown",
   "id": "freelance-circuit",
   "metadata": {},
   "source": [
    "### 모델 평가"
   ]
  },
  {
   "cell_type": "code",
   "execution_count": 83,
   "id": "respective-national",
   "metadata": {},
   "outputs": [
    {
     "name": "stdout",
     "output_type": "stream",
     "text": [
      "1537/1537 - 7s - loss: 0.3925 - accuracy: 0.8551\n",
      "[0.3925210237503052, 0.8551172614097595]\n"
     ]
    }
   ],
   "source": [
    "results = model.evaluate(X_test,  y_test, verbose=2)\n",
    "\n",
    "print(results)"
   ]
  },
  {
   "cell_type": "markdown",
   "id": "amended-opportunity",
   "metadata": {},
   "source": [
    "### 시각화"
   ]
  },
  {
   "cell_type": "code",
   "execution_count": 84,
   "id": "technical-portland",
   "metadata": {},
   "outputs": [
    {
     "name": "stdout",
     "output_type": "stream",
     "text": [
      "dict_keys(['loss', 'accuracy', 'val_loss', 'val_accuracy'])\n"
     ]
    }
   ],
   "source": [
    "# 시각화\n",
    "history_dict = history.history\n",
    "print(history_dict.keys()) "
   ]
  },
  {
   "cell_type": "code",
   "execution_count": 85,
   "id": "approximate-combination",
   "metadata": {},
   "outputs": [
    {
     "data": {
      "text/plain": [
       "<matplotlib.legend.Legend at 0x7f629c28aa10>"
      ]
     },
     "execution_count": 85,
     "metadata": {},
     "output_type": "execute_result"
    },
    {
     "data": {
      "image/png": "[encoded data removed]",
      "text/plain": [
       "<Figure size 1080x288 with 2 Axes>"
      ]
     },
     "metadata": {
      "needs_background": "light"
     },
     "output_type": "display_data"
    }
   ],
   "source": [
    "acc = history_dict['accuracy']\n",
    "val_acc = history_dict['val_accuracy']\n",
    "loss = history_dict['loss']\n",
    "val_loss = history_dict['val_loss']\n",
    "\n",
    "epochs = range(1, len(acc) + 1)\n",
    "\n",
    "plt.figure(figsize=(15,4))\n",
    "\n",
    "plt.subplot(1, 2, 1)\n",
    "plt.plot(epochs, loss, color='r', marker='o', label='Training loss')\n",
    "plt.plot(epochs, val_loss, color='b', marker='o', label='Validation loss')\n",
    "plt.title('Training and validation loss')\n",
    "plt.xlabel('Epochs')\n",
    "plt.ylabel('Loss')\n",
    "plt.legend()\n",
    "\n",
    "\n",
    "plt.subplot(1, 2, 2)\n",
    "plt.plot(epochs, acc, 'r--', marker='o', label='Training acc')\n",
    "plt.plot(epochs, val_acc, 'b--', marker='o', label='Validation acc')\n",
    "plt.title('Training and validation accuracy')\n",
    "plt.xlabel('Epochs')\n",
    "plt.ylabel('Accuracy')\n",
    "plt.legend()"
   ]
  },
  {
   "cell_type": "markdown",
   "id": "graphic-lingerie",
   "metadata": {},
   "source": [
    "## 회고"
   ]
  },
  {
   "cell_type": "markdown",
   "id": "statewide-macro",
   "metadata": {},
   "source": [
    "__모델 학습__\n",
    "- 노드에서는 epochs을 20으로 주었으나, 학습 횟수가 늘어날 수록 오히려 정확도가 줄어드는 것 같아 epochs를 10 정도로 낮추어 진행하였다.\n",
    "- opitimizer를 항상 'adam'만 사용해 오다가 'RMSprop'라는게 정확도를 높인다고 해서 처음 사용 하였는데 오히려 'RMSprop' 적용 시 정확도가 낮게 나오는 경우도 있었다. 이 부분을 혹시 내가 잘못 적용한 게 있는지 다시 한번 체크해봐야겠다. "
   ]
  },
  {
   "cell_type": "markdown",
   "id": "frank-suspect",
   "metadata": {},
   "source": [
    "__모델 학습 결과 시각화__  \n",
    "- gensim, Word2Vec 등 새로운 자연어 처리 방법을 배웠고, 데이터 분석에서만 시각화를 많이 하는 줄 알았는데 이렇게 모델 학습 결과(loss, accuracy)를 시각화 해서 직관적으로 파악할 수 있다는 사실을 알게 되었다."
   ]
  },
  {
   "cell_type": "markdown",
   "id": "efficient-subcommittee",
   "metadata": {},
   "source": [
    "__Word2Vec 활용하기__\n",
    "- Word2Vec 임베딩 학습 전 gensim의 유사단어 찾기를 했을 때 연관성 없는 단어가 많이 나왔다. 그래서 Word2Vec 임베딩 후 다시 유사단어 찾기를 진행하니 기존과 달리 연관성이 높은 단어들이 나왔다. 그래서 정확도에도 뚜렷한 변화가 있을거라 생각했는데, 생각했던 것만큼 놀라운 변화는 없었다."
   ]
  },
  {
   "cell_type": "code",
   "execution_count": null,
   "id": "working-course",
   "metadata": {},
   "outputs": [],
   "source": []
  }
 ],
 "metadata": {
  "kernelspec": {
   "display_name": "Python 3",
   "language": "python",
   "name": "python3"
  }
 },
 "nbformat": 4,
 "nbformat_minor": 5
}
