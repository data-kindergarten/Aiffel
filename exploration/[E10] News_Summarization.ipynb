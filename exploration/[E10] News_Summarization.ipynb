{
 "cells": [
  {
   "cell_type": "markdown",
   "id": "daily-extent",
   "metadata": {},
   "source": [
    "# 프로젝트명 : 뉴스기사 요약해보기"
   ]
  },
  {
   "cell_type": "markdown",
   "id": "secondary-adaptation",
   "metadata": {},
   "source": [
    "## 루브릭"
   ]
  },
  {
   "cell_type": "markdown",
   "id": "hairy-settle",
   "metadata": {},
   "source": [
    "|평가문항|상세기준|\n",
    "|:-|:-|\n",
    "|1. Abstractive 모델 구성을 위한 텍스트 전처리 단계가 체계적으로 진행되었다.|분석단계, 정제단계, 정규화와 불용어 제거, 데이터셋 분리, 인코딩 과정이 빠짐없이 체계적으로 진행되었다.|\n",
    "|2. 텍스트 요약모델이 성공적으로 학습되었음을 확인하였다.|모델학습이 안정적으로 수렴되었음을 그래프를 통해 확인하였으며, 실제 요약문과 유사한 요약문장을 얻을 수 있었다.|\n",
    "|3. Extractive 요약을 시도해 보고 Abstractive 요약 결과과 함께 비교해 보았다.|두 요약 결과를 문법완성도 측면과 핵심단어 포함 측면으로 나누어 비교분석 결과를 제시하였다.|"
   ]
  },
  {
   "cell_type": "markdown",
   "id": "reported-lightning",
   "metadata": {},
   "source": [
    "## 텍스트 요약 이해하기"
   ]
  },
  {
   "cell_type": "markdown",
   "id": "drawn-cattle",
   "metadata": {},
   "source": [
    "![img01](https://d3s0tskafalll9.cloudfront.net/media/original_images/E-21-1.png)"
   ]
  },
  {
   "cell_type": "markdown",
   "id": "right-sterling",
   "metadata": {},
   "source": [
    "### 추출적 요약(Extractive Summarization)"
   ]
  },
  {
   "cell_type": "markdown",
   "id": "eastern-underground",
   "metadata": {},
   "source": [
    "- 추출적 요약은 __단어 그대로 원문에서 문장들을 추출해서 요약하는 방식__이다. 가령, 10개의 문장으로 구성된 텍스트가 있다면, 그중 핵심적인 문장 3개를 꺼내와서 3개의 문장으로 구성된 요약문을 만드는 식이다. 하지만 꺼내온 3개의 문장이 원문에서 중요한 문장일 수는 있어도, 3개의 문장의 연결이 자연스럽지 않을 수는 있기 때문에 결과로 나온 문장들 간의 호응이 자연스럽지 않을 수 있느 문제점이 있다.  \n",
    "  \n",
    "  \n",
    "- 딥 러닝보다는 주로 전통적인 머신 러닝 방식에 속하는 텍스트 랭크(TextRank)와 같은 알고리즘을 사용해서 이 방법을 사용하는데 __가장 대표적인 것이 네이버 뉴스 서비스에 있는 요약봇 기능__이다.  \n",
    "  \n",
    "  \n",
    "- 원문을 구성하는 문장 중 어느 것이 요약문에 들어갈 핵심문장인지를 판별한다는 점에서 __문장 분류(Text Classification)__ 문제로 볼 수 있다."
   ]
  },
  {
   "cell_type": "markdown",
   "id": "bibliographic-championship",
   "metadata": {},
   "source": [
    "### 추상적 요약(Abstrctive Summarization)"
   ]
  },
  {
   "cell_type": "markdown",
   "id": "understanding-newsletter",
   "metadata": {},
   "source": [
    "- __원문으로부터 내용이 요약된 새로운 문장을 생성해내는 것__이죠. 여기서 새로운 문장이라는 것은 결과로 나온 문장이 원문에 원래 없던 문장일 수도 있다는 것을 의미합니다.   \n",
    "  \n",
    "    \n",
    "- 자연어 처리 분야 중 __자연어 생성(Natural Language Generation, NLG)의 영역__이다."
   ]
  },
  {
   "cell_type": "markdown",
   "id": "analyzed-chapter",
   "metadata": {},
   "source": [
    "# Part1. 추상적 요약(Abstractive summarization)"
   ]
  },
  {
   "cell_type": "markdown",
   "id": "gothic-channel",
   "metadata": {},
   "source": [
    "## 1. 데이터 수집하기"
   ]
  },
  {
   "cell_type": "code",
   "execution_count": 1,
   "id": "irish-inspector",
   "metadata": {},
   "outputs": [
    {
     "name": "stderr",
     "output_type": "stream",
     "text": [
      "[nltk_data] Downloading package stopwords to /aiffel/nltk_data...\n",
      "[nltk_data]   Unzipping corpora/stopwords.zip.\n"
     ]
    }
   ],
   "source": [
    "# 패키지 불러오기\n",
    "import nltk\n",
    "nltk.download('stopwords')\n",
    "\n",
    "import numpy as np\n",
    "import pandas as pd\n",
    "import os\n",
    "import re\n",
    "import matplotlib.pyplot as plt\n",
    "from nltk.corpus import stopwords\n",
    "from bs4 import BeautifulSoup\n",
    "from tensorflow.keras.preprocessing.text import Tokenizer\n",
    "from tensorflow.keras.preprocessing.sequence import pad_sequences\n",
    "import urllib.request"
   ]
  },
  {
   "cell_type": "code",
   "execution_count": 2,
   "id": "alert-proceeding",
   "metadata": {},
   "outputs": [
    {
     "name": "stdout",
     "output_type": "stream",
     "text": [
      "전체 샘플 수 : 98401\n"
     ]
    }
   ],
   "source": [
    "# 데이터 다운(※ 출처 : https://github.com/sunnysai12345/News_Summary)\n",
    "\n",
    "urllib.request.urlretrieve(\"https://raw.githubusercontent.com/sunnysai12345/News_Summary/master/news_summary_more.csv\", filename=\"news_summary_more.csv\")\n",
    "data = pd.read_csv('news_summary_more.csv', encoding='iso-8859-1')\n",
    "print('전체 샘플 수 :', (len(data)))"
   ]
  },
  {
   "cell_type": "code",
   "execution_count": 3,
   "id": "sexual-greene",
   "metadata": {},
   "outputs": [
    {
     "data": {
      "text/html": [
       "<div>\n",
       "<style scoped>\n",
       "    .dataframe tbody tr th:only-of-type {\n",
       "        vertical-align: middle;\n",
       "    }\n",
       "\n",
       "    .dataframe tbody tr th {\n",
       "        vertical-align: top;\n",
       "    }\n",
       "\n",
       "    .dataframe thead th {\n",
       "        text-align: right;\n",
       "    }\n",
       "</style>\n",
       "<table border=\"1\" class=\"dataframe\">\n",
       "  <thead>\n",
       "    <tr style=\"text-align: right;\">\n",
       "      <th></th>\n",
       "      <th>headlines</th>\n",
       "      <th>text</th>\n",
       "    </tr>\n",
       "  </thead>\n",
       "  <tbody>\n",
       "    <tr>\n",
       "      <th>80397</th>\n",
       "      <td>Harvard scientists create most advanced quantu...</td>\n",
       "      <td>A US-Russia research collaboration at Harvard ...</td>\n",
       "    </tr>\n",
       "    <tr>\n",
       "      <th>39072</th>\n",
       "      <td>You always got my back, I got yours: Arjun on ...</td>\n",
       "      <td>Sonam Kapoor's cousin Arjun Kapoor shared a ph...</td>\n",
       "    </tr>\n",
       "    <tr>\n",
       "      <th>46500</th>\n",
       "      <td>Can't appear before ED as passport is suspende...</td>\n",
       "      <td>Billionaire jeweller Nirav Modi has told the E...</td>\n",
       "    </tr>\n",
       "    <tr>\n",
       "      <th>80763</th>\n",
       "      <td>Killer of Putin critic Nemtsov sentenced to 20...</td>\n",
       "      <td>A Russian court has handed prison sentences ra...</td>\n",
       "    </tr>\n",
       "    <tr>\n",
       "      <th>32369</th>\n",
       "      <td>I want audience to expect the unexpected from ...</td>\n",
       "      <td>Ranveer Singh said it is his constant endeavou...</td>\n",
       "    </tr>\n",
       "    <tr>\n",
       "      <th>64625</th>\n",
       "      <td>Tourist jailed for 3 months in Dubai for touch...</td>\n",
       "      <td>A British tourist has been sentenced to three ...</td>\n",
       "    </tr>\n",
       "    <tr>\n",
       "      <th>74588</th>\n",
       "      <td>Child care allowance for women with disabiliti...</td>\n",
       "      <td>The Centre has doubled the allowance for women...</td>\n",
       "    </tr>\n",
       "    <tr>\n",
       "      <th>6944</th>\n",
       "      <td>BeyoncÃÂ© arrives in India for Isha Ambani's ...</td>\n",
       "      <td>American singer BeyoncÃÂ© arrived in Udaipur,...</td>\n",
       "    </tr>\n",
       "    <tr>\n",
       "      <th>90879</th>\n",
       "      <td>Facebook CEO Mark Zuckerberg rides tractor on ...</td>\n",
       "      <td>Facebook Co-founder and CEO Mark Zuckerberg ha...</td>\n",
       "    </tr>\n",
       "    <tr>\n",
       "      <th>46774</th>\n",
       "      <td>Pak, China behind rising B'desh immigrants in ...</td>\n",
       "      <td>Talking about rising Bangladeshi immigrants in...</td>\n",
       "    </tr>\n",
       "  </tbody>\n",
       "</table>\n",
       "</div>"
      ],
      "text/plain": [
       "                                               headlines  \\\n",
       "80397  Harvard scientists create most advanced quantu...   \n",
       "39072  You always got my back, I got yours: Arjun on ...   \n",
       "46500  Can't appear before ED as passport is suspende...   \n",
       "80763  Killer of Putin critic Nemtsov sentenced to 20...   \n",
       "32369  I want audience to expect the unexpected from ...   \n",
       "64625  Tourist jailed for 3 months in Dubai for touch...   \n",
       "74588  Child care allowance for women with disabiliti...   \n",
       "6944   BeyoncÃÂ© arrives in India for Isha Ambani's ...   \n",
       "90879  Facebook CEO Mark Zuckerberg rides tractor on ...   \n",
       "46774  Pak, China behind rising B'desh immigrants in ...   \n",
       "\n",
       "                                                    text  \n",
       "80397  A US-Russia research collaboration at Harvard ...  \n",
       "39072  Sonam Kapoor's cousin Arjun Kapoor shared a ph...  \n",
       "46500  Billionaire jeweller Nirav Modi has told the E...  \n",
       "80763  A Russian court has handed prison sentences ra...  \n",
       "32369  Ranveer Singh said it is his constant endeavou...  \n",
       "64625  A British tourist has been sentenced to three ...  \n",
       "74588  The Centre has doubled the allowance for women...  \n",
       "6944   American singer BeyoncÃÂ© arrived in Udaipur,...  \n",
       "90879  Facebook Co-founder and CEO Mark Zuckerberg ha...  \n",
       "46774  Talking about rising Bangladeshi immigrants in...  "
      ]
     },
     "execution_count": 3,
     "metadata": {},
     "output_type": "execute_result"
    }
   ],
   "source": [
    "data.sample(10)"
   ]
  },
  {
   "cell_type": "markdown",
   "id": "documentary-surveillance",
   "metadata": {},
   "source": [
    "## 2. 데이터 전처리 (1) 데이터 정리"
   ]
  },
  {
   "cell_type": "markdown",
   "id": "quarterly-prescription",
   "metadata": {},
   "source": [
    "### 중복 샘플과 Null값이 존재하는 샘플 제거"
   ]
  },
  {
   "cell_type": "code",
   "execution_count": 4,
   "id": "completed-virtue",
   "metadata": {
    "scrolled": true
   },
   "outputs": [
    {
     "data": {
      "text/plain": [
       "(98401, 2)"
      ]
     },
     "execution_count": 4,
     "metadata": {},
     "output_type": "execute_result"
    }
   ],
   "source": [
    "data.shape"
   ]
  },
  {
   "cell_type": "code",
   "execution_count": 5,
   "id": "subjective-price",
   "metadata": {},
   "outputs": [
    {
     "name": "stdout",
     "output_type": "stream",
     "text": [
      "Text 열에서 중복을 배제한 유일한 샘플의 수 : 98360\n",
      "Headlines 열에서 중복을 배제한 유일한 샘플의 수 : 98280\n"
     ]
    }
   ],
   "source": [
    "print('Text 열에서 중복을 배제한 유일한 샘플의 수 :', data['text'].nunique())\n",
    "print('Headlines 열에서 중복을 배제한 유일한 샘플의 수 :', data['headlines'].nunique())"
   ]
  },
  {
   "cell_type": "markdown",
   "id": "stupid-heritage",
   "metadata": {},
   "source": [
    "Headlines는 아주 간단한 요약일 경우 Text가 달라도 중복될 수 있다.  \n",
    "  \n",
    "하지만 Text 자체가 중복이 되는 경우는 중복 샘플이므로 제거를 해줘야 한다."
   ]
  },
  {
   "cell_type": "code",
   "execution_count": 6,
   "id": "novel-flooring",
   "metadata": {},
   "outputs": [
    {
     "name": "stdout",
     "output_type": "stream",
     "text": [
      "전체 샘플 수 : 98360\n"
     ]
    }
   ],
   "source": [
    "# drop_duplicates()를 이용해 중복 샘플 제거하기\n",
    "data.drop_duplicates(subset = ['text'], inplace=True)\n",
    "print('전체 샘플 수 :', len(data))"
   ]
  },
  {
   "cell_type": "code",
   "execution_count": 7,
   "id": "protecting-procedure",
   "metadata": {},
   "outputs": [
    {
     "data": {
      "text/plain": [
       "headlines    0\n",
       "text         0\n",
       "dtype: int64"
      ]
     },
     "execution_count": 7,
     "metadata": {},
     "output_type": "execute_result"
    }
   ],
   "source": [
    "# isnull()을 이용해 데이터 프레임에 Null 값이 있는지 추가로 확인하기\n",
    "data.isnull().sum()  # Null값이 발견되지 않았다."
   ]
  },
  {
   "cell_type": "markdown",
   "id": "golden-directory",
   "metadata": {},
   "source": [
    "### 텍스트 정규화와 불용어 제거"
   ]
  },
  {
   "cell_type": "markdown",
   "id": "southeast-intellectual",
   "metadata": {},
   "source": [
    "많은 단어들 중에서는 같은 의미인데도 다른 표현으로 쓰여 마치 다른 단어들처럼 간주되는 경우가 있습니다.\n",
    "이런 경우 기계가 굳이 이들을 마치 다른 단어로 간주하게 해서 연산량을 늘리는 것보다는 기계 학습 전에 미리 같은 표현으로 통일시켜주는 것이 기계의 연산량을 줄일 수 있는 방법이므로 텍스트 정규화를 작업을 진행합니다."
   ]
  },
  {
   "cell_type": "code",
   "execution_count": 8,
   "id": "postal-corner",
   "metadata": {},
   "outputs": [
    {
     "name": "stdout",
     "output_type": "stream",
     "text": [
      "정규화 사전의 수:  120\n"
     ]
    }
   ],
   "source": [
    "# 텍스트 정규화\n",
    "contractions = {\"ain't\": \"is not\", \"aren't\": \"are not\",\"can't\": \"cannot\", \"'cause\": \"because\", \"could've\": \"could have\", \"couldn't\": \"could not\",\n",
    "                           \"didn't\": \"did not\",  \"doesn't\": \"does not\", \"don't\": \"do not\", \"hadn't\": \"had not\", \"hasn't\": \"has not\", \"haven't\": \"have not\",\n",
    "                           \"he'd\": \"he would\",\"he'll\": \"he will\", \"he's\": \"he is\", \"how'd\": \"how did\", \"how'd'y\": \"how do you\", \"how'll\": \"how will\", \"how's\": \"how is\",\n",
    "                           \"I'd\": \"I would\", \"I'd've\": \"I would have\", \"I'll\": \"I will\", \"I'll've\": \"I will have\",\"I'm\": \"I am\", \"I've\": \"I have\", \"i'd\": \"i would\",\n",
    "                           \"i'd've\": \"i would have\", \"i'll\": \"i will\",  \"i'll've\": \"i will have\",\"i'm\": \"i am\", \"i've\": \"i have\", \"isn't\": \"is not\", \"it'd\": \"it would\",\n",
    "                           \"it'd've\": \"it would have\", \"it'll\": \"it will\", \"it'll've\": \"it will have\",\"it's\": \"it is\", \"let's\": \"let us\", \"ma'am\": \"madam\",\n",
    "                           \"mayn't\": \"may not\", \"might've\": \"might have\",\"mightn't\": \"might not\",\"mightn't've\": \"might not have\", \"must've\": \"must have\",\n",
    "                           \"mustn't\": \"must not\", \"mustn't've\": \"must not have\", \"needn't\": \"need not\", \"needn't've\": \"need not have\",\"o'clock\": \"of the clock\",\n",
    "                           \"oughtn't\": \"ought not\", \"oughtn't've\": \"ought not have\", \"shan't\": \"shall not\", \"sha'n't\": \"shall not\", \"shan't've\": \"shall not have\",\n",
    "                           \"she'd\": \"she would\", \"she'd've\": \"she would have\", \"she'll\": \"she will\", \"she'll've\": \"she will have\", \"she's\": \"she is\",\n",
    "                           \"should've\": \"should have\", \"shouldn't\": \"should not\", \"shouldn't've\": \"should not have\", \"so've\": \"so have\",\"so's\": \"so as\",\n",
    "                           \"this's\": \"this is\",\"that'd\": \"that would\", \"that'd've\": \"that would have\", \"that's\": \"that is\", \"there'd\": \"there would\",\n",
    "                           \"there'd've\": \"there would have\", \"there's\": \"there is\", \"here's\": \"here is\",\"they'd\": \"they would\", \"they'd've\": \"they would have\",\n",
    "                           \"they'll\": \"they will\", \"they'll've\": \"they will have\", \"they're\": \"they are\", \"they've\": \"they have\", \"to've\": \"to have\",\n",
    "                           \"wasn't\": \"was not\", \"we'd\": \"we would\", \"we'd've\": \"we would have\", \"we'll\": \"we will\", \"we'll've\": \"we will have\", \"we're\": \"we are\",\n",
    "                           \"we've\": \"we have\", \"weren't\": \"were not\", \"what'll\": \"what will\", \"what'll've\": \"what will have\", \"what're\": \"what are\",\n",
    "                           \"what's\": \"what is\", \"what've\": \"what have\", \"when's\": \"when is\", \"when've\": \"when have\", \"where'd\": \"where did\", \"where's\": \"where is\",\n",
    "                           \"where've\": \"where have\", \"who'll\": \"who will\", \"who'll've\": \"who will have\", \"who's\": \"who is\", \"who've\": \"who have\",\n",
    "                           \"why's\": \"why is\", \"why've\": \"why have\", \"will've\": \"will have\", \"won't\": \"will not\", \"won't've\": \"will not have\",\n",
    "                           \"would've\": \"would have\", \"wouldn't\": \"would not\", \"wouldn't've\": \"would not have\", \"y'all\": \"you all\",\n",
    "                           \"y'all'd\": \"you all would\",\"y'all'd've\": \"you all would have\",\"y'all're\": \"you all are\",\"y'all've\": \"you all have\",\n",
    "                           \"you'd\": \"you would\", \"you'd've\": \"you would have\", \"you'll\": \"you will\", \"you'll've\": \"you will have\",\n",
    "                           \"you're\": \"you are\", \"you've\": \"you have\"}\n",
    "\n",
    "print(\"정규화 사전의 수: \", len(contractions))"
   ]
  },
  {
   "cell_type": "markdown",
   "id": "strong-valuable",
   "metadata": {},
   "source": [
    "또한, 일반적으로 텍스트에는 자주 등장하지만 자연어 처리를 할 때 실질적으로 별 도움이 되지 않는 단어들이 존재하는데 이를 불용어(stopwords)라고 부릅니다. 때로는 불용어를 제거하는 것이 자연어 처리의 성능을 높이는 방법이라고 합니다. 여기서는 NLTK에서 제공하는 불용어 리스트를 참조해, 샘플에서 불용어를 제거 해보겠습니다."
   ]
  },
  {
   "cell_type": "code",
   "execution_count": 9,
   "id": "affecting-surge",
   "metadata": {},
   "outputs": [
    {
     "name": "stdout",
     "output_type": "stream",
     "text": [
      "불용어 개수 : 179\n",
      "['i', 'me', 'my', 'myself', 'we', 'our', 'ours', 'ourselves', 'you', \"you're\", \"you've\", \"you'll\", \"you'd\", 'your', 'yours', 'yourself', 'yourselves', 'he', 'him', 'his', 'himself', 'she', \"she's\", 'her', 'hers', 'herself', 'it', \"it's\", 'its', 'itself', 'they', 'them', 'their', 'theirs', 'themselves', 'what', 'which', 'who', 'whom', 'this', 'that', \"that'll\", 'these', 'those', 'am', 'is', 'are', 'was', 'were', 'be', 'been', 'being', 'have', 'has', 'had', 'having', 'do', 'does', 'did', 'doing', 'a', 'an', 'the', 'and', 'but', 'if', 'or', 'because', 'as', 'until', 'while', 'of', 'at', 'by', 'for', 'with', 'about', 'against', 'between', 'into', 'through', 'during', 'before', 'after', 'above', 'below', 'to', 'from', 'up', 'down', 'in', 'out', 'on', 'off', 'over', 'under', 'again', 'further', 'then', 'once', 'here', 'there', 'when', 'where', 'why', 'how', 'all', 'any', 'both', 'each', 'few', 'more', 'most', 'other', 'some', 'such', 'no', 'nor', 'not', 'only', 'own', 'same', 'so', 'than', 'too', 'very', 's', 't', 'can', 'will', 'just', 'don', \"don't\", 'should', \"should've\", 'now', 'd', 'll', 'm', 'o', 're', 've', 'y', 'ain', 'aren', \"aren't\", 'couldn', \"couldn't\", 'didn', \"didn't\", 'doesn', \"doesn't\", 'hadn', \"hadn't\", 'hasn', \"hasn't\", 'haven', \"haven't\", 'isn', \"isn't\", 'ma', 'mightn', \"mightn't\", 'mustn', \"mustn't\", 'needn', \"needn't\", 'shan', \"shan't\", 'shouldn', \"shouldn't\", 'wasn', \"wasn't\", 'weren', \"weren't\", 'won', \"won't\", 'wouldn', \"wouldn't\"]\n"
     ]
    }
   ],
   "source": [
    "# 불용어 제거\n",
    "print('불용어 개수 :', len(stopwords.words('english') ))\n",
    "print(stopwords.words('english'))"
   ]
  },
  {
   "cell_type": "markdown",
   "id": "overall-stevens",
   "metadata": {},
   "source": [
    "다음으로 모든 영어 문자는 소문자로 만들고, 섞여있는 html 태그를 제거하고, 정규 표현식을 통해 각종 특수문자를 제거해서 정말 필요한 내용만 잘 학습할 수 있도록 데이터 전처리를 진행합니다."
   ]
  },
  {
   "cell_type": "code",
   "execution_count": 10,
   "id": "shared-index",
   "metadata": {},
   "outputs": [],
   "source": [
    "# 데이터 전처리 함수\n",
    "def preprocess_sentence(sentence, remove_stopwords=True):\n",
    "    sentence = sentence.lower()  # 텍스트 소문자화\n",
    "    sentence = BeautifulSoup(sentence, 'lxml').text  # <br />, <a href = ...> 등의 html 태그 제거\n",
    "    sentence = re.sub(r'\\([^)]*\\)', '', sentence)  # 괄호로 닫힌 문자열 (...) 제거 Ex) my husband (and myself!) for => my husband for\n",
    "    sentence = re.sub('\"','', sentence)  # 쌍따옴표 \" 제거\n",
    "    sentence = ' '.join([contractions[t] if t in contractions else t for t in sentence.split(\" \")])  # 약어 정규화\n",
    "    sentence = re.sub(r\"'s\\b\",\"\", sentence)  # 소유격 제거. Ex) roland's -> roland\n",
    "    sentence = re.sub(\"[^a-zA-Z]\", \" \", sentence)  # 영어 외 문자(숫자, 특수문자 등) 공백으로 변환\n",
    "    sentence = re.sub('[m]{2,}', 'mm', sentence)  # m이 3개 이상이면 2개로 변경. Ex) ummmmmmm yeah -> umm yeah\n",
    "    \n",
    "    # 불용어 제거 (Text)\n",
    "    if remove_stopwords:\n",
    "        tokens = ' '.join(word for word in sentence.split() if not word in stopwords.words('english') if len(word) > 1)\n",
    "    # 불용어 미제거 (Summary)\n",
    "    else:\n",
    "        tokens = ' '.join(word for word in sentence.split() if len(word) > 1)\n",
    "    return tokens"
   ]
  },
  {
   "cell_type": "code",
   "execution_count": 11,
   "id": "adult-coral",
   "metadata": {},
   "outputs": [
    {
     "name": "stdout",
     "output_type": "stream",
     "text": [
      "everything bought great infact ordered twice third ordered wasfor mother father\n",
      "great way to start the day\n"
     ]
    }
   ],
   "source": [
    "# 전처리 전, 후의 결과를 확인하기 위해서 \n",
    "# 임의의 text와 summary를 만들어 함수를 호출해보겠습니다.\n",
    "\n",
    "temp_text = 'Everything I bought was great, infact I ordered twice and the third ordered was<br />for my mother and father.'\n",
    "temp_summary = 'Great way to start (or finish) the day!!!'\n",
    "\n",
    "print(preprocess_sentence(temp_text))\n",
    "print(preprocess_sentence(temp_summary, False))  # 불용어를 제거하지 않습니다."
   ]
  },
  {
   "cell_type": "markdown",
   "id": "palestinian-assessment",
   "metadata": {},
   "source": [
    "## 3. 데이터 전처리 (2) 훈련 데이터와 테스트 데이터 나누기"
   ]
  },
  {
   "cell_type": "markdown",
   "id": "modified-frequency",
   "metadata": {},
   "source": [
    "훈련 데이터 전체에 대해서 전처리를 수행해봅니다. 이때, Text의 경우에는 불용어를 제거하고, Summary의 경우에는 불용어를 제거하지 않을 것이므로 따로 호출해서 진행해야 해요. 먼저 Text를 전처리하고, 결과를 확인하기 위해서 상위 5개의 줄을 출력하겠습니다."
   ]
  },
  {
   "cell_type": "markdown",
   "id": "laden-senior",
   "metadata": {},
   "source": [
    "### 멀티프로세싱을 통한 훈련 데이터 전처리"
   ]
  },
  {
   "cell_type": "code",
   "execution_count": 12,
   "id": "french-extreme",
   "metadata": {},
   "outputs": [
    {
     "name": "stdout",
     "output_type": "stream",
     "text": [
      "192.95278525352478  seconds\n",
      "['saurav kant alumnus upgrad iiit pg program machine learning artificial intelligence sr systems engineer infosys almost years work experience program upgrad degree career support helped transition data scientist tech mahindra salary hike upgrad online power learning powered lakh careers'\n",
      " 'kunal shah credit card bill payment platform cred gave users chance win free food swiggy one year pranav kaushik delhi techie bagged reward spending cred coins users get one cred coin per rupee bill paid used avail rewards brands like ixigo bookmyshow ubereats cult fit'\n",
      " 'new zealand defeated india wickets fourth odi hamilton thursday win first match five match odi series india lost international match rohit sharma captaincy consecutive victories dating back march match witnessed india getting seventh lowest total odi cricket history'\n",
      " ...\n",
      " 'according reports new version science fiction film matrix development michael jordan reportedly play lead role film screenwriter zak penn talks write script film reports added actor keanu reeves starred original film followed two sequels'\n",
      " 'new music video shows rapper snoop dogg aiming toy gun clown character parodying us president donald trump video also shows tv airing news conference headline ronald klump wants deport doggs airing live clown house video remixed version song lavender'\n",
      " 'madhesi morcha alliance seven political parties withdrawn support pm pushpa kamal dahal led nepal government failed meet seven day ultimatum fulfil demands including endorsement revised constitution amendment bill morcha seats parliament despite withdrawal support immediate threat government']\n",
      "6.134801626205444  seconds\n",
      "['upgrad learner switches to career in ml al with salary hike'\n",
      " 'delhi techie wins free food from swiggy for one year on cred'\n",
      " 'new zealand end rohit sharma led india match winning streak' ...\n",
      " 'the matrix film to get reboot reports'\n",
      " 'snoop dogg aims gun at clown dressed as trump in new video'\n",
      " 'madhesi morcha withdraws support to nepalese government']\n"
     ]
    }
   ],
   "source": [
    "import multiprocessing as mp   # 멀티 프로세싱으로 전처리 속도를 획기적으로 줄여봅시다\n",
    "from multiprocessing import Pool\n",
    "import numpy as np\n",
    "import time\n",
    "from functools import partial  # map을 할 때 함수에 여러 인자를 넣어줄 수 있도록 합니다\n",
    "\n",
    "start = time.time()\n",
    "\n",
    "# num_cores 만큼 쪼개진 데이터를 전처리하여 반환합니다\n",
    "def appendTexts(sentences, remove_stopwords):\n",
    "    texts = []\n",
    "    for s in sentences:\n",
    "        texts += preprocess_sentence(s, remove_stopwords),\n",
    "    return texts\n",
    "\n",
    "def preprocess_data(data, remove_stopwords=True):\n",
    "    start_time = time.time()\n",
    "    num_cores = mp.cpu_count()  # 컴퓨터의 코어 수를 구합니다\n",
    "\n",
    "    text_data_split = np.array_split(data, num_cores)  # 코어 수만큼 데이터를 배분하여 병렬적으로 처리할 수 있게 합니다\n",
    "    pool = Pool(num_cores)\n",
    "\n",
    "    processed_data = np.concatenate(pool.map(partial(appendTexts, remove_stopwords=remove_stopwords), text_data_split))  # 각자 작업한 데이터를 하나로 합쳐줍니다\n",
    "    pool.close()\n",
    "    pool.join()\n",
    "    print(time.time() - start_time, \" seconds\")\n",
    "    return processed_data\n",
    "\n",
    "clean_text = preprocess_data(data['text'])  # 클라우드 기준으로 3~4분 정도 소요 됩니다\n",
    "print(clean_text)\n",
    "\n",
    "clean_headlines = preprocess_data(data['headlines'], remove_stopwords=False) # 클라우드 기준 1분정도 소요됩니다.\n",
    "print(clean_headlines)"
   ]
  },
  {
   "cell_type": "code",
   "execution_count": 13,
   "id": "unlike-experience",
   "metadata": {},
   "outputs": [],
   "source": [
    "data['text'] = clean_text\n",
    "data['headlines'] = clean_headlines\n",
    "\n",
    "# 빈 값을 Null 값으로 변환\n",
    "data.replace('', np.nan, inplace=True)"
   ]
  },
  {
   "cell_type": "code",
   "execution_count": 14,
   "id": "invalid-indie",
   "metadata": {},
   "outputs": [
    {
     "data": {
      "text/plain": [
       "headlines    0\n",
       "text         0\n",
       "dtype: int64"
      ]
     },
     "execution_count": 14,
     "metadata": {},
     "output_type": "execute_result"
    }
   ],
   "source": [
    "# Null값 확인\n",
    "data.isnull().sum()  # Null값이 존재 하지 않음"
   ]
  },
  {
   "cell_type": "markdown",
   "id": "fleet-palestine",
   "metadata": {},
   "source": [
    "### 샘플의 최대 길이 설정"
   ]
  },
  {
   "cell_type": "code",
   "execution_count": 15,
   "id": "numerical-third",
   "metadata": {},
   "outputs": [
    {
     "name": "stdout",
     "output_type": "stream",
     "text": [
      "텍스트의 최소 길이 : 1\n",
      "텍스트의 최대 길이 : 60\n",
      "텍스트의 평균 길이 : 35.09968483123221\n",
      "요약의 최소 길이 : 1\n",
      "요약의 최대 길이 : 16\n",
      "요약의 평균 길이 : 9.299532330215534\n"
     ]
    },
    {
     "data": {
      "image/png": "[encoded data removed]",
      "text/plain": [
       "<Figure size 432x288 with 2 Axes>"
      ]
     },
     "metadata": {
      "needs_background": "light"
     },
     "output_type": "display_data"
    },
    {
     "data": {
      "image/png": "[encoded data removed]",
      "text/plain": [
       "<Figure size 432x288 with 1 Axes>"
      ]
     },
     "metadata": {
      "needs_background": "light"
     },
     "output_type": "display_data"
    },
    {
     "data": {
      "image/png": "[encoded data removed]",
      "text/plain": [
       "<Figure size 432x288 with 1 Axes>"
      ]
     },
     "metadata": {
      "needs_background": "light"
     },
     "output_type": "display_data"
    }
   ],
   "source": [
    "# text, headline의 최소, 최대, 평균 길이를 구하고, 길이 분포를 시각화 해줍니다.\n",
    "import matplotlib.pyplot as plt\n",
    "\n",
    "text_len = [len(s.split()) for s in data['text']]\n",
    "headlines_len = [len(s.split()) for s in data['headlines']]\n",
    "\n",
    "print('텍스트의 최소 길이 : {}'.format(np.min(text_len)))\n",
    "print('텍스트의 최대 길이 : {}'.format(np.max(text_len)))\n",
    "print('텍스트의 평균 길이 : {}'.format(np.mean(text_len)))\n",
    "print('요약의 최소 길이 : {}'.format(np.min(headlines_len)))\n",
    "print('요약의 최대 길이 : {}'.format(np.max(headlines_len)))\n",
    "print('요약의 평균 길이 : {}'.format(np.mean(headlines_len)))\n",
    "\n",
    "plt.subplot(1,2,1)\n",
    "plt.boxplot(headlines_len)\n",
    "plt.title('Headlines')\n",
    "plt.subplot(1,2,2)\n",
    "plt.boxplot(text_len)\n",
    "plt.title('Text')\n",
    "plt.tight_layout()\n",
    "plt.show()\n",
    "\n",
    "plt.title('Headlines')\n",
    "plt.hist(headlines_len, bins = 40)\n",
    "plt.xlabel('length of samples')\n",
    "plt.ylabel('number of samples')\n",
    "plt.show()\n",
    "\n",
    "plt.title('Text')\n",
    "plt.hist(text_len, bins = 40)\n",
    "plt.xlabel('length of samples')\n",
    "plt.ylabel('number of samples')\n",
    "plt.show()"
   ]
  },
  {
   "cell_type": "code",
   "execution_count": 16,
   "id": "liberal-literature",
   "metadata": {},
   "outputs": [],
   "source": [
    "# text의 최대 길이와 headlines의 적절한 최대 길이를 임의로 정해준다.\n",
    "text_max_len = 40\n",
    "headlines_max_len = 12"
   ]
  },
  {
   "cell_type": "code",
   "execution_count": 17,
   "id": "located-paraguay",
   "metadata": {},
   "outputs": [],
   "source": [
    "# 훈련 데이터와 샘플의 길이를 입력하면, 데이터의 몇%가 해당하는지 계산하는 함수\n",
    "def below_threshold_len(max_len, nested_list):\n",
    "    cnt = 0\n",
    "    for s in nested_list:\n",
    "        if (len(s.split()) <= max_len):\n",
    "            cnt = cnt + 1\n",
    "    print('전체 샘플 중 길이가 %s 이하인 샘플의 비율 : %s'%(max_len, (cnt / len(nested_list))))"
   ]
  },
  {
   "cell_type": "code",
   "execution_count": 18,
   "id": "talented-gabriel",
   "metadata": {
    "scrolled": true
   },
   "outputs": [
    {
     "name": "stdout",
     "output_type": "stream",
     "text": [
      "전체 샘플 중 길이가 40 이하인 샘플의 비율 : 0.9238714924766165\n",
      "전체 샘플 중 길이가 12 이하인 샘플의 비율 : 0.9880337535583571\n"
     ]
    }
   ],
   "source": [
    "below_threshold_len(text_max_len, data['text'])\n",
    "below_threshold_len(headlines_max_len, data['headlines'])"
   ]
  },
  {
   "cell_type": "code",
   "execution_count": 19,
   "id": "modern-shark",
   "metadata": {},
   "outputs": [
    {
     "name": "stdout",
     "output_type": "stream",
     "text": [
      "전체 샘플수 : 89775\n"
     ]
    }
   ],
   "source": [
    "# 정해진 길이보다 길면 제외하기\n",
    "data = data[data['text'].apply(lambda x: len(x.split()) <= text_max_len)]\n",
    "data = data[data['headlines'].apply(lambda x: len(x.split()) <= headlines_max_len)]\n",
    "print('전체 샘플수 :', (len(data)))"
   ]
  },
  {
   "cell_type": "markdown",
   "id": "radio-utilization",
   "metadata": {},
   "source": [
    "### 시작 토큰과 종료 토큰 추가"
   ]
  },
  {
   "cell_type": "markdown",
   "id": "nervous-bicycle",
   "metadata": {},
   "source": [
    "![img1](https://d3s0tskafalll9.cloudfront.net/media/original_images/E-21-4.png)"
   ]
  },
  {
   "cell_type": "markdown",
   "id": "revised-separate",
   "metadata": {},
   "source": [
    "seq2seq 훈련을 위해서는 디코더의 입력과 레이블에 시작 토큰과 종료 토큰을 추가합니다. 여기서 __시작 토큰은 `sostoken`__, __종료 토큰은 `eostoken`__이라 임의로 명명하고 앞, 뒤로 추가하겠습니다. __디코더의 입력에 해당하면서 시작 토큰이 맨 앞에 있는 문장의 이름을 `decoder_input`__, __디코더의 출력 또는 레이블에 해당되면서 종료 토큰이 맨 뒤에 붙는 문장의 이름을 `decoder_target`__이라고 이름을 정했어요. 두 개의 문장 모두 headlines 컬럼에 만들겠습니다."
   ]
  },
  {
   "cell_type": "code",
   "execution_count": 20,
   "id": "juvenile-catch",
   "metadata": {},
   "outputs": [
    {
     "data": {
      "text/html": [
       "<div>\n",
       "<style scoped>\n",
       "    .dataframe tbody tr th:only-of-type {\n",
       "        vertical-align: middle;\n",
       "    }\n",
       "\n",
       "    .dataframe tbody tr th {\n",
       "        vertical-align: top;\n",
       "    }\n",
       "\n",
       "    .dataframe thead th {\n",
       "        text-align: right;\n",
       "    }\n",
       "</style>\n",
       "<table border=\"1\" class=\"dataframe\">\n",
       "  <thead>\n",
       "    <tr style=\"text-align: right;\">\n",
       "      <th></th>\n",
       "      <th>headlines</th>\n",
       "      <th>text</th>\n",
       "      <th>decoder_input</th>\n",
       "      <th>decoder_target</th>\n",
       "    </tr>\n",
       "  </thead>\n",
       "  <tbody>\n",
       "    <tr>\n",
       "      <th>0</th>\n",
       "      <td>upgrad learner switches to career in ml al wit...</td>\n",
       "      <td>saurav kant alumnus upgrad iiit pg program mac...</td>\n",
       "      <td>sostoken upgrad learner switches to career in ...</td>\n",
       "      <td>upgrad learner switches to career in ml al wit...</td>\n",
       "    </tr>\n",
       "    <tr>\n",
       "      <th>2</th>\n",
       "      <td>new zealand end rohit sharma led india match w...</td>\n",
       "      <td>new zealand defeated india wickets fourth odi ...</td>\n",
       "      <td>sostoken new zealand end rohit sharma led indi...</td>\n",
       "      <td>new zealand end rohit sharma led india match w...</td>\n",
       "    </tr>\n",
       "    <tr>\n",
       "      <th>3</th>\n",
       "      <td>aegon life iterm insurance plan helps customer...</td>\n",
       "      <td>aegon life iterm insurance plan customers enjo...</td>\n",
       "      <td>sostoken aegon life iterm insurance plan helps...</td>\n",
       "      <td>aegon life iterm insurance plan helps customer...</td>\n",
       "    </tr>\n",
       "    <tr>\n",
       "      <th>5</th>\n",
       "      <td>rahat fateh ali khan denies getting notice for...</td>\n",
       "      <td>pakistani singer rahat fateh ali khan denied r...</td>\n",
       "      <td>sostoken rahat fateh ali khan denies getting n...</td>\n",
       "      <td>rahat fateh ali khan denies getting notice for...</td>\n",
       "    </tr>\n",
       "    <tr>\n",
       "      <th>6</th>\n",
       "      <td>india get all out for their lowest odi total i...</td>\n",
       "      <td>india recorded lowest odi total new zealand ge...</td>\n",
       "      <td>sostoken india get all out for their lowest od...</td>\n",
       "      <td>india get all out for their lowest odi total i...</td>\n",
       "    </tr>\n",
       "  </tbody>\n",
       "</table>\n",
       "</div>"
      ],
      "text/plain": [
       "                                           headlines  \\\n",
       "0  upgrad learner switches to career in ml al wit...   \n",
       "2  new zealand end rohit sharma led india match w...   \n",
       "3  aegon life iterm insurance plan helps customer...   \n",
       "5  rahat fateh ali khan denies getting notice for...   \n",
       "6  india get all out for their lowest odi total i...   \n",
       "\n",
       "                                                text  \\\n",
       "0  saurav kant alumnus upgrad iiit pg program mac...   \n",
       "2  new zealand defeated india wickets fourth odi ...   \n",
       "3  aegon life iterm insurance plan customers enjo...   \n",
       "5  pakistani singer rahat fateh ali khan denied r...   \n",
       "6  india recorded lowest odi total new zealand ge...   \n",
       "\n",
       "                                       decoder_input  \\\n",
       "0  sostoken upgrad learner switches to career in ...   \n",
       "2  sostoken new zealand end rohit sharma led indi...   \n",
       "3  sostoken aegon life iterm insurance plan helps...   \n",
       "5  sostoken rahat fateh ali khan denies getting n...   \n",
       "6  sostoken india get all out for their lowest od...   \n",
       "\n",
       "                                      decoder_target  \n",
       "0  upgrad learner switches to career in ml al wit...  \n",
       "2  new zealand end rohit sharma led india match w...  \n",
       "3  aegon life iterm insurance plan helps customer...  \n",
       "5  rahat fateh ali khan denies getting notice for...  \n",
       "6  india get all out for their lowest odi total i...  "
      ]
     },
     "execution_count": 20,
     "metadata": {},
     "output_type": "execute_result"
    }
   ],
   "source": [
    "# 요약 데이터에는 시작 토큰과 종료 토큰을 추가한다.\n",
    "data['decoder_input'] = data['headlines'].apply(lambda x : 'sostoken '+ x)\n",
    "data['decoder_target'] = data['headlines'].apply(lambda x : x + ' eostoken')  # ' eostoken' 앞에 summary와의 공백을 위해 공백 한칸 띄워주기\n",
    "data.head()"
   ]
  },
  {
   "cell_type": "code",
   "execution_count": 21,
   "id": "shared-productivity",
   "metadata": {},
   "outputs": [],
   "source": [
    "# 디코더의 입력과 레이블을 다시 Numpy 타입으로 저장해준다.\n",
    "encoder_input = np.array(data['text'])  # 인코더의 입력\n",
    "decoder_input = np.array(data['decoder_input'])  # 디코더의 입력\n",
    "decoder_target = np.array(data['decoder_target'])  # 디코더의 레이블"
   ]
  },
  {
   "cell_type": "markdown",
   "id": "muslim-confirmation",
   "metadata": {},
   "source": [
    "### 훈련 데이터와 테스트 데이터 분리 작업"
   ]
  },
  {
   "cell_type": "code",
   "execution_count": 22,
   "id": "permanent-suggestion",
   "metadata": {},
   "outputs": [
    {
     "name": "stdout",
     "output_type": "stream",
     "text": [
      "[51946 31687 30706 ... 14866 48491 79923]\n"
     ]
    }
   ],
   "source": [
    "# encoder_input 크기와 형태가 같은 순서가 섞인 정수 시퀀스 만들기\n",
    "indices = np.arange(encoder_input.shape[0])\n",
    "np.random.shuffle(indices)\n",
    "print(indices)"
   ]
  },
  {
   "cell_type": "code",
   "execution_count": 23,
   "id": "genetic-proceeding",
   "metadata": {},
   "outputs": [],
   "source": [
    "# 이 정수 시퀀스를 이용해 다시 데이터의 샘플 순서를 정의해주면 잘 섞인 샘플이 된다.\n",
    "encoder_input = encoder_input[indices]\n",
    "decoder_input = decoder_input[indices]\n",
    "decoder_target = decoder_target[indices]"
   ]
  },
  {
   "cell_type": "code",
   "execution_count": 24,
   "id": "finnish-start",
   "metadata": {},
   "outputs": [
    {
     "name": "stdout",
     "output_type": "stream",
     "text": [
      "테스트 데이터의 수 : 17955\n"
     ]
    }
   ],
   "source": [
    "# 이렇게 섞인 데이터를 8:2 비율로 훈련 데이터와 테스트 데이터로 분리한다.\n",
    "n_of_val = int(len(encoder_input)*0.2)\n",
    "print('테스트 데이터의 수 :', n_of_val)"
   ]
  },
  {
   "cell_type": "code",
   "execution_count": 25,
   "id": "brilliant-formula",
   "metadata": {},
   "outputs": [
    {
     "name": "stdout",
     "output_type": "stream",
     "text": [
      "훈련 데이터의 개수 : 71820\n",
      "훈련 레이블의 개수 : 71820\n",
      "테스트 데이터의 개수 : 17955\n",
      "테스트 레이블의 개수 : 17955\n"
     ]
    }
   ],
   "source": [
    "# 테스트 데이터의 개수를 이용해 전체 데이터를 양분한다. (: 표시의 위치에 주의)\n",
    "encoder_input_train = encoder_input[:-n_of_val]\n",
    "decoder_input_train = decoder_input[:-n_of_val]\n",
    "decoder_target_train = decoder_target[:-n_of_val]\n",
    "\n",
    "encoder_input_test = encoder_input[-n_of_val:]\n",
    "decoder_input_test = decoder_input[-n_of_val:]\n",
    "decoder_target_test = decoder_target[-n_of_val:]\n",
    "\n",
    "print('훈련 데이터의 개수 :', len(encoder_input_train))\n",
    "print('훈련 레이블의 개수 :', len(decoder_input_train))\n",
    "print('테스트 데이터의 개수 :', len(encoder_input_test))\n",
    "print('테스트 레이블의 개수 :', len(decoder_input_test))"
   ]
  },
  {
   "cell_type": "markdown",
   "id": "academic-opinion",
   "metadata": {},
   "source": [
    "## 4. 데이터 전처리 (3) 정수 인코딩"
   ]
  },
  {
   "cell_type": "markdown",
   "id": "angry-cheat",
   "metadata": {},
   "source": [
    "### 단어 집합(vocabulary) 생성 및 정수 인코딩"
   ]
  },
  {
   "cell_type": "markdown",
   "id": "crazy-tablet",
   "metadata": {},
   "source": [
    "이제 기계가 텍스트를 숫자로 처리할 수 있도록 훈련 데이터와 테스트 데이터의 단어들을 모두 정수로 바꾸어 주는 작업을 합니다. 이를 위해서는 각 단어에 고유한 정수를 맵핑하는 작업인 단어 집합(vocabulary) 만들기를 진행합니다.  \n",
    "  \n",
    "우선, 원문에 해당되는 __`encoder_input_train`__에 대해서 단어 집합을 만들게요."
   ]
  },
  {
   "cell_type": "code",
   "execution_count": 26,
   "id": "solved-language",
   "metadata": {},
   "outputs": [],
   "source": [
    "# 토크나이저를 사용해 입력된 훈련 데이터로부터 단어 집합 만들기\n",
    "src_tokenizer = Tokenizer() # 토크나이저 정의\n",
    "src_tokenizer.fit_on_texts(encoder_input_train) # 입력된 데이터로부터 단어 집합 생성"
   ]
  },
  {
   "cell_type": "markdown",
   "id": "sitting-career",
   "metadata": {},
   "source": [
    "이제 단어 집합이 생성되는 동시에 각 단어에 고유한 정수가 부여되었어요. 현재 생성된 단어 집합은 __`src_tokenizer.word_index`__에 저장되어 있어요.  \n",
    "이렇게 만든 단어 집합에 있는 모든 단어를 사용하는 것이 아니라, 빈도수가 낮은 단어들은 훈련 데이터에서 제외하고 진행 하겠습니다.\n",
    "\n",
    "등장 빈도수가 7회 미만인 단어들이 이 데이터에서 얼만큼의 비중을 차지하는지 확인해볼게요.\n",
    "\n",
    "__`src_tokenizer.word_counts.items()`__에는 단어와 각 단어의 등장 빈도수가 저장돼 있는데, 이를 통해서 통계적인 정보를 얻을 수 있어요."
   ]
  },
  {
   "cell_type": "code",
   "execution_count": 27,
   "id": "missing-investigator",
   "metadata": {},
   "outputs": [
    {
     "name": "stdout",
     "output_type": "stream",
     "text": [
      "단어 집합(vocabulary)의 크기 : 65542\n",
      "등장 빈도가 6번 이하인 희귀 단어의 수: 44568\n",
      "단어 집합에서 희귀 단어를 제외시킬 경우의 단어 집합의 크기 20974\n",
      "단어 집합에서 희귀 단어의 비율: 67.99914558603643\n",
      "전체 등장 빈도에서 희귀 단어 등장 빈도 비율: 3.6526311883504294\n"
     ]
    }
   ],
   "source": [
    "threshold = 7\n",
    "total_cnt = len(src_tokenizer.word_index)  # 단어의 수\n",
    "rare_cnt = 0  # 등장 빈도수가 threshold보다 작은 단어의 개수를 카운트\n",
    "total_freq = 0  # 훈련 데이터의 전체 단어 빈도수 총 합\n",
    "rare_freq = 0  # 등장 빈도수가 threshold보다 작은 단어의 등장 빈도수의 총 합\n",
    "\n",
    "# 단어와 빈도수의 쌍(pair)을 key와 value로 받는다.\n",
    "for key, value in src_tokenizer.word_counts.items():\n",
    "    total_freq = total_freq + value\n",
    "\n",
    "    # 단어의 등장 빈도수가 threshold보다 작으면\n",
    "    if(value < threshold):\n",
    "        rare_cnt = rare_cnt + 1\n",
    "        rare_freq = rare_freq + value\n",
    "\n",
    "print('단어 집합(vocabulary)의 크기 :', total_cnt)\n",
    "print('등장 빈도가 %s번 이하인 희귀 단어의 수: %s'%(threshold - 1, rare_cnt))\n",
    "print('단어 집합에서 희귀 단어를 제외시킬 경우의 단어 집합의 크기 %s'%(total_cnt - rare_cnt))\n",
    "print(\"단어 집합에서 희귀 단어의 비율:\", (rare_cnt / total_cnt)*100)\n",
    "print(\"전체 등장 빈도에서 희귀 단어 등장 빈도 비율:\", (rare_freq / total_freq)*100)"
   ]
  },
  {
   "cell_type": "markdown",
   "id": "about-extreme",
   "metadata": {},
   "source": [
    "__`encoder_input_train`__에는 6만여 개의 단어가 있네요. 그 아래의 통계 정보들을 해석해볼까요?\n",
    "\n",
    "등장 빈도가 threshold 값인 7회 미만, 즉, 6회 이하인 단어들은 단어 집합에서 68% 정도를 차지하네요. 하지만, 실제로 훈련 데이터에서 등장 빈도로 차지하는 비중은 상대적으로 적은 수치인 3.65%밖에 되지 않습니다.\n",
    "\n",
    "그래서 등장 빈도가 6회 이하인 단어들은 정수 인코딩 과정에서 빼고, 훈련 데이터에서 제거하고자 합니다. 위에서 이를 제외한 단어 집합의 크기를 약 20,000개로 계산했는데, 이와 비슷한 값으로 어림잡아 단어 집합의 크기를 20,000개으로 제한해볼게요. 토크나이저를 정의할 때 num_words의 값을 정해줘서 단어 집합의 크기를 제한해봅니다."
   ]
  },
  {
   "cell_type": "code",
   "execution_count": 28,
   "id": "regional-damages",
   "metadata": {},
   "outputs": [],
   "source": [
    "src_vocab = 20000\n",
    "src_tokenizer = Tokenizer(num_words=src_vocab) # 단어 집합의 크기를 20,000으로 제한\n",
    "src_tokenizer.fit_on_texts(encoder_input_train) # 단어 집합 재생성."
   ]
  },
  {
   "cell_type": "markdown",
   "id": "graphic-crack",
   "metadata": {},
   "source": [
    "__`texts_to_sequences()`__는 생성된 단어 집합에 기반하여 입력으로 주어진 텍스트 데이터의 단어들을 모두 정수로 변환하는 정수 인코딩을 수행해요.  \n",
    "  \n",
    "현재 단어 집합의 크기를 20,000으로 제한했기 때문에 이제 20,000이 넘는 숫자들은 정수 인코딩 후에는 데이터에 존재하지 않습니다."
   ]
  },
  {
   "cell_type": "code",
   "execution_count": 29,
   "id": "accredited-royal",
   "metadata": {},
   "outputs": [
    {
     "name": "stdout",
     "output_type": "stream",
     "text": [
      "[[37, 574, 16, 214, 139, 59, 68, 60, 121, 55, 18, 1792, 908, 3887, 1524, 288, 6098, 159, 1896, 139, 259, 2875, 60, 55, 1525, 3887, 1524, 830, 2236, 1088, 1492, 889, 3], [120, 28, 1153, 4220, 5876, 171, 4359, 7704, 3734, 11415, 1153, 22, 1479, 14, 19523, 899, 1162, 1241, 7349, 3216, 14, 1594, 6662, 34, 2433, 49, 1958, 1851, 1153, 14], [403, 9, 3465, 645, 1324, 3035, 150, 300, 61, 89, 4678, 4289, 236, 576, 206, 300, 735, 4517, 2654, 1435, 256, 530, 17396, 484, 4360, 1549, 78, 1, 474, 724, 746, 59]]\n"
     ]
    }
   ],
   "source": [
    "# 텍스트 시퀀스를 정수 시퀀스로 변환\n",
    "encoder_input_train = src_tokenizer.texts_to_sequences(encoder_input_train) \n",
    "encoder_input_test = src_tokenizer.texts_to_sequences(encoder_input_test)\n",
    "\n",
    "# 잘 진행되었는지 샘플 출력\n",
    "print(encoder_input_train[:3])"
   ]
  },
  {
   "cell_type": "markdown",
   "id": "opposite-exhibit",
   "metadata": {},
   "source": [
    "이제 더 이상 텍스트 데이터가 아니라 정수가 나오고 있어요.\n",
    "\n",
    "headlines 데이터에 대해서도 동일한 작업을 수행할게요. 케라스의 토크나이저를 사용하여 __`decoder_input_train`__을 입력으로 전체 단어 집합과 각 단어에 대한 빈도수를 계산해요."
   ]
  },
  {
   "cell_type": "code",
   "execution_count": 30,
   "id": "developed-religious",
   "metadata": {},
   "outputs": [],
   "source": [
    "tar_tokenizer = Tokenizer()\n",
    "tar_tokenizer.fit_on_texts(decoder_input_train)"
   ]
  },
  {
   "cell_type": "markdown",
   "id": "agreed-dining",
   "metadata": {},
   "source": [
    "이제 단어 집합이 생성되는 동시에 각 단어에 고유한 정수가 부여되었어요. 이는 __`tar_tokenizer.word_index`__에 저장되어 있어요. __`tar_tokenizer.word_counts.items()`__에는 단어와 각 단어의 등장 빈도수가 저장돼 있는데, 이를 통해서 통계적인 정보를 얻어서, 등장 빈도수가 6회 미만인 단어들이 이 데이터에서 얼만큼의 비중을 차지하는지 확인해볼게요."
   ]
  },
  {
   "cell_type": "code",
   "execution_count": 31,
   "id": "whole-sensitivity",
   "metadata": {},
   "outputs": [
    {
     "name": "stdout",
     "output_type": "stream",
     "text": [
      "단어 집합(vocabulary)의 크기 : 28799\n",
      "등장 빈도가 5번 이하인 희귀 단어의 수: 18871\n",
      "단어 집합에서 희귀 단어를 제외시킬 경우의 단어 집합의 크기 9928\n",
      "단어 집합에서 희귀 단어의 비율: 65.526580784055\n",
      "전체 등장 빈도에서 희귀 단어 등장 빈도 비율: 4.922275571391327\n"
     ]
    }
   ],
   "source": [
    "threshold = 6\n",
    "total_cnt = len(tar_tokenizer.word_index) # 단어의 수\n",
    "rare_cnt = 0 # 등장 빈도수가 threshold보다 작은 단어의 개수를 카운트\n",
    "total_freq = 0 # 훈련 데이터의 전체 단어 빈도수 총 합\n",
    "rare_freq = 0 # 등장 빈도수가 threshold보다 작은 단어의 등장 빈도수의 총 합\n",
    "\n",
    "# 단어와 빈도수의 쌍(pair)을 key와 value로 받는다.\n",
    "for key, value in tar_tokenizer.word_counts.items():\n",
    "    total_freq = total_freq + value\n",
    "\n",
    "    # 단어의 등장 빈도수가 threshold보다 작으면\n",
    "    if(value < threshold):\n",
    "        rare_cnt = rare_cnt + 1\n",
    "        rare_freq = rare_freq + value\n",
    "\n",
    "print('단어 집합(vocabulary)의 크기 :', total_cnt)\n",
    "print('등장 빈도가 %s번 이하인 희귀 단어의 수: %s'%(threshold - 1, rare_cnt))\n",
    "print('단어 집합에서 희귀 단어를 제외시킬 경우의 단어 집합의 크기 %s'%(total_cnt - rare_cnt))\n",
    "print(\"단어 집합에서 희귀 단어의 비율:\", (rare_cnt / total_cnt)*100)\n",
    "print(\"전체 등장 빈도에서 희귀 단어 등장 빈도 비율:\", (rare_freq / total_freq)*100)"
   ]
  },
  {
   "cell_type": "code",
   "execution_count": 32,
   "id": "aging-makeup",
   "metadata": {},
   "outputs": [
    {
     "name": "stdout",
     "output_type": "stream",
     "text": [
      "input\n",
      "input  [[1, 987, 158, 50, 3431, 5, 5810, 311, 81, 127, 24, 42], [1, 1047, 3857, 8386, 52, 6, 4250, 2435, 63], [1, 146, 3432, 4724, 12, 533, 8, 407], [1, 5286, 4725, 107, 165, 6, 2773, 4251, 4, 26, 462], [1, 189, 966, 1850, 163, 988, 225, 13, 1464, 2639, 35]]\n",
      "target\n",
      "decoder  [[987, 158, 50, 3431, 5, 5810, 311, 81, 127, 24, 42, 2], [1047, 3857, 8386, 52, 6, 4250, 2435, 63, 2], [146, 3432, 4724, 12, 533, 8, 407, 2], [5286, 4725, 107, 165, 6, 2773, 4251, 4, 26, 462, 2], [189, 966, 1850, 163, 988, 225, 13, 1464, 2639, 35, 2]]\n"
     ]
    }
   ],
   "source": [
    "tar_vocab = 9000\n",
    "tar_tokenizer = Tokenizer(num_words=tar_vocab) \n",
    "tar_tokenizer.fit_on_texts(decoder_input_train)\n",
    "tar_tokenizer.fit_on_texts(decoder_target_train)\n",
    "\n",
    "# 텍스트 시퀀스를 정수 시퀀스로 변환\n",
    "decoder_input_train = tar_tokenizer.texts_to_sequences(decoder_input_train) \n",
    "decoder_target_train = tar_tokenizer.texts_to_sequences(decoder_target_train)\n",
    "decoder_input_test = tar_tokenizer.texts_to_sequences(decoder_input_test)\n",
    "decoder_target_test = tar_tokenizer.texts_to_sequences(decoder_target_test)\n",
    "\n",
    "# 잘 변환되었는지 확인\n",
    "print('input')\n",
    "print('input ',decoder_input_train[:5])\n",
    "print('target')\n",
    "print('decoder ',decoder_target_train[:5])"
   ]
  },
  {
   "cell_type": "markdown",
   "id": "lesbian-modeling",
   "metadata": {},
   "source": [
    "정상적으로 정수 인코딩 작업이 끝났어요. 현재 __`decoder_input_train`__과 __`decoder_target_train`__에는 더 이상 숫자 2,000이 넘는 숫자들은 존재하지 않아요. 그런데 다음 작업인 패딩 하기로 넘어가기 전에 한 가지 점검해야 할 것이 있어요.\n",
    "\n",
    "전체 데이터에서 빈도수가 낮은 단어가 삭제되었다는 것은 빈도수가 낮은 단어만으로 구성되었던 샘플들은 이제 빈(empty) 샘플이 되었을 가능성이 있어요. 이 현상은 길이가 상대적으로 길었던 원문(Text)의 경우에는 문제가 별로 없겠지만, 애초에 평균 길이가 4밖에 되지 않았던 요약문(Summary)의 경우에는 이 현상이 굉장히 두드러졌을 가능성이 높겠죠.\n",
    "\n",
    "요약문에서 길이가 0이 된 샘플들의 인덱스를 받아와볼게요. 여기서 주의할 점은 요약문인 __`decoder_input`__에는 __`sostoken`__ 또는 __`decoder_target`__에는 __`eostoken`__이 추가된 상태이고, 이 두 토큰은 모든 샘플에서 등장하므로 빈도수가 샘플 수와 동일하게 매우 높으므로 단어 집합 제한에도 삭제되지 않아요. 그래서 이제 길이가 0이 된 요약문의 실제 길이는 1로 나올 거예요. 길이 0이 된 __`decoder_input`__에는 __`sostoken`__, __`decoder_target`__에는 __`eostoken`__만 남아 있을 테니까요.\n",
    "\n",
    "훈련 데이터와 테스트 데이터에 대해서 요약문의 길이가 1인 경우의 인덱스를 각각 __`drop_train`__과 __`drop_test`__에 라는 변수에 저장해볼게요. 이 샘플들은 모두 삭제할 거예요."
   ]
  },
  {
   "cell_type": "code",
   "execution_count": 33,
   "id": "promotional-processing",
   "metadata": {},
   "outputs": [
    {
     "name": "stdout",
     "output_type": "stream",
     "text": [
      "삭제할 훈련 데이터의 개수 : 0\n",
      "삭제할 테스트 데이터의 개수 : 0\n",
      "훈련 데이터의 개수 : 71820\n",
      "훈련 레이블의 개수 : 71820\n",
      "테스트 데이터의 개수 : 17955\n",
      "테스트 레이블의 개수 : 17955\n"
     ]
    },
    {
     "name": "stderr",
     "output_type": "stream",
     "text": [
      "/opt/conda/lib/python3.7/site-packages/numpy/core/_asarray.py:83: VisibleDeprecationWarning: Creating an ndarray from ragged nested sequences (which is a list-or-tuple of lists-or-tuples-or ndarrays with different lengths or shapes) is deprecated. If you meant to do this, you must specify 'dtype=object' when creating the ndarray\n",
      "  return array(a, dtype, copy=False, order=order)\n"
     ]
    }
   ],
   "source": [
    "drop_train = [index for index, sentence in enumerate(decoder_input_train) if len(sentence) == 1]\n",
    "drop_test = [index for index, sentence in enumerate(decoder_input_test) if len(sentence) == 1]\n",
    "\n",
    "print('삭제할 훈련 데이터의 개수 :', len(drop_train))\n",
    "print('삭제할 테스트 데이터의 개수 :', len(drop_test))\n",
    "\n",
    "encoder_input_train = np.delete(encoder_input_train, drop_train, axis=0)\n",
    "decoder_input_train = np.delete(decoder_input_train, drop_train, axis=0)\n",
    "decoder_target_train = np.delete(decoder_target_train, drop_train, axis=0)\n",
    "\n",
    "encoder_input_test = np.delete(encoder_input_test, drop_test, axis=0)\n",
    "decoder_input_test = np.delete(decoder_input_test, drop_test, axis=0)\n",
    "decoder_target_test = np.delete(decoder_target_test, drop_test, axis=0)\n",
    "\n",
    "print('훈련 데이터의 개수 :', len(encoder_input_train))\n",
    "print('훈련 레이블의 개수 :', len(decoder_input_train))\n",
    "print('테스트 데이터의 개수 :', len(encoder_input_test))\n",
    "print('테스트 레이블의 개수 :', len(decoder_input_test))"
   ]
  },
  {
   "cell_type": "markdown",
   "id": "bacterial-german",
   "metadata": {},
   "source": [
    "### 패딩(Padding)"
   ]
  },
  {
   "cell_type": "markdown",
   "id": "phantom-officer",
   "metadata": {},
   "source": [
    "텍스트 시퀀스를 정수 시퀀스로 변환했다면, 이제 서로 다른 길이의 샘플들을 병렬 처리하기 위해 같은 길이로 맞춰주는 패딩 작업을 진행합니다.  \n",
    "  \n",
    "아까 정해두었던 최대 길이로 패딩 해주고, 최대 길이보다 짧은 데이터들은 뒤의 공간에 숫자 0을 넣어 최대 길이로 길이를 맞춰주겠습니다."
   ]
  },
  {
   "cell_type": "code",
   "execution_count": 34,
   "id": "going-dance",
   "metadata": {},
   "outputs": [],
   "source": [
    "encoder_input_train = pad_sequences(encoder_input_train, maxlen=text_max_len, padding='post')\n",
    "encoder_input_test = pad_sequences(encoder_input_test, maxlen=text_max_len, padding='post')\n",
    "decoder_input_train = pad_sequences(decoder_input_train, maxlen=headlines_max_len, padding='post')\n",
    "decoder_target_train = pad_sequences(decoder_target_train, maxlen=headlines_max_len, padding='post')\n",
    "decoder_input_test = pad_sequences(decoder_input_test, maxlen=headlines_max_len, padding='post')\n",
    "decoder_target_test = pad_sequences(decoder_target_test, maxlen=headlines_max_len, padding='post')"
   ]
  },
  {
   "cell_type": "markdown",
   "id": "nonprofit-complaint",
   "metadata": {},
   "source": [
    "## 5. 모델 설계하기"
   ]
  },
  {
   "cell_type": "markdown",
   "id": "talented-treasure",
   "metadata": {},
   "source": [
    "### seq2seq"
   ]
  },
  {
   "cell_type": "code",
   "execution_count": 35,
   "id": "living-refund",
   "metadata": {},
   "outputs": [
    {
     "name": "stdout",
     "output_type": "stream",
     "text": [
      "WARNING:tensorflow:Layer lstm will not use cuDNN kernel since it doesn't meet the cuDNN kernel criteria. It will use generic GPU kernel as fallback when running on GPU\n",
      "WARNING:tensorflow:Layer lstm_1 will not use cuDNN kernel since it doesn't meet the cuDNN kernel criteria. It will use generic GPU kernel as fallback when running on GPU\n",
      "WARNING:tensorflow:Layer lstm_2 will not use cuDNN kernel since it doesn't meet the cuDNN kernel criteria. It will use generic GPU kernel as fallback when running on GPU\n"
     ]
    }
   ],
   "source": [
    "from tensorflow.keras.layers import Input, LSTM, Embedding, Dense, Concatenate\n",
    "from tensorflow.keras.models import Model\n",
    "from tensorflow.keras.callbacks import EarlyStopping, ModelCheckpoint\n",
    "\n",
    "\n",
    "# 인코더 설계 시작\n",
    "embedding_dim = 128\n",
    "hidden_size = 256\n",
    "\n",
    "# 인코더\n",
    "encoder_inputs = Input(shape=(text_max_len,))\n",
    "\n",
    "# 인코더의 임베딩 층\n",
    "enc_emb = Embedding(src_vocab, embedding_dim)(encoder_inputs)\n",
    "\n",
    "# 인코더의 LSTM 1\n",
    "encoder_lstm1 = LSTM(hidden_size, return_sequences=True, return_state=True ,dropout = 0.4, recurrent_dropout = 0.4)\n",
    "encoder_output1, state_h1, state_c1 = encoder_lstm1(enc_emb)\n",
    "\n",
    "# 인코더의 LSTM 2\n",
    "encoder_lstm2 = LSTM(hidden_size, return_sequences=True, return_state=True, dropout=0.4, recurrent_dropout=0.4)\n",
    "encoder_output2, state_h2, state_c2 = encoder_lstm2(encoder_output1)\n",
    "\n",
    "# 인코더의 LSTM 3\n",
    "encoder_lstm3 = LSTM(hidden_size, return_state=True, return_sequences=True, dropout=0.4, recurrent_dropout=0.4)\n",
    "encoder_outputs, state_h, state_c= encoder_lstm3(encoder_output2)"
   ]
  },
  {
   "cell_type": "markdown",
   "id": "perceived-offset",
   "metadata": {},
   "source": [
    "임베딩 벡터의 차원은 128로 정의하고, LSTM에서 얼만큼의 수용력(capacity)를 가질지를 정하는 파라미터인 hidden state의 크기를 256으로 정의합니다. hidden state는 LSTM의 용량의 크기나, LSTM에서의 뉴런의 개수라고 이해하면 돼요. 다른 신경망과 마찬가지로, 무조건 용량을 많이 준다고 해서 성능이 반드시 올라가는 것은 아니에요.\n",
    "\n",
    "인코더의 LSTM은 총 3개의 층으로 구성해서 모델의 복잡도를 높였어요. hidden state의 크기를 늘리는 것이 LSTM 층 1개의 용량을 늘린다면, 3개의 층을 사용하는 것은 모델의 용량을 늘린다고 볼 수 있죠. 3개의 층을 지나서 인코더로부터 나온 출력 벡터는 디코더로 보내줍니다."
   ]
  },
  {
   "cell_type": "code",
   "execution_count": 36,
   "id": "unable-howard",
   "metadata": {},
   "outputs": [
    {
     "name": "stdout",
     "output_type": "stream",
     "text": [
      "WARNING:tensorflow:Layer lstm_3 will not use cuDNN kernel since it doesn't meet the cuDNN kernel criteria. It will use generic GPU kernel as fallback when running on GPU\n"
     ]
    }
   ],
   "source": [
    "# 디코더 설계\n",
    "decoder_inputs = Input(shape=(None,))\n",
    "\n",
    "# 디코더의 임베딩 층\n",
    "dec_emb_layer = Embedding(tar_vocab, embedding_dim)\n",
    "dec_emb = dec_emb_layer(decoder_inputs)\n",
    "\n",
    "# 디코더의 LSTM\n",
    "decoder_lstm = LSTM(hidden_size, return_sequences=True, return_state=True, dropout=0.4, recurrent_dropout=0.2)\n",
    "decoder_outputs, _, _ = decoder_lstm(dec_emb, initial_state=[state_h, state_c])"
   ]
  },
  {
   "cell_type": "markdown",
   "id": "large-institute",
   "metadata": {},
   "source": [
    "디코더의 임베딩 층과 LSTM을 설계하는 것은 인코더와 거의 동일해요. 하지만 LSTM의 입력을 정의할 때, __`initial_state`__의 인자값으로 __인코더의 hidden state와 cell state의 값을 넣어줘야 해요.__\n"
   ]
  },
  {
   "cell_type": "code",
   "execution_count": 37,
   "id": "rental-swing",
   "metadata": {},
   "outputs": [
    {
     "name": "stdout",
     "output_type": "stream",
     "text": [
      "Model: \"model\"\n",
      "__________________________________________________________________________________________________\n",
      "Layer (type)                    Output Shape         Param #     Connected to                     \n",
      "==================================================================================================\n",
      "input_1 (InputLayer)            [(None, 40)]         0                                            \n",
      "__________________________________________________________________________________________________\n",
      "embedding (Embedding)           (None, 40, 128)      2560000     input_1[0][0]                    \n",
      "__________________________________________________________________________________________________\n",
      "lstm (LSTM)                     [(None, 40, 256), (N 394240      embedding[0][0]                  \n",
      "__________________________________________________________________________________________________\n",
      "input_2 (InputLayer)            [(None, None)]       0                                            \n",
      "__________________________________________________________________________________________________\n",
      "lstm_1 (LSTM)                   [(None, 40, 256), (N 525312      lstm[0][0]                       \n",
      "__________________________________________________________________________________________________\n",
      "embedding_1 (Embedding)         (None, None, 128)    1152000     input_2[0][0]                    \n",
      "__________________________________________________________________________________________________\n",
      "lstm_2 (LSTM)                   [(None, 40, 256), (N 525312      lstm_1[0][0]                     \n",
      "__________________________________________________________________________________________________\n",
      "lstm_3 (LSTM)                   [(None, None, 256),  394240      embedding_1[0][0]                \n",
      "                                                                 lstm_2[0][1]                     \n",
      "                                                                 lstm_2[0][2]                     \n",
      "__________________________________________________________________________________________________\n",
      "dense (Dense)                   (None, None, 9000)   2313000     lstm_3[0][0]                     \n",
      "==================================================================================================\n",
      "Total params: 7,864,104\n",
      "Trainable params: 7,864,104\n",
      "Non-trainable params: 0\n",
      "__________________________________________________________________________________________________\n"
     ]
    }
   ],
   "source": [
    "# 디코더의 출력층 설계\n",
    "decoder_softmax_layer = Dense(tar_vocab, activation='softmax')\n",
    "decoder_softmax_outputs = decoder_softmax_layer(decoder_outputs) \n",
    "\n",
    "# 모델 정의\n",
    "model = Model([encoder_inputs, decoder_inputs], decoder_softmax_outputs)\n",
    "model.summary()"
   ]
  },
  {
   "cell_type": "markdown",
   "id": "parallel-korea",
   "metadata": {},
   "source": [
    "디코더의 출력층에서는 Summary의 단어장인 __`tar_vocab`__의 수많은 선택지 중 하나의 단어를 선택하는 다중 클래스 분류 문제를 풀어야 해요. 그렇기 때문에 Dense의 인자로 __`tar_vocab`__을 주고, 활성화 함수로 소프트맥스 함수를 사용하고 있어요.\n",
    "\n",
    "지금까지 설계한 것은 인코더의 hidden state와 cell state를 디코더의 초기 state로 사용하는 가장 기본적인 seq2seq에요. 그런데 디코더의 출력층을 설계를 살짝 바꿔서 성능을 높일 수 있는 방법인 __어텐션 메커니즘__을 활용해보겠습니다."
   ]
  },
  {
   "cell_type": "markdown",
   "id": "economic-market",
   "metadata": {},
   "source": [
    "### 어텐션 매커니즘"
   ]
  },
  {
   "cell_type": "code",
   "execution_count": 38,
   "id": "prompt-swift",
   "metadata": {},
   "outputs": [],
   "source": [
    "urllib.request.urlretrieve(\"https://raw.githubusercontent.com/thushv89/attention_keras/master/src/layers/attention.py\", filename=\"attention.py\")\n",
    "from attention import AttentionLayer"
   ]
  },
  {
   "cell_type": "markdown",
   "id": "italian-infrastructure",
   "metadata": {},
   "source": [
    "이제 경로에 __`attention.py`__ 파일이 생겼으니, 어텐션 메커니즘을 사용할 준비가 되었어요. 설계한 디코더의 출력층을 다음과 같이 수정할게요."
   ]
  },
  {
   "cell_type": "code",
   "execution_count": 39,
   "id": "worst-prime",
   "metadata": {},
   "outputs": [
    {
     "name": "stdout",
     "output_type": "stream",
     "text": [
      "Model: \"model_1\"\n",
      "__________________________________________________________________________________________________\n",
      "Layer (type)                    Output Shape         Param #     Connected to                     \n",
      "==================================================================================================\n",
      "input_1 (InputLayer)            [(None, 40)]         0                                            \n",
      "__________________________________________________________________________________________________\n",
      "embedding (Embedding)           (None, 40, 128)      2560000     input_1[0][0]                    \n",
      "__________________________________________________________________________________________________\n",
      "lstm (LSTM)                     [(None, 40, 256), (N 394240      embedding[0][0]                  \n",
      "__________________________________________________________________________________________________\n",
      "input_2 (InputLayer)            [(None, None)]       0                                            \n",
      "__________________________________________________________________________________________________\n",
      "lstm_1 (LSTM)                   [(None, 40, 256), (N 525312      lstm[0][0]                       \n",
      "__________________________________________________________________________________________________\n",
      "embedding_1 (Embedding)         (None, None, 128)    1152000     input_2[0][0]                    \n",
      "__________________________________________________________________________________________________\n",
      "lstm_2 (LSTM)                   [(None, 40, 256), (N 525312      lstm_1[0][0]                     \n",
      "__________________________________________________________________________________________________\n",
      "lstm_3 (LSTM)                   [(None, None, 256),  394240      embedding_1[0][0]                \n",
      "                                                                 lstm_2[0][1]                     \n",
      "                                                                 lstm_2[0][2]                     \n",
      "__________________________________________________________________________________________________\n",
      "attention_layer (AttentionLayer ((None, None, 256),  131328      lstm_2[0][0]                     \n",
      "                                                                 lstm_3[0][0]                     \n",
      "__________________________________________________________________________________________________\n",
      "concat_layer (Concatenate)      (None, None, 512)    0           lstm_3[0][0]                     \n",
      "                                                                 attention_layer[0][0]            \n",
      "__________________________________________________________________________________________________\n",
      "dense_1 (Dense)                 (None, None, 9000)   4617000     concat_layer[0][0]               \n",
      "==================================================================================================\n",
      "Total params: 10,299,432\n",
      "Trainable params: 10,299,432\n",
      "Non-trainable params: 0\n",
      "__________________________________________________________________________________________________\n"
     ]
    }
   ],
   "source": [
    "# 어텐션 층(어텐션 함수)\n",
    "attn_layer = AttentionLayer(name='attention_layer')\n",
    "# 인코더와 디코더의 모든 time step의 hidden state를 어텐션 층에 전달하고 결과를 리턴\n",
    "attn_out, attn_states = attn_layer([encoder_outputs, decoder_outputs])\n",
    "\n",
    "# 어텐션의 결과와 디코더의 hidden state들을 연결\n",
    "decoder_concat_input = Concatenate(axis=-1, name='concat_layer')([decoder_outputs, attn_out])\n",
    "\n",
    "# 디코더의 출력층\n",
    "decoder_softmax_layer = Dense(tar_vocab, activation='softmax')\n",
    "decoder_softmax_outputs = decoder_softmax_layer(decoder_concat_input)\n",
    "\n",
    "# 모델 정의\n",
    "model = Model([encoder_inputs, decoder_inputs], decoder_softmax_outputs)\n",
    "model.summary()"
   ]
  },
  {
   "cell_type": "markdown",
   "id": "smoking-knight",
   "metadata": {},
   "source": [
    "위의 코드는 인코더의 hidden state들과 디코더의 hidden state들을 어텐션 함수의 입력으로 사용하고, 어텐션 함수가 리턴한 값을 예측 시에 디코더의 hidden state와 함께 활용하는 형태로 작동하고 있어요."
   ]
  },
  {
   "cell_type": "markdown",
   "id": "false-encounter",
   "metadata": {},
   "source": [
    "## 6. 모델 훈련하기"
   ]
  },
  {
   "cell_type": "code",
   "execution_count": 40,
   "id": "killing-darwin",
   "metadata": {
    "scrolled": true
   },
   "outputs": [
    {
     "name": "stdout",
     "output_type": "stream",
     "text": [
      "Epoch 1/30\n",
      "281/281 [==============================] - 193s 647ms/step - loss: 5.9605 - val_loss: 5.1745\n",
      "Epoch 2/30\n",
      "281/281 [==============================] - 184s 656ms/step - loss: 5.1059 - val_loss: 4.7864\n",
      "Epoch 3/30\n",
      "281/281 [==============================] - 186s 662ms/step - loss: 4.7308 - val_loss: 4.5182\n",
      "Epoch 4/30\n",
      "281/281 [==============================] - 186s 661ms/step - loss: 4.4294 - val_loss: 4.3109\n",
      "Epoch 5/30\n",
      "281/281 [==============================] - 184s 653ms/step - loss: 4.2110 - val_loss: 4.1798\n",
      "Epoch 6/30\n",
      "281/281 [==============================] - 182s 647ms/step - loss: 4.0351 - val_loss: 4.0833\n",
      "Epoch 7/30\n",
      "281/281 [==============================] - 182s 647ms/step - loss: 3.8880 - val_loss: 3.9916\n",
      "Epoch 8/30\n",
      "281/281 [==============================] - 180s 642ms/step - loss: 3.7600 - val_loss: 3.9145\n",
      "Epoch 9/30\n",
      "281/281 [==============================] - 181s 643ms/step - loss: 3.6311 - val_loss: 3.8513\n",
      "Epoch 10/30\n",
      "281/281 [==============================] - 183s 650ms/step - loss: 3.5290 - val_loss: 3.8024\n",
      "Epoch 11/30\n",
      "281/281 [==============================] - 182s 646ms/step - loss: 3.4366 - val_loss: 3.7575\n",
      "Epoch 12/30\n",
      "281/281 [==============================] - 181s 644ms/step - loss: 3.3524 - val_loss: 3.7248\n",
      "Epoch 13/30\n",
      "281/281 [==============================] - 182s 647ms/step - loss: 3.2769 - val_loss: 3.7035\n",
      "Epoch 14/30\n",
      "281/281 [==============================] - 181s 645ms/step - loss: 3.1963 - val_loss: 3.6673\n",
      "Epoch 15/30\n",
      "281/281 [==============================] - 183s 652ms/step - loss: 3.1429 - val_loss: 3.6473\n",
      "Epoch 16/30\n",
      "281/281 [==============================] - 181s 646ms/step - loss: 3.0755 - val_loss: 3.6355\n",
      "Epoch 17/30\n",
      "281/281 [==============================] - 182s 648ms/step - loss: 3.0220 - val_loss: 3.6117\n",
      "Epoch 18/30\n",
      "281/281 [==============================] - 182s 648ms/step - loss: 2.9675 - val_loss: 3.5974\n",
      "Epoch 19/30\n",
      "281/281 [==============================] - 184s 655ms/step - loss: 2.9253 - val_loss: 3.5828\n",
      "Epoch 20/30\n",
      "281/281 [==============================] - 183s 652ms/step - loss: 2.8782 - val_loss: 3.5768\n",
      "Epoch 21/30\n",
      "281/281 [==============================] - 182s 649ms/step - loss: 2.8329 - val_loss: 3.5624\n",
      "Epoch 22/30\n",
      "281/281 [==============================] - 184s 655ms/step - loss: 2.7927 - val_loss: 3.5583\n",
      "Epoch 23/30\n",
      "281/281 [==============================] - 183s 650ms/step - loss: 2.7548 - val_loss: 3.5477\n",
      "Epoch 24/30\n",
      "281/281 [==============================] - 183s 651ms/step - loss: 2.7224 - val_loss: 3.5486\n",
      "Epoch 25/30\n",
      "281/281 [==============================] - 183s 652ms/step - loss: 2.6850 - val_loss: 3.5344\n",
      "Epoch 26/30\n",
      "281/281 [==============================] - 183s 651ms/step - loss: 2.6474 - val_loss: 3.5367\n",
      "Epoch 27/30\n",
      "281/281 [==============================] - 183s 651ms/step - loss: 2.6197 - val_loss: 3.5333\n",
      "Epoch 28/30\n",
      "281/281 [==============================] - 183s 650ms/step - loss: 2.5861 - val_loss: 3.5344\n",
      "Epoch 29/30\n",
      "281/281 [==============================] - 184s 653ms/step - loss: 2.5590 - val_loss: 3.5377\n",
      "Epoch 00029: early stopping\n"
     ]
    }
   ],
   "source": [
    "model.compile(optimizer='rmsprop', loss='sparse_categorical_crossentropy')\n",
    "es = EarlyStopping(monitor='val_loss', patience=2, verbose=1)  # val_loss가 증가하면 학습을 조기 종료함(EarlyStopping)\n",
    "history = model.fit(x=[encoder_input_train, decoder_input_train], y=decoder_target_train, \\\n",
    "          validation_data=([encoder_input_test, decoder_input_test], decoder_target_test), \\\n",
    "          batch_size=256, callbacks=[es], epochs=30)"
   ]
  },
  {
   "cell_type": "code",
   "execution_count": 41,
   "id": "forward-naples",
   "metadata": {},
   "outputs": [
    {
     "data": {
      "image/png": "[encoded data removed]",
      "text/plain": [
       "<Figure size 432x288 with 1 Axes>"
      ]
     },
     "metadata": {
      "needs_background": "light"
     },
     "output_type": "display_data"
    }
   ],
   "source": [
    "# 훈련 데이터와 검증 데이터의 손실이 줄어드는 과정 시각화\n",
    "plt.plot(history.history['loss'], label='train')\n",
    "plt.plot(history.history['val_loss'], label='test')\n",
    "plt.legend()\n",
    "plt.show()"
   ]
  },
  {
   "cell_type": "markdown",
   "id": "bibliographic-musical",
   "metadata": {},
   "source": [
    "## 7. 인퍼런스 모델 구현하기"
   ]
  },
  {
   "cell_type": "code",
   "execution_count": 42,
   "id": "humanitarian-laser",
   "metadata": {},
   "outputs": [],
   "source": [
    "src_index_to_word = src_tokenizer.index_word # 원문 단어 집합에서 정수 -> 단어를 얻음\n",
    "tar_word_to_index = tar_tokenizer.word_index # 요약 단어 집합에서 단어 -> 정수를 얻음\n",
    "tar_index_to_word = tar_tokenizer.index_word # 요약 단어 집합에서 정수 -> 단어를 얻음"
   ]
  },
  {
   "cell_type": "code",
   "execution_count": 43,
   "id": "appropriate-tunnel",
   "metadata": {},
   "outputs": [],
   "source": [
    "# 인코더 설계\n",
    "encoder_model = Model(inputs=encoder_inputs, outputs=[encoder_outputs, state_h, state_c])\n",
    "\n",
    "# 이전 시점의 상태들을 저장하는 텐서\n",
    "decoder_state_input_h = Input(shape=(hidden_size,))\n",
    "decoder_state_input_c = Input(shape=(hidden_size,))\n",
    "\n",
    "dec_emb2 = dec_emb_layer(decoder_inputs)\n",
    "\n",
    "# 문장의 다음 단어를 예측하기 위해서 초기 상태(initial_state)를 이전 시점의 상태로 사용. 이는 뒤의 함수 decode_sequence()에 구현\n",
    "# 훈련 과정에서와 달리 LSTM의 리턴하는 은닉 상태와 셀 상태인 state_h와 state_c를 버리지 않음.\n",
    "decoder_outputs2, state_h2, state_c2 = decoder_lstm(dec_emb2, initial_state=[decoder_state_input_h, decoder_state_input_c])"
   ]
  },
  {
   "cell_type": "code",
   "execution_count": 44,
   "id": "senior-drive",
   "metadata": {},
   "outputs": [],
   "source": [
    "# 어텐션 함수\n",
    "decoder_hidden_state_input = Input(shape=(text_max_len, hidden_size))\n",
    "attn_out_inf, attn_states_inf = attn_layer([decoder_hidden_state_input, decoder_outputs2])\n",
    "decoder_inf_concat = Concatenate(axis=-1, name='concat')([decoder_outputs2, attn_out_inf])\n",
    "\n",
    "# 디코더의 출력층\n",
    "decoder_outputs2 = decoder_softmax_layer(decoder_inf_concat) \n",
    "\n",
    "# 최종 디코더 모델\n",
    "decoder_model = Model(\n",
    "    [decoder_inputs] + [decoder_hidden_state_input,decoder_state_input_h, decoder_state_input_c],\n",
    "    [decoder_outputs2] + [state_h2, state_c2])"
   ]
  },
  {
   "cell_type": "code",
   "execution_count": 45,
   "id": "compressed-victorian",
   "metadata": {},
   "outputs": [],
   "source": [
    "# 인퍼런스 단계에서 단어 시퀀스를 완성하는 함수\n",
    "def decode_sequence(input_seq):\n",
    "    # 입력으로부터 인코더의 상태를 얻음\n",
    "    e_out, e_h, e_c = encoder_model.predict(input_seq)\n",
    "\n",
    "     # <SOS>에 해당하는 토큰 생성\n",
    "    target_seq = np.zeros((1,1))\n",
    "    target_seq[0, 0] = tar_word_to_index['sostoken']\n",
    "\n",
    "    stop_condition = False\n",
    "    decoded_sentence = ''\n",
    "    while not stop_condition: # stop_condition이 True가 될 때까지 루프 반복\n",
    "\n",
    "        output_tokens, h, c = decoder_model.predict([target_seq] + [e_out, e_h, e_c])\n",
    "        sampled_token_index = np.argmax(output_tokens[0, -1, :])\n",
    "        sampled_token = tar_index_to_word[sampled_token_index]\n",
    "\n",
    "        if (sampled_token!='eostoken'):\n",
    "            decoded_sentence += ' '+sampled_token\n",
    "\n",
    "        #  <eos>에 도달하거나 최대 길이를 넘으면 중단.\n",
    "        if (sampled_token == 'eostoken'  or len(decoded_sentence.split()) >= (headlines_max_len-1)):\n",
    "            stop_condition = True\n",
    "\n",
    "        # 길이가 1인 타겟 시퀀스를 업데이트\n",
    "        target_seq = np.zeros((1,1))\n",
    "        target_seq[0, 0] = sampled_token_index\n",
    "\n",
    "        # 상태를 업데이트 합니다.\n",
    "        e_h, e_c = h, c\n",
    "\n",
    "    return decoded_sentence"
   ]
  },
  {
   "cell_type": "markdown",
   "id": "nutritional-syndicate",
   "metadata": {},
   "source": [
    "## 8. 모델 테스트 하기"
   ]
  },
  {
   "cell_type": "code",
   "execution_count": 46,
   "id": "grand-black",
   "metadata": {},
   "outputs": [],
   "source": [
    "# 원문의 정수 시퀀스를 텍스트 시퀀스로 변환\n",
    "def seq2text(input_seq):\n",
    "    temp=''\n",
    "    for i in input_seq:\n",
    "        if (i!=0):\n",
    "            temp = temp + src_index_to_word[i]+' '\n",
    "    return temp\n",
    "\n",
    "# 요약문의 정수 시퀀스를 텍스트 시퀀스로 변환\n",
    "def seq2summary(input_seq):\n",
    "    temp=''\n",
    "    for i in input_seq:\n",
    "        if ((i!=0 and i!=tar_word_to_index['sostoken']) and i!=tar_word_to_index['eostoken']):\n",
    "            temp = temp + tar_index_to_word[i] + ' '\n",
    "    return temp"
   ]
  },
  {
   "cell_type": "markdown",
   "id": "recovered-fishing",
   "metadata": {},
   "source": [
    "### 요약 결과 확인"
   ]
  },
  {
   "cell_type": "code",
   "execution_count": 54,
   "id": "divine-color",
   "metadata": {},
   "outputs": [
    {
     "name": "stdout",
     "output_type": "stream",
     "text": [
      "원문 : supreme court tuesday allowed tamil nadu kerala karnataka andhra pradesh choose time bursting firecrackers diwali subject limit two hours submitted diwali celebrated morning southern parts country states also allowed burst crackers \n",
      "실제 요약 : southern states can pick their hours for firecrackers sc \n",
      "예측 요약 :  sc issues notice to kerala over andhra state\n",
      "\n",
      "\n",
      "원문 : actress sharmila tagore filed complaint behalf bhopal royal family occupants prime residential property bhopal claiming ownership land following complaint district administration issued notices occupants furnish replies sharmila alleged occupants property also stole precious \n",
      "실제 요약 : sharmila files complaint to claim royal property in bhopal \n",
      "예측 요약 :  malayalam actress molested at mumbai airport\n",
      "\n",
      "\n",
      "원문 : girl kerala filed complaint mother vhp rss workers allegedly holding captive years even giving electric shocks dating muslim man reportedly girl claimed given tablets day injections keep unconscious captivity \n",
      "실제 요약 : girl given electric shocks held captive for dating muslim \n",
      "예측 요약 :  kerala nun raped by nun for refusing to sell her\n",
      "\n",
      "\n",
      "원문 : occasion social media day saturday pm narendra modi urged youth continue using medium express discuss ideas freely world social media played key role discourse giving platform millions express views showcase creativity tweeted \n",
      "실제 요약 : continue pm modi on social media day \n",
      "예측 요약 :  youth should be used to india pm modi\n",
      "\n",
      "\n",
      "원문 : uttar pradesh chief minister yogi adityanath said interview arnab goswami country identity cannot based taj mahal asked views people consider ram mandir issue said honoured considered important enough also praised anti romeo squad bringing peace \n",
      "실제 요약 : taj mahal cannot serve as identity of the nation up cm yogi \n",
      "예측 요약 :  taj mahal must learn from telangana cm yogi\n",
      "\n",
      "\n",
      "원문 : bjp mp bihar singh saturday said every person living india hindu irrespective faith religion follows calling uttar pradesh cm yogi adityanath warrior said new cm given voice country rich heritage culture \n",
      "실제 요약 : every person living in india is hindu bjp mp from bihar \n",
      "예측 요약 :  hindus should be built by muslims bjp mp bjp mp\n",
      "\n",
      "\n",
      "원문 : norwegian heiress second youngest billionaire world year old handed fine court failing roadside test way family incident occurred received three week suspended prison sentence banned driving months \n",
      "실제 요약 : drunk driving fine for world nd youngest billionaire \n",
      "예측 요약 :  youngest player fined for years after being fined\n",
      "\n",
      "\n",
      "원문 : justifying bsf jawan tej bahadur yadav sacking video quality food served security personnel centre monday told punjab haryana high court video could led among armed forces video ill conceived idea malign image force centre stated court \n",
      "실제 요약 : his video could cause govt defends jawan \n",
      "예측 요약 :  crpf jawan asks army to provide to remove issues\n",
      "\n",
      "\n",
      "원문 : former australian captain ian chappell said indian rounder hardik pandya run second test south africa result arrogance chappell emphasised need adhere basic principles sport like bat principles apply form game ignored lose games chappell said \n",
      "실제 요약 : pandya because of ian chappell \n",
      "예측 요약 :  jadeja has been the best test bowler ex aus captain\n",
      "\n",
      "\n",
      "원문 : actress pooja hegde made bollywood debut film star upcoming film housefull film also star actors akshay kumar riteish deshmukh bobby deol kriti sanon housefull directed sajid khan produced sajid nadiadwala \n",
      "실제 요약 : pooja hegde to star in akshay kumar housefull \n",
      "예측 요약 :  pooja pooja to star in housefull in upcoming film\n",
      "\n",
      "\n",
      "원문 : nasa insight spacecraft landed mars carried names around lakh indians silicon chip according space agency india ranks third list first us names followed china names names written lines smaller one one diameter human hair \n",
      "실제 요약 : nasa spacecraft landed on mars with names of over indians \n",
      "예측 요약 :  nasa rover hits the most powerful president\n",
      "\n",
      "\n",
      "원문 : music composer singer pritam said jagga jasoos took time complicated project easy take subject like live four years added earlier rishi kapoor slammed director anurag basu delaying film blamed pritam saying pritam probably delivered music week \n",
      "실제 요약 : jagga jasoos took time as it was \n",
      "예측 요약 :  julie is not going to be like wood ar rahman\n",
      "\n",
      "\n",
      "원문 : north korea flag raised south korea thursday ahead winter olympic games despite laws exception made comply international olympic committee rules require display competing countries total north korean athletes participate games held pyeongchang \n",
      "실제 요약 : south korea raises illegal north korean flag for olympics \n",
      "예측 요약 :  korea to hold olympics for winter olympics\n",
      "\n",
      "\n",
      "원문 : minister ravi shankar prasad said facebook found involved data breach indians take strict action including mark zuckerberg today crore indians facebook stringent act prasad added comes facebook users data exploited influence us elections \n",
      "실제 요약 : will mark zuckerberg to india if needed it minister \n",
      "예측 요약 :  fb data scandal used data scandal minister prasad prasad\n",
      "\n",
      "\n",
      "원문 : indian journalist charged people smuggling allegedly helping eight people enter australia posing fake journalists group posed media contingent coming australia cover commonwealth games authorities said statement year old suspect faces years jail \n",
      "실제 요약 : indian charged with smuggling fake journalists in australia \n",
      "예측 요약 :  journo arrested for posting fake news of india\n",
      "\n",
      "\n",
      "원문 : kriti sanon said high maintenance girlfriend enjoying meal home watching film pyjamas walking around beach instead going expensive date added kriti said romantic heart fan dilwale dulhania le jayenge \n",
      "실제 요약 : am not high maintenance girlfriend kriti sanon \n",
      "예측 요약 :  am not lost away kriti on instagram\n",
      "\n",
      "\n",
      "원문 : praising actor rishi kapoor amitabh bachchan said yet come across artist lip sync perfectly rishi ji amitabh added lip sync expressions face noticed son ranbir kapoor great fan big said nn \n",
      "실제 요약 : no artist who can lip as as rishi big \n",
      "예측 요약 :  was like big on working with big on cannes film\n",
      "\n",
      "\n",
      "원문 : us government plotted start war soviet union conducting false flag attack recently declassified documents related former us president john kennedy assassination revealed false flag attacks operations make look like attack carried group another group actually carries attack \n",
      "실제 요약 : us planned false flag attack to start war with docs \n",
      "예측 요약 :  us state secy calls for president over terror attack\n",
      "\n",
      "\n",
      "원문 : class student delivered baby tribal residential school hostel bathroom odisha district sunday eight months raped police said authorities dismissed six hostel employees failure report matter police said girl allegedly raped year old village gone home vacations \n",
      "실제 요약 : class girl raped months ago gives birth in hostel bathroom \n",
      "예측 요약 :  class student commits suicide in class toilet\n",
      "\n",
      "\n",
      "원문 : madhya pradesh home minister bhupendra singh tuesday said four farmers committed suicide farm loans last one year till march added reasons suicide also said government considers suicides take place due bad loans farmer suicides \n",
      "실제 요약 : only mp farmers committed suicide due to loans last year \n",
      "예측 요약 :  farmer suicides is farmer suicides minister\n",
      "\n",
      "\n"
     ]
    }
   ],
   "source": [
    "for i in range(20):\n",
    "    print(\"원문 :\", seq2text(encoder_input_test[i]))\n",
    "    print(\"실제 요약 :\", seq2summary(decoder_input_test[i]))\n",
    "    print(\"예측 요약 :\", decode_sequence(encoder_input_test[i].reshape(1, text_max_len)))\n",
    "    print(\"\\n\")"
   ]
  },
  {
   "cell_type": "markdown",
   "id": "electronic-choice",
   "metadata": {},
   "source": [
    "# Part 2. 추출적 요약(Extractive summarization)"
   ]
  },
  {
   "cell_type": "code",
   "execution_count": 48,
   "id": "understood-athletics",
   "metadata": {},
   "outputs": [],
   "source": [
    "import requests\n",
    "from summa.summarizer import summarize"
   ]
  },
  {
   "cell_type": "code",
   "execution_count": 49,
   "id": "positive-parking",
   "metadata": {},
   "outputs": [
    {
     "name": "stdout",
     "output_type": "stream",
     "text": [
      "전체 샘플 수 : 98401\n"
     ]
    }
   ],
   "source": [
    "# 데이터 다운(※ 출처 : https://github.com/sunnysai12345/News_Summary)\n",
    "\n",
    "urllib.request.urlretrieve(\"https://raw.githubusercontent.com/sunnysai12345/News_Summary/master/news_summary_more.csv\", filename=\"news_summary_more.csv\")\n",
    "data = pd.read_csv('news_summary_more.csv', encoding='iso-8859-1')\n",
    "print('전체 샘플 수 :', (len(data)))"
   ]
  },
  {
   "cell_type": "code",
   "execution_count": 50,
   "id": "formed-tobago",
   "metadata": {},
   "outputs": [],
   "source": [
    "# text 컬럼의 문장을 summary 컬럼으로 요약한다.\n",
    "data['summary'] = data['text'].apply(lambda x: summarize(x, ratio=0.5))"
   ]
  },
  {
   "cell_type": "code",
   "execution_count": 51,
   "id": "dirty-diversity",
   "metadata": {},
   "outputs": [
    {
     "data": {
      "text/html": [
       "<div>\n",
       "<style scoped>\n",
       "    .dataframe tbody tr th:only-of-type {\n",
       "        vertical-align: middle;\n",
       "    }\n",
       "\n",
       "    .dataframe tbody tr th {\n",
       "        vertical-align: top;\n",
       "    }\n",
       "\n",
       "    .dataframe thead th {\n",
       "        text-align: right;\n",
       "    }\n",
       "</style>\n",
       "<table border=\"1\" class=\"dataframe\">\n",
       "  <thead>\n",
       "    <tr style=\"text-align: right;\">\n",
       "      <th></th>\n",
       "      <th>headlines</th>\n",
       "      <th>text</th>\n",
       "      <th>summary</th>\n",
       "    </tr>\n",
       "  </thead>\n",
       "  <tbody>\n",
       "    <tr>\n",
       "      <th>29138</th>\n",
       "      <td>NDA govt ministers have visited 186 of 192 cou...</td>\n",
       "      <td>Talking about NDA government's four years in p...</td>\n",
       "      <td>Talking about NDA government's four years in p...</td>\n",
       "    </tr>\n",
       "    <tr>\n",
       "      <th>22576</th>\n",
       "      <td>Pakistan cricketers' salaries increased by 25%...</td>\n",
       "      <td>The Pakistan cricketers across the board's cen...</td>\n",
       "      <td>The Pakistan cricketers across the board's cen...</td>\n",
       "    </tr>\n",
       "    <tr>\n",
       "      <th>2488</th>\n",
       "      <td>Designer Anamika accused of copying concept; S...</td>\n",
       "      <td>Sonam Kapoor and her sister Rhea defended desi...</td>\n",
       "      <td>Sonam Kapoor and her sister Rhea defended desi...</td>\n",
       "    </tr>\n",
       "    <tr>\n",
       "      <th>25501</th>\n",
       "      <td>TDP seeks support for no-trust motion against ...</td>\n",
       "      <td>A day before the Monsoon Session of the Parlia...</td>\n",
       "      <td>A day before the Monsoon Session of the Parlia...</td>\n",
       "    </tr>\n",
       "    <tr>\n",
       "      <th>25102</th>\n",
       "      <td>One MP came running to me saying Utho Utho Uth...</td>\n",
       "      <td>Taking a dig at Congress President Rahul Gandh...</td>\n",
       "      <td>Taking a dig at Congress President Rahul Gandh...</td>\n",
       "    </tr>\n",
       "    <tr>\n",
       "      <th>89807</th>\n",
       "      <td>Filing FIR against you, bless me: Kapil Mishra...</td>\n",
       "      <td>Sacked Delhi Minister Kapil Mishra on Tuesday ...</td>\n",
       "      <td>But I am ready to fight...</td>\n",
       "    </tr>\n",
       "    <tr>\n",
       "      <th>80312</th>\n",
       "      <td>Iran jails US dual national for 10 years over ...</td>\n",
       "      <td>An Iranian court has sentenced a US dual natio...</td>\n",
       "      <td>An Iranian court has sentenced a US dual natio...</td>\n",
       "    </tr>\n",
       "    <tr>\n",
       "      <th>94638</th>\n",
       "      <td>What is a Tomahawk cruise missile?</td>\n",
       "      <td>The Tomahawk cruise missile is a long-range US...</td>\n",
       "      <td>Tomahawk missiles can be guided by GPS to targ...</td>\n",
       "    </tr>\n",
       "    <tr>\n",
       "      <th>59024</th>\n",
       "      <td>European Games 2019 to include new mixed gende...</td>\n",
       "      <td>A new mixed gender team competition is set to ...</td>\n",
       "      <td>Each team will feature nine women, eight men, ...</td>\n",
       "    </tr>\n",
       "    <tr>\n",
       "      <th>94815</th>\n",
       "      <td>Boeing, JetBlue back Indian-origin man's aircr...</td>\n",
       "      <td>Hybrid electric aircraft startup Zunum Aero, f...</td>\n",
       "      <td>Hybrid electric aircraft startup Zunum Aero, f...</td>\n",
       "    </tr>\n",
       "  </tbody>\n",
       "</table>\n",
       "</div>"
      ],
      "text/plain": [
       "                                               headlines  \\\n",
       "29138  NDA govt ministers have visited 186 of 192 cou...   \n",
       "22576  Pakistan cricketers' salaries increased by 25%...   \n",
       "2488   Designer Anamika accused of copying concept; S...   \n",
       "25501  TDP seeks support for no-trust motion against ...   \n",
       "25102  One MP came running to me saying Utho Utho Uth...   \n",
       "89807  Filing FIR against you, bless me: Kapil Mishra...   \n",
       "80312  Iran jails US dual national for 10 years over ...   \n",
       "94638                 What is a Tomahawk cruise missile?   \n",
       "59024  European Games 2019 to include new mixed gende...   \n",
       "94815  Boeing, JetBlue back Indian-origin man's aircr...   \n",
       "\n",
       "                                                    text  \\\n",
       "29138  Talking about NDA government's four years in p...   \n",
       "22576  The Pakistan cricketers across the board's cen...   \n",
       "2488   Sonam Kapoor and her sister Rhea defended desi...   \n",
       "25501  A day before the Monsoon Session of the Parlia...   \n",
       "25102  Taking a dig at Congress President Rahul Gandh...   \n",
       "89807  Sacked Delhi Minister Kapil Mishra on Tuesday ...   \n",
       "80312  An Iranian court has sentenced a US dual natio...   \n",
       "94638  The Tomahawk cruise missile is a long-range US...   \n",
       "59024  A new mixed gender team competition is set to ...   \n",
       "94815  Hybrid electric aircraft startup Zunum Aero, f...   \n",
       "\n",
       "                                                 summary  \n",
       "29138  Talking about NDA government's four years in p...  \n",
       "22576  The Pakistan cricketers across the board's cen...  \n",
       "2488   Sonam Kapoor and her sister Rhea defended desi...  \n",
       "25501  A day before the Monsoon Session of the Parlia...  \n",
       "25102  Taking a dig at Congress President Rahul Gandh...  \n",
       "89807                         But I am ready to fight...  \n",
       "80312  An Iranian court has sentenced a US dual natio...  \n",
       "94638  Tomahawk missiles can be guided by GPS to targ...  \n",
       "59024  Each team will feature nine women, eight men, ...  \n",
       "94815  Hybrid electric aircraft startup Zunum Aero, f...  "
      ]
     },
     "execution_count": 51,
     "metadata": {},
     "output_type": "execute_result"
    }
   ],
   "source": [
    "data.sample(10)"
   ]
  },
  {
   "cell_type": "markdown",
   "id": "colored-number",
   "metadata": {},
   "source": [
    "### 요약 결과 확인"
   ]
  },
  {
   "cell_type": "code",
   "execution_count": 53,
   "id": "suspected-afternoon",
   "metadata": {},
   "outputs": [
    {
     "name": "stdout",
     "output_type": "stream",
     "text": [
      "원문 : Saurav Kant, an alumnus of upGrad and IIIT-B's PG Program in Machine learning and Artificial Intelligence, was a Sr Systems Engineer at Infosys with almost 5 years of work experience. The program and upGrad's 360-degree career support helped him transition to a Data Scientist at Tech Mahindra with 90% salary hike. upGrad's Online Power Learning has powered 3 lakh+ careers.\n",
      "실제 요약 : upGrad learner switches to career in ML & Al with 90% salary hike\n",
      "추출 요약 : upGrad's Online Power Learning has powered 3 lakh+ careers.\n",
      "\n",
      "\n",
      "원문 : Kunal Shah's credit card bill payment platform, CRED, gave users a chance to win free food from Swiggy for one year. Pranav Kaushik, a Delhi techie, bagged this reward after spending 2000 CRED coins. Users get one CRED coin per rupee of bill paid, which can be used to avail rewards from brands like Ixigo, BookMyShow, UberEats, Cult.Fit and more.\n",
      "실제 요약 : Delhi techie wins free food from Swiggy for one year on CRED\n",
      "추출 요약 : Users get one CRED coin per rupee of bill paid, which can be used to avail rewards from brands like Ixigo, BookMyShow, UberEats, Cult.Fit and more.\n",
      "\n",
      "\n",
      "원문 : New Zealand defeated India by 8 wickets in the fourth ODI at Hamilton on Thursday to win their first match of the five-match ODI series. India lost an international match under Rohit Sharma's captaincy after 12 consecutive victories dating back to March 2018. The match witnessed India getting all out for 92, their seventh lowest total in ODI cricket history.\n",
      "실제 요약 : New Zealand end Rohit Sharma-led India's 12-match winning streak\n",
      "추출 요약 : The match witnessed India getting all out for 92, their seventh lowest total in ODI cricket history.\n",
      "\n",
      "\n",
      "원문 : With Aegon Life iTerm Insurance plan, customers can enjoy tax benefits on your premiums paid and save up to Ã¢ÂÂ¹46,800^ on taxes. The plan provides life cover up to the age of 100 years. Also, customers have options to insure against Critical Illnesses, Disability and Accidental Death Benefit Rider with a life cover up to the age of 80 years.\n",
      "실제 요약 : Aegon life iTerm insurance plan helps customers save tax\n",
      "추출 요약 : Also, customers have options to insure against Critical Illnesses, Disability and Accidental Death Benefit Rider with a life cover up to the age of 80 years.\n",
      "\n",
      "\n",
      "원문 : Speaking about the sexual harassment allegations against Rajkumar Hirani, Sonam Kapoor said, \"I've known Hirani for many years...What if it's not true, the [#MeToo] movement will get derailed.\" \"In the #MeToo movement, I always believe a woman. But in this case, we need to reserve our judgment,\" she added. Hirani has been accused by an assistant who worked in 'Sanju'.\n",
      "실제 요약 : Have known Hirani for yrs, what if MeToo claims are not true: Sonam\n",
      "추출 요약 : Speaking about the sexual harassment allegations against Rajkumar Hirani, Sonam Kapoor said, \"I've known Hirani for many years...What if it's not true, the [#MeToo] movement will get derailed.\" \"In the #MeToo movement, I always believe a woman.\n",
      "\n",
      "\n",
      "원문 : Pakistani singer Rahat Fateh Ali Khan has denied receiving any notice from the Enforcement Directorate over allegedly smuggling foreign currency out of India. \"It would have been better if the authorities would have served the notice first if any and then publicised this,\" reads a press release issued on behalf of Rahat. The statement further called the allegation \"bizarre\".\n",
      "실제 요약 : Rahat Fateh Ali Khan denies getting notice for smuggling currency\n",
      "추출 요약 : Pakistani singer Rahat Fateh Ali Khan has denied receiving any notice from the Enforcement Directorate over allegedly smuggling foreign currency out of India.\n",
      "\n",
      "\n",
      "원문 : India recorded their lowest ODI total in New Zealand after getting all out for 92 runs in 30.5 overs in the fourth ODI at Hamilton on Thursday. Seven of India's batsmen were dismissed for single-digit scores, while their number ten batsman Yuzvendra Chahal top-scored with 18*(37). India's previous lowest ODI total in New Zealand was 108.\n",
      "실제 요약 : India get all out for 92, their lowest ODI total in New Zealand\n",
      "추출 요약 : India's previous lowest ODI total in New Zealand was 108.\n",
      "\n",
      "\n",
      "원문 : Weeks after ex-CBI Director Alok Verma told the Department of Personnel and Training to consider him retired, the Home Ministry asked him to join work on the last day of his fixed tenure as Director on Thursday. The ministry directed him to immediately join as DG, Fire Services, the post he was transferred to after his removal as CBI chief.\n",
      "실제 요약 : Govt directs Alok Verma to join work 1 day before his retirement\n",
      "추출 요약 : Weeks after ex-CBI Director Alok Verma told the Department of Personnel and Training to consider him retired, the Home Ministry asked him to join work on the last day of his fixed tenure as Director on Thursday.\n",
      "\n",
      "\n",
      "원문 : Andhra Pradesh CM N Chandrababu Naidu has said, \"When I met then US President Bill Clinton, I addressed him as Mr Clinton, not as 'sir'. (PM Narendra) Modi is my junior in politics...I addressed him as sir 10 times.\" \"I did this...to satisfy his ego in the hope that he will do justice to the state,\" he added.\n",
      "실제 요약 : Called PM Modi 'sir' 10 times to satisfy his ego: Andhra CM\n",
      "추출 요약 : Andhra Pradesh CM N Chandrababu Naidu has said, \"When I met then US President Bill Clinton, I addressed him as Mr Clinton, not as 'sir'.\n",
      "\n",
      "\n",
      "원문 : Congress candidate Shafia Zubair won the Ramgarh Assembly seat in Rajasthan, by defeating BJP's Sukhwant Singh with a margin of 12,228 votes in the bypoll. With this victory, Congress has taken its total to 100 seats in the 200-member assembly. The election to the Ramgarh seat was delayed due to the death of sitting MLA and BSP candidate Laxman Singh.\n",
      "실제 요약 : Cong wins Ramgarh bypoll in Rajasthan, takes total to 100 seats\n",
      "추출 요약 : Congress candidate Shafia Zubair won the Ramgarh Assembly seat in Rajasthan, by defeating BJP's Sukhwant Singh with a margin of 12,228 votes in the bypoll.\n",
      "\n",
      "\n",
      "원문 : Two minor cousins in Uttar Pradesh's Gorakhpur were allegedly repeatedly burnt with tongs and forced to eat human excreta by their family for being friends with two boys from the same school. The cousins revealed their ordeal to the police and Child Welfare Committee after being brought back to Gorakhpur from Nepal, where they had fled to escape the torture.\n",
      "실제 요약 : UP cousins fed human excreta for friendship with boys\n",
      "추출 요약 : Two minor cousins in Uttar Pradesh's Gorakhpur were allegedly repeatedly burnt with tongs and forced to eat human excreta by their family for being friends with two boys from the same school.\n",
      "\n",
      "\n",
      "원문 : Isha Ghosh, an 81-year-old member of Bharat Scouts and Guides (BSG), has been imparting physical and mental training to schoolchildren in Jharkhand for several decades. Chaibasa-based Ghosh reportedly walks seven kilometres daily and spends eight hours conducting physical training, apart from climbing and yoga sessions. She says, \"One should do something for society till one's last breath.\"\n",
      "실제 요약 : 81-yr-old woman conducts physical training in J'khand schools\n",
      "추출 요약 : Isha Ghosh, an 81-year-old member of Bharat Scouts and Guides (BSG), has been imparting physical and mental training to schoolchildren in Jharkhand for several decades.\n",
      "\n",
      "\n",
      "원문 : Urging saints and seers at the Kumbh Mela to quit smoking, Yoga guru Ramdev said, \"We follow Ram and Krishna who never smoked in their life then why should we?\" Making them take a pledge to quit tobacco, he collected chillum (clay pipe) from several sadhus. He said he will deposit the chillums for display at a museum he'll build.\n",
      "실제 요약 : Ram, Krishna didn't smoke, why should we: Ramdev to sadhus at Kumbh\n",
      "추출 요약 : Urging saints and seers at the Kumbh Mela to quit smoking, Yoga guru Ramdev said, \"We follow Ram and Krishna who never smoked in their life then why should we?\" Making them take a pledge to quit tobacco, he collected chillum (clay pipe) from several sadhus.\n",
      "\n",
      "\n",
      "원문 : Former stripper and regional sales director of a pharmaceutical company, Sunrise Lee, gave a doctor a lap dance in a nightclub to persuade him to prescribe an addictive fentanyl spray in 2012, the company's sales representative told a US court. She said she saw Lee \"sitting on [doctor's] lap, kind of bouncing around.\" Lee has been accused of bribing doctors.\n",
      "실제 요약 : Pharma exec gave doctor a lap dance to sell medicine in US: Witness\n",
      "추출 요약 : Former stripper and regional sales director of a pharmaceutical company, Sunrise Lee, gave a doctor a lap dance in a nightclub to persuade him to prescribe an addictive fentanyl spray in 2012, the company's sales representative told a US court.\n",
      "\n",
      "\n",
      "원문 : Reliance Industries' Chairman Mukesh Ambani's daughter Isha Ambani, who got married last month, said she only cried at her 'bidaai' because she felt peer pressure as everyone was crying, especially her parents. \"I was emotional too but everyone around me would cry all the time,\" she added. \"It was a very emotional affair for everyone in my family,\" said Isha.\n",
      "실제 요약 :  I only cried at my 'bidaai' as I felt peer pressure: Isha Ambani\n",
      "추출 요약 : \"It was a very emotional affair for everyone in my family,\" said Isha.\n",
      "\n",
      "\n",
      "원문 : Louis Vuitton owner LVMH, which makes high-end beverages like MoÃÂ«t & Chandon champagne and Hennessy cognac, said it's stockpiling four months' worth of wine and spirits in UK in preparation for Brexit. \"We're ready for worst case scenario if there are difficulties with deliveries,\" the French luxury giant said. The UK is scheduled to leave the EU on March 29.\n",
      "실제 요약 : Louis Vuitton owner to stockpile 4 months of wine, spirits in UK\n",
      "추출 요약 : Louis Vuitton owner LVMH, which makes high-end beverages like MoÃÂ«t & Chandon champagne and Hennessy cognac, said it's stockpiling four months' worth of wine and spirits in UK in preparation for Brexit.\n",
      "\n",
      "\n",
      "원문 : Filmmaker Karan Johar and actress Tabu turned showstoppers for Gaurav Gupta on the opening night of LakmÃÂ© Fashion Week Summer/ Resort 2019. While Johar wore a red sequinned jacket with black pants, Tabu walked the ramp in a grey embellished gown. The fashion show, which began on January 29, will continue till February 3.\n",
      "실제 요약 : Karan Johar, Tabu turn showstoppers on opening night of LFW\n",
      "추출 요약 : Filmmaker Karan Johar and actress Tabu turned showstoppers for Gaurav Gupta on the opening night of LakmÃÂ© Fashion Week Summer/ Resort 2019.\n",
      "\n",
      "\n",
      "원문 : In a jibe at Congress President Rahul Gandhi, PM Narendra Modi on Wednesday said those on \"bail will have to go to jail.\" PM Modi added, \"He is out on bail and his associates too are facing charges...I know they will be convicted one day.\" The PM claimed he'd waged a war on corruption because he's from a common household. \n",
      "실제 요약 : Those on bail will go to jail: PM Modi takes jibe at Rahul\n",
      "추출 요약 : \n",
      "\n",
      "\n",
      "원문 : Days after he threatened to step down from his post if Congress MLAs continue \"crossing the line,\" Karnataka Chief Minister HD Kumaraswamy accused them of taking potshots and asked, \"How many more days can I tolerate such stuff?\" Kumaraswamy, who made the statements after a Congress MLA demanded that Siddaramaiah be made CM again, said, \"Power is ephemeral.\"\n",
      "실제 요약 : How long can I tolerate Congress leaders' potshots: K'taka CM\n",
      "추출 요약 : \n",
      "\n",
      "\n",
      "원문 : Union Minister Dharmendra Pradhan on Wednesday claimed the illegal mining mafia in Odisha operates under the control of CM Naveen Patnaik and state Congress chief Niranjan Patnaik. He added, \"The time has come for the people of Odisha to put a full stop to their activities...The time has come for us to ask for an explanation from this corrupt government.\"\n",
      "실제 요약 : Odisha CM Patnaik controls mining mafia: Union Minister\n",
      "추출 요약 : Union Minister Dharmendra Pradhan on Wednesday claimed the illegal mining mafia in Odisha operates under the control of CM Naveen Patnaik and state Congress chief Niranjan Patnaik.\n",
      "\n",
      "\n"
     ]
    }
   ],
   "source": [
    "# 실제 요약과 추출된 요약 비교\n",
    "for i in range(20):\n",
    "    print(\"원문 :\", data['text'][i])\n",
    "    print(\"실제 요약 :\", data['headlines'][i])\n",
    "    print(\"추출 요약 :\", data['summary'][i])\n",
    "    print(\"\\n\")"
   ]
  },
  {
   "cell_type": "markdown",
   "id": "organizational-indiana",
   "metadata": {},
   "source": [
    "# Part 3. 추상적 요약 vs. 추출적 요약 결과 비교"
   ]
  },
  {
   "cell_type": "markdown",
   "id": "increased-discipline",
   "metadata": {},
   "source": [
    "### 추상적 요약 방식\n",
    "- 원문으로부터 핵심내용을 새로운 문장으로 생성해내기 때문에 문법적인 오류가 많이 보였다. 텍스트 불용화와 정규화가 오히려 문장을 요약하는데 좋지 못한 영향을 준 것이 아닌 가 생각해본다. \n",
    "  \n",
    "\n",
    "### 추출적 요약 방식\n",
    "- 원문에서 문장을 그대로 추출해서 요약해주는 방식이기 때문에 추상적 요약과 비교 했을 때 상대적으로 요약문의 문법 완성도가 높았던 반면, 요약한 문장 중 핵심적인 내용이 아닌 경우가 종종 보였다. 동일한 방식을 사용해서 꽤나 정확한 문장들만 캐치하는 네이버 뉴스 요약봇의 기술 완성도에 대단함을 느꼈다."
   ]
  },
  {
   "cell_type": "markdown",
   "id": "saved-neighborhood",
   "metadata": {},
   "source": [
    "# 회고"
   ]
  },
  {
   "cell_type": "markdown",
   "id": "verified-extension",
   "metadata": {},
   "source": [
    "- 모델을 돌리는데 시간이 오래걸려서 다양한 방법을 시도해보지 못한 것이 아쉬웠다. 시간이 된다면 문장 최대길이, Voca 크기 등을 바꿔보면서 결과 값이 어떻게 나오는지 찾아보면 좋을 것 같다."
   ]
  }
 ],
 "metadata": {
  "kernelspec": {
   "display_name": "Python 3",
   "language": "python",
   "name": "python3"
  },
  "language_info": {
   "codemirror_mode": {
    "name": "ipython",
    "version": 3
   },
   "file_extension": ".py",
   "mimetype": "text/x-python",
   "name": "python",
   "nbconvert_exporter": "python",
   "pygments_lexer": "ipython3",
   "version": "3.7.9"
  }
 },
 "nbformat": 4,
 "nbformat_minor": 5
}
