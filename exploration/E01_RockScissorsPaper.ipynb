{
 "cells": [
  {
   "cell_type": "markdown",
   "id": "weighted-wagner",
   "metadata": {},
   "source": [
    "# 프로젝토 : 가위바위보 분류기 만들기"
   ]
  },
  {
   "cell_type": "markdown",
   "id": "centered-liver",
   "metadata": {},
   "source": [
    "## 데이터 준비하기"
   ]
  },
  {
   "cell_type": "markdown",
   "id": "sharing-shark",
   "metadata": {},
   "source": [
    "### 데이터 만들기\n",
    "- 구글 teachable machine 사이트를 이용해 가위바위보 이미지 데이터를 만든다.\n",
    "- URL : https://teachablemachine.withgoogle.com/"
   ]
  },
  {
   "cell_type": "markdown",
   "id": "guilty-cotton",
   "metadata": {},
   "source": [
    "### 디렉토리\n",
    "- 파일을 저장할 디렉토리를 생성한다"
   ]
  },
  {
   "cell_type": "code",
   "execution_count": 95,
   "id": "straight-reunion",
   "metadata": {},
   "outputs": [],
   "source": [
    "# 디렉토리 만들기\n",
    "# mkdir - p"
   ]
  },
  {
   "cell_type": "code",
   "execution_count": 96,
   "id": "naked-excess",
   "metadata": {},
   "outputs": [],
   "source": [
    "# train_data 디렉토리\n",
    "# ~/aiffel/exploration/E01/train_data/rock\n",
    "# ~/aiffel/exploration/E01/train_data/scissors\n",
    "# ~/aiffel/exploration/E01/train_data/paper"
   ]
  },
  {
   "cell_type": "markdown",
   "id": "unauthorized-romance",
   "metadata": {},
   "source": [
    "### 이미지 업로드 및 압축해제"
   ]
  },
  {
   "cell_type": "code",
   "execution_count": null,
   "id": "subtle-lawrence",
   "metadata": {},
   "outputs": [],
   "source": []
  },
  {
   "cell_type": "markdown",
   "id": "collect-night",
   "metadata": {},
   "source": [
    "## 이미지 사이즈 조절"
   ]
  },
  {
   "cell_type": "code",
   "execution_count": 97,
   "id": "fresh-question",
   "metadata": {},
   "outputs": [
    {
     "name": "stdout",
     "output_type": "stream",
     "text": [
      "PIL 라이브러리 import 완료!\n"
     ]
    }
   ],
   "source": [
    "# PIL(pillow) 라이브러리 사용\n",
    "from PIL import Image\n",
    "import os, glob\n",
    "import numpy as np\n",
    "\n",
    "print(\"PIL 라이브러리 import 완료!\")"
   ]
  },
  {
   "cell_type": "code",
   "execution_count": 107,
   "id": "exceptional-brass",
   "metadata": {
    "scrolled": true
   },
   "outputs": [],
   "source": [
    "def resize_images(img_path):\n",
    "    # glob.glob : 모든 jpg 파일을 읽어온다.\n",
    "    images=glob.glob(img_path + \"/*.jpg\")  \n",
    "    \n",
    "    print(len(images), \" images to be resized.\")\n",
    "\n",
    "    # 이미지 사이즈를 모두 28x28 로 바꾸어 저장\n",
    "    target_size=(28,28)\n",
    "    for img in images:\n",
    "        old_img=Image.open(img)\n",
    "        new_img=old_img.resize(target_size,Image.ANTIALIAS)\n",
    "        new_img.save(img, \"JPEG\")\n",
    "    \n",
    "    print(len(images), \" images resized.\")"
   ]
  },
  {
   "cell_type": "code",
   "execution_count": 130,
   "id": "excited-defendant",
   "metadata": {},
   "outputs": [
    {
     "name": "stdout",
     "output_type": "stream",
     "text": [
      "599  images to be resized.\n",
      "599  images resized.\n",
      "가위 이미지 resize 완료!\n"
     ]
    }
   ],
   "source": [
    "# 가위 이미지가 저장된 디렉토리 아래의 모든 jpg 파일을 읽어들이고,\n",
    "# 파일마다 모두 28x28 사이즈로 바꾸어 저장합니다.\n",
    "\n",
    "image_dir_path = os.getenv(\"HOME\") + \"/aiffel/exploration/E01/test_data/scissors_test\"\n",
    "resize_images(image_dir_path)\n",
    "\n",
    "print(\"가위 이미지 resize 완료!\")"
   ]
  },
  {
   "cell_type": "code",
   "execution_count": 131,
   "id": "eleven-reception",
   "metadata": {},
   "outputs": [
    {
     "name": "stdout",
     "output_type": "stream",
     "text": [
      "599  images to be resized.\n",
      "599  images resized.\n",
      "바위 이미지 resize 완료\n"
     ]
    }
   ],
   "source": [
    "# 바위 이미지가 저장된 디렉토리 아래의 모든 jpg 파일을 읽어들이고,\n",
    "# 파일마다 모두 28x28 사이즈로 바꾸어 저장합니다.\n",
    "\n",
    "image_dir_path = os.getenv(\"HOME\") + \"/aiffel/exploration/E01/test_data/rock_test\"\n",
    "resize_images(image_dir_path)\n",
    "\n",
    "print(\"바위 이미지 resize 완료\")"
   ]
  },
  {
   "cell_type": "code",
   "execution_count": 133,
   "id": "intimate-palace",
   "metadata": {},
   "outputs": [
    {
     "name": "stdout",
     "output_type": "stream",
     "text": [
      "599  images to be resized.\n",
      "599  images resized.\n",
      "보 이미지 resize 완료\n"
     ]
    }
   ],
   "source": [
    "# 보 이미지가 저장된 디렉토리 아래의 모든 jpg 파일을 읽어들이고\n",
    "# 파일마다 모두 28x28 사이즈로 바꾸어 저장합니다.\n",
    "\n",
    "image_dir_path = os.getenv(\"HOME\") + \"/aiffel/exploration/E01/test_data/paper_test\"\n",
    "resize_images(image_dir_path)\n",
    "\n",
    "print(\"보 이미지 resize 완료\")"
   ]
  },
  {
   "cell_type": "markdown",
   "id": "warming-dollar",
   "metadata": {},
   "source": [
    "## train data 불러오기"
   ]
  },
  {
   "cell_type": "code",
   "execution_count": 134,
   "id": "attended-scheme",
   "metadata": {},
   "outputs": [
    {
     "name": "stdout",
     "output_type": "stream",
     "text": [
      "학습데이터(x_train)의 이미지 개수는 1797 입니다.\n",
      "x_train shape: (1797, 28, 28, 3)\n",
      "y_train shape: (1797,)\n"
     ]
    }
   ],
   "source": [
    "import numpy as np\n",
    "\n",
    "def load_data(img_path, number_of_data=1797):  # 가위바위보 이미지 개수 총합에 주의하세요.\n",
    "    # 가위 : 0, 바위 : 1, 보 : 2\n",
    "    img_size=28\n",
    "    color=3\n",
    "    #이미지 데이터와 라벨(가위 : 0, 바위 : 1, 보 : 2) 데이터를 담을 행렬(matrix) 영역을 생성합니다.\n",
    "    imgs=np.zeros(number_of_data*img_size*img_size*color,dtype=np.int32).reshape(number_of_data,img_size,img_size,color)\n",
    "    labels=np.zeros(number_of_data,dtype=np.int32)\n",
    "\n",
    "    idx=0\n",
    "    for file in glob.iglob(img_path +'/scissors_test/*.jpg'):\n",
    "        img = np.array(Image.open(file),dtype=np.int32)\n",
    "        imgs[idx,:,:,:]=img    # 데이터 영역에 이미지 행렬을 복사\n",
    "        labels[idx]=0   # 가위 : 0\n",
    "        idx=idx+1\n",
    "\n",
    "    for file in glob.iglob(img_path+'/rock_test/*.jpg'):\n",
    "        img = np.array(Image.open(file),dtype=np.int32)\n",
    "        imgs[idx,:,:,:]=img    # 데이터 영역에 이미지 행렬을 복사\n",
    "        labels[idx]=1   # 바위 : 1\n",
    "        idx=idx+1  \n",
    "    \n",
    "    for file in glob.iglob(img_path+'/paper_test/*.jpg'):\n",
    "        img = np.array(Image.open(file),dtype=np.int32)\n",
    "        imgs[idx,:,:,:]=img    # 데이터 영역에 이미지 행렬을 복사\n",
    "        labels[idx]=2   # 보 : 2\n",
    "        idx=idx+1\n",
    "        \n",
    "    print(\"학습데이터(x_train)의 이미지 개수는\", idx,\"입니다.\")\n",
    "    return imgs, labels\n",
    "\n",
    "image_dir_path = os.getenv(\"HOME\") + \"/aiffel/exploration/E01/test_data\"\n",
    "(x_train, y_train)=load_data(image_dir_path)\n",
    "x_train_norm = x_train/255.0   # 입력은 0~1 사이의 값으로 정규화\n",
    "\n",
    "print(\"x_train shape: {}\".format(x_train.shape))\n",
    "print(\"y_train shape: {}\".format(y_train.shape))"
   ]
  },
  {
   "cell_type": "code",
   "execution_count": 135,
   "id": "increasing-combining",
   "metadata": {},
   "outputs": [
    {
     "name": "stdout",
     "output_type": "stream",
     "text": [
      "라벨:  0\n"
     ]
    },
    {
     "data": {
      "image/png": "[encoded data removed]",
      "text/plain": [
       "<Figure size 432x288 with 1 Axes>"
      ]
     },
     "metadata": {
      "needs_background": "light"
     },
     "output_type": "display_data"
    }
   ],
   "source": [
    "import matplotlib.pyplot as plt\n",
    "plt.imshow(x_train[0])\n",
    "print('라벨: ', y_train[0])"
   ]
  },
  {
   "cell_type": "markdown",
   "id": "framed-explosion",
   "metadata": {},
   "source": [
    "## 딥러닝 네크워크 설계하기"
   ]
  },
  {
   "cell_type": "code",
   "execution_count": null,
   "id": "prescription-blocking",
   "metadata": {
    "scrolled": true
   },
   "outputs": [],
   "source": [
    "import tensorflow as tf\n",
    "from tensorflow import keras\n",
    "import numpy as np\n",
    "\n",
    "# model 생성\n",
    "model = keras.models.Sequential()\n",
    "\n",
    "# 28x28 pixel의 컬러 이미지 파일에 대해 32개의 이미지 특징을 고려함\n",
    "model.add(keras.layers.Conv2D(32, (3,3), activation=\"relu\", input_shape=(28,28,3)))\n",
    "model.add(keras.layers.MaxPool2D(2,2))\n",
    "\n",
    "# 첫번째 이미지 특징 저장한 이후 64개의 이미지 특징을 고려함\n",
    "model.add(keras.layers.Conv2D(64, (3,3), activation=\"relu\"))\n",
    "model.add(keras.layers.MaxPooling2D((2,2)))\n",
    "\n",
    "model.add(keras.layers.Flatten())\n",
    "\n",
    "# 분류기의 알고리즘 복잡도 설정\n",
    "model.add(keras.layers.Dense(64, activation=\"relu\"))\n",
    "\n",
    "# 총 클래스의 개수 가위,바위,보 = 3가지\n",
    "model.add(keras.layers.Dense(3, activation=\"softmax\"))\n",
    "\n",
    "model.summary()"
   ]
  },
  {
   "cell_type": "markdown",
   "id": "legendary-ridge",
   "metadata": {},
   "source": [
    "## 딥러닝 네크워크 학습시키기"
   ]
  },
  {
   "cell_type": "code",
   "execution_count": 114,
   "id": "sustainable-lincoln",
   "metadata": {},
   "outputs": [
    {
     "name": "stdout",
     "output_type": "stream",
     "text": [
      "Epoch 1/15\n",
      "10/10 [==============================] - 0s 4ms/step - loss: 1.0992 - accuracy: 0.3901\n",
      "Epoch 2/15\n",
      "10/10 [==============================] - 0s 4ms/step - loss: 0.9071 - accuracy: 0.6037\n",
      "Epoch 3/15\n",
      "10/10 [==============================] - 0s 4ms/step - loss: 0.6655 - accuracy: 0.8014\n",
      "Epoch 4/15\n",
      "10/10 [==============================] - 0s 4ms/step - loss: 0.4802 - accuracy: 0.7790\n",
      "Epoch 5/15\n",
      "10/10 [==============================] - 0s 4ms/step - loss: 0.2821 - accuracy: 0.9069\n",
      "Epoch 6/15\n",
      "10/10 [==============================] - 0s 4ms/step - loss: 0.2194 - accuracy: 0.9155\n",
      "Epoch 7/15\n",
      "10/10 [==============================] - 0s 4ms/step - loss: 0.1876 - accuracy: 0.9268\n",
      "Epoch 8/15\n",
      "10/10 [==============================] - 0s 4ms/step - loss: 0.1668 - accuracy: 0.9309\n",
      "Epoch 9/15\n",
      "10/10 [==============================] - 0s 4ms/step - loss: 0.1890 - accuracy: 0.9133\n",
      "Epoch 10/15\n",
      "10/10 [==============================] - 0s 4ms/step - loss: 0.1124 - accuracy: 0.9772\n",
      "Epoch 11/15\n",
      "10/10 [==============================] - 0s 4ms/step - loss: 0.0859 - accuracy: 0.9813\n",
      "Epoch 12/15\n",
      "10/10 [==============================] - 0s 4ms/step - loss: 0.0748 - accuracy: 0.9826\n",
      "Epoch 13/15\n",
      "10/10 [==============================] - 0s 4ms/step - loss: 0.0750 - accuracy: 0.9880\n",
      "Epoch 14/15\n",
      "10/10 [==============================] - 0s 3ms/step - loss: 0.0742 - accuracy: 0.9875\n",
      "Epoch 15/15\n",
      "10/10 [==============================] - 0s 3ms/step - loss: 0.0452 - accuracy: 1.0000\n"
     ]
    },
    {
     "data": {
      "text/plain": [
       "<tensorflow.python.keras.callbacks.History at 0x7f37eda1e850>"
      ]
     },
     "execution_count": 114,
     "metadata": {},
     "output_type": "execute_result"
    }
   ],
   "source": [
    "model.compile(optimizer=\"adam\",\n",
    "             loss=\"sparse_categorical_crossentropy\",\n",
    "             metrics=[\"accuracy\"])\n",
    "\n",
    "# 분류기의 학습횟수 설정\n",
    "model.fit(x_train_norm, y_train, epochs=15)"
   ]
  },
  {
   "cell_type": "markdown",
   "id": "responsible-entertainment",
   "metadata": {},
   "source": [
    "## 테스트 데이터 만들기"
   ]
  },
  {
   "cell_type": "code",
   "execution_count": 115,
   "id": "adjustable-success",
   "metadata": {},
   "outputs": [],
   "source": [
    "def resize_images(img_path):\n",
    "    # glob.glob : 모든 jpg 파일을 읽어온다.\n",
    "    images=glob.glob(img_path + \"/*.jpg\")  \n",
    "    \n",
    "    print(len(images), \" images to be resized.\")\n",
    "\n",
    "    # 이미지 사이즈를 모두 28x28 로 바꾸어 저장\n",
    "    target_size=(28,28)\n",
    "    for img in images:\n",
    "        old_img=Image.open(img)\n",
    "        new_img=old_img.resize(target_size,Image.ANTIALIAS)\n",
    "        new_img.save(img, \"JPEG\")\n",
    "    \n",
    "    print(len(images), \" images resized.\")"
   ]
  },
  {
   "cell_type": "code",
   "execution_count": 123,
   "id": "cleared-bristol",
   "metadata": {},
   "outputs": [
    {
     "name": "stdout",
     "output_type": "stream",
     "text": [
      "599  images to be resized.\n",
      "599  images resized.\n",
      "가위 이미지 resize 완료!\n"
     ]
    }
   ],
   "source": [
    "# 가위 이미지가 저장된 디렉토리 아래의 모든 jpg 파일을 읽어들이고,\n",
    "# 파일마다 모두 28x28 사이즈로 바꾸어 저장합니다.\n",
    "\n",
    "image_dir_path = os.getenv(\"HOME\") + \"/aiffel/exploration/E01/test_data/scissors_test\"\n",
    "resize_images(image_dir_path)\n",
    "\n",
    "print(\"가위 이미지 resize 완료!\")"
   ]
  },
  {
   "cell_type": "code",
   "execution_count": 124,
   "id": "massive-burner",
   "metadata": {},
   "outputs": [
    {
     "name": "stdout",
     "output_type": "stream",
     "text": [
      "599  images to be resized.\n",
      "599  images resized.\n",
      "바위 이미지 resize 완료\n"
     ]
    }
   ],
   "source": [
    "# 바위 이미지가 저장된 디렉토리 아래의 모든 jpg 파일을 읽어들이고,\n",
    "# 파일마다 모두 28x28 사이즈로 바꾸어 저장합니다.\n",
    "\n",
    "image_dir_path = os.getenv(\"HOME\") + \"/aiffel/exploration/E01/test_data/rock_test\"\n",
    "resize_images(image_dir_path)\n",
    "\n",
    "print(\"바위 이미지 resize 완료\")"
   ]
  },
  {
   "cell_type": "code",
   "execution_count": 125,
   "id": "fewer-illustration",
   "metadata": {},
   "outputs": [
    {
     "name": "stdout",
     "output_type": "stream",
     "text": [
      "599  images to be resized.\n",
      "599  images resized.\n",
      "보 이미지 resize 완료\n"
     ]
    }
   ],
   "source": [
    "# 보 이미지가 저장된 디렉토리 아래의 모든 jpg 파일을 읽어들이고\n",
    "# 파일마다 모두 28x28 사이즈로 바꾸어 저장합니다.\n",
    "\n",
    "image_dir_path = os.getenv(\"HOME\") + \"/aiffel/exploration/E01/test_data/paper_test\"\n",
    "resize_images(image_dir_path)\n",
    "\n",
    "print(\"보 이미지 resize 완료\")"
   ]
  },
  {
   "cell_type": "code",
   "execution_count": 126,
   "id": "cardiac-console",
   "metadata": {},
   "outputs": [
    {
     "name": "stdout",
     "output_type": "stream",
     "text": [
      "데이터(x_test)의 이미지 개수는 1797 입니다.\n",
      "x_test shape: (1797, 28, 28, 3)\n",
      "y_test shape: (1797,)\n"
     ]
    }
   ],
   "source": [
    "import numpy as np\n",
    "\n",
    "def load_data(img_path, number_of_data=1797):  # 가위바위보 이미지 개수 총합에 주의하세요.\n",
    "    # 가위 : 0, 바위 : 1, 보 : 2\n",
    "    img_size=28\n",
    "    color=3\n",
    "    #이미지 데이터와 라벨(가위 : 0, 바위 : 1, 보 : 2) 데이터를 담을 행렬(matrix) 영역을 생성합니다.\n",
    "    imgs=np.zeros(number_of_data*img_size*img_size*color,dtype=np.int32).reshape(number_of_data,img_size,img_size,color)\n",
    "    labels=np.zeros(number_of_data,dtype=np.int32)\n",
    "\n",
    "    idx=0\n",
    "    for file in glob.iglob(img_path +'/scissors_test/*.jpg'):\n",
    "        img = np.array(Image.open(file),dtype=np.int32)\n",
    "        imgs[idx,:,:,:]=img    # 데이터 영역에 이미지 행렬을 복사\n",
    "        labels[idx]=0   # 가위 : 0\n",
    "        idx=idx+1\n",
    "\n",
    "    for file in glob.iglob(img_path+'/rock_test/*.jpg'):\n",
    "        img = np.array(Image.open(file),dtype=np.int32)\n",
    "        imgs[idx,:,:,:]=img    # 데이터 영역에 이미지 행렬을 복사\n",
    "        labels[idx]=1   # 바위 : 1\n",
    "        idx=idx+1  \n",
    "    \n",
    "    for file in glob.iglob(img_path+'/paper_test/*.jpg'):\n",
    "        img = np.array(Image.open(file),dtype=np.int32)\n",
    "        imgs[idx,:,:,:]=img    # 데이터 영역에 이미지 행렬을 복사\n",
    "        labels[idx]=2   # 보 : 2\n",
    "        idx=idx+1\n",
    "        \n",
    "    print(\"데이터(x_test)의 이미지 개수는\", idx,\"입니다.\")\n",
    "    return imgs, labels\n",
    "\n",
    "image_dir_path = os.getenv(\"HOME\") + \"/aiffel/exploration/E01/test_data\"\n",
    "(x_test, y_test)=load_data(image_dir_path)\n",
    "x_test_norm = x_test/255.0   # 입력은 0~1 사이의 값으로 정규화\n",
    "\n",
    "print(\"x_test shape: {}\".format(x_test.shape))\n",
    "print(\"y_test shape: {}\".format(y_test.shape))"
   ]
  },
  {
   "cell_type": "code",
   "execution_count": 127,
   "id": "supported-worker",
   "metadata": {
    "scrolled": true
   },
   "outputs": [
    {
     "name": "stdout",
     "output_type": "stream",
     "text": [
      "라벨:  0\n"
     ]
    },
    {
     "data": {
      "image/png": "[encoded data removed]",
      "text/plain": [
       "<Figure size 432x288 with 1 Axes>"
      ]
     },
     "metadata": {
      "needs_background": "light"
     },
     "output_type": "display_data"
    }
   ],
   "source": [
    "plt.imshow(x_test[0])\n",
    "print('라벨: ', y_test[0])"
   ]
  },
  {
   "cell_type": "code",
   "execution_count": 128,
   "id": "bulgarian-labor",
   "metadata": {},
   "outputs": [
    {
     "name": "stdout",
     "output_type": "stream",
     "text": [
      "57/57 - 0s - loss: 7.0029 - accuracy: 0.4452\n",
      "test_loss: 7.002909183502197 \n",
      "test_accuracy: 0.44518643617630005\n"
     ]
    }
   ],
   "source": [
    "test_loss, test_accuracy = model.evaluate(x_test_norm,y_test, verbose=2)\n",
    "print(\"test_loss: {} \".format(test_loss))\n",
    "print(\"test_accuracy: {}\".format(test_accuracy))"
   ]
  }
 ],
 "metadata": {
  "kernelspec": {
   "display_name": "Python 3",
   "language": "python",
   "name": "python3"
  },
  "language_info": {
   "codemirror_mode": {
    "name": "ipython",
    "version": 3
   },
   "file_extension": ".py",
   "mimetype": "text/x-python",
   "name": "python",
   "nbconvert_exporter": "python",
   "pygments_lexer": "ipython3",
   "version": "3.7.9"
  }
 },
 "nbformat": 4,
 "nbformat_minor": 5
}
