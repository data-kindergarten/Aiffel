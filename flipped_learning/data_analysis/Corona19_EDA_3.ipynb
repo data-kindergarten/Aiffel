{
  "nbformat": 4,
  "nbformat_minor": 0,
  "metadata": {
    "colab": {
      "name": "Corona19-EDA-3.ipynb",
      "provenance": [],
      "collapsed_sections": [
        "S11jIxpSDcep"
      ]
    },
    "kernelspec": {
      "name": "python3",
      "display_name": "Python 3"
    },
    "language_info": {
      "name": "python"
    }
  },
  "cells": [
    {
      "cell_type": "code",
      "metadata": {
        "colab": {
          "base_uri": "https://localhost:8080/"
        },
        "id": "phkhLKJGCWr9",
        "outputId": "851b987c-ce4b-4ebc-cf15-0a2f1e7192ba"
      },
      "source": [
        "from google.colab import drive\n",
        "drive.mount('/content/gdrive')"
      ],
      "execution_count": 209,
      "outputs": [
        {
          "output_type": "stream",
          "name": "stdout",
          "text": [
            "Drive already mounted at /content/gdrive; to attempt to forcibly remount, call drive.mount(\"/content/gdrive\", force_remount=True).\n"
          ]
        }
      ]
    },
    {
      "cell_type": "code",
      "metadata": {
        "id": "U1FlC1UHCcaQ"
      },
      "source": [
        "import numpy as np\n",
        "import pandas as pd\n",
        "import matplotlib.pyplot as plt\n",
        "import seaborn as sns"
      ],
      "execution_count": 210,
      "outputs": []
    },
    {
      "cell_type": "code",
      "metadata": {
        "colab": {
          "base_uri": "https://localhost:8080/"
        },
        "id": "VH4a8ZaPmuyR",
        "outputId": "fd7f6129-db3b-4439-9115-d6e9c894c451"
      },
      "source": [
        "# 한글폰트 깨짐 해결\n",
        "!sudo apt-get install -y fonts-nanum\n",
        "!sudo fc-cache -fv\n",
        "!rm ~/.cache/matplotlib -rf\n",
        "\n",
        "plt.rc('font', family='NanumBarunGothic')  # 나눔바른고딕 폰트 설정"
      ],
      "execution_count": 211,
      "outputs": [
        {
          "output_type": "stream",
          "name": "stdout",
          "text": [
            "Reading package lists... Done\n",
            "Building dependency tree       \n",
            "Reading state information... Done\n",
            "fonts-nanum is already the newest version (20170925-1).\n",
            "The following package was automatically installed and is no longer required:\n",
            "  libnvidia-common-460\n",
            "Use 'sudo apt autoremove' to remove it.\n",
            "0 upgraded, 0 newly installed, 0 to remove and 40 not upgraded.\n",
            "/usr/share/fonts: caching, new cache contents: 0 fonts, 1 dirs\n",
            "/usr/share/fonts/truetype: caching, new cache contents: 0 fonts, 3 dirs\n",
            "/usr/share/fonts/truetype/humor-sans: caching, new cache contents: 1 fonts, 0 dirs\n",
            "/usr/share/fonts/truetype/liberation: caching, new cache contents: 16 fonts, 0 dirs\n",
            "/usr/share/fonts/truetype/nanum: caching, new cache contents: 10 fonts, 0 dirs\n",
            "/usr/local/share/fonts: caching, new cache contents: 0 fonts, 0 dirs\n",
            "/root/.local/share/fonts: skipping, no such directory\n",
            "/root/.fonts: skipping, no such directory\n",
            "/var/cache/fontconfig: cleaning cache directory\n",
            "/root/.cache/fontconfig: not cleaning non-existent cache directory\n",
            "/root/.fontconfig: not cleaning non-existent cache directory\n",
            "fc-cache: succeeded\n"
          ]
        }
      ]
    },
    {
      "cell_type": "code",
      "metadata": {
        "id": "2C6C15LcC0Vr"
      },
      "source": [
        "case = pd.read_csv('/content/gdrive/MyDrive/Aiffel/FLP/DataAnalysis/corona19/data/Case.csv')\n",
        "patientinfo = pd.read_csv('/content/gdrive/MyDrive/Aiffel/FLP/DataAnalysis/corona19/data/PatientInfo.csv')\n",
        "patientroute = pd.read_csv('/content/gdrive/MyDrive/Aiffel/FLP/DataAnalysis/corona19/data/PatientRoute.csv')\n",
        "time = pd.read_csv('/content/gdrive/MyDrive/Aiffel/FLP/DataAnalysis/corona19/data/Time.csv')\n",
        "timeage = pd.read_csv('/content/gdrive/MyDrive/Aiffel/FLP/DataAnalysis/corona19/data/TimeAge.csv')\n",
        "timegender = pd.read_csv('/content/gdrive/MyDrive/Aiffel/FLP/DataAnalysis/corona19/data/TimeGender.csv')\n",
        "timeprovince = pd.read_csv('/content/gdrive/MyDrive/Aiffel/FLP/DataAnalysis/corona19/data/TimeProvince.csv')\n",
        "region = pd.read_csv('/content/gdrive/MyDrive/Aiffel/FLP/DataAnalysis/corona19/data/Region.csv')\n",
        "weather = pd.read_csv('/content/gdrive/MyDrive/Aiffel/FLP/DataAnalysis/corona19/data/Weather.csv')\n",
        "searchtrend = pd.read_csv('/content/gdrive/MyDrive/Aiffel/FLP/DataAnalysis/corona19/data/SearchTrend.csv')\n",
        "seoulfloating = pd.read_csv('/content/gdrive/MyDrive/Aiffel/FLP/DataAnalysis/corona19/data/SeoulFloating.csv')\n",
        "policy = pd.read_csv('/content/gdrive/MyDrive/Aiffel/FLP/DataAnalysis/corona19/data/Policy.csv')"
      ],
      "execution_count": 212,
      "outputs": []
    },
    {
      "cell_type": "markdown",
      "metadata": {
        "id": "n09Ak2osDxZk"
      },
      "source": [
        "# 0. 들어가며\n",
        "- 금번 과제는 데이터를 활용한 EDA를 통해 코로나 관련 인사이트를 도출하기 보다는  우리가 실제 미디어를 통해 접할 수 있었던 내용들을 __기술통계로 분석하고, 전처리를 통해 올바르게 시각화하여 구현할 수 있는지__에 대해 집중한 점 참고 바랍니다."
      ]
    },
    {
      "cell_type": "markdown",
      "metadata": {
        "id": "O4Q0ljNZLqit"
      },
      "source": [
        "# 1. Table Information [[link]](https://colab.research.google.com/drive/1DoH8KZUk8vIh4EMZsGfl7ZYo1BJoN8mO#scrollTo=KV3vzbiZOpRk)"
      ]
    },
    {
      "cell_type": "markdown",
      "metadata": {
        "id": "qNqpQNhsW9H1"
      },
      "source": [
        "### 1) 테이블 정보 요약"
      ]
    },
    {
      "cell_type": "markdown",
      "metadata": {
        "id": "oezZEGH7XAXH"
      },
      "source": [
        "### 2) 테이블별 컬럼 정보"
      ]
    },
    {
      "cell_type": "markdown",
      "metadata": {
        "id": "rGJvTz3V695Y"
      },
      "source": [
        "# 2. EDA"
      ]
    },
    {
      "cell_type": "markdown",
      "metadata": {
        "id": "jBE2gg1wPtdZ"
      },
      "source": [
        "## 2-1. 기술 통계"
      ]
    },
    {
      "cell_type": "markdown",
      "metadata": {
        "id": "yaR2HIKXSsEM"
      },
      "source": [
        "### 1) CASE (확진 케이스)"
      ]
    },
    {
      "cell_type": "code",
      "metadata": {
        "colab": {
          "base_uri": "https://localhost:8080/",
          "height": 224
        },
        "id": "L_mGRzrAGiP-",
        "outputId": "368971f4-bd9b-4e34-efe4-2c2170684dc2"
      },
      "source": [
        "print('Case 크기: ', case.shape)\n",
        "case.head()"
      ],
      "execution_count": 213,
      "outputs": [
        {
          "output_type": "stream",
          "name": "stdout",
          "text": [
            "Case 크기:  (112, 8)\n"
          ]
        },
        {
          "output_type": "execute_result",
          "data": {
            "text/html": [
              "<div>\n",
              "<style scoped>\n",
              "    .dataframe tbody tr th:only-of-type {\n",
              "        vertical-align: middle;\n",
              "    }\n",
              "\n",
              "    .dataframe tbody tr th {\n",
              "        vertical-align: top;\n",
              "    }\n",
              "\n",
              "    .dataframe thead th {\n",
              "        text-align: right;\n",
              "    }\n",
              "</style>\n",
              "<table border=\"1\" class=\"dataframe\">\n",
              "  <thead>\n",
              "    <tr style=\"text-align: right;\">\n",
              "      <th></th>\n",
              "      <th>case_id</th>\n",
              "      <th>province</th>\n",
              "      <th>city</th>\n",
              "      <th>group</th>\n",
              "      <th>infection_case</th>\n",
              "      <th>confirmed</th>\n",
              "      <th>latitude</th>\n",
              "      <th>longitude</th>\n",
              "    </tr>\n",
              "  </thead>\n",
              "  <tbody>\n",
              "    <tr>\n",
              "      <th>0</th>\n",
              "      <td>1000001</td>\n",
              "      <td>Seoul</td>\n",
              "      <td>Guro-gu</td>\n",
              "      <td>True</td>\n",
              "      <td>Guro-gu Call Center</td>\n",
              "      <td>98</td>\n",
              "      <td>37.508163</td>\n",
              "      <td>126.884387</td>\n",
              "    </tr>\n",
              "    <tr>\n",
              "      <th>1</th>\n",
              "      <td>1000002</td>\n",
              "      <td>Seoul</td>\n",
              "      <td>Dongdaemun-gu</td>\n",
              "      <td>True</td>\n",
              "      <td>Dongan Church</td>\n",
              "      <td>20</td>\n",
              "      <td>37.592888</td>\n",
              "      <td>127.056766</td>\n",
              "    </tr>\n",
              "    <tr>\n",
              "      <th>2</th>\n",
              "      <td>1000003</td>\n",
              "      <td>Seoul</td>\n",
              "      <td>Guro-gu</td>\n",
              "      <td>True</td>\n",
              "      <td>Manmin Central Church</td>\n",
              "      <td>41</td>\n",
              "      <td>37.481059</td>\n",
              "      <td>126.894343</td>\n",
              "    </tr>\n",
              "    <tr>\n",
              "      <th>3</th>\n",
              "      <td>1000004</td>\n",
              "      <td>Seoul</td>\n",
              "      <td>Eunpyeong-gu</td>\n",
              "      <td>True</td>\n",
              "      <td>Eunpyeong St. Mary's Hospital</td>\n",
              "      <td>14</td>\n",
              "      <td>37.63369</td>\n",
              "      <td>126.9165</td>\n",
              "    </tr>\n",
              "    <tr>\n",
              "      <th>4</th>\n",
              "      <td>1000005</td>\n",
              "      <td>Seoul</td>\n",
              "      <td>Seongdong-gu</td>\n",
              "      <td>True</td>\n",
              "      <td>Seongdong-gu APT</td>\n",
              "      <td>13</td>\n",
              "      <td>37.55713</td>\n",
              "      <td>127.0403</td>\n",
              "    </tr>\n",
              "  </tbody>\n",
              "</table>\n",
              "</div>"
            ],
            "text/plain": [
              "   case_id province           city  ...  confirmed   latitude   longitude\n",
              "0  1000001    Seoul        Guro-gu  ...         98  37.508163  126.884387\n",
              "1  1000002    Seoul  Dongdaemun-gu  ...         20  37.592888  127.056766\n",
              "2  1000003    Seoul        Guro-gu  ...         41  37.481059  126.894343\n",
              "3  1000004    Seoul   Eunpyeong-gu  ...         14   37.63369    126.9165\n",
              "4  1000005    Seoul   Seongdong-gu  ...         13   37.55713    127.0403\n",
              "\n",
              "[5 rows x 8 columns]"
            ]
          },
          "metadata": {},
          "execution_count": 213
        }
      ]
    },
    {
      "cell_type": "code",
      "metadata": {
        "colab": {
          "base_uri": "https://localhost:8080/"
        },
        "id": "rdhxzqNnVwND",
        "outputId": "1d698755-8f15-45e3-883f-84e3e0b07f59"
      },
      "source": [
        "case.info()"
      ],
      "execution_count": 214,
      "outputs": [
        {
          "output_type": "stream",
          "name": "stdout",
          "text": [
            "<class 'pandas.core.frame.DataFrame'>\n",
            "RangeIndex: 112 entries, 0 to 111\n",
            "Data columns (total 8 columns):\n",
            " #   Column          Non-Null Count  Dtype \n",
            "---  ------          --------------  ----- \n",
            " 0   case_id         112 non-null    int64 \n",
            " 1   province        112 non-null    object\n",
            " 2   city            112 non-null    object\n",
            " 3   group           112 non-null    bool  \n",
            " 4   infection_case  112 non-null    object\n",
            " 5   confirmed       112 non-null    int64 \n",
            " 6   latitude        112 non-null    object\n",
            " 7   longitude       112 non-null    object\n",
            "dtypes: bool(1), int64(2), object(5)\n",
            "memory usage: 6.4+ KB\n"
          ]
        }
      ]
    },
    {
      "cell_type": "code",
      "metadata": {
        "colab": {
          "base_uri": "https://localhost:8080/",
          "height": 299
        },
        "id": "Eh4vaIS_plBf",
        "outputId": "4eca74dc-d78b-459c-afa2-1acdd6afbc2b"
      },
      "source": [
        "case.describe()"
      ],
      "execution_count": 215,
      "outputs": [
        {
          "output_type": "execute_result",
          "data": {
            "text/html": [
              "<div>\n",
              "<style scoped>\n",
              "    .dataframe tbody tr th:only-of-type {\n",
              "        vertical-align: middle;\n",
              "    }\n",
              "\n",
              "    .dataframe tbody tr th {\n",
              "        vertical-align: top;\n",
              "    }\n",
              "\n",
              "    .dataframe thead th {\n",
              "        text-align: right;\n",
              "    }\n",
              "</style>\n",
              "<table border=\"1\" class=\"dataframe\">\n",
              "  <thead>\n",
              "    <tr style=\"text-align: right;\">\n",
              "      <th></th>\n",
              "      <th>case_id</th>\n",
              "      <th>confirmed</th>\n",
              "    </tr>\n",
              "  </thead>\n",
              "  <tbody>\n",
              "    <tr>\n",
              "      <th>count</th>\n",
              "      <td>1.120000e+02</td>\n",
              "      <td>112.000000</td>\n",
              "    </tr>\n",
              "    <tr>\n",
              "      <th>mean</th>\n",
              "      <td>3.040183e+06</td>\n",
              "      <td>87.937500</td>\n",
              "    </tr>\n",
              "    <tr>\n",
              "      <th>std</th>\n",
              "      <td>2.052266e+06</td>\n",
              "      <td>440.500949</td>\n",
              "    </tr>\n",
              "    <tr>\n",
              "      <th>min</th>\n",
              "      <td>1.000001e+06</td>\n",
              "      <td>0.000000</td>\n",
              "    </tr>\n",
              "    <tr>\n",
              "      <th>25%</th>\n",
              "      <td>1.200009e+06</td>\n",
              "      <td>5.000000</td>\n",
              "    </tr>\n",
              "    <tr>\n",
              "      <th>50%</th>\n",
              "      <td>2.000002e+06</td>\n",
              "      <td>10.000000</td>\n",
              "    </tr>\n",
              "    <tr>\n",
              "      <th>75%</th>\n",
              "      <td>5.100002e+06</td>\n",
              "      <td>33.000000</td>\n",
              "    </tr>\n",
              "    <tr>\n",
              "      <th>max</th>\n",
              "      <td>7.000003e+06</td>\n",
              "      <td>4510.000000</td>\n",
              "    </tr>\n",
              "  </tbody>\n",
              "</table>\n",
              "</div>"
            ],
            "text/plain": [
              "            case_id    confirmed\n",
              "count  1.120000e+02   112.000000\n",
              "mean   3.040183e+06    87.937500\n",
              "std    2.052266e+06   440.500949\n",
              "min    1.000001e+06     0.000000\n",
              "25%    1.200009e+06     5.000000\n",
              "50%    2.000002e+06    10.000000\n",
              "75%    5.100002e+06    33.000000\n",
              "max    7.000003e+06  4510.000000"
            ]
          },
          "metadata": {},
          "execution_count": 215
        }
      ]
    },
    {
      "cell_type": "markdown",
      "metadata": {
        "id": "_6aGeZ4dwAVf"
      },
      "source": [
        "4510명의 확진자를 발생시킨 case_id가 있다."
      ]
    },
    {
      "cell_type": "code",
      "metadata": {
        "colab": {
          "base_uri": "https://localhost:8080/",
          "height": 175
        },
        "id": "wTvNS6PkbIm9",
        "outputId": "5429dd63-69a8-4e08-efb0-ead11b0d35de"
      },
      "source": [
        "case.describe(include=object)"
      ],
      "execution_count": 216,
      "outputs": [
        {
          "output_type": "execute_result",
          "data": {
            "text/html": [
              "<div>\n",
              "<style scoped>\n",
              "    .dataframe tbody tr th:only-of-type {\n",
              "        vertical-align: middle;\n",
              "    }\n",
              "\n",
              "    .dataframe tbody tr th {\n",
              "        vertical-align: top;\n",
              "    }\n",
              "\n",
              "    .dataframe thead th {\n",
              "        text-align: right;\n",
              "    }\n",
              "</style>\n",
              "<table border=\"1\" class=\"dataframe\">\n",
              "  <thead>\n",
              "    <tr style=\"text-align: right;\">\n",
              "      <th></th>\n",
              "      <th>province</th>\n",
              "      <th>city</th>\n",
              "      <th>infection_case</th>\n",
              "      <th>latitude</th>\n",
              "      <th>longitude</th>\n",
              "    </tr>\n",
              "  </thead>\n",
              "  <tbody>\n",
              "    <tr>\n",
              "      <th>count</th>\n",
              "      <td>112</td>\n",
              "      <td>112</td>\n",
              "      <td>112</td>\n",
              "      <td>112</td>\n",
              "      <td>112</td>\n",
              "    </tr>\n",
              "    <tr>\n",
              "      <th>unique</th>\n",
              "      <td>17</td>\n",
              "      <td>34</td>\n",
              "      <td>43</td>\n",
              "      <td>41</td>\n",
              "      <td>41</td>\n",
              "    </tr>\n",
              "    <tr>\n",
              "      <th>top</th>\n",
              "      <td>Gyeongsangbuk-do</td>\n",
              "      <td>-</td>\n",
              "      <td>etc</td>\n",
              "      <td>-</td>\n",
              "      <td>-</td>\n",
              "    </tr>\n",
              "    <tr>\n",
              "      <th>freq</th>\n",
              "      <td>12</td>\n",
              "      <td>50</td>\n",
              "      <td>17</td>\n",
              "      <td>72</td>\n",
              "      <td>72</td>\n",
              "    </tr>\n",
              "  </tbody>\n",
              "</table>\n",
              "</div>"
            ],
            "text/plain": [
              "                province city infection_case latitude longitude\n",
              "count                112  112            112      112       112\n",
              "unique                17   34             43       41        41\n",
              "top     Gyeongsangbuk-do    -            etc        -         -\n",
              "freq                  12   50             17       72        72"
            ]
          },
          "metadata": {},
          "execution_count": 216
        }
      ]
    },
    {
      "cell_type": "code",
      "metadata": {
        "colab": {
          "base_uri": "https://localhost:8080/"
        },
        "id": "4lbH0L6xXHzF",
        "outputId": "086e0b17-c68b-4a36-ec95-1338dd1b81c5"
      },
      "source": [
        "# 결측치 확인\n",
        "case.isnull().sum()"
      ],
      "execution_count": 217,
      "outputs": [
        {
          "output_type": "execute_result",
          "data": {
            "text/plain": [
              "case_id           0\n",
              "province          0\n",
              "city              0\n",
              "group             0\n",
              "infection_case    0\n",
              "confirmed         0\n",
              "latitude          0\n",
              "longitude         0\n",
              "dtype: int64"
            ]
          },
          "metadata": {},
          "execution_count": 217
        }
      ]
    },
    {
      "cell_type": "markdown",
      "metadata": {
        "id": "QaSaSKuaXSnr"
      },
      "source": [
        "Null값은 없다고 나오지만 city, latitude, longitude 컬럼에 - 값으로 존재한다고 볼 수 있다.  \n",
        "이는 해당 province 전체의 해외유입, 확진자 접촉, 기타 등의 전체 sum 값이라 어떻게 처리하면 좋을지 고민이 필요하다."
      ]
    },
    {
      "cell_type": "markdown",
      "metadata": {
        "id": "6hT3Uu15Y2Y-"
      },
      "source": [
        "### 02. Patient Info (환자정보)"
      ]
    },
    {
      "cell_type": "code",
      "metadata": {
        "colab": {
          "base_uri": "https://localhost:8080/",
          "height": 313
        },
        "id": "RnH4yPoKC_GJ",
        "outputId": "6ae9a914-2d9a-4459-80c6-78e53380579c"
      },
      "source": [
        "print('Patient Info 크기: ', patientinfo.shape)\n",
        "patientinfo.head()"
      ],
      "execution_count": 218,
      "outputs": [
        {
          "output_type": "stream",
          "name": "stdout",
          "text": [
            "Patient Info 크기:  (3388, 18)\n"
          ]
        },
        {
          "output_type": "execute_result",
          "data": {
            "text/html": [
              "<div>\n",
              "<style scoped>\n",
              "    .dataframe tbody tr th:only-of-type {\n",
              "        vertical-align: middle;\n",
              "    }\n",
              "\n",
              "    .dataframe tbody tr th {\n",
              "        vertical-align: top;\n",
              "    }\n",
              "\n",
              "    .dataframe thead th {\n",
              "        text-align: right;\n",
              "    }\n",
              "</style>\n",
              "<table border=\"1\" class=\"dataframe\">\n",
              "  <thead>\n",
              "    <tr style=\"text-align: right;\">\n",
              "      <th></th>\n",
              "      <th>patient_id</th>\n",
              "      <th>global_num</th>\n",
              "      <th>sex</th>\n",
              "      <th>birth_year</th>\n",
              "      <th>age</th>\n",
              "      <th>country</th>\n",
              "      <th>province</th>\n",
              "      <th>city</th>\n",
              "      <th>disease</th>\n",
              "      <th>infection_case</th>\n",
              "      <th>infection_order</th>\n",
              "      <th>infected_by</th>\n",
              "      <th>contact_number</th>\n",
              "      <th>symptom_onset_date</th>\n",
              "      <th>confirmed_date</th>\n",
              "      <th>released_date</th>\n",
              "      <th>deceased_date</th>\n",
              "      <th>state</th>\n",
              "    </tr>\n",
              "  </thead>\n",
              "  <tbody>\n",
              "    <tr>\n",
              "      <th>0</th>\n",
              "      <td>1000000001</td>\n",
              "      <td>2.0</td>\n",
              "      <td>male</td>\n",
              "      <td>1964.0</td>\n",
              "      <td>50s</td>\n",
              "      <td>Korea</td>\n",
              "      <td>Seoul</td>\n",
              "      <td>Gangseo-gu</td>\n",
              "      <td>NaN</td>\n",
              "      <td>overseas inflow</td>\n",
              "      <td>1.0</td>\n",
              "      <td>NaN</td>\n",
              "      <td>75.0</td>\n",
              "      <td>2020-01-22</td>\n",
              "      <td>2020-01-23</td>\n",
              "      <td>2020-02-05</td>\n",
              "      <td>NaN</td>\n",
              "      <td>released</td>\n",
              "    </tr>\n",
              "    <tr>\n",
              "      <th>1</th>\n",
              "      <td>1000000002</td>\n",
              "      <td>5.0</td>\n",
              "      <td>male</td>\n",
              "      <td>1987.0</td>\n",
              "      <td>30s</td>\n",
              "      <td>Korea</td>\n",
              "      <td>Seoul</td>\n",
              "      <td>Jungnang-gu</td>\n",
              "      <td>NaN</td>\n",
              "      <td>overseas inflow</td>\n",
              "      <td>1.0</td>\n",
              "      <td>NaN</td>\n",
              "      <td>31.0</td>\n",
              "      <td>NaN</td>\n",
              "      <td>2020-01-30</td>\n",
              "      <td>2020-03-02</td>\n",
              "      <td>NaN</td>\n",
              "      <td>released</td>\n",
              "    </tr>\n",
              "    <tr>\n",
              "      <th>2</th>\n",
              "      <td>1000000003</td>\n",
              "      <td>6.0</td>\n",
              "      <td>male</td>\n",
              "      <td>1964.0</td>\n",
              "      <td>50s</td>\n",
              "      <td>Korea</td>\n",
              "      <td>Seoul</td>\n",
              "      <td>Jongno-gu</td>\n",
              "      <td>NaN</td>\n",
              "      <td>contact with patient</td>\n",
              "      <td>2.0</td>\n",
              "      <td>2.002000e+09</td>\n",
              "      <td>17.0</td>\n",
              "      <td>NaN</td>\n",
              "      <td>2020-01-30</td>\n",
              "      <td>2020-02-19</td>\n",
              "      <td>NaN</td>\n",
              "      <td>released</td>\n",
              "    </tr>\n",
              "    <tr>\n",
              "      <th>3</th>\n",
              "      <td>1000000004</td>\n",
              "      <td>7.0</td>\n",
              "      <td>male</td>\n",
              "      <td>1991.0</td>\n",
              "      <td>20s</td>\n",
              "      <td>Korea</td>\n",
              "      <td>Seoul</td>\n",
              "      <td>Mapo-gu</td>\n",
              "      <td>NaN</td>\n",
              "      <td>overseas inflow</td>\n",
              "      <td>1.0</td>\n",
              "      <td>NaN</td>\n",
              "      <td>9.0</td>\n",
              "      <td>2020-01-26</td>\n",
              "      <td>2020-01-30</td>\n",
              "      <td>2020-02-15</td>\n",
              "      <td>NaN</td>\n",
              "      <td>released</td>\n",
              "    </tr>\n",
              "    <tr>\n",
              "      <th>4</th>\n",
              "      <td>1000000005</td>\n",
              "      <td>9.0</td>\n",
              "      <td>female</td>\n",
              "      <td>1992.0</td>\n",
              "      <td>20s</td>\n",
              "      <td>Korea</td>\n",
              "      <td>Seoul</td>\n",
              "      <td>Seongbuk-gu</td>\n",
              "      <td>NaN</td>\n",
              "      <td>contact with patient</td>\n",
              "      <td>2.0</td>\n",
              "      <td>1.000000e+09</td>\n",
              "      <td>2.0</td>\n",
              "      <td>NaN</td>\n",
              "      <td>2020-01-31</td>\n",
              "      <td>2020-02-24</td>\n",
              "      <td>NaN</td>\n",
              "      <td>released</td>\n",
              "    </tr>\n",
              "  </tbody>\n",
              "</table>\n",
              "</div>"
            ],
            "text/plain": [
              "   patient_id  global_num     sex  ...  released_date deceased_date     state\n",
              "0  1000000001         2.0    male  ...     2020-02-05           NaN  released\n",
              "1  1000000002         5.0    male  ...     2020-03-02           NaN  released\n",
              "2  1000000003         6.0    male  ...     2020-02-19           NaN  released\n",
              "3  1000000004         7.0    male  ...     2020-02-15           NaN  released\n",
              "4  1000000005         9.0  female  ...     2020-02-24           NaN  released\n",
              "\n",
              "[5 rows x 18 columns]"
            ]
          },
          "metadata": {},
          "execution_count": 218
        }
      ]
    },
    {
      "cell_type": "code",
      "metadata": {
        "colab": {
          "base_uri": "https://localhost:8080/"
        },
        "id": "G-4UaeJHaGyH",
        "outputId": "da6d7027-65b5-484d-a9be-aa5a132f764e"
      },
      "source": [
        "patientinfo.info()"
      ],
      "execution_count": 219,
      "outputs": [
        {
          "output_type": "stream",
          "name": "stdout",
          "text": [
            "<class 'pandas.core.frame.DataFrame'>\n",
            "RangeIndex: 3388 entries, 0 to 3387\n",
            "Data columns (total 18 columns):\n",
            " #   Column              Non-Null Count  Dtype  \n",
            "---  ------              --------------  -----  \n",
            " 0   patient_id          3388 non-null   int64  \n",
            " 1   global_num          2276 non-null   float64\n",
            " 2   sex                 3311 non-null   object \n",
            " 3   birth_year          2927 non-null   float64\n",
            " 4   age                 3304 non-null   object \n",
            " 5   country             3388 non-null   object \n",
            " 6   province            3388 non-null   object \n",
            " 7   city                3309 non-null   object \n",
            " 8   disease             18 non-null     object \n",
            " 9   infection_case      2620 non-null   object \n",
            " 10  infection_order     31 non-null     float64\n",
            " 11  infected_by         822 non-null    float64\n",
            " 12  contact_number      643 non-null    float64\n",
            " 13  symptom_onset_date  481 non-null    object \n",
            " 14  confirmed_date      3385 non-null   object \n",
            " 15  released_date       1327 non-null   object \n",
            " 16  deceased_date       62 non-null     object \n",
            " 17  state               3388 non-null   object \n",
            "dtypes: float64(5), int64(1), object(12)\n",
            "memory usage: 476.6+ KB\n"
          ]
        }
      ]
    },
    {
      "cell_type": "code",
      "metadata": {
        "colab": {
          "base_uri": "https://localhost:8080/",
          "height": 299
        },
        "id": "ErJ8j2ckanNQ",
        "outputId": "9dd050e7-a981-4df6-cad0-641e7c1bbcbb"
      },
      "source": [
        "patientinfo.describe()"
      ],
      "execution_count": 220,
      "outputs": [
        {
          "output_type": "execute_result",
          "data": {
            "text/html": [
              "<div>\n",
              "<style scoped>\n",
              "    .dataframe tbody tr th:only-of-type {\n",
              "        vertical-align: middle;\n",
              "    }\n",
              "\n",
              "    .dataframe tbody tr th {\n",
              "        vertical-align: top;\n",
              "    }\n",
              "\n",
              "    .dataframe thead th {\n",
              "        text-align: right;\n",
              "    }\n",
              "</style>\n",
              "<table border=\"1\" class=\"dataframe\">\n",
              "  <thead>\n",
              "    <tr style=\"text-align: right;\">\n",
              "      <th></th>\n",
              "      <th>patient_id</th>\n",
              "      <th>global_num</th>\n",
              "      <th>birth_year</th>\n",
              "      <th>infection_order</th>\n",
              "      <th>infected_by</th>\n",
              "      <th>contact_number</th>\n",
              "    </tr>\n",
              "  </thead>\n",
              "  <tbody>\n",
              "    <tr>\n",
              "      <th>count</th>\n",
              "      <td>3.388000e+03</td>\n",
              "      <td>2276.000000</td>\n",
              "      <td>2927.000000</td>\n",
              "      <td>31.000000</td>\n",
              "      <td>8.220000e+02</td>\n",
              "      <td>643.000000</td>\n",
              "    </tr>\n",
              "    <tr>\n",
              "      <th>mean</th>\n",
              "      <td>3.498439e+09</td>\n",
              "      <td>6737.086555</td>\n",
              "      <td>1975.068329</td>\n",
              "      <td>2.387097</td>\n",
              "      <td>2.667213e+09</td>\n",
              "      <td>18.129082</td>\n",
              "    </tr>\n",
              "    <tr>\n",
              "      <th>std</th>\n",
              "      <td>2.201996e+09</td>\n",
              "      <td>3333.136141</td>\n",
              "      <td>20.275295</td>\n",
              "      <td>1.453213</td>\n",
              "      <td>1.741377e+09</td>\n",
              "      <td>73.730420</td>\n",
              "    </tr>\n",
              "    <tr>\n",
              "      <th>min</th>\n",
              "      <td>1.000000e+09</td>\n",
              "      <td>1.000000</td>\n",
              "      <td>1916.000000</td>\n",
              "      <td>1.000000</td>\n",
              "      <td>1.000000e+09</td>\n",
              "      <td>0.000000</td>\n",
              "    </tr>\n",
              "    <tr>\n",
              "      <th>25%</th>\n",
              "      <td>1.300000e+09</td>\n",
              "      <td>4270.000000</td>\n",
              "      <td>1961.000000</td>\n",
              "      <td>1.000000</td>\n",
              "      <td>1.200000e+09</td>\n",
              "      <td>2.000000</td>\n",
              "    </tr>\n",
              "    <tr>\n",
              "      <th>50%</th>\n",
              "      <td>2.000001e+09</td>\n",
              "      <td>7933.000000</td>\n",
              "      <td>1975.000000</td>\n",
              "      <td>2.000000</td>\n",
              "      <td>2.000000e+09</td>\n",
              "      <td>4.000000</td>\n",
              "    </tr>\n",
              "    <tr>\n",
              "      <th>75%</th>\n",
              "      <td>6.001001e+09</td>\n",
              "      <td>9516.750000</td>\n",
              "      <td>1993.000000</td>\n",
              "      <td>3.000000</td>\n",
              "      <td>4.100000e+09</td>\n",
              "      <td>13.000000</td>\n",
              "    </tr>\n",
              "    <tr>\n",
              "      <th>max</th>\n",
              "      <td>7.000000e+09</td>\n",
              "      <td>10758.000000</td>\n",
              "      <td>2020.000000</td>\n",
              "      <td>6.000000</td>\n",
              "      <td>7.000000e+09</td>\n",
              "      <td>1160.000000</td>\n",
              "    </tr>\n",
              "  </tbody>\n",
              "</table>\n",
              "</div>"
            ],
            "text/plain": [
              "         patient_id    global_num  ...   infected_by  contact_number\n",
              "count  3.388000e+03   2276.000000  ...  8.220000e+02      643.000000\n",
              "mean   3.498439e+09   6737.086555  ...  2.667213e+09       18.129082\n",
              "std    2.201996e+09   3333.136141  ...  1.741377e+09       73.730420\n",
              "min    1.000000e+09      1.000000  ...  1.000000e+09        0.000000\n",
              "25%    1.300000e+09   4270.000000  ...  1.200000e+09        2.000000\n",
              "50%    2.000001e+09   7933.000000  ...  2.000000e+09        4.000000\n",
              "75%    6.001001e+09   9516.750000  ...  4.100000e+09       13.000000\n",
              "max    7.000000e+09  10758.000000  ...  7.000000e+09     1160.000000\n",
              "\n",
              "[8 rows x 6 columns]"
            ]
          },
          "metadata": {},
          "execution_count": 220
        }
      ]
    },
    {
      "cell_type": "markdown",
      "metadata": {
        "id": "zy_tts4WKjWh"
      },
      "source": [
        "- 최고령 확진자는 1916년생, 최연소 확진자는 2020년생(신생아)이다.\n",
        "- 접촉자수가 1,160명인 case가 눈에 띈다."
      ]
    },
    {
      "cell_type": "code",
      "metadata": {
        "colab": {
          "base_uri": "https://localhost:8080/",
          "height": 118
        },
        "id": "ML1FA4Aqa9kn",
        "outputId": "5425b1a7-2031-425b-96d7-b9fac636516d"
      },
      "source": [
        "patientinfo[patientinfo['contact_number'] == 1160.0]  # 31번 확진자 from 신천지(aka.슈퍼 전파자)"
      ],
      "execution_count": 221,
      "outputs": [
        {
          "output_type": "execute_result",
          "data": {
            "text/html": [
              "<div>\n",
              "<style scoped>\n",
              "    .dataframe tbody tr th:only-of-type {\n",
              "        vertical-align: middle;\n",
              "    }\n",
              "\n",
              "    .dataframe tbody tr th {\n",
              "        vertical-align: top;\n",
              "    }\n",
              "\n",
              "    .dataframe thead th {\n",
              "        text-align: right;\n",
              "    }\n",
              "</style>\n",
              "<table border=\"1\" class=\"dataframe\">\n",
              "  <thead>\n",
              "    <tr style=\"text-align: right;\">\n",
              "      <th></th>\n",
              "      <th>patient_id</th>\n",
              "      <th>global_num</th>\n",
              "      <th>sex</th>\n",
              "      <th>birth_year</th>\n",
              "      <th>age</th>\n",
              "      <th>country</th>\n",
              "      <th>province</th>\n",
              "      <th>city</th>\n",
              "      <th>disease</th>\n",
              "      <th>infection_case</th>\n",
              "      <th>infection_order</th>\n",
              "      <th>infected_by</th>\n",
              "      <th>contact_number</th>\n",
              "      <th>symptom_onset_date</th>\n",
              "      <th>confirmed_date</th>\n",
              "      <th>released_date</th>\n",
              "      <th>deceased_date</th>\n",
              "      <th>state</th>\n",
              "    </tr>\n",
              "  </thead>\n",
              "  <tbody>\n",
              "    <tr>\n",
              "      <th>767</th>\n",
              "      <td>1200000031</td>\n",
              "      <td>31.0</td>\n",
              "      <td>female</td>\n",
              "      <td>1959.0</td>\n",
              "      <td>60s</td>\n",
              "      <td>Korea</td>\n",
              "      <td>Daegu</td>\n",
              "      <td>NaN</td>\n",
              "      <td>NaN</td>\n",
              "      <td>Shincheonji Church</td>\n",
              "      <td>NaN</td>\n",
              "      <td>NaN</td>\n",
              "      <td>1160.0</td>\n",
              "      <td>NaN</td>\n",
              "      <td>2020-02-18</td>\n",
              "      <td>NaN</td>\n",
              "      <td>NaN</td>\n",
              "      <td>isolated</td>\n",
              "    </tr>\n",
              "  </tbody>\n",
              "</table>\n",
              "</div>"
            ],
            "text/plain": [
              "     patient_id  global_num     sex  ...  released_date deceased_date     state\n",
              "767  1200000031        31.0  female  ...            NaN           NaN  isolated\n",
              "\n",
              "[1 rows x 18 columns]"
            ]
          },
          "metadata": {},
          "execution_count": 221
        }
      ]
    },
    {
      "cell_type": "code",
      "metadata": {
        "colab": {
          "base_uri": "https://localhost:8080/",
          "height": 212
        },
        "id": "FrGauYQInVeV",
        "outputId": "009ded83-38b3-441d-8b7a-31720fcb8e58"
      },
      "source": [
        "patientinfo.describe(include=object)"
      ],
      "execution_count": 222,
      "outputs": [
        {
          "output_type": "execute_result",
          "data": {
            "text/html": [
              "<div>\n",
              "<style scoped>\n",
              "    .dataframe tbody tr th:only-of-type {\n",
              "        vertical-align: middle;\n",
              "    }\n",
              "\n",
              "    .dataframe tbody tr th {\n",
              "        vertical-align: top;\n",
              "    }\n",
              "\n",
              "    .dataframe thead th {\n",
              "        text-align: right;\n",
              "    }\n",
              "</style>\n",
              "<table border=\"1\" class=\"dataframe\">\n",
              "  <thead>\n",
              "    <tr style=\"text-align: right;\">\n",
              "      <th></th>\n",
              "      <th>sex</th>\n",
              "      <th>age</th>\n",
              "      <th>country</th>\n",
              "      <th>province</th>\n",
              "      <th>city</th>\n",
              "      <th>disease</th>\n",
              "      <th>infection_case</th>\n",
              "      <th>symptom_onset_date</th>\n",
              "      <th>confirmed_date</th>\n",
              "      <th>released_date</th>\n",
              "      <th>deceased_date</th>\n",
              "      <th>state</th>\n",
              "    </tr>\n",
              "  </thead>\n",
              "  <tbody>\n",
              "    <tr>\n",
              "      <th>count</th>\n",
              "      <td>3311</td>\n",
              "      <td>3304</td>\n",
              "      <td>3388</td>\n",
              "      <td>3388</td>\n",
              "      <td>3309</td>\n",
              "      <td>18</td>\n",
              "      <td>2620</td>\n",
              "      <td>481</td>\n",
              "      <td>3385</td>\n",
              "      <td>1327</td>\n",
              "      <td>62</td>\n",
              "      <td>3388</td>\n",
              "    </tr>\n",
              "    <tr>\n",
              "      <th>unique</th>\n",
              "      <td>2</td>\n",
              "      <td>11</td>\n",
              "      <td>12</td>\n",
              "      <td>17</td>\n",
              "      <td>154</td>\n",
              "      <td>1</td>\n",
              "      <td>23</td>\n",
              "      <td>73</td>\n",
              "      <td>87</td>\n",
              "      <td>76</td>\n",
              "      <td>35</td>\n",
              "      <td>3</td>\n",
              "    </tr>\n",
              "    <tr>\n",
              "      <th>top</th>\n",
              "      <td>female</td>\n",
              "      <td>20s</td>\n",
              "      <td>Korea</td>\n",
              "      <td>Gyeongsangbuk-do</td>\n",
              "      <td>Gyeongsan-si</td>\n",
              "      <td>True</td>\n",
              "      <td>contact with patient</td>\n",
              "      <td>2020-02-27</td>\n",
              "      <td>2020-03-05</td>\n",
              "      <td>2020-03-20</td>\n",
              "      <td>2020-03-04</td>\n",
              "      <td>released</td>\n",
              "    </tr>\n",
              "    <tr>\n",
              "      <th>freq</th>\n",
              "      <td>1856</td>\n",
              "      <td>802</td>\n",
              "      <td>3361</td>\n",
              "      <td>1230</td>\n",
              "      <td>632</td>\n",
              "      <td>18</td>\n",
              "      <td>968</td>\n",
              "      <td>29</td>\n",
              "      <td>145</td>\n",
              "      <td>71</td>\n",
              "      <td>4</td>\n",
              "      <td>1886</td>\n",
              "    </tr>\n",
              "  </tbody>\n",
              "</table>\n",
              "</div>"
            ],
            "text/plain": [
              "           sex   age country  ... released_date deceased_date     state\n",
              "count     3311  3304    3388  ...          1327            62      3388\n",
              "unique       2    11      12  ...            76            35         3\n",
              "top     female   20s   Korea  ...    2020-03-20    2020-03-04  released\n",
              "freq      1856   802    3361  ...            71             4      1886\n",
              "\n",
              "[4 rows x 12 columns]"
            ]
          },
          "metadata": {},
          "execution_count": 222
        }
      ]
    },
    {
      "cell_type": "markdown",
      "metadata": {
        "id": "rI9euT2NybyI"
      },
      "source": [
        "- 남성 보다 여성 확진자 수가 더 많다.\n",
        "- 연령대로는 20대 확진자 수가 가장 많다."
      ]
    },
    {
      "cell_type": "code",
      "metadata": {
        "colab": {
          "base_uri": "https://localhost:8080/"
        },
        "id": "uwF4fbSbxEih",
        "outputId": "3f1158cd-0d81-4329-ed0e-d5ad119cbccc"
      },
      "source": [
        "# 성별 확진자 수 비교\n",
        "patientinfo.groupby(['sex'])['patient_id'].count()"
      ],
      "execution_count": 223,
      "outputs": [
        {
          "output_type": "execute_result",
          "data": {
            "text/plain": [
              "sex\n",
              "female    1856\n",
              "male      1455\n",
              "Name: patient_id, dtype: int64"
            ]
          },
          "metadata": {},
          "execution_count": 223
        }
      ]
    },
    {
      "cell_type": "code",
      "metadata": {
        "colab": {
          "base_uri": "https://localhost:8080/"
        },
        "id": "Ulc-g_p2yITi",
        "outputId": "cb18ed13-fe5c-40b6-e497-1ca4a4080a3a"
      },
      "source": [
        "# 연령별 확진자 수 비교\n",
        "patientinfo.groupby(['age'])['patient_id'].count()"
      ],
      "execution_count": 224,
      "outputs": [
        {
          "output_type": "execute_result",
          "data": {
            "text/plain": [
              "age\n",
              "0s       55\n",
              "100s      1\n",
              "10s     150\n",
              "20s     802\n",
              "30s     438\n",
              "40s     455\n",
              "50s     597\n",
              "60s     401\n",
              "70s     204\n",
              "80s     156\n",
              "90s      45\n",
              "Name: patient_id, dtype: int64"
            ]
          },
          "metadata": {},
          "execution_count": 224
        }
      ]
    },
    {
      "cell_type": "code",
      "metadata": {
        "colab": {
          "base_uri": "https://localhost:8080/"
        },
        "id": "v-n48NTtcJIH",
        "outputId": "c587c103-4922-43da-c8c1-c8fbbc9ab3c7"
      },
      "source": [
        "# 결측치 확인\n",
        "patientinfo.isnull().sum()"
      ],
      "execution_count": 225,
      "outputs": [
        {
          "output_type": "execute_result",
          "data": {
            "text/plain": [
              "patient_id               0\n",
              "global_num            1112\n",
              "sex                     77\n",
              "birth_year             461\n",
              "age                     84\n",
              "country                  0\n",
              "province                 0\n",
              "city                    79\n",
              "disease               3370\n",
              "infection_case         768\n",
              "infection_order       3357\n",
              "infected_by           2566\n",
              "contact_number        2745\n",
              "symptom_onset_date    2907\n",
              "confirmed_date           3\n",
              "released_date         2061\n",
              "deceased_date         3326\n",
              "state                    0\n",
              "dtype: int64"
            ]
          },
          "metadata": {},
          "execution_count": 225
        }
      ]
    },
    {
      "cell_type": "markdown",
      "metadata": {
        "id": "lVXJ8ZRZcAmP"
      },
      "source": [
        "- __Observation__\n",
        "  - birth_year(출생연도)는 결측치가 많기 때문에 유사한 age(연령대) 정보를 사용하는 것이 적합할 것 같다.\n",
        "  - infection_order(N차 감염), contact_number(접촉자수), infected_by(해당 환자를 감염시킨 사람의 환자 ID), symptom_onset_date(증상발현일)  같이 결측치가 많은 데이터는 활용하기가 어려워 보인다.   \n",
        "  (질병 발생 초반 역학조사 단계 정도에서만 유의미한 데이터로 생각된다.)\n",
        "  - __disease=Ture 인 사람과 아닌 사람의 입원기간, 사망율 등을 eda__"
      ]
    },
    {
      "cell_type": "markdown",
      "metadata": {
        "id": "RUrbUGGw2hQ0"
      },
      "source": [
        "### 03. Patient Route (환자동선)"
      ]
    },
    {
      "cell_type": "code",
      "metadata": {
        "id": "K8l4UzJhDF-3",
        "colab": {
          "base_uri": "https://localhost:8080/",
          "height": 224
        },
        "outputId": "10b5fa4f-5dcf-48ae-c666-036a90f25874"
      },
      "source": [
        "print('Patient Route 크기: ', patientroute.shape)\n",
        "patientroute.head()"
      ],
      "execution_count": 226,
      "outputs": [
        {
          "output_type": "stream",
          "name": "stdout",
          "text": [
            "Patient Route 크기:  (6714, 8)\n"
          ]
        },
        {
          "output_type": "execute_result",
          "data": {
            "text/html": [
              "<div>\n",
              "<style scoped>\n",
              "    .dataframe tbody tr th:only-of-type {\n",
              "        vertical-align: middle;\n",
              "    }\n",
              "\n",
              "    .dataframe tbody tr th {\n",
              "        vertical-align: top;\n",
              "    }\n",
              "\n",
              "    .dataframe thead th {\n",
              "        text-align: right;\n",
              "    }\n",
              "</style>\n",
              "<table border=\"1\" class=\"dataframe\">\n",
              "  <thead>\n",
              "    <tr style=\"text-align: right;\">\n",
              "      <th></th>\n",
              "      <th>patient_id</th>\n",
              "      <th>global_num</th>\n",
              "      <th>date</th>\n",
              "      <th>province</th>\n",
              "      <th>city</th>\n",
              "      <th>type</th>\n",
              "      <th>latitude</th>\n",
              "      <th>longitude</th>\n",
              "    </tr>\n",
              "  </thead>\n",
              "  <tbody>\n",
              "    <tr>\n",
              "      <th>0</th>\n",
              "      <td>1000000001</td>\n",
              "      <td>2.0</td>\n",
              "      <td>2020-01-22</td>\n",
              "      <td>Gyeonggi-do</td>\n",
              "      <td>Gimpo-si</td>\n",
              "      <td>airport</td>\n",
              "      <td>37.615246</td>\n",
              "      <td>126.715632</td>\n",
              "    </tr>\n",
              "    <tr>\n",
              "      <th>1</th>\n",
              "      <td>1000000001</td>\n",
              "      <td>2.0</td>\n",
              "      <td>2020-01-24</td>\n",
              "      <td>Seoul</td>\n",
              "      <td>Jung-gu</td>\n",
              "      <td>hospital</td>\n",
              "      <td>37.567241</td>\n",
              "      <td>127.005659</td>\n",
              "    </tr>\n",
              "    <tr>\n",
              "      <th>2</th>\n",
              "      <td>1000000002</td>\n",
              "      <td>5.0</td>\n",
              "      <td>2020-01-25</td>\n",
              "      <td>Seoul</td>\n",
              "      <td>Seongbuk-gu</td>\n",
              "      <td>etc</td>\n",
              "      <td>37.592560</td>\n",
              "      <td>127.017048</td>\n",
              "    </tr>\n",
              "    <tr>\n",
              "      <th>3</th>\n",
              "      <td>1000000002</td>\n",
              "      <td>5.0</td>\n",
              "      <td>2020-01-26</td>\n",
              "      <td>Seoul</td>\n",
              "      <td>Seongbuk-gu</td>\n",
              "      <td>store</td>\n",
              "      <td>37.591810</td>\n",
              "      <td>127.016822</td>\n",
              "    </tr>\n",
              "    <tr>\n",
              "      <th>4</th>\n",
              "      <td>1000000002</td>\n",
              "      <td>5.0</td>\n",
              "      <td>2020-01-26</td>\n",
              "      <td>Seoul</td>\n",
              "      <td>Seongdong-gu</td>\n",
              "      <td>public_transportation</td>\n",
              "      <td>37.563992</td>\n",
              "      <td>127.029534</td>\n",
              "    </tr>\n",
              "  </tbody>\n",
              "</table>\n",
              "</div>"
            ],
            "text/plain": [
              "   patient_id  global_num  ...   latitude   longitude\n",
              "0  1000000001         2.0  ...  37.615246  126.715632\n",
              "1  1000000001         2.0  ...  37.567241  127.005659\n",
              "2  1000000002         5.0  ...  37.592560  127.017048\n",
              "3  1000000002         5.0  ...  37.591810  127.016822\n",
              "4  1000000002         5.0  ...  37.563992  127.029534\n",
              "\n",
              "[5 rows x 8 columns]"
            ]
          },
          "metadata": {},
          "execution_count": 226
        }
      ]
    },
    {
      "cell_type": "code",
      "metadata": {
        "colab": {
          "base_uri": "https://localhost:8080/"
        },
        "id": "JCHuNlhk2pKP",
        "outputId": "8db3f12f-1c8e-4dc5-bca4-c303ee402313"
      },
      "source": [
        "patientroute.info()"
      ],
      "execution_count": 227,
      "outputs": [
        {
          "output_type": "stream",
          "name": "stdout",
          "text": [
            "<class 'pandas.core.frame.DataFrame'>\n",
            "RangeIndex: 6714 entries, 0 to 6713\n",
            "Data columns (total 8 columns):\n",
            " #   Column      Non-Null Count  Dtype  \n",
            "---  ------      --------------  -----  \n",
            " 0   patient_id  6714 non-null   int64  \n",
            " 1   global_num  3571 non-null   float64\n",
            " 2   date        6714 non-null   object \n",
            " 3   province    6714 non-null   object \n",
            " 4   city        6714 non-null   object \n",
            " 5   type        6714 non-null   object \n",
            " 6   latitude    6714 non-null   float64\n",
            " 7   longitude   6714 non-null   float64\n",
            "dtypes: float64(3), int64(1), object(4)\n",
            "memory usage: 419.8+ KB\n"
          ]
        }
      ]
    },
    {
      "cell_type": "code",
      "metadata": {
        "colab": {
          "base_uri": "https://localhost:8080/",
          "height": 175
        },
        "id": "RQuZi2sWyqlY",
        "outputId": "2ff63ea1-ecd6-488d-b2e1-48c94a4071a7"
      },
      "source": [
        "patientroute.describe(include=object)"
      ],
      "execution_count": 228,
      "outputs": [
        {
          "output_type": "execute_result",
          "data": {
            "text/html": [
              "<div>\n",
              "<style scoped>\n",
              "    .dataframe tbody tr th:only-of-type {\n",
              "        vertical-align: middle;\n",
              "    }\n",
              "\n",
              "    .dataframe tbody tr th {\n",
              "        vertical-align: top;\n",
              "    }\n",
              "\n",
              "    .dataframe thead th {\n",
              "        text-align: right;\n",
              "    }\n",
              "</style>\n",
              "<table border=\"1\" class=\"dataframe\">\n",
              "  <thead>\n",
              "    <tr style=\"text-align: right;\">\n",
              "      <th></th>\n",
              "      <th>date</th>\n",
              "      <th>province</th>\n",
              "      <th>city</th>\n",
              "      <th>type</th>\n",
              "    </tr>\n",
              "  </thead>\n",
              "  <tbody>\n",
              "    <tr>\n",
              "      <th>count</th>\n",
              "      <td>6714</td>\n",
              "      <td>6714</td>\n",
              "      <td>6714</td>\n",
              "      <td>6714</td>\n",
              "    </tr>\n",
              "    <tr>\n",
              "      <th>unique</th>\n",
              "      <td>99</td>\n",
              "      <td>16</td>\n",
              "      <td>153</td>\n",
              "      <td>24</td>\n",
              "    </tr>\n",
              "    <tr>\n",
              "      <th>top</th>\n",
              "      <td>2020-02-24</td>\n",
              "      <td>Seoul</td>\n",
              "      <td>Cheonan-si</td>\n",
              "      <td>etc</td>\n",
              "    </tr>\n",
              "    <tr>\n",
              "      <th>freq</th>\n",
              "      <td>327</td>\n",
              "      <td>2629</td>\n",
              "      <td>470</td>\n",
              "      <td>2049</td>\n",
              "    </tr>\n",
              "  </tbody>\n",
              "</table>\n",
              "</div>"
            ],
            "text/plain": [
              "              date province        city  type\n",
              "count         6714     6714        6714  6714\n",
              "unique          99       16         153    24\n",
              "top     2020-02-24    Seoul  Cheonan-si   etc\n",
              "freq           327     2629         470  2049"
            ]
          },
          "metadata": {},
          "execution_count": 228
        }
      ]
    },
    {
      "cell_type": "code",
      "metadata": {
        "colab": {
          "base_uri": "https://localhost:8080/"
        },
        "id": "7BMD4ws2DUwe",
        "outputId": "89df74dc-5a70-4453-f5c6-1280a041a4f4"
      },
      "source": [
        "# 결측치 확인\n",
        "patientroute.isnull().sum()"
      ],
      "execution_count": 229,
      "outputs": [
        {
          "output_type": "execute_result",
          "data": {
            "text/plain": [
              "patient_id       0\n",
              "global_num    3143\n",
              "date             0\n",
              "province         0\n",
              "city             0\n",
              "type             0\n",
              "latitude         0\n",
              "longitude        0\n",
              "dtype: int64"
            ]
          },
          "metadata": {},
          "execution_count": 229
        }
      ]
    },
    {
      "cell_type": "markdown",
      "metadata": {
        "id": "FXiqPakN2-LP"
      },
      "source": [
        "- __Observation__\n",
        "  - 환자 이동동선 중 어떤 방문장소가 많은가? (병원??)\n",
        "  - 환자별 이동동선(위도,경도) 거리를 계산해서 어떤 환자가 가장 이동거리가 많았는지, 다시 말해 전국적 확산에 영향을 미칠 수 있었던 환자가 누구인지 예측\n",
        "  - 필수/불필요한 장소 방문을 구분할 수 있는가 -> 연령대와 연결"
      ]
    },
    {
      "cell_type": "markdown",
      "metadata": {
        "id": "djLSW9Sw3KY8"
      },
      "source": [
        "### 04. Time (시간)"
      ]
    },
    {
      "cell_type": "code",
      "metadata": {
        "colab": {
          "base_uri": "https://localhost:8080/",
          "height": 224
        },
        "id": "o8A-zmM1Mhrl",
        "outputId": "c916e6ae-c3bd-4543-e072-03c0fcec1f67"
      },
      "source": [
        "print('Time 크기: ', time.shape)\n",
        "time.head()"
      ],
      "execution_count": 230,
      "outputs": [
        {
          "output_type": "stream",
          "name": "stdout",
          "text": [
            "Time 크기:  (102, 7)\n"
          ]
        },
        {
          "output_type": "execute_result",
          "data": {
            "text/html": [
              "<div>\n",
              "<style scoped>\n",
              "    .dataframe tbody tr th:only-of-type {\n",
              "        vertical-align: middle;\n",
              "    }\n",
              "\n",
              "    .dataframe tbody tr th {\n",
              "        vertical-align: top;\n",
              "    }\n",
              "\n",
              "    .dataframe thead th {\n",
              "        text-align: right;\n",
              "    }\n",
              "</style>\n",
              "<table border=\"1\" class=\"dataframe\">\n",
              "  <thead>\n",
              "    <tr style=\"text-align: right;\">\n",
              "      <th></th>\n",
              "      <th>date</th>\n",
              "      <th>time</th>\n",
              "      <th>test</th>\n",
              "      <th>negative</th>\n",
              "      <th>confirmed</th>\n",
              "      <th>released</th>\n",
              "      <th>deceased</th>\n",
              "    </tr>\n",
              "  </thead>\n",
              "  <tbody>\n",
              "    <tr>\n",
              "      <th>0</th>\n",
              "      <td>2020-01-20</td>\n",
              "      <td>16</td>\n",
              "      <td>1</td>\n",
              "      <td>0</td>\n",
              "      <td>1</td>\n",
              "      <td>0</td>\n",
              "      <td>0</td>\n",
              "    </tr>\n",
              "    <tr>\n",
              "      <th>1</th>\n",
              "      <td>2020-01-21</td>\n",
              "      <td>16</td>\n",
              "      <td>1</td>\n",
              "      <td>0</td>\n",
              "      <td>1</td>\n",
              "      <td>0</td>\n",
              "      <td>0</td>\n",
              "    </tr>\n",
              "    <tr>\n",
              "      <th>2</th>\n",
              "      <td>2020-01-22</td>\n",
              "      <td>16</td>\n",
              "      <td>4</td>\n",
              "      <td>3</td>\n",
              "      <td>1</td>\n",
              "      <td>0</td>\n",
              "      <td>0</td>\n",
              "    </tr>\n",
              "    <tr>\n",
              "      <th>3</th>\n",
              "      <td>2020-01-23</td>\n",
              "      <td>16</td>\n",
              "      <td>22</td>\n",
              "      <td>21</td>\n",
              "      <td>1</td>\n",
              "      <td>0</td>\n",
              "      <td>0</td>\n",
              "    </tr>\n",
              "    <tr>\n",
              "      <th>4</th>\n",
              "      <td>2020-01-24</td>\n",
              "      <td>16</td>\n",
              "      <td>27</td>\n",
              "      <td>25</td>\n",
              "      <td>2</td>\n",
              "      <td>0</td>\n",
              "      <td>0</td>\n",
              "    </tr>\n",
              "  </tbody>\n",
              "</table>\n",
              "</div>"
            ],
            "text/plain": [
              "         date  time  test  negative  confirmed  released  deceased\n",
              "0  2020-01-20    16     1         0          1         0         0\n",
              "1  2020-01-21    16     1         0          1         0         0\n",
              "2  2020-01-22    16     4         3          1         0         0\n",
              "3  2020-01-23    16    22        21          1         0         0\n",
              "4  2020-01-24    16    27        25          2         0         0"
            ]
          },
          "metadata": {},
          "execution_count": 230
        }
      ]
    },
    {
      "cell_type": "code",
      "metadata": {
        "colab": {
          "base_uri": "https://localhost:8080/",
          "height": 205
        },
        "id": "eaHS6WPK2vr8",
        "outputId": "96a70bb9-4956-48f3-d076-7cb35b5e3d9c"
      },
      "source": [
        "time.tail()"
      ],
      "execution_count": 231,
      "outputs": [
        {
          "output_type": "execute_result",
          "data": {
            "text/html": [
              "<div>\n",
              "<style scoped>\n",
              "    .dataframe tbody tr th:only-of-type {\n",
              "        vertical-align: middle;\n",
              "    }\n",
              "\n",
              "    .dataframe tbody tr th {\n",
              "        vertical-align: top;\n",
              "    }\n",
              "\n",
              "    .dataframe thead th {\n",
              "        text-align: right;\n",
              "    }\n",
              "</style>\n",
              "<table border=\"1\" class=\"dataframe\">\n",
              "  <thead>\n",
              "    <tr style=\"text-align: right;\">\n",
              "      <th></th>\n",
              "      <th>date</th>\n",
              "      <th>time</th>\n",
              "      <th>test</th>\n",
              "      <th>negative</th>\n",
              "      <th>confirmed</th>\n",
              "      <th>released</th>\n",
              "      <th>deceased</th>\n",
              "    </tr>\n",
              "  </thead>\n",
              "  <tbody>\n",
              "    <tr>\n",
              "      <th>97</th>\n",
              "      <td>2020-04-26</td>\n",
              "      <td>0</td>\n",
              "      <td>598285</td>\n",
              "      <td>578558</td>\n",
              "      <td>10728</td>\n",
              "      <td>8717</td>\n",
              "      <td>242</td>\n",
              "    </tr>\n",
              "    <tr>\n",
              "      <th>98</th>\n",
              "      <td>2020-04-27</td>\n",
              "      <td>0</td>\n",
              "      <td>601660</td>\n",
              "      <td>582027</td>\n",
              "      <td>10738</td>\n",
              "      <td>8764</td>\n",
              "      <td>243</td>\n",
              "    </tr>\n",
              "    <tr>\n",
              "      <th>99</th>\n",
              "      <td>2020-04-28</td>\n",
              "      <td>0</td>\n",
              "      <td>608514</td>\n",
              "      <td>588559</td>\n",
              "      <td>10752</td>\n",
              "      <td>8854</td>\n",
              "      <td>244</td>\n",
              "    </tr>\n",
              "    <tr>\n",
              "      <th>100</th>\n",
              "      <td>2020-04-29</td>\n",
              "      <td>0</td>\n",
              "      <td>614197</td>\n",
              "      <td>595129</td>\n",
              "      <td>10761</td>\n",
              "      <td>8922</td>\n",
              "      <td>246</td>\n",
              "    </tr>\n",
              "    <tr>\n",
              "      <th>101</th>\n",
              "      <td>2020-04-30</td>\n",
              "      <td>0</td>\n",
              "      <td>619881</td>\n",
              "      <td>600482</td>\n",
              "      <td>10765</td>\n",
              "      <td>9059</td>\n",
              "      <td>247</td>\n",
              "    </tr>\n",
              "  </tbody>\n",
              "</table>\n",
              "</div>"
            ],
            "text/plain": [
              "           date  time    test  negative  confirmed  released  deceased\n",
              "97   2020-04-26     0  598285    578558      10728      8717       242\n",
              "98   2020-04-27     0  601660    582027      10738      8764       243\n",
              "99   2020-04-28     0  608514    588559      10752      8854       244\n",
              "100  2020-04-29     0  614197    595129      10761      8922       246\n",
              "101  2020-04-30     0  619881    600482      10765      9059       247"
            ]
          },
          "metadata": {},
          "execution_count": 231
        }
      ]
    },
    {
      "cell_type": "code",
      "metadata": {
        "colab": {
          "base_uri": "https://localhost:8080/",
          "height": 175
        },
        "id": "6XNHv9q63Zrn",
        "outputId": "0940a55f-2874-476e-a414-962af7587185"
      },
      "source": [
        "# 최초 확진자 발생일\n",
        "time[time['confirmed'] == 1]"
      ],
      "execution_count": 232,
      "outputs": [
        {
          "output_type": "execute_result",
          "data": {
            "text/html": [
              "<div>\n",
              "<style scoped>\n",
              "    .dataframe tbody tr th:only-of-type {\n",
              "        vertical-align: middle;\n",
              "    }\n",
              "\n",
              "    .dataframe tbody tr th {\n",
              "        vertical-align: top;\n",
              "    }\n",
              "\n",
              "    .dataframe thead th {\n",
              "        text-align: right;\n",
              "    }\n",
              "</style>\n",
              "<table border=\"1\" class=\"dataframe\">\n",
              "  <thead>\n",
              "    <tr style=\"text-align: right;\">\n",
              "      <th></th>\n",
              "      <th>date</th>\n",
              "      <th>time</th>\n",
              "      <th>test</th>\n",
              "      <th>negative</th>\n",
              "      <th>confirmed</th>\n",
              "      <th>released</th>\n",
              "      <th>deceased</th>\n",
              "    </tr>\n",
              "  </thead>\n",
              "  <tbody>\n",
              "    <tr>\n",
              "      <th>0</th>\n",
              "      <td>2020-01-20</td>\n",
              "      <td>16</td>\n",
              "      <td>1</td>\n",
              "      <td>0</td>\n",
              "      <td>1</td>\n",
              "      <td>0</td>\n",
              "      <td>0</td>\n",
              "    </tr>\n",
              "    <tr>\n",
              "      <th>1</th>\n",
              "      <td>2020-01-21</td>\n",
              "      <td>16</td>\n",
              "      <td>1</td>\n",
              "      <td>0</td>\n",
              "      <td>1</td>\n",
              "      <td>0</td>\n",
              "      <td>0</td>\n",
              "    </tr>\n",
              "    <tr>\n",
              "      <th>2</th>\n",
              "      <td>2020-01-22</td>\n",
              "      <td>16</td>\n",
              "      <td>4</td>\n",
              "      <td>3</td>\n",
              "      <td>1</td>\n",
              "      <td>0</td>\n",
              "      <td>0</td>\n",
              "    </tr>\n",
              "    <tr>\n",
              "      <th>3</th>\n",
              "      <td>2020-01-23</td>\n",
              "      <td>16</td>\n",
              "      <td>22</td>\n",
              "      <td>21</td>\n",
              "      <td>1</td>\n",
              "      <td>0</td>\n",
              "      <td>0</td>\n",
              "    </tr>\n",
              "  </tbody>\n",
              "</table>\n",
              "</div>"
            ],
            "text/plain": [
              "         date  time  test  negative  confirmed  released  deceased\n",
              "0  2020-01-20    16     1         0          1         0         0\n",
              "1  2020-01-21    16     1         0          1         0         0\n",
              "2  2020-01-22    16     4         3          1         0         0\n",
              "3  2020-01-23    16    22        21          1         0         0"
            ]
          },
          "metadata": {},
          "execution_count": 232
        }
      ]
    },
    {
      "cell_type": "code",
      "metadata": {
        "colab": {
          "base_uri": "https://localhost:8080/",
          "height": 81
        },
        "id": "iVF0LhelN0DB",
        "outputId": "e6549861-0f6f-4379-b07e-7f9c515a42fa"
      },
      "source": [
        "# 확진자 최초 퇴원일\n",
        "time[time['released'] == 1]"
      ],
      "execution_count": 233,
      "outputs": [
        {
          "output_type": "execute_result",
          "data": {
            "text/html": [
              "<div>\n",
              "<style scoped>\n",
              "    .dataframe tbody tr th:only-of-type {\n",
              "        vertical-align: middle;\n",
              "    }\n",
              "\n",
              "    .dataframe tbody tr th {\n",
              "        vertical-align: top;\n",
              "    }\n",
              "\n",
              "    .dataframe thead th {\n",
              "        text-align: right;\n",
              "    }\n",
              "</style>\n",
              "<table border=\"1\" class=\"dataframe\">\n",
              "  <thead>\n",
              "    <tr style=\"text-align: right;\">\n",
              "      <th></th>\n",
              "      <th>date</th>\n",
              "      <th>time</th>\n",
              "      <th>test</th>\n",
              "      <th>negative</th>\n",
              "      <th>confirmed</th>\n",
              "      <th>released</th>\n",
              "      <th>deceased</th>\n",
              "    </tr>\n",
              "  </thead>\n",
              "  <tbody>\n",
              "    <tr>\n",
              "      <th>16</th>\n",
              "      <td>2020-02-05</td>\n",
              "      <td>16</td>\n",
              "      <td>714</td>\n",
              "      <td>522</td>\n",
              "      <td>18</td>\n",
              "      <td>1</td>\n",
              "      <td>0</td>\n",
              "    </tr>\n",
              "  </tbody>\n",
              "</table>\n",
              "</div>"
            ],
            "text/plain": [
              "          date  time  test  negative  confirmed  released  deceased\n",
              "16  2020-02-05    16   714       522         18         1         0"
            ]
          },
          "metadata": {},
          "execution_count": 233
        }
      ]
    },
    {
      "cell_type": "code",
      "metadata": {
        "colab": {
          "base_uri": "https://localhost:8080/",
          "height": 81
        },
        "id": "y_T8inBfN1cJ",
        "outputId": "823d7f28-17f6-4025-dfb1-e7e991f43fcf"
      },
      "source": [
        "# 최초 사망자 발생일\n",
        "time[time['deceased'] == 1]"
      ],
      "execution_count": 234,
      "outputs": [
        {
          "output_type": "execute_result",
          "data": {
            "text/html": [
              "<div>\n",
              "<style scoped>\n",
              "    .dataframe tbody tr th:only-of-type {\n",
              "        vertical-align: middle;\n",
              "    }\n",
              "\n",
              "    .dataframe tbody tr th {\n",
              "        vertical-align: top;\n",
              "    }\n",
              "\n",
              "    .dataframe thead th {\n",
              "        text-align: right;\n",
              "    }\n",
              "</style>\n",
              "<table border=\"1\" class=\"dataframe\">\n",
              "  <thead>\n",
              "    <tr style=\"text-align: right;\">\n",
              "      <th></th>\n",
              "      <th>date</th>\n",
              "      <th>time</th>\n",
              "      <th>test</th>\n",
              "      <th>negative</th>\n",
              "      <th>confirmed</th>\n",
              "      <th>released</th>\n",
              "      <th>deceased</th>\n",
              "    </tr>\n",
              "  </thead>\n",
              "  <tbody>\n",
              "    <tr>\n",
              "      <th>31</th>\n",
              "      <td>2020-02-20</td>\n",
              "      <td>16</td>\n",
              "      <td>13202</td>\n",
              "      <td>11238</td>\n",
              "      <td>104</td>\n",
              "      <td>16</td>\n",
              "      <td>1</td>\n",
              "    </tr>\n",
              "  </tbody>\n",
              "</table>\n",
              "</div>"
            ],
            "text/plain": [
              "          date  time   test  negative  confirmed  released  deceased\n",
              "31  2020-02-20    16  13202     11238        104        16         1"
            ]
          },
          "metadata": {},
          "execution_count": 234
        }
      ]
    },
    {
      "cell_type": "code",
      "metadata": {
        "colab": {
          "base_uri": "https://localhost:8080/"
        },
        "id": "gqBsX20x6WC0",
        "outputId": "a8036cb2-ebd4-4479-8ad2-78ba486d07b0"
      },
      "source": [
        "time.isnull().sum()"
      ],
      "execution_count": 235,
      "outputs": [
        {
          "output_type": "execute_result",
          "data": {
            "text/plain": [
              "date         0\n",
              "time         0\n",
              "test         0\n",
              "negative     0\n",
              "confirmed    0\n",
              "released     0\n",
              "deceased     0\n",
              "dtype: int64"
            ]
          },
          "metadata": {},
          "execution_count": 235
        }
      ]
    },
    {
      "cell_type": "code",
      "metadata": {
        "id": "75cmioBzOYK1"
      },
      "source": [
        "# 일자별 검사자수/확진자수/완치자수(퇴원)/사망자수"
      ],
      "execution_count": 236,
      "outputs": []
    },
    {
      "cell_type": "markdown",
      "metadata": {
        "id": "3bXqqJlZ4Bcd"
      },
      "source": [
        "- __Observation__\n",
        "  - 3.1부 시간 기준이 16시에서 00시로 변경 되었으나, 일자별 데이터이기 때문에 time 컬럼 자체는 불필요해 drop 해도 무방할 것 같다. \n",
        "  - 2020년 2월 5일에 최초 퇴원자가 나왔으며, 2020년 2월 20일에 최초 사망자가 발생하였다.\n",
        "  - 전처리를 통해 일자별 검사자수/검사결과 등을 확인 해볼 수 있다."
      ]
    },
    {
      "cell_type": "markdown",
      "metadata": {
        "id": "LJjiZP8J6APV"
      },
      "source": [
        "### 05. Time Age (연령대별 확진/사망자수 추이)"
      ]
    },
    {
      "cell_type": "code",
      "metadata": {
        "colab": {
          "base_uri": "https://localhost:8080/",
          "height": 224
        },
        "id": "Cvq58YyxMjTD",
        "outputId": "19d70b92-87a3-46e2-e415-33309dcc13b9"
      },
      "source": [
        "print('Time Age 크기: ', timeage.shape)\n",
        "timeage.head()"
      ],
      "execution_count": 237,
      "outputs": [
        {
          "output_type": "stream",
          "name": "stdout",
          "text": [
            "Time Age 크기:  (540, 5)\n"
          ]
        },
        {
          "output_type": "execute_result",
          "data": {
            "text/html": [
              "<div>\n",
              "<style scoped>\n",
              "    .dataframe tbody tr th:only-of-type {\n",
              "        vertical-align: middle;\n",
              "    }\n",
              "\n",
              "    .dataframe tbody tr th {\n",
              "        vertical-align: top;\n",
              "    }\n",
              "\n",
              "    .dataframe thead th {\n",
              "        text-align: right;\n",
              "    }\n",
              "</style>\n",
              "<table border=\"1\" class=\"dataframe\">\n",
              "  <thead>\n",
              "    <tr style=\"text-align: right;\">\n",
              "      <th></th>\n",
              "      <th>date</th>\n",
              "      <th>time</th>\n",
              "      <th>age</th>\n",
              "      <th>confirmed</th>\n",
              "      <th>deceased</th>\n",
              "    </tr>\n",
              "  </thead>\n",
              "  <tbody>\n",
              "    <tr>\n",
              "      <th>0</th>\n",
              "      <td>2020-03-02</td>\n",
              "      <td>0</td>\n",
              "      <td>0s</td>\n",
              "      <td>32</td>\n",
              "      <td>0</td>\n",
              "    </tr>\n",
              "    <tr>\n",
              "      <th>1</th>\n",
              "      <td>2020-03-02</td>\n",
              "      <td>0</td>\n",
              "      <td>10s</td>\n",
              "      <td>169</td>\n",
              "      <td>0</td>\n",
              "    </tr>\n",
              "    <tr>\n",
              "      <th>2</th>\n",
              "      <td>2020-03-02</td>\n",
              "      <td>0</td>\n",
              "      <td>20s</td>\n",
              "      <td>1235</td>\n",
              "      <td>0</td>\n",
              "    </tr>\n",
              "    <tr>\n",
              "      <th>3</th>\n",
              "      <td>2020-03-02</td>\n",
              "      <td>0</td>\n",
              "      <td>30s</td>\n",
              "      <td>506</td>\n",
              "      <td>1</td>\n",
              "    </tr>\n",
              "    <tr>\n",
              "      <th>4</th>\n",
              "      <td>2020-03-02</td>\n",
              "      <td>0</td>\n",
              "      <td>40s</td>\n",
              "      <td>633</td>\n",
              "      <td>1</td>\n",
              "    </tr>\n",
              "  </tbody>\n",
              "</table>\n",
              "</div>"
            ],
            "text/plain": [
              "         date  time  age  confirmed  deceased\n",
              "0  2020-03-02     0   0s         32         0\n",
              "1  2020-03-02     0  10s        169         0\n",
              "2  2020-03-02     0  20s       1235         0\n",
              "3  2020-03-02     0  30s        506         1\n",
              "4  2020-03-02     0  40s        633         1"
            ]
          },
          "metadata": {},
          "execution_count": 237
        }
      ]
    },
    {
      "cell_type": "code",
      "metadata": {
        "colab": {
          "base_uri": "https://localhost:8080/",
          "height": 331
        },
        "id": "7WVpICQ42T_Z",
        "outputId": "7103615f-dc36-494f-d7e5-d6a8fe1fc503"
      },
      "source": [
        "timeage.tail(9)"
      ],
      "execution_count": 238,
      "outputs": [
        {
          "output_type": "execute_result",
          "data": {
            "text/html": [
              "<div>\n",
              "<style scoped>\n",
              "    .dataframe tbody tr th:only-of-type {\n",
              "        vertical-align: middle;\n",
              "    }\n",
              "\n",
              "    .dataframe tbody tr th {\n",
              "        vertical-align: top;\n",
              "    }\n",
              "\n",
              "    .dataframe thead th {\n",
              "        text-align: right;\n",
              "    }\n",
              "</style>\n",
              "<table border=\"1\" class=\"dataframe\">\n",
              "  <thead>\n",
              "    <tr style=\"text-align: right;\">\n",
              "      <th></th>\n",
              "      <th>date</th>\n",
              "      <th>time</th>\n",
              "      <th>age</th>\n",
              "      <th>confirmed</th>\n",
              "      <th>deceased</th>\n",
              "    </tr>\n",
              "  </thead>\n",
              "  <tbody>\n",
              "    <tr>\n",
              "      <th>531</th>\n",
              "      <td>2020-04-30</td>\n",
              "      <td>0</td>\n",
              "      <td>0s</td>\n",
              "      <td>140</td>\n",
              "      <td>0</td>\n",
              "    </tr>\n",
              "    <tr>\n",
              "      <th>532</th>\n",
              "      <td>2020-04-30</td>\n",
              "      <td>0</td>\n",
              "      <td>10s</td>\n",
              "      <td>590</td>\n",
              "      <td>0</td>\n",
              "    </tr>\n",
              "    <tr>\n",
              "      <th>533</th>\n",
              "      <td>2020-04-30</td>\n",
              "      <td>0</td>\n",
              "      <td>20s</td>\n",
              "      <td>2952</td>\n",
              "      <td>0</td>\n",
              "    </tr>\n",
              "    <tr>\n",
              "      <th>534</th>\n",
              "      <td>2020-04-30</td>\n",
              "      <td>0</td>\n",
              "      <td>30s</td>\n",
              "      <td>1158</td>\n",
              "      <td>2</td>\n",
              "    </tr>\n",
              "    <tr>\n",
              "      <th>535</th>\n",
              "      <td>2020-04-30</td>\n",
              "      <td>0</td>\n",
              "      <td>40s</td>\n",
              "      <td>1427</td>\n",
              "      <td>3</td>\n",
              "    </tr>\n",
              "    <tr>\n",
              "      <th>536</th>\n",
              "      <td>2020-04-30</td>\n",
              "      <td>0</td>\n",
              "      <td>50s</td>\n",
              "      <td>1956</td>\n",
              "      <td>15</td>\n",
              "    </tr>\n",
              "    <tr>\n",
              "      <th>537</th>\n",
              "      <td>2020-04-30</td>\n",
              "      <td>0</td>\n",
              "      <td>60s</td>\n",
              "      <td>1348</td>\n",
              "      <td>35</td>\n",
              "    </tr>\n",
              "    <tr>\n",
              "      <th>538</th>\n",
              "      <td>2020-04-30</td>\n",
              "      <td>0</td>\n",
              "      <td>70s</td>\n",
              "      <td>709</td>\n",
              "      <td>74</td>\n",
              "    </tr>\n",
              "    <tr>\n",
              "      <th>539</th>\n",
              "      <td>2020-04-30</td>\n",
              "      <td>0</td>\n",
              "      <td>80s</td>\n",
              "      <td>485</td>\n",
              "      <td>118</td>\n",
              "    </tr>\n",
              "  </tbody>\n",
              "</table>\n",
              "</div>"
            ],
            "text/plain": [
              "           date  time  age  confirmed  deceased\n",
              "531  2020-04-30     0   0s        140         0\n",
              "532  2020-04-30     0  10s        590         0\n",
              "533  2020-04-30     0  20s       2952         0\n",
              "534  2020-04-30     0  30s       1158         2\n",
              "535  2020-04-30     0  40s       1427         3\n",
              "536  2020-04-30     0  50s       1956        15\n",
              "537  2020-04-30     0  60s       1348        35\n",
              "538  2020-04-30     0  70s        709        74\n",
              "539  2020-04-30     0  80s        485       118"
            ]
          },
          "metadata": {},
          "execution_count": 238
        }
      ]
    },
    {
      "cell_type": "markdown",
      "metadata": {
        "id": "5nkcmufy2gMD"
      },
      "source": [
        "- 확진자 수는 20대에서 가장 많이 발생하였으며, 사망자 수는 80대에서 가장 많이 나왔다.\n",
        "- 연령대가 올라갈 수록 치명률(사망자/확진자)이 높아지는 것을 알 수 있다."
      ]
    },
    {
      "cell_type": "code",
      "metadata": {
        "colab": {
          "base_uri": "https://localhost:8080/"
        },
        "id": "XMzfFTk36GO1",
        "outputId": "c7c7677d-3a69-4435-c06d-6ba5f41fbd17"
      },
      "source": [
        "timeage.isnull().sum()"
      ],
      "execution_count": 239,
      "outputs": [
        {
          "output_type": "execute_result",
          "data": {
            "text/plain": [
              "date         0\n",
              "time         0\n",
              "age          0\n",
              "confirmed    0\n",
              "deceased     0\n",
              "dtype: int64"
            ]
          },
          "metadata": {},
          "execution_count": 239
        }
      ]
    },
    {
      "cell_type": "markdown",
      "metadata": {
        "id": "er_VKLISGd87"
      },
      "source": [
        "### 06. Time Gender (성별 확진/사망자수 추이)\n",
        "\n"
      ]
    },
    {
      "cell_type": "code",
      "metadata": {
        "colab": {
          "base_uri": "https://localhost:8080/",
          "height": 224
        },
        "id": "YGPlsCJnGkW7",
        "outputId": "afbdfdbf-52e8-49bf-bc24-0a82c6aa3838"
      },
      "source": [
        "print('Time Province 크기: ', timegender.shape)\n",
        "timegender.head()"
      ],
      "execution_count": 240,
      "outputs": [
        {
          "output_type": "stream",
          "name": "stdout",
          "text": [
            "Time Province 크기:  (120, 5)\n"
          ]
        },
        {
          "output_type": "execute_result",
          "data": {
            "text/html": [
              "<div>\n",
              "<style scoped>\n",
              "    .dataframe tbody tr th:only-of-type {\n",
              "        vertical-align: middle;\n",
              "    }\n",
              "\n",
              "    .dataframe tbody tr th {\n",
              "        vertical-align: top;\n",
              "    }\n",
              "\n",
              "    .dataframe thead th {\n",
              "        text-align: right;\n",
              "    }\n",
              "</style>\n",
              "<table border=\"1\" class=\"dataframe\">\n",
              "  <thead>\n",
              "    <tr style=\"text-align: right;\">\n",
              "      <th></th>\n",
              "      <th>date</th>\n",
              "      <th>time</th>\n",
              "      <th>sex</th>\n",
              "      <th>confirmed</th>\n",
              "      <th>deceased</th>\n",
              "    </tr>\n",
              "  </thead>\n",
              "  <tbody>\n",
              "    <tr>\n",
              "      <th>0</th>\n",
              "      <td>2020-03-02</td>\n",
              "      <td>0</td>\n",
              "      <td>male</td>\n",
              "      <td>1591</td>\n",
              "      <td>13</td>\n",
              "    </tr>\n",
              "    <tr>\n",
              "      <th>1</th>\n",
              "      <td>2020-03-02</td>\n",
              "      <td>0</td>\n",
              "      <td>female</td>\n",
              "      <td>2621</td>\n",
              "      <td>9</td>\n",
              "    </tr>\n",
              "    <tr>\n",
              "      <th>2</th>\n",
              "      <td>2020-03-03</td>\n",
              "      <td>0</td>\n",
              "      <td>male</td>\n",
              "      <td>1810</td>\n",
              "      <td>16</td>\n",
              "    </tr>\n",
              "    <tr>\n",
              "      <th>3</th>\n",
              "      <td>2020-03-03</td>\n",
              "      <td>0</td>\n",
              "      <td>female</td>\n",
              "      <td>3002</td>\n",
              "      <td>12</td>\n",
              "    </tr>\n",
              "    <tr>\n",
              "      <th>4</th>\n",
              "      <td>2020-03-04</td>\n",
              "      <td>0</td>\n",
              "      <td>male</td>\n",
              "      <td>1996</td>\n",
              "      <td>20</td>\n",
              "    </tr>\n",
              "  </tbody>\n",
              "</table>\n",
              "</div>"
            ],
            "text/plain": [
              "         date  time     sex  confirmed  deceased\n",
              "0  2020-03-02     0    male       1591        13\n",
              "1  2020-03-02     0  female       2621         9\n",
              "2  2020-03-03     0    male       1810        16\n",
              "3  2020-03-03     0  female       3002        12\n",
              "4  2020-03-04     0    male       1996        20"
            ]
          },
          "metadata": {},
          "execution_count": 240
        }
      ]
    },
    {
      "cell_type": "code",
      "metadata": {
        "colab": {
          "base_uri": "https://localhost:8080/",
          "height": 205
        },
        "id": "dwpzkkhJ1mZi",
        "outputId": "9c5a8b2f-d20b-4fba-d426-4a75ed0498ce"
      },
      "source": [
        "timegender.tail()"
      ],
      "execution_count": 241,
      "outputs": [
        {
          "output_type": "execute_result",
          "data": {
            "text/html": [
              "<div>\n",
              "<style scoped>\n",
              "    .dataframe tbody tr th:only-of-type {\n",
              "        vertical-align: middle;\n",
              "    }\n",
              "\n",
              "    .dataframe tbody tr th {\n",
              "        vertical-align: top;\n",
              "    }\n",
              "\n",
              "    .dataframe thead th {\n",
              "        text-align: right;\n",
              "    }\n",
              "</style>\n",
              "<table border=\"1\" class=\"dataframe\">\n",
              "  <thead>\n",
              "    <tr style=\"text-align: right;\">\n",
              "      <th></th>\n",
              "      <th>date</th>\n",
              "      <th>time</th>\n",
              "      <th>sex</th>\n",
              "      <th>confirmed</th>\n",
              "      <th>deceased</th>\n",
              "    </tr>\n",
              "  </thead>\n",
              "  <tbody>\n",
              "    <tr>\n",
              "      <th>115</th>\n",
              "      <td>2020-04-28</td>\n",
              "      <td>0</td>\n",
              "      <td>female</td>\n",
              "      <td>6408</td>\n",
              "      <td>116</td>\n",
              "    </tr>\n",
              "    <tr>\n",
              "      <th>116</th>\n",
              "      <td>2020-04-29</td>\n",
              "      <td>0</td>\n",
              "      <td>male</td>\n",
              "      <td>4348</td>\n",
              "      <td>129</td>\n",
              "    </tr>\n",
              "    <tr>\n",
              "      <th>117</th>\n",
              "      <td>2020-04-29</td>\n",
              "      <td>0</td>\n",
              "      <td>female</td>\n",
              "      <td>6413</td>\n",
              "      <td>117</td>\n",
              "    </tr>\n",
              "    <tr>\n",
              "      <th>118</th>\n",
              "      <td>2020-04-30</td>\n",
              "      <td>0</td>\n",
              "      <td>male</td>\n",
              "      <td>4352</td>\n",
              "      <td>130</td>\n",
              "    </tr>\n",
              "    <tr>\n",
              "      <th>119</th>\n",
              "      <td>2020-04-30</td>\n",
              "      <td>0</td>\n",
              "      <td>female</td>\n",
              "      <td>6413</td>\n",
              "      <td>117</td>\n",
              "    </tr>\n",
              "  </tbody>\n",
              "</table>\n",
              "</div>"
            ],
            "text/plain": [
              "           date  time     sex  confirmed  deceased\n",
              "115  2020-04-28     0  female       6408       116\n",
              "116  2020-04-29     0    male       4348       129\n",
              "117  2020-04-29     0  female       6413       117\n",
              "118  2020-04-30     0    male       4352       130\n",
              "119  2020-04-30     0  female       6413       117"
            ]
          },
          "metadata": {},
          "execution_count": 241
        }
      ]
    },
    {
      "cell_type": "markdown",
      "metadata": {
        "id": "pgtiy4Eu1ioi"
      },
      "source": [
        "- 누적 데이터이므로 데이터의 처음과 끝 부분을 모두 확인해준다.\n",
        "- 누적 확진자 수는 남성보다 여성이 많으며, 사망자 수는 여성보다 남성이 많은 것을 확인할 수 있다."
      ]
    },
    {
      "cell_type": "code",
      "metadata": {
        "colab": {
          "base_uri": "https://localhost:8080/"
        },
        "id": "ac9TatsT2AQr",
        "outputId": "2c352b8c-fc34-4d5f-c012-5a33d1ba529d"
      },
      "source": [
        "timegender.isnull().sum()"
      ],
      "execution_count": 242,
      "outputs": [
        {
          "output_type": "execute_result",
          "data": {
            "text/plain": [
              "date         0\n",
              "time         0\n",
              "sex          0\n",
              "confirmed    0\n",
              "deceased     0\n",
              "dtype: int64"
            ]
          },
          "metadata": {},
          "execution_count": 242
        }
      ]
    },
    {
      "cell_type": "markdown",
      "metadata": {
        "id": "xuh7lkEo9G31"
      },
      "source": [
        "### 07. Time Province (지역별 확진/퇴원/사망자수 추이)"
      ]
    },
    {
      "cell_type": "code",
      "metadata": {
        "colab": {
          "base_uri": "https://localhost:8080/",
          "height": 224
        },
        "id": "Gx5jQr49MlMU",
        "outputId": "b7b13b29-24d7-4683-9ea5-1117bad02c3b"
      },
      "source": [
        "print('Time Province 크기: ', timeprovince.shape)\n",
        "timeprovince.head()"
      ],
      "execution_count": 243,
      "outputs": [
        {
          "output_type": "stream",
          "name": "stdout",
          "text": [
            "Time Province 크기:  (1734, 6)\n"
          ]
        },
        {
          "output_type": "execute_result",
          "data": {
            "text/html": [
              "<div>\n",
              "<style scoped>\n",
              "    .dataframe tbody tr th:only-of-type {\n",
              "        vertical-align: middle;\n",
              "    }\n",
              "\n",
              "    .dataframe tbody tr th {\n",
              "        vertical-align: top;\n",
              "    }\n",
              "\n",
              "    .dataframe thead th {\n",
              "        text-align: right;\n",
              "    }\n",
              "</style>\n",
              "<table border=\"1\" class=\"dataframe\">\n",
              "  <thead>\n",
              "    <tr style=\"text-align: right;\">\n",
              "      <th></th>\n",
              "      <th>date</th>\n",
              "      <th>time</th>\n",
              "      <th>province</th>\n",
              "      <th>confirmed</th>\n",
              "      <th>released</th>\n",
              "      <th>deceased</th>\n",
              "    </tr>\n",
              "  </thead>\n",
              "  <tbody>\n",
              "    <tr>\n",
              "      <th>0</th>\n",
              "      <td>2020-01-20</td>\n",
              "      <td>16</td>\n",
              "      <td>Seoul</td>\n",
              "      <td>0</td>\n",
              "      <td>0</td>\n",
              "      <td>0</td>\n",
              "    </tr>\n",
              "    <tr>\n",
              "      <th>1</th>\n",
              "      <td>2020-01-20</td>\n",
              "      <td>16</td>\n",
              "      <td>Busan</td>\n",
              "      <td>0</td>\n",
              "      <td>0</td>\n",
              "      <td>0</td>\n",
              "    </tr>\n",
              "    <tr>\n",
              "      <th>2</th>\n",
              "      <td>2020-01-20</td>\n",
              "      <td>16</td>\n",
              "      <td>Daegu</td>\n",
              "      <td>0</td>\n",
              "      <td>0</td>\n",
              "      <td>0</td>\n",
              "    </tr>\n",
              "    <tr>\n",
              "      <th>3</th>\n",
              "      <td>2020-01-20</td>\n",
              "      <td>16</td>\n",
              "      <td>Incheon</td>\n",
              "      <td>1</td>\n",
              "      <td>0</td>\n",
              "      <td>0</td>\n",
              "    </tr>\n",
              "    <tr>\n",
              "      <th>4</th>\n",
              "      <td>2020-01-20</td>\n",
              "      <td>16</td>\n",
              "      <td>Gwangju</td>\n",
              "      <td>0</td>\n",
              "      <td>0</td>\n",
              "      <td>0</td>\n",
              "    </tr>\n",
              "  </tbody>\n",
              "</table>\n",
              "</div>"
            ],
            "text/plain": [
              "         date  time province  confirmed  released  deceased\n",
              "0  2020-01-20    16    Seoul          0         0         0\n",
              "1  2020-01-20    16    Busan          0         0         0\n",
              "2  2020-01-20    16    Daegu          0         0         0\n",
              "3  2020-01-20    16  Incheon          1         0         0\n",
              "4  2020-01-20    16  Gwangju          0         0         0"
            ]
          },
          "metadata": {},
          "execution_count": 243
        }
      ]
    },
    {
      "cell_type": "code",
      "metadata": {
        "colab": {
          "base_uri": "https://localhost:8080/",
          "height": 581
        },
        "id": "Unfru19j29Ud",
        "outputId": "e66bcea9-f0d7-4f21-9112-5cb095f6c37e"
      },
      "source": [
        "timeprovince.tail(17)"
      ],
      "execution_count": 244,
      "outputs": [
        {
          "output_type": "execute_result",
          "data": {
            "text/html": [
              "<div>\n",
              "<style scoped>\n",
              "    .dataframe tbody tr th:only-of-type {\n",
              "        vertical-align: middle;\n",
              "    }\n",
              "\n",
              "    .dataframe tbody tr th {\n",
              "        vertical-align: top;\n",
              "    }\n",
              "\n",
              "    .dataframe thead th {\n",
              "        text-align: right;\n",
              "    }\n",
              "</style>\n",
              "<table border=\"1\" class=\"dataframe\">\n",
              "  <thead>\n",
              "    <tr style=\"text-align: right;\">\n",
              "      <th></th>\n",
              "      <th>date</th>\n",
              "      <th>time</th>\n",
              "      <th>province</th>\n",
              "      <th>confirmed</th>\n",
              "      <th>released</th>\n",
              "      <th>deceased</th>\n",
              "    </tr>\n",
              "  </thead>\n",
              "  <tbody>\n",
              "    <tr>\n",
              "      <th>1717</th>\n",
              "      <td>2020-04-30</td>\n",
              "      <td>0</td>\n",
              "      <td>Seoul</td>\n",
              "      <td>633</td>\n",
              "      <td>453</td>\n",
              "      <td>2</td>\n",
              "    </tr>\n",
              "    <tr>\n",
              "      <th>1718</th>\n",
              "      <td>2020-04-30</td>\n",
              "      <td>0</td>\n",
              "      <td>Busan</td>\n",
              "      <td>137</td>\n",
              "      <td>116</td>\n",
              "      <td>3</td>\n",
              "    </tr>\n",
              "    <tr>\n",
              "      <th>1719</th>\n",
              "      <td>2020-04-30</td>\n",
              "      <td>0</td>\n",
              "      <td>Daegu</td>\n",
              "      <td>6852</td>\n",
              "      <td>6144</td>\n",
              "      <td>172</td>\n",
              "    </tr>\n",
              "    <tr>\n",
              "      <th>1720</th>\n",
              "      <td>2020-04-30</td>\n",
              "      <td>0</td>\n",
              "      <td>Incheon</td>\n",
              "      <td>93</td>\n",
              "      <td>68</td>\n",
              "      <td>0</td>\n",
              "    </tr>\n",
              "    <tr>\n",
              "      <th>1721</th>\n",
              "      <td>2020-04-30</td>\n",
              "      <td>0</td>\n",
              "      <td>Gwangju</td>\n",
              "      <td>30</td>\n",
              "      <td>27</td>\n",
              "      <td>0</td>\n",
              "    </tr>\n",
              "    <tr>\n",
              "      <th>1722</th>\n",
              "      <td>2020-04-30</td>\n",
              "      <td>0</td>\n",
              "      <td>Daejeon</td>\n",
              "      <td>40</td>\n",
              "      <td>35</td>\n",
              "      <td>0</td>\n",
              "    </tr>\n",
              "    <tr>\n",
              "      <th>1723</th>\n",
              "      <td>2020-04-30</td>\n",
              "      <td>0</td>\n",
              "      <td>Ulsan</td>\n",
              "      <td>43</td>\n",
              "      <td>37</td>\n",
              "      <td>1</td>\n",
              "    </tr>\n",
              "    <tr>\n",
              "      <th>1724</th>\n",
              "      <td>2020-04-30</td>\n",
              "      <td>0</td>\n",
              "      <td>Sejong</td>\n",
              "      <td>46</td>\n",
              "      <td>38</td>\n",
              "      <td>0</td>\n",
              "    </tr>\n",
              "    <tr>\n",
              "      <th>1725</th>\n",
              "      <td>2020-04-30</td>\n",
              "      <td>0</td>\n",
              "      <td>Gyeonggi-do</td>\n",
              "      <td>676</td>\n",
              "      <td>486</td>\n",
              "      <td>15</td>\n",
              "    </tr>\n",
              "    <tr>\n",
              "      <th>1726</th>\n",
              "      <td>2020-04-30</td>\n",
              "      <td>0</td>\n",
              "      <td>Gangwon-do</td>\n",
              "      <td>53</td>\n",
              "      <td>40</td>\n",
              "      <td>2</td>\n",
              "    </tr>\n",
              "    <tr>\n",
              "      <th>1727</th>\n",
              "      <td>2020-04-30</td>\n",
              "      <td>0</td>\n",
              "      <td>Chungcheongbuk-do</td>\n",
              "      <td>45</td>\n",
              "      <td>41</td>\n",
              "      <td>0</td>\n",
              "    </tr>\n",
              "    <tr>\n",
              "      <th>1728</th>\n",
              "      <td>2020-04-30</td>\n",
              "      <td>0</td>\n",
              "      <td>Chungcheongnam-do</td>\n",
              "      <td>143</td>\n",
              "      <td>127</td>\n",
              "      <td>0</td>\n",
              "    </tr>\n",
              "    <tr>\n",
              "      <th>1729</th>\n",
              "      <td>2020-04-30</td>\n",
              "      <td>0</td>\n",
              "      <td>Jeollabuk-do</td>\n",
              "      <td>18</td>\n",
              "      <td>11</td>\n",
              "      <td>0</td>\n",
              "    </tr>\n",
              "    <tr>\n",
              "      <th>1730</th>\n",
              "      <td>2020-04-30</td>\n",
              "      <td>0</td>\n",
              "      <td>Jeollanam-do</td>\n",
              "      <td>15</td>\n",
              "      <td>11</td>\n",
              "      <td>0</td>\n",
              "    </tr>\n",
              "    <tr>\n",
              "      <th>1731</th>\n",
              "      <td>2020-04-30</td>\n",
              "      <td>0</td>\n",
              "      <td>Gyeongsangbuk-do</td>\n",
              "      <td>1365</td>\n",
              "      <td>1147</td>\n",
              "      <td>52</td>\n",
              "    </tr>\n",
              "    <tr>\n",
              "      <th>1732</th>\n",
              "      <td>2020-04-30</td>\n",
              "      <td>0</td>\n",
              "      <td>Gyeongsangnam-do</td>\n",
              "      <td>117</td>\n",
              "      <td>97</td>\n",
              "      <td>0</td>\n",
              "    </tr>\n",
              "    <tr>\n",
              "      <th>1733</th>\n",
              "      <td>2020-04-30</td>\n",
              "      <td>0</td>\n",
              "      <td>Jeju-do</td>\n",
              "      <td>13</td>\n",
              "      <td>8</td>\n",
              "      <td>0</td>\n",
              "    </tr>\n",
              "  </tbody>\n",
              "</table>\n",
              "</div>"
            ],
            "text/plain": [
              "            date  time           province  confirmed  released  deceased\n",
              "1717  2020-04-30     0              Seoul        633       453         2\n",
              "1718  2020-04-30     0              Busan        137       116         3\n",
              "1719  2020-04-30     0              Daegu       6852      6144       172\n",
              "1720  2020-04-30     0            Incheon         93        68         0\n",
              "1721  2020-04-30     0            Gwangju         30        27         0\n",
              "1722  2020-04-30     0            Daejeon         40        35         0\n",
              "1723  2020-04-30     0              Ulsan         43        37         1\n",
              "1724  2020-04-30     0             Sejong         46        38         0\n",
              "1725  2020-04-30     0        Gyeonggi-do        676       486        15\n",
              "1726  2020-04-30     0         Gangwon-do         53        40         2\n",
              "1727  2020-04-30     0  Chungcheongbuk-do         45        41         0\n",
              "1728  2020-04-30     0  Chungcheongnam-do        143       127         0\n",
              "1729  2020-04-30     0       Jeollabuk-do         18        11         0\n",
              "1730  2020-04-30     0       Jeollanam-do         15        11         0\n",
              "1731  2020-04-30     0   Gyeongsangbuk-do       1365      1147        52\n",
              "1732  2020-04-30     0   Gyeongsangnam-do        117        97         0\n",
              "1733  2020-04-30     0            Jeju-do         13         8         0"
            ]
          },
          "metadata": {},
          "execution_count": 244
        }
      ]
    },
    {
      "cell_type": "code",
      "metadata": {
        "colab": {
          "base_uri": "https://localhost:8080/"
        },
        "id": "uq_Ryfxq5QT_",
        "outputId": "795f33e6-4f29-4146-f6fa-0c0a0135c830"
      },
      "source": [
        "timeprovince.isnull().sum()"
      ],
      "execution_count": 245,
      "outputs": [
        {
          "output_type": "execute_result",
          "data": {
            "text/plain": [
              "date         0\n",
              "time         0\n",
              "province     0\n",
              "confirmed    0\n",
              "released     0\n",
              "deceased     0\n",
              "dtype: int64"
            ]
          },
          "metadata": {},
          "execution_count": 245
        }
      ]
    },
    {
      "cell_type": "markdown",
      "metadata": {
        "id": "NHgTPJF--2pM"
      },
      "source": [
        "### 08. Region (지역정보)"
      ]
    },
    {
      "cell_type": "code",
      "metadata": {
        "colab": {
          "base_uri": "https://localhost:8080/",
          "height": 313
        },
        "id": "7kNR79S8MtJ9",
        "outputId": "52fca1ea-5578-47f5-8e94-0de4355ff769"
      },
      "source": [
        "print('Region 크기: ', region.shape)\n",
        "region.head()"
      ],
      "execution_count": 246,
      "outputs": [
        {
          "output_type": "stream",
          "name": "stdout",
          "text": [
            "Region 크기:  (244, 12)\n"
          ]
        },
        {
          "output_type": "execute_result",
          "data": {
            "text/html": [
              "<div>\n",
              "<style scoped>\n",
              "    .dataframe tbody tr th:only-of-type {\n",
              "        vertical-align: middle;\n",
              "    }\n",
              "\n",
              "    .dataframe tbody tr th {\n",
              "        vertical-align: top;\n",
              "    }\n",
              "\n",
              "    .dataframe thead th {\n",
              "        text-align: right;\n",
              "    }\n",
              "</style>\n",
              "<table border=\"1\" class=\"dataframe\">\n",
              "  <thead>\n",
              "    <tr style=\"text-align: right;\">\n",
              "      <th></th>\n",
              "      <th>code</th>\n",
              "      <th>province</th>\n",
              "      <th>city</th>\n",
              "      <th>latitude</th>\n",
              "      <th>longitude</th>\n",
              "      <th>elementary_school_count</th>\n",
              "      <th>kindergarten_count</th>\n",
              "      <th>university_count</th>\n",
              "      <th>academy_ratio</th>\n",
              "      <th>elderly_population_ratio</th>\n",
              "      <th>elderly_alone_ratio</th>\n",
              "      <th>nursing_home_count</th>\n",
              "    </tr>\n",
              "  </thead>\n",
              "  <tbody>\n",
              "    <tr>\n",
              "      <th>0</th>\n",
              "      <td>10000</td>\n",
              "      <td>Seoul</td>\n",
              "      <td>Seoul</td>\n",
              "      <td>37.566953</td>\n",
              "      <td>126.977977</td>\n",
              "      <td>607</td>\n",
              "      <td>830</td>\n",
              "      <td>48</td>\n",
              "      <td>1.44</td>\n",
              "      <td>15.38</td>\n",
              "      <td>5.8</td>\n",
              "      <td>22739</td>\n",
              "    </tr>\n",
              "    <tr>\n",
              "      <th>1</th>\n",
              "      <td>10010</td>\n",
              "      <td>Seoul</td>\n",
              "      <td>Gangnam-gu</td>\n",
              "      <td>37.518421</td>\n",
              "      <td>127.047222</td>\n",
              "      <td>33</td>\n",
              "      <td>38</td>\n",
              "      <td>0</td>\n",
              "      <td>4.18</td>\n",
              "      <td>13.17</td>\n",
              "      <td>4.3</td>\n",
              "      <td>3088</td>\n",
              "    </tr>\n",
              "    <tr>\n",
              "      <th>2</th>\n",
              "      <td>10020</td>\n",
              "      <td>Seoul</td>\n",
              "      <td>Gangdong-gu</td>\n",
              "      <td>37.530492</td>\n",
              "      <td>127.123837</td>\n",
              "      <td>27</td>\n",
              "      <td>32</td>\n",
              "      <td>0</td>\n",
              "      <td>1.54</td>\n",
              "      <td>14.55</td>\n",
              "      <td>5.4</td>\n",
              "      <td>1023</td>\n",
              "    </tr>\n",
              "    <tr>\n",
              "      <th>3</th>\n",
              "      <td>10030</td>\n",
              "      <td>Seoul</td>\n",
              "      <td>Gangbuk-gu</td>\n",
              "      <td>37.639938</td>\n",
              "      <td>127.025508</td>\n",
              "      <td>14</td>\n",
              "      <td>21</td>\n",
              "      <td>0</td>\n",
              "      <td>0.67</td>\n",
              "      <td>19.49</td>\n",
              "      <td>8.5</td>\n",
              "      <td>628</td>\n",
              "    </tr>\n",
              "    <tr>\n",
              "      <th>4</th>\n",
              "      <td>10040</td>\n",
              "      <td>Seoul</td>\n",
              "      <td>Gangseo-gu</td>\n",
              "      <td>37.551166</td>\n",
              "      <td>126.849506</td>\n",
              "      <td>36</td>\n",
              "      <td>56</td>\n",
              "      <td>1</td>\n",
              "      <td>1.17</td>\n",
              "      <td>14.39</td>\n",
              "      <td>5.7</td>\n",
              "      <td>1080</td>\n",
              "    </tr>\n",
              "  </tbody>\n",
              "</table>\n",
              "</div>"
            ],
            "text/plain": [
              "    code province  ... elderly_alone_ratio  nursing_home_count\n",
              "0  10000    Seoul  ...                 5.8               22739\n",
              "1  10010    Seoul  ...                 4.3                3088\n",
              "2  10020    Seoul  ...                 5.4                1023\n",
              "3  10030    Seoul  ...                 8.5                 628\n",
              "4  10040    Seoul  ...                 5.7                1080\n",
              "\n",
              "[5 rows x 12 columns]"
            ]
          },
          "metadata": {},
          "execution_count": 246
        }
      ]
    },
    {
      "cell_type": "code",
      "metadata": {
        "colab": {
          "base_uri": "https://localhost:8080/",
          "height": 277
        },
        "id": "qSMRW_Pv55ZJ",
        "outputId": "7412afed-09c8-4cfb-ee77-fbc4d307db63"
      },
      "source": [
        "region.tail()"
      ],
      "execution_count": 247,
      "outputs": [
        {
          "output_type": "execute_result",
          "data": {
            "text/html": [
              "<div>\n",
              "<style scoped>\n",
              "    .dataframe tbody tr th:only-of-type {\n",
              "        vertical-align: middle;\n",
              "    }\n",
              "\n",
              "    .dataframe tbody tr th {\n",
              "        vertical-align: top;\n",
              "    }\n",
              "\n",
              "    .dataframe thead th {\n",
              "        text-align: right;\n",
              "    }\n",
              "</style>\n",
              "<table border=\"1\" class=\"dataframe\">\n",
              "  <thead>\n",
              "    <tr style=\"text-align: right;\">\n",
              "      <th></th>\n",
              "      <th>code</th>\n",
              "      <th>province</th>\n",
              "      <th>city</th>\n",
              "      <th>latitude</th>\n",
              "      <th>longitude</th>\n",
              "      <th>elementary_school_count</th>\n",
              "      <th>kindergarten_count</th>\n",
              "      <th>university_count</th>\n",
              "      <th>academy_ratio</th>\n",
              "      <th>elderly_population_ratio</th>\n",
              "      <th>elderly_alone_ratio</th>\n",
              "      <th>nursing_home_count</th>\n",
              "    </tr>\n",
              "  </thead>\n",
              "  <tbody>\n",
              "    <tr>\n",
              "      <th>239</th>\n",
              "      <td>61160</td>\n",
              "      <td>Gyeongsangnam-do</td>\n",
              "      <td>Haman-gun</td>\n",
              "      <td>35.272481</td>\n",
              "      <td>128.406540</td>\n",
              "      <td>16</td>\n",
              "      <td>20</td>\n",
              "      <td>0</td>\n",
              "      <td>1.19</td>\n",
              "      <td>23.74</td>\n",
              "      <td>14.7</td>\n",
              "      <td>94</td>\n",
              "    </tr>\n",
              "    <tr>\n",
              "      <th>240</th>\n",
              "      <td>61170</td>\n",
              "      <td>Gyeongsangnam-do</td>\n",
              "      <td>Hamyang-gun</td>\n",
              "      <td>35.520541</td>\n",
              "      <td>127.725177</td>\n",
              "      <td>13</td>\n",
              "      <td>12</td>\n",
              "      <td>0</td>\n",
              "      <td>1.01</td>\n",
              "      <td>32.65</td>\n",
              "      <td>20.9</td>\n",
              "      <td>83</td>\n",
              "    </tr>\n",
              "    <tr>\n",
              "      <th>241</th>\n",
              "      <td>61180</td>\n",
              "      <td>Gyeongsangnam-do</td>\n",
              "      <td>Hapcheon-gun</td>\n",
              "      <td>35.566702</td>\n",
              "      <td>128.165870</td>\n",
              "      <td>17</td>\n",
              "      <td>15</td>\n",
              "      <td>0</td>\n",
              "      <td>0.71</td>\n",
              "      <td>38.44</td>\n",
              "      <td>24.7</td>\n",
              "      <td>96</td>\n",
              "    </tr>\n",
              "    <tr>\n",
              "      <th>242</th>\n",
              "      <td>70000</td>\n",
              "      <td>Jeju-do</td>\n",
              "      <td>Jeju-do</td>\n",
              "      <td>33.488936</td>\n",
              "      <td>126.500423</td>\n",
              "      <td>113</td>\n",
              "      <td>123</td>\n",
              "      <td>4</td>\n",
              "      <td>1.53</td>\n",
              "      <td>15.10</td>\n",
              "      <td>6.4</td>\n",
              "      <td>1245</td>\n",
              "    </tr>\n",
              "    <tr>\n",
              "      <th>243</th>\n",
              "      <td>80000</td>\n",
              "      <td>Korea</td>\n",
              "      <td>Korea</td>\n",
              "      <td>37.566953</td>\n",
              "      <td>126.977977</td>\n",
              "      <td>6087</td>\n",
              "      <td>8837</td>\n",
              "      <td>340</td>\n",
              "      <td>1.56</td>\n",
              "      <td>15.67</td>\n",
              "      <td>7.2</td>\n",
              "      <td>94865</td>\n",
              "    </tr>\n",
              "  </tbody>\n",
              "</table>\n",
              "</div>"
            ],
            "text/plain": [
              "      code          province  ... elderly_alone_ratio  nursing_home_count\n",
              "239  61160  Gyeongsangnam-do  ...                14.7                  94\n",
              "240  61170  Gyeongsangnam-do  ...                20.9                  83\n",
              "241  61180  Gyeongsangnam-do  ...                24.7                  96\n",
              "242  70000           Jeju-do  ...                 6.4                1245\n",
              "243  80000             Korea  ...                 7.2               94865\n",
              "\n",
              "[5 rows x 12 columns]"
            ]
          },
          "metadata": {},
          "execution_count": 247
        }
      ]
    },
    {
      "cell_type": "markdown",
      "metadata": {
        "id": "Y1mgqrjo57-6"
      },
      "source": [
        "- 데이터 마지막에 누계값이 포함되어 있습니다."
      ]
    },
    {
      "cell_type": "code",
      "metadata": {
        "colab": {
          "base_uri": "https://localhost:8080/"
        },
        "id": "fRIvtYjU5yXQ",
        "outputId": "d5b486a4-23b4-4c26-a4ed-ec208f927863"
      },
      "source": [
        "region.info()"
      ],
      "execution_count": 248,
      "outputs": [
        {
          "output_type": "stream",
          "name": "stdout",
          "text": [
            "<class 'pandas.core.frame.DataFrame'>\n",
            "RangeIndex: 244 entries, 0 to 243\n",
            "Data columns (total 12 columns):\n",
            " #   Column                    Non-Null Count  Dtype  \n",
            "---  ------                    --------------  -----  \n",
            " 0   code                      244 non-null    int64  \n",
            " 1   province                  244 non-null    object \n",
            " 2   city                      244 non-null    object \n",
            " 3   latitude                  244 non-null    float64\n",
            " 4   longitude                 244 non-null    float64\n",
            " 5   elementary_school_count   244 non-null    int64  \n",
            " 6   kindergarten_count        244 non-null    int64  \n",
            " 7   university_count          244 non-null    int64  \n",
            " 8   academy_ratio             244 non-null    float64\n",
            " 9   elderly_population_ratio  244 non-null    float64\n",
            " 10  elderly_alone_ratio       244 non-null    float64\n",
            " 11  nursing_home_count        244 non-null    int64  \n",
            "dtypes: float64(5), int64(5), object(2)\n",
            "memory usage: 23.0+ KB\n"
          ]
        }
      ]
    },
    {
      "cell_type": "code",
      "metadata": {
        "id": "G5QIhDN0_WDm",
        "colab": {
          "base_uri": "https://localhost:8080/",
          "height": 319
        },
        "outputId": "15ca06de-da26-4eaa-f431-2250c48206be"
      },
      "source": [
        "region.describe()  # 데이터 마지막에 누계 값이 포함되어 있어 max 값은 아마도 누계 값일 것 입니다."
      ],
      "execution_count": 249,
      "outputs": [
        {
          "output_type": "execute_result",
          "data": {
            "text/html": [
              "<div>\n",
              "<style scoped>\n",
              "    .dataframe tbody tr th:only-of-type {\n",
              "        vertical-align: middle;\n",
              "    }\n",
              "\n",
              "    .dataframe tbody tr th {\n",
              "        vertical-align: top;\n",
              "    }\n",
              "\n",
              "    .dataframe thead th {\n",
              "        text-align: right;\n",
              "    }\n",
              "</style>\n",
              "<table border=\"1\" class=\"dataframe\">\n",
              "  <thead>\n",
              "    <tr style=\"text-align: right;\">\n",
              "      <th></th>\n",
              "      <th>code</th>\n",
              "      <th>latitude</th>\n",
              "      <th>longitude</th>\n",
              "      <th>elementary_school_count</th>\n",
              "      <th>kindergarten_count</th>\n",
              "      <th>university_count</th>\n",
              "      <th>academy_ratio</th>\n",
              "      <th>elderly_population_ratio</th>\n",
              "      <th>elderly_alone_ratio</th>\n",
              "      <th>nursing_home_count</th>\n",
              "    </tr>\n",
              "  </thead>\n",
              "  <tbody>\n",
              "    <tr>\n",
              "      <th>count</th>\n",
              "      <td>244.000000</td>\n",
              "      <td>244.000000</td>\n",
              "      <td>244.000000</td>\n",
              "      <td>244.000000</td>\n",
              "      <td>244.000000</td>\n",
              "      <td>244.000000</td>\n",
              "      <td>244.000000</td>\n",
              "      <td>244.000000</td>\n",
              "      <td>244.000000</td>\n",
              "      <td>244.000000</td>\n",
              "    </tr>\n",
              "    <tr>\n",
              "      <th>mean</th>\n",
              "      <td>32912.090164</td>\n",
              "      <td>36.396996</td>\n",
              "      <td>127.661401</td>\n",
              "      <td>74.180328</td>\n",
              "      <td>107.901639</td>\n",
              "      <td>4.151639</td>\n",
              "      <td>1.294754</td>\n",
              "      <td>20.923730</td>\n",
              "      <td>10.644672</td>\n",
              "      <td>1159.258197</td>\n",
              "    </tr>\n",
              "    <tr>\n",
              "      <th>std</th>\n",
              "      <td>19373.349736</td>\n",
              "      <td>1.060304</td>\n",
              "      <td>0.904781</td>\n",
              "      <td>402.713482</td>\n",
              "      <td>588.788320</td>\n",
              "      <td>22.513041</td>\n",
              "      <td>0.592898</td>\n",
              "      <td>8.087428</td>\n",
              "      <td>5.604886</td>\n",
              "      <td>6384.185085</td>\n",
              "    </tr>\n",
              "    <tr>\n",
              "      <th>min</th>\n",
              "      <td>10000.000000</td>\n",
              "      <td>33.488936</td>\n",
              "      <td>126.263554</td>\n",
              "      <td>4.000000</td>\n",
              "      <td>4.000000</td>\n",
              "      <td>0.000000</td>\n",
              "      <td>0.190000</td>\n",
              "      <td>7.690000</td>\n",
              "      <td>3.300000</td>\n",
              "      <td>11.000000</td>\n",
              "    </tr>\n",
              "    <tr>\n",
              "      <th>25%</th>\n",
              "      <td>14027.500000</td>\n",
              "      <td>35.405263</td>\n",
              "      <td>126.927663</td>\n",
              "      <td>14.750000</td>\n",
              "      <td>16.000000</td>\n",
              "      <td>0.000000</td>\n",
              "      <td>0.870000</td>\n",
              "      <td>14.117500</td>\n",
              "      <td>6.100000</td>\n",
              "      <td>111.000000</td>\n",
              "    </tr>\n",
              "    <tr>\n",
              "      <th>50%</th>\n",
              "      <td>30075.000000</td>\n",
              "      <td>36.386601</td>\n",
              "      <td>127.384250</td>\n",
              "      <td>22.000000</td>\n",
              "      <td>31.000000</td>\n",
              "      <td>1.000000</td>\n",
              "      <td>1.270000</td>\n",
              "      <td>18.530000</td>\n",
              "      <td>8.750000</td>\n",
              "      <td>300.000000</td>\n",
              "    </tr>\n",
              "    <tr>\n",
              "      <th>75%</th>\n",
              "      <td>51062.500000</td>\n",
              "      <td>37.466119</td>\n",
              "      <td>128.473953</td>\n",
              "      <td>36.250000</td>\n",
              "      <td>55.250000</td>\n",
              "      <td>3.000000</td>\n",
              "      <td>1.612500</td>\n",
              "      <td>27.262500</td>\n",
              "      <td>14.625000</td>\n",
              "      <td>694.500000</td>\n",
              "    </tr>\n",
              "    <tr>\n",
              "      <th>max</th>\n",
              "      <td>80000.000000</td>\n",
              "      <td>38.380571</td>\n",
              "      <td>130.905883</td>\n",
              "      <td>6087.000000</td>\n",
              "      <td>8837.000000</td>\n",
              "      <td>340.000000</td>\n",
              "      <td>4.180000</td>\n",
              "      <td>40.260000</td>\n",
              "      <td>24.700000</td>\n",
              "      <td>94865.000000</td>\n",
              "    </tr>\n",
              "  </tbody>\n",
              "</table>\n",
              "</div>"
            ],
            "text/plain": [
              "               code    latitude  ...  elderly_alone_ratio  nursing_home_count\n",
              "count    244.000000  244.000000  ...           244.000000          244.000000\n",
              "mean   32912.090164   36.396996  ...            10.644672         1159.258197\n",
              "std    19373.349736    1.060304  ...             5.604886         6384.185085\n",
              "min    10000.000000   33.488936  ...             3.300000           11.000000\n",
              "25%    14027.500000   35.405263  ...             6.100000          111.000000\n",
              "50%    30075.000000   36.386601  ...             8.750000          300.000000\n",
              "75%    51062.500000   37.466119  ...            14.625000          694.500000\n",
              "max    80000.000000   38.380571  ...            24.700000        94865.000000\n",
              "\n",
              "[8 rows x 10 columns]"
            ]
          },
          "metadata": {},
          "execution_count": 249
        }
      ]
    },
    {
      "cell_type": "code",
      "metadata": {
        "colab": {
          "base_uri": "https://localhost:8080/"
        },
        "id": "ZYWGUfK_53el",
        "outputId": "0c7efb04-2749-4dfd-cc30-c206489fec35"
      },
      "source": [
        "region.isnull().sum()"
      ],
      "execution_count": 250,
      "outputs": [
        {
          "output_type": "execute_result",
          "data": {
            "text/plain": [
              "code                        0\n",
              "province                    0\n",
              "city                        0\n",
              "latitude                    0\n",
              "longitude                   0\n",
              "elementary_school_count     0\n",
              "kindergarten_count          0\n",
              "university_count            0\n",
              "academy_ratio               0\n",
              "elderly_population_ratio    0\n",
              "elderly_alone_ratio         0\n",
              "nursing_home_count          0\n",
              "dtype: int64"
            ]
          },
          "metadata": {},
          "execution_count": 250
        }
      ]
    },
    {
      "cell_type": "markdown",
      "metadata": {
        "id": "SavA_rI3CAvu"
      },
      "source": [
        "### 09. Weather (날씨 정보)"
      ]
    },
    {
      "cell_type": "code",
      "metadata": {
        "colab": {
          "base_uri": "https://localhost:8080/",
          "height": 330
        },
        "id": "zAkvVP5DMutL",
        "outputId": "51c64de5-fd65-446d-f852-7c486f002e20"
      },
      "source": [
        "print('Weather 크기: ', weather.shape)\n",
        "weather.head()"
      ],
      "execution_count": 251,
      "outputs": [
        {
          "output_type": "stream",
          "name": "stdout",
          "text": [
            "Weather 크기:  (25295, 10)\n"
          ]
        },
        {
          "output_type": "execute_result",
          "data": {
            "text/html": [
              "<div>\n",
              "<style scoped>\n",
              "    .dataframe tbody tr th:only-of-type {\n",
              "        vertical-align: middle;\n",
              "    }\n",
              "\n",
              "    .dataframe tbody tr th {\n",
              "        vertical-align: top;\n",
              "    }\n",
              "\n",
              "    .dataframe thead th {\n",
              "        text-align: right;\n",
              "    }\n",
              "</style>\n",
              "<table border=\"1\" class=\"dataframe\">\n",
              "  <thead>\n",
              "    <tr style=\"text-align: right;\">\n",
              "      <th></th>\n",
              "      <th>code</th>\n",
              "      <th>province</th>\n",
              "      <th>date</th>\n",
              "      <th>avg_temp</th>\n",
              "      <th>min_temp</th>\n",
              "      <th>max_temp</th>\n",
              "      <th>precipitation</th>\n",
              "      <th>max_wind_speed</th>\n",
              "      <th>most_wind_direction</th>\n",
              "      <th>avg_relative_humidity</th>\n",
              "    </tr>\n",
              "  </thead>\n",
              "  <tbody>\n",
              "    <tr>\n",
              "      <th>0</th>\n",
              "      <td>10000</td>\n",
              "      <td>Seoul</td>\n",
              "      <td>2016-01-01</td>\n",
              "      <td>1.2</td>\n",
              "      <td>-3.3</td>\n",
              "      <td>4.0</td>\n",
              "      <td>0.0</td>\n",
              "      <td>3.5</td>\n",
              "      <td>90.0</td>\n",
              "      <td>73.0</td>\n",
              "    </tr>\n",
              "    <tr>\n",
              "      <th>1</th>\n",
              "      <td>11000</td>\n",
              "      <td>Busan</td>\n",
              "      <td>2016-01-01</td>\n",
              "      <td>5.3</td>\n",
              "      <td>1.1</td>\n",
              "      <td>10.9</td>\n",
              "      <td>0.0</td>\n",
              "      <td>7.4</td>\n",
              "      <td>340.0</td>\n",
              "      <td>52.1</td>\n",
              "    </tr>\n",
              "    <tr>\n",
              "      <th>2</th>\n",
              "      <td>12000</td>\n",
              "      <td>Daegu</td>\n",
              "      <td>2016-01-01</td>\n",
              "      <td>1.7</td>\n",
              "      <td>-4.0</td>\n",
              "      <td>8.0</td>\n",
              "      <td>0.0</td>\n",
              "      <td>3.7</td>\n",
              "      <td>270.0</td>\n",
              "      <td>70.5</td>\n",
              "    </tr>\n",
              "    <tr>\n",
              "      <th>3</th>\n",
              "      <td>13000</td>\n",
              "      <td>Gwangju</td>\n",
              "      <td>2016-01-01</td>\n",
              "      <td>3.2</td>\n",
              "      <td>-1.5</td>\n",
              "      <td>8.1</td>\n",
              "      <td>0.0</td>\n",
              "      <td>2.7</td>\n",
              "      <td>230.0</td>\n",
              "      <td>73.1</td>\n",
              "    </tr>\n",
              "    <tr>\n",
              "      <th>4</th>\n",
              "      <td>14000</td>\n",
              "      <td>Incheon</td>\n",
              "      <td>2016-01-01</td>\n",
              "      <td>3.1</td>\n",
              "      <td>-0.4</td>\n",
              "      <td>5.7</td>\n",
              "      <td>0.0</td>\n",
              "      <td>5.3</td>\n",
              "      <td>180.0</td>\n",
              "      <td>83.9</td>\n",
              "    </tr>\n",
              "  </tbody>\n",
              "</table>\n",
              "</div>"
            ],
            "text/plain": [
              "    code province  ... most_wind_direction  avg_relative_humidity\n",
              "0  10000    Seoul  ...                90.0                   73.0\n",
              "1  11000    Busan  ...               340.0                   52.1\n",
              "2  12000    Daegu  ...               270.0                   70.5\n",
              "3  13000  Gwangju  ...               230.0                   73.1\n",
              "4  14000  Incheon  ...               180.0                   83.9\n",
              "\n",
              "[5 rows x 10 columns]"
            ]
          },
          "metadata": {},
          "execution_count": 251
        }
      ]
    },
    {
      "cell_type": "markdown",
      "metadata": {
        "id": "JJzWoxlc7LFE"
      },
      "source": [
        "- 날씨 데이터가 2016년 1월 1일부터 존재한다."
      ]
    },
    {
      "cell_type": "code",
      "metadata": {
        "colab": {
          "base_uri": "https://localhost:8080/"
        },
        "id": "NsW7V1B2Cbiq",
        "outputId": "d83d5674-49a8-480e-b7be-f53138945cb3"
      },
      "source": [
        "weather.info()"
      ],
      "execution_count": 252,
      "outputs": [
        {
          "output_type": "stream",
          "name": "stdout",
          "text": [
            "<class 'pandas.core.frame.DataFrame'>\n",
            "RangeIndex: 25295 entries, 0 to 25294\n",
            "Data columns (total 10 columns):\n",
            " #   Column                 Non-Null Count  Dtype  \n",
            "---  ------                 --------------  -----  \n",
            " 0   code                   25295 non-null  int64  \n",
            " 1   province               25295 non-null  object \n",
            " 2   date                   25295 non-null  object \n",
            " 3   avg_temp               25280 non-null  float64\n",
            " 4   min_temp               25290 non-null  float64\n",
            " 5   max_temp               25292 non-null  float64\n",
            " 6   precipitation          25295 non-null  float64\n",
            " 7   max_wind_speed         25286 non-null  float64\n",
            " 8   most_wind_direction    25266 non-null  float64\n",
            " 9   avg_relative_humidity  25275 non-null  float64\n",
            "dtypes: float64(7), int64(1), object(2)\n",
            "memory usage: 1.9+ MB\n"
          ]
        }
      ]
    },
    {
      "cell_type": "code",
      "metadata": {
        "colab": {
          "base_uri": "https://localhost:8080/",
          "height": 319
        },
        "id": "znrSdE6O7SaZ",
        "outputId": "5dbc7394-1935-4326-d144-5567669b3966"
      },
      "source": [
        "weather.describe()"
      ],
      "execution_count": 253,
      "outputs": [
        {
          "output_type": "execute_result",
          "data": {
            "text/html": [
              "<div>\n",
              "<style scoped>\n",
              "    .dataframe tbody tr th:only-of-type {\n",
              "        vertical-align: middle;\n",
              "    }\n",
              "\n",
              "    .dataframe tbody tr th {\n",
              "        vertical-align: top;\n",
              "    }\n",
              "\n",
              "    .dataframe thead th {\n",
              "        text-align: right;\n",
              "    }\n",
              "</style>\n",
              "<table border=\"1\" class=\"dataframe\">\n",
              "  <thead>\n",
              "    <tr style=\"text-align: right;\">\n",
              "      <th></th>\n",
              "      <th>code</th>\n",
              "      <th>avg_temp</th>\n",
              "      <th>min_temp</th>\n",
              "      <th>max_temp</th>\n",
              "      <th>precipitation</th>\n",
              "      <th>max_wind_speed</th>\n",
              "      <th>most_wind_direction</th>\n",
              "      <th>avg_relative_humidity</th>\n",
              "    </tr>\n",
              "  </thead>\n",
              "  <tbody>\n",
              "    <tr>\n",
              "      <th>count</th>\n",
              "      <td>25295.00000</td>\n",
              "      <td>25280.000000</td>\n",
              "      <td>25290.00000</td>\n",
              "      <td>25292.000000</td>\n",
              "      <td>25295.000000</td>\n",
              "      <td>25286.000000</td>\n",
              "      <td>25266.00000</td>\n",
              "      <td>25275.000000</td>\n",
              "    </tr>\n",
              "    <tr>\n",
              "      <th>mean</th>\n",
              "      <td>32124.64914</td>\n",
              "      <td>13.604964</td>\n",
              "      <td>9.41193</td>\n",
              "      <td>18.518306</td>\n",
              "      <td>3.253742</td>\n",
              "      <td>5.116590</td>\n",
              "      <td>196.16639</td>\n",
              "      <td>65.453598</td>\n",
              "    </tr>\n",
              "    <tr>\n",
              "      <th>std</th>\n",
              "      <td>20313.51486</td>\n",
              "      <td>9.588969</td>\n",
              "      <td>9.97471</td>\n",
              "      <td>9.641624</td>\n",
              "      <td>12.605453</td>\n",
              "      <td>2.028242</td>\n",
              "      <td>106.76164</td>\n",
              "      <td>17.254674</td>\n",
              "    </tr>\n",
              "    <tr>\n",
              "      <th>min</th>\n",
              "      <td>10000.00000</td>\n",
              "      <td>-14.800000</td>\n",
              "      <td>-19.20000</td>\n",
              "      <td>-11.900000</td>\n",
              "      <td>0.000000</td>\n",
              "      <td>1.000000</td>\n",
              "      <td>20.00000</td>\n",
              "      <td>10.400000</td>\n",
              "    </tr>\n",
              "    <tr>\n",
              "      <th>25%</th>\n",
              "      <td>13500.00000</td>\n",
              "      <td>5.700000</td>\n",
              "      <td>1.10000</td>\n",
              "      <td>10.600000</td>\n",
              "      <td>0.000000</td>\n",
              "      <td>3.800000</td>\n",
              "      <td>90.00000</td>\n",
              "      <td>53.300000</td>\n",
              "    </tr>\n",
              "    <tr>\n",
              "      <th>50%</th>\n",
              "      <td>20000.00000</td>\n",
              "      <td>14.000000</td>\n",
              "      <td>9.30000</td>\n",
              "      <td>19.300000</td>\n",
              "      <td>0.000000</td>\n",
              "      <td>4.700000</td>\n",
              "      <td>230.00000</td>\n",
              "      <td>66.600000</td>\n",
              "    </tr>\n",
              "    <tr>\n",
              "      <th>75%</th>\n",
              "      <td>50500.00000</td>\n",
              "      <td>21.900000</td>\n",
              "      <td>18.00000</td>\n",
              "      <td>26.600000</td>\n",
              "      <td>0.200000</td>\n",
              "      <td>6.000000</td>\n",
              "      <td>290.00000</td>\n",
              "      <td>78.500000</td>\n",
              "    </tr>\n",
              "    <tr>\n",
              "      <th>max</th>\n",
              "      <td>70000.00000</td>\n",
              "      <td>33.900000</td>\n",
              "      <td>30.30000</td>\n",
              "      <td>40.000000</td>\n",
              "      <td>310.000000</td>\n",
              "      <td>29.400000</td>\n",
              "      <td>360.00000</td>\n",
              "      <td>100.000000</td>\n",
              "    </tr>\n",
              "  </tbody>\n",
              "</table>\n",
              "</div>"
            ],
            "text/plain": [
              "              code      avg_temp  ...  most_wind_direction  avg_relative_humidity\n",
              "count  25295.00000  25280.000000  ...          25266.00000           25275.000000\n",
              "mean   32124.64914     13.604964  ...            196.16639              65.453598\n",
              "std    20313.51486      9.588969  ...            106.76164              17.254674\n",
              "min    10000.00000    -14.800000  ...             20.00000              10.400000\n",
              "25%    13500.00000      5.700000  ...             90.00000              53.300000\n",
              "50%    20000.00000     14.000000  ...            230.00000              66.600000\n",
              "75%    50500.00000     21.900000  ...            290.00000              78.500000\n",
              "max    70000.00000     33.900000  ...            360.00000             100.000000\n",
              "\n",
              "[8 rows x 8 columns]"
            ]
          },
          "metadata": {},
          "execution_count": 253
        }
      ]
    },
    {
      "cell_type": "code",
      "metadata": {
        "colab": {
          "base_uri": "https://localhost:8080/"
        },
        "id": "3TKN48tajxMF",
        "outputId": "d087fb52-327e-4aee-f1aa-875124df8560"
      },
      "source": [
        "# 결측치 확인\n",
        "weather.isnull().sum()"
      ],
      "execution_count": 254,
      "outputs": [
        {
          "output_type": "execute_result",
          "data": {
            "text/plain": [
              "code                      0\n",
              "province                  0\n",
              "date                      0\n",
              "avg_temp                 15\n",
              "min_temp                  5\n",
              "max_temp                  3\n",
              "precipitation             0\n",
              "max_wind_speed            9\n",
              "most_wind_direction      29\n",
              "avg_relative_humidity    20\n",
              "dtype: int64"
            ]
          },
          "metadata": {},
          "execution_count": 254
        }
      ]
    },
    {
      "cell_type": "markdown",
      "metadata": {
        "id": "-O7Mf0WbC66S"
      },
      "source": [
        "- 전체 데이터 크기 대비 결측치의 개수가 많지 않아 각 지역별 평균 값으로 대체해줘도 무방할 것 같다.\n"
      ]
    },
    {
      "cell_type": "markdown",
      "metadata": {
        "id": "S11jIxpSDcep"
      },
      "source": [
        "### 10. Search Trend (검색 트렌드)"
      ]
    },
    {
      "cell_type": "code",
      "metadata": {
        "colab": {
          "base_uri": "https://localhost:8080/",
          "height": 0
        },
        "id": "lWOOd-M_Mwlu",
        "outputId": "b0aa1c53-0838-467f-fbf0-858c5e553754"
      },
      "source": [
        "print('Search Trend 크기: ', searchtrend.shape)\n",
        "searchtrend.head()"
      ],
      "execution_count": 255,
      "outputs": [
        {
          "output_type": "stream",
          "name": "stdout",
          "text": [
            "Search Trend 크기:  (1581, 5)\n"
          ]
        },
        {
          "output_type": "execute_result",
          "data": {
            "text/html": [
              "<div>\n",
              "<style scoped>\n",
              "    .dataframe tbody tr th:only-of-type {\n",
              "        vertical-align: middle;\n",
              "    }\n",
              "\n",
              "    .dataframe tbody tr th {\n",
              "        vertical-align: top;\n",
              "    }\n",
              "\n",
              "    .dataframe thead th {\n",
              "        text-align: right;\n",
              "    }\n",
              "</style>\n",
              "<table border=\"1\" class=\"dataframe\">\n",
              "  <thead>\n",
              "    <tr style=\"text-align: right;\">\n",
              "      <th></th>\n",
              "      <th>date</th>\n",
              "      <th>cold</th>\n",
              "      <th>flu</th>\n",
              "      <th>pneumonia</th>\n",
              "      <th>coronavirus</th>\n",
              "    </tr>\n",
              "  </thead>\n",
              "  <tbody>\n",
              "    <tr>\n",
              "      <th>0</th>\n",
              "      <td>2016-01-01</td>\n",
              "      <td>0.11663</td>\n",
              "      <td>0.05590</td>\n",
              "      <td>0.15726</td>\n",
              "      <td>0.00736</td>\n",
              "    </tr>\n",
              "    <tr>\n",
              "      <th>1</th>\n",
              "      <td>2016-01-02</td>\n",
              "      <td>0.13372</td>\n",
              "      <td>0.17135</td>\n",
              "      <td>0.20826</td>\n",
              "      <td>0.00890</td>\n",
              "    </tr>\n",
              "    <tr>\n",
              "      <th>2</th>\n",
              "      <td>2016-01-03</td>\n",
              "      <td>0.14917</td>\n",
              "      <td>0.22317</td>\n",
              "      <td>0.19326</td>\n",
              "      <td>0.00845</td>\n",
              "    </tr>\n",
              "    <tr>\n",
              "      <th>3</th>\n",
              "      <td>2016-01-04</td>\n",
              "      <td>0.17463</td>\n",
              "      <td>0.18626</td>\n",
              "      <td>0.29008</td>\n",
              "      <td>0.01145</td>\n",
              "    </tr>\n",
              "    <tr>\n",
              "      <th>4</th>\n",
              "      <td>2016-01-05</td>\n",
              "      <td>0.17226</td>\n",
              "      <td>0.15072</td>\n",
              "      <td>0.24562</td>\n",
              "      <td>0.01381</td>\n",
              "    </tr>\n",
              "  </tbody>\n",
              "</table>\n",
              "</div>"
            ],
            "text/plain": [
              "         date     cold      flu  pneumonia  coronavirus\n",
              "0  2016-01-01  0.11663  0.05590    0.15726      0.00736\n",
              "1  2016-01-02  0.13372  0.17135    0.20826      0.00890\n",
              "2  2016-01-03  0.14917  0.22317    0.19326      0.00845\n",
              "3  2016-01-04  0.17463  0.18626    0.29008      0.01145\n",
              "4  2016-01-05  0.17226  0.15072    0.24562      0.01381"
            ]
          },
          "metadata": {},
          "execution_count": 255
        }
      ]
    },
    {
      "cell_type": "code",
      "metadata": {
        "id": "-mrwCTEymKYn",
        "colab": {
          "base_uri": "https://localhost:8080/",
          "height": 0
        },
        "outputId": "a92c04e6-ee34-428d-82b3-2a48f3c3dbfd"
      },
      "source": [
        "searchtrend.tail()"
      ],
      "execution_count": 256,
      "outputs": [
        {
          "output_type": "execute_result",
          "data": {
            "text/html": [
              "<div>\n",
              "<style scoped>\n",
              "    .dataframe tbody tr th:only-of-type {\n",
              "        vertical-align: middle;\n",
              "    }\n",
              "\n",
              "    .dataframe tbody tr th {\n",
              "        vertical-align: top;\n",
              "    }\n",
              "\n",
              "    .dataframe thead th {\n",
              "        text-align: right;\n",
              "    }\n",
              "</style>\n",
              "<table border=\"1\" class=\"dataframe\">\n",
              "  <thead>\n",
              "    <tr style=\"text-align: right;\">\n",
              "      <th></th>\n",
              "      <th>date</th>\n",
              "      <th>cold</th>\n",
              "      <th>flu</th>\n",
              "      <th>pneumonia</th>\n",
              "      <th>coronavirus</th>\n",
              "    </tr>\n",
              "  </thead>\n",
              "  <tbody>\n",
              "    <tr>\n",
              "      <th>1576</th>\n",
              "      <td>2020-04-25</td>\n",
              "      <td>0.12781</td>\n",
              "      <td>0.02709</td>\n",
              "      <td>0.08672</td>\n",
              "      <td>4.13405</td>\n",
              "    </tr>\n",
              "    <tr>\n",
              "      <th>1577</th>\n",
              "      <td>2020-04-26</td>\n",
              "      <td>0.13363</td>\n",
              "      <td>0.03263</td>\n",
              "      <td>0.08136</td>\n",
              "      <td>3.95342</td>\n",
              "    </tr>\n",
              "    <tr>\n",
              "      <th>1578</th>\n",
              "      <td>2020-04-27</td>\n",
              "      <td>0.11226</td>\n",
              "      <td>0.04427</td>\n",
              "      <td>0.10390</td>\n",
              "      <td>4.11033</td>\n",
              "    </tr>\n",
              "    <tr>\n",
              "      <th>1579</th>\n",
              "      <td>2020-04-28</td>\n",
              "      <td>0.11481</td>\n",
              "      <td>0.03981</td>\n",
              "      <td>0.10336</td>\n",
              "      <td>3.73088</td>\n",
              "    </tr>\n",
              "    <tr>\n",
              "      <th>1580</th>\n",
              "      <td>2020-04-29</td>\n",
              "      <td>0.10781</td>\n",
              "      <td>0.04163</td>\n",
              "      <td>0.09136</td>\n",
              "      <td>3.78952</td>\n",
              "    </tr>\n",
              "  </tbody>\n",
              "</table>\n",
              "</div>"
            ],
            "text/plain": [
              "            date     cold      flu  pneumonia  coronavirus\n",
              "1576  2020-04-25  0.12781  0.02709    0.08672      4.13405\n",
              "1577  2020-04-26  0.13363  0.03263    0.08136      3.95342\n",
              "1578  2020-04-27  0.11226  0.04427    0.10390      4.11033\n",
              "1579  2020-04-28  0.11481  0.03981    0.10336      3.73088\n",
              "1580  2020-04-29  0.10781  0.04163    0.09136      3.78952"
            ]
          },
          "metadata": {},
          "execution_count": 256
        }
      ]
    },
    {
      "cell_type": "code",
      "metadata": {
        "colab": {
          "base_uri": "https://localhost:8080/",
          "height": 0
        },
        "id": "q17L22xZ8IM3",
        "outputId": "e71b32c2-f672-45da-e4d6-ea404387fb3d"
      },
      "source": [
        "searchtrend.describe()"
      ],
      "execution_count": 257,
      "outputs": [
        {
          "output_type": "execute_result",
          "data": {
            "text/html": [
              "<div>\n",
              "<style scoped>\n",
              "    .dataframe tbody tr th:only-of-type {\n",
              "        vertical-align: middle;\n",
              "    }\n",
              "\n",
              "    .dataframe tbody tr th {\n",
              "        vertical-align: top;\n",
              "    }\n",
              "\n",
              "    .dataframe thead th {\n",
              "        text-align: right;\n",
              "    }\n",
              "</style>\n",
              "<table border=\"1\" class=\"dataframe\">\n",
              "  <thead>\n",
              "    <tr style=\"text-align: right;\">\n",
              "      <th></th>\n",
              "      <th>cold</th>\n",
              "      <th>flu</th>\n",
              "      <th>pneumonia</th>\n",
              "      <th>coronavirus</th>\n",
              "    </tr>\n",
              "  </thead>\n",
              "  <tbody>\n",
              "    <tr>\n",
              "      <th>count</th>\n",
              "      <td>1581.000000</td>\n",
              "      <td>1581.000000</td>\n",
              "      <td>1581.000000</td>\n",
              "      <td>1581.000000</td>\n",
              "    </tr>\n",
              "    <tr>\n",
              "      <th>mean</th>\n",
              "      <td>0.193522</td>\n",
              "      <td>0.252883</td>\n",
              "      <td>0.225827</td>\n",
              "      <td>1.796793</td>\n",
              "    </tr>\n",
              "    <tr>\n",
              "      <th>std</th>\n",
              "      <td>0.468075</td>\n",
              "      <td>0.775704</td>\n",
              "      <td>0.471297</td>\n",
              "      <td>9.203093</td>\n",
              "    </tr>\n",
              "    <tr>\n",
              "      <th>min</th>\n",
              "      <td>0.051630</td>\n",
              "      <td>0.009810</td>\n",
              "      <td>0.068810</td>\n",
              "      <td>0.001540</td>\n",
              "    </tr>\n",
              "    <tr>\n",
              "      <th>25%</th>\n",
              "      <td>0.107080</td>\n",
              "      <td>0.044540</td>\n",
              "      <td>0.131350</td>\n",
              "      <td>0.006270</td>\n",
              "    </tr>\n",
              "    <tr>\n",
              "      <th>50%</th>\n",
              "      <td>0.134630</td>\n",
              "      <td>0.104260</td>\n",
              "      <td>0.166990</td>\n",
              "      <td>0.008630</td>\n",
              "    </tr>\n",
              "    <tr>\n",
              "      <th>75%</th>\n",
              "      <td>0.166990</td>\n",
              "      <td>0.258710</td>\n",
              "      <td>0.211630</td>\n",
              "      <td>0.012450</td>\n",
              "    </tr>\n",
              "    <tr>\n",
              "      <th>max</th>\n",
              "      <td>15.720710</td>\n",
              "      <td>27.327270</td>\n",
              "      <td>11.393200</td>\n",
              "      <td>100.000000</td>\n",
              "    </tr>\n",
              "  </tbody>\n",
              "</table>\n",
              "</div>"
            ],
            "text/plain": [
              "              cold          flu    pneumonia  coronavirus\n",
              "count  1581.000000  1581.000000  1581.000000  1581.000000\n",
              "mean      0.193522     0.252883     0.225827     1.796793\n",
              "std       0.468075     0.775704     0.471297     9.203093\n",
              "min       0.051630     0.009810     0.068810     0.001540\n",
              "25%       0.107080     0.044540     0.131350     0.006270\n",
              "50%       0.134630     0.104260     0.166990     0.008630\n",
              "75%       0.166990     0.258710     0.211630     0.012450\n",
              "max      15.720710    27.327270    11.393200   100.000000"
            ]
          },
          "metadata": {},
          "execution_count": 257
        }
      ]
    },
    {
      "cell_type": "code",
      "metadata": {
        "colab": {
          "base_uri": "https://localhost:8080/",
          "height": 0
        },
        "id": "6TAdWdmw8S7v",
        "outputId": "8aef3073-9769-4d25-976a-1aca3f3a3a8b"
      },
      "source": [
        "# 감기 검색량이 최고치를 찍은 날짜\n",
        "searchtrend[searchtrend['cold'] == searchtrend['cold'].max()]"
      ],
      "execution_count": 258,
      "outputs": [
        {
          "output_type": "execute_result",
          "data": {
            "text/html": [
              "<div>\n",
              "<style scoped>\n",
              "    .dataframe tbody tr th:only-of-type {\n",
              "        vertical-align: middle;\n",
              "    }\n",
              "\n",
              "    .dataframe tbody tr th {\n",
              "        vertical-align: top;\n",
              "    }\n",
              "\n",
              "    .dataframe thead th {\n",
              "        text-align: right;\n",
              "    }\n",
              "</style>\n",
              "<table border=\"1\" class=\"dataframe\">\n",
              "  <thead>\n",
              "    <tr style=\"text-align: right;\">\n",
              "      <th></th>\n",
              "      <th>date</th>\n",
              "      <th>cold</th>\n",
              "      <th>flu</th>\n",
              "      <th>pneumonia</th>\n",
              "      <th>coronavirus</th>\n",
              "    </tr>\n",
              "  </thead>\n",
              "  <tbody>\n",
              "    <tr>\n",
              "      <th>1165</th>\n",
              "      <td>2019-03-11</td>\n",
              "      <td>15.72071</td>\n",
              "      <td>0.15381</td>\n",
              "      <td>0.16272</td>\n",
              "      <td>0.00836</td>\n",
              "    </tr>\n",
              "  </tbody>\n",
              "</table>\n",
              "</div>"
            ],
            "text/plain": [
              "            date      cold      flu  pneumonia  coronavirus\n",
              "1165  2019-03-11  15.72071  0.15381    0.16272      0.00836"
            ]
          },
          "metadata": {},
          "execution_count": 258
        }
      ]
    },
    {
      "cell_type": "code",
      "metadata": {
        "colab": {
          "base_uri": "https://localhost:8080/",
          "height": 0
        },
        "id": "O2gLm2OJ9UE4",
        "outputId": "b37f4164-378f-4c72-8a87-a2ceff0b2e68"
      },
      "source": [
        "# 독감 검색량이 최고치를 찍은 날짜\n",
        "searchtrend[searchtrend['flu'] == searchtrend['flu'].max()]"
      ],
      "execution_count": 259,
      "outputs": [
        {
          "output_type": "execute_result",
          "data": {
            "text/html": [
              "<div>\n",
              "<style scoped>\n",
              "    .dataframe tbody tr th:only-of-type {\n",
              "        vertical-align: middle;\n",
              "    }\n",
              "\n",
              "    .dataframe tbody tr th {\n",
              "        vertical-align: top;\n",
              "    }\n",
              "\n",
              "    .dataframe thead th {\n",
              "        text-align: right;\n",
              "    }\n",
              "</style>\n",
              "<table border=\"1\" class=\"dataframe\">\n",
              "  <thead>\n",
              "    <tr style=\"text-align: right;\">\n",
              "      <th></th>\n",
              "      <th>date</th>\n",
              "      <th>cold</th>\n",
              "      <th>flu</th>\n",
              "      <th>pneumonia</th>\n",
              "      <th>coronavirus</th>\n",
              "    </tr>\n",
              "  </thead>\n",
              "  <tbody>\n",
              "    <tr>\n",
              "      <th>354</th>\n",
              "      <td>2016-12-20</td>\n",
              "      <td>0.37553</td>\n",
              "      <td>27.32727</td>\n",
              "      <td>0.3278</td>\n",
              "      <td>0.02436</td>\n",
              "    </tr>\n",
              "  </tbody>\n",
              "</table>\n",
              "</div>"
            ],
            "text/plain": [
              "           date     cold       flu  pneumonia  coronavirus\n",
              "354  2016-12-20  0.37553  27.32727     0.3278      0.02436"
            ]
          },
          "metadata": {},
          "execution_count": 259
        }
      ]
    },
    {
      "cell_type": "code",
      "metadata": {
        "colab": {
          "base_uri": "https://localhost:8080/",
          "height": 0
        },
        "id": "aprDHsdV9TaZ",
        "outputId": "83778b62-cfc3-4558-e01b-06dee4798815"
      },
      "source": [
        "# 폐렴 검색량이 최고치를 찍은 날짜\n",
        "searchtrend[searchtrend['pneumonia'] == searchtrend['pneumonia'].max()]"
      ],
      "execution_count": 260,
      "outputs": [
        {
          "output_type": "execute_result",
          "data": {
            "text/html": [
              "<div>\n",
              "<style scoped>\n",
              "    .dataframe tbody tr th:only-of-type {\n",
              "        vertical-align: middle;\n",
              "    }\n",
              "\n",
              "    .dataframe tbody tr th {\n",
              "        vertical-align: top;\n",
              "    }\n",
              "\n",
              "    .dataframe thead th {\n",
              "        text-align: right;\n",
              "    }\n",
              "</style>\n",
              "<table border=\"1\" class=\"dataframe\">\n",
              "  <thead>\n",
              "    <tr style=\"text-align: right;\">\n",
              "      <th></th>\n",
              "      <th>date</th>\n",
              "      <th>cold</th>\n",
              "      <th>flu</th>\n",
              "      <th>pneumonia</th>\n",
              "      <th>coronavirus</th>\n",
              "    </tr>\n",
              "  </thead>\n",
              "  <tbody>\n",
              "    <tr>\n",
              "      <th>1468</th>\n",
              "      <td>2020-01-08</td>\n",
              "      <td>0.1949</td>\n",
              "      <td>0.81824</td>\n",
              "      <td>11.3932</td>\n",
              "      <td>0.02636</td>\n",
              "    </tr>\n",
              "  </tbody>\n",
              "</table>\n",
              "</div>"
            ],
            "text/plain": [
              "            date    cold      flu  pneumonia  coronavirus\n",
              "1468  2020-01-08  0.1949  0.81824    11.3932      0.02636"
            ]
          },
          "metadata": {},
          "execution_count": 260
        }
      ]
    },
    {
      "cell_type": "code",
      "metadata": {
        "colab": {
          "base_uri": "https://localhost:8080/",
          "height": 0
        },
        "id": "3byBVZpP9XWI",
        "outputId": "49c9e7f6-e040-41e2-95a0-34492f4d9b67"
      },
      "source": [
        "# 코로나19 검색량이 최고치를 찍은 날짜\n",
        "searchtrend[searchtrend['coronavirus'] == searchtrend['coronavirus'].max()]"
      ],
      "execution_count": 261,
      "outputs": [
        {
          "output_type": "execute_result",
          "data": {
            "text/html": [
              "<div>\n",
              "<style scoped>\n",
              "    .dataframe tbody tr th:only-of-type {\n",
              "        vertical-align: middle;\n",
              "    }\n",
              "\n",
              "    .dataframe tbody tr th {\n",
              "        vertical-align: top;\n",
              "    }\n",
              "\n",
              "    .dataframe thead th {\n",
              "        text-align: right;\n",
              "    }\n",
              "</style>\n",
              "<table border=\"1\" class=\"dataframe\">\n",
              "  <thead>\n",
              "    <tr style=\"text-align: right;\">\n",
              "      <th></th>\n",
              "      <th>date</th>\n",
              "      <th>cold</th>\n",
              "      <th>flu</th>\n",
              "      <th>pneumonia</th>\n",
              "      <th>coronavirus</th>\n",
              "    </tr>\n",
              "  </thead>\n",
              "  <tbody>\n",
              "    <tr>\n",
              "      <th>1483</th>\n",
              "      <td>2020-01-23</td>\n",
              "      <td>0.30308</td>\n",
              "      <td>0.55625</td>\n",
              "      <td>3.18035</td>\n",
              "      <td>100.0</td>\n",
              "    </tr>\n",
              "  </tbody>\n",
              "</table>\n",
              "</div>"
            ],
            "text/plain": [
              "            date     cold      flu  pneumonia  coronavirus\n",
              "1483  2020-01-23  0.30308  0.55625    3.18035        100.0"
            ]
          },
          "metadata": {},
          "execution_count": 261
        }
      ]
    },
    {
      "cell_type": "code",
      "metadata": {
        "colab": {
          "base_uri": "https://localhost:8080/"
        },
        "id": "Hzh2NMNQ9Bol",
        "outputId": "9191f9f6-96b6-4e8c-addb-0dc50c2609a0"
      },
      "source": [
        "searchtrend.isnull().sum()"
      ],
      "execution_count": 262,
      "outputs": [
        {
          "output_type": "execute_result",
          "data": {
            "text/plain": [
              "date           0\n",
              "cold           0\n",
              "flu            0\n",
              "pneumonia      0\n",
              "coronavirus    0\n",
              "dtype: int64"
            ]
          },
          "metadata": {},
          "execution_count": 262
        }
      ]
    },
    {
      "cell_type": "markdown",
      "metadata": {
        "id": "46ZAo-ksEfkZ"
      },
      "source": [
        "### 11. Seoul Floating"
      ]
    },
    {
      "cell_type": "code",
      "metadata": {
        "colab": {
          "base_uri": "https://localhost:8080/",
          "height": 224
        },
        "id": "nIDmjGO1NBp1",
        "outputId": "b7b8f133-e3d1-48dc-f21c-2149203fbaad"
      },
      "source": [
        "print('Seoul Floating 크기: ', seoulfloating.shape)\n",
        "seoulfloating.head()"
      ],
      "execution_count": 263,
      "outputs": [
        {
          "output_type": "stream",
          "name": "stdout",
          "text": [
            "Seoul Floating 크기:  (432000, 7)\n"
          ]
        },
        {
          "output_type": "execute_result",
          "data": {
            "text/html": [
              "<div>\n",
              "<style scoped>\n",
              "    .dataframe tbody tr th:only-of-type {\n",
              "        vertical-align: middle;\n",
              "    }\n",
              "\n",
              "    .dataframe tbody tr th {\n",
              "        vertical-align: top;\n",
              "    }\n",
              "\n",
              "    .dataframe thead th {\n",
              "        text-align: right;\n",
              "    }\n",
              "</style>\n",
              "<table border=\"1\" class=\"dataframe\">\n",
              "  <thead>\n",
              "    <tr style=\"text-align: right;\">\n",
              "      <th></th>\n",
              "      <th>date</th>\n",
              "      <th>hour</th>\n",
              "      <th>birth_year</th>\n",
              "      <th>sex</th>\n",
              "      <th>province</th>\n",
              "      <th>city</th>\n",
              "      <th>fp_num</th>\n",
              "    </tr>\n",
              "  </thead>\n",
              "  <tbody>\n",
              "    <tr>\n",
              "      <th>0</th>\n",
              "      <td>2020-01-01</td>\n",
              "      <td>0</td>\n",
              "      <td>20</td>\n",
              "      <td>female</td>\n",
              "      <td>Seoul</td>\n",
              "      <td>Dobong-gu</td>\n",
              "      <td>19140</td>\n",
              "    </tr>\n",
              "    <tr>\n",
              "      <th>1</th>\n",
              "      <td>2020-01-01</td>\n",
              "      <td>0</td>\n",
              "      <td>20</td>\n",
              "      <td>male</td>\n",
              "      <td>Seoul</td>\n",
              "      <td>Dobong-gu</td>\n",
              "      <td>19950</td>\n",
              "    </tr>\n",
              "    <tr>\n",
              "      <th>2</th>\n",
              "      <td>2020-01-01</td>\n",
              "      <td>0</td>\n",
              "      <td>20</td>\n",
              "      <td>female</td>\n",
              "      <td>Seoul</td>\n",
              "      <td>Dongdaemun-gu</td>\n",
              "      <td>25450</td>\n",
              "    </tr>\n",
              "    <tr>\n",
              "      <th>3</th>\n",
              "      <td>2020-01-01</td>\n",
              "      <td>0</td>\n",
              "      <td>20</td>\n",
              "      <td>male</td>\n",
              "      <td>Seoul</td>\n",
              "      <td>Dongdaemun-gu</td>\n",
              "      <td>27050</td>\n",
              "    </tr>\n",
              "    <tr>\n",
              "      <th>4</th>\n",
              "      <td>2020-01-01</td>\n",
              "      <td>0</td>\n",
              "      <td>20</td>\n",
              "      <td>female</td>\n",
              "      <td>Seoul</td>\n",
              "      <td>Dongjag-gu</td>\n",
              "      <td>28880</td>\n",
              "    </tr>\n",
              "  </tbody>\n",
              "</table>\n",
              "</div>"
            ],
            "text/plain": [
              "         date  hour  birth_year     sex province           city  fp_num\n",
              "0  2020-01-01     0          20  female    Seoul      Dobong-gu   19140\n",
              "1  2020-01-01     0          20    male    Seoul      Dobong-gu   19950\n",
              "2  2020-01-01     0          20  female    Seoul  Dongdaemun-gu   25450\n",
              "3  2020-01-01     0          20    male    Seoul  Dongdaemun-gu   27050\n",
              "4  2020-01-01     0          20  female    Seoul     Dongjag-gu   28880"
            ]
          },
          "metadata": {},
          "execution_count": 263
        }
      ]
    },
    {
      "cell_type": "code",
      "metadata": {
        "colab": {
          "base_uri": "https://localhost:8080/"
        },
        "id": "0XFxGfyME9qU",
        "outputId": "27b34633-1c18-4717-d928-18e7348b2af0"
      },
      "source": [
        "seoulfloating.info()"
      ],
      "execution_count": 264,
      "outputs": [
        {
          "output_type": "stream",
          "name": "stdout",
          "text": [
            "<class 'pandas.core.frame.DataFrame'>\n",
            "RangeIndex: 432000 entries, 0 to 431999\n",
            "Data columns (total 7 columns):\n",
            " #   Column      Non-Null Count   Dtype \n",
            "---  ------      --------------   ----- \n",
            " 0   date        432000 non-null  object\n",
            " 1   hour        432000 non-null  int64 \n",
            " 2   birth_year  432000 non-null  int64 \n",
            " 3   sex         432000 non-null  object\n",
            " 4   province    432000 non-null  object\n",
            " 5   city        432000 non-null  object\n",
            " 6   fp_num      432000 non-null  int64 \n",
            "dtypes: int64(3), object(4)\n",
            "memory usage: 23.1+ MB\n"
          ]
        }
      ]
    },
    {
      "cell_type": "code",
      "metadata": {
        "colab": {
          "base_uri": "https://localhost:8080/",
          "height": 299
        },
        "id": "ysSezEHN-Pqx",
        "outputId": "54ab061c-9afe-4bdc-9dee-0da145af96fb"
      },
      "source": [
        "seoulfloating.describe()"
      ],
      "execution_count": 265,
      "outputs": [
        {
          "output_type": "execute_result",
          "data": {
            "text/html": [
              "<div>\n",
              "<style scoped>\n",
              "    .dataframe tbody tr th:only-of-type {\n",
              "        vertical-align: middle;\n",
              "    }\n",
              "\n",
              "    .dataframe tbody tr th {\n",
              "        vertical-align: top;\n",
              "    }\n",
              "\n",
              "    .dataframe thead th {\n",
              "        text-align: right;\n",
              "    }\n",
              "</style>\n",
              "<table border=\"1\" class=\"dataframe\">\n",
              "  <thead>\n",
              "    <tr style=\"text-align: right;\">\n",
              "      <th></th>\n",
              "      <th>hour</th>\n",
              "      <th>birth_year</th>\n",
              "      <th>fp_num</th>\n",
              "    </tr>\n",
              "  </thead>\n",
              "  <tbody>\n",
              "    <tr>\n",
              "      <th>count</th>\n",
              "      <td>432000.000000</td>\n",
              "      <td>432000.000000</td>\n",
              "      <td>432000.000000</td>\n",
              "    </tr>\n",
              "    <tr>\n",
              "      <th>mean</th>\n",
              "      <td>11.500000</td>\n",
              "      <td>45.000000</td>\n",
              "      <td>27860.034884</td>\n",
              "    </tr>\n",
              "    <tr>\n",
              "      <th>std</th>\n",
              "      <td>6.922195</td>\n",
              "      <td>17.078271</td>\n",
              "      <td>13122.838441</td>\n",
              "    </tr>\n",
              "    <tr>\n",
              "      <th>min</th>\n",
              "      <td>0.000000</td>\n",
              "      <td>20.000000</td>\n",
              "      <td>4480.000000</td>\n",
              "    </tr>\n",
              "    <tr>\n",
              "      <th>25%</th>\n",
              "      <td>5.750000</td>\n",
              "      <td>30.000000</td>\n",
              "      <td>18940.000000</td>\n",
              "    </tr>\n",
              "    <tr>\n",
              "      <th>50%</th>\n",
              "      <td>11.500000</td>\n",
              "      <td>45.000000</td>\n",
              "      <td>25690.000000</td>\n",
              "    </tr>\n",
              "    <tr>\n",
              "      <th>75%</th>\n",
              "      <td>17.250000</td>\n",
              "      <td>60.000000</td>\n",
              "      <td>34000.000000</td>\n",
              "    </tr>\n",
              "    <tr>\n",
              "      <th>max</th>\n",
              "      <td>23.000000</td>\n",
              "      <td>70.000000</td>\n",
              "      <td>127640.000000</td>\n",
              "    </tr>\n",
              "  </tbody>\n",
              "</table>\n",
              "</div>"
            ],
            "text/plain": [
              "                hour     birth_year         fp_num\n",
              "count  432000.000000  432000.000000  432000.000000\n",
              "mean       11.500000      45.000000   27860.034884\n",
              "std         6.922195      17.078271   13122.838441\n",
              "min         0.000000      20.000000    4480.000000\n",
              "25%         5.750000      30.000000   18940.000000\n",
              "50%        11.500000      45.000000   25690.000000\n",
              "75%        17.250000      60.000000   34000.000000\n",
              "max        23.000000      70.000000  127640.000000"
            ]
          },
          "metadata": {},
          "execution_count": 265
        }
      ]
    },
    {
      "cell_type": "code",
      "metadata": {
        "colab": {
          "base_uri": "https://localhost:8080/",
          "height": 81
        },
        "id": "O1bvMKqj-dkP",
        "outputId": "5d09e484-877c-4772-e37a-d1414af047a9"
      },
      "source": [
        "seoulfloating[seoulfloating['fp_num'] == seoulfloating['fp_num'].max()]"
      ],
      "execution_count": 266,
      "outputs": [
        {
          "output_type": "execute_result",
          "data": {
            "text/html": [
              "<div>\n",
              "<style scoped>\n",
              "    .dataframe tbody tr th:only-of-type {\n",
              "        vertical-align: middle;\n",
              "    }\n",
              "\n",
              "    .dataframe tbody tr th {\n",
              "        vertical-align: top;\n",
              "    }\n",
              "\n",
              "    .dataframe thead th {\n",
              "        text-align: right;\n",
              "    }\n",
              "</style>\n",
              "<table border=\"1\" class=\"dataframe\">\n",
              "  <thead>\n",
              "    <tr style=\"text-align: right;\">\n",
              "      <th></th>\n",
              "      <th>date</th>\n",
              "      <th>hour</th>\n",
              "      <th>birth_year</th>\n",
              "      <th>sex</th>\n",
              "      <th>province</th>\n",
              "      <th>city</th>\n",
              "      <th>fp_num</th>\n",
              "    </tr>\n",
              "  </thead>\n",
              "  <tbody>\n",
              "    <tr>\n",
              "      <th>246712</th>\n",
              "      <td>2020-02-04</td>\n",
              "      <td>14</td>\n",
              "      <td>30</td>\n",
              "      <td>female</td>\n",
              "      <td>Seoul</td>\n",
              "      <td>Gangnam-gu</td>\n",
              "      <td>127640</td>\n",
              "    </tr>\n",
              "  </tbody>\n",
              "</table>\n",
              "</div>"
            ],
            "text/plain": [
              "              date  hour  birth_year     sex province        city  fp_num\n",
              "246712  2020-02-04    14          30  female    Seoul  Gangnam-gu  127640"
            ]
          },
          "metadata": {},
          "execution_count": 266
        }
      ]
    },
    {
      "cell_type": "code",
      "metadata": {
        "colab": {
          "base_uri": "https://localhost:8080/",
          "height": 175
        },
        "id": "XYXO6Jxb-S_X",
        "outputId": "84d32088-ffe5-401f-f207-b43348cdd614"
      },
      "source": [
        "seoulfloating.describe(include=object)"
      ],
      "execution_count": 267,
      "outputs": [
        {
          "output_type": "execute_result",
          "data": {
            "text/html": [
              "<div>\n",
              "<style scoped>\n",
              "    .dataframe tbody tr th:only-of-type {\n",
              "        vertical-align: middle;\n",
              "    }\n",
              "\n",
              "    .dataframe tbody tr th {\n",
              "        vertical-align: top;\n",
              "    }\n",
              "\n",
              "    .dataframe thead th {\n",
              "        text-align: right;\n",
              "    }\n",
              "</style>\n",
              "<table border=\"1\" class=\"dataframe\">\n",
              "  <thead>\n",
              "    <tr style=\"text-align: right;\">\n",
              "      <th></th>\n",
              "      <th>date</th>\n",
              "      <th>sex</th>\n",
              "      <th>province</th>\n",
              "      <th>city</th>\n",
              "    </tr>\n",
              "  </thead>\n",
              "  <tbody>\n",
              "    <tr>\n",
              "      <th>count</th>\n",
              "      <td>432000</td>\n",
              "      <td>432000</td>\n",
              "      <td>432000</td>\n",
              "      <td>432000</td>\n",
              "    </tr>\n",
              "    <tr>\n",
              "      <th>unique</th>\n",
              "      <td>60</td>\n",
              "      <td>2</td>\n",
              "      <td>1</td>\n",
              "      <td>25</td>\n",
              "    </tr>\n",
              "    <tr>\n",
              "      <th>top</th>\n",
              "      <td>2020-01-09</td>\n",
              "      <td>male</td>\n",
              "      <td>Seoul</td>\n",
              "      <td>Seodaemun-gu</td>\n",
              "    </tr>\n",
              "    <tr>\n",
              "      <th>freq</th>\n",
              "      <td>7200</td>\n",
              "      <td>216000</td>\n",
              "      <td>432000</td>\n",
              "      <td>17280</td>\n",
              "    </tr>\n",
              "  </tbody>\n",
              "</table>\n",
              "</div>"
            ],
            "text/plain": [
              "              date     sex province          city\n",
              "count       432000  432000   432000        432000\n",
              "unique          60       2        1            25\n",
              "top     2020-01-09    male    Seoul  Seodaemun-gu\n",
              "freq          7200  216000   432000         17280"
            ]
          },
          "metadata": {},
          "execution_count": 267
        }
      ]
    },
    {
      "cell_type": "code",
      "metadata": {
        "colab": {
          "base_uri": "https://localhost:8080/"
        },
        "id": "d2hASnR1-x5n",
        "outputId": "00d26dea-64f8-47e3-9b0c-6d1e0cabe81b"
      },
      "source": [
        "seoulfloating.isnull().sum()"
      ],
      "execution_count": 268,
      "outputs": [
        {
          "output_type": "execute_result",
          "data": {
            "text/plain": [
              "date          0\n",
              "hour          0\n",
              "birth_year    0\n",
              "sex           0\n",
              "province      0\n",
              "city          0\n",
              "fp_num        0\n",
              "dtype: int64"
            ]
          },
          "metadata": {},
          "execution_count": 268
        }
      ]
    },
    {
      "cell_type": "markdown",
      "metadata": {
        "id": "GvBH-VK5FiAi"
      },
      "source": [
        "### 12. Policy\n",
        "- 48개의 코로나 관련 정부 정책 정보이다."
      ]
    },
    {
      "cell_type": "code",
      "metadata": {
        "colab": {
          "base_uri": "https://localhost:8080/",
          "height": 224
        },
        "id": "aV2Mvxb1NEck",
        "outputId": "5952adbf-8c4e-4557-e7c8-20f8b8c298c9"
      },
      "source": [
        "print('Policy 크기: ', policy.shape)\n",
        "policy.head()"
      ],
      "execution_count": 269,
      "outputs": [
        {
          "output_type": "stream",
          "name": "stdout",
          "text": [
            "Policy 크기:  (48, 7)\n"
          ]
        },
        {
          "output_type": "execute_result",
          "data": {
            "text/html": [
              "<div>\n",
              "<style scoped>\n",
              "    .dataframe tbody tr th:only-of-type {\n",
              "        vertical-align: middle;\n",
              "    }\n",
              "\n",
              "    .dataframe tbody tr th {\n",
              "        vertical-align: top;\n",
              "    }\n",
              "\n",
              "    .dataframe thead th {\n",
              "        text-align: right;\n",
              "    }\n",
              "</style>\n",
              "<table border=\"1\" class=\"dataframe\">\n",
              "  <thead>\n",
              "    <tr style=\"text-align: right;\">\n",
              "      <th></th>\n",
              "      <th>policy_id</th>\n",
              "      <th>country</th>\n",
              "      <th>type</th>\n",
              "      <th>gov_policy</th>\n",
              "      <th>detail</th>\n",
              "      <th>start_date</th>\n",
              "      <th>end_date</th>\n",
              "    </tr>\n",
              "  </thead>\n",
              "  <tbody>\n",
              "    <tr>\n",
              "      <th>0</th>\n",
              "      <td>1</td>\n",
              "      <td>Korea</td>\n",
              "      <td>Alert</td>\n",
              "      <td>Infectious Disease Alert Level</td>\n",
              "      <td>Level 1 (Blue)</td>\n",
              "      <td>2020-01-03</td>\n",
              "      <td>2020-01-19</td>\n",
              "    </tr>\n",
              "    <tr>\n",
              "      <th>1</th>\n",
              "      <td>2</td>\n",
              "      <td>Korea</td>\n",
              "      <td>Alert</td>\n",
              "      <td>Infectious Disease Alert Level</td>\n",
              "      <td>Level 2 (Yellow)</td>\n",
              "      <td>2020-01-20</td>\n",
              "      <td>2020-01-27</td>\n",
              "    </tr>\n",
              "    <tr>\n",
              "      <th>2</th>\n",
              "      <td>3</td>\n",
              "      <td>Korea</td>\n",
              "      <td>Alert</td>\n",
              "      <td>Infectious Disease Alert Level</td>\n",
              "      <td>Level 3 (Orange)</td>\n",
              "      <td>2020-01-28</td>\n",
              "      <td>2020-02-22</td>\n",
              "    </tr>\n",
              "    <tr>\n",
              "      <th>3</th>\n",
              "      <td>4</td>\n",
              "      <td>Korea</td>\n",
              "      <td>Alert</td>\n",
              "      <td>Infectious Disease Alert Level</td>\n",
              "      <td>Level 4 (Red)</td>\n",
              "      <td>2020-02-23</td>\n",
              "      <td>NaN</td>\n",
              "    </tr>\n",
              "    <tr>\n",
              "      <th>4</th>\n",
              "      <td>5</td>\n",
              "      <td>Korea</td>\n",
              "      <td>Immigration</td>\n",
              "      <td>Special Immigration Procedure</td>\n",
              "      <td>from China</td>\n",
              "      <td>2020-02-04</td>\n",
              "      <td>NaN</td>\n",
              "    </tr>\n",
              "  </tbody>\n",
              "</table>\n",
              "</div>"
            ],
            "text/plain": [
              "   policy_id country         type  ...            detail  start_date    end_date\n",
              "0          1   Korea        Alert  ...    Level 1 (Blue)  2020-01-03  2020-01-19\n",
              "1          2   Korea        Alert  ...  Level 2 (Yellow)  2020-01-20  2020-01-27\n",
              "2          3   Korea        Alert  ...  Level 3 (Orange)  2020-01-28  2020-02-22\n",
              "3          4   Korea        Alert  ...     Level 4 (Red)  2020-02-23         NaN\n",
              "4          5   Korea  Immigration  ...        from China  2020-02-04         NaN\n",
              "\n",
              "[5 rows x 7 columns]"
            ]
          },
          "metadata": {},
          "execution_count": 269
        }
      ]
    },
    {
      "cell_type": "code",
      "metadata": {
        "colab": {
          "base_uri": "https://localhost:8080/",
          "height": 175
        },
        "id": "5UrMGvpB_HyH",
        "outputId": "132e8b58-1427-4b36-b3df-37c6f2bddf43"
      },
      "source": [
        "policy.describe(include=object)"
      ],
      "execution_count": 270,
      "outputs": [
        {
          "output_type": "execute_result",
          "data": {
            "text/html": [
              "<div>\n",
              "<style scoped>\n",
              "    .dataframe tbody tr th:only-of-type {\n",
              "        vertical-align: middle;\n",
              "    }\n",
              "\n",
              "    .dataframe tbody tr th {\n",
              "        vertical-align: top;\n",
              "    }\n",
              "\n",
              "    .dataframe thead th {\n",
              "        text-align: right;\n",
              "    }\n",
              "</style>\n",
              "<table border=\"1\" class=\"dataframe\">\n",
              "  <thead>\n",
              "    <tr style=\"text-align: right;\">\n",
              "      <th></th>\n",
              "      <th>country</th>\n",
              "      <th>type</th>\n",
              "      <th>gov_policy</th>\n",
              "      <th>detail</th>\n",
              "      <th>start_date</th>\n",
              "      <th>end_date</th>\n",
              "    </tr>\n",
              "  </thead>\n",
              "  <tbody>\n",
              "    <tr>\n",
              "      <th>count</th>\n",
              "      <td>48</td>\n",
              "      <td>48</td>\n",
              "      <td>48</td>\n",
              "      <td>46</td>\n",
              "      <td>48</td>\n",
              "      <td>10</td>\n",
              "    </tr>\n",
              "    <tr>\n",
              "      <th>unique</th>\n",
              "      <td>1</td>\n",
              "      <td>6</td>\n",
              "      <td>17</td>\n",
              "      <td>44</td>\n",
              "      <td>26</td>\n",
              "      <td>7</td>\n",
              "    </tr>\n",
              "    <tr>\n",
              "      <th>top</th>\n",
              "      <td>Korea</td>\n",
              "      <td>Immigration</td>\n",
              "      <td>Special Immigration Procedure</td>\n",
              "      <td>from all the countries</td>\n",
              "      <td>2020-03-15</td>\n",
              "      <td>2020-04-06</td>\n",
              "    </tr>\n",
              "    <tr>\n",
              "      <th>freq</th>\n",
              "      <td>48</td>\n",
              "      <td>15</td>\n",
              "      <td>13</td>\n",
              "      <td>2</td>\n",
              "      <td>5</td>\n",
              "      <td>4</td>\n",
              "    </tr>\n",
              "  </tbody>\n",
              "</table>\n",
              "</div>"
            ],
            "text/plain": [
              "       country         type  ...  start_date    end_date\n",
              "count       48           48  ...          48          10\n",
              "unique       1            6  ...          26           7\n",
              "top      Korea  Immigration  ...  2020-03-15  2020-04-06\n",
              "freq        48           15  ...           5           4\n",
              "\n",
              "[4 rows x 6 columns]"
            ]
          },
          "metadata": {},
          "execution_count": 270
        }
      ]
    },
    {
      "cell_type": "code",
      "metadata": {
        "colab": {
          "base_uri": "https://localhost:8080/"
        },
        "id": "kVY7AQf4DnN4",
        "outputId": "8bdbe09f-14ff-4514-c44e-f6c86b5378f8"
      },
      "source": [
        "policy.isnull().sum()"
      ],
      "execution_count": 271,
      "outputs": [
        {
          "output_type": "execute_result",
          "data": {
            "text/plain": [
              "policy_id      0\n",
              "country        0\n",
              "type           0\n",
              "gov_policy     0\n",
              "detail         2\n",
              "start_date     0\n",
              "end_date      38\n",
              "dtype: int64"
            ]
          },
          "metadata": {},
          "execution_count": 271
        }
      ]
    },
    {
      "cell_type": "markdown",
      "metadata": {
        "id": "52V57FdHcQqp"
      },
      "source": [
        "## 2-2. 데이터 전처리"
      ]
    },
    {
      "cell_type": "markdown",
      "metadata": {
        "id": "IiYp6Vj6sM0Z"
      },
      "source": [
        "### 01. Case"
      ]
    },
    {
      "cell_type": "code",
      "metadata": {
        "colab": {
          "base_uri": "https://localhost:8080/",
          "height": 205
        },
        "id": "LKJ-hMS4cxpL",
        "outputId": "30f37293-9cca-4895-8a00-147ec87b04b0"
      },
      "source": [
        "case.head()"
      ],
      "execution_count": 272,
      "outputs": [
        {
          "output_type": "execute_result",
          "data": {
            "text/html": [
              "<div>\n",
              "<style scoped>\n",
              "    .dataframe tbody tr th:only-of-type {\n",
              "        vertical-align: middle;\n",
              "    }\n",
              "\n",
              "    .dataframe tbody tr th {\n",
              "        vertical-align: top;\n",
              "    }\n",
              "\n",
              "    .dataframe thead th {\n",
              "        text-align: right;\n",
              "    }\n",
              "</style>\n",
              "<table border=\"1\" class=\"dataframe\">\n",
              "  <thead>\n",
              "    <tr style=\"text-align: right;\">\n",
              "      <th></th>\n",
              "      <th>case_id</th>\n",
              "      <th>province</th>\n",
              "      <th>city</th>\n",
              "      <th>group</th>\n",
              "      <th>infection_case</th>\n",
              "      <th>confirmed</th>\n",
              "      <th>latitude</th>\n",
              "      <th>longitude</th>\n",
              "    </tr>\n",
              "  </thead>\n",
              "  <tbody>\n",
              "    <tr>\n",
              "      <th>0</th>\n",
              "      <td>1000001</td>\n",
              "      <td>Seoul</td>\n",
              "      <td>Guro-gu</td>\n",
              "      <td>True</td>\n",
              "      <td>Guro-gu Call Center</td>\n",
              "      <td>98</td>\n",
              "      <td>37.508163</td>\n",
              "      <td>126.884387</td>\n",
              "    </tr>\n",
              "    <tr>\n",
              "      <th>1</th>\n",
              "      <td>1000002</td>\n",
              "      <td>Seoul</td>\n",
              "      <td>Dongdaemun-gu</td>\n",
              "      <td>True</td>\n",
              "      <td>Dongan Church</td>\n",
              "      <td>20</td>\n",
              "      <td>37.592888</td>\n",
              "      <td>127.056766</td>\n",
              "    </tr>\n",
              "    <tr>\n",
              "      <th>2</th>\n",
              "      <td>1000003</td>\n",
              "      <td>Seoul</td>\n",
              "      <td>Guro-gu</td>\n",
              "      <td>True</td>\n",
              "      <td>Manmin Central Church</td>\n",
              "      <td>41</td>\n",
              "      <td>37.481059</td>\n",
              "      <td>126.894343</td>\n",
              "    </tr>\n",
              "    <tr>\n",
              "      <th>3</th>\n",
              "      <td>1000004</td>\n",
              "      <td>Seoul</td>\n",
              "      <td>Eunpyeong-gu</td>\n",
              "      <td>True</td>\n",
              "      <td>Eunpyeong St. Mary's Hospital</td>\n",
              "      <td>14</td>\n",
              "      <td>37.63369</td>\n",
              "      <td>126.9165</td>\n",
              "    </tr>\n",
              "    <tr>\n",
              "      <th>4</th>\n",
              "      <td>1000005</td>\n",
              "      <td>Seoul</td>\n",
              "      <td>Seongdong-gu</td>\n",
              "      <td>True</td>\n",
              "      <td>Seongdong-gu APT</td>\n",
              "      <td>13</td>\n",
              "      <td>37.55713</td>\n",
              "      <td>127.0403</td>\n",
              "    </tr>\n",
              "  </tbody>\n",
              "</table>\n",
              "</div>"
            ],
            "text/plain": [
              "   case_id province           city  ...  confirmed   latitude   longitude\n",
              "0  1000001    Seoul        Guro-gu  ...         98  37.508163  126.884387\n",
              "1  1000002    Seoul  Dongdaemun-gu  ...         20  37.592888  127.056766\n",
              "2  1000003    Seoul        Guro-gu  ...         41  37.481059  126.894343\n",
              "3  1000004    Seoul   Eunpyeong-gu  ...         14   37.63369    126.9165\n",
              "4  1000005    Seoul   Seongdong-gu  ...         13   37.55713    127.0403\n",
              "\n",
              "[5 rows x 8 columns]"
            ]
          },
          "metadata": {},
          "execution_count": 272
        }
      ]
    },
    {
      "cell_type": "code",
      "metadata": {
        "colab": {
          "base_uri": "https://localhost:8080/"
        },
        "id": "7Doyijwyd7Zn",
        "outputId": "82ed7762-ba67-469c-eede-a7747278ab46"
      },
      "source": [
        "# 확진자 수 집계\n",
        "print('확진자 수 : ', case['confirmed'].sum(), '명')"
      ],
      "execution_count": 273,
      "outputs": [
        {
          "output_type": "stream",
          "name": "stdout",
          "text": [
            "확진자 수 :  9849 명\n"
          ]
        }
      ]
    },
    {
      "cell_type": "code",
      "metadata": {
        "colab": {
          "base_uri": "https://localhost:8080/",
          "height": 143
        },
        "id": "dxLIzSX4edL-",
        "outputId": "e24a725d-e5a5-4d4c-9004-ede7a7c7d50a"
      },
      "source": [
        "# 그룹별 확진자 수, 비율\n",
        "case_group = case.groupby('group')['confirmed'].sum().to_frame().sort_values(by='confirmed', ascending=False)\n",
        "case_group['ratio'] = case.groupby('group')['confirmed'].sum() / case['confirmed'].sum()\n",
        "case_group"
      ],
      "execution_count": 274,
      "outputs": [
        {
          "output_type": "execute_result",
          "data": {
            "text/html": [
              "<div>\n",
              "<style scoped>\n",
              "    .dataframe tbody tr th:only-of-type {\n",
              "        vertical-align: middle;\n",
              "    }\n",
              "\n",
              "    .dataframe tbody tr th {\n",
              "        vertical-align: top;\n",
              "    }\n",
              "\n",
              "    .dataframe thead th {\n",
              "        text-align: right;\n",
              "    }\n",
              "</style>\n",
              "<table border=\"1\" class=\"dataframe\">\n",
              "  <thead>\n",
              "    <tr style=\"text-align: right;\">\n",
              "      <th></th>\n",
              "      <th>confirmed</th>\n",
              "      <th>ratio</th>\n",
              "    </tr>\n",
              "    <tr>\n",
              "      <th>group</th>\n",
              "      <th></th>\n",
              "      <th></th>\n",
              "    </tr>\n",
              "  </thead>\n",
              "  <tbody>\n",
              "    <tr>\n",
              "      <th>True</th>\n",
              "      <td>6792</td>\n",
              "      <td>0.689613</td>\n",
              "    </tr>\n",
              "    <tr>\n",
              "      <th>False</th>\n",
              "      <td>3057</td>\n",
              "      <td>0.310387</td>\n",
              "    </tr>\n",
              "  </tbody>\n",
              "</table>\n",
              "</div>"
            ],
            "text/plain": [
              "       confirmed     ratio\n",
              "group                     \n",
              "True        6792  0.689613\n",
              "False       3057  0.310387"
            ]
          },
          "metadata": {},
          "execution_count": 274
        }
      ]
    },
    {
      "cell_type": "code",
      "metadata": {
        "colab": {
          "base_uri": "https://localhost:8080/",
          "height": 279
        },
        "id": "g407jkL1sgU_",
        "outputId": "fd6dcca9-2433-4b82-ecba-22eb1f68665f"
      },
      "source": [
        "# 그룹별 확진자 수, 비율 시각화\n",
        "case_group = case.groupby('group', as_index=False)['confirmed'].sum()\n",
        "sns.barplot(x='group', y='confirmed', data=case_group)\n",
        "plt.show()"
      ],
      "execution_count": 275,
      "outputs": [
        {
          "output_type": "display_data",
          "data": {
            "image/png": "[encoded data removed]",
            "text/plain": [
              "<Figure size 432x288 with 1 Axes>"
            ]
          },
          "metadata": {
            "needs_background": "light"
          }
        }
      ]
    },
    {
      "cell_type": "code",
      "metadata": {
        "colab": {
          "base_uri": "https://localhost:8080/",
          "height": 236
        },
        "id": "-35PVdlyqbk-",
        "outputId": "d8fe73f1-9586-4e0a-8408-305f09da509a"
      },
      "source": [
        "# 집단감염인 경우(True)의 감염루트\n",
        "case_group_t = case[case['group'] == True]\n",
        "case_group_t = case_group_t.groupby('infection_case')['confirmed'].sum().to_frame().sort_values(by='confirmed', ascending=False)\n",
        "case_group_t['ratio'] = case_group_t.groupby('infection_case')['confirmed'].sum() / case_group_t['confirmed'].sum()\n",
        "case_group_t.head()"
      ],
      "execution_count": 276,
      "outputs": [
        {
          "output_type": "execute_result",
          "data": {
            "text/html": [
              "<div>\n",
              "<style scoped>\n",
              "    .dataframe tbody tr th:only-of-type {\n",
              "        vertical-align: middle;\n",
              "    }\n",
              "\n",
              "    .dataframe tbody tr th {\n",
              "        vertical-align: top;\n",
              "    }\n",
              "\n",
              "    .dataframe thead th {\n",
              "        text-align: right;\n",
              "    }\n",
              "</style>\n",
              "<table border=\"1\" class=\"dataframe\">\n",
              "  <thead>\n",
              "    <tr style=\"text-align: right;\">\n",
              "      <th></th>\n",
              "      <th>confirmed</th>\n",
              "      <th>ratio</th>\n",
              "    </tr>\n",
              "    <tr>\n",
              "      <th>infection_case</th>\n",
              "      <th></th>\n",
              "      <th></th>\n",
              "    </tr>\n",
              "  </thead>\n",
              "  <tbody>\n",
              "    <tr>\n",
              "      <th>Shincheonji Church</th>\n",
              "      <td>5212</td>\n",
              "      <td>0.767373</td>\n",
              "    </tr>\n",
              "    <tr>\n",
              "      <th>Second Mi-Ju Hospital</th>\n",
              "      <td>196</td>\n",
              "      <td>0.028857</td>\n",
              "    </tr>\n",
              "    <tr>\n",
              "      <th>Guro-gu Call Center</th>\n",
              "      <td>166</td>\n",
              "      <td>0.024441</td>\n",
              "    </tr>\n",
              "    <tr>\n",
              "      <th>Hansarang Convalescent Hospital</th>\n",
              "      <td>128</td>\n",
              "      <td>0.018846</td>\n",
              "    </tr>\n",
              "    <tr>\n",
              "      <th>Cheongdo Daenam Hospital</th>\n",
              "      <td>123</td>\n",
              "      <td>0.018110</td>\n",
              "    </tr>\n",
              "  </tbody>\n",
              "</table>\n",
              "</div>"
            ],
            "text/plain": [
              "                                 confirmed     ratio\n",
              "infection_case                                      \n",
              "Shincheonji Church                    5212  0.767373\n",
              "Second Mi-Ju Hospital                  196  0.028857\n",
              "Guro-gu Call Center                    166  0.024441\n",
              "Hansarang Convalescent Hospital        128  0.018846\n",
              "Cheongdo Daenam Hospital               123  0.018110"
            ]
          },
          "metadata": {},
          "execution_count": 276
        }
      ]
    },
    {
      "cell_type": "markdown",
      "metadata": {
        "id": "tkcFtV17qnt2"
      },
      "source": [
        "- 집단감염 발생 확진자가 가장 많은 곳은 5,212명(약 77%)이 확진을 받은 대구 신천지 교회이다"
      ]
    },
    {
      "cell_type": "code",
      "metadata": {
        "colab": {
          "base_uri": "https://localhost:8080/",
          "height": 518
        },
        "id": "_G5MAVtfrO-U",
        "outputId": "b11e2e8d-99b7-4b52-9783-e65f2265d7aa"
      },
      "source": [
        "# 신천지 교회 확진자는 대구에만 존재할까?\n",
        "case[case['infection_case'] == 'Shincheonji Church']"
      ],
      "execution_count": 277,
      "outputs": [
        {
          "output_type": "execute_result",
          "data": {
            "text/html": [
              "<div>\n",
              "<style scoped>\n",
              "    .dataframe tbody tr th:only-of-type {\n",
              "        vertical-align: middle;\n",
              "    }\n",
              "\n",
              "    .dataframe tbody tr th {\n",
              "        vertical-align: top;\n",
              "    }\n",
              "\n",
              "    .dataframe thead th {\n",
              "        text-align: right;\n",
              "    }\n",
              "</style>\n",
              "<table border=\"1\" class=\"dataframe\">\n",
              "  <thead>\n",
              "    <tr style=\"text-align: right;\">\n",
              "      <th></th>\n",
              "      <th>case_id</th>\n",
              "      <th>province</th>\n",
              "      <th>city</th>\n",
              "      <th>group</th>\n",
              "      <th>infection_case</th>\n",
              "      <th>confirmed</th>\n",
              "      <th>latitude</th>\n",
              "      <th>longitude</th>\n",
              "    </tr>\n",
              "  </thead>\n",
              "  <tbody>\n",
              "    <tr>\n",
              "      <th>7</th>\n",
              "      <td>1000008</td>\n",
              "      <td>Seoul</td>\n",
              "      <td>from other city</td>\n",
              "      <td>True</td>\n",
              "      <td>Shincheonji Church</td>\n",
              "      <td>8</td>\n",
              "      <td>-</td>\n",
              "      <td>-</td>\n",
              "    </tr>\n",
              "    <tr>\n",
              "      <th>12</th>\n",
              "      <td>1100002</td>\n",
              "      <td>Busan</td>\n",
              "      <td>from other city</td>\n",
              "      <td>True</td>\n",
              "      <td>Shincheonji Church</td>\n",
              "      <td>12</td>\n",
              "      <td>-</td>\n",
              "      <td>-</td>\n",
              "    </tr>\n",
              "    <tr>\n",
              "      <th>20</th>\n",
              "      <td>1200001</td>\n",
              "      <td>Daegu</td>\n",
              "      <td>Nam-gu</td>\n",
              "      <td>True</td>\n",
              "      <td>Shincheonji Church</td>\n",
              "      <td>4510</td>\n",
              "      <td>35.84008</td>\n",
              "      <td>128.5667</td>\n",
              "    </tr>\n",
              "    <tr>\n",
              "      <th>29</th>\n",
              "      <td>1300001</td>\n",
              "      <td>Gwangju</td>\n",
              "      <td>from other city</td>\n",
              "      <td>True</td>\n",
              "      <td>Shincheonji Church</td>\n",
              "      <td>9</td>\n",
              "      <td>-</td>\n",
              "      <td>-</td>\n",
              "    </tr>\n",
              "    <tr>\n",
              "      <th>34</th>\n",
              "      <td>1400002</td>\n",
              "      <td>Incheon</td>\n",
              "      <td>from other city</td>\n",
              "      <td>True</td>\n",
              "      <td>Shincheonji Church</td>\n",
              "      <td>2</td>\n",
              "      <td>-</td>\n",
              "      <td>-</td>\n",
              "    </tr>\n",
              "    <tr>\n",
              "      <th>39</th>\n",
              "      <td>1500002</td>\n",
              "      <td>Daejeon</td>\n",
              "      <td>from other city</td>\n",
              "      <td>True</td>\n",
              "      <td>Shincheonji Church</td>\n",
              "      <td>2</td>\n",
              "      <td>-</td>\n",
              "      <td>-</td>\n",
              "    </tr>\n",
              "    <tr>\n",
              "      <th>44</th>\n",
              "      <td>1600001</td>\n",
              "      <td>Ulsan</td>\n",
              "      <td>from other city</td>\n",
              "      <td>True</td>\n",
              "      <td>Shincheonji Church</td>\n",
              "      <td>16</td>\n",
              "      <td>-</td>\n",
              "      <td>-</td>\n",
              "    </tr>\n",
              "    <tr>\n",
              "      <th>50</th>\n",
              "      <td>1700003</td>\n",
              "      <td>Sejong</td>\n",
              "      <td>from other city</td>\n",
              "      <td>True</td>\n",
              "      <td>Shincheonji Church</td>\n",
              "      <td>1</td>\n",
              "      <td>-</td>\n",
              "      <td>-</td>\n",
              "    </tr>\n",
              "    <tr>\n",
              "      <th>57</th>\n",
              "      <td>2000004</td>\n",
              "      <td>Gyeonggi-do</td>\n",
              "      <td>from other city</td>\n",
              "      <td>True</td>\n",
              "      <td>Shincheonji Church</td>\n",
              "      <td>29</td>\n",
              "      <td>-</td>\n",
              "      <td>-</td>\n",
              "    </tr>\n",
              "    <tr>\n",
              "      <th>63</th>\n",
              "      <td>3000001</td>\n",
              "      <td>Gangwon-do</td>\n",
              "      <td>from other city</td>\n",
              "      <td>True</td>\n",
              "      <td>Shincheonji Church</td>\n",
              "      <td>17</td>\n",
              "      <td>-</td>\n",
              "      <td>-</td>\n",
              "    </tr>\n",
              "    <tr>\n",
              "      <th>69</th>\n",
              "      <td>4000001</td>\n",
              "      <td>Chungcheongbuk-do</td>\n",
              "      <td>from other city</td>\n",
              "      <td>True</td>\n",
              "      <td>Shincheonji Church</td>\n",
              "      <td>6</td>\n",
              "      <td>-</td>\n",
              "      <td>-</td>\n",
              "    </tr>\n",
              "    <tr>\n",
              "      <th>79</th>\n",
              "      <td>5000001</td>\n",
              "      <td>Jeollabuk-do</td>\n",
              "      <td>from other city</td>\n",
              "      <td>True</td>\n",
              "      <td>Shincheonji Church</td>\n",
              "      <td>1</td>\n",
              "      <td>-</td>\n",
              "      <td>-</td>\n",
              "    </tr>\n",
              "    <tr>\n",
              "      <th>83</th>\n",
              "      <td>5100002</td>\n",
              "      <td>Jeollanam-do</td>\n",
              "      <td>from other city</td>\n",
              "      <td>True</td>\n",
              "      <td>Shincheonji Church</td>\n",
              "      <td>1</td>\n",
              "      <td>-</td>\n",
              "      <td>-</td>\n",
              "    </tr>\n",
              "    <tr>\n",
              "      <th>87</th>\n",
              "      <td>6000001</td>\n",
              "      <td>Gyeongsangbuk-do</td>\n",
              "      <td>from other city</td>\n",
              "      <td>True</td>\n",
              "      <td>Shincheonji Church</td>\n",
              "      <td>566</td>\n",
              "      <td>-</td>\n",
              "      <td>-</td>\n",
              "    </tr>\n",
              "    <tr>\n",
              "      <th>99</th>\n",
              "      <td>6100001</td>\n",
              "      <td>Gyeongsangnam-do</td>\n",
              "      <td>from other city</td>\n",
              "      <td>True</td>\n",
              "      <td>Shincheonji Church</td>\n",
              "      <td>32</td>\n",
              "      <td>-</td>\n",
              "      <td>-</td>\n",
              "    </tr>\n",
              "  </tbody>\n",
              "</table>\n",
              "</div>"
            ],
            "text/plain": [
              "    case_id           province             city  ...  confirmed  latitude  longitude\n",
              "7   1000008              Seoul  from other city  ...          8         -          -\n",
              "12  1100002              Busan  from other city  ...         12         -          -\n",
              "20  1200001              Daegu           Nam-gu  ...       4510  35.84008   128.5667\n",
              "29  1300001            Gwangju  from other city  ...          9         -          -\n",
              "34  1400002            Incheon  from other city  ...          2         -          -\n",
              "39  1500002            Daejeon  from other city  ...          2         -          -\n",
              "44  1600001              Ulsan  from other city  ...         16         -          -\n",
              "50  1700003             Sejong  from other city  ...          1         -          -\n",
              "57  2000004        Gyeonggi-do  from other city  ...         29         -          -\n",
              "63  3000001         Gangwon-do  from other city  ...         17         -          -\n",
              "69  4000001  Chungcheongbuk-do  from other city  ...          6         -          -\n",
              "79  5000001       Jeollabuk-do  from other city  ...          1         -          -\n",
              "83  5100002       Jeollanam-do  from other city  ...          1         -          -\n",
              "87  6000001   Gyeongsangbuk-do  from other city  ...        566         -          -\n",
              "99  6100001   Gyeongsangnam-do  from other city  ...         32         -          -\n",
              "\n",
              "[15 rows x 8 columns]"
            ]
          },
          "metadata": {},
          "execution_count": 277
        }
      ]
    },
    {
      "cell_type": "markdown",
      "metadata": {
        "id": "xG9eb-BW2N2L"
      },
      "source": [
        "- 대구/경북 지역뿐만 아니라 전국에 신천지 교회 발 확진자가 존재한다.\n",
        "- 이는 신천지 교회 성도가 전국에 퍼져 있다는 의미이며, 이 확진자들이 각 지역에 코로나를 전파 시켰을 가능성을 배제할 수 없다."
      ]
    },
    {
      "cell_type": "code",
      "metadata": {
        "colab": {
          "base_uri": "https://localhost:8080/",
          "height": 175
        },
        "id": "qCF6y82kfsz0",
        "outputId": "674a9336-e4f6-4498-9607-d0431afed8b5"
      },
      "source": [
        "# 집단감염이 아닌 경우(False)의 감염루트\n",
        "case_group_f = case[case['group'] == False]\n",
        "case_group_f = case_group_f.groupby('infection_case')['confirmed'].sum().to_frame().sort_values(by='confirmed', ascending=False)\n",
        "case_group_f['ratio'] = case_group_f.groupby('infection_case')['confirmed'].sum() / case_group_f['confirmed'].sum()\n",
        "case_group_f"
      ],
      "execution_count": 278,
      "outputs": [
        {
          "output_type": "execute_result",
          "data": {
            "text/html": [
              "<div>\n",
              "<style scoped>\n",
              "    .dataframe tbody tr th:only-of-type {\n",
              "        vertical-align: middle;\n",
              "    }\n",
              "\n",
              "    .dataframe tbody tr th {\n",
              "        vertical-align: top;\n",
              "    }\n",
              "\n",
              "    .dataframe thead th {\n",
              "        text-align: right;\n",
              "    }\n",
              "</style>\n",
              "<table border=\"1\" class=\"dataframe\">\n",
              "  <thead>\n",
              "    <tr style=\"text-align: right;\">\n",
              "      <th></th>\n",
              "      <th>confirmed</th>\n",
              "      <th>ratio</th>\n",
              "    </tr>\n",
              "    <tr>\n",
              "      <th>infection_case</th>\n",
              "      <th></th>\n",
              "      <th></th>\n",
              "    </tr>\n",
              "  </thead>\n",
              "  <tbody>\n",
              "    <tr>\n",
              "      <th>contact with patient</th>\n",
              "      <td>1250</td>\n",
              "      <td>0.408898</td>\n",
              "    </tr>\n",
              "    <tr>\n",
              "      <th>etc</th>\n",
              "      <td>1030</td>\n",
              "      <td>0.336932</td>\n",
              "    </tr>\n",
              "    <tr>\n",
              "      <th>overseas inflow</th>\n",
              "      <td>777</td>\n",
              "      <td>0.254171</td>\n",
              "    </tr>\n",
              "  </tbody>\n",
              "</table>\n",
              "</div>"
            ],
            "text/plain": [
              "                      confirmed     ratio\n",
              "infection_case                           \n",
              "contact with patient       1250  0.408898\n",
              "etc                        1030  0.336932\n",
              "overseas inflow             777  0.254171"
            ]
          },
          "metadata": {},
          "execution_count": 278
        }
      ]
    },
    {
      "cell_type": "code",
      "metadata": {
        "id": "4Q9XriOYeEfZ",
        "colab": {
          "base_uri": "https://localhost:8080/",
          "height": 279
        },
        "outputId": "ceefd54a-185a-4852-b80c-b93e19a129fc"
      },
      "source": [
        "# 집단감염이 아닌 경우(False)의 감염루트 시각화\n",
        "case_group_f = case[case['group'] == False]\n",
        "case_group_f = case_group_f.groupby('infection_case', as_index=False)['confirmed'].sum().sort_values(by='confirmed', ascending=False)\n",
        "sns.barplot(x='infection_case', y='confirmed', data=case_group_f)\n",
        "plt.show()"
      ],
      "execution_count": 279,
      "outputs": [
        {
          "output_type": "display_data",
          "data": {
            "image/png": "[encoded data removed]",
            "text/plain": [
              "<Figure size 432x288 with 1 Axes>"
            ]
          },
          "metadata": {
            "needs_background": "light"
          }
        }
      ]
    },
    {
      "cell_type": "markdown",
      "metadata": {
        "id": "ctF-HegL1tw8"
      },
      "source": [
        "- 집단감염이 아닌 경우의 확진자 수는 __환자 접촉으로 인한 감염 > 기타 > 해외 유입 순__ 이었다.\n",
        "- __기타__의 경우 현재 데이터만 가지고 확인할 수 없으나 아마도 __확진 경로를 확인 할 수 없는 경우__일 것으로 추측된다."
      ]
    },
    {
      "cell_type": "markdown",
      "metadata": {
        "id": "54zn4tca147k"
      },
      "source": [
        "__향후 과제__\n",
        "- 집단감염 장소를 교회/학교/병원/요양원 등으로 전처리하여 그룹화 해보기"
      ]
    },
    {
      "cell_type": "markdown",
      "metadata": {
        "id": "0acyVavc5KXD"
      },
      "source": [
        "### 02. Patient Info"
      ]
    },
    {
      "cell_type": "code",
      "metadata": {
        "colab": {
          "base_uri": "https://localhost:8080/"
        },
        "id": "DXJVVkh75O7s",
        "outputId": "c58b800e-7808-4106-8d61-21a7861b2d79"
      },
      "source": [
        "print('집단감염 경로 수 : ', len(patientinfo['infection_case'].unique()))\n",
        "patientinfo['infection_case'].unique()"
      ],
      "execution_count": 280,
      "outputs": [
        {
          "output_type": "stream",
          "name": "stdout",
          "text": [
            "집단감염 경로 수 :  24\n"
          ]
        },
        {
          "output_type": "execute_result",
          "data": {
            "text/plain": [
              "array(['overseas inflow', 'contact with patient', 'Seongdong-gu APT',\n",
              "       'etc', \"Eunpyeong St. Mary's Hospital\", 'Shincheonji Church',\n",
              "       'Dongan Church', 'Guro-gu Call Center', 'Onchun Church',\n",
              "       'Cheongdo Daenam Hospital', 'Suyeong-gu Kindergarten', nan,\n",
              "       'Ministry of Oceans and Fisheries', 'gym facility in Cheonan',\n",
              "       'gym facility in Sejong', 'River of Grace Community Church',\n",
              "       'Gyeongsan Seorin Nursing Home',\n",
              "       'Gyeongsan Cham Joeun Community Center',\n",
              "       'Gyeongsan Jeil Silver Town', 'Bonghwa Pureun Nursing Home',\n",
              "       'Pilgrimage to Israel', 'Milal Shelter', 'Geochang Church',\n",
              "       'Changnyeong Coin Karaoke'], dtype=object)"
            ]
          },
          "metadata": {},
          "execution_count": 280
        }
      ]
    },
    {
      "cell_type": "markdown",
      "metadata": {
        "id": "sySQBMF4Pt-e"
      },
      "source": [
        "- 집단감염 장소의 종류가 세분화 되어있기 때문에, 집단감염의 경우 하나의 그룹('group')으로 묶어줄 필요가 있을 것 같습니다."
      ]
    },
    {
      "cell_type": "code",
      "metadata": {
        "colab": {
          "base_uri": "https://localhost:8080/"
        },
        "id": "-R0692o2QV7i",
        "outputId": "02d52a4d-9a60-4e0b-d24e-fd6f4fc3615c"
      },
      "source": [
        "patientinfo['infection_case'].isna().sum()"
      ],
      "execution_count": 281,
      "outputs": [
        {
          "output_type": "execute_result",
          "data": {
            "text/plain": [
              "768"
            ]
          },
          "metadata": {},
          "execution_count": 281
        }
      ]
    },
    {
      "cell_type": "markdown",
      "metadata": {
        "id": "IOWIGYuCQVMD"
      },
      "source": [
        "- 감염장소를 확인할 수 없는 NaN 값 768명이 있는데 이는 감염경로을 알 수 없는 경우 이므로, 기타('etc') 그룹으로 간주합니다."
      ]
    },
    {
      "cell_type": "code",
      "metadata": {
        "colab": {
          "base_uri": "https://localhost:8080/",
          "height": 318
        },
        "id": "9YoCv5TW-5gL",
        "outputId": "53bbc008-7435-4832-dea7-381529cffde6"
      },
      "source": [
        "infection_place = patientinfo.groupby(['infection_case'], as_index=False)['patient_id'].count()\n",
        "infection_place.rename(columns={'patient_id':'count'}, inplace=True)  # 컬럼 이름 변경\n",
        "infection_place = infection_place.sort_values(by='count', ascending=False)\n",
        "\n",
        "plt.figure(figsize=(12,5))\n",
        "sns.barplot(x='count', y='infection_case', data=infection_place)\n",
        "plt.show()"
      ],
      "execution_count": 282,
      "outputs": [
        {
          "output_type": "display_data",
          "data": {
            "image/png": "[encoded data removed]",
            "text/plain": [
              "<Figure size 864x360 with 1 Axes>"
            ]
          },
          "metadata": {
            "needs_background": "light"
          }
        }
      ]
    },
    {
      "cell_type": "markdown",
      "metadata": {
        "id": "NLHa613eNYN1"
      },
      "source": [
        "- 위에서 봤던 'case' 테이블 데이터와 달리 신천지 교회 확진자 수 정보가 대부분 제외 되어 있습니다. 때문에 감염장소 외 다른 데이터를 사용하는 것은 적합하지 않아 보입니다.\n",
        "- 확진자 수 1~3위는 위에서 확인했던 것처럼 집단감염이 아닌 case 입니다.\n",
        "- 감염장소별 확진자 수가 5명 이상인 곳만 '집단감염'으로 간주하고 나머지 데이터는 사용하지 않겠습니다.\n",
        "- 결론적으로 감염경로를 총 4개의 그룹, __확집자 접촉('contact with patient'), 해외유입('overseas inflow'), 집단감염('group'), 알수 없음('etc')__로 분류합니다."
      ]
    },
    {
      "cell_type": "code",
      "metadata": {
        "colab": {
          "base_uri": "https://localhost:8080/",
          "height": 313
        },
        "id": "Iyio7C11QtzU",
        "outputId": "1506fe47-83fd-4c0c-b962-fca647688d40"
      },
      "source": [
        "def classification(x):\n",
        "    if x == 'overseas inflow':\n",
        "        y = 'overseas'\n",
        "    elif x == 'contact with patient':\n",
        "        y = 'individual'\n",
        "    elif (x == 'etc') | (pd.isna(x)):\n",
        "        y = 'unknown'\n",
        "    else:\n",
        "        y = 'group'\n",
        "    return y\n",
        "\n",
        "patientinfo['infection'] = patientinfo['infection_case'].apply(lambda x: classification(x))\n",
        "print(patientinfo['infection'].unique())\n",
        "patientinfo.head()"
      ],
      "execution_count": 283,
      "outputs": [
        {
          "output_type": "stream",
          "name": "stdout",
          "text": [
            "['overseas' 'individual' 'group' 'unknown']\n"
          ]
        },
        {
          "output_type": "execute_result",
          "data": {
            "text/html": [
              "<div>\n",
              "<style scoped>\n",
              "    .dataframe tbody tr th:only-of-type {\n",
              "        vertical-align: middle;\n",
              "    }\n",
              "\n",
              "    .dataframe tbody tr th {\n",
              "        vertical-align: top;\n",
              "    }\n",
              "\n",
              "    .dataframe thead th {\n",
              "        text-align: right;\n",
              "    }\n",
              "</style>\n",
              "<table border=\"1\" class=\"dataframe\">\n",
              "  <thead>\n",
              "    <tr style=\"text-align: right;\">\n",
              "      <th></th>\n",
              "      <th>patient_id</th>\n",
              "      <th>global_num</th>\n",
              "      <th>sex</th>\n",
              "      <th>birth_year</th>\n",
              "      <th>age</th>\n",
              "      <th>country</th>\n",
              "      <th>province</th>\n",
              "      <th>city</th>\n",
              "      <th>disease</th>\n",
              "      <th>infection_case</th>\n",
              "      <th>infection_order</th>\n",
              "      <th>infected_by</th>\n",
              "      <th>contact_number</th>\n",
              "      <th>symptom_onset_date</th>\n",
              "      <th>confirmed_date</th>\n",
              "      <th>released_date</th>\n",
              "      <th>deceased_date</th>\n",
              "      <th>state</th>\n",
              "      <th>infection</th>\n",
              "    </tr>\n",
              "  </thead>\n",
              "  <tbody>\n",
              "    <tr>\n",
              "      <th>0</th>\n",
              "      <td>1000000001</td>\n",
              "      <td>2.0</td>\n",
              "      <td>male</td>\n",
              "      <td>1964.0</td>\n",
              "      <td>50s</td>\n",
              "      <td>Korea</td>\n",
              "      <td>Seoul</td>\n",
              "      <td>Gangseo-gu</td>\n",
              "      <td>NaN</td>\n",
              "      <td>overseas inflow</td>\n",
              "      <td>1.0</td>\n",
              "      <td>NaN</td>\n",
              "      <td>75.0</td>\n",
              "      <td>2020-01-22</td>\n",
              "      <td>2020-01-23</td>\n",
              "      <td>2020-02-05</td>\n",
              "      <td>NaN</td>\n",
              "      <td>released</td>\n",
              "      <td>overseas</td>\n",
              "    </tr>\n",
              "    <tr>\n",
              "      <th>1</th>\n",
              "      <td>1000000002</td>\n",
              "      <td>5.0</td>\n",
              "      <td>male</td>\n",
              "      <td>1987.0</td>\n",
              "      <td>30s</td>\n",
              "      <td>Korea</td>\n",
              "      <td>Seoul</td>\n",
              "      <td>Jungnang-gu</td>\n",
              "      <td>NaN</td>\n",
              "      <td>overseas inflow</td>\n",
              "      <td>1.0</td>\n",
              "      <td>NaN</td>\n",
              "      <td>31.0</td>\n",
              "      <td>NaN</td>\n",
              "      <td>2020-01-30</td>\n",
              "      <td>2020-03-02</td>\n",
              "      <td>NaN</td>\n",
              "      <td>released</td>\n",
              "      <td>overseas</td>\n",
              "    </tr>\n",
              "    <tr>\n",
              "      <th>2</th>\n",
              "      <td>1000000003</td>\n",
              "      <td>6.0</td>\n",
              "      <td>male</td>\n",
              "      <td>1964.0</td>\n",
              "      <td>50s</td>\n",
              "      <td>Korea</td>\n",
              "      <td>Seoul</td>\n",
              "      <td>Jongno-gu</td>\n",
              "      <td>NaN</td>\n",
              "      <td>contact with patient</td>\n",
              "      <td>2.0</td>\n",
              "      <td>2.002000e+09</td>\n",
              "      <td>17.0</td>\n",
              "      <td>NaN</td>\n",
              "      <td>2020-01-30</td>\n",
              "      <td>2020-02-19</td>\n",
              "      <td>NaN</td>\n",
              "      <td>released</td>\n",
              "      <td>individual</td>\n",
              "    </tr>\n",
              "    <tr>\n",
              "      <th>3</th>\n",
              "      <td>1000000004</td>\n",
              "      <td>7.0</td>\n",
              "      <td>male</td>\n",
              "      <td>1991.0</td>\n",
              "      <td>20s</td>\n",
              "      <td>Korea</td>\n",
              "      <td>Seoul</td>\n",
              "      <td>Mapo-gu</td>\n",
              "      <td>NaN</td>\n",
              "      <td>overseas inflow</td>\n",
              "      <td>1.0</td>\n",
              "      <td>NaN</td>\n",
              "      <td>9.0</td>\n",
              "      <td>2020-01-26</td>\n",
              "      <td>2020-01-30</td>\n",
              "      <td>2020-02-15</td>\n",
              "      <td>NaN</td>\n",
              "      <td>released</td>\n",
              "      <td>overseas</td>\n",
              "    </tr>\n",
              "    <tr>\n",
              "      <th>4</th>\n",
              "      <td>1000000005</td>\n",
              "      <td>9.0</td>\n",
              "      <td>female</td>\n",
              "      <td>1992.0</td>\n",
              "      <td>20s</td>\n",
              "      <td>Korea</td>\n",
              "      <td>Seoul</td>\n",
              "      <td>Seongbuk-gu</td>\n",
              "      <td>NaN</td>\n",
              "      <td>contact with patient</td>\n",
              "      <td>2.0</td>\n",
              "      <td>1.000000e+09</td>\n",
              "      <td>2.0</td>\n",
              "      <td>NaN</td>\n",
              "      <td>2020-01-31</td>\n",
              "      <td>2020-02-24</td>\n",
              "      <td>NaN</td>\n",
              "      <td>released</td>\n",
              "      <td>individual</td>\n",
              "    </tr>\n",
              "  </tbody>\n",
              "</table>\n",
              "</div>"
            ],
            "text/plain": [
              "   patient_id  global_num     sex  ...  deceased_date     state   infection\n",
              "0  1000000001         2.0    male  ...            NaN  released    overseas\n",
              "1  1000000002         5.0    male  ...            NaN  released    overseas\n",
              "2  1000000003         6.0    male  ...            NaN  released  individual\n",
              "3  1000000004         7.0    male  ...            NaN  released    overseas\n",
              "4  1000000005         9.0  female  ...            NaN  released  individual\n",
              "\n",
              "[5 rows x 19 columns]"
            ]
          },
          "metadata": {},
          "execution_count": 283
        }
      ]
    },
    {
      "cell_type": "code",
      "metadata": {
        "colab": {
          "base_uri": "https://localhost:8080/",
          "height": 334
        },
        "id": "wjU2hFe4_khJ",
        "outputId": "b6ea0f8e-039f-4f65-d528-b1202bc6fdd5"
      },
      "source": [
        "g = patientinfo.groupby(['infection'], as_index=False)['patient_id'].count()\n",
        "g.rename(columns={'patient_id':'count'}, inplace=True)  # 컬럼 이름 변경\n",
        "g = g.sort_values(by='count', ascending=False)\n",
        "\n",
        "plt.figure(figsize=(12,5))\n",
        "sns.barplot(x='count', y='infection', data=g)\n",
        "plt.show()"
      ],
      "execution_count": 284,
      "outputs": [
        {
          "output_type": "display_data",
          "data": {
            "image/png": "[encoded data removed]",
            "text/plain": [
              "<Figure size 864x360 with 1 Axes>"
            ]
          },
          "metadata": {
            "needs_background": "light"
          }
        }
      ]
    },
    {
      "cell_type": "markdown",
      "metadata": {
        "id": "8eMdVEtAkGfE"
      },
      "source": [
        "- 감염경로를 전처리한 결과 __'알 수 없음 > 확진자 접촉 > 해외유입 > 집단 감염' 순__으로 나타남을 확인할 수 있다. 하지만 '알 수 없음'의 경우 역학조사를 통해 진짜 감염경로를 확인할 수 없었던 것인지, 아니면 정확한 역학 조사가 이루어지지 않았던 것인지가 확인할 수 없었다."
      ]
    },
    {
      "cell_type": "code",
      "metadata": {
        "id": "vOMn1ekFK747",
        "colab": {
          "base_uri": "https://localhost:8080/",
          "height": 408
        },
        "outputId": "e4836c36-87a4-4700-b630-65c96a5482d1"
      },
      "source": [
        "# 연령대별 확진자 수 시각화\n",
        "f,ax = plt.subplots(1,1, figsize=(15,6))\n",
        "g = patientinfo.groupby(['age'], as_index=False)['patient_id'].count()\n",
        "sns.barplot(x='age', y='patient_id', data=g)\n",
        "ax.set_title('Confirmed cases')"
      ],
      "execution_count": 285,
      "outputs": [
        {
          "output_type": "execute_result",
          "data": {
            "text/plain": [
              "Text(0.5, 1.0, 'Confirmed cases')"
            ]
          },
          "metadata": {},
          "execution_count": 285
        },
        {
          "output_type": "display_data",
          "data": {
            "image/png": "[encoded data removed]",
            "text/plain": [
              "<Figure size 1080x432 with 1 Axes>"
            ]
          },
          "metadata": {
            "needs_background": "light"
          }
        }
      ]
    },
    {
      "cell_type": "markdown",
      "metadata": {
        "id": "c_lrM3YLqK0G"
      },
      "source": [
        "- 연령대별 확진자 수는 __20대 > 50대 > 40대 순__으로 발생하였다고 나타난다."
      ]
    },
    {
      "cell_type": "code",
      "metadata": {
        "id": "pvTyTogd5RJg",
        "colab": {
          "base_uri": "https://localhost:8080/",
          "height": 831
        },
        "outputId": "d0522ae6-8b50-422d-d2fa-056b93c8784a"
      },
      "source": [
        "# 연령대별 감염 장소\n",
        "pd.crosstab(patientinfo.infection_case, patientinfo.age, margins=True)"
      ],
      "execution_count": 286,
      "outputs": [
        {
          "output_type": "execute_result",
          "data": {
            "text/html": [
              "<div>\n",
              "<style scoped>\n",
              "    .dataframe tbody tr th:only-of-type {\n",
              "        vertical-align: middle;\n",
              "    }\n",
              "\n",
              "    .dataframe tbody tr th {\n",
              "        vertical-align: top;\n",
              "    }\n",
              "\n",
              "    .dataframe thead th {\n",
              "        text-align: right;\n",
              "    }\n",
              "</style>\n",
              "<table border=\"1\" class=\"dataframe\">\n",
              "  <thead>\n",
              "    <tr style=\"text-align: right;\">\n",
              "      <th>age</th>\n",
              "      <th>0s</th>\n",
              "      <th>100s</th>\n",
              "      <th>10s</th>\n",
              "      <th>20s</th>\n",
              "      <th>30s</th>\n",
              "      <th>40s</th>\n",
              "      <th>50s</th>\n",
              "      <th>60s</th>\n",
              "      <th>70s</th>\n",
              "      <th>80s</th>\n",
              "      <th>90s</th>\n",
              "      <th>All</th>\n",
              "    </tr>\n",
              "    <tr>\n",
              "      <th>infection_case</th>\n",
              "      <th></th>\n",
              "      <th></th>\n",
              "      <th></th>\n",
              "      <th></th>\n",
              "      <th></th>\n",
              "      <th></th>\n",
              "      <th></th>\n",
              "      <th></th>\n",
              "      <th></th>\n",
              "      <th></th>\n",
              "      <th></th>\n",
              "      <th></th>\n",
              "    </tr>\n",
              "  </thead>\n",
              "  <tbody>\n",
              "    <tr>\n",
              "      <th>Bonghwa Pureun Nursing Home</th>\n",
              "      <td>0</td>\n",
              "      <td>0</td>\n",
              "      <td>0</td>\n",
              "      <td>0</td>\n",
              "      <td>1</td>\n",
              "      <td>1</td>\n",
              "      <td>6</td>\n",
              "      <td>8</td>\n",
              "      <td>2</td>\n",
              "      <td>9</td>\n",
              "      <td>4</td>\n",
              "      <td>31</td>\n",
              "    </tr>\n",
              "    <tr>\n",
              "      <th>Changnyeong Coin Karaoke</th>\n",
              "      <td>0</td>\n",
              "      <td>0</td>\n",
              "      <td>1</td>\n",
              "      <td>2</td>\n",
              "      <td>0</td>\n",
              "      <td>0</td>\n",
              "      <td>0</td>\n",
              "      <td>1</td>\n",
              "      <td>0</td>\n",
              "      <td>0</td>\n",
              "      <td>0</td>\n",
              "      <td>4</td>\n",
              "    </tr>\n",
              "    <tr>\n",
              "      <th>Cheongdo Daenam Hospital</th>\n",
              "      <td>0</td>\n",
              "      <td>0</td>\n",
              "      <td>0</td>\n",
              "      <td>1</td>\n",
              "      <td>2</td>\n",
              "      <td>4</td>\n",
              "      <td>6</td>\n",
              "      <td>8</td>\n",
              "      <td>0</td>\n",
              "      <td>0</td>\n",
              "      <td>0</td>\n",
              "      <td>21</td>\n",
              "    </tr>\n",
              "    <tr>\n",
              "      <th>Dongan Church</th>\n",
              "      <td>0</td>\n",
              "      <td>0</td>\n",
              "      <td>1</td>\n",
              "      <td>8</td>\n",
              "      <td>2</td>\n",
              "      <td>0</td>\n",
              "      <td>3</td>\n",
              "      <td>2</td>\n",
              "      <td>1</td>\n",
              "      <td>0</td>\n",
              "      <td>0</td>\n",
              "      <td>17</td>\n",
              "    </tr>\n",
              "    <tr>\n",
              "      <th>Eunpyeong St. Mary's Hospital</th>\n",
              "      <td>0</td>\n",
              "      <td>0</td>\n",
              "      <td>0</td>\n",
              "      <td>2</td>\n",
              "      <td>1</td>\n",
              "      <td>1</td>\n",
              "      <td>1</td>\n",
              "      <td>7</td>\n",
              "      <td>2</td>\n",
              "      <td>2</td>\n",
              "      <td>0</td>\n",
              "      <td>16</td>\n",
              "    </tr>\n",
              "    <tr>\n",
              "      <th>Geochang Church</th>\n",
              "      <td>0</td>\n",
              "      <td>0</td>\n",
              "      <td>0</td>\n",
              "      <td>0</td>\n",
              "      <td>0</td>\n",
              "      <td>1</td>\n",
              "      <td>2</td>\n",
              "      <td>3</td>\n",
              "      <td>0</td>\n",
              "      <td>0</td>\n",
              "      <td>0</td>\n",
              "      <td>6</td>\n",
              "    </tr>\n",
              "    <tr>\n",
              "      <th>Guro-gu Call Center</th>\n",
              "      <td>2</td>\n",
              "      <td>0</td>\n",
              "      <td>2</td>\n",
              "      <td>13</td>\n",
              "      <td>15</td>\n",
              "      <td>34</td>\n",
              "      <td>36</td>\n",
              "      <td>8</td>\n",
              "      <td>1</td>\n",
              "      <td>1</td>\n",
              "      <td>0</td>\n",
              "      <td>112</td>\n",
              "    </tr>\n",
              "    <tr>\n",
              "      <th>Gyeongsan Cham Joeun Community Center</th>\n",
              "      <td>0</td>\n",
              "      <td>0</td>\n",
              "      <td>0</td>\n",
              "      <td>0</td>\n",
              "      <td>0</td>\n",
              "      <td>0</td>\n",
              "      <td>1</td>\n",
              "      <td>1</td>\n",
              "      <td>2</td>\n",
              "      <td>3</td>\n",
              "      <td>3</td>\n",
              "      <td>10</td>\n",
              "    </tr>\n",
              "    <tr>\n",
              "      <th>Gyeongsan Jeil Silver Town</th>\n",
              "      <td>0</td>\n",
              "      <td>0</td>\n",
              "      <td>0</td>\n",
              "      <td>0</td>\n",
              "      <td>0</td>\n",
              "      <td>2</td>\n",
              "      <td>0</td>\n",
              "      <td>0</td>\n",
              "      <td>3</td>\n",
              "      <td>5</td>\n",
              "      <td>2</td>\n",
              "      <td>12</td>\n",
              "    </tr>\n",
              "    <tr>\n",
              "      <th>Gyeongsan Seorin Nursing Home</th>\n",
              "      <td>0</td>\n",
              "      <td>1</td>\n",
              "      <td>0</td>\n",
              "      <td>0</td>\n",
              "      <td>0</td>\n",
              "      <td>0</td>\n",
              "      <td>3</td>\n",
              "      <td>0</td>\n",
              "      <td>1</td>\n",
              "      <td>10</td>\n",
              "      <td>0</td>\n",
              "      <td>15</td>\n",
              "    </tr>\n",
              "    <tr>\n",
              "      <th>Milal Shelter</th>\n",
              "      <td>0</td>\n",
              "      <td>0</td>\n",
              "      <td>0</td>\n",
              "      <td>3</td>\n",
              "      <td>3</td>\n",
              "      <td>1</td>\n",
              "      <td>4</td>\n",
              "      <td>0</td>\n",
              "      <td>0</td>\n",
              "      <td>0</td>\n",
              "      <td>0</td>\n",
              "      <td>11</td>\n",
              "    </tr>\n",
              "    <tr>\n",
              "      <th>Ministry of Oceans and Fisheries</th>\n",
              "      <td>0</td>\n",
              "      <td>0</td>\n",
              "      <td>0</td>\n",
              "      <td>0</td>\n",
              "      <td>7</td>\n",
              "      <td>14</td>\n",
              "      <td>7</td>\n",
              "      <td>0</td>\n",
              "      <td>0</td>\n",
              "      <td>0</td>\n",
              "      <td>0</td>\n",
              "      <td>28</td>\n",
              "    </tr>\n",
              "    <tr>\n",
              "      <th>Onchun Church</th>\n",
              "      <td>0</td>\n",
              "      <td>0</td>\n",
              "      <td>3</td>\n",
              "      <td>18</td>\n",
              "      <td>4</td>\n",
              "      <td>3</td>\n",
              "      <td>2</td>\n",
              "      <td>1</td>\n",
              "      <td>2</td>\n",
              "      <td>0</td>\n",
              "      <td>0</td>\n",
              "      <td>33</td>\n",
              "    </tr>\n",
              "    <tr>\n",
              "      <th>Pilgrimage to Israel</th>\n",
              "      <td>0</td>\n",
              "      <td>0</td>\n",
              "      <td>0</td>\n",
              "      <td>0</td>\n",
              "      <td>0</td>\n",
              "      <td>0</td>\n",
              "      <td>1</td>\n",
              "      <td>1</td>\n",
              "      <td>0</td>\n",
              "      <td>0</td>\n",
              "      <td>0</td>\n",
              "      <td>2</td>\n",
              "    </tr>\n",
              "    <tr>\n",
              "      <th>River of Grace Community Church</th>\n",
              "      <td>0</td>\n",
              "      <td>0</td>\n",
              "      <td>0</td>\n",
              "      <td>1</td>\n",
              "      <td>0</td>\n",
              "      <td>0</td>\n",
              "      <td>0</td>\n",
              "      <td>0</td>\n",
              "      <td>0</td>\n",
              "      <td>0</td>\n",
              "      <td>0</td>\n",
              "      <td>1</td>\n",
              "    </tr>\n",
              "    <tr>\n",
              "      <th>Seongdong-gu APT</th>\n",
              "      <td>0</td>\n",
              "      <td>0</td>\n",
              "      <td>2</td>\n",
              "      <td>2</td>\n",
              "      <td>0</td>\n",
              "      <td>4</td>\n",
              "      <td>3</td>\n",
              "      <td>0</td>\n",
              "      <td>2</td>\n",
              "      <td>0</td>\n",
              "      <td>0</td>\n",
              "      <td>13</td>\n",
              "    </tr>\n",
              "    <tr>\n",
              "      <th>Shincheonji Church</th>\n",
              "      <td>0</td>\n",
              "      <td>0</td>\n",
              "      <td>3</td>\n",
              "      <td>41</td>\n",
              "      <td>11</td>\n",
              "      <td>12</td>\n",
              "      <td>15</td>\n",
              "      <td>15</td>\n",
              "      <td>6</td>\n",
              "      <td>0</td>\n",
              "      <td>0</td>\n",
              "      <td>103</td>\n",
              "    </tr>\n",
              "    <tr>\n",
              "      <th>Suyeong-gu Kindergarten</th>\n",
              "      <td>1</td>\n",
              "      <td>0</td>\n",
              "      <td>0</td>\n",
              "      <td>0</td>\n",
              "      <td>1</td>\n",
              "      <td>1</td>\n",
              "      <td>0</td>\n",
              "      <td>0</td>\n",
              "      <td>0</td>\n",
              "      <td>0</td>\n",
              "      <td>0</td>\n",
              "      <td>3</td>\n",
              "    </tr>\n",
              "    <tr>\n",
              "      <th>contact with patient</th>\n",
              "      <td>29</td>\n",
              "      <td>0</td>\n",
              "      <td>66</td>\n",
              "      <td>145</td>\n",
              "      <td>117</td>\n",
              "      <td>154</td>\n",
              "      <td>202</td>\n",
              "      <td>138</td>\n",
              "      <td>65</td>\n",
              "      <td>32</td>\n",
              "      <td>9</td>\n",
              "      <td>957</td>\n",
              "    </tr>\n",
              "    <tr>\n",
              "      <th>etc</th>\n",
              "      <td>3</td>\n",
              "      <td>0</td>\n",
              "      <td>13</td>\n",
              "      <td>114</td>\n",
              "      <td>75</td>\n",
              "      <td>80</td>\n",
              "      <td>104</td>\n",
              "      <td>67</td>\n",
              "      <td>60</td>\n",
              "      <td>36</td>\n",
              "      <td>6</td>\n",
              "      <td>558</td>\n",
              "    </tr>\n",
              "    <tr>\n",
              "      <th>gym facility in Cheonan</th>\n",
              "      <td>0</td>\n",
              "      <td>0</td>\n",
              "      <td>0</td>\n",
              "      <td>1</td>\n",
              "      <td>6</td>\n",
              "      <td>17</td>\n",
              "      <td>4</td>\n",
              "      <td>2</td>\n",
              "      <td>0</td>\n",
              "      <td>0</td>\n",
              "      <td>0</td>\n",
              "      <td>30</td>\n",
              "    </tr>\n",
              "    <tr>\n",
              "      <th>gym facility in Sejong</th>\n",
              "      <td>0</td>\n",
              "      <td>0</td>\n",
              "      <td>0</td>\n",
              "      <td>1</td>\n",
              "      <td>0</td>\n",
              "      <td>2</td>\n",
              "      <td>1</td>\n",
              "      <td>0</td>\n",
              "      <td>0</td>\n",
              "      <td>0</td>\n",
              "      <td>0</td>\n",
              "      <td>4</td>\n",
              "    </tr>\n",
              "    <tr>\n",
              "      <th>overseas inflow</th>\n",
              "      <td>13</td>\n",
              "      <td>0</td>\n",
              "      <td>29</td>\n",
              "      <td>243</td>\n",
              "      <td>131</td>\n",
              "      <td>47</td>\n",
              "      <td>42</td>\n",
              "      <td>40</td>\n",
              "      <td>6</td>\n",
              "      <td>1</td>\n",
              "      <td>0</td>\n",
              "      <td>552</td>\n",
              "    </tr>\n",
              "    <tr>\n",
              "      <th>All</th>\n",
              "      <td>48</td>\n",
              "      <td>1</td>\n",
              "      <td>120</td>\n",
              "      <td>595</td>\n",
              "      <td>376</td>\n",
              "      <td>378</td>\n",
              "      <td>443</td>\n",
              "      <td>302</td>\n",
              "      <td>153</td>\n",
              "      <td>99</td>\n",
              "      <td>24</td>\n",
              "      <td>2539</td>\n",
              "    </tr>\n",
              "  </tbody>\n",
              "</table>\n",
              "</div>"
            ],
            "text/plain": [
              "age                                    0s  100s  10s  20s  ...  70s  80s  90s   All\n",
              "infection_case                                             ...                     \n",
              "Bonghwa Pureun Nursing Home             0     0    0    0  ...    2    9    4    31\n",
              "Changnyeong Coin Karaoke                0     0    1    2  ...    0    0    0     4\n",
              "Cheongdo Daenam Hospital                0     0    0    1  ...    0    0    0    21\n",
              "Dongan Church                           0     0    1    8  ...    1    0    0    17\n",
              "Eunpyeong St. Mary's Hospital           0     0    0    2  ...    2    2    0    16\n",
              "Geochang Church                         0     0    0    0  ...    0    0    0     6\n",
              "Guro-gu Call Center                     2     0    2   13  ...    1    1    0   112\n",
              "Gyeongsan Cham Joeun Community Center   0     0    0    0  ...    2    3    3    10\n",
              "Gyeongsan Jeil Silver Town              0     0    0    0  ...    3    5    2    12\n",
              "Gyeongsan Seorin Nursing Home           0     1    0    0  ...    1   10    0    15\n",
              "Milal Shelter                           0     0    0    3  ...    0    0    0    11\n",
              "Ministry of Oceans and Fisheries        0     0    0    0  ...    0    0    0    28\n",
              "Onchun Church                           0     0    3   18  ...    2    0    0    33\n",
              "Pilgrimage to Israel                    0     0    0    0  ...    0    0    0     2\n",
              "River of Grace Community Church         0     0    0    1  ...    0    0    0     1\n",
              "Seongdong-gu APT                        0     0    2    2  ...    2    0    0    13\n",
              "Shincheonji Church                      0     0    3   41  ...    6    0    0   103\n",
              "Suyeong-gu Kindergarten                 1     0    0    0  ...    0    0    0     3\n",
              "contact with patient                   29     0   66  145  ...   65   32    9   957\n",
              "etc                                     3     0   13  114  ...   60   36    6   558\n",
              "gym facility in Cheonan                 0     0    0    1  ...    0    0    0    30\n",
              "gym facility in Sejong                  0     0    0    1  ...    0    0    0     4\n",
              "overseas inflow                        13     0   29  243  ...    6    1    0   552\n",
              "All                                    48     1  120  595  ...  153   99   24  2539\n",
              "\n",
              "[24 rows x 12 columns]"
            ]
          },
          "metadata": {},
          "execution_count": 286
        }
      ]
    },
    {
      "cell_type": "markdown",
      "metadata": {
        "id": "OAzwPLdNp9Ll"
      },
      "source": [
        "- 해당 기간 전체 감염자수의 50% 수준을 차지 하는 대구 신천지 교회 관련 확진자들의 데이터가 부족하다."
      ]
    },
    {
      "cell_type": "code",
      "metadata": {
        "id": "GfvAUby3Pr4h"
      },
      "source": [
        "# 연령대별 입원기간(퇴원일-확진일), 생존기간(사망일-확진일) 시각화\n",
        "\n",
        "# 데이터 타입 변환(문자열->날짜)\n",
        "patientinfo['confirmed_date'] = pd.to_datetime(patientinfo['confirmed_date'], format='%Y-%m-%d')\n",
        "patientinfo['released_date'] = pd.to_datetime(patientinfo['released_date'], format='%Y-%m-%d')\n",
        "patientinfo['deceased_date'] = pd.to_datetime(patientinfo['deceased_date'], format='%Y-%m-%d')\n",
        "\n",
        "# 기간 계산(퇴원일-확진일, 사망일-확진일)\n",
        "patientinfo['released_days'] = patientinfo['released_date'] - patientinfo['confirmed_date']\n",
        "patientinfo['deceased_days'] = patientinfo['deceased_date'] - patientinfo['confirmed_date']\n",
        "\n",
        "# 데이터 타입 변환(날짜->숫자)\n",
        "patientinfo['released_days'] = patientinfo['released_days'].dt.days\n",
        "patientinfo['deceased_days'] = patientinfo['deceased_days'].dt.days"
      ],
      "execution_count": 287,
      "outputs": []
    },
    {
      "cell_type": "code",
      "metadata": {
        "id": "kuXZtcrNQYbQ",
        "colab": {
          "base_uri": "https://localhost:8080/",
          "height": 313
        },
        "outputId": "c21eff95-f74a-4b96-ecd6-51869ebfc376"
      },
      "source": [
        "f,ax = plt.subplots(1,2, figsize=(18,5))\n",
        "released_days = patientinfo.groupby(['age'], as_index=False)['released_days'].mean().fillna(0)\n",
        "ax[0].set_title('연령별 평균 완치 소요일', fontsize=20)\n",
        "sns.barplot(x='age', y='released_days', data=released_days, ax=ax[0])\n",
        "deceased_days = patientinfo.groupby(['age'], as_index=False)['deceased_days'].mean().fillna(0)\n",
        "ax[1].set_title('연령별 평균 사망 소요일', fontsize=20)\n",
        "sns.barplot(x='age', y='deceased_days', data=deceased_days, ax=ax[1])"
      ],
      "execution_count": 288,
      "outputs": [
        {
          "output_type": "execute_result",
          "data": {
            "text/plain": [
              "<matplotlib.axes._subplots.AxesSubplot at 0x7f408bba2050>"
            ]
          },
          "metadata": {},
          "execution_count": 288
        },
        {
          "output_type": "display_data",
          "data": {
            "image/png": "[encoded data removed]",
            "text/plain": [
              "<Figure size 1296x360 with 2 Axes>"
            ]
          },
          "metadata": {
            "needs_background": "light"
          }
        }
      ]
    },
    {
      "cell_type": "markdown",
      "metadata": {
        "id": "B09z4HAVqU78"
      },
      "source": [
        "- 연령별 평균 완치 소요일은 고령층이 상대적으로 완치 소요기간이 조금 더 소요되는 것으로 확인된다.\n",
        "- 연령별 평균 사망 소요일은 표본이 많지 않아 유의미한 특징이 있다고 보기 어려울 것 같다."
      ]
    },
    {
      "cell_type": "code",
      "metadata": {
        "colab": {
          "base_uri": "https://localhost:8080/",
          "height": 363
        },
        "id": "1R77diIvn1ex",
        "outputId": "8750dfa6-cb32-41fc-9772-80d605f5ca69"
      },
      "source": [
        "# 일자별 확진자수 추이\n",
        "plt.figure(figsize=(20,6))\n",
        "g = patientinfo.groupby(['confirmed_date'], as_index=False)['patient_id'].count()\n",
        "sns.lineplot(x='confirmed_date', y='patient_id', data=g)\n",
        "plt.xticks(rotation=90)"
      ],
      "execution_count": 289,
      "outputs": [
        {
          "output_type": "execute_result",
          "data": {
            "text/plain": [
              "(array([737439., 737456., 737470., 737485., 737499., 737516., 737530.,\n",
              "        737546.]), <a list of 8 Text major ticklabel objects>)"
            ]
          },
          "metadata": {},
          "execution_count": 289
        },
        {
          "output_type": "display_data",
          "data": {
            "image/png": "[encoded data removed]",
            "text/plain": [
              "<Figure size 1440x432 with 1 Axes>"
            ]
          },
          "metadata": {
            "needs_background": "light"
          }
        }
      ]
    },
    {
      "cell_type": "markdown",
      "metadata": {
        "id": "ybpk3EkXqqtP"
      },
      "source": [
        "- 2월 말 ~ 3월 초 대구 신천지 교회 집단 감염 이후 확진자 수 가 점차 감소하는 것을 확인할 수 있다."
      ]
    },
    {
      "cell_type": "markdown",
      "metadata": {
        "id": "Xw0BYDbhCz_h"
      },
      "source": [
        "### 03. Patient Route"
      ]
    },
    {
      "cell_type": "code",
      "metadata": {
        "colab": {
          "base_uri": "https://localhost:8080/",
          "height": 205
        },
        "id": "dCFjRbKUC3I9",
        "outputId": "f1c28140-598c-4d71-9721-d50b39994f67"
      },
      "source": [
        "patientroute.head()"
      ],
      "execution_count": 290,
      "outputs": [
        {
          "output_type": "execute_result",
          "data": {
            "text/html": [
              "<div>\n",
              "<style scoped>\n",
              "    .dataframe tbody tr th:only-of-type {\n",
              "        vertical-align: middle;\n",
              "    }\n",
              "\n",
              "    .dataframe tbody tr th {\n",
              "        vertical-align: top;\n",
              "    }\n",
              "\n",
              "    .dataframe thead th {\n",
              "        text-align: right;\n",
              "    }\n",
              "</style>\n",
              "<table border=\"1\" class=\"dataframe\">\n",
              "  <thead>\n",
              "    <tr style=\"text-align: right;\">\n",
              "      <th></th>\n",
              "      <th>patient_id</th>\n",
              "      <th>global_num</th>\n",
              "      <th>date</th>\n",
              "      <th>province</th>\n",
              "      <th>city</th>\n",
              "      <th>type</th>\n",
              "      <th>latitude</th>\n",
              "      <th>longitude</th>\n",
              "    </tr>\n",
              "  </thead>\n",
              "  <tbody>\n",
              "    <tr>\n",
              "      <th>0</th>\n",
              "      <td>1000000001</td>\n",
              "      <td>2.0</td>\n",
              "      <td>2020-01-22</td>\n",
              "      <td>Gyeonggi-do</td>\n",
              "      <td>Gimpo-si</td>\n",
              "      <td>airport</td>\n",
              "      <td>37.615246</td>\n",
              "      <td>126.715632</td>\n",
              "    </tr>\n",
              "    <tr>\n",
              "      <th>1</th>\n",
              "      <td>1000000001</td>\n",
              "      <td>2.0</td>\n",
              "      <td>2020-01-24</td>\n",
              "      <td>Seoul</td>\n",
              "      <td>Jung-gu</td>\n",
              "      <td>hospital</td>\n",
              "      <td>37.567241</td>\n",
              "      <td>127.005659</td>\n",
              "    </tr>\n",
              "    <tr>\n",
              "      <th>2</th>\n",
              "      <td>1000000002</td>\n",
              "      <td>5.0</td>\n",
              "      <td>2020-01-25</td>\n",
              "      <td>Seoul</td>\n",
              "      <td>Seongbuk-gu</td>\n",
              "      <td>etc</td>\n",
              "      <td>37.592560</td>\n",
              "      <td>127.017048</td>\n",
              "    </tr>\n",
              "    <tr>\n",
              "      <th>3</th>\n",
              "      <td>1000000002</td>\n",
              "      <td>5.0</td>\n",
              "      <td>2020-01-26</td>\n",
              "      <td>Seoul</td>\n",
              "      <td>Seongbuk-gu</td>\n",
              "      <td>store</td>\n",
              "      <td>37.591810</td>\n",
              "      <td>127.016822</td>\n",
              "    </tr>\n",
              "    <tr>\n",
              "      <th>4</th>\n",
              "      <td>1000000002</td>\n",
              "      <td>5.0</td>\n",
              "      <td>2020-01-26</td>\n",
              "      <td>Seoul</td>\n",
              "      <td>Seongdong-gu</td>\n",
              "      <td>public_transportation</td>\n",
              "      <td>37.563992</td>\n",
              "      <td>127.029534</td>\n",
              "    </tr>\n",
              "  </tbody>\n",
              "</table>\n",
              "</div>"
            ],
            "text/plain": [
              "   patient_id  global_num  ...   latitude   longitude\n",
              "0  1000000001         2.0  ...  37.615246  126.715632\n",
              "1  1000000001         2.0  ...  37.567241  127.005659\n",
              "2  1000000002         5.0  ...  37.592560  127.017048\n",
              "3  1000000002         5.0  ...  37.591810  127.016822\n",
              "4  1000000002         5.0  ...  37.563992  127.029534\n",
              "\n",
              "[5 rows x 8 columns]"
            ]
          },
          "metadata": {},
          "execution_count": 290
        }
      ]
    },
    {
      "cell_type": "code",
      "metadata": {
        "colab": {
          "base_uri": "https://localhost:8080/"
        },
        "id": "seJ7IQ0yC5GW",
        "outputId": "27ba5a25-171e-4814-eb82-46d71727481c"
      },
      "source": [
        "print('방문장소 종류: ', len(patientroute['type'].unique()))\n",
        "patientroute['type'].unique()"
      ],
      "execution_count": 291,
      "outputs": [
        {
          "output_type": "stream",
          "name": "stdout",
          "text": [
            "방문장소 종류:  24\n"
          ]
        },
        {
          "output_type": "execute_result",
          "data": {
            "text/plain": [
              "array(['airport', 'hospital', 'etc', 'store', 'public_transportation',\n",
              "       'restaurant', 'church', 'beauty_salon', 'pharmacy', 'pc_cafe',\n",
              "       'bank', 'cafe', 'bakery', 'bar', 'gym', 'school',\n",
              "       'real_estate_agency', 'karaoke', 'post_office', 'gas_station',\n",
              "       'lodging', 'academy', 'university', 'administrative_area_level_1'],\n",
              "      dtype=object)"
            ]
          },
          "metadata": {},
          "execution_count": 291
        }
      ]
    },
    {
      "cell_type": "code",
      "metadata": {
        "colab": {
          "base_uri": "https://localhost:8080/"
        },
        "id": "cAdLrpEjq7qc",
        "outputId": "cf8bf8b0-d902-420b-88a5-7798739689ee"
      },
      "source": [
        "# 감염자들은 어디에서 왔는가\n",
        "patientroute.groupby(['type'])['patient_id'].count()"
      ],
      "execution_count": 292,
      "outputs": [
        {
          "output_type": "execute_result",
          "data": {
            "text/plain": [
              "type\n",
              "academy                          11\n",
              "administrative_area_level_1      14\n",
              "airport                         237\n",
              "bakery                           26\n",
              "bank                             32\n",
              "bar                              13\n",
              "beauty_salon                     19\n",
              "cafe                            102\n",
              "church                          148\n",
              "etc                            2049\n",
              "gas_station                      12\n",
              "gym                              20\n",
              "hospital                       1927\n",
              "karaoke                          10\n",
              "lodging                          45\n",
              "pc_cafe                          80\n",
              "pharmacy                        230\n",
              "post_office                      17\n",
              "public_transportation           462\n",
              "real_estate_agency               19\n",
              "restaurant                      528\n",
              "school                           58\n",
              "store                           641\n",
              "university                       14\n",
              "Name: patient_id, dtype: int64"
            ]
          },
          "metadata": {},
          "execution_count": 292
        }
      ]
    },
    {
      "cell_type": "markdown",
      "metadata": {
        "id": "AiNJwRu03Wrr"
      },
      "source": [
        "### 4) Time"
      ]
    },
    {
      "cell_type": "code",
      "metadata": {
        "colab": {
          "base_uri": "https://localhost:8080/",
          "height": 205
        },
        "id": "wXB0fc4x3Y-u",
        "outputId": "22e78531-af7b-48bd-a85f-880a68d43b57"
      },
      "source": [
        "time.head()"
      ],
      "execution_count": 293,
      "outputs": [
        {
          "output_type": "execute_result",
          "data": {
            "text/html": [
              "<div>\n",
              "<style scoped>\n",
              "    .dataframe tbody tr th:only-of-type {\n",
              "        vertical-align: middle;\n",
              "    }\n",
              "\n",
              "    .dataframe tbody tr th {\n",
              "        vertical-align: top;\n",
              "    }\n",
              "\n",
              "    .dataframe thead th {\n",
              "        text-align: right;\n",
              "    }\n",
              "</style>\n",
              "<table border=\"1\" class=\"dataframe\">\n",
              "  <thead>\n",
              "    <tr style=\"text-align: right;\">\n",
              "      <th></th>\n",
              "      <th>date</th>\n",
              "      <th>time</th>\n",
              "      <th>test</th>\n",
              "      <th>negative</th>\n",
              "      <th>confirmed</th>\n",
              "      <th>released</th>\n",
              "      <th>deceased</th>\n",
              "    </tr>\n",
              "  </thead>\n",
              "  <tbody>\n",
              "    <tr>\n",
              "      <th>0</th>\n",
              "      <td>2020-01-20</td>\n",
              "      <td>16</td>\n",
              "      <td>1</td>\n",
              "      <td>0</td>\n",
              "      <td>1</td>\n",
              "      <td>0</td>\n",
              "      <td>0</td>\n",
              "    </tr>\n",
              "    <tr>\n",
              "      <th>1</th>\n",
              "      <td>2020-01-21</td>\n",
              "      <td>16</td>\n",
              "      <td>1</td>\n",
              "      <td>0</td>\n",
              "      <td>1</td>\n",
              "      <td>0</td>\n",
              "      <td>0</td>\n",
              "    </tr>\n",
              "    <tr>\n",
              "      <th>2</th>\n",
              "      <td>2020-01-22</td>\n",
              "      <td>16</td>\n",
              "      <td>4</td>\n",
              "      <td>3</td>\n",
              "      <td>1</td>\n",
              "      <td>0</td>\n",
              "      <td>0</td>\n",
              "    </tr>\n",
              "    <tr>\n",
              "      <th>3</th>\n",
              "      <td>2020-01-23</td>\n",
              "      <td>16</td>\n",
              "      <td>22</td>\n",
              "      <td>21</td>\n",
              "      <td>1</td>\n",
              "      <td>0</td>\n",
              "      <td>0</td>\n",
              "    </tr>\n",
              "    <tr>\n",
              "      <th>4</th>\n",
              "      <td>2020-01-24</td>\n",
              "      <td>16</td>\n",
              "      <td>27</td>\n",
              "      <td>25</td>\n",
              "      <td>2</td>\n",
              "      <td>0</td>\n",
              "      <td>0</td>\n",
              "    </tr>\n",
              "  </tbody>\n",
              "</table>\n",
              "</div>"
            ],
            "text/plain": [
              "         date  time  test  negative  confirmed  released  deceased\n",
              "0  2020-01-20    16     1         0          1         0         0\n",
              "1  2020-01-21    16     1         0          1         0         0\n",
              "2  2020-01-22    16     4         3          1         0         0\n",
              "3  2020-01-23    16    22        21          1         0         0\n",
              "4  2020-01-24    16    27        25          2         0         0"
            ]
          },
          "metadata": {},
          "execution_count": 293
        }
      ]
    },
    {
      "cell_type": "code",
      "metadata": {
        "colab": {
          "base_uri": "https://localhost:8080/",
          "height": 475
        },
        "id": "ShVN8Og038NY",
        "outputId": "ad2ff94e-4398-4955-843f-c19531ca85d6"
      },
      "source": [
        "# 누적 확진자/퇴원자/사망자 현황 추이\n",
        "plt.figure(figsize=(15,8))\n",
        "time['date'] = pd.to_datetime(time['date'])\n",
        "sns.lineplot(x='date', y='confirmed', data=time)\n",
        "sns.lineplot(x='date', y='released', data=time)\n",
        "sns.lineplot(x='date', y='deceased', data=time)\n",
        "plt.show()"
      ],
      "execution_count": 294,
      "outputs": [
        {
          "output_type": "display_data",
          "data": {
            "image/png": "[encoded data removed]",
            "text/plain": [
              "<Figure size 1080x576 with 1 Axes>"
            ]
          },
          "metadata": {
            "needs_background": "light"
          }
        }
      ]
    },
    {
      "cell_type": "code",
      "metadata": {
        "colab": {
          "base_uri": "https://localhost:8080/",
          "height": 422
        },
        "id": "0gKWnkmcDQch",
        "outputId": "132344f6-bb84-4a0c-8bc9-7067f2901080"
      },
      "source": [
        "# 누적 확진자 현황을 일일 확진자 현황으로 변환\n",
        "time['date'] = pd.to_datetime(time['date'])\n",
        "time\n",
        "\n",
        "def date_to_count(series):\n",
        "    data=[0]\n",
        "    for i in range(1,len(series)):\n",
        "        data.append(series[i]-series[i-1])\n",
        "    data = pd.DataFrame(data)\n",
        "    return data\n",
        "time['confirmed_date'] = date_to_count(time['confirmed'])\n",
        "time['confirmed_date'] = date_to_count(time['confirmed'])\n",
        "time"
      ],
      "execution_count": 295,
      "outputs": [
        {
          "output_type": "execute_result",
          "data": {
            "text/html": [
              "<div>\n",
              "<style scoped>\n",
              "    .dataframe tbody tr th:only-of-type {\n",
              "        vertical-align: middle;\n",
              "    }\n",
              "\n",
              "    .dataframe tbody tr th {\n",
              "        vertical-align: top;\n",
              "    }\n",
              "\n",
              "    .dataframe thead th {\n",
              "        text-align: right;\n",
              "    }\n",
              "</style>\n",
              "<table border=\"1\" class=\"dataframe\">\n",
              "  <thead>\n",
              "    <tr style=\"text-align: right;\">\n",
              "      <th></th>\n",
              "      <th>date</th>\n",
              "      <th>time</th>\n",
              "      <th>test</th>\n",
              "      <th>negative</th>\n",
              "      <th>confirmed</th>\n",
              "      <th>released</th>\n",
              "      <th>deceased</th>\n",
              "      <th>confirmed_date</th>\n",
              "    </tr>\n",
              "  </thead>\n",
              "  <tbody>\n",
              "    <tr>\n",
              "      <th>0</th>\n",
              "      <td>2020-01-20</td>\n",
              "      <td>16</td>\n",
              "      <td>1</td>\n",
              "      <td>0</td>\n",
              "      <td>1</td>\n",
              "      <td>0</td>\n",
              "      <td>0</td>\n",
              "      <td>0</td>\n",
              "    </tr>\n",
              "    <tr>\n",
              "      <th>1</th>\n",
              "      <td>2020-01-21</td>\n",
              "      <td>16</td>\n",
              "      <td>1</td>\n",
              "      <td>0</td>\n",
              "      <td>1</td>\n",
              "      <td>0</td>\n",
              "      <td>0</td>\n",
              "      <td>0</td>\n",
              "    </tr>\n",
              "    <tr>\n",
              "      <th>2</th>\n",
              "      <td>2020-01-22</td>\n",
              "      <td>16</td>\n",
              "      <td>4</td>\n",
              "      <td>3</td>\n",
              "      <td>1</td>\n",
              "      <td>0</td>\n",
              "      <td>0</td>\n",
              "      <td>0</td>\n",
              "    </tr>\n",
              "    <tr>\n",
              "      <th>3</th>\n",
              "      <td>2020-01-23</td>\n",
              "      <td>16</td>\n",
              "      <td>22</td>\n",
              "      <td>21</td>\n",
              "      <td>1</td>\n",
              "      <td>0</td>\n",
              "      <td>0</td>\n",
              "      <td>0</td>\n",
              "    </tr>\n",
              "    <tr>\n",
              "      <th>4</th>\n",
              "      <td>2020-01-24</td>\n",
              "      <td>16</td>\n",
              "      <td>27</td>\n",
              "      <td>25</td>\n",
              "      <td>2</td>\n",
              "      <td>0</td>\n",
              "      <td>0</td>\n",
              "      <td>1</td>\n",
              "    </tr>\n",
              "    <tr>\n",
              "      <th>...</th>\n",
              "      <td>...</td>\n",
              "      <td>...</td>\n",
              "      <td>...</td>\n",
              "      <td>...</td>\n",
              "      <td>...</td>\n",
              "      <td>...</td>\n",
              "      <td>...</td>\n",
              "      <td>...</td>\n",
              "    </tr>\n",
              "    <tr>\n",
              "      <th>97</th>\n",
              "      <td>2020-04-26</td>\n",
              "      <td>0</td>\n",
              "      <td>598285</td>\n",
              "      <td>578558</td>\n",
              "      <td>10728</td>\n",
              "      <td>8717</td>\n",
              "      <td>242</td>\n",
              "      <td>10</td>\n",
              "    </tr>\n",
              "    <tr>\n",
              "      <th>98</th>\n",
              "      <td>2020-04-27</td>\n",
              "      <td>0</td>\n",
              "      <td>601660</td>\n",
              "      <td>582027</td>\n",
              "      <td>10738</td>\n",
              "      <td>8764</td>\n",
              "      <td>243</td>\n",
              "      <td>10</td>\n",
              "    </tr>\n",
              "    <tr>\n",
              "      <th>99</th>\n",
              "      <td>2020-04-28</td>\n",
              "      <td>0</td>\n",
              "      <td>608514</td>\n",
              "      <td>588559</td>\n",
              "      <td>10752</td>\n",
              "      <td>8854</td>\n",
              "      <td>244</td>\n",
              "      <td>14</td>\n",
              "    </tr>\n",
              "    <tr>\n",
              "      <th>100</th>\n",
              "      <td>2020-04-29</td>\n",
              "      <td>0</td>\n",
              "      <td>614197</td>\n",
              "      <td>595129</td>\n",
              "      <td>10761</td>\n",
              "      <td>8922</td>\n",
              "      <td>246</td>\n",
              "      <td>9</td>\n",
              "    </tr>\n",
              "    <tr>\n",
              "      <th>101</th>\n",
              "      <td>2020-04-30</td>\n",
              "      <td>0</td>\n",
              "      <td>619881</td>\n",
              "      <td>600482</td>\n",
              "      <td>10765</td>\n",
              "      <td>9059</td>\n",
              "      <td>247</td>\n",
              "      <td>4</td>\n",
              "    </tr>\n",
              "  </tbody>\n",
              "</table>\n",
              "<p>102 rows × 8 columns</p>\n",
              "</div>"
            ],
            "text/plain": [
              "          date  time    test  ...  released  deceased  confirmed_date\n",
              "0   2020-01-20    16       1  ...         0         0               0\n",
              "1   2020-01-21    16       1  ...         0         0               0\n",
              "2   2020-01-22    16       4  ...         0         0               0\n",
              "3   2020-01-23    16      22  ...         0         0               0\n",
              "4   2020-01-24    16      27  ...         0         0               1\n",
              "..         ...   ...     ...  ...       ...       ...             ...\n",
              "97  2020-04-26     0  598285  ...      8717       242              10\n",
              "98  2020-04-27     0  601660  ...      8764       243              10\n",
              "99  2020-04-28     0  608514  ...      8854       244              14\n",
              "100 2020-04-29     0  614197  ...      8922       246               9\n",
              "101 2020-04-30     0  619881  ...      9059       247               4\n",
              "\n",
              "[102 rows x 8 columns]"
            ]
          },
          "metadata": {},
          "execution_count": 295
        }
      ]
    },
    {
      "cell_type": "code",
      "metadata": {
        "colab": {
          "base_uri": "https://localhost:8080/",
          "height": 563
        },
        "id": "vMdZ26ktxLjN",
        "outputId": "73b49eb6-9281-4001-c1d7-c2792f877744"
      },
      "source": [
        "# 일단위 확진자 수 현황\n",
        "plt.figure(figsize=(20,10))\n",
        "sns.barplot(x='date', y='confirmed_date', data=time)\n",
        "plt.xticks(rotation=90)\n",
        "plt.show()"
      ],
      "execution_count": 296,
      "outputs": [
        {
          "output_type": "display_data",
          "data": {
            "image/png": "[encoded data removed]",
            "text/plain": [
              "<Figure size 1440x720 with 1 Axes>"
            ]
          },
          "metadata": {
            "needs_background": "light"
          }
        }
      ]
    },
    {
      "cell_type": "markdown",
      "metadata": {
        "id": "260pNGPqDPMX"
      },
      "source": [
        "### 5) Time Age"
      ]
    },
    {
      "cell_type": "code",
      "metadata": {
        "colab": {
          "base_uri": "https://localhost:8080/",
          "height": 403
        },
        "id": "JZYECoi77J9r",
        "outputId": "6c67679d-2c24-40dc-b1a6-c54e38e3e782"
      },
      "source": [
        "# 연령대별 누적 확진자 수 추이\n",
        "plt.figure(figsize=(12,6))\n",
        "timeage['date'] = pd.to_datetime(timeage['date'])\n",
        "sns.lineplot(x='date', y='confirmed', data=timeage, hue='age')\n",
        "plt.title('연령대별 누적 확진자 수 추이')\n",
        "plt.show()"
      ],
      "execution_count": 297,
      "outputs": [
        {
          "output_type": "display_data",
          "data": {
            "image/png": "[encoded data removed]",
            "text/plain": [
              "<Figure size 864x432 with 1 Axes>"
            ]
          },
          "metadata": {
            "needs_background": "light"
          }
        }
      ]
    },
    {
      "cell_type": "markdown",
      "metadata": {
        "id": "_rX1BfZr9hti"
      },
      "source": [
        "  - 확진자의 연령대를 살펴보면 20대가 가장 많으며 그 뒤로는 50대, 40대, 60대 순이다.\n",
        "  - 사망자는 80대, 70대, 60대 순으로 나이가 많을 수록 사망자가 많은 것으로 보아 일반적인 질병과 마찬가지로 기저질환, 면역력 등과 관계가 있어 보인다."
      ]
    },
    {
      "cell_type": "code",
      "metadata": {
        "colab": {
          "base_uri": "https://localhost:8080/",
          "height": 460
        },
        "id": "G4EpsT-1y6N9",
        "outputId": "ae32434b-fa92-4698-ecb8-d3d91b76c4cf"
      },
      "source": [
        "# 연령대별 누적 확진자수 확인(4/30일 기준)\n",
        "age_ratio = timeage[timeage['date'] == '2020-04-30']\n",
        "age_ratio['fatality_rate'] = age_ratio['deceased'] / age_ratio['confirmed']\n",
        "age_ratio"
      ],
      "execution_count": 298,
      "outputs": [
        {
          "output_type": "stream",
          "name": "stderr",
          "text": [
            "/usr/local/lib/python3.7/dist-packages/ipykernel_launcher.py:3: SettingWithCopyWarning: \n",
            "A value is trying to be set on a copy of a slice from a DataFrame.\n",
            "Try using .loc[row_indexer,col_indexer] = value instead\n",
            "\n",
            "See the caveats in the documentation: https://pandas.pydata.org/pandas-docs/stable/user_guide/indexing.html#returning-a-view-versus-a-copy\n",
            "  This is separate from the ipykernel package so we can avoid doing imports until\n"
          ]
        },
        {
          "output_type": "execute_result",
          "data": {
            "text/html": [
              "<div>\n",
              "<style scoped>\n",
              "    .dataframe tbody tr th:only-of-type {\n",
              "        vertical-align: middle;\n",
              "    }\n",
              "\n",
              "    .dataframe tbody tr th {\n",
              "        vertical-align: top;\n",
              "    }\n",
              "\n",
              "    .dataframe thead th {\n",
              "        text-align: right;\n",
              "    }\n",
              "</style>\n",
              "<table border=\"1\" class=\"dataframe\">\n",
              "  <thead>\n",
              "    <tr style=\"text-align: right;\">\n",
              "      <th></th>\n",
              "      <th>date</th>\n",
              "      <th>time</th>\n",
              "      <th>age</th>\n",
              "      <th>confirmed</th>\n",
              "      <th>deceased</th>\n",
              "      <th>fatality_rate</th>\n",
              "    </tr>\n",
              "  </thead>\n",
              "  <tbody>\n",
              "    <tr>\n",
              "      <th>531</th>\n",
              "      <td>2020-04-30</td>\n",
              "      <td>0</td>\n",
              "      <td>0s</td>\n",
              "      <td>140</td>\n",
              "      <td>0</td>\n",
              "      <td>0.000000</td>\n",
              "    </tr>\n",
              "    <tr>\n",
              "      <th>532</th>\n",
              "      <td>2020-04-30</td>\n",
              "      <td>0</td>\n",
              "      <td>10s</td>\n",
              "      <td>590</td>\n",
              "      <td>0</td>\n",
              "      <td>0.000000</td>\n",
              "    </tr>\n",
              "    <tr>\n",
              "      <th>533</th>\n",
              "      <td>2020-04-30</td>\n",
              "      <td>0</td>\n",
              "      <td>20s</td>\n",
              "      <td>2952</td>\n",
              "      <td>0</td>\n",
              "      <td>0.000000</td>\n",
              "    </tr>\n",
              "    <tr>\n",
              "      <th>534</th>\n",
              "      <td>2020-04-30</td>\n",
              "      <td>0</td>\n",
              "      <td>30s</td>\n",
              "      <td>1158</td>\n",
              "      <td>2</td>\n",
              "      <td>0.001727</td>\n",
              "    </tr>\n",
              "    <tr>\n",
              "      <th>535</th>\n",
              "      <td>2020-04-30</td>\n",
              "      <td>0</td>\n",
              "      <td>40s</td>\n",
              "      <td>1427</td>\n",
              "      <td>3</td>\n",
              "      <td>0.002102</td>\n",
              "    </tr>\n",
              "    <tr>\n",
              "      <th>536</th>\n",
              "      <td>2020-04-30</td>\n",
              "      <td>0</td>\n",
              "      <td>50s</td>\n",
              "      <td>1956</td>\n",
              "      <td>15</td>\n",
              "      <td>0.007669</td>\n",
              "    </tr>\n",
              "    <tr>\n",
              "      <th>537</th>\n",
              "      <td>2020-04-30</td>\n",
              "      <td>0</td>\n",
              "      <td>60s</td>\n",
              "      <td>1348</td>\n",
              "      <td>35</td>\n",
              "      <td>0.025964</td>\n",
              "    </tr>\n",
              "    <tr>\n",
              "      <th>538</th>\n",
              "      <td>2020-04-30</td>\n",
              "      <td>0</td>\n",
              "      <td>70s</td>\n",
              "      <td>709</td>\n",
              "      <td>74</td>\n",
              "      <td>0.104372</td>\n",
              "    </tr>\n",
              "    <tr>\n",
              "      <th>539</th>\n",
              "      <td>2020-04-30</td>\n",
              "      <td>0</td>\n",
              "      <td>80s</td>\n",
              "      <td>485</td>\n",
              "      <td>118</td>\n",
              "      <td>0.243299</td>\n",
              "    </tr>\n",
              "  </tbody>\n",
              "</table>\n",
              "</div>"
            ],
            "text/plain": [
              "          date  time  age  confirmed  deceased  fatality_rate\n",
              "531 2020-04-30     0   0s        140         0       0.000000\n",
              "532 2020-04-30     0  10s        590         0       0.000000\n",
              "533 2020-04-30     0  20s       2952         0       0.000000\n",
              "534 2020-04-30     0  30s       1158         2       0.001727\n",
              "535 2020-04-30     0  40s       1427         3       0.002102\n",
              "536 2020-04-30     0  50s       1956        15       0.007669\n",
              "537 2020-04-30     0  60s       1348        35       0.025964\n",
              "538 2020-04-30     0  70s        709        74       0.104372\n",
              "539 2020-04-30     0  80s        485       118       0.243299"
            ]
          },
          "metadata": {},
          "execution_count": 298
        }
      ]
    },
    {
      "cell_type": "code",
      "metadata": {
        "colab": {
          "base_uri": "https://localhost:8080/",
          "height": 294
        },
        "id": "bfMrxP0gz9rg",
        "outputId": "cbe13482-e558-4cfe-fd46-d2675250e55e"
      },
      "source": [
        "# 연령대별 치명률 시각화\n",
        "ax = age_ratio.plot.bar(x='age', y='fatality_rate')\n",
        "ax2 = age_ratio.plot(x='age', y='confirmed', color='red', secondary_y=True, ax=ax)\n",
        "\n",
        "ax.set_ylabel('치명률')\n",
        "ax2.set_ylabel('확진자 수')\n",
        "\n",
        "plt.title('연령대별 치명률')\n",
        "plt.show()"
      ],
      "execution_count": 299,
      "outputs": [
        {
          "output_type": "display_data",
          "data": {
            "image/png": "[encoded data removed]",
            "text/plain": [
              "<Figure size 432x288 with 2 Axes>"
            ]
          },
          "metadata": {
            "needs_background": "light"
          }
        }
      ]
    },
    {
      "cell_type": "markdown",
      "metadata": {
        "id": "-TPsW1S26bHp"
      },
      "source": [
        "- 고령층이 절대적인 확진자 수는 적으나 치명률이 높다는 사실을 알 수 있다."
      ]
    },
    {
      "cell_type": "markdown",
      "metadata": {
        "id": "DwRMcv4t8MVm"
      },
      "source": [
        "- 참고자료 : [그래프 Y축에 보조축 추가하는 법](https://www.delftstack.com/ko/howto/matplotlib/how-to-add-y-axis-label-to-secondary-y-axis-in-matplotlib/)"
      ]
    },
    {
      "cell_type": "markdown",
      "metadata": {
        "id": "2fzGRGeI2Hr7"
      },
      "source": [
        "### 6) Time Gender"
      ]
    },
    {
      "cell_type": "code",
      "metadata": {
        "colab": {
          "base_uri": "https://localhost:8080/",
          "height": 289
        },
        "id": "qqLRZVgRbGwA",
        "outputId": "601dd0a2-c6c7-4d3f-cead-77c15cb2f736"
      },
      "source": [
        "# 누적 확진자 데이터(성별 구분)\n",
        "f,ax = plt.subplots(1,1, figsize=(20,6))\n",
        "timegender['date'] = pd.to_datetime(timegender['date'])\n",
        "sns.lineplot(x='date', y='confirmed', hue='sex', data=timegender)\n",
        "plt.show()"
      ],
      "execution_count": 300,
      "outputs": [
        {
          "output_type": "display_data",
          "data": {
            "image/png": "[encoded data removed]",
            "text/plain": [
              "<Figure size 1440x432 with 1 Axes>"
            ]
          },
          "metadata": {
            "needs_background": "light"
          }
        }
      ]
    },
    {
      "cell_type": "code",
      "metadata": {
        "colab": {
          "base_uri": "https://localhost:8080/",
          "height": 290
        },
        "id": "WqLJsSNH_h35",
        "outputId": "5168c68e-94ce-443a-cf51-a45b13c4f199"
      },
      "source": [
        "# 누적 사망자 데이터(성별 구분)\n",
        "f,ax = plt.subplots(1,1, figsize=(20,6))\n",
        "timegender['date'] = pd.to_datetime(timegender['date'])\n",
        "sns.lineplot(x='date', y='deceased', hue='sex', data=timegender)\n",
        "plt.show()"
      ],
      "execution_count": 301,
      "outputs": [
        {
          "output_type": "display_data",
          "data": {
            "image/png": "[encoded data removed]",
            "text/plain": [
              "<Figure size 1440x432 with 1 Axes>"
            ]
          },
          "metadata": {
            "needs_background": "light"
          }
        }
      ]
    },
    {
      "cell_type": "markdown",
      "metadata": {
        "id": "_O5A2bIX_nfU"
      },
      "source": [
        "- 누적 확진자는 여성이 더 많은 반면에 __사망자는 남성이 더 많은 것__을 알 수 있다. 남성의 사망자가 더 많은 이유를 성별 이외에 다른 변수에서 찾아볼 필요가 있다. (확진자 중 고연령자 비중이 남자가 더 많은 경우, 흡연/비만 관련 여부)"
      ]
    },
    {
      "cell_type": "markdown",
      "metadata": {
        "id": "slX48H2gSQVC"
      },
      "source": [
        "- 참고자료 : [[데이콘] 데이터가 말하는 코로나 - 성별편](https://dacon.io/competitions/official/235590/codeshare/1012?page=2&dtype=vote)"
      ]
    },
    {
      "cell_type": "markdown",
      "metadata": {
        "id": "AIQvAB6d3FdK"
      },
      "source": [
        "### 7) Time Province"
      ]
    },
    {
      "cell_type": "code",
      "metadata": {
        "id": "kZhY2_ka3Hri",
        "colab": {
          "base_uri": "https://localhost:8080/",
          "height": 581
        },
        "outputId": "47843dee-9299-4351-ed66-d08493dbe358"
      },
      "source": [
        "timeprovince.tail(17)"
      ],
      "execution_count": 302,
      "outputs": [
        {
          "output_type": "execute_result",
          "data": {
            "text/html": [
              "<div>\n",
              "<style scoped>\n",
              "    .dataframe tbody tr th:only-of-type {\n",
              "        vertical-align: middle;\n",
              "    }\n",
              "\n",
              "    .dataframe tbody tr th {\n",
              "        vertical-align: top;\n",
              "    }\n",
              "\n",
              "    .dataframe thead th {\n",
              "        text-align: right;\n",
              "    }\n",
              "</style>\n",
              "<table border=\"1\" class=\"dataframe\">\n",
              "  <thead>\n",
              "    <tr style=\"text-align: right;\">\n",
              "      <th></th>\n",
              "      <th>date</th>\n",
              "      <th>time</th>\n",
              "      <th>province</th>\n",
              "      <th>confirmed</th>\n",
              "      <th>released</th>\n",
              "      <th>deceased</th>\n",
              "    </tr>\n",
              "  </thead>\n",
              "  <tbody>\n",
              "    <tr>\n",
              "      <th>1717</th>\n",
              "      <td>2020-04-30</td>\n",
              "      <td>0</td>\n",
              "      <td>Seoul</td>\n",
              "      <td>633</td>\n",
              "      <td>453</td>\n",
              "      <td>2</td>\n",
              "    </tr>\n",
              "    <tr>\n",
              "      <th>1718</th>\n",
              "      <td>2020-04-30</td>\n",
              "      <td>0</td>\n",
              "      <td>Busan</td>\n",
              "      <td>137</td>\n",
              "      <td>116</td>\n",
              "      <td>3</td>\n",
              "    </tr>\n",
              "    <tr>\n",
              "      <th>1719</th>\n",
              "      <td>2020-04-30</td>\n",
              "      <td>0</td>\n",
              "      <td>Daegu</td>\n",
              "      <td>6852</td>\n",
              "      <td>6144</td>\n",
              "      <td>172</td>\n",
              "    </tr>\n",
              "    <tr>\n",
              "      <th>1720</th>\n",
              "      <td>2020-04-30</td>\n",
              "      <td>0</td>\n",
              "      <td>Incheon</td>\n",
              "      <td>93</td>\n",
              "      <td>68</td>\n",
              "      <td>0</td>\n",
              "    </tr>\n",
              "    <tr>\n",
              "      <th>1721</th>\n",
              "      <td>2020-04-30</td>\n",
              "      <td>0</td>\n",
              "      <td>Gwangju</td>\n",
              "      <td>30</td>\n",
              "      <td>27</td>\n",
              "      <td>0</td>\n",
              "    </tr>\n",
              "    <tr>\n",
              "      <th>1722</th>\n",
              "      <td>2020-04-30</td>\n",
              "      <td>0</td>\n",
              "      <td>Daejeon</td>\n",
              "      <td>40</td>\n",
              "      <td>35</td>\n",
              "      <td>0</td>\n",
              "    </tr>\n",
              "    <tr>\n",
              "      <th>1723</th>\n",
              "      <td>2020-04-30</td>\n",
              "      <td>0</td>\n",
              "      <td>Ulsan</td>\n",
              "      <td>43</td>\n",
              "      <td>37</td>\n",
              "      <td>1</td>\n",
              "    </tr>\n",
              "    <tr>\n",
              "      <th>1724</th>\n",
              "      <td>2020-04-30</td>\n",
              "      <td>0</td>\n",
              "      <td>Sejong</td>\n",
              "      <td>46</td>\n",
              "      <td>38</td>\n",
              "      <td>0</td>\n",
              "    </tr>\n",
              "    <tr>\n",
              "      <th>1725</th>\n",
              "      <td>2020-04-30</td>\n",
              "      <td>0</td>\n",
              "      <td>Gyeonggi-do</td>\n",
              "      <td>676</td>\n",
              "      <td>486</td>\n",
              "      <td>15</td>\n",
              "    </tr>\n",
              "    <tr>\n",
              "      <th>1726</th>\n",
              "      <td>2020-04-30</td>\n",
              "      <td>0</td>\n",
              "      <td>Gangwon-do</td>\n",
              "      <td>53</td>\n",
              "      <td>40</td>\n",
              "      <td>2</td>\n",
              "    </tr>\n",
              "    <tr>\n",
              "      <th>1727</th>\n",
              "      <td>2020-04-30</td>\n",
              "      <td>0</td>\n",
              "      <td>Chungcheongbuk-do</td>\n",
              "      <td>45</td>\n",
              "      <td>41</td>\n",
              "      <td>0</td>\n",
              "    </tr>\n",
              "    <tr>\n",
              "      <th>1728</th>\n",
              "      <td>2020-04-30</td>\n",
              "      <td>0</td>\n",
              "      <td>Chungcheongnam-do</td>\n",
              "      <td>143</td>\n",
              "      <td>127</td>\n",
              "      <td>0</td>\n",
              "    </tr>\n",
              "    <tr>\n",
              "      <th>1729</th>\n",
              "      <td>2020-04-30</td>\n",
              "      <td>0</td>\n",
              "      <td>Jeollabuk-do</td>\n",
              "      <td>18</td>\n",
              "      <td>11</td>\n",
              "      <td>0</td>\n",
              "    </tr>\n",
              "    <tr>\n",
              "      <th>1730</th>\n",
              "      <td>2020-04-30</td>\n",
              "      <td>0</td>\n",
              "      <td>Jeollanam-do</td>\n",
              "      <td>15</td>\n",
              "      <td>11</td>\n",
              "      <td>0</td>\n",
              "    </tr>\n",
              "    <tr>\n",
              "      <th>1731</th>\n",
              "      <td>2020-04-30</td>\n",
              "      <td>0</td>\n",
              "      <td>Gyeongsangbuk-do</td>\n",
              "      <td>1365</td>\n",
              "      <td>1147</td>\n",
              "      <td>52</td>\n",
              "    </tr>\n",
              "    <tr>\n",
              "      <th>1732</th>\n",
              "      <td>2020-04-30</td>\n",
              "      <td>0</td>\n",
              "      <td>Gyeongsangnam-do</td>\n",
              "      <td>117</td>\n",
              "      <td>97</td>\n",
              "      <td>0</td>\n",
              "    </tr>\n",
              "    <tr>\n",
              "      <th>1733</th>\n",
              "      <td>2020-04-30</td>\n",
              "      <td>0</td>\n",
              "      <td>Jeju-do</td>\n",
              "      <td>13</td>\n",
              "      <td>8</td>\n",
              "      <td>0</td>\n",
              "    </tr>\n",
              "  </tbody>\n",
              "</table>\n",
              "</div>"
            ],
            "text/plain": [
              "            date  time           province  confirmed  released  deceased\n",
              "1717  2020-04-30     0              Seoul        633       453         2\n",
              "1718  2020-04-30     0              Busan        137       116         3\n",
              "1719  2020-04-30     0              Daegu       6852      6144       172\n",
              "1720  2020-04-30     0            Incheon         93        68         0\n",
              "1721  2020-04-30     0            Gwangju         30        27         0\n",
              "1722  2020-04-30     0            Daejeon         40        35         0\n",
              "1723  2020-04-30     0              Ulsan         43        37         1\n",
              "1724  2020-04-30     0             Sejong         46        38         0\n",
              "1725  2020-04-30     0        Gyeonggi-do        676       486        15\n",
              "1726  2020-04-30     0         Gangwon-do         53        40         2\n",
              "1727  2020-04-30     0  Chungcheongbuk-do         45        41         0\n",
              "1728  2020-04-30     0  Chungcheongnam-do        143       127         0\n",
              "1729  2020-04-30     0       Jeollabuk-do         18        11         0\n",
              "1730  2020-04-30     0       Jeollanam-do         15        11         0\n",
              "1731  2020-04-30     0   Gyeongsangbuk-do       1365      1147        52\n",
              "1732  2020-04-30     0   Gyeongsangnam-do        117        97         0\n",
              "1733  2020-04-30     0            Jeju-do         13         8         0"
            ]
          },
          "metadata": {},
          "execution_count": 302
        }
      ]
    },
    {
      "cell_type": "code",
      "metadata": {
        "colab": {
          "base_uri": "https://localhost:8080/"
        },
        "id": "0isPKM2vdLu_",
        "outputId": "b5ba5119-d958-489a-ceb2-831644b66743"
      },
      "source": [
        "print('지역 개수:', timeprovince['province'].nunique())\n",
        "timeprovince['province'].unique()"
      ],
      "execution_count": 303,
      "outputs": [
        {
          "output_type": "stream",
          "name": "stdout",
          "text": [
            "지역 개수: 17\n"
          ]
        },
        {
          "output_type": "execute_result",
          "data": {
            "text/plain": [
              "array(['Seoul', 'Busan', 'Daegu', 'Incheon', 'Gwangju', 'Daejeon',\n",
              "       'Ulsan', 'Sejong', 'Gyeonggi-do', 'Gangwon-do',\n",
              "       'Chungcheongbuk-do', 'Chungcheongnam-do', 'Jeollabuk-do',\n",
              "       'Jeollanam-do', 'Gyeongsangbuk-do', 'Gyeongsangnam-do', 'Jeju-do'],\n",
              "      dtype=object)"
            ]
          },
          "metadata": {},
          "execution_count": 303
        }
      ]
    },
    {
      "cell_type": "code",
      "metadata": {
        "id": "KdnehHdVA8UW"
      },
      "source": [
        "province_df = timeprovince[timeprovince['date'] == '2020-04-30'].sort_values(by='confirmed', ascending=False)"
      ],
      "execution_count": 304,
      "outputs": []
    },
    {
      "cell_type": "code",
      "metadata": {
        "colab": {
          "base_uri": "https://localhost:8080/",
          "height": 581
        },
        "id": "Pm7hh4k3CmaK",
        "outputId": "62bba925-067b-43be-f46f-751942d632ef"
      },
      "source": [
        "province_df "
      ],
      "execution_count": 305,
      "outputs": [
        {
          "output_type": "execute_result",
          "data": {
            "text/html": [
              "<div>\n",
              "<style scoped>\n",
              "    .dataframe tbody tr th:only-of-type {\n",
              "        vertical-align: middle;\n",
              "    }\n",
              "\n",
              "    .dataframe tbody tr th {\n",
              "        vertical-align: top;\n",
              "    }\n",
              "\n",
              "    .dataframe thead th {\n",
              "        text-align: right;\n",
              "    }\n",
              "</style>\n",
              "<table border=\"1\" class=\"dataframe\">\n",
              "  <thead>\n",
              "    <tr style=\"text-align: right;\">\n",
              "      <th></th>\n",
              "      <th>date</th>\n",
              "      <th>time</th>\n",
              "      <th>province</th>\n",
              "      <th>confirmed</th>\n",
              "      <th>released</th>\n",
              "      <th>deceased</th>\n",
              "    </tr>\n",
              "  </thead>\n",
              "  <tbody>\n",
              "    <tr>\n",
              "      <th>1719</th>\n",
              "      <td>2020-04-30</td>\n",
              "      <td>0</td>\n",
              "      <td>Daegu</td>\n",
              "      <td>6852</td>\n",
              "      <td>6144</td>\n",
              "      <td>172</td>\n",
              "    </tr>\n",
              "    <tr>\n",
              "      <th>1731</th>\n",
              "      <td>2020-04-30</td>\n",
              "      <td>0</td>\n",
              "      <td>Gyeongsangbuk-do</td>\n",
              "      <td>1365</td>\n",
              "      <td>1147</td>\n",
              "      <td>52</td>\n",
              "    </tr>\n",
              "    <tr>\n",
              "      <th>1725</th>\n",
              "      <td>2020-04-30</td>\n",
              "      <td>0</td>\n",
              "      <td>Gyeonggi-do</td>\n",
              "      <td>676</td>\n",
              "      <td>486</td>\n",
              "      <td>15</td>\n",
              "    </tr>\n",
              "    <tr>\n",
              "      <th>1717</th>\n",
              "      <td>2020-04-30</td>\n",
              "      <td>0</td>\n",
              "      <td>Seoul</td>\n",
              "      <td>633</td>\n",
              "      <td>453</td>\n",
              "      <td>2</td>\n",
              "    </tr>\n",
              "    <tr>\n",
              "      <th>1728</th>\n",
              "      <td>2020-04-30</td>\n",
              "      <td>0</td>\n",
              "      <td>Chungcheongnam-do</td>\n",
              "      <td>143</td>\n",
              "      <td>127</td>\n",
              "      <td>0</td>\n",
              "    </tr>\n",
              "    <tr>\n",
              "      <th>1718</th>\n",
              "      <td>2020-04-30</td>\n",
              "      <td>0</td>\n",
              "      <td>Busan</td>\n",
              "      <td>137</td>\n",
              "      <td>116</td>\n",
              "      <td>3</td>\n",
              "    </tr>\n",
              "    <tr>\n",
              "      <th>1732</th>\n",
              "      <td>2020-04-30</td>\n",
              "      <td>0</td>\n",
              "      <td>Gyeongsangnam-do</td>\n",
              "      <td>117</td>\n",
              "      <td>97</td>\n",
              "      <td>0</td>\n",
              "    </tr>\n",
              "    <tr>\n",
              "      <th>1720</th>\n",
              "      <td>2020-04-30</td>\n",
              "      <td>0</td>\n",
              "      <td>Incheon</td>\n",
              "      <td>93</td>\n",
              "      <td>68</td>\n",
              "      <td>0</td>\n",
              "    </tr>\n",
              "    <tr>\n",
              "      <th>1726</th>\n",
              "      <td>2020-04-30</td>\n",
              "      <td>0</td>\n",
              "      <td>Gangwon-do</td>\n",
              "      <td>53</td>\n",
              "      <td>40</td>\n",
              "      <td>2</td>\n",
              "    </tr>\n",
              "    <tr>\n",
              "      <th>1724</th>\n",
              "      <td>2020-04-30</td>\n",
              "      <td>0</td>\n",
              "      <td>Sejong</td>\n",
              "      <td>46</td>\n",
              "      <td>38</td>\n",
              "      <td>0</td>\n",
              "    </tr>\n",
              "    <tr>\n",
              "      <th>1727</th>\n",
              "      <td>2020-04-30</td>\n",
              "      <td>0</td>\n",
              "      <td>Chungcheongbuk-do</td>\n",
              "      <td>45</td>\n",
              "      <td>41</td>\n",
              "      <td>0</td>\n",
              "    </tr>\n",
              "    <tr>\n",
              "      <th>1723</th>\n",
              "      <td>2020-04-30</td>\n",
              "      <td>0</td>\n",
              "      <td>Ulsan</td>\n",
              "      <td>43</td>\n",
              "      <td>37</td>\n",
              "      <td>1</td>\n",
              "    </tr>\n",
              "    <tr>\n",
              "      <th>1722</th>\n",
              "      <td>2020-04-30</td>\n",
              "      <td>0</td>\n",
              "      <td>Daejeon</td>\n",
              "      <td>40</td>\n",
              "      <td>35</td>\n",
              "      <td>0</td>\n",
              "    </tr>\n",
              "    <tr>\n",
              "      <th>1721</th>\n",
              "      <td>2020-04-30</td>\n",
              "      <td>0</td>\n",
              "      <td>Gwangju</td>\n",
              "      <td>30</td>\n",
              "      <td>27</td>\n",
              "      <td>0</td>\n",
              "    </tr>\n",
              "    <tr>\n",
              "      <th>1729</th>\n",
              "      <td>2020-04-30</td>\n",
              "      <td>0</td>\n",
              "      <td>Jeollabuk-do</td>\n",
              "      <td>18</td>\n",
              "      <td>11</td>\n",
              "      <td>0</td>\n",
              "    </tr>\n",
              "    <tr>\n",
              "      <th>1730</th>\n",
              "      <td>2020-04-30</td>\n",
              "      <td>0</td>\n",
              "      <td>Jeollanam-do</td>\n",
              "      <td>15</td>\n",
              "      <td>11</td>\n",
              "      <td>0</td>\n",
              "    </tr>\n",
              "    <tr>\n",
              "      <th>1733</th>\n",
              "      <td>2020-04-30</td>\n",
              "      <td>0</td>\n",
              "      <td>Jeju-do</td>\n",
              "      <td>13</td>\n",
              "      <td>8</td>\n",
              "      <td>0</td>\n",
              "    </tr>\n",
              "  </tbody>\n",
              "</table>\n",
              "</div>"
            ],
            "text/plain": [
              "            date  time           province  confirmed  released  deceased\n",
              "1719  2020-04-30     0              Daegu       6852      6144       172\n",
              "1731  2020-04-30     0   Gyeongsangbuk-do       1365      1147        52\n",
              "1725  2020-04-30     0        Gyeonggi-do        676       486        15\n",
              "1717  2020-04-30     0              Seoul        633       453         2\n",
              "1728  2020-04-30     0  Chungcheongnam-do        143       127         0\n",
              "1718  2020-04-30     0              Busan        137       116         3\n",
              "1732  2020-04-30     0   Gyeongsangnam-do        117        97         0\n",
              "1720  2020-04-30     0            Incheon         93        68         0\n",
              "1726  2020-04-30     0         Gangwon-do         53        40         2\n",
              "1724  2020-04-30     0             Sejong         46        38         0\n",
              "1727  2020-04-30     0  Chungcheongbuk-do         45        41         0\n",
              "1723  2020-04-30     0              Ulsan         43        37         1\n",
              "1722  2020-04-30     0            Daejeon         40        35         0\n",
              "1721  2020-04-30     0            Gwangju         30        27         0\n",
              "1729  2020-04-30     0       Jeollabuk-do         18        11         0\n",
              "1730  2020-04-30     0       Jeollanam-do         15        11         0\n",
              "1733  2020-04-30     0            Jeju-do         13         8         0"
            ]
          },
          "metadata": {},
          "execution_count": 305
        }
      ]
    },
    {
      "cell_type": "code",
      "metadata": {
        "colab": {
          "base_uri": "https://localhost:8080/",
          "height": 466
        },
        "id": "VnwTZ1-B-ky1",
        "outputId": "b52780a0-88c3-4b33-cf25-38bde933615e"
      },
      "source": [
        "plt.figure(figsize=(20,10))\n",
        "timeprovince['date'] = pd.to_datetime(timeprovince['date'])\n",
        "sns.lineplot(x='date', y='confirmed', data=timeprovince, hue='province')"
      ],
      "execution_count": 306,
      "outputs": [
        {
          "output_type": "execute_result",
          "data": {
            "text/plain": [
              "<matplotlib.axes._subplots.AxesSubplot at 0x7f408bedc4d0>"
            ]
          },
          "metadata": {},
          "execution_count": 306
        },
        {
          "output_type": "display_data",
          "data": {
            "image/png": "[encoded data removed]",
            "text/plain": [
              "<Figure size 1440x720 with 1 Axes>"
            ]
          },
          "metadata": {
            "needs_background": "light"
          }
        }
      ]
    },
    {
      "cell_type": "markdown",
      "metadata": {
        "id": "lAe57kFR5rMc"
      },
      "source": [
        "### 8) Region"
      ]
    },
    {
      "cell_type": "code",
      "metadata": {
        "colab": {
          "base_uri": "https://localhost:8080/",
          "height": 699
        },
        "id": "40qKEJRX_nON",
        "outputId": "65300a65-7149-4e80-93dc-4adb949f06ce"
      },
      "source": [
        "region.groupby(['province'])['elementary_school_count', 'kindergarten_count', 'university_count', 'nursing_home_count'].sum().sort_values(by='elementary_school_count', ascending=False)"
      ],
      "execution_count": 307,
      "outputs": [
        {
          "output_type": "stream",
          "name": "stderr",
          "text": [
            "/usr/local/lib/python3.7/dist-packages/ipykernel_launcher.py:1: FutureWarning: Indexing with multiple keys (implicitly converted to a tuple of keys) will be deprecated, use a list instead.\n",
            "  \"\"\"Entry point for launching an IPython kernel.\n"
          ]
        },
        {
          "output_type": "execute_result",
          "data": {
            "text/html": [
              "<div>\n",
              "<style scoped>\n",
              "    .dataframe tbody tr th:only-of-type {\n",
              "        vertical-align: middle;\n",
              "    }\n",
              "\n",
              "    .dataframe tbody tr th {\n",
              "        vertical-align: top;\n",
              "    }\n",
              "\n",
              "    .dataframe thead th {\n",
              "        text-align: right;\n",
              "    }\n",
              "</style>\n",
              "<table border=\"1\" class=\"dataframe\">\n",
              "  <thead>\n",
              "    <tr style=\"text-align: right;\">\n",
              "      <th></th>\n",
              "      <th>elementary_school_count</th>\n",
              "      <th>kindergarten_count</th>\n",
              "      <th>university_count</th>\n",
              "      <th>nursing_home_count</th>\n",
              "    </tr>\n",
              "    <tr>\n",
              "      <th>province</th>\n",
              "      <th></th>\n",
              "      <th></th>\n",
              "      <th></th>\n",
              "      <th></th>\n",
              "    </tr>\n",
              "  </thead>\n",
              "  <tbody>\n",
              "    <tr>\n",
              "      <th>Korea</th>\n",
              "      <td>6087</td>\n",
              "      <td>8837</td>\n",
              "      <td>340</td>\n",
              "      <td>94865</td>\n",
              "    </tr>\n",
              "    <tr>\n",
              "      <th>Gyeonggi-do</th>\n",
              "      <td>2554</td>\n",
              "      <td>4474</td>\n",
              "      <td>122</td>\n",
              "      <td>40982</td>\n",
              "    </tr>\n",
              "    <tr>\n",
              "      <th>Seoul</th>\n",
              "      <td>1214</td>\n",
              "      <td>1660</td>\n",
              "      <td>96</td>\n",
              "      <td>45478</td>\n",
              "    </tr>\n",
              "    <tr>\n",
              "      <th>Gyeongsangnam-do</th>\n",
              "      <td>1002</td>\n",
              "      <td>1372</td>\n",
              "      <td>42</td>\n",
              "      <td>10728</td>\n",
              "    </tr>\n",
              "    <tr>\n",
              "      <th>Gyeongsangbuk-do</th>\n",
              "      <td>942</td>\n",
              "      <td>1414</td>\n",
              "      <td>66</td>\n",
              "      <td>8948</td>\n",
              "    </tr>\n",
              "    <tr>\n",
              "      <th>Jeollanam-do</th>\n",
              "      <td>858</td>\n",
              "      <td>1084</td>\n",
              "      <td>38</td>\n",
              "      <td>6778</td>\n",
              "    </tr>\n",
              "    <tr>\n",
              "      <th>Jeollabuk-do</th>\n",
              "      <td>838</td>\n",
              "      <td>1038</td>\n",
              "      <td>38</td>\n",
              "      <td>7548</td>\n",
              "    </tr>\n",
              "    <tr>\n",
              "      <th>Chungcheongnam-do</th>\n",
              "      <td>818</td>\n",
              "      <td>998</td>\n",
              "      <td>42</td>\n",
              "      <td>7282</td>\n",
              "    </tr>\n",
              "    <tr>\n",
              "      <th>Gangwon-do</th>\n",
              "      <td>698</td>\n",
              "      <td>736</td>\n",
              "      <td>36</td>\n",
              "      <td>5038</td>\n",
              "    </tr>\n",
              "    <tr>\n",
              "      <th>Busan</th>\n",
              "      <td>608</td>\n",
              "      <td>816</td>\n",
              "      <td>44</td>\n",
              "      <td>13504</td>\n",
              "    </tr>\n",
              "    <tr>\n",
              "      <th>Chungcheongbuk-do</th>\n",
              "      <td>518</td>\n",
              "      <td>656</td>\n",
              "      <td>34</td>\n",
              "      <td>5538</td>\n",
              "    </tr>\n",
              "    <tr>\n",
              "      <th>Incheon</th>\n",
              "      <td>500</td>\n",
              "      <td>806</td>\n",
              "      <td>14</td>\n",
              "      <td>8994</td>\n",
              "    </tr>\n",
              "    <tr>\n",
              "      <th>Daegu</th>\n",
              "      <td>458</td>\n",
              "      <td>710</td>\n",
              "      <td>22</td>\n",
              "      <td>10166</td>\n",
              "    </tr>\n",
              "    <tr>\n",
              "      <th>Gwangju</th>\n",
              "      <td>310</td>\n",
              "      <td>624</td>\n",
              "      <td>34</td>\n",
              "      <td>5704</td>\n",
              "    </tr>\n",
              "    <tr>\n",
              "      <th>Daejeon</th>\n",
              "      <td>296</td>\n",
              "      <td>520</td>\n",
              "      <td>30</td>\n",
              "      <td>5968</td>\n",
              "    </tr>\n",
              "    <tr>\n",
              "      <th>Ulsan</th>\n",
              "      <td>238</td>\n",
              "      <td>400</td>\n",
              "      <td>8</td>\n",
              "      <td>3602</td>\n",
              "    </tr>\n",
              "    <tr>\n",
              "      <th>Jeju-do</th>\n",
              "      <td>113</td>\n",
              "      <td>123</td>\n",
              "      <td>4</td>\n",
              "      <td>1245</td>\n",
              "    </tr>\n",
              "    <tr>\n",
              "      <th>Sejong</th>\n",
              "      <td>48</td>\n",
              "      <td>60</td>\n",
              "      <td>3</td>\n",
              "      <td>491</td>\n",
              "    </tr>\n",
              "  </tbody>\n",
              "</table>\n",
              "</div>"
            ],
            "text/plain": [
              "                   elementary_school_count  ...  nursing_home_count\n",
              "province                                    ...                    \n",
              "Korea                                 6087  ...               94865\n",
              "Gyeonggi-do                           2554  ...               40982\n",
              "Seoul                                 1214  ...               45478\n",
              "Gyeongsangnam-do                      1002  ...               10728\n",
              "Gyeongsangbuk-do                       942  ...                8948\n",
              "Jeollanam-do                           858  ...                6778\n",
              "Jeollabuk-do                           838  ...                7548\n",
              "Chungcheongnam-do                      818  ...                7282\n",
              "Gangwon-do                             698  ...                5038\n",
              "Busan                                  608  ...               13504\n",
              "Chungcheongbuk-do                      518  ...                5538\n",
              "Incheon                                500  ...                8994\n",
              "Daegu                                  458  ...               10166\n",
              "Gwangju                                310  ...                5704\n",
              "Daejeon                                296  ...                5968\n",
              "Ulsan                                  238  ...                3602\n",
              "Jeju-do                                113  ...                1245\n",
              "Sejong                                  48  ...                 491\n",
              "\n",
              "[18 rows x 4 columns]"
            ]
          },
          "metadata": {},
          "execution_count": 307
        }
      ]
    },
    {
      "cell_type": "code",
      "metadata": {
        "colab": {
          "base_uri": "https://localhost:8080/",
          "height": 699
        },
        "id": "trXle-7AA5jW",
        "outputId": "ece01518-38e9-49db-e490-6ca9a01528d7"
      },
      "source": [
        "region.groupby(['province'])['academy_ratio', 'elderly_population_ratio', 'elderly_alone_ratio'].mean()"
      ],
      "execution_count": 308,
      "outputs": [
        {
          "output_type": "stream",
          "name": "stderr",
          "text": [
            "/usr/local/lib/python3.7/dist-packages/ipykernel_launcher.py:1: FutureWarning: Indexing with multiple keys (implicitly converted to a tuple of keys) will be deprecated, use a list instead.\n",
            "  \"\"\"Entry point for launching an IPython kernel.\n"
          ]
        },
        {
          "output_type": "execute_result",
          "data": {
            "text/html": [
              "<div>\n",
              "<style scoped>\n",
              "    .dataframe tbody tr th:only-of-type {\n",
              "        vertical-align: middle;\n",
              "    }\n",
              "\n",
              "    .dataframe tbody tr th {\n",
              "        vertical-align: top;\n",
              "    }\n",
              "\n",
              "    .dataframe thead th {\n",
              "        text-align: right;\n",
              "    }\n",
              "</style>\n",
              "<table border=\"1\" class=\"dataframe\">\n",
              "  <thead>\n",
              "    <tr style=\"text-align: right;\">\n",
              "      <th></th>\n",
              "      <th>academy_ratio</th>\n",
              "      <th>elderly_population_ratio</th>\n",
              "      <th>elderly_alone_ratio</th>\n",
              "    </tr>\n",
              "    <tr>\n",
              "      <th>province</th>\n",
              "      <th></th>\n",
              "      <th></th>\n",
              "      <th></th>\n",
              "    </tr>\n",
              "  </thead>\n",
              "  <tbody>\n",
              "    <tr>\n",
              "      <th>Busan</th>\n",
              "      <td>1.327647</td>\n",
              "      <td>19.357647</td>\n",
              "      <td>9.094118</td>\n",
              "    </tr>\n",
              "    <tr>\n",
              "      <th>Chungcheongbuk-do</th>\n",
              "      <td>1.023333</td>\n",
              "      <td>23.192500</td>\n",
              "      <td>11.825000</td>\n",
              "    </tr>\n",
              "    <tr>\n",
              "      <th>Chungcheongnam-do</th>\n",
              "      <td>1.122500</td>\n",
              "      <td>23.844375</td>\n",
              "      <td>11.706250</td>\n",
              "    </tr>\n",
              "    <tr>\n",
              "      <th>Daegu</th>\n",
              "      <td>1.713333</td>\n",
              "      <td>17.031111</td>\n",
              "      <td>7.966667</td>\n",
              "    </tr>\n",
              "    <tr>\n",
              "      <th>Daejeon</th>\n",
              "      <td>1.425000</td>\n",
              "      <td>14.376667</td>\n",
              "      <td>6.200000</td>\n",
              "    </tr>\n",
              "    <tr>\n",
              "      <th>Gangwon-do</th>\n",
              "      <td>1.116842</td>\n",
              "      <td>22.890526</td>\n",
              "      <td>11.578947</td>\n",
              "    </tr>\n",
              "    <tr>\n",
              "      <th>Gwangju</th>\n",
              "      <td>2.473333</td>\n",
              "      <td>14.815000</td>\n",
              "      <td>6.716667</td>\n",
              "    </tr>\n",
              "    <tr>\n",
              "      <th>Gyeonggi-do</th>\n",
              "      <td>1.420625</td>\n",
              "      <td>14.429688</td>\n",
              "      <td>6.084375</td>\n",
              "    </tr>\n",
              "    <tr>\n",
              "      <th>Gyeongsangbuk-do</th>\n",
              "      <td>0.948750</td>\n",
              "      <td>27.556250</td>\n",
              "      <td>15.133333</td>\n",
              "    </tr>\n",
              "    <tr>\n",
              "      <th>Gyeongsangnam-do</th>\n",
              "      <td>1.363158</td>\n",
              "      <td>24.749474</td>\n",
              "      <td>14.721053</td>\n",
              "    </tr>\n",
              "    <tr>\n",
              "      <th>Incheon</th>\n",
              "      <td>1.054545</td>\n",
              "      <td>16.399091</td>\n",
              "      <td>7.236364</td>\n",
              "    </tr>\n",
              "    <tr>\n",
              "      <th>Jeju-do</th>\n",
              "      <td>1.530000</td>\n",
              "      <td>15.100000</td>\n",
              "      <td>6.400000</td>\n",
              "    </tr>\n",
              "    <tr>\n",
              "      <th>Jeollabuk-do</th>\n",
              "      <td>1.330000</td>\n",
              "      <td>27.470667</td>\n",
              "      <td>15.533333</td>\n",
              "    </tr>\n",
              "    <tr>\n",
              "      <th>Jeollanam-do</th>\n",
              "      <td>1.065217</td>\n",
              "      <td>28.142174</td>\n",
              "      <td>17.030435</td>\n",
              "    </tr>\n",
              "    <tr>\n",
              "      <th>Korea</th>\n",
              "      <td>1.560000</td>\n",
              "      <td>15.670000</td>\n",
              "      <td>7.200000</td>\n",
              "    </tr>\n",
              "    <tr>\n",
              "      <th>Sejong</th>\n",
              "      <td>1.780000</td>\n",
              "      <td>9.480000</td>\n",
              "      <td>3.800000</td>\n",
              "    </tr>\n",
              "    <tr>\n",
              "      <th>Seoul</th>\n",
              "      <td>1.360000</td>\n",
              "      <td>15.738077</td>\n",
              "      <td>5.923077</td>\n",
              "    </tr>\n",
              "    <tr>\n",
              "      <th>Ulsan</th>\n",
              "      <td>2.111667</td>\n",
              "      <td>11.773333</td>\n",
              "      <td>5.166667</td>\n",
              "    </tr>\n",
              "  </tbody>\n",
              "</table>\n",
              "</div>"
            ],
            "text/plain": [
              "                   academy_ratio  elderly_population_ratio  elderly_alone_ratio\n",
              "province                                                                       \n",
              "Busan                   1.327647                 19.357647             9.094118\n",
              "Chungcheongbuk-do       1.023333                 23.192500            11.825000\n",
              "Chungcheongnam-do       1.122500                 23.844375            11.706250\n",
              "Daegu                   1.713333                 17.031111             7.966667\n",
              "Daejeon                 1.425000                 14.376667             6.200000\n",
              "Gangwon-do              1.116842                 22.890526            11.578947\n",
              "Gwangju                 2.473333                 14.815000             6.716667\n",
              "Gyeonggi-do             1.420625                 14.429688             6.084375\n",
              "Gyeongsangbuk-do        0.948750                 27.556250            15.133333\n",
              "Gyeongsangnam-do        1.363158                 24.749474            14.721053\n",
              "Incheon                 1.054545                 16.399091             7.236364\n",
              "Jeju-do                 1.530000                 15.100000             6.400000\n",
              "Jeollabuk-do            1.330000                 27.470667            15.533333\n",
              "Jeollanam-do            1.065217                 28.142174            17.030435\n",
              "Korea                   1.560000                 15.670000             7.200000\n",
              "Sejong                  1.780000                  9.480000             3.800000\n",
              "Seoul                   1.360000                 15.738077             5.923077\n",
              "Ulsan                   2.111667                 11.773333             5.166667"
            ]
          },
          "metadata": {},
          "execution_count": 308
        }
      ]
    },
    {
      "cell_type": "markdown",
      "metadata": {
        "id": "6Kt7GVHdwhtA"
      },
      "source": [
        "- 향후과제 : 'Korea' 행 삭제 후 데이터 분석"
      ]
    },
    {
      "cell_type": "markdown",
      "metadata": {
        "id": "Rt6r0akZtZ-r"
      },
      "source": [
        "### 9) Weather"
      ]
    },
    {
      "cell_type": "markdown",
      "metadata": {
        "id": "rMl454J2vq12"
      },
      "source": [
        "- 주어진 코로나 데이터의 기간이 4개월 정도로 표본이 적다. 적어도 사계절의 코로나 데이터가 있어야 날씨 데이터와 유의미한 분석을 할 수 있을 것 같다."
      ]
    },
    {
      "cell_type": "markdown",
      "metadata": {
        "id": "oPxmWu836sXJ"
      },
      "source": [
        "### 10) Search Trend"
      ]
    },
    {
      "cell_type": "code",
      "metadata": {
        "id": "zW9kLwNsUu33"
      },
      "source": [
        "# 컬럼 -> 인덱스 전환 : pd.set_index()\n",
        "index = searchtrend.set_index('date')"
      ],
      "execution_count": 309,
      "outputs": []
    },
    {
      "cell_type": "markdown",
      "metadata": {
        "id": "MAzQkD-eZsXt"
      },
      "source": [
        "__감염병 관련 키워드 검색량 추이(2020년 이전 vs.이후)__"
      ]
    },
    {
      "cell_type": "code",
      "metadata": {
        "colab": {
          "base_uri": "https://localhost:8080/",
          "height": 393
        },
        "id": "XEViiytiY82c",
        "outputId": "00bdea73-234c-406f-9f35-bc82a3a7194e"
      },
      "source": [
        "# 2020년 이전\n",
        "searchtrend_1 = index.loc[:'2019-12-31',]\n",
        "searchtrend_1 = searchtrend_1.reset_index()\n",
        "\n",
        "f,ax = plt.subplots(1,1, figsize=(20,8))\n",
        "searchtrend_1.plot(x='date', y='cold', ax=ax)\n",
        "searchtrend_1.plot(x='date', y='flu', ax=ax)\n",
        "searchtrend_1.plot(x='date', y='pneumonia', ax=ax)\n",
        "searchtrend_1.plot(x='date', y='coronavirus', ax=ax)\n",
        "plt.title('감염병 관련 키워드 검색량 추이(before 코로나)', fontsize=20)\n",
        "plt.legend()\n",
        "\n",
        "plt.show()"
      ],
      "execution_count": 310,
      "outputs": [
        {
          "output_type": "display_data",
          "data": {
            "image/png": "[encoded data removed]",
            "text/plain": [
              "<Figure size 1440x576 with 1 Axes>"
            ]
          },
          "metadata": {
            "needs_background": "light"
          }
        }
      ]
    },
    {
      "cell_type": "markdown",
      "metadata": {
        "id": "s17e0JxqalMF"
      },
      "source": [
        "- 코로나 시대 이전 검색량 트렌드를 살펴보면 독감, 감기의 검색량이 대폭 증가한 시기를 확인할 수 있는데 이는 해당 감염병에 대한 유행으로 인해 일시적으로 검색량이 증가한 것이 아닌가 예상된다."
      ]
    },
    {
      "cell_type": "code",
      "metadata": {
        "colab": {
          "base_uri": "https://localhost:8080/",
          "height": 391
        },
        "id": "-sM8i2sjVUtP",
        "outputId": "db0c0991-9925-4f39-f65b-b8991fba4f05"
      },
      "source": [
        "# 2020년 이후\n",
        "searchtrend_2 = index.loc['2020-01-01':,]\n",
        "searchtrend_2 = searchtrend_2.reset_index()\n",
        "\n",
        "f,ax = plt.subplots(1,1, figsize=(20,8))\n",
        "searchtrend_2.plot(x='date', y='cold', ax=ax)\n",
        "searchtrend_2.plot(x='date', y='flu', ax=ax)\n",
        "searchtrend_2.plot(x='date', y='pneumonia', ax=ax)\n",
        "searchtrend_2.plot(x='date', y='coronavirus', ax=ax)\n",
        "plt.title('감염병 관련 키워드 검색량 추이(after 코로나)', fontsize=20)\n",
        "plt.legend()\n",
        "\n",
        "plt.show()"
      ],
      "execution_count": 311,
      "outputs": [
        {
          "output_type": "display_data",
          "data": {
            "image/png": "[encoded data removed]",
            "text/plain": [
              "<Figure size 1440x576 with 1 Axes>"
            ]
          },
          "metadata": {
            "needs_background": "light"
          }
        }
      ]
    },
    {
      "cell_type": "markdown",
      "metadata": {
        "id": "YLkWDL-NYlMk"
      },
      "source": [
        "- 최초 확진자 발생 전 중국발 우한 폐렴에 대한 뉴스가 보도 되면서 1월 중순에 처음으로 코로나 바이러스에 대한 검색량이 증가하는 모습을 볼 수 있다.  \n",
        "\n",
        "- 그리고 최초 확진자가 발생했던 2020년 1월 20일 이후로 급격하게 코로나 검색량이 증가하다가 점차 줄어드는 모습을 보였으나, 2월 말 신천지 집단감염 시기를 기점으로 다시 검색량이 폭발하는 모습니다."
      ]
    },
    {
      "cell_type": "markdown",
      "metadata": {
        "id": "aALNDLw_9N4Z"
      },
      "source": [
        "### 11) Seoul Floating"
      ]
    },
    {
      "cell_type": "code",
      "metadata": {
        "colab": {
          "base_uri": "https://localhost:8080/",
          "height": 205
        },
        "id": "tEBkB35vsiO3",
        "outputId": "7a64da62-196c-484f-875c-864fd8850d8d"
      },
      "source": [
        "seoulfloating.head()"
      ],
      "execution_count": 322,
      "outputs": [
        {
          "output_type": "execute_result",
          "data": {
            "text/html": [
              "<div>\n",
              "<style scoped>\n",
              "    .dataframe tbody tr th:only-of-type {\n",
              "        vertical-align: middle;\n",
              "    }\n",
              "\n",
              "    .dataframe tbody tr th {\n",
              "        vertical-align: top;\n",
              "    }\n",
              "\n",
              "    .dataframe thead th {\n",
              "        text-align: right;\n",
              "    }\n",
              "</style>\n",
              "<table border=\"1\" class=\"dataframe\">\n",
              "  <thead>\n",
              "    <tr style=\"text-align: right;\">\n",
              "      <th></th>\n",
              "      <th>date</th>\n",
              "      <th>hour</th>\n",
              "      <th>birth_year</th>\n",
              "      <th>sex</th>\n",
              "      <th>province</th>\n",
              "      <th>city</th>\n",
              "      <th>fp_num</th>\n",
              "    </tr>\n",
              "  </thead>\n",
              "  <tbody>\n",
              "    <tr>\n",
              "      <th>0</th>\n",
              "      <td>2020-01-01</td>\n",
              "      <td>0</td>\n",
              "      <td>20</td>\n",
              "      <td>female</td>\n",
              "      <td>Seoul</td>\n",
              "      <td>Dobong-gu</td>\n",
              "      <td>19140</td>\n",
              "    </tr>\n",
              "    <tr>\n",
              "      <th>1</th>\n",
              "      <td>2020-01-01</td>\n",
              "      <td>0</td>\n",
              "      <td>20</td>\n",
              "      <td>male</td>\n",
              "      <td>Seoul</td>\n",
              "      <td>Dobong-gu</td>\n",
              "      <td>19950</td>\n",
              "    </tr>\n",
              "    <tr>\n",
              "      <th>2</th>\n",
              "      <td>2020-01-01</td>\n",
              "      <td>0</td>\n",
              "      <td>20</td>\n",
              "      <td>female</td>\n",
              "      <td>Seoul</td>\n",
              "      <td>Dongdaemun-gu</td>\n",
              "      <td>25450</td>\n",
              "    </tr>\n",
              "    <tr>\n",
              "      <th>3</th>\n",
              "      <td>2020-01-01</td>\n",
              "      <td>0</td>\n",
              "      <td>20</td>\n",
              "      <td>male</td>\n",
              "      <td>Seoul</td>\n",
              "      <td>Dongdaemun-gu</td>\n",
              "      <td>27050</td>\n",
              "    </tr>\n",
              "    <tr>\n",
              "      <th>4</th>\n",
              "      <td>2020-01-01</td>\n",
              "      <td>0</td>\n",
              "      <td>20</td>\n",
              "      <td>female</td>\n",
              "      <td>Seoul</td>\n",
              "      <td>Dongjag-gu</td>\n",
              "      <td>28880</td>\n",
              "    </tr>\n",
              "  </tbody>\n",
              "</table>\n",
              "</div>"
            ],
            "text/plain": [
              "         date  hour  birth_year     sex province           city  fp_num\n",
              "0  2020-01-01     0          20  female    Seoul      Dobong-gu   19140\n",
              "1  2020-01-01     0          20    male    Seoul      Dobong-gu   19950\n",
              "2  2020-01-01     0          20  female    Seoul  Dongdaemun-gu   25450\n",
              "3  2020-01-01     0          20    male    Seoul  Dongdaemun-gu   27050\n",
              "4  2020-01-01     0          20  female    Seoul     Dongjag-gu   28880"
            ]
          },
          "metadata": {},
          "execution_count": 322
        }
      ]
    },
    {
      "cell_type": "markdown",
      "metadata": {
        "id": "ixyIwbObDE3w"
      },
      "source": [
        "### 12) Policy"
      ]
    },
    {
      "cell_type": "code",
      "metadata": {
        "colab": {
          "base_uri": "https://localhost:8080/",
          "height": 143
        },
        "id": "WcVODc0j-iqm",
        "outputId": "1fb37887-5aeb-4bf1-937c-58824201b0c0"
      },
      "source": [
        "policy[policy['gov_policy'] == \"Social Distancing Campaign\"]"
      ],
      "execution_count": 312,
      "outputs": [
        {
          "output_type": "execute_result",
          "data": {
            "text/html": [
              "<div>\n",
              "<style scoped>\n",
              "    .dataframe tbody tr th:only-of-type {\n",
              "        vertical-align: middle;\n",
              "    }\n",
              "\n",
              "    .dataframe tbody tr th {\n",
              "        vertical-align: top;\n",
              "    }\n",
              "\n",
              "    .dataframe thead th {\n",
              "        text-align: right;\n",
              "    }\n",
              "</style>\n",
              "<table border=\"1\" class=\"dataframe\">\n",
              "  <thead>\n",
              "    <tr style=\"text-align: right;\">\n",
              "      <th></th>\n",
              "      <th>policy_id</th>\n",
              "      <th>country</th>\n",
              "      <th>type</th>\n",
              "      <th>gov_policy</th>\n",
              "      <th>detail</th>\n",
              "      <th>start_date</th>\n",
              "      <th>end_date</th>\n",
              "    </tr>\n",
              "  </thead>\n",
              "  <tbody>\n",
              "    <tr>\n",
              "      <th>28</th>\n",
              "      <td>29</td>\n",
              "      <td>Korea</td>\n",
              "      <td>Social</td>\n",
              "      <td>Social Distancing Campaign</td>\n",
              "      <td>Strong</td>\n",
              "      <td>2020-03-22</td>\n",
              "      <td>2020-04-05</td>\n",
              "    </tr>\n",
              "    <tr>\n",
              "      <th>29</th>\n",
              "      <td>30</td>\n",
              "      <td>Korea</td>\n",
              "      <td>Social</td>\n",
              "      <td>Social Distancing Campaign</td>\n",
              "      <td>Strong</td>\n",
              "      <td>2020-04-06</td>\n",
              "      <td>2020-04-19</td>\n",
              "    </tr>\n",
              "    <tr>\n",
              "      <th>30</th>\n",
              "      <td>31</td>\n",
              "      <td>Korea</td>\n",
              "      <td>Social</td>\n",
              "      <td>Social Distancing Campaign</td>\n",
              "      <td>Weak</td>\n",
              "      <td>2020-04-20</td>\n",
              "      <td>2020-05-05</td>\n",
              "    </tr>\n",
              "  </tbody>\n",
              "</table>\n",
              "</div>"
            ],
            "text/plain": [
              "    policy_id country    type  ...  detail  start_date    end_date\n",
              "28         29   Korea  Social  ...  Strong  2020-03-22  2020-04-05\n",
              "29         30   Korea  Social  ...  Strong  2020-04-06  2020-04-19\n",
              "30         31   Korea  Social  ...    Weak  2020-04-20  2020-05-05\n",
              "\n",
              "[3 rows x 7 columns]"
            ]
          },
          "metadata": {},
          "execution_count": 312
        }
      ]
    },
    {
      "cell_type": "code",
      "metadata": {
        "colab": {
          "base_uri": "https://localhost:8080/",
          "height": 422
        },
        "id": "yvU32F25nMTz",
        "outputId": "a5cb561e-d91b-4eb7-895a-a5a524a07af2"
      },
      "source": [
        "g = patientinfo.groupby(['confirmed_date'], as_index=False)['patient_id'].count()\n",
        "g"
      ],
      "execution_count": 313,
      "outputs": [
        {
          "output_type": "execute_result",
          "data": {
            "text/html": [
              "<div>\n",
              "<style scoped>\n",
              "    .dataframe tbody tr th:only-of-type {\n",
              "        vertical-align: middle;\n",
              "    }\n",
              "\n",
              "    .dataframe tbody tr th {\n",
              "        vertical-align: top;\n",
              "    }\n",
              "\n",
              "    .dataframe thead th {\n",
              "        text-align: right;\n",
              "    }\n",
              "</style>\n",
              "<table border=\"1\" class=\"dataframe\">\n",
              "  <thead>\n",
              "    <tr style=\"text-align: right;\">\n",
              "      <th></th>\n",
              "      <th>confirmed_date</th>\n",
              "      <th>patient_id</th>\n",
              "    </tr>\n",
              "  </thead>\n",
              "  <tbody>\n",
              "    <tr>\n",
              "      <th>0</th>\n",
              "      <td>2020-01-20</td>\n",
              "      <td>1</td>\n",
              "    </tr>\n",
              "    <tr>\n",
              "      <th>1</th>\n",
              "      <td>2020-01-23</td>\n",
              "      <td>1</td>\n",
              "    </tr>\n",
              "    <tr>\n",
              "      <th>2</th>\n",
              "      <td>2020-01-26</td>\n",
              "      <td>1</td>\n",
              "    </tr>\n",
              "    <tr>\n",
              "      <th>3</th>\n",
              "      <td>2020-01-27</td>\n",
              "      <td>1</td>\n",
              "    </tr>\n",
              "    <tr>\n",
              "      <th>4</th>\n",
              "      <td>2020-01-30</td>\n",
              "      <td>3</td>\n",
              "    </tr>\n",
              "    <tr>\n",
              "      <th>...</th>\n",
              "      <td>...</td>\n",
              "      <td>...</td>\n",
              "    </tr>\n",
              "    <tr>\n",
              "      <th>82</th>\n",
              "      <td>2020-04-25</td>\n",
              "      <td>8</td>\n",
              "    </tr>\n",
              "    <tr>\n",
              "      <th>83</th>\n",
              "      <td>2020-04-26</td>\n",
              "      <td>4</td>\n",
              "    </tr>\n",
              "    <tr>\n",
              "      <th>84</th>\n",
              "      <td>2020-04-27</td>\n",
              "      <td>7</td>\n",
              "    </tr>\n",
              "    <tr>\n",
              "      <th>85</th>\n",
              "      <td>2020-04-28</td>\n",
              "      <td>3</td>\n",
              "    </tr>\n",
              "    <tr>\n",
              "      <th>86</th>\n",
              "      <td>2020-04-29</td>\n",
              "      <td>1</td>\n",
              "    </tr>\n",
              "  </tbody>\n",
              "</table>\n",
              "<p>87 rows × 2 columns</p>\n",
              "</div>"
            ],
            "text/plain": [
              "   confirmed_date  patient_id\n",
              "0      2020-01-20           1\n",
              "1      2020-01-23           1\n",
              "2      2020-01-26           1\n",
              "3      2020-01-27           1\n",
              "4      2020-01-30           3\n",
              "..            ...         ...\n",
              "82     2020-04-25           8\n",
              "83     2020-04-26           4\n",
              "84     2020-04-27           7\n",
              "85     2020-04-28           3\n",
              "86     2020-04-29           1\n",
              "\n",
              "[87 rows x 2 columns]"
            ]
          },
          "metadata": {},
          "execution_count": 313
        }
      ]
    },
    {
      "cell_type": "code",
      "metadata": {
        "colab": {
          "base_uri": "https://localhost:8080/",
          "height": 378
        },
        "id": "suQ5fQggnQxC",
        "outputId": "116a405e-87ca-4d6e-bffb-d6a1440ce177"
      },
      "source": [
        "# 사회적 거리두기 단계 정책\n",
        "g = patientinfo.groupby(['confirmed_date'], as_index=False)['patient_id'].count()\n",
        "f,ax = plt.subplots(1,1, figsize=(20,6))\n",
        "sns.lineplot(x='confirmed_date', y='patient_id', data=g)\n",
        "plt.axvline(1.0, 0.2, 0.8, color='lightgray', linestyle='--', linewidth=2)\n",
        "plt.axvline(10.0, 0.2, 0.8, color='lightgray', linestyle='--', linewidth=2)\n",
        "# plt.xticks(rotation=90)\n",
        "plt.title('일자별 확진자수 현황', fontsize=20)\n",
        "plt.show()"
      ],
      "execution_count": 321,
      "outputs": [
        {
          "output_type": "error",
          "ename": "ValueError",
          "evalue": "ignored",
          "traceback": [
            "\u001b[0;31m---------------------------------------------------------------------------\u001b[0m",
            "\u001b[0;31mValueError\u001b[0m                                Traceback (most recent call last)",
            "\u001b[0;32m<ipython-input-321-aa54bf4f7b34>\u001b[0m in \u001b[0;36m<module>\u001b[0;34m()\u001b[0m\n\u001b[1;32m      7\u001b[0m \u001b[0;31m# plt.xticks(rotation=90)\u001b[0m\u001b[0;34m\u001b[0m\u001b[0;34m\u001b[0m\u001b[0;34m\u001b[0m\u001b[0m\n\u001b[1;32m      8\u001b[0m \u001b[0mplt\u001b[0m\u001b[0;34m.\u001b[0m\u001b[0mtitle\u001b[0m\u001b[0;34m(\u001b[0m\u001b[0;34m'일자별 확진자수 현황'\u001b[0m\u001b[0;34m,\u001b[0m \u001b[0mfontsize\u001b[0m\u001b[0;34m=\u001b[0m\u001b[0;36m20\u001b[0m\u001b[0;34m)\u001b[0m\u001b[0;34m\u001b[0m\u001b[0;34m\u001b[0m\u001b[0m\n\u001b[0;32m----> 9\u001b[0;31m \u001b[0mplt\u001b[0m\u001b[0;34m.\u001b[0m\u001b[0mshow\u001b[0m\u001b[0;34m(\u001b[0m\u001b[0;34m)\u001b[0m\u001b[0;34m\u001b[0m\u001b[0;34m\u001b[0m\u001b[0m\n\u001b[0m",
            "\u001b[0;32m/usr/local/lib/python3.7/dist-packages/matplotlib/pyplot.py\u001b[0m in \u001b[0;36mshow\u001b[0;34m(*args, **kw)\u001b[0m\n\u001b[1;32m    270\u001b[0m     \"\"\"\n\u001b[1;32m    271\u001b[0m     \u001b[0;32mglobal\u001b[0m \u001b[0m_show\u001b[0m\u001b[0;34m\u001b[0m\u001b[0;34m\u001b[0m\u001b[0m\n\u001b[0;32m--> 272\u001b[0;31m     \u001b[0;32mreturn\u001b[0m \u001b[0m_show\u001b[0m\u001b[0;34m(\u001b[0m\u001b[0;34m*\u001b[0m\u001b[0margs\u001b[0m\u001b[0;34m,\u001b[0m \u001b[0;34m**\u001b[0m\u001b[0mkw\u001b[0m\u001b[0;34m)\u001b[0m\u001b[0;34m\u001b[0m\u001b[0;34m\u001b[0m\u001b[0m\n\u001b[0m\u001b[1;32m    273\u001b[0m \u001b[0;34m\u001b[0m\u001b[0m\n\u001b[1;32m    274\u001b[0m \u001b[0;34m\u001b[0m\u001b[0m\n",
            "\u001b[0;32m/usr/local/lib/python3.7/dist-packages/ipykernel/pylab/backend_inline.py\u001b[0m in \u001b[0;36mshow\u001b[0;34m(close, block)\u001b[0m\n\u001b[1;32m     37\u001b[0m             display(\n\u001b[1;32m     38\u001b[0m                 \u001b[0mfigure_manager\u001b[0m\u001b[0;34m.\u001b[0m\u001b[0mcanvas\u001b[0m\u001b[0;34m.\u001b[0m\u001b[0mfigure\u001b[0m\u001b[0;34m,\u001b[0m\u001b[0;34m\u001b[0m\u001b[0;34m\u001b[0m\u001b[0m\n\u001b[0;32m---> 39\u001b[0;31m                 \u001b[0mmetadata\u001b[0m\u001b[0;34m=\u001b[0m\u001b[0m_fetch_figure_metadata\u001b[0m\u001b[0;34m(\u001b[0m\u001b[0mfigure_manager\u001b[0m\u001b[0;34m.\u001b[0m\u001b[0mcanvas\u001b[0m\u001b[0;34m.\u001b[0m\u001b[0mfigure\u001b[0m\u001b[0;34m)\u001b[0m\u001b[0;34m\u001b[0m\u001b[0;34m\u001b[0m\u001b[0m\n\u001b[0m\u001b[1;32m     40\u001b[0m             )\n\u001b[1;32m     41\u001b[0m     \u001b[0;32mfinally\u001b[0m\u001b[0;34m:\u001b[0m\u001b[0;34m\u001b[0m\u001b[0;34m\u001b[0m\u001b[0m\n",
            "\u001b[0;32m/usr/local/lib/python3.7/dist-packages/ipykernel/pylab/backend_inline.py\u001b[0m in \u001b[0;36m_fetch_figure_metadata\u001b[0;34m(fig)\u001b[0m\n\u001b[1;32m    175\u001b[0m         \u001b[0;31m# the background is transparent\u001b[0m\u001b[0;34m\u001b[0m\u001b[0;34m\u001b[0m\u001b[0;34m\u001b[0m\u001b[0m\n\u001b[1;32m    176\u001b[0m         ticksLight = _is_light([label.get_color()\n\u001b[0;32m--> 177\u001b[0;31m                                 \u001b[0;32mfor\u001b[0m \u001b[0maxes\u001b[0m \u001b[0;32min\u001b[0m \u001b[0mfig\u001b[0m\u001b[0;34m.\u001b[0m\u001b[0maxes\u001b[0m\u001b[0;34m\u001b[0m\u001b[0;34m\u001b[0m\u001b[0m\n\u001b[0m\u001b[1;32m    178\u001b[0m                                 \u001b[0;32mfor\u001b[0m \u001b[0maxis\u001b[0m \u001b[0;32min\u001b[0m \u001b[0;34m(\u001b[0m\u001b[0maxes\u001b[0m\u001b[0;34m.\u001b[0m\u001b[0mxaxis\u001b[0m\u001b[0;34m,\u001b[0m \u001b[0maxes\u001b[0m\u001b[0;34m.\u001b[0m\u001b[0myaxis\u001b[0m\u001b[0;34m)\u001b[0m\u001b[0;34m\u001b[0m\u001b[0;34m\u001b[0m\u001b[0m\n\u001b[1;32m    179\u001b[0m                                 for label in axis.get_ticklabels()])\n",
            "\u001b[0;32m/usr/local/lib/python3.7/dist-packages/ipykernel/pylab/backend_inline.py\u001b[0m in \u001b[0;36m<listcomp>\u001b[0;34m(.0)\u001b[0m\n\u001b[1;32m    177\u001b[0m                                 \u001b[0;32mfor\u001b[0m \u001b[0maxes\u001b[0m \u001b[0;32min\u001b[0m \u001b[0mfig\u001b[0m\u001b[0;34m.\u001b[0m\u001b[0maxes\u001b[0m\u001b[0;34m\u001b[0m\u001b[0;34m\u001b[0m\u001b[0m\n\u001b[1;32m    178\u001b[0m                                 \u001b[0;32mfor\u001b[0m \u001b[0maxis\u001b[0m \u001b[0;32min\u001b[0m \u001b[0;34m(\u001b[0m\u001b[0maxes\u001b[0m\u001b[0;34m.\u001b[0m\u001b[0mxaxis\u001b[0m\u001b[0;34m,\u001b[0m \u001b[0maxes\u001b[0m\u001b[0;34m.\u001b[0m\u001b[0myaxis\u001b[0m\u001b[0;34m)\u001b[0m\u001b[0;34m\u001b[0m\u001b[0;34m\u001b[0m\u001b[0m\n\u001b[0;32m--> 179\u001b[0;31m                                 for label in axis.get_ticklabels()])\n\u001b[0m\u001b[1;32m    180\u001b[0m         \u001b[0;32mif\u001b[0m \u001b[0mticksLight\u001b[0m\u001b[0;34m.\u001b[0m\u001b[0msize\u001b[0m \u001b[0;32mand\u001b[0m \u001b[0;34m(\u001b[0m\u001b[0mticksLight\u001b[0m \u001b[0;34m==\u001b[0m \u001b[0mticksLight\u001b[0m\u001b[0;34m[\u001b[0m\u001b[0;36m0\u001b[0m\u001b[0;34m]\u001b[0m\u001b[0;34m)\u001b[0m\u001b[0;34m.\u001b[0m\u001b[0mall\u001b[0m\u001b[0;34m(\u001b[0m\u001b[0;34m)\u001b[0m\u001b[0;34m:\u001b[0m\u001b[0;34m\u001b[0m\u001b[0;34m\u001b[0m\u001b[0m\n\u001b[1;32m    181\u001b[0m             \u001b[0;31m# there are one or more tick labels, all with the same lightness\u001b[0m\u001b[0;34m\u001b[0m\u001b[0;34m\u001b[0m\u001b[0;34m\u001b[0m\u001b[0m\n",
            "\u001b[0;32m/usr/local/lib/python3.7/dist-packages/matplotlib/axis.py\u001b[0m in \u001b[0;36mget_ticklabels\u001b[0;34m(self, minor, which)\u001b[0m\n\u001b[1;32m   1318\u001b[0m         \u001b[0;32mif\u001b[0m \u001b[0mminor\u001b[0m\u001b[0;34m:\u001b[0m\u001b[0;34m\u001b[0m\u001b[0;34m\u001b[0m\u001b[0m\n\u001b[1;32m   1319\u001b[0m             \u001b[0;32mreturn\u001b[0m \u001b[0mself\u001b[0m\u001b[0;34m.\u001b[0m\u001b[0mget_minorticklabels\u001b[0m\u001b[0;34m(\u001b[0m\u001b[0;34m)\u001b[0m\u001b[0;34m\u001b[0m\u001b[0;34m\u001b[0m\u001b[0m\n\u001b[0;32m-> 1320\u001b[0;31m         \u001b[0;32mreturn\u001b[0m \u001b[0mself\u001b[0m\u001b[0;34m.\u001b[0m\u001b[0mget_majorticklabels\u001b[0m\u001b[0;34m(\u001b[0m\u001b[0;34m)\u001b[0m\u001b[0;34m\u001b[0m\u001b[0;34m\u001b[0m\u001b[0m\n\u001b[0m\u001b[1;32m   1321\u001b[0m \u001b[0;34m\u001b[0m\u001b[0m\n\u001b[1;32m   1322\u001b[0m     \u001b[0;32mdef\u001b[0m \u001b[0mget_majorticklines\u001b[0m\u001b[0;34m(\u001b[0m\u001b[0mself\u001b[0m\u001b[0;34m)\u001b[0m\u001b[0;34m:\u001b[0m\u001b[0;34m\u001b[0m\u001b[0;34m\u001b[0m\u001b[0m\n",
            "\u001b[0;32m/usr/local/lib/python3.7/dist-packages/matplotlib/axis.py\u001b[0m in \u001b[0;36mget_majorticklabels\u001b[0;34m(self)\u001b[0m\n\u001b[1;32m   1274\u001b[0m     \u001b[0;32mdef\u001b[0m \u001b[0mget_majorticklabels\u001b[0m\u001b[0;34m(\u001b[0m\u001b[0mself\u001b[0m\u001b[0;34m)\u001b[0m\u001b[0;34m:\u001b[0m\u001b[0;34m\u001b[0m\u001b[0;34m\u001b[0m\u001b[0m\n\u001b[1;32m   1275\u001b[0m         \u001b[0;34m'Return a list of Text instances for the major ticklabels.'\u001b[0m\u001b[0;34m\u001b[0m\u001b[0;34m\u001b[0m\u001b[0m\n\u001b[0;32m-> 1276\u001b[0;31m         \u001b[0mticks\u001b[0m \u001b[0;34m=\u001b[0m \u001b[0mself\u001b[0m\u001b[0;34m.\u001b[0m\u001b[0mget_major_ticks\u001b[0m\u001b[0;34m(\u001b[0m\u001b[0;34m)\u001b[0m\u001b[0;34m\u001b[0m\u001b[0;34m\u001b[0m\u001b[0m\n\u001b[0m\u001b[1;32m   1277\u001b[0m         \u001b[0mlabels1\u001b[0m \u001b[0;34m=\u001b[0m \u001b[0;34m[\u001b[0m\u001b[0mtick\u001b[0m\u001b[0;34m.\u001b[0m\u001b[0mlabel1\u001b[0m \u001b[0;32mfor\u001b[0m \u001b[0mtick\u001b[0m \u001b[0;32min\u001b[0m \u001b[0mticks\u001b[0m \u001b[0;32mif\u001b[0m \u001b[0mtick\u001b[0m\u001b[0;34m.\u001b[0m\u001b[0mlabel1\u001b[0m\u001b[0;34m.\u001b[0m\u001b[0mget_visible\u001b[0m\u001b[0;34m(\u001b[0m\u001b[0;34m)\u001b[0m\u001b[0;34m]\u001b[0m\u001b[0;34m\u001b[0m\u001b[0;34m\u001b[0m\u001b[0m\n\u001b[1;32m   1278\u001b[0m         \u001b[0mlabels2\u001b[0m \u001b[0;34m=\u001b[0m \u001b[0;34m[\u001b[0m\u001b[0mtick\u001b[0m\u001b[0;34m.\u001b[0m\u001b[0mlabel2\u001b[0m \u001b[0;32mfor\u001b[0m \u001b[0mtick\u001b[0m \u001b[0;32min\u001b[0m \u001b[0mticks\u001b[0m \u001b[0;32mif\u001b[0m \u001b[0mtick\u001b[0m\u001b[0;34m.\u001b[0m\u001b[0mlabel2\u001b[0m\u001b[0;34m.\u001b[0m\u001b[0mget_visible\u001b[0m\u001b[0;34m(\u001b[0m\u001b[0;34m)\u001b[0m\u001b[0;34m]\u001b[0m\u001b[0;34m\u001b[0m\u001b[0;34m\u001b[0m\u001b[0m\n",
            "\u001b[0;32m/usr/local/lib/python3.7/dist-packages/matplotlib/axis.py\u001b[0m in \u001b[0;36mget_major_ticks\u001b[0;34m(self, numticks)\u001b[0m\n\u001b[1;32m   1429\u001b[0m         \u001b[0;34m'Get the tick instances; grow as necessary.'\u001b[0m\u001b[0;34m\u001b[0m\u001b[0;34m\u001b[0m\u001b[0m\n\u001b[1;32m   1430\u001b[0m         \u001b[0;32mif\u001b[0m \u001b[0mnumticks\u001b[0m \u001b[0;32mis\u001b[0m \u001b[0;32mNone\u001b[0m\u001b[0;34m:\u001b[0m\u001b[0;34m\u001b[0m\u001b[0;34m\u001b[0m\u001b[0m\n\u001b[0;32m-> 1431\u001b[0;31m             \u001b[0mnumticks\u001b[0m \u001b[0;34m=\u001b[0m \u001b[0mlen\u001b[0m\u001b[0;34m(\u001b[0m\u001b[0mself\u001b[0m\u001b[0;34m.\u001b[0m\u001b[0mget_majorticklocs\u001b[0m\u001b[0;34m(\u001b[0m\u001b[0;34m)\u001b[0m\u001b[0;34m)\u001b[0m\u001b[0;34m\u001b[0m\u001b[0;34m\u001b[0m\u001b[0m\n\u001b[0m\u001b[1;32m   1432\u001b[0m \u001b[0;34m\u001b[0m\u001b[0m\n\u001b[1;32m   1433\u001b[0m         \u001b[0;32mwhile\u001b[0m \u001b[0mlen\u001b[0m\u001b[0;34m(\u001b[0m\u001b[0mself\u001b[0m\u001b[0;34m.\u001b[0m\u001b[0mmajorTicks\u001b[0m\u001b[0;34m)\u001b[0m \u001b[0;34m<\u001b[0m \u001b[0mnumticks\u001b[0m\u001b[0;34m:\u001b[0m\u001b[0;34m\u001b[0m\u001b[0;34m\u001b[0m\u001b[0m\n",
            "\u001b[0;32m/usr/local/lib/python3.7/dist-packages/matplotlib/axis.py\u001b[0m in \u001b[0;36mget_majorticklocs\u001b[0;34m(self)\u001b[0m\n\u001b[1;32m   1346\u001b[0m     \u001b[0;32mdef\u001b[0m \u001b[0mget_majorticklocs\u001b[0m\u001b[0;34m(\u001b[0m\u001b[0mself\u001b[0m\u001b[0;34m)\u001b[0m\u001b[0;34m:\u001b[0m\u001b[0;34m\u001b[0m\u001b[0;34m\u001b[0m\u001b[0m\n\u001b[1;32m   1347\u001b[0m         \u001b[0;34m\"\"\"Get the array of major tick locations in data coordinates.\"\"\"\u001b[0m\u001b[0;34m\u001b[0m\u001b[0;34m\u001b[0m\u001b[0m\n\u001b[0;32m-> 1348\u001b[0;31m         \u001b[0;32mreturn\u001b[0m \u001b[0mself\u001b[0m\u001b[0;34m.\u001b[0m\u001b[0mmajor\u001b[0m\u001b[0;34m.\u001b[0m\u001b[0mlocator\u001b[0m\u001b[0;34m(\u001b[0m\u001b[0;34m)\u001b[0m\u001b[0;34m\u001b[0m\u001b[0;34m\u001b[0m\u001b[0m\n\u001b[0m\u001b[1;32m   1349\u001b[0m \u001b[0;34m\u001b[0m\u001b[0m\n\u001b[1;32m   1350\u001b[0m     \u001b[0;32mdef\u001b[0m \u001b[0mget_minorticklocs\u001b[0m\u001b[0;34m(\u001b[0m\u001b[0mself\u001b[0m\u001b[0;34m)\u001b[0m\u001b[0;34m:\u001b[0m\u001b[0;34m\u001b[0m\u001b[0;34m\u001b[0m\u001b[0m\n",
            "\u001b[0;32m/usr/local/lib/python3.7/dist-packages/matplotlib/dates.py\u001b[0m in \u001b[0;36m__call__\u001b[0;34m(self)\u001b[0m\n\u001b[1;32m   1336\u001b[0m     \u001b[0;32mdef\u001b[0m \u001b[0m__call__\u001b[0m\u001b[0;34m(\u001b[0m\u001b[0mself\u001b[0m\u001b[0;34m)\u001b[0m\u001b[0;34m:\u001b[0m\u001b[0;34m\u001b[0m\u001b[0;34m\u001b[0m\u001b[0m\n\u001b[1;32m   1337\u001b[0m         \u001b[0;34m'Return the locations of the ticks'\u001b[0m\u001b[0;34m\u001b[0m\u001b[0;34m\u001b[0m\u001b[0m\n\u001b[0;32m-> 1338\u001b[0;31m         \u001b[0mself\u001b[0m\u001b[0;34m.\u001b[0m\u001b[0mrefresh\u001b[0m\u001b[0;34m(\u001b[0m\u001b[0;34m)\u001b[0m\u001b[0;34m\u001b[0m\u001b[0;34m\u001b[0m\u001b[0m\n\u001b[0m\u001b[1;32m   1339\u001b[0m         \u001b[0;32mreturn\u001b[0m \u001b[0mself\u001b[0m\u001b[0;34m.\u001b[0m\u001b[0m_locator\u001b[0m\u001b[0;34m(\u001b[0m\u001b[0;34m)\u001b[0m\u001b[0;34m\u001b[0m\u001b[0;34m\u001b[0m\u001b[0m\n\u001b[1;32m   1340\u001b[0m \u001b[0;34m\u001b[0m\u001b[0m\n",
            "\u001b[0;32m/usr/local/lib/python3.7/dist-packages/matplotlib/dates.py\u001b[0m in \u001b[0;36mrefresh\u001b[0;34m(self)\u001b[0m\n\u001b[1;32m   1362\u001b[0m     \u001b[0;32mdef\u001b[0m \u001b[0mrefresh\u001b[0m\u001b[0;34m(\u001b[0m\u001b[0mself\u001b[0m\u001b[0;34m)\u001b[0m\u001b[0;34m:\u001b[0m\u001b[0;34m\u001b[0m\u001b[0;34m\u001b[0m\u001b[0m\n\u001b[1;32m   1363\u001b[0m         \u001b[0;31m# docstring inherited\u001b[0m\u001b[0;34m\u001b[0m\u001b[0;34m\u001b[0m\u001b[0;34m\u001b[0m\u001b[0m\n\u001b[0;32m-> 1364\u001b[0;31m         \u001b[0mdmin\u001b[0m\u001b[0;34m,\u001b[0m \u001b[0mdmax\u001b[0m \u001b[0;34m=\u001b[0m \u001b[0mself\u001b[0m\u001b[0;34m.\u001b[0m\u001b[0mviewlim_to_dt\u001b[0m\u001b[0;34m(\u001b[0m\u001b[0;34m)\u001b[0m\u001b[0;34m\u001b[0m\u001b[0;34m\u001b[0m\u001b[0m\n\u001b[0m\u001b[1;32m   1365\u001b[0m         \u001b[0mself\u001b[0m\u001b[0;34m.\u001b[0m\u001b[0m_locator\u001b[0m \u001b[0;34m=\u001b[0m \u001b[0mself\u001b[0m\u001b[0;34m.\u001b[0m\u001b[0mget_locator\u001b[0m\u001b[0;34m(\u001b[0m\u001b[0mdmin\u001b[0m\u001b[0;34m,\u001b[0m \u001b[0mdmax\u001b[0m\u001b[0;34m)\u001b[0m\u001b[0;34m\u001b[0m\u001b[0;34m\u001b[0m\u001b[0m\n\u001b[1;32m   1366\u001b[0m \u001b[0;34m\u001b[0m\u001b[0m\n",
            "\u001b[0;32m/usr/local/lib/python3.7/dist-packages/matplotlib/dates.py\u001b[0m in \u001b[0;36mviewlim_to_dt\u001b[0;34m(self)\u001b[0m\n\u001b[1;32m   1096\u001b[0m                              \u001b[0;34m'often happens if you pass a non-datetime '\u001b[0m\u001b[0;34m\u001b[0m\u001b[0;34m\u001b[0m\u001b[0m\n\u001b[1;32m   1097\u001b[0m                              \u001b[0;34m'value to an axis that has datetime units'\u001b[0m\u001b[0;34m\u001b[0m\u001b[0;34m\u001b[0m\u001b[0m\n\u001b[0;32m-> 1098\u001b[0;31m                              .format(vmin))\n\u001b[0m\u001b[1;32m   1099\u001b[0m         \u001b[0;32mreturn\u001b[0m \u001b[0mnum2date\u001b[0m\u001b[0;34m(\u001b[0m\u001b[0mvmin\u001b[0m\u001b[0;34m,\u001b[0m \u001b[0mself\u001b[0m\u001b[0;34m.\u001b[0m\u001b[0mtz\u001b[0m\u001b[0;34m)\u001b[0m\u001b[0;34m,\u001b[0m \u001b[0mnum2date\u001b[0m\u001b[0;34m(\u001b[0m\u001b[0mvmax\u001b[0m\u001b[0;34m,\u001b[0m \u001b[0mself\u001b[0m\u001b[0;34m.\u001b[0m\u001b[0mtz\u001b[0m\u001b[0;34m)\u001b[0m\u001b[0;34m\u001b[0m\u001b[0;34m\u001b[0m\u001b[0m\n\u001b[1;32m   1100\u001b[0m \u001b[0;34m\u001b[0m\u001b[0m\n",
            "\u001b[0;31mValueError\u001b[0m: view limit minimum -36876.15 is less than 1 and is an invalid Matplotlib date value. This often happens if you pass a non-datetime value to an axis that has datetime units"
          ]
        }
      ]
    },
    {
      "cell_type": "markdown",
      "metadata": {
        "id": "OMXqJq5cerbN"
      },
      "source": [
        "- 그래프에서 점선으로 표시하고 있는 부분이 정부의 사회적 거리두기 캠페인 정책 시작 시점이다. (빨간색은 강도 높은 사회적 거리두기 단계, 녹샌은 비교적 완화된 사회적 거리두기 단계 정책을 시행하였다.)\n",
        "\n",
        "- 1차 사회적 거리두기 캠페인이 __3.22일에 시작되었음에도 불구하고 2주동안 확진자가 계속 증가__해 4.6일을 기점으로 한차례 연장되어 4.19일까지 지속되었다.  \n",
        "\n",
        "- 그래프 상에서 확인할 수 있듯이 거리두기 단계 캠페인 실시 이후 1차 연장시점(4.6일)부터 점차 확진자 수가 감소하여 __4.20일 부터는 거리두기 단계 등급을 완화__한 것으로 보인다."
      ]
    },
    {
      "cell_type": "markdown",
      "metadata": {
        "id": "cn8vngatb_9A"
      },
      "source": [
        "- 참고자료 : [[Matplotlib] 수평선/수직선 표시하기](https://codetorial.net/matplotlib/set_lines.html)"
      ]
    }
  ]
}