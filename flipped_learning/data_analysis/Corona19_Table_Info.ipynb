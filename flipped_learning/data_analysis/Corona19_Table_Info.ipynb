{
  "nbformat": 4,
  "nbformat_minor": 0,
  "metadata": {
    "colab": {
      "name": "Corona19-Table_Info.ipynb",
      "provenance": []
    },
    "kernelspec": {
      "name": "python3",
      "display_name": "Python 3"
    },
    "language_info": {
      "name": "python"
    }
  },
  "cells": [
    {
      "cell_type": "markdown",
      "metadata": {
        "id": "o-50Q2joSKy7"
      },
      "source": [
        "# 코로나 데이터 시각화"
      ]
    },
    {
      "cell_type": "markdown",
      "metadata": {
        "id": "KV3vzbiZOpRk"
      },
      "source": [
        "## 테이블 정보 요약"
      ]
    },
    {
      "cell_type": "markdown",
      "metadata": {
        "id": "UPMD2zKTOs0k"
      },
      "source": [
        "### 1) Case Data\n",
        "- Case : 신천지, 구로구 콜센터 집단 감염 사례와 같은 전국 주요 확진 Case\n",
        " "
      ]
    },
    {
      "cell_type": "markdown",
      "metadata": {
        "id": "KQkHJj2MPijb"
      },
      "source": [
        "### 2) Patient Data\n",
        "- PatientInfo : 확진자 개인/역학조사 정보(성별, 출생연도, 연령대, 국적 등) \n",
        "- PatientRoute : 확진자 이동 동선 정보"
      ]
    },
    {
      "cell_type": "markdown",
      "metadata": {
        "id": "JiOMC8kxQbzS"
      },
      "source": [
        "### 3) Time Data\n",
        "- Time : 일자별 누적 검사자수/검사결과/퇴원인원(음성/양성)/사망인원\n",
        "- TimeAge : 연령대별 누적 확진/사망자 수\n",
        "- TimeGender : 성별 누적 확진자/사망자 수\n",
        "- TimeProvince : 지역별 누적 확진/퇴원/사망자 수"
      ]
    },
    {
      "cell_type": "markdown",
      "metadata": {
        "id": "sY9Boh_GQlaw"
      },
      "source": [
        "### 4) Additional Data\n",
        "- Region : 지역별 초등학교, 유치원, 대학교, 요양기관 숫자 현황 및 학원, 노인인구, 독거노인 비율\n",
        "- Weather : 2016년 1월 ~ 2020년 4월 지역별 날씨 관련 데이터\n",
        "- SearchTrend : 감기/독감/폐렴/코로나 바이러스 관련 검색 트렌드 정보\n",
        "- SeoulFloating : 서울 시간대별(00시 ~ 23시), 연령별(20대~70대), 성별, 지역구별 유동인구 정보\n",
        "- Policy : 코로나 관련 정부 정책 정보"
      ]
    },
    {
      "cell_type": "markdown",
      "metadata": {
        "id": "QahRCHa7Sp4e"
      },
      "source": [
        "## 테이블별 컬럼 정보"
      ]
    },
    {
      "cell_type": "markdown",
      "metadata": {
        "id": "yaR2HIKXSsEM"
      },
      "source": [
        "### 1) CASE (확진 케이스)\n",
        "- case_id : 케이스 번호(region_code(5) + case_number(2))\n",
        "- province : 확진자 거주 시/도 정보\n",
        "- city : 확진자 거주 시/군/구 정보\n",
        "- group : 집단감염 여부(True/False)\n",
        "- infection_case : 집단감염 장소\n",
        "- confirmed : 확진자 발생 수\n",
        "- latitude : 위도\n",
        "- longitude : 경도"
      ]
    },
    {
      "cell_type": "markdown",
      "metadata": {
        "id": "6hT3Uu15Y2Y-"
      },
      "source": [
        "### 2) Patient Info (환자정보)\n",
        "- patient_id : 환자ID\n",
        "- global_num : 질병관리청에서 부여한 확진자 번호\n",
        "- sex : 성별\n",
        "- birt_year : 출생연도\n",
        "- age : 연령대\n",
        "- province : 거주지(시/도)\n",
        "- city : 거주지(시/군/구)\n",
        "- disease : \n",
        "- infection_case : 감염경로\n",
        "- infection_order : N차 감염자\n",
        "- infected_by : 해당 환자를 감염시킨 환자ID\n",
        "- contact_number : 접촉자수\n",
        "- symptom_onset_date : 증상발현일\n",
        "- confirmed_date : 확진일\n",
        "- released_date : 퇴원일\n",
        "- deceased_date : 사망일\n",
        "- state : 상태(사망/퇴원 등)"
      ]
    },
    {
      "cell_type": "markdown",
      "metadata": {
        "id": "RUrbUGGw2hQ0"
      },
      "source": [
        "### 3) Patient Route (환자동선)\n",
        "- patient_id : 환자ID\n",
        "- global_id : 질병관리청에서 부여한 확진자 번호\n",
        "- date : 방문일자\n",
        "- province : 방문지(시/도)\n",
        "- city : 방문지(시/군/구)\n",
        "- type : 방문장소\n",
        "- latitude : 방문지 위도\n",
        "- longitude : 방문지 경도"
      ]
    },
    {
      "cell_type": "markdown",
      "metadata": {
        "id": "djLSW9Sw3KY8"
      },
      "source": [
        "### 4) Time (시간)\n",
        "- date : 일자\n",
        "- time : 시간대\n",
        "- test : 누적 검사자 수\n",
        "- negative : 누적 음성 판정 인원\n",
        "- confirmed : 누적 확진(양성 판정) 인원\n",
        "- released : 누적 퇴원자 수\n",
        "- deceased : 누적 사망자 수"
      ]
    },
    {
      "cell_type": "markdown",
      "metadata": {
        "id": "LJjiZP8J6APV"
      },
      "source": [
        "### 5) Time Age (연령대별 확진/사망자수 추이)\n",
        "- date : 일자\n",
        "- time : 시간대\n",
        "- age : 연령대\n",
        "- confirmed : 누적 확진자 수\n",
        "- deceased : 누적 사망자 수"
      ]
    },
    {
      "cell_type": "markdown",
      "metadata": {
        "id": "er_VKLISGd87"
      },
      "source": [
        "### 6) Time Gender (성별 확진/사망자수 추이)\n",
        "- date : 일자\n",
        "- time : 시간대\n",
        "- sex : 성별(남/녀)\n",
        "- confirmed : 누적 확진자 수\n",
        "- deceased : 누적 사망자 수"
      ]
    },
    {
      "cell_type": "markdown",
      "metadata": {
        "id": "xuh7lkEo9G31"
      },
      "source": [
        "### 7) Time Province (지역별 확진/퇴원/사망자수 추이)\n",
        "- date : 일자\n",
        "- time : 시간대\n",
        "- province : 지역(시/도)\n",
        "- confirmed : 누적 확진자 수\n",
        "- released : 누적 퇴원자 수\n",
        "- deceased : 누적 사망자 수"
      ]
    },
    {
      "cell_type": "markdown",
      "metadata": {
        "id": "NHgTPJF--2pM"
      },
      "source": [
        "### 8) Region (지역정보)\n",
        "- code : 지역코드(우편번호 X)\n",
        "- province : 지역(시/도)\n",
        "- city : 지역(시/군/구)\n",
        "- latitude : 위도\n",
        "- longitude : 경도\n",
        "- elementary_school_count : 초등학교 수\n",
        "- kindergarten_count : 유치원 수\n",
        "- university_count : 대학교 수\n",
        "- academy_ratio : 학원 비율\n",
        "- elderly_population_ratio : 노인 비율\n",
        "- elderly_alone_ratio : 독거노인 비율\n",
        "- nursing_home_count : 요양원 수\n",
        "\n"
      ]
    },
    {
      "cell_type": "markdown",
      "metadata": {
        "id": "SavA_rI3CAvu"
      },
      "source": [
        "### 09. Weather (날씨 정보)\n",
        "- code : 지역코드(우편번호 X)\n",
        "- province : 지역(시/도)\n",
        "- date : 일자\n",
        "- avg_temp : 평균 기온\n",
        "- min_temp : 최저 기온\n",
        "- max_temp : 최고 기온\n",
        "- precipitation : 강수량\n",
        "- max_wind_speed : 최고풍속\n",
        "- most_wind_direction : 풍향\n",
        "- avg_relative_humidity : 평균 상대 습도"
      ]
    },
    {
      "cell_type": "markdown",
      "metadata": {
        "id": "S11jIxpSDcep"
      },
      "source": [
        "### 10. Search Trend (검색 트렌드)\n",
        "- date : 일자\n",
        "- cold : '감기' 검색량\n",
        "- flu : '독감' 검색량\n",
        "- pneumonia : '폐렴' 검색량\n",
        "- coronavirus : '코로나 바이러스' 검색량"
      ]
    },
    {
      "cell_type": "markdown",
      "metadata": {
        "id": "46ZAo-ksEfkZ"
      },
      "source": [
        "### 11) Seoul Floating (서울 유동인구 정보)\n",
        "- date : 일자\n",
        "- hour : 시간대\n",
        "- birth_year : 연령대\n",
        "- sex : 성별\n",
        "- province : 지역(Only 서울)\n",
        "- city : 자치구 정보\n",
        "- fp_num : 유동인구"
      ]
    },
    {
      "cell_type": "markdown",
      "metadata": {
        "id": "GvBH-VK5FiAi"
      },
      "source": [
        "### 12) Policy (코로나 관련 정책)\n",
        "- policy_id : 정책번호\n",
        "- country : 국가(Only Korea)\n",
        "- type : 정책 유형\n",
        "- gov_policy : 정책 내용\n",
        "- detail : 비고(세부사항)\n",
        "- start_date : 시작일자\n",
        "- end_date : 종료일자"
      ]
    }
  ]
}