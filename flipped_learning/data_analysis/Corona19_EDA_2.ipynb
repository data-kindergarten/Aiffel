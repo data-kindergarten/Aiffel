{
  "nbformat": 4,
  "nbformat_minor": 0,
  "metadata": {
    "colab": {
      "name": "Corona19-EDA-2.ipynb",
      "provenance": [],
      "collapsed_sections": []
    },
    "kernelspec": {
      "name": "python3",
      "display_name": "Python 3"
    },
    "language_info": {
      "name": "python"
    }
  },
  "cells": [
    {
      "cell_type": "code",
      "metadata": {
        "colab": {
          "base_uri": "https://localhost:8080/"
        },
        "id": "phkhLKJGCWr9",
        "outputId": "5dc11a4b-4351-4949-b057-2db6fb83db8f"
      },
      "source": [
        "from google.colab import drive\n",
        "drive.mount('/content/gdrive')"
      ],
      "execution_count": 1,
      "outputs": [
        {
          "output_type": "stream",
          "text": [
            "Mounted at /content/gdrive\n"
          ],
          "name": "stdout"
        }
      ]
    },
    {
      "cell_type": "code",
      "metadata": {
        "id": "U1FlC1UHCcaQ"
      },
      "source": [
        "import numpy as np\n",
        "import pandas as pd\n",
        "import matplotlib.pyplot as plt\n",
        "import seaborn as sns"
      ],
      "execution_count": 2,
      "outputs": []
    },
    {
      "cell_type": "code",
      "metadata": {
        "id": "2C6C15LcC0Vr"
      },
      "source": [
        "case = pd.read_csv('/content/gdrive/MyDrive/Aiffel/FLP/DataAnalysis/corona19/data/Case.csv')\n",
        "patientinfo = pd.read_csv('/content/gdrive/MyDrive/Aiffel/FLP/DataAnalysis/corona19/data/PatientInfo.csv')\n",
        "patientroute = pd.read_csv('/content/gdrive/MyDrive/Aiffel/FLP/DataAnalysis/corona19/data/PatientRoute.csv')\n",
        "time = pd.read_csv('/content/gdrive/MyDrive/Aiffel/FLP/DataAnalysis/corona19/data/Time.csv')\n",
        "timeage = pd.read_csv('/content/gdrive/MyDrive/Aiffel/FLP/DataAnalysis/corona19/data/TimeAge.csv')\n",
        "timegender = pd.read_csv('/content/gdrive/MyDrive/Aiffel/FLP/DataAnalysis/corona19/data/TimeGender.csv')\n",
        "timeprovince = pd.read_csv('/content/gdrive/MyDrive/Aiffel/FLP/DataAnalysis/corona19/data/TimeProvince.csv')\n",
        "region = pd.read_csv('/content/gdrive/MyDrive/Aiffel/FLP/DataAnalysis/corona19/data/Region.csv')\n",
        "weather = pd.read_csv('/content/gdrive/MyDrive/Aiffel/FLP/DataAnalysis/corona19/data/Weather.csv')\n",
        "searchtrend = pd.read_csv('/content/gdrive/MyDrive/Aiffel/FLP/DataAnalysis/corona19/data/SearchTrend.csv')\n",
        "seoulfloating = pd.read_csv('/content/gdrive/MyDrive/Aiffel/FLP/DataAnalysis/corona19/data/SeoulFloating.csv')\n",
        "policy = pd.read_csv('/content/gdrive/MyDrive/Aiffel/FLP/DataAnalysis/corona19/data/Policy.csv')"
      ],
      "execution_count": 3,
      "outputs": []
    },
    {
      "cell_type": "markdown",
      "metadata": {
        "id": "O4Q0ljNZLqit"
      },
      "source": [
        "### Data Overview"
      ]
    },
    {
      "cell_type": "markdown",
      "metadata": {
        "id": "yaR2HIKXSsEM"
      },
      "source": [
        "__01. CASE (확진 케이스)__\n",
        "- case_id : 케이스 번호\n",
        "- province : 시/도 정보\n",
        "- city : 시/군/구 정보\n",
        "- group : 집단감염 여부(True/False)\n",
        "- infection_case : 집단감염 장소\n",
        "- confirmed : 확진자 발생 수\n",
        "- latitude : 위도\n",
        "- longitude : 경도"
      ]
    },
    {
      "cell_type": "code",
      "metadata": {
        "colab": {
          "base_uri": "https://localhost:8080/",
          "height": 224
        },
        "id": "L_mGRzrAGiP-",
        "outputId": "035a5896-89b0-47c1-e0fb-e21645a064d1"
      },
      "source": [
        "print('Case 크기: ', case.shape)\n",
        "case.head()"
      ],
      "execution_count": 4,
      "outputs": [
        {
          "output_type": "stream",
          "text": [
            "Case 크기:  (112, 8)\n"
          ],
          "name": "stdout"
        },
        {
          "output_type": "execute_result",
          "data": {
            "text/html": [
              "<div>\n",
              "<style scoped>\n",
              "    .dataframe tbody tr th:only-of-type {\n",
              "        vertical-align: middle;\n",
              "    }\n",
              "\n",
              "    .dataframe tbody tr th {\n",
              "        vertical-align: top;\n",
              "    }\n",
              "\n",
              "    .dataframe thead th {\n",
              "        text-align: right;\n",
              "    }\n",
              "</style>\n",
              "<table border=\"1\" class=\"dataframe\">\n",
              "  <thead>\n",
              "    <tr style=\"text-align: right;\">\n",
              "      <th></th>\n",
              "      <th>case_id</th>\n",
              "      <th>province</th>\n",
              "      <th>city</th>\n",
              "      <th>group</th>\n",
              "      <th>infection_case</th>\n",
              "      <th>confirmed</th>\n",
              "      <th>latitude</th>\n",
              "      <th>longitude</th>\n",
              "    </tr>\n",
              "  </thead>\n",
              "  <tbody>\n",
              "    <tr>\n",
              "      <th>0</th>\n",
              "      <td>1000001</td>\n",
              "      <td>Seoul</td>\n",
              "      <td>Guro-gu</td>\n",
              "      <td>True</td>\n",
              "      <td>Guro-gu Call Center</td>\n",
              "      <td>98</td>\n",
              "      <td>37.508163</td>\n",
              "      <td>126.884387</td>\n",
              "    </tr>\n",
              "    <tr>\n",
              "      <th>1</th>\n",
              "      <td>1000002</td>\n",
              "      <td>Seoul</td>\n",
              "      <td>Dongdaemun-gu</td>\n",
              "      <td>True</td>\n",
              "      <td>Dongan Church</td>\n",
              "      <td>20</td>\n",
              "      <td>37.592888</td>\n",
              "      <td>127.056766</td>\n",
              "    </tr>\n",
              "    <tr>\n",
              "      <th>2</th>\n",
              "      <td>1000003</td>\n",
              "      <td>Seoul</td>\n",
              "      <td>Guro-gu</td>\n",
              "      <td>True</td>\n",
              "      <td>Manmin Central Church</td>\n",
              "      <td>41</td>\n",
              "      <td>37.481059</td>\n",
              "      <td>126.894343</td>\n",
              "    </tr>\n",
              "    <tr>\n",
              "      <th>3</th>\n",
              "      <td>1000004</td>\n",
              "      <td>Seoul</td>\n",
              "      <td>Eunpyeong-gu</td>\n",
              "      <td>True</td>\n",
              "      <td>Eunpyeong St. Mary's Hospital</td>\n",
              "      <td>14</td>\n",
              "      <td>37.63369</td>\n",
              "      <td>126.9165</td>\n",
              "    </tr>\n",
              "    <tr>\n",
              "      <th>4</th>\n",
              "      <td>1000005</td>\n",
              "      <td>Seoul</td>\n",
              "      <td>Seongdong-gu</td>\n",
              "      <td>True</td>\n",
              "      <td>Seongdong-gu APT</td>\n",
              "      <td>13</td>\n",
              "      <td>37.55713</td>\n",
              "      <td>127.0403</td>\n",
              "    </tr>\n",
              "  </tbody>\n",
              "</table>\n",
              "</div>"
            ],
            "text/plain": [
              "   case_id province           city  ...  confirmed   latitude   longitude\n",
              "0  1000001    Seoul        Guro-gu  ...         98  37.508163  126.884387\n",
              "1  1000002    Seoul  Dongdaemun-gu  ...         20  37.592888  127.056766\n",
              "2  1000003    Seoul        Guro-gu  ...         41  37.481059  126.894343\n",
              "3  1000004    Seoul   Eunpyeong-gu  ...         14   37.63369    126.9165\n",
              "4  1000005    Seoul   Seongdong-gu  ...         13   37.55713    127.0403\n",
              "\n",
              "[5 rows x 8 columns]"
            ]
          },
          "metadata": {},
          "execution_count": 4
        }
      ]
    },
    {
      "cell_type": "markdown",
      "metadata": {
        "id": "lRotNS2SsTe2"
      },
      "source": [
        "- 2020년 1월 20일부터 4월 29일까지 구로구 콜센터 집단 감염 사례와 같은 주요 확진 Case 112개"
      ]
    },
    {
      "cell_type": "code",
      "metadata": {
        "colab": {
          "base_uri": "https://localhost:8080/"
        },
        "id": "rdhxzqNnVwND",
        "outputId": "33a352b4-ab96-47f7-eb02-71b8937e447c"
      },
      "source": [
        "case.info()"
      ],
      "execution_count": 5,
      "outputs": [
        {
          "output_type": "stream",
          "text": [
            "<class 'pandas.core.frame.DataFrame'>\n",
            "RangeIndex: 112 entries, 0 to 111\n",
            "Data columns (total 8 columns):\n",
            " #   Column          Non-Null Count  Dtype \n",
            "---  ------          --------------  ----- \n",
            " 0   case_id         112 non-null    int64 \n",
            " 1   province        112 non-null    object\n",
            " 2   city            112 non-null    object\n",
            " 3   group           112 non-null    bool  \n",
            " 4   infection_case  112 non-null    object\n",
            " 5   confirmed       112 non-null    int64 \n",
            " 6   latitude        112 non-null    object\n",
            " 7   longitude       112 non-null    object\n",
            "dtypes: bool(1), int64(2), object(5)\n",
            "memory usage: 6.4+ KB\n"
          ],
          "name": "stdout"
        }
      ]
    },
    {
      "cell_type": "code",
      "metadata": {
        "colab": {
          "base_uri": "https://localhost:8080/",
          "height": 299
        },
        "id": "Eh4vaIS_plBf",
        "outputId": "d713ce96-757d-40ef-bd84-3d6b4c681edf"
      },
      "source": [
        "case.describe()"
      ],
      "execution_count": 48,
      "outputs": [
        {
          "output_type": "execute_result",
          "data": {
            "text/html": [
              "<div>\n",
              "<style scoped>\n",
              "    .dataframe tbody tr th:only-of-type {\n",
              "        vertical-align: middle;\n",
              "    }\n",
              "\n",
              "    .dataframe tbody tr th {\n",
              "        vertical-align: top;\n",
              "    }\n",
              "\n",
              "    .dataframe thead th {\n",
              "        text-align: right;\n",
              "    }\n",
              "</style>\n",
              "<table border=\"1\" class=\"dataframe\">\n",
              "  <thead>\n",
              "    <tr style=\"text-align: right;\">\n",
              "      <th></th>\n",
              "      <th>case_id</th>\n",
              "      <th>confirmed</th>\n",
              "    </tr>\n",
              "  </thead>\n",
              "  <tbody>\n",
              "    <tr>\n",
              "      <th>count</th>\n",
              "      <td>1.120000e+02</td>\n",
              "      <td>112.000000</td>\n",
              "    </tr>\n",
              "    <tr>\n",
              "      <th>mean</th>\n",
              "      <td>3.040183e+06</td>\n",
              "      <td>87.937500</td>\n",
              "    </tr>\n",
              "    <tr>\n",
              "      <th>std</th>\n",
              "      <td>2.052266e+06</td>\n",
              "      <td>440.500949</td>\n",
              "    </tr>\n",
              "    <tr>\n",
              "      <th>min</th>\n",
              "      <td>1.000001e+06</td>\n",
              "      <td>0.000000</td>\n",
              "    </tr>\n",
              "    <tr>\n",
              "      <th>25%</th>\n",
              "      <td>1.200009e+06</td>\n",
              "      <td>5.000000</td>\n",
              "    </tr>\n",
              "    <tr>\n",
              "      <th>50%</th>\n",
              "      <td>2.000002e+06</td>\n",
              "      <td>10.000000</td>\n",
              "    </tr>\n",
              "    <tr>\n",
              "      <th>75%</th>\n",
              "      <td>5.100002e+06</td>\n",
              "      <td>33.000000</td>\n",
              "    </tr>\n",
              "    <tr>\n",
              "      <th>max</th>\n",
              "      <td>7.000003e+06</td>\n",
              "      <td>4510.000000</td>\n",
              "    </tr>\n",
              "  </tbody>\n",
              "</table>\n",
              "</div>"
            ],
            "text/plain": [
              "            case_id    confirmed\n",
              "count  1.120000e+02   112.000000\n",
              "mean   3.040183e+06    87.937500\n",
              "std    2.052266e+06   440.500949\n",
              "min    1.000001e+06     0.000000\n",
              "25%    1.200009e+06     5.000000\n",
              "50%    2.000002e+06    10.000000\n",
              "75%    5.100002e+06    33.000000\n",
              "max    7.000003e+06  4510.000000"
            ]
          },
          "metadata": {},
          "execution_count": 48
        }
      ]
    },
    {
      "cell_type": "code",
      "metadata": {
        "colab": {
          "base_uri": "https://localhost:8080/"
        },
        "id": "LdrC-RpDpBHk",
        "outputId": "6ee5b049-20e0-40c2-bf2d-bcb88fbe7505"
      },
      "source": [
        "# 전체 확진자 수\n",
        "case.confirmed.sum()"
      ],
      "execution_count": 47,
      "outputs": [
        {
          "output_type": "execute_result",
          "data": {
            "text/plain": [
              "9849"
            ]
          },
          "metadata": {},
          "execution_count": 47
        }
      ]
    },
    {
      "cell_type": "code",
      "metadata": {
        "colab": {
          "base_uri": "https://localhost:8080/",
          "height": 81
        },
        "id": "qwVziDhIqyZF",
        "outputId": "001d3ef4-8390-4a6c-fe32-543975688d44"
      },
      "source": [
        "# 최다 확진자가 나온 곳은?\n",
        "case[case['confirmed'] == 4510]"
      ],
      "execution_count": 50,
      "outputs": [
        {
          "output_type": "execute_result",
          "data": {
            "text/html": [
              "<div>\n",
              "<style scoped>\n",
              "    .dataframe tbody tr th:only-of-type {\n",
              "        vertical-align: middle;\n",
              "    }\n",
              "\n",
              "    .dataframe tbody tr th {\n",
              "        vertical-align: top;\n",
              "    }\n",
              "\n",
              "    .dataframe thead th {\n",
              "        text-align: right;\n",
              "    }\n",
              "</style>\n",
              "<table border=\"1\" class=\"dataframe\">\n",
              "  <thead>\n",
              "    <tr style=\"text-align: right;\">\n",
              "      <th></th>\n",
              "      <th>case_id</th>\n",
              "      <th>province</th>\n",
              "      <th>city</th>\n",
              "      <th>group</th>\n",
              "      <th>infection_case</th>\n",
              "      <th>confirmed</th>\n",
              "      <th>latitude</th>\n",
              "      <th>longitude</th>\n",
              "    </tr>\n",
              "  </thead>\n",
              "  <tbody>\n",
              "    <tr>\n",
              "      <th>20</th>\n",
              "      <td>1200001</td>\n",
              "      <td>Daegu</td>\n",
              "      <td>Nam-gu</td>\n",
              "      <td>True</td>\n",
              "      <td>Shincheonji Church</td>\n",
              "      <td>4510</td>\n",
              "      <td>35.84008</td>\n",
              "      <td>128.5667</td>\n",
              "    </tr>\n",
              "  </tbody>\n",
              "</table>\n",
              "</div>"
            ],
            "text/plain": [
              "    case_id province    city  ...  confirmed  latitude  longitude\n",
              "20  1200001    Daegu  Nam-gu  ...       4510  35.84008   128.5667\n",
              "\n",
              "[1 rows x 8 columns]"
            ]
          },
          "metadata": {},
          "execution_count": 50
        }
      ]
    },
    {
      "cell_type": "markdown",
      "metadata": {
        "id": "tkcFtV17qnt2"
      },
      "source": [
        "- 전체 확진자 중 4,510명(약 45%)가 대구 신천지 교회에서 발생하였다."
      ]
    },
    {
      "cell_type": "code",
      "metadata": {
        "colab": {
          "base_uri": "https://localhost:8080/",
          "height": 518
        },
        "id": "_G5MAVtfrO-U",
        "outputId": "8f6ef182-7d47-4a1e-e21c-d9f65af56b46"
      },
      "source": [
        "# 신천지 교회 확진자는 대구에만 존재할까?\n",
        "case[case['infection_case'] == 'Shincheonji Church']"
      ],
      "execution_count": 55,
      "outputs": [
        {
          "output_type": "execute_result",
          "data": {
            "text/html": [
              "<div>\n",
              "<style scoped>\n",
              "    .dataframe tbody tr th:only-of-type {\n",
              "        vertical-align: middle;\n",
              "    }\n",
              "\n",
              "    .dataframe tbody tr th {\n",
              "        vertical-align: top;\n",
              "    }\n",
              "\n",
              "    .dataframe thead th {\n",
              "        text-align: right;\n",
              "    }\n",
              "</style>\n",
              "<table border=\"1\" class=\"dataframe\">\n",
              "  <thead>\n",
              "    <tr style=\"text-align: right;\">\n",
              "      <th></th>\n",
              "      <th>case_id</th>\n",
              "      <th>province</th>\n",
              "      <th>city</th>\n",
              "      <th>group</th>\n",
              "      <th>infection_case</th>\n",
              "      <th>confirmed</th>\n",
              "      <th>latitude</th>\n",
              "      <th>longitude</th>\n",
              "    </tr>\n",
              "  </thead>\n",
              "  <tbody>\n",
              "    <tr>\n",
              "      <th>7</th>\n",
              "      <td>1000008</td>\n",
              "      <td>Seoul</td>\n",
              "      <td>from other city</td>\n",
              "      <td>True</td>\n",
              "      <td>Shincheonji Church</td>\n",
              "      <td>8</td>\n",
              "      <td>-</td>\n",
              "      <td>-</td>\n",
              "    </tr>\n",
              "    <tr>\n",
              "      <th>12</th>\n",
              "      <td>1100002</td>\n",
              "      <td>Busan</td>\n",
              "      <td>from other city</td>\n",
              "      <td>True</td>\n",
              "      <td>Shincheonji Church</td>\n",
              "      <td>12</td>\n",
              "      <td>-</td>\n",
              "      <td>-</td>\n",
              "    </tr>\n",
              "    <tr>\n",
              "      <th>20</th>\n",
              "      <td>1200001</td>\n",
              "      <td>Daegu</td>\n",
              "      <td>Nam-gu</td>\n",
              "      <td>True</td>\n",
              "      <td>Shincheonji Church</td>\n",
              "      <td>4510</td>\n",
              "      <td>35.84008</td>\n",
              "      <td>128.5667</td>\n",
              "    </tr>\n",
              "    <tr>\n",
              "      <th>29</th>\n",
              "      <td>1300001</td>\n",
              "      <td>Gwangju</td>\n",
              "      <td>from other city</td>\n",
              "      <td>True</td>\n",
              "      <td>Shincheonji Church</td>\n",
              "      <td>9</td>\n",
              "      <td>-</td>\n",
              "      <td>-</td>\n",
              "    </tr>\n",
              "    <tr>\n",
              "      <th>34</th>\n",
              "      <td>1400002</td>\n",
              "      <td>Incheon</td>\n",
              "      <td>from other city</td>\n",
              "      <td>True</td>\n",
              "      <td>Shincheonji Church</td>\n",
              "      <td>2</td>\n",
              "      <td>-</td>\n",
              "      <td>-</td>\n",
              "    </tr>\n",
              "    <tr>\n",
              "      <th>39</th>\n",
              "      <td>1500002</td>\n",
              "      <td>Daejeon</td>\n",
              "      <td>from other city</td>\n",
              "      <td>True</td>\n",
              "      <td>Shincheonji Church</td>\n",
              "      <td>2</td>\n",
              "      <td>-</td>\n",
              "      <td>-</td>\n",
              "    </tr>\n",
              "    <tr>\n",
              "      <th>44</th>\n",
              "      <td>1600001</td>\n",
              "      <td>Ulsan</td>\n",
              "      <td>from other city</td>\n",
              "      <td>True</td>\n",
              "      <td>Shincheonji Church</td>\n",
              "      <td>16</td>\n",
              "      <td>-</td>\n",
              "      <td>-</td>\n",
              "    </tr>\n",
              "    <tr>\n",
              "      <th>50</th>\n",
              "      <td>1700003</td>\n",
              "      <td>Sejong</td>\n",
              "      <td>from other city</td>\n",
              "      <td>True</td>\n",
              "      <td>Shincheonji Church</td>\n",
              "      <td>1</td>\n",
              "      <td>-</td>\n",
              "      <td>-</td>\n",
              "    </tr>\n",
              "    <tr>\n",
              "      <th>57</th>\n",
              "      <td>2000004</td>\n",
              "      <td>Gyeonggi-do</td>\n",
              "      <td>from other city</td>\n",
              "      <td>True</td>\n",
              "      <td>Shincheonji Church</td>\n",
              "      <td>29</td>\n",
              "      <td>-</td>\n",
              "      <td>-</td>\n",
              "    </tr>\n",
              "    <tr>\n",
              "      <th>63</th>\n",
              "      <td>3000001</td>\n",
              "      <td>Gangwon-do</td>\n",
              "      <td>from other city</td>\n",
              "      <td>True</td>\n",
              "      <td>Shincheonji Church</td>\n",
              "      <td>17</td>\n",
              "      <td>-</td>\n",
              "      <td>-</td>\n",
              "    </tr>\n",
              "    <tr>\n",
              "      <th>69</th>\n",
              "      <td>4000001</td>\n",
              "      <td>Chungcheongbuk-do</td>\n",
              "      <td>from other city</td>\n",
              "      <td>True</td>\n",
              "      <td>Shincheonji Church</td>\n",
              "      <td>6</td>\n",
              "      <td>-</td>\n",
              "      <td>-</td>\n",
              "    </tr>\n",
              "    <tr>\n",
              "      <th>79</th>\n",
              "      <td>5000001</td>\n",
              "      <td>Jeollabuk-do</td>\n",
              "      <td>from other city</td>\n",
              "      <td>True</td>\n",
              "      <td>Shincheonji Church</td>\n",
              "      <td>1</td>\n",
              "      <td>-</td>\n",
              "      <td>-</td>\n",
              "    </tr>\n",
              "    <tr>\n",
              "      <th>83</th>\n",
              "      <td>5100002</td>\n",
              "      <td>Jeollanam-do</td>\n",
              "      <td>from other city</td>\n",
              "      <td>True</td>\n",
              "      <td>Shincheonji Church</td>\n",
              "      <td>1</td>\n",
              "      <td>-</td>\n",
              "      <td>-</td>\n",
              "    </tr>\n",
              "    <tr>\n",
              "      <th>87</th>\n",
              "      <td>6000001</td>\n",
              "      <td>Gyeongsangbuk-do</td>\n",
              "      <td>from other city</td>\n",
              "      <td>True</td>\n",
              "      <td>Shincheonji Church</td>\n",
              "      <td>566</td>\n",
              "      <td>-</td>\n",
              "      <td>-</td>\n",
              "    </tr>\n",
              "    <tr>\n",
              "      <th>99</th>\n",
              "      <td>6100001</td>\n",
              "      <td>Gyeongsangnam-do</td>\n",
              "      <td>from other city</td>\n",
              "      <td>True</td>\n",
              "      <td>Shincheonji Church</td>\n",
              "      <td>32</td>\n",
              "      <td>-</td>\n",
              "      <td>-</td>\n",
              "    </tr>\n",
              "  </tbody>\n",
              "</table>\n",
              "</div>"
            ],
            "text/plain": [
              "    case_id           province             city  ...  confirmed  latitude  longitude\n",
              "7   1000008              Seoul  from other city  ...          8         -          -\n",
              "12  1100002              Busan  from other city  ...         12         -          -\n",
              "20  1200001              Daegu           Nam-gu  ...       4510  35.84008   128.5667\n",
              "29  1300001            Gwangju  from other city  ...          9         -          -\n",
              "34  1400002            Incheon  from other city  ...          2         -          -\n",
              "39  1500002            Daejeon  from other city  ...          2         -          -\n",
              "44  1600001              Ulsan  from other city  ...         16         -          -\n",
              "50  1700003             Sejong  from other city  ...          1         -          -\n",
              "57  2000004        Gyeonggi-do  from other city  ...         29         -          -\n",
              "63  3000001         Gangwon-do  from other city  ...         17         -          -\n",
              "69  4000001  Chungcheongbuk-do  from other city  ...          6         -          -\n",
              "79  5000001       Jeollabuk-do  from other city  ...          1         -          -\n",
              "83  5100002       Jeollanam-do  from other city  ...          1         -          -\n",
              "87  6000001   Gyeongsangbuk-do  from other city  ...        566         -          -\n",
              "99  6100001   Gyeongsangnam-do  from other city  ...         32         -          -\n",
              "\n",
              "[15 rows x 8 columns]"
            ]
          },
          "metadata": {},
          "execution_count": 55
        }
      ]
    },
    {
      "cell_type": "markdown",
      "metadata": {
        "id": "W2uxl8VprlHk"
      },
      "source": [
        "- 신천지 교회 확진자가 대구 뿐만 아니라 전국에 존재한다."
      ]
    },
    {
      "cell_type": "code",
      "metadata": {
        "colab": {
          "base_uri": "https://localhost:8080/"
        },
        "id": "GcswGqJzH1zb",
        "outputId": "1aecbd0f-ca90-46d0-8f65-43700aa590e9"
      },
      "source": [
        "# 집단감염 장소 파악\n",
        "print('집단감염 장소 종류: ', case['infection_case'].nunique())\n",
        "case['infection_case'].unique()"
      ],
      "execution_count": 8,
      "outputs": [
        {
          "output_type": "stream",
          "text": [
            "집단감염 장소 종류:  43\n"
          ],
          "name": "stdout"
        },
        {
          "output_type": "execute_result",
          "data": {
            "text/plain": [
              "array(['Guro-gu Call Center', 'Dongan Church', 'Manmin Central Church',\n",
              "       \"Eunpyeong St. Mary's Hospital\", 'Seongdong-gu APT',\n",
              "       'Jongno Community Center', 'Jung-gu Fashion Company',\n",
              "       'Shincheonji Church', 'overseas inflow', 'contact with patient',\n",
              "       'etc', 'Onchun Church', 'Suyeong-gu Kindergarten',\n",
              "       'Haeundae-gu Catholic Church', 'Jin-gu Academy',\n",
              "       'Cheongdo Daenam Hospital', 'Second Mi-Ju Hospital',\n",
              "       'Hansarang Convalescent Hospital', 'Daesil Convalescent Hospital',\n",
              "       'Fatima Hospital', 'Korea Forest Engineer Institute',\n",
              "       'Seosan-si Laboratory', 'Ministry of Oceans and Fisheries',\n",
              "       'gym facility in Sejong', 'River of Grace Community Church',\n",
              "       'Uijeongbu St. Mary’s Hospital', 'Bundang Jesaeng Hospital',\n",
              "       'Suwon Saeng Myeong Saem Church', 'Wonju-si Apartments',\n",
              "       'Goesan-gun Jangyeon-myeon', 'gym facility in Cheonan',\n",
              "       'Bonghwa Pureun Nursing Home', 'Pilgrimage to Israel',\n",
              "       'Milal Shelter', 'Gyeongsan Seorin Nursing Home', 'Yechun-gun',\n",
              "       'Gyeongsan Jeil Silver Town',\n",
              "       'Gyeongsan Cham Joeun Community Center', 'Geochang Church',\n",
              "       'Geochang-gun Woongyang-myeon', 'Wings Tower',\n",
              "       'Hanmaeum Changwon Hospital', 'Changnyeong Coin Karaoke'],\n",
              "      dtype=object)"
            ]
          },
          "metadata": {},
          "execution_count": 8
        }
      ]
    },
    {
      "cell_type": "code",
      "metadata": {
        "colab": {
          "base_uri": "https://localhost:8080/",
          "height": 452
        },
        "id": "yTkfgnsBr8L7",
        "outputId": "efaff727-a3aa-42e3-8cc1-27649113e60a"
      },
      "source": [
        "# 집단감염 장소 확진자 수 시각화\n",
        "fig = plt.gcf()\n",
        "fig.set_size_inches(18,3)\n",
        "case_g = case.groupby(['infection_case'], as_index=False)['confirmed'].sum().sort_values(by='confirmed', ascending=False)\n",
        "g = sns.barplot(x='infection_case', y='confirmed', data=province_g)\n",
        "g.set_xticklabels(g.get_xticklabels(), rotation=90)\n",
        "plt.show()"
      ],
      "execution_count": 69,
      "outputs": [
        {
          "output_type": "display_data",
          "data": {
            "image/png": "[encoded data removed]",
            "text/plain": [
              "<Figure size 1296x216 with 1 Axes>"
            ]
          },
          "metadata": {
            "needs_background": "light"
          }
        }
      ]
    },
    {
      "cell_type": "markdown",
      "metadata": {
        "id": "eSaXyftMuBsi"
      },
      "source": [
        "- 신천지교회 확진자 수가 압도적으로 많다.\n",
        "- group(True/False)에 따른 감염장소를 구분해볼 필요가 있다."
      ]
    },
    {
      "cell_type": "code",
      "metadata": {
        "colab": {
          "base_uri": "https://localhost:8080/"
        },
        "id": "WUPy1RyQS3si",
        "outputId": "7720aa3f-5331-4310-947b-634f568254fe"
      },
      "source": [
        "# 집단감염이 아닌 감염경로(False)의 확진자수 시각화\n",
        "group_f = case[case['group'] == False]\n",
        "print('집단감염이 아닌 경우 감염경로 종류:', group_f['infection_case'].nunique())\n",
        "group_f['infection_case'].unique()"
      ],
      "execution_count": 73,
      "outputs": [
        {
          "output_type": "stream",
          "text": [
            "집단감염이 아닌 경우 감염경로 종류: 3\n"
          ],
          "name": "stdout"
        },
        {
          "output_type": "execute_result",
          "data": {
            "text/plain": [
              "array(['overseas inflow', 'contact with patient', 'etc'], dtype=object)"
            ]
          },
          "metadata": {},
          "execution_count": 73
        }
      ]
    },
    {
      "cell_type": "code",
      "metadata": {
        "colab": {
          "base_uri": "https://localhost:8080/",
          "height": 298
        },
        "id": "IywuRM7zp7dH",
        "outputId": "42f1fee7-ff2f-40c1-e682-32e4ce514fa7"
      },
      "source": [
        "sns.barplot(x='infection_case', y='confirmed', data=group_f) # pie chart로 다시 그리기"
      ],
      "execution_count": null,
      "outputs": [
        {
          "output_type": "execute_result",
          "data": {
            "text/plain": [
              "<matplotlib.axes._subplots.AxesSubplot at 0x7f99395d8bd0>"
            ]
          },
          "metadata": {},
          "execution_count": 240
        },
        {
          "output_type": "display_data",
          "data": {
            "image/png": "[encoded data removed]",
            "text/plain": [
              "<Figure size 432x288 with 1 Axes>"
            ]
          },
          "metadata": {
            "needs_background": "light"
          }
        }
      ]
    },
    {
      "cell_type": "markdown",
      "metadata": {
        "id": "TT1Cwrt_txLg"
      },
      "source": [
        "- 확진자 수는 기 확진자와의 접촉, 기타, 해외 유입 순이다."
      ]
    },
    {
      "cell_type": "code",
      "metadata": {
        "colab": {
          "base_uri": "https://localhost:8080/"
        },
        "id": "4lbH0L6xXHzF",
        "outputId": "db4db06f-6aa3-4720-b3a4-48606e102600"
      },
      "source": [
        "# 결측치 확인\n",
        "case.isnull().sum()"
      ],
      "execution_count": null,
      "outputs": [
        {
          "output_type": "execute_result",
          "data": {
            "text/plain": [
              "case_id           0\n",
              "province          0\n",
              "city              0\n",
              "group             0\n",
              "infection_case    0\n",
              "confirmed         0\n",
              "latitude          0\n",
              "longitude         0\n",
              "dtype: int64"
            ]
          },
          "metadata": {},
          "execution_count": 131
        }
      ]
    },
    {
      "cell_type": "markdown",
      "metadata": {
        "id": "QaSaSKuaXSnr"
      },
      "source": [
        "- Null값은 없다고 나오지만 city, latitude, longitude 컬럼에 - 값으로 존재한다고 볼 수 있다. 이는 해당 province 전체의 해외유입, 확진자 접촉, 기타 등의 전체 sum 값이라 어떻게 처리하면 좋을지 고민이 필요하다."
      ]
    },
    {
      "cell_type": "markdown",
      "metadata": {
        "id": "6hT3Uu15Y2Y-"
      },
      "source": [
        "__02. Patient Info (환자정보)__\n",
        "- patient_id : 환자ID\n",
        "- global_num : 질병관리청에서 부여한 확진자 번호\n",
        "- sex : 성별\n",
        "- birt_year : 출생연도\n",
        "- age : 연령대\n",
        "- province : 거주지(시/도)\n",
        "- city : 거주지(시/군/구)\n",
        "- disease : \n",
        "- infection_case : 감염경로\n",
        "- infection_order : N\n",
        "- infected_by : 해당 환자를 감염시킨 환자ID\n",
        "- contact_number : 접촉자수\n",
        "- symptom_onset_date : 증상발현일\n",
        "- confirmed_date : 확진일\n",
        "- released_date : 퇴원일\n",
        "- deceased_date : 사망일\n",
        "- state : 상태(사망/퇴원 등)"
      ]
    },
    {
      "cell_type": "code",
      "metadata": {
        "colab": {
          "base_uri": "https://localhost:8080/",
          "height": 313
        },
        "id": "RnH4yPoKC_GJ",
        "outputId": "58057fbe-0bec-49d8-cbf1-5bfb8d828c9f"
      },
      "source": [
        "print('Patient Info 크기: ', patientinfo.shape)\n",
        "patientinfo.head()"
      ],
      "execution_count": null,
      "outputs": [
        {
          "output_type": "stream",
          "text": [
            "Patient Info 크기:  (3388, 18)\n"
          ],
          "name": "stdout"
        },
        {
          "output_type": "execute_result",
          "data": {
            "text/html": [
              "<div>\n",
              "<style scoped>\n",
              "    .dataframe tbody tr th:only-of-type {\n",
              "        vertical-align: middle;\n",
              "    }\n",
              "\n",
              "    .dataframe tbody tr th {\n",
              "        vertical-align: top;\n",
              "    }\n",
              "\n",
              "    .dataframe thead th {\n",
              "        text-align: right;\n",
              "    }\n",
              "</style>\n",
              "<table border=\"1\" class=\"dataframe\">\n",
              "  <thead>\n",
              "    <tr style=\"text-align: right;\">\n",
              "      <th></th>\n",
              "      <th>patient_id</th>\n",
              "      <th>global_num</th>\n",
              "      <th>sex</th>\n",
              "      <th>birth_year</th>\n",
              "      <th>age</th>\n",
              "      <th>country</th>\n",
              "      <th>province</th>\n",
              "      <th>city</th>\n",
              "      <th>disease</th>\n",
              "      <th>infection_case</th>\n",
              "      <th>infection_order</th>\n",
              "      <th>infected_by</th>\n",
              "      <th>contact_number</th>\n",
              "      <th>symptom_onset_date</th>\n",
              "      <th>confirmed_date</th>\n",
              "      <th>released_date</th>\n",
              "      <th>deceased_date</th>\n",
              "      <th>state</th>\n",
              "    </tr>\n",
              "  </thead>\n",
              "  <tbody>\n",
              "    <tr>\n",
              "      <th>0</th>\n",
              "      <td>1000000001</td>\n",
              "      <td>2.0</td>\n",
              "      <td>male</td>\n",
              "      <td>1964.0</td>\n",
              "      <td>50s</td>\n",
              "      <td>Korea</td>\n",
              "      <td>Seoul</td>\n",
              "      <td>Gangseo-gu</td>\n",
              "      <td>NaN</td>\n",
              "      <td>overseas inflow</td>\n",
              "      <td>1.0</td>\n",
              "      <td>NaN</td>\n",
              "      <td>75.0</td>\n",
              "      <td>2020-01-22</td>\n",
              "      <td>2020-01-23</td>\n",
              "      <td>2020-02-05</td>\n",
              "      <td>NaN</td>\n",
              "      <td>released</td>\n",
              "    </tr>\n",
              "    <tr>\n",
              "      <th>1</th>\n",
              "      <td>1000000002</td>\n",
              "      <td>5.0</td>\n",
              "      <td>male</td>\n",
              "      <td>1987.0</td>\n",
              "      <td>30s</td>\n",
              "      <td>Korea</td>\n",
              "      <td>Seoul</td>\n",
              "      <td>Jungnang-gu</td>\n",
              "      <td>NaN</td>\n",
              "      <td>overseas inflow</td>\n",
              "      <td>1.0</td>\n",
              "      <td>NaN</td>\n",
              "      <td>31.0</td>\n",
              "      <td>NaN</td>\n",
              "      <td>2020-01-30</td>\n",
              "      <td>2020-03-02</td>\n",
              "      <td>NaN</td>\n",
              "      <td>released</td>\n",
              "    </tr>\n",
              "    <tr>\n",
              "      <th>2</th>\n",
              "      <td>1000000003</td>\n",
              "      <td>6.0</td>\n",
              "      <td>male</td>\n",
              "      <td>1964.0</td>\n",
              "      <td>50s</td>\n",
              "      <td>Korea</td>\n",
              "      <td>Seoul</td>\n",
              "      <td>Jongno-gu</td>\n",
              "      <td>NaN</td>\n",
              "      <td>contact with patient</td>\n",
              "      <td>2.0</td>\n",
              "      <td>2.002000e+09</td>\n",
              "      <td>17.0</td>\n",
              "      <td>NaN</td>\n",
              "      <td>2020-01-30</td>\n",
              "      <td>2020-02-19</td>\n",
              "      <td>NaN</td>\n",
              "      <td>released</td>\n",
              "    </tr>\n",
              "    <tr>\n",
              "      <th>3</th>\n",
              "      <td>1000000004</td>\n",
              "      <td>7.0</td>\n",
              "      <td>male</td>\n",
              "      <td>1991.0</td>\n",
              "      <td>20s</td>\n",
              "      <td>Korea</td>\n",
              "      <td>Seoul</td>\n",
              "      <td>Mapo-gu</td>\n",
              "      <td>NaN</td>\n",
              "      <td>overseas inflow</td>\n",
              "      <td>1.0</td>\n",
              "      <td>NaN</td>\n",
              "      <td>9.0</td>\n",
              "      <td>2020-01-26</td>\n",
              "      <td>2020-01-30</td>\n",
              "      <td>2020-02-15</td>\n",
              "      <td>NaN</td>\n",
              "      <td>released</td>\n",
              "    </tr>\n",
              "    <tr>\n",
              "      <th>4</th>\n",
              "      <td>1000000005</td>\n",
              "      <td>9.0</td>\n",
              "      <td>female</td>\n",
              "      <td>1992.0</td>\n",
              "      <td>20s</td>\n",
              "      <td>Korea</td>\n",
              "      <td>Seoul</td>\n",
              "      <td>Seongbuk-gu</td>\n",
              "      <td>NaN</td>\n",
              "      <td>contact with patient</td>\n",
              "      <td>2.0</td>\n",
              "      <td>1.000000e+09</td>\n",
              "      <td>2.0</td>\n",
              "      <td>NaN</td>\n",
              "      <td>2020-01-31</td>\n",
              "      <td>2020-02-24</td>\n",
              "      <td>NaN</td>\n",
              "      <td>released</td>\n",
              "    </tr>\n",
              "  </tbody>\n",
              "</table>\n",
              "</div>"
            ],
            "text/plain": [
              "   patient_id  global_num     sex  ...  released_date deceased_date     state\n",
              "0  1000000001         2.0    male  ...     2020-02-05           NaN  released\n",
              "1  1000000002         5.0    male  ...     2020-03-02           NaN  released\n",
              "2  1000000003         6.0    male  ...     2020-02-19           NaN  released\n",
              "3  1000000004         7.0    male  ...     2020-02-15           NaN  released\n",
              "4  1000000005         9.0  female  ...     2020-02-24           NaN  released\n",
              "\n",
              "[5 rows x 18 columns]"
            ]
          },
          "metadata": {},
          "execution_count": 132
        }
      ]
    },
    {
      "cell_type": "markdown",
      "metadata": {
        "id": "LM_NnLqcxdV3"
      },
      "source": [
        "- 3,388명의 확진자 정보(성별, 출생연도, 연령대, 국적 등)"
      ]
    },
    {
      "cell_type": "code",
      "metadata": {
        "colab": {
          "base_uri": "https://localhost:8080/"
        },
        "id": "G-4UaeJHaGyH",
        "outputId": "eaffacea-3876-42ca-9e8d-415b07514eac"
      },
      "source": [
        "patientinfo.info()"
      ],
      "execution_count": null,
      "outputs": [
        {
          "output_type": "stream",
          "text": [
            "<class 'pandas.core.frame.DataFrame'>\n",
            "RangeIndex: 3388 entries, 0 to 3387\n",
            "Data columns (total 18 columns):\n",
            " #   Column              Non-Null Count  Dtype  \n",
            "---  ------              --------------  -----  \n",
            " 0   patient_id          3388 non-null   int64  \n",
            " 1   global_num          2276 non-null   float64\n",
            " 2   sex                 3311 non-null   object \n",
            " 3   birth_year          2927 non-null   float64\n",
            " 4   age                 3304 non-null   object \n",
            " 5   country             3388 non-null   object \n",
            " 6   province            3388 non-null   object \n",
            " 7   city                3309 non-null   object \n",
            " 8   disease             18 non-null     object \n",
            " 9   infection_case      2620 non-null   object \n",
            " 10  infection_order     31 non-null     float64\n",
            " 11  infected_by         822 non-null    float64\n",
            " 12  contact_number      643 non-null    float64\n",
            " 13  symptom_onset_date  481 non-null    object \n",
            " 14  confirmed_date      3385 non-null   object \n",
            " 15  released_date       1327 non-null   object \n",
            " 16  deceased_date       62 non-null     object \n",
            " 17  state               3388 non-null   object \n",
            "dtypes: float64(5), int64(1), object(12)\n",
            "memory usage: 476.6+ KB\n"
          ],
          "name": "stdout"
        }
      ]
    },
    {
      "cell_type": "code",
      "metadata": {
        "colab": {
          "base_uri": "https://localhost:8080/",
          "height": 299
        },
        "id": "ErJ8j2ckanNQ",
        "outputId": "18f69381-a538-4cf1-887e-14c7c76d83b2"
      },
      "source": [
        "patientinfo.describe()"
      ],
      "execution_count": null,
      "outputs": [
        {
          "output_type": "execute_result",
          "data": {
            "text/html": [
              "<div>\n",
              "<style scoped>\n",
              "    .dataframe tbody tr th:only-of-type {\n",
              "        vertical-align: middle;\n",
              "    }\n",
              "\n",
              "    .dataframe tbody tr th {\n",
              "        vertical-align: top;\n",
              "    }\n",
              "\n",
              "    .dataframe thead th {\n",
              "        text-align: right;\n",
              "    }\n",
              "</style>\n",
              "<table border=\"1\" class=\"dataframe\">\n",
              "  <thead>\n",
              "    <tr style=\"text-align: right;\">\n",
              "      <th></th>\n",
              "      <th>patient_id</th>\n",
              "      <th>global_num</th>\n",
              "      <th>birth_year</th>\n",
              "      <th>infection_order</th>\n",
              "      <th>infected_by</th>\n",
              "      <th>contact_number</th>\n",
              "    </tr>\n",
              "  </thead>\n",
              "  <tbody>\n",
              "    <tr>\n",
              "      <th>count</th>\n",
              "      <td>3.388000e+03</td>\n",
              "      <td>2276.000000</td>\n",
              "      <td>2927.000000</td>\n",
              "      <td>31.000000</td>\n",
              "      <td>8.220000e+02</td>\n",
              "      <td>643.000000</td>\n",
              "    </tr>\n",
              "    <tr>\n",
              "      <th>mean</th>\n",
              "      <td>3.498439e+09</td>\n",
              "      <td>6737.086555</td>\n",
              "      <td>1975.068329</td>\n",
              "      <td>2.387097</td>\n",
              "      <td>2.667213e+09</td>\n",
              "      <td>18.129082</td>\n",
              "    </tr>\n",
              "    <tr>\n",
              "      <th>std</th>\n",
              "      <td>2.201996e+09</td>\n",
              "      <td>3333.136141</td>\n",
              "      <td>20.275295</td>\n",
              "      <td>1.453213</td>\n",
              "      <td>1.741377e+09</td>\n",
              "      <td>73.730420</td>\n",
              "    </tr>\n",
              "    <tr>\n",
              "      <th>min</th>\n",
              "      <td>1.000000e+09</td>\n",
              "      <td>1.000000</td>\n",
              "      <td>1916.000000</td>\n",
              "      <td>1.000000</td>\n",
              "      <td>1.000000e+09</td>\n",
              "      <td>0.000000</td>\n",
              "    </tr>\n",
              "    <tr>\n",
              "      <th>25%</th>\n",
              "      <td>1.300000e+09</td>\n",
              "      <td>4270.000000</td>\n",
              "      <td>1961.000000</td>\n",
              "      <td>1.000000</td>\n",
              "      <td>1.200000e+09</td>\n",
              "      <td>2.000000</td>\n",
              "    </tr>\n",
              "    <tr>\n",
              "      <th>50%</th>\n",
              "      <td>2.000001e+09</td>\n",
              "      <td>7933.000000</td>\n",
              "      <td>1975.000000</td>\n",
              "      <td>2.000000</td>\n",
              "      <td>2.000000e+09</td>\n",
              "      <td>4.000000</td>\n",
              "    </tr>\n",
              "    <tr>\n",
              "      <th>75%</th>\n",
              "      <td>6.001001e+09</td>\n",
              "      <td>9516.750000</td>\n",
              "      <td>1993.000000</td>\n",
              "      <td>3.000000</td>\n",
              "      <td>4.100000e+09</td>\n",
              "      <td>13.000000</td>\n",
              "    </tr>\n",
              "    <tr>\n",
              "      <th>max</th>\n",
              "      <td>7.000000e+09</td>\n",
              "      <td>10758.000000</td>\n",
              "      <td>2020.000000</td>\n",
              "      <td>6.000000</td>\n",
              "      <td>7.000000e+09</td>\n",
              "      <td>1160.000000</td>\n",
              "    </tr>\n",
              "  </tbody>\n",
              "</table>\n",
              "</div>"
            ],
            "text/plain": [
              "         patient_id    global_num  ...   infected_by  contact_number\n",
              "count  3.388000e+03   2276.000000  ...  8.220000e+02      643.000000\n",
              "mean   3.498439e+09   6737.086555  ...  2.667213e+09       18.129082\n",
              "std    2.201996e+09   3333.136141  ...  1.741377e+09       73.730420\n",
              "min    1.000000e+09      1.000000  ...  1.000000e+09        0.000000\n",
              "25%    1.300000e+09   4270.000000  ...  1.200000e+09        2.000000\n",
              "50%    2.000001e+09   7933.000000  ...  2.000000e+09        4.000000\n",
              "75%    6.001001e+09   9516.750000  ...  4.100000e+09       13.000000\n",
              "max    7.000000e+09  10758.000000  ...  7.000000e+09     1160.000000\n",
              "\n",
              "[8 rows x 6 columns]"
            ]
          },
          "metadata": {},
          "execution_count": 134
        }
      ]
    },
    {
      "cell_type": "markdown",
      "metadata": {
        "id": "zy_tts4WKjWh"
      },
      "source": [
        "- 최고령 확진자는 1916년생, 최연소 확진자는 2020년생(신생아)이다.\n",
        "- 접촉자수가 1,160명인 case가 눈에 띈다."
      ]
    },
    {
      "cell_type": "code",
      "metadata": {
        "colab": {
          "base_uri": "https://localhost:8080/",
          "height": 212
        },
        "id": "FrGauYQInVeV",
        "outputId": "3631a13b-ad92-47eb-d9a5-fdd63a3530c7"
      },
      "source": [
        "patientinfo.describe(include=object)"
      ],
      "execution_count": 42,
      "outputs": [
        {
          "output_type": "execute_result",
          "data": {
            "text/html": [
              "<div>\n",
              "<style scoped>\n",
              "    .dataframe tbody tr th:only-of-type {\n",
              "        vertical-align: middle;\n",
              "    }\n",
              "\n",
              "    .dataframe tbody tr th {\n",
              "        vertical-align: top;\n",
              "    }\n",
              "\n",
              "    .dataframe thead th {\n",
              "        text-align: right;\n",
              "    }\n",
              "</style>\n",
              "<table border=\"1\" class=\"dataframe\">\n",
              "  <thead>\n",
              "    <tr style=\"text-align: right;\">\n",
              "      <th></th>\n",
              "      <th>sex</th>\n",
              "      <th>age</th>\n",
              "      <th>country</th>\n",
              "      <th>province</th>\n",
              "      <th>city</th>\n",
              "      <th>disease</th>\n",
              "      <th>infection_case</th>\n",
              "      <th>symptom_onset_date</th>\n",
              "      <th>state</th>\n",
              "    </tr>\n",
              "  </thead>\n",
              "  <tbody>\n",
              "    <tr>\n",
              "      <th>count</th>\n",
              "      <td>3311</td>\n",
              "      <td>3304</td>\n",
              "      <td>3388</td>\n",
              "      <td>3388</td>\n",
              "      <td>3309</td>\n",
              "      <td>18</td>\n",
              "      <td>2620</td>\n",
              "      <td>481</td>\n",
              "      <td>3388</td>\n",
              "    </tr>\n",
              "    <tr>\n",
              "      <th>unique</th>\n",
              "      <td>2</td>\n",
              "      <td>11</td>\n",
              "      <td>12</td>\n",
              "      <td>17</td>\n",
              "      <td>154</td>\n",
              "      <td>1</td>\n",
              "      <td>23</td>\n",
              "      <td>73</td>\n",
              "      <td>3</td>\n",
              "    </tr>\n",
              "    <tr>\n",
              "      <th>top</th>\n",
              "      <td>female</td>\n",
              "      <td>20s</td>\n",
              "      <td>Korea</td>\n",
              "      <td>Gyeongsangbuk-do</td>\n",
              "      <td>Gyeongsan-si</td>\n",
              "      <td>True</td>\n",
              "      <td>contact with patient</td>\n",
              "      <td>2020-02-27</td>\n",
              "      <td>released</td>\n",
              "    </tr>\n",
              "    <tr>\n",
              "      <th>freq</th>\n",
              "      <td>1856</td>\n",
              "      <td>802</td>\n",
              "      <td>3361</td>\n",
              "      <td>1230</td>\n",
              "      <td>632</td>\n",
              "      <td>18</td>\n",
              "      <td>968</td>\n",
              "      <td>29</td>\n",
              "      <td>1886</td>\n",
              "    </tr>\n",
              "  </tbody>\n",
              "</table>\n",
              "</div>"
            ],
            "text/plain": [
              "           sex   age country  ...        infection_case symptom_onset_date     state\n",
              "count     3311  3304    3388  ...                  2620                481      3388\n",
              "unique       2    11      12  ...                    23                 73         3\n",
              "top     female   20s   Korea  ...  contact with patient         2020-02-27  released\n",
              "freq      1856   802    3361  ...                   968                 29      1886\n",
              "\n",
              "[4 rows x 9 columns]"
            ]
          },
          "metadata": {},
          "execution_count": 42
        }
      ]
    },
    {
      "cell_type": "code",
      "metadata": {
        "colab": {
          "base_uri": "https://localhost:8080/"
        },
        "id": "VmYzMyCDNZph",
        "outputId": "533ec6aa-c08b-4690-b12e-1fb351fecac7"
      },
      "source": [
        "# 외국인도 존재한다.\n",
        "patientinfo.groupby(['country'])['patient_id'].count().sort_values(ascending=False)"
      ],
      "execution_count": 41,
      "outputs": [
        {
          "output_type": "execute_result",
          "data": {
            "text/plain": [
              "country\n",
              "Korea            3361\n",
              "China              11\n",
              "United States       6\n",
              "Thailand            2\n",
              "Vietnam             1\n",
              "Switzerland         1\n",
              "Spain               1\n",
              "Mongolia            1\n",
              "Indonesia           1\n",
              "Germany             1\n",
              "France              1\n",
              "Canada              1\n",
              "Name: patient_id, dtype: int64"
            ]
          },
          "metadata": {},
          "execution_count": 41
        }
      ]
    },
    {
      "cell_type": "code",
      "metadata": {
        "id": "GfvAUby3Pr4h"
      },
      "source": [
        "patientinfo['confirmed_date'] = pd.to_datetime(patientinfo['confirmed_date'])\n",
        "patientinfo['released_date'] = pd.to_datetime(patientinfo['released_date'])\n",
        "patientinfo['deceased_date'] = pd.to_datetime(patientinfo['deceased_date'])"
      ],
      "execution_count": 32,
      "outputs": []
    },
    {
      "cell_type": "code",
      "metadata": {
        "id": "kuXZtcrNQYbQ"
      },
      "source": [
        "patientinfo['released_duration'] = patientinfo['released_date'] - patientinfo['confirmed_date']"
      ],
      "execution_count": 36,
      "outputs": []
    },
    {
      "cell_type": "code",
      "metadata": {
        "id": "pf3OfnTJl_lB"
      },
      "source": [
        ""
      ],
      "execution_count": null,
      "outputs": []
    },
    {
      "cell_type": "code",
      "metadata": {
        "colab": {
          "base_uri": "https://localhost:8080/"
        },
        "id": "Cq8d8KMqNqhS",
        "outputId": "90901180-6028-4bed-a3f7-60e52266eebf"
      },
      "source": [
        "print('감염장소 종류 : ', patientinfo['infection_case'].nunique())\n",
        "patientinfo['infection_case'].unique()"
      ],
      "execution_count": 10,
      "outputs": [
        {
          "output_type": "stream",
          "text": [
            "감염장소 종류 :  23\n"
          ],
          "name": "stdout"
        },
        {
          "output_type": "execute_result",
          "data": {
            "text/plain": [
              "array(['overseas inflow', 'contact with patient', 'Seongdong-gu APT',\n",
              "       'etc', \"Eunpyeong St. Mary's Hospital\", 'Shincheonji Church',\n",
              "       'Dongan Church', 'Guro-gu Call Center', 'Onchun Church',\n",
              "       'Cheongdo Daenam Hospital', 'Suyeong-gu Kindergarten', nan,\n",
              "       'Ministry of Oceans and Fisheries', 'gym facility in Cheonan',\n",
              "       'gym facility in Sejong', 'River of Grace Community Church',\n",
              "       'Gyeongsan Seorin Nursing Home',\n",
              "       'Gyeongsan Cham Joeun Community Center',\n",
              "       'Gyeongsan Jeil Silver Town', 'Bonghwa Pureun Nursing Home',\n",
              "       'Pilgrimage to Israel', 'Milal Shelter', 'Geochang Church',\n",
              "       'Changnyeong Coin Karaoke'], dtype=object)"
            ]
          },
          "metadata": {},
          "execution_count": 10
        }
      ]
    },
    {
      "cell_type": "code",
      "metadata": {
        "id": "Lf-21c3pP1uc"
      },
      "source": [
        ""
      ],
      "execution_count": null,
      "outputs": []
    },
    {
      "cell_type": "code",
      "metadata": {
        "colab": {
          "base_uri": "https://localhost:8080/",
          "height": 408
        },
        "id": "vOMn1ekFK747",
        "outputId": "a9def645-2853-4216-8d56-17aa155651a4"
      },
      "source": [
        "f,ax = plt.subplots(1,1, figsize=(15,6))\n",
        "g = patientinfo.groupby(['age'], as_index=False)['patient_id'].count()\n",
        "sns.barplot(x='age', y='patient_id', data=g)\n",
        "ax.set_title('Confirmed cases')"
      ],
      "execution_count": 28,
      "outputs": [
        {
          "output_type": "execute_result",
          "data": {
            "text/plain": [
              "Text(0.5, 1.0, 'Confirmed cases')"
            ]
          },
          "metadata": {},
          "execution_count": 28
        },
        {
          "output_type": "display_data",
          "data": {
            "image/png": "[encoded data removed]",
            "text/plain": [
              "<Figure size 1080x432 with 1 Axes>"
            ]
          },
          "metadata": {
            "needs_background": "light"
          }
        }
      ]
    },
    {
      "cell_type": "code",
      "metadata": {
        "colab": {
          "base_uri": "https://localhost:8080/",
          "height": 135
        },
        "id": "2t-8e8CHLmUl",
        "outputId": "f9b49ada-f289-4b11-cbd2-4c73d914b32c"
      },
      "source": [
        "patientinfo[patientinfo['age'] == '100s']  # only one "
      ],
      "execution_count": 16,
      "outputs": [
        {
          "output_type": "execute_result",
          "data": {
            "text/html": [
              "<div>\n",
              "<style scoped>\n",
              "    .dataframe tbody tr th:only-of-type {\n",
              "        vertical-align: middle;\n",
              "    }\n",
              "\n",
              "    .dataframe tbody tr th {\n",
              "        vertical-align: top;\n",
              "    }\n",
              "\n",
              "    .dataframe thead th {\n",
              "        text-align: right;\n",
              "    }\n",
              "</style>\n",
              "<table border=\"1\" class=\"dataframe\">\n",
              "  <thead>\n",
              "    <tr style=\"text-align: right;\">\n",
              "      <th></th>\n",
              "      <th>patient_id</th>\n",
              "      <th>global_num</th>\n",
              "      <th>sex</th>\n",
              "      <th>birth_year</th>\n",
              "      <th>age</th>\n",
              "      <th>country</th>\n",
              "      <th>province</th>\n",
              "      <th>city</th>\n",
              "      <th>disease</th>\n",
              "      <th>infection_case</th>\n",
              "      <th>infection_order</th>\n",
              "      <th>infected_by</th>\n",
              "      <th>contact_number</th>\n",
              "      <th>symptom_onset_date</th>\n",
              "      <th>confirmed_date</th>\n",
              "      <th>released_date</th>\n",
              "      <th>deceased_date</th>\n",
              "      <th>state</th>\n",
              "    </tr>\n",
              "  </thead>\n",
              "  <tbody>\n",
              "    <tr>\n",
              "      <th>2531</th>\n",
              "      <td>6001000503</td>\n",
              "      <td>7739.0</td>\n",
              "      <td>female</td>\n",
              "      <td>1916.0</td>\n",
              "      <td>100s</td>\n",
              "      <td>Korea</td>\n",
              "      <td>Gyeongsangbuk-do</td>\n",
              "      <td>Gyeongsan-si</td>\n",
              "      <td>NaN</td>\n",
              "      <td>Gyeongsan Seorin Nursing Home</td>\n",
              "      <td>NaN</td>\n",
              "      <td>NaN</td>\n",
              "      <td>NaN</td>\n",
              "      <td>NaN</td>\n",
              "      <td>2020-03-10</td>\n",
              "      <td>NaN</td>\n",
              "      <td>NaN</td>\n",
              "      <td>isolated</td>\n",
              "    </tr>\n",
              "  </tbody>\n",
              "</table>\n",
              "</div>"
            ],
            "text/plain": [
              "      patient_id  global_num     sex  ...  released_date deceased_date     state\n",
              "2531  6001000503      7739.0  female  ...            NaN           NaN  isolated\n",
              "\n",
              "[1 rows x 18 columns]"
            ]
          },
          "metadata": {},
          "execution_count": 16
        }
      ]
    },
    {
      "cell_type": "code",
      "metadata": {
        "colab": {
          "base_uri": "https://localhost:8080/",
          "height": 118
        },
        "id": "ML1FA4Aqa9kn",
        "outputId": "34ea5096-8425-46b6-ae1d-eb2b8de53da1"
      },
      "source": [
        "patientinfo[patientinfo['contact_number'] == 1160.0]  # 31번 확진자 from 신천지(aka.슈퍼 전파자)"
      ],
      "execution_count": 17,
      "outputs": [
        {
          "output_type": "execute_result",
          "data": {
            "text/html": [
              "<div>\n",
              "<style scoped>\n",
              "    .dataframe tbody tr th:only-of-type {\n",
              "        vertical-align: middle;\n",
              "    }\n",
              "\n",
              "    .dataframe tbody tr th {\n",
              "        vertical-align: top;\n",
              "    }\n",
              "\n",
              "    .dataframe thead th {\n",
              "        text-align: right;\n",
              "    }\n",
              "</style>\n",
              "<table border=\"1\" class=\"dataframe\">\n",
              "  <thead>\n",
              "    <tr style=\"text-align: right;\">\n",
              "      <th></th>\n",
              "      <th>patient_id</th>\n",
              "      <th>global_num</th>\n",
              "      <th>sex</th>\n",
              "      <th>birth_year</th>\n",
              "      <th>age</th>\n",
              "      <th>country</th>\n",
              "      <th>province</th>\n",
              "      <th>city</th>\n",
              "      <th>disease</th>\n",
              "      <th>infection_case</th>\n",
              "      <th>infection_order</th>\n",
              "      <th>infected_by</th>\n",
              "      <th>contact_number</th>\n",
              "      <th>symptom_onset_date</th>\n",
              "      <th>confirmed_date</th>\n",
              "      <th>released_date</th>\n",
              "      <th>deceased_date</th>\n",
              "      <th>state</th>\n",
              "    </tr>\n",
              "  </thead>\n",
              "  <tbody>\n",
              "    <tr>\n",
              "      <th>767</th>\n",
              "      <td>1200000031</td>\n",
              "      <td>31.0</td>\n",
              "      <td>female</td>\n",
              "      <td>1959.0</td>\n",
              "      <td>60s</td>\n",
              "      <td>Korea</td>\n",
              "      <td>Daegu</td>\n",
              "      <td>NaN</td>\n",
              "      <td>NaN</td>\n",
              "      <td>Shincheonji Church</td>\n",
              "      <td>NaN</td>\n",
              "      <td>NaN</td>\n",
              "      <td>1160.0</td>\n",
              "      <td>NaN</td>\n",
              "      <td>2020-02-18</td>\n",
              "      <td>NaN</td>\n",
              "      <td>NaN</td>\n",
              "      <td>isolated</td>\n",
              "    </tr>\n",
              "  </tbody>\n",
              "</table>\n",
              "</div>"
            ],
            "text/plain": [
              "     patient_id  global_num     sex  ...  released_date deceased_date     state\n",
              "767  1200000031        31.0  female  ...            NaN           NaN  isolated\n",
              "\n",
              "[1 rows x 18 columns]"
            ]
          },
          "metadata": {},
          "execution_count": 17
        }
      ]
    },
    {
      "cell_type": "code",
      "metadata": {
        "colab": {
          "base_uri": "https://localhost:8080/"
        },
        "id": "lZDYNrJ4NFCI",
        "outputId": "910eb41f-a778-43a4-e18f-a6a0518fc91c"
      },
      "source": [
        "patientinfo['disease'].unique()"
      ],
      "execution_count": 19,
      "outputs": [
        {
          "output_type": "execute_result",
          "data": {
            "text/plain": [
              "array([nan, True], dtype=object)"
            ]
          },
          "metadata": {},
          "execution_count": 19
        }
      ]
    },
    {
      "cell_type": "code",
      "metadata": {
        "colab": {
          "base_uri": "https://localhost:8080/",
          "height": 770
        },
        "id": "Yl57T44LML7i",
        "outputId": "12b04172-8808-4235-8eb3-eeda8dc877ba"
      },
      "source": [
        "patientinfo[patientinfo['disease'] == True]"
      ],
      "execution_count": 20,
      "outputs": [
        {
          "output_type": "execute_result",
          "data": {
            "text/html": [
              "<div>\n",
              "<style scoped>\n",
              "    .dataframe tbody tr th:only-of-type {\n",
              "        vertical-align: middle;\n",
              "    }\n",
              "\n",
              "    .dataframe tbody tr th {\n",
              "        vertical-align: top;\n",
              "    }\n",
              "\n",
              "    .dataframe thead th {\n",
              "        text-align: right;\n",
              "    }\n",
              "</style>\n",
              "<table border=\"1\" class=\"dataframe\">\n",
              "  <thead>\n",
              "    <tr style=\"text-align: right;\">\n",
              "      <th></th>\n",
              "      <th>patient_id</th>\n",
              "      <th>global_num</th>\n",
              "      <th>sex</th>\n",
              "      <th>birth_year</th>\n",
              "      <th>age</th>\n",
              "      <th>country</th>\n",
              "      <th>province</th>\n",
              "      <th>city</th>\n",
              "      <th>disease</th>\n",
              "      <th>infection_case</th>\n",
              "      <th>infection_order</th>\n",
              "      <th>infected_by</th>\n",
              "      <th>contact_number</th>\n",
              "      <th>symptom_onset_date</th>\n",
              "      <th>confirmed_date</th>\n",
              "      <th>released_date</th>\n",
              "      <th>deceased_date</th>\n",
              "      <th>state</th>\n",
              "    </tr>\n",
              "  </thead>\n",
              "  <tbody>\n",
              "    <tr>\n",
              "      <th>772</th>\n",
              "      <td>1200000038</td>\n",
              "      <td>38.0</td>\n",
              "      <td>female</td>\n",
              "      <td>1963.0</td>\n",
              "      <td>50s</td>\n",
              "      <td>Korea</td>\n",
              "      <td>Daegu</td>\n",
              "      <td>Nam-gu</td>\n",
              "      <td>True</td>\n",
              "      <td>NaN</td>\n",
              "      <td>NaN</td>\n",
              "      <td>NaN</td>\n",
              "      <td>NaN</td>\n",
              "      <td>NaN</td>\n",
              "      <td>2020-02-18</td>\n",
              "      <td>NaN</td>\n",
              "      <td>2020-02-23</td>\n",
              "      <td>deceased</td>\n",
              "    </tr>\n",
              "    <tr>\n",
              "      <th>815</th>\n",
              "      <td>1200001288</td>\n",
              "      <td>1288.0</td>\n",
              "      <td>male</td>\n",
              "      <td>1955.0</td>\n",
              "      <td>60s</td>\n",
              "      <td>Korea</td>\n",
              "      <td>Daegu</td>\n",
              "      <td>NaN</td>\n",
              "      <td>True</td>\n",
              "      <td>NaN</td>\n",
              "      <td>NaN</td>\n",
              "      <td>NaN</td>\n",
              "      <td>NaN</td>\n",
              "      <td>NaN</td>\n",
              "      <td>2020-02-27</td>\n",
              "      <td>NaN</td>\n",
              "      <td>2020-03-02</td>\n",
              "      <td>deceased</td>\n",
              "    </tr>\n",
              "    <tr>\n",
              "      <th>817</th>\n",
              "      <td>1200001921</td>\n",
              "      <td>1921.0</td>\n",
              "      <td>male</td>\n",
              "      <td>1953.0</td>\n",
              "      <td>60s</td>\n",
              "      <td>Korea</td>\n",
              "      <td>Daegu</td>\n",
              "      <td>NaN</td>\n",
              "      <td>True</td>\n",
              "      <td>NaN</td>\n",
              "      <td>NaN</td>\n",
              "      <td>NaN</td>\n",
              "      <td>NaN</td>\n",
              "      <td>NaN</td>\n",
              "      <td>2020-02-28</td>\n",
              "      <td>NaN</td>\n",
              "      <td>2020-03-05</td>\n",
              "      <td>deceased</td>\n",
              "    </tr>\n",
              "    <tr>\n",
              "      <th>818</th>\n",
              "      <td>1200002085</td>\n",
              "      <td>2085.0</td>\n",
              "      <td>male</td>\n",
              "      <td>1949.0</td>\n",
              "      <td>70s</td>\n",
              "      <td>Korea</td>\n",
              "      <td>Daegu</td>\n",
              "      <td>NaN</td>\n",
              "      <td>True</td>\n",
              "      <td>NaN</td>\n",
              "      <td>NaN</td>\n",
              "      <td>NaN</td>\n",
              "      <td>NaN</td>\n",
              "      <td>NaN</td>\n",
              "      <td>2020-02-28</td>\n",
              "      <td>NaN</td>\n",
              "      <td>2020-03-04</td>\n",
              "      <td>deceased</td>\n",
              "    </tr>\n",
              "    <tr>\n",
              "      <th>820</th>\n",
              "      <td>1200002614</td>\n",
              "      <td>2614.0</td>\n",
              "      <td>female</td>\n",
              "      <td>1943.0</td>\n",
              "      <td>70s</td>\n",
              "      <td>Korea</td>\n",
              "      <td>Daegu</td>\n",
              "      <td>NaN</td>\n",
              "      <td>True</td>\n",
              "      <td>NaN</td>\n",
              "      <td>NaN</td>\n",
              "      <td>NaN</td>\n",
              "      <td>NaN</td>\n",
              "      <td>NaN</td>\n",
              "      <td>2020-02-29</td>\n",
              "      <td>NaN</td>\n",
              "      <td>2020-03-01</td>\n",
              "      <td>deceased</td>\n",
              "    </tr>\n",
              "    <tr>\n",
              "      <th>825</th>\n",
              "      <td>1200003896</td>\n",
              "      <td>3896.0</td>\n",
              "      <td>male</td>\n",
              "      <td>1933.0</td>\n",
              "      <td>80s</td>\n",
              "      <td>Korea</td>\n",
              "      <td>Daegu</td>\n",
              "      <td>NaN</td>\n",
              "      <td>True</td>\n",
              "      <td>NaN</td>\n",
              "      <td>NaN</td>\n",
              "      <td>NaN</td>\n",
              "      <td>NaN</td>\n",
              "      <td>NaN</td>\n",
              "      <td>2020-03-01</td>\n",
              "      <td>NaN</td>\n",
              "      <td>2020-03-03</td>\n",
              "      <td>deceased</td>\n",
              "    </tr>\n",
              "    <tr>\n",
              "      <th>826</th>\n",
              "      <td>1200003914</td>\n",
              "      <td>3914.0</td>\n",
              "      <td>male</td>\n",
              "      <td>1938.0</td>\n",
              "      <td>80s</td>\n",
              "      <td>Korea</td>\n",
              "      <td>Daegu</td>\n",
              "      <td>NaN</td>\n",
              "      <td>True</td>\n",
              "      <td>NaN</td>\n",
              "      <td>NaN</td>\n",
              "      <td>NaN</td>\n",
              "      <td>NaN</td>\n",
              "      <td>NaN</td>\n",
              "      <td>2020-03-01</td>\n",
              "      <td>NaN</td>\n",
              "      <td>2020-03-09</td>\n",
              "      <td>deceased</td>\n",
              "    </tr>\n",
              "    <tr>\n",
              "      <th>827</th>\n",
              "      <td>1200004046</td>\n",
              "      <td>4046.0</td>\n",
              "      <td>female</td>\n",
              "      <td>1962.0</td>\n",
              "      <td>50s</td>\n",
              "      <td>Korea</td>\n",
              "      <td>Daegu</td>\n",
              "      <td>NaN</td>\n",
              "      <td>True</td>\n",
              "      <td>NaN</td>\n",
              "      <td>NaN</td>\n",
              "      <td>NaN</td>\n",
              "      <td>NaN</td>\n",
              "      <td>NaN</td>\n",
              "      <td>2020-03-01</td>\n",
              "      <td>NaN</td>\n",
              "      <td>2020-03-01</td>\n",
              "      <td>deceased</td>\n",
              "    </tr>\n",
              "    <tr>\n",
              "      <th>828</th>\n",
              "      <td>1200005767</td>\n",
              "      <td>5767.0</td>\n",
              "      <td>male</td>\n",
              "      <td>1938.0</td>\n",
              "      <td>80s</td>\n",
              "      <td>Korea</td>\n",
              "      <td>Daegu</td>\n",
              "      <td>NaN</td>\n",
              "      <td>True</td>\n",
              "      <td>NaN</td>\n",
              "      <td>NaN</td>\n",
              "      <td>NaN</td>\n",
              "      <td>NaN</td>\n",
              "      <td>NaN</td>\n",
              "      <td>2020-03-05</td>\n",
              "      <td>NaN</td>\n",
              "      <td>2020-03-05</td>\n",
              "      <td>deceased</td>\n",
              "    </tr>\n",
              "    <tr>\n",
              "      <th>829</th>\n",
              "      <td>1200007196</td>\n",
              "      <td>7196.0</td>\n",
              "      <td>male</td>\n",
              "      <td>1945.0</td>\n",
              "      <td>70s</td>\n",
              "      <td>Korea</td>\n",
              "      <td>Daegu</td>\n",
              "      <td>NaN</td>\n",
              "      <td>True</td>\n",
              "      <td>NaN</td>\n",
              "      <td>NaN</td>\n",
              "      <td>NaN</td>\n",
              "      <td>NaN</td>\n",
              "      <td>NaN</td>\n",
              "      <td>2020-03-08</td>\n",
              "      <td>NaN</td>\n",
              "      <td>2020-03-09</td>\n",
              "      <td>deceased</td>\n",
              "    </tr>\n",
              "    <tr>\n",
              "      <th>1796</th>\n",
              "      <td>3014000001</td>\n",
              "      <td>NaN</td>\n",
              "      <td>female</td>\n",
              "      <td>NaN</td>\n",
              "      <td>80s</td>\n",
              "      <td>Korea</td>\n",
              "      <td>Gangwon-do</td>\n",
              "      <td>Taebaek-si</td>\n",
              "      <td>True</td>\n",
              "      <td>contact with patient</td>\n",
              "      <td>NaN</td>\n",
              "      <td>NaN</td>\n",
              "      <td>NaN</td>\n",
              "      <td>NaN</td>\n",
              "      <td>2020-03-04</td>\n",
              "      <td>NaN</td>\n",
              "      <td>2020-03-04</td>\n",
              "      <td>deceased</td>\n",
              "    </tr>\n",
              "    <tr>\n",
              "      <th>3148</th>\n",
              "      <td>6020100054</td>\n",
              "      <td>54.0</td>\n",
              "      <td>male</td>\n",
              "      <td>1963.0</td>\n",
              "      <td>50s</td>\n",
              "      <td>Korea</td>\n",
              "      <td>Gyeongsangbuk-do</td>\n",
              "      <td>Cheongdo-gun</td>\n",
              "      <td>True</td>\n",
              "      <td>Cheongdo Daenam Hospital</td>\n",
              "      <td>NaN</td>\n",
              "      <td>NaN</td>\n",
              "      <td>NaN</td>\n",
              "      <td>NaN</td>\n",
              "      <td>2020-02-19</td>\n",
              "      <td>NaN</td>\n",
              "      <td>2020-02-23</td>\n",
              "      <td>deceased</td>\n",
              "    </tr>\n",
              "    <tr>\n",
              "      <th>3149</th>\n",
              "      <td>6020100055</td>\n",
              "      <td>55.0</td>\n",
              "      <td>male</td>\n",
              "      <td>1961.0</td>\n",
              "      <td>50s</td>\n",
              "      <td>Korea</td>\n",
              "      <td>Gyeongsangbuk-do</td>\n",
              "      <td>Cheongdo-gun</td>\n",
              "      <td>True</td>\n",
              "      <td>Cheongdo Daenam Hospital</td>\n",
              "      <td>NaN</td>\n",
              "      <td>NaN</td>\n",
              "      <td>NaN</td>\n",
              "      <td>NaN</td>\n",
              "      <td>2020-02-19</td>\n",
              "      <td>NaN</td>\n",
              "      <td>2020-02-23</td>\n",
              "      <td>deceased</td>\n",
              "    </tr>\n",
              "    <tr>\n",
              "      <th>3150</th>\n",
              "      <td>6020100104</td>\n",
              "      <td>104.0</td>\n",
              "      <td>male</td>\n",
              "      <td>1957.0</td>\n",
              "      <td>60s</td>\n",
              "      <td>Korea</td>\n",
              "      <td>Gyeongsangbuk-do</td>\n",
              "      <td>Cheongdo-gun</td>\n",
              "      <td>True</td>\n",
              "      <td>Cheongdo Daenam Hospital</td>\n",
              "      <td>NaN</td>\n",
              "      <td>NaN</td>\n",
              "      <td>NaN</td>\n",
              "      <td>NaN</td>\n",
              "      <td>2020-02-20</td>\n",
              "      <td>NaN</td>\n",
              "      <td>2020-02-19</td>\n",
              "      <td>deceased</td>\n",
              "    </tr>\n",
              "    <tr>\n",
              "      <th>3151</th>\n",
              "      <td>6020100107</td>\n",
              "      <td>107.0</td>\n",
              "      <td>male</td>\n",
              "      <td>1953.0</td>\n",
              "      <td>60s</td>\n",
              "      <td>Korea</td>\n",
              "      <td>Gyeongsangbuk-do</td>\n",
              "      <td>Cheongdo-gun</td>\n",
              "      <td>True</td>\n",
              "      <td>Cheongdo Daenam Hospital</td>\n",
              "      <td>NaN</td>\n",
              "      <td>NaN</td>\n",
              "      <td>NaN</td>\n",
              "      <td>NaN</td>\n",
              "      <td>2020-02-21</td>\n",
              "      <td>NaN</td>\n",
              "      <td>2020-02-24</td>\n",
              "      <td>deceased</td>\n",
              "    </tr>\n",
              "    <tr>\n",
              "      <th>3152</th>\n",
              "      <td>6020100205</td>\n",
              "      <td>205.0</td>\n",
              "      <td>female</td>\n",
              "      <td>1965.0</td>\n",
              "      <td>50s</td>\n",
              "      <td>Korea</td>\n",
              "      <td>Gyeongsangbuk-do</td>\n",
              "      <td>Cheongdo-gun</td>\n",
              "      <td>True</td>\n",
              "      <td>Cheongdo Daenam Hospital</td>\n",
              "      <td>NaN</td>\n",
              "      <td>NaN</td>\n",
              "      <td>NaN</td>\n",
              "      <td>NaN</td>\n",
              "      <td>2020-02-22</td>\n",
              "      <td>NaN</td>\n",
              "      <td>2020-02-21</td>\n",
              "      <td>deceased</td>\n",
              "    </tr>\n",
              "    <tr>\n",
              "      <th>3153</th>\n",
              "      <td>6020100286</td>\n",
              "      <td>286.0</td>\n",
              "      <td>male</td>\n",
              "      <td>1958.0</td>\n",
              "      <td>60s</td>\n",
              "      <td>Korea</td>\n",
              "      <td>Gyeongsangbuk-do</td>\n",
              "      <td>Cheongdo-gun</td>\n",
              "      <td>True</td>\n",
              "      <td>Cheongdo Daenam Hospital</td>\n",
              "      <td>NaN</td>\n",
              "      <td>NaN</td>\n",
              "      <td>NaN</td>\n",
              "      <td>NaN</td>\n",
              "      <td>2020-02-22</td>\n",
              "      <td>NaN</td>\n",
              "      <td>2020-02-23</td>\n",
              "      <td>deceased</td>\n",
              "    </tr>\n",
              "    <tr>\n",
              "      <th>3154</th>\n",
              "      <td>6020100298</td>\n",
              "      <td>298.0</td>\n",
              "      <td>male</td>\n",
              "      <td>1962.0</td>\n",
              "      <td>50s</td>\n",
              "      <td>Korea</td>\n",
              "      <td>Gyeongsangbuk-do</td>\n",
              "      <td>Cheongdo-gun</td>\n",
              "      <td>True</td>\n",
              "      <td>Cheongdo Daenam Hospital</td>\n",
              "      <td>NaN</td>\n",
              "      <td>NaN</td>\n",
              "      <td>NaN</td>\n",
              "      <td>NaN</td>\n",
              "      <td>2020-02-22</td>\n",
              "      <td>NaN</td>\n",
              "      <td>2020-02-25</td>\n",
              "      <td>deceased</td>\n",
              "    </tr>\n",
              "  </tbody>\n",
              "</table>\n",
              "</div>"
            ],
            "text/plain": [
              "      patient_id  global_num     sex  ...  released_date deceased_date     state\n",
              "772   1200000038        38.0  female  ...            NaN    2020-02-23  deceased\n",
              "815   1200001288      1288.0    male  ...            NaN    2020-03-02  deceased\n",
              "817   1200001921      1921.0    male  ...            NaN    2020-03-05  deceased\n",
              "818   1200002085      2085.0    male  ...            NaN    2020-03-04  deceased\n",
              "820   1200002614      2614.0  female  ...            NaN    2020-03-01  deceased\n",
              "825   1200003896      3896.0    male  ...            NaN    2020-03-03  deceased\n",
              "826   1200003914      3914.0    male  ...            NaN    2020-03-09  deceased\n",
              "827   1200004046      4046.0  female  ...            NaN    2020-03-01  deceased\n",
              "828   1200005767      5767.0    male  ...            NaN    2020-03-05  deceased\n",
              "829   1200007196      7196.0    male  ...            NaN    2020-03-09  deceased\n",
              "1796  3014000001         NaN  female  ...            NaN    2020-03-04  deceased\n",
              "3148  6020100054        54.0    male  ...            NaN    2020-02-23  deceased\n",
              "3149  6020100055        55.0    male  ...            NaN    2020-02-23  deceased\n",
              "3150  6020100104       104.0    male  ...            NaN    2020-02-19  deceased\n",
              "3151  6020100107       107.0    male  ...            NaN    2020-02-24  deceased\n",
              "3152  6020100205       205.0  female  ...            NaN    2020-02-21  deceased\n",
              "3153  6020100286       286.0    male  ...            NaN    2020-02-23  deceased\n",
              "3154  6020100298       298.0    male  ...            NaN    2020-02-25  deceased\n",
              "\n",
              "[18 rows x 18 columns]"
            ]
          },
          "metadata": {},
          "execution_count": 20
        }
      ]
    },
    {
      "cell_type": "markdown",
      "metadata": {
        "id": "phdQkSeIMxLx"
      },
      "source": [
        "disease 컬럼이 True인 사람들의 시사점?"
      ]
    },
    {
      "cell_type": "code",
      "metadata": {
        "colab": {
          "base_uri": "https://localhost:8080/"
        },
        "id": "v-n48NTtcJIH",
        "outputId": "5d404d46-674d-46ba-83a8-d06b00608160"
      },
      "source": [
        "# 결측치 확인\n",
        "patientinfo.isnull().sum()"
      ],
      "execution_count": 18,
      "outputs": [
        {
          "output_type": "execute_result",
          "data": {
            "text/plain": [
              "patient_id               0\n",
              "global_num            1112\n",
              "sex                     77\n",
              "birth_year             461\n",
              "age                     84\n",
              "country                  0\n",
              "province                 0\n",
              "city                    79\n",
              "disease               3370\n",
              "infection_case         768\n",
              "infection_order       3357\n",
              "infected_by           2566\n",
              "contact_number        2745\n",
              "symptom_onset_date    2907\n",
              "confirmed_date           3\n",
              "released_date         2061\n",
              "deceased_date         3326\n",
              "state                    0\n",
              "dtype: int64"
            ]
          },
          "metadata": {},
          "execution_count": 18
        }
      ]
    },
    {
      "cell_type": "markdown",
      "metadata": {
        "id": "lVXJ8ZRZcAmP"
      },
      "source": [
        "- __Observation__\n",
        "  - birth_year(출생연도)는 결측치가 많기 때문에 유사한 age(연령대) 정보를 사용하는 것이 적합할 것 같다.\n",
        "  - infection_order(N차 감염?), contact_number(접촉자수), infected_by(해당 환자를 감염시킨 사람의 환자 ID), symptom_onset_date(증상발현일)  같이 결측치가 많은 데이터는 활용하기가 어려워 보인다. (질병 발생 초반 역학조사 단계 정도에서만 유의미한 데이터로 생각된다.)\n",
        "  - 연령대별 입원일(퇴원일-확진일), 평균 생존기간(사망일-확진일) 시각화\n",
        "  - disease=Ture 인 사람과 아닌 사람의 입원기간, 사망율 등을 eda"
      ]
    },
    {
      "cell_type": "markdown",
      "metadata": {
        "id": "RUrbUGGw2hQ0"
      },
      "source": [
        "__03. Patient Route (환자동선)__\n",
        "- 2020년 1월 20일부터 4월 27일까지 확진자들의 이동동선 정보가 담겨있는 테이블이다."
      ]
    },
    {
      "cell_type": "code",
      "metadata": {
        "id": "K8l4UzJhDF-3",
        "colab": {
          "base_uri": "https://localhost:8080/",
          "height": 224
        },
        "outputId": "306c9e7d-d954-4791-db8f-91370ef159e6"
      },
      "source": [
        "print('Patient Route 크기: ', patientroute.shape)\n",
        "patientroute.head()"
      ],
      "execution_count": 21,
      "outputs": [
        {
          "output_type": "stream",
          "text": [
            "Patient Route 크기:  (6714, 8)\n"
          ],
          "name": "stdout"
        },
        {
          "output_type": "execute_result",
          "data": {
            "text/html": [
              "<div>\n",
              "<style scoped>\n",
              "    .dataframe tbody tr th:only-of-type {\n",
              "        vertical-align: middle;\n",
              "    }\n",
              "\n",
              "    .dataframe tbody tr th {\n",
              "        vertical-align: top;\n",
              "    }\n",
              "\n",
              "    .dataframe thead th {\n",
              "        text-align: right;\n",
              "    }\n",
              "</style>\n",
              "<table border=\"1\" class=\"dataframe\">\n",
              "  <thead>\n",
              "    <tr style=\"text-align: right;\">\n",
              "      <th></th>\n",
              "      <th>patient_id</th>\n",
              "      <th>global_num</th>\n",
              "      <th>date</th>\n",
              "      <th>province</th>\n",
              "      <th>city</th>\n",
              "      <th>type</th>\n",
              "      <th>latitude</th>\n",
              "      <th>longitude</th>\n",
              "    </tr>\n",
              "  </thead>\n",
              "  <tbody>\n",
              "    <tr>\n",
              "      <th>0</th>\n",
              "      <td>1000000001</td>\n",
              "      <td>2.0</td>\n",
              "      <td>2020-01-22</td>\n",
              "      <td>Gyeonggi-do</td>\n",
              "      <td>Gimpo-si</td>\n",
              "      <td>airport</td>\n",
              "      <td>37.615246</td>\n",
              "      <td>126.715632</td>\n",
              "    </tr>\n",
              "    <tr>\n",
              "      <th>1</th>\n",
              "      <td>1000000001</td>\n",
              "      <td>2.0</td>\n",
              "      <td>2020-01-24</td>\n",
              "      <td>Seoul</td>\n",
              "      <td>Jung-gu</td>\n",
              "      <td>hospital</td>\n",
              "      <td>37.567241</td>\n",
              "      <td>127.005659</td>\n",
              "    </tr>\n",
              "    <tr>\n",
              "      <th>2</th>\n",
              "      <td>1000000002</td>\n",
              "      <td>5.0</td>\n",
              "      <td>2020-01-25</td>\n",
              "      <td>Seoul</td>\n",
              "      <td>Seongbuk-gu</td>\n",
              "      <td>etc</td>\n",
              "      <td>37.592560</td>\n",
              "      <td>127.017048</td>\n",
              "    </tr>\n",
              "    <tr>\n",
              "      <th>3</th>\n",
              "      <td>1000000002</td>\n",
              "      <td>5.0</td>\n",
              "      <td>2020-01-26</td>\n",
              "      <td>Seoul</td>\n",
              "      <td>Seongbuk-gu</td>\n",
              "      <td>store</td>\n",
              "      <td>37.591810</td>\n",
              "      <td>127.016822</td>\n",
              "    </tr>\n",
              "    <tr>\n",
              "      <th>4</th>\n",
              "      <td>1000000002</td>\n",
              "      <td>5.0</td>\n",
              "      <td>2020-01-26</td>\n",
              "      <td>Seoul</td>\n",
              "      <td>Seongdong-gu</td>\n",
              "      <td>public_transportation</td>\n",
              "      <td>37.563992</td>\n",
              "      <td>127.029534</td>\n",
              "    </tr>\n",
              "  </tbody>\n",
              "</table>\n",
              "</div>"
            ],
            "text/plain": [
              "   patient_id  global_num  ...   latitude   longitude\n",
              "0  1000000001         2.0  ...  37.615246  126.715632\n",
              "1  1000000001         2.0  ...  37.567241  127.005659\n",
              "2  1000000002         5.0  ...  37.592560  127.017048\n",
              "3  1000000002         5.0  ...  37.591810  127.016822\n",
              "4  1000000002         5.0  ...  37.563992  127.029534\n",
              "\n",
              "[5 rows x 8 columns]"
            ]
          },
          "metadata": {},
          "execution_count": 21
        }
      ]
    },
    {
      "cell_type": "code",
      "metadata": {
        "colab": {
          "base_uri": "https://localhost:8080/"
        },
        "id": "JCHuNlhk2pKP",
        "outputId": "7c83b22e-967e-4396-b22b-9d31e81bc809"
      },
      "source": [
        "patientroute.info()"
      ],
      "execution_count": 22,
      "outputs": [
        {
          "output_type": "stream",
          "text": [
            "<class 'pandas.core.frame.DataFrame'>\n",
            "RangeIndex: 6714 entries, 0 to 6713\n",
            "Data columns (total 8 columns):\n",
            " #   Column      Non-Null Count  Dtype  \n",
            "---  ------      --------------  -----  \n",
            " 0   patient_id  6714 non-null   int64  \n",
            " 1   global_num  3571 non-null   float64\n",
            " 2   date        6714 non-null   object \n",
            " 3   province    6714 non-null   object \n",
            " 4   city        6714 non-null   object \n",
            " 5   type        6714 non-null   object \n",
            " 6   latitude    6714 non-null   float64\n",
            " 7   longitude   6714 non-null   float64\n",
            "dtypes: float64(3), int64(1), object(4)\n",
            "memory usage: 419.8+ KB\n"
          ],
          "name": "stdout"
        }
      ]
    },
    {
      "cell_type": "code",
      "metadata": {
        "colab": {
          "base_uri": "https://localhost:8080/"
        },
        "id": "tzdWZO072woG",
        "outputId": "18d4d2e9-d732-4209-d0d0-69abf9740044"
      },
      "source": [
        "patientroute['type'].value_counts()"
      ],
      "execution_count": 23,
      "outputs": [
        {
          "output_type": "execute_result",
          "data": {
            "text/plain": [
              "etc                            2049\n",
              "hospital                       1927\n",
              "store                           641\n",
              "restaurant                      528\n",
              "public_transportation           462\n",
              "airport                         237\n",
              "pharmacy                        230\n",
              "church                          148\n",
              "cafe                            102\n",
              "pc_cafe                          80\n",
              "school                           58\n",
              "lodging                          45\n",
              "bank                             32\n",
              "bakery                           26\n",
              "gym                              20\n",
              "real_estate_agency               19\n",
              "beauty_salon                     19\n",
              "post_office                      17\n",
              "university                       14\n",
              "administrative_area_level_1      14\n",
              "bar                              13\n",
              "gas_station                      12\n",
              "academy                          11\n",
              "karaoke                          10\n",
              "Name: type, dtype: int64"
            ]
          },
          "metadata": {},
          "execution_count": 23
        }
      ]
    },
    {
      "cell_type": "markdown",
      "metadata": {
        "id": "FXiqPakN2-LP"
      },
      "source": [
        "- __Observation__\n",
        "  - 환자 이동동선 중 어떤 방문장소가 많은가? (병원??)\n",
        "  - 환자별 이동동선(위도,경도) 거리를 계산해서 어떤 환자가 가장 이동거리가 많았는지, 다시 말해 전국적 확산에 영향을 미칠 수 있었던 환자가 누구인지 예측"
      ]
    },
    {
      "cell_type": "markdown",
      "metadata": {
        "id": "djLSW9Sw3KY8"
      },
      "source": [
        "__04. Time (시간)__\n",
        "- 2020년 1월 20일부터 2020년 4월 30일까지 일자별 누적 검사자수/검사결과/퇴원인원(음성/양성)/사망인원"
      ]
    },
    {
      "cell_type": "code",
      "metadata": {
        "colab": {
          "base_uri": "https://localhost:8080/",
          "height": 224
        },
        "id": "o8A-zmM1Mhrl",
        "outputId": "550e1fe6-977c-4911-f1f1-11f7b74c0aa8"
      },
      "source": [
        "print('Time 크기: ', time.shape)\n",
        "time.head()"
      ],
      "execution_count": 24,
      "outputs": [
        {
          "output_type": "stream",
          "text": [
            "Time 크기:  (102, 7)\n"
          ],
          "name": "stdout"
        },
        {
          "output_type": "execute_result",
          "data": {
            "text/html": [
              "<div>\n",
              "<style scoped>\n",
              "    .dataframe tbody tr th:only-of-type {\n",
              "        vertical-align: middle;\n",
              "    }\n",
              "\n",
              "    .dataframe tbody tr th {\n",
              "        vertical-align: top;\n",
              "    }\n",
              "\n",
              "    .dataframe thead th {\n",
              "        text-align: right;\n",
              "    }\n",
              "</style>\n",
              "<table border=\"1\" class=\"dataframe\">\n",
              "  <thead>\n",
              "    <tr style=\"text-align: right;\">\n",
              "      <th></th>\n",
              "      <th>date</th>\n",
              "      <th>time</th>\n",
              "      <th>test</th>\n",
              "      <th>negative</th>\n",
              "      <th>confirmed</th>\n",
              "      <th>released</th>\n",
              "      <th>deceased</th>\n",
              "    </tr>\n",
              "  </thead>\n",
              "  <tbody>\n",
              "    <tr>\n",
              "      <th>0</th>\n",
              "      <td>2020-01-20</td>\n",
              "      <td>16</td>\n",
              "      <td>1</td>\n",
              "      <td>0</td>\n",
              "      <td>1</td>\n",
              "      <td>0</td>\n",
              "      <td>0</td>\n",
              "    </tr>\n",
              "    <tr>\n",
              "      <th>1</th>\n",
              "      <td>2020-01-21</td>\n",
              "      <td>16</td>\n",
              "      <td>1</td>\n",
              "      <td>0</td>\n",
              "      <td>1</td>\n",
              "      <td>0</td>\n",
              "      <td>0</td>\n",
              "    </tr>\n",
              "    <tr>\n",
              "      <th>2</th>\n",
              "      <td>2020-01-22</td>\n",
              "      <td>16</td>\n",
              "      <td>4</td>\n",
              "      <td>3</td>\n",
              "      <td>1</td>\n",
              "      <td>0</td>\n",
              "      <td>0</td>\n",
              "    </tr>\n",
              "    <tr>\n",
              "      <th>3</th>\n",
              "      <td>2020-01-23</td>\n",
              "      <td>16</td>\n",
              "      <td>22</td>\n",
              "      <td>21</td>\n",
              "      <td>1</td>\n",
              "      <td>0</td>\n",
              "      <td>0</td>\n",
              "    </tr>\n",
              "    <tr>\n",
              "      <th>4</th>\n",
              "      <td>2020-01-24</td>\n",
              "      <td>16</td>\n",
              "      <td>27</td>\n",
              "      <td>25</td>\n",
              "      <td>2</td>\n",
              "      <td>0</td>\n",
              "      <td>0</td>\n",
              "    </tr>\n",
              "  </tbody>\n",
              "</table>\n",
              "</div>"
            ],
            "text/plain": [
              "         date  time  test  negative  confirmed  released  deceased\n",
              "0  2020-01-20    16     1         0          1         0         0\n",
              "1  2020-01-21    16     1         0          1         0         0\n",
              "2  2020-01-22    16     4         3          1         0         0\n",
              "3  2020-01-23    16    22        21          1         0         0\n",
              "4  2020-01-24    16    27        25          2         0         0"
            ]
          },
          "metadata": {},
          "execution_count": 24
        }
      ]
    },
    {
      "cell_type": "code",
      "metadata": {
        "colab": {
          "base_uri": "https://localhost:8080/",
          "height": 299
        },
        "id": "-Ou3he5w5MRh",
        "outputId": "704922c3-93f2-4085-d812-3090e7fe4566"
      },
      "source": [
        "time.describe()  # 누적 데이터이기 때문에 max 값이 최종 누적 수치이다."
      ],
      "execution_count": null,
      "outputs": [
        {
          "output_type": "execute_result",
          "data": {
            "text/html": [
              "<div>\n",
              "<style scoped>\n",
              "    .dataframe tbody tr th:only-of-type {\n",
              "        vertical-align: middle;\n",
              "    }\n",
              "\n",
              "    .dataframe tbody tr th {\n",
              "        vertical-align: top;\n",
              "    }\n",
              "\n",
              "    .dataframe thead th {\n",
              "        text-align: right;\n",
              "    }\n",
              "</style>\n",
              "<table border=\"1\" class=\"dataframe\">\n",
              "  <thead>\n",
              "    <tr style=\"text-align: right;\">\n",
              "      <th></th>\n",
              "      <th>time</th>\n",
              "      <th>test</th>\n",
              "      <th>negative</th>\n",
              "      <th>confirmed</th>\n",
              "      <th>released</th>\n",
              "      <th>deceased</th>\n",
              "    </tr>\n",
              "  </thead>\n",
              "  <tbody>\n",
              "    <tr>\n",
              "      <th>count</th>\n",
              "      <td>102.000000</td>\n",
              "      <td>102.000000</td>\n",
              "      <td>102.000000</td>\n",
              "      <td>102.000000</td>\n",
              "      <td>102.000000</td>\n",
              "      <td>102.000000</td>\n",
              "    </tr>\n",
              "    <tr>\n",
              "      <th>mean</th>\n",
              "      <td>6.588235</td>\n",
              "      <td>243168.882353</td>\n",
              "      <td>226145.235294</td>\n",
              "      <td>5592.107843</td>\n",
              "      <td>2793.382353</td>\n",
              "      <td>90.205882</td>\n",
              "    </tr>\n",
              "    <tr>\n",
              "      <th>std</th>\n",
              "      <td>7.913334</td>\n",
              "      <td>224360.813994</td>\n",
              "      <td>216406.204594</td>\n",
              "      <td>4593.929759</td>\n",
              "      <td>3402.693790</td>\n",
              "      <td>93.342586</td>\n",
              "    </tr>\n",
              "    <tr>\n",
              "      <th>min</th>\n",
              "      <td>0.000000</td>\n",
              "      <td>1.000000</td>\n",
              "      <td>0.000000</td>\n",
              "      <td>1.000000</td>\n",
              "      <td>0.000000</td>\n",
              "      <td>0.000000</td>\n",
              "    </tr>\n",
              "    <tr>\n",
              "      <th>25%</th>\n",
              "      <td>0.000000</td>\n",
              "      <td>7365.000000</td>\n",
              "      <td>6796.250000</td>\n",
              "      <td>28.000000</td>\n",
              "      <td>7.500000</td>\n",
              "      <td>0.000000</td>\n",
              "    </tr>\n",
              "    <tr>\n",
              "      <th>50%</th>\n",
              "      <td>0.000000</td>\n",
              "      <td>216269.500000</td>\n",
              "      <td>190139.500000</td>\n",
              "      <td>7634.000000</td>\n",
              "      <td>267.500000</td>\n",
              "      <td>57.000000</td>\n",
              "    </tr>\n",
              "    <tr>\n",
              "      <th>75%</th>\n",
              "      <td>16.000000</td>\n",
              "      <td>459682.750000</td>\n",
              "      <td>429751.750000</td>\n",
              "      <td>10216.750000</td>\n",
              "      <td>6428.500000</td>\n",
              "      <td>181.500000</td>\n",
              "    </tr>\n",
              "    <tr>\n",
              "      <th>max</th>\n",
              "      <td>16.000000</td>\n",
              "      <td>619881.000000</td>\n",
              "      <td>600482.000000</td>\n",
              "      <td>10765.000000</td>\n",
              "      <td>9059.000000</td>\n",
              "      <td>247.000000</td>\n",
              "    </tr>\n",
              "  </tbody>\n",
              "</table>\n",
              "</div>"
            ],
            "text/plain": [
              "             time           test  ...     released    deceased\n",
              "count  102.000000     102.000000  ...   102.000000  102.000000\n",
              "mean     6.588235  243168.882353  ...  2793.382353   90.205882\n",
              "std      7.913334  224360.813994  ...  3402.693790   93.342586\n",
              "min      0.000000       1.000000  ...     0.000000    0.000000\n",
              "25%      0.000000    7365.000000  ...     7.500000    0.000000\n",
              "50%      0.000000  216269.500000  ...   267.500000   57.000000\n",
              "75%     16.000000  459682.750000  ...  6428.500000  181.500000\n",
              "max     16.000000  619881.000000  ...  9059.000000  247.000000\n",
              "\n",
              "[8 rows x 6 columns]"
            ]
          },
          "metadata": {},
          "execution_count": 141
        }
      ]
    },
    {
      "cell_type": "code",
      "metadata": {
        "colab": {
          "base_uri": "https://localhost:8080/",
          "height": 175
        },
        "id": "6XNHv9q63Zrn",
        "outputId": "64de7c8c-f6ac-41dd-ba1c-30df3c2c6e9a"
      },
      "source": [
        "# 최초 확진자 발생일\n",
        "time[time['confirmed'] == 1]"
      ],
      "execution_count": null,
      "outputs": [
        {
          "output_type": "execute_result",
          "data": {
            "text/html": [
              "<div>\n",
              "<style scoped>\n",
              "    .dataframe tbody tr th:only-of-type {\n",
              "        vertical-align: middle;\n",
              "    }\n",
              "\n",
              "    .dataframe tbody tr th {\n",
              "        vertical-align: top;\n",
              "    }\n",
              "\n",
              "    .dataframe thead th {\n",
              "        text-align: right;\n",
              "    }\n",
              "</style>\n",
              "<table border=\"1\" class=\"dataframe\">\n",
              "  <thead>\n",
              "    <tr style=\"text-align: right;\">\n",
              "      <th></th>\n",
              "      <th>date</th>\n",
              "      <th>time</th>\n",
              "      <th>test</th>\n",
              "      <th>negative</th>\n",
              "      <th>confirmed</th>\n",
              "      <th>released</th>\n",
              "      <th>deceased</th>\n",
              "    </tr>\n",
              "  </thead>\n",
              "  <tbody>\n",
              "    <tr>\n",
              "      <th>0</th>\n",
              "      <td>2020-01-20</td>\n",
              "      <td>16</td>\n",
              "      <td>1</td>\n",
              "      <td>0</td>\n",
              "      <td>1</td>\n",
              "      <td>0</td>\n",
              "      <td>0</td>\n",
              "    </tr>\n",
              "    <tr>\n",
              "      <th>1</th>\n",
              "      <td>2020-01-21</td>\n",
              "      <td>16</td>\n",
              "      <td>1</td>\n",
              "      <td>0</td>\n",
              "      <td>1</td>\n",
              "      <td>0</td>\n",
              "      <td>0</td>\n",
              "    </tr>\n",
              "    <tr>\n",
              "      <th>2</th>\n",
              "      <td>2020-01-22</td>\n",
              "      <td>16</td>\n",
              "      <td>4</td>\n",
              "      <td>3</td>\n",
              "      <td>1</td>\n",
              "      <td>0</td>\n",
              "      <td>0</td>\n",
              "    </tr>\n",
              "    <tr>\n",
              "      <th>3</th>\n",
              "      <td>2020-01-23</td>\n",
              "      <td>16</td>\n",
              "      <td>22</td>\n",
              "      <td>21</td>\n",
              "      <td>1</td>\n",
              "      <td>0</td>\n",
              "      <td>0</td>\n",
              "    </tr>\n",
              "  </tbody>\n",
              "</table>\n",
              "</div>"
            ],
            "text/plain": [
              "         date  time  test  negative  confirmed  released  deceased\n",
              "0  2020-01-20    16     1         0          1         0         0\n",
              "1  2020-01-21    16     1         0          1         0         0\n",
              "2  2020-01-22    16     4         3          1         0         0\n",
              "3  2020-01-23    16    22        21          1         0         0"
            ]
          },
          "metadata": {},
          "execution_count": 142
        }
      ]
    },
    {
      "cell_type": "code",
      "metadata": {
        "colab": {
          "base_uri": "https://localhost:8080/",
          "height": 81
        },
        "id": "iVF0LhelN0DB",
        "outputId": "ee7cb4d2-c99c-4403-aac3-a7186e27854e"
      },
      "source": [
        "# 확진자 최초 퇴원일\n",
        "time[time['released'] == 1]"
      ],
      "execution_count": null,
      "outputs": [
        {
          "output_type": "execute_result",
          "data": {
            "text/html": [
              "<div>\n",
              "<style scoped>\n",
              "    .dataframe tbody tr th:only-of-type {\n",
              "        vertical-align: middle;\n",
              "    }\n",
              "\n",
              "    .dataframe tbody tr th {\n",
              "        vertical-align: top;\n",
              "    }\n",
              "\n",
              "    .dataframe thead th {\n",
              "        text-align: right;\n",
              "    }\n",
              "</style>\n",
              "<table border=\"1\" class=\"dataframe\">\n",
              "  <thead>\n",
              "    <tr style=\"text-align: right;\">\n",
              "      <th></th>\n",
              "      <th>date</th>\n",
              "      <th>time</th>\n",
              "      <th>test</th>\n",
              "      <th>negative</th>\n",
              "      <th>confirmed</th>\n",
              "      <th>released</th>\n",
              "      <th>deceased</th>\n",
              "    </tr>\n",
              "  </thead>\n",
              "  <tbody>\n",
              "    <tr>\n",
              "      <th>16</th>\n",
              "      <td>2020-02-05</td>\n",
              "      <td>16</td>\n",
              "      <td>714</td>\n",
              "      <td>522</td>\n",
              "      <td>18</td>\n",
              "      <td>1</td>\n",
              "      <td>0</td>\n",
              "    </tr>\n",
              "  </tbody>\n",
              "</table>\n",
              "</div>"
            ],
            "text/plain": [
              "          date  time  test  negative  confirmed  released  deceased\n",
              "16  2020-02-05    16   714       522         18         1         0"
            ]
          },
          "metadata": {},
          "execution_count": 143
        }
      ]
    },
    {
      "cell_type": "code",
      "metadata": {
        "colab": {
          "base_uri": "https://localhost:8080/",
          "height": 81
        },
        "id": "y_T8inBfN1cJ",
        "outputId": "c1fb5ef9-ca03-4086-80ea-dd6491dde3ed"
      },
      "source": [
        "# 최초 사망자 발생일\n",
        "time[time['deceased'] == 1]"
      ],
      "execution_count": null,
      "outputs": [
        {
          "output_type": "execute_result",
          "data": {
            "text/html": [
              "<div>\n",
              "<style scoped>\n",
              "    .dataframe tbody tr th:only-of-type {\n",
              "        vertical-align: middle;\n",
              "    }\n",
              "\n",
              "    .dataframe tbody tr th {\n",
              "        vertical-align: top;\n",
              "    }\n",
              "\n",
              "    .dataframe thead th {\n",
              "        text-align: right;\n",
              "    }\n",
              "</style>\n",
              "<table border=\"1\" class=\"dataframe\">\n",
              "  <thead>\n",
              "    <tr style=\"text-align: right;\">\n",
              "      <th></th>\n",
              "      <th>date</th>\n",
              "      <th>time</th>\n",
              "      <th>test</th>\n",
              "      <th>negative</th>\n",
              "      <th>confirmed</th>\n",
              "      <th>released</th>\n",
              "      <th>deceased</th>\n",
              "    </tr>\n",
              "  </thead>\n",
              "  <tbody>\n",
              "    <tr>\n",
              "      <th>31</th>\n",
              "      <td>2020-02-20</td>\n",
              "      <td>16</td>\n",
              "      <td>13202</td>\n",
              "      <td>11238</td>\n",
              "      <td>104</td>\n",
              "      <td>16</td>\n",
              "      <td>1</td>\n",
              "    </tr>\n",
              "  </tbody>\n",
              "</table>\n",
              "</div>"
            ],
            "text/plain": [
              "          date  time   test  negative  confirmed  released  deceased\n",
              "31  2020-02-20    16  13202     11238        104        16         1"
            ]
          },
          "metadata": {},
          "execution_count": 144
        }
      ]
    },
    {
      "cell_type": "code",
      "metadata": {
        "id": "75cmioBzOYK1"
      },
      "source": [
        "# 일자별 검사자수/확진자수/완치자수(퇴원)/사망자수"
      ],
      "execution_count": null,
      "outputs": []
    },
    {
      "cell_type": "code",
      "metadata": {
        "colab": {
          "base_uri": "https://localhost:8080/"
        },
        "id": "gqBsX20x6WC0",
        "outputId": "118daebc-bf4c-47d9-d79d-2c50f796d843"
      },
      "source": [
        "time.isnull().sum()"
      ],
      "execution_count": null,
      "outputs": [
        {
          "output_type": "execute_result",
          "data": {
            "text/plain": [
              "date         0\n",
              "time         0\n",
              "test         0\n",
              "negative     0\n",
              "confirmed    0\n",
              "released     0\n",
              "deceased     0\n",
              "dtype: int64"
            ]
          },
          "metadata": {},
          "execution_count": 146
        }
      ]
    },
    {
      "cell_type": "markdown",
      "metadata": {
        "id": "3bXqqJlZ4Bcd"
      },
      "source": [
        "- __Observation__\n",
        "  - 3.1부 시간 기준이 16시에서 00시로 변경 되었으나, 일자별 데이터이기 때문에 time 컬럼 자체는 불필요해 drop 해도 무방할 것 같다. \n",
        "  - 2020년 2월 5일에 최초 퇴원자가 나왔으며, 2020년 2월 20일에 최초 사망자가 발생하였다.\n",
        "  - 전처리를 통해 일자별 검사자수/검사결과 등을 확인 해볼 수 있다."
      ]
    },
    {
      "cell_type": "markdown",
      "metadata": {
        "id": "LJjiZP8J6APV"
      },
      "source": [
        "__05. Time Age (연령대별 확진/사망자수 추이)__\n",
        "- 2020년 3월 2일부터 4월 30일까지(60일간) 연령대별 확진/사망자 수"
      ]
    },
    {
      "cell_type": "code",
      "metadata": {
        "colab": {
          "base_uri": "https://localhost:8080/",
          "height": 224
        },
        "id": "Cvq58YyxMjTD",
        "outputId": "f80e7ba0-e125-4296-9f85-d77b935ca800"
      },
      "source": [
        "print('Time Age 크기: ', timeage.shape)\n",
        "timeage.head()"
      ],
      "execution_count": null,
      "outputs": [
        {
          "output_type": "stream",
          "text": [
            "Time Age 크기:  (540, 5)\n"
          ],
          "name": "stdout"
        },
        {
          "output_type": "execute_result",
          "data": {
            "text/html": [
              "<div>\n",
              "<style scoped>\n",
              "    .dataframe tbody tr th:only-of-type {\n",
              "        vertical-align: middle;\n",
              "    }\n",
              "\n",
              "    .dataframe tbody tr th {\n",
              "        vertical-align: top;\n",
              "    }\n",
              "\n",
              "    .dataframe thead th {\n",
              "        text-align: right;\n",
              "    }\n",
              "</style>\n",
              "<table border=\"1\" class=\"dataframe\">\n",
              "  <thead>\n",
              "    <tr style=\"text-align: right;\">\n",
              "      <th></th>\n",
              "      <th>date</th>\n",
              "      <th>time</th>\n",
              "      <th>age</th>\n",
              "      <th>confirmed</th>\n",
              "      <th>deceased</th>\n",
              "    </tr>\n",
              "  </thead>\n",
              "  <tbody>\n",
              "    <tr>\n",
              "      <th>0</th>\n",
              "      <td>2020-03-02</td>\n",
              "      <td>0</td>\n",
              "      <td>0s</td>\n",
              "      <td>32</td>\n",
              "      <td>0</td>\n",
              "    </tr>\n",
              "    <tr>\n",
              "      <th>1</th>\n",
              "      <td>2020-03-02</td>\n",
              "      <td>0</td>\n",
              "      <td>10s</td>\n",
              "      <td>169</td>\n",
              "      <td>0</td>\n",
              "    </tr>\n",
              "    <tr>\n",
              "      <th>2</th>\n",
              "      <td>2020-03-02</td>\n",
              "      <td>0</td>\n",
              "      <td>20s</td>\n",
              "      <td>1235</td>\n",
              "      <td>0</td>\n",
              "    </tr>\n",
              "    <tr>\n",
              "      <th>3</th>\n",
              "      <td>2020-03-02</td>\n",
              "      <td>0</td>\n",
              "      <td>30s</td>\n",
              "      <td>506</td>\n",
              "      <td>1</td>\n",
              "    </tr>\n",
              "    <tr>\n",
              "      <th>4</th>\n",
              "      <td>2020-03-02</td>\n",
              "      <td>0</td>\n",
              "      <td>40s</td>\n",
              "      <td>633</td>\n",
              "      <td>1</td>\n",
              "    </tr>\n",
              "  </tbody>\n",
              "</table>\n",
              "</div>"
            ],
            "text/plain": [
              "         date  time  age  confirmed  deceased\n",
              "0  2020-03-02     0   0s         32         0\n",
              "1  2020-03-02     0  10s        169         0\n",
              "2  2020-03-02     0  20s       1235         0\n",
              "3  2020-03-02     0  30s        506         1\n",
              "4  2020-03-02     0  40s        633         1"
            ]
          },
          "metadata": {},
          "execution_count": 147
        }
      ]
    },
    {
      "cell_type": "code",
      "metadata": {
        "colab": {
          "base_uri": "https://localhost:8080/"
        },
        "id": "XMzfFTk36GO1",
        "outputId": "aa1bb2ca-79a4-4817-9093-f020dbfda015"
      },
      "source": [
        "timeage.isnull().sum()"
      ],
      "execution_count": null,
      "outputs": [
        {
          "output_type": "execute_result",
          "data": {
            "text/plain": [
              "date         0\n",
              "time         0\n",
              "age          0\n",
              "confirmed    0\n",
              "deceased     0\n",
              "dtype: int64"
            ]
          },
          "metadata": {},
          "execution_count": 148
        }
      ]
    },
    {
      "cell_type": "code",
      "metadata": {
        "colab": {
          "base_uri": "https://localhost:8080/",
          "height": 418
        },
        "id": "sR_VxrMe68gd",
        "outputId": "7e0c6eac-9217-4818-a5e7-21420bcd53f2"
      },
      "source": [
        "timeage.groupby(['age'])['confirmed', 'deceased'].sum()"
      ],
      "execution_count": null,
      "outputs": [
        {
          "output_type": "stream",
          "text": [
            "/usr/local/lib/python3.7/dist-packages/ipykernel_launcher.py:1: FutureWarning: Indexing with multiple keys (implicitly converted to a tuple of keys) will be deprecated, use a list instead.\n",
            "  \"\"\"Entry point for launching an IPython kernel.\n"
          ],
          "name": "stderr"
        },
        {
          "output_type": "execute_result",
          "data": {
            "text/html": [
              "<div>\n",
              "<style scoped>\n",
              "    .dataframe tbody tr th:only-of-type {\n",
              "        vertical-align: middle;\n",
              "    }\n",
              "\n",
              "    .dataframe tbody tr th {\n",
              "        vertical-align: top;\n",
              "    }\n",
              "\n",
              "    .dataframe thead th {\n",
              "        text-align: right;\n",
              "    }\n",
              "</style>\n",
              "<table border=\"1\" class=\"dataframe\">\n",
              "  <thead>\n",
              "    <tr style=\"text-align: right;\">\n",
              "      <th></th>\n",
              "      <th>confirmed</th>\n",
              "      <th>deceased</th>\n",
              "    </tr>\n",
              "    <tr>\n",
              "      <th>age</th>\n",
              "      <th></th>\n",
              "      <th></th>\n",
              "    </tr>\n",
              "  </thead>\n",
              "  <tbody>\n",
              "    <tr>\n",
              "      <th>0s</th>\n",
              "      <td>6404</td>\n",
              "      <td>0</td>\n",
              "    </tr>\n",
              "    <tr>\n",
              "      <th>10s</th>\n",
              "      <td>29183</td>\n",
              "      <td>0</td>\n",
              "    </tr>\n",
              "    <tr>\n",
              "      <th>20s</th>\n",
              "      <td>153249</td>\n",
              "      <td>0</td>\n",
              "    </tr>\n",
              "    <tr>\n",
              "      <th>30s</th>\n",
              "      <td>58621</td>\n",
              "      <td>72</td>\n",
              "    </tr>\n",
              "    <tr>\n",
              "      <th>40s</th>\n",
              "      <td>75018</td>\n",
              "      <td>112</td>\n",
              "    </tr>\n",
              "    <tr>\n",
              "      <th>50s</th>\n",
              "      <td>103480</td>\n",
              "      <td>622</td>\n",
              "    </tr>\n",
              "    <tr>\n",
              "      <th>60s</th>\n",
              "      <td>69622</td>\n",
              "      <td>1381</td>\n",
              "    </tr>\n",
              "    <tr>\n",
              "      <th>70s</th>\n",
              "      <td>35957</td>\n",
              "      <td>2764</td>\n",
              "    </tr>\n",
              "    <tr>\n",
              "      <th>80s</th>\n",
              "      <td>22981</td>\n",
              "      <td>4146</td>\n",
              "    </tr>\n",
              "  </tbody>\n",
              "</table>\n",
              "</div>"
            ],
            "text/plain": [
              "     confirmed  deceased\n",
              "age                     \n",
              "0s        6404         0\n",
              "10s      29183         0\n",
              "20s     153249         0\n",
              "30s      58621        72\n",
              "40s      75018       112\n",
              "50s     103480       622\n",
              "60s      69622      1381\n",
              "70s      35957      2764\n",
              "80s      22981      4146"
            ]
          },
          "metadata": {},
          "execution_count": 149
        }
      ]
    },
    {
      "cell_type": "code",
      "metadata": {
        "colab": {
          "base_uri": "https://localhost:8080/",
          "height": 439
        },
        "id": "zg3bRfMDRKzf",
        "outputId": "d953bf5f-24b4-4f2c-cd00-09799d2b7f68"
      },
      "source": [
        "patient_age = timeage.groupby(['age'], as_index=False)['confirmed', 'deceased'].sum()\n",
        "\n",
        "f,ax = plt.subplots(1,2, figsize=(15,6))\n",
        "sns.barplot(x='age', y='confirmed', data=patient_age, ax=ax[0])\n",
        "ax[0].set_title('Confirmed cases')\n",
        "\n",
        "sns.barplot(x='age', y='deceased', data=patient_age, ax=ax[1])\n",
        "ax[1].set_title('Deceased')\n",
        "\n",
        "plt.show()"
      ],
      "execution_count": null,
      "outputs": [
        {
          "output_type": "stream",
          "text": [
            "/usr/local/lib/python3.7/dist-packages/ipykernel_launcher.py:1: FutureWarning: Indexing with multiple keys (implicitly converted to a tuple of keys) will be deprecated, use a list instead.\n",
            "  \"\"\"Entry point for launching an IPython kernel.\n"
          ],
          "name": "stderr"
        },
        {
          "output_type": "display_data",
          "data": {
            "image/png": "[encoded data removed]",
            "text/plain": [
              "<Figure size 1080x432 with 2 Axes>"
            ]
          },
          "metadata": {
            "needs_background": "light"
          }
        }
      ]
    },
    {
      "cell_type": "code",
      "metadata": {
        "colab": {
          "base_uri": "https://localhost:8080/",
          "height": 510
        },
        "id": "Lz9zHflZY8X1",
        "outputId": "25476b31-a6a6-4ec7-99d9-13513bfd29c2"
      },
      "source": [
        "timeage.groupby(['date', 'age'])['confirmed', 'deceased'].sum()"
      ],
      "execution_count": null,
      "outputs": [
        {
          "output_type": "stream",
          "text": [
            "/usr/local/lib/python3.7/dist-packages/ipykernel_launcher.py:1: FutureWarning: Indexing with multiple keys (implicitly converted to a tuple of keys) will be deprecated, use a list instead.\n",
            "  \"\"\"Entry point for launching an IPython kernel.\n"
          ],
          "name": "stderr"
        },
        {
          "output_type": "execute_result",
          "data": {
            "text/html": [
              "<div>\n",
              "<style scoped>\n",
              "    .dataframe tbody tr th:only-of-type {\n",
              "        vertical-align: middle;\n",
              "    }\n",
              "\n",
              "    .dataframe tbody tr th {\n",
              "        vertical-align: top;\n",
              "    }\n",
              "\n",
              "    .dataframe thead th {\n",
              "        text-align: right;\n",
              "    }\n",
              "</style>\n",
              "<table border=\"1\" class=\"dataframe\">\n",
              "  <thead>\n",
              "    <tr style=\"text-align: right;\">\n",
              "      <th></th>\n",
              "      <th></th>\n",
              "      <th>confirmed</th>\n",
              "      <th>deceased</th>\n",
              "    </tr>\n",
              "    <tr>\n",
              "      <th>date</th>\n",
              "      <th>age</th>\n",
              "      <th></th>\n",
              "      <th></th>\n",
              "    </tr>\n",
              "  </thead>\n",
              "  <tbody>\n",
              "    <tr>\n",
              "      <th rowspan=\"5\" valign=\"top\">2020-03-02</th>\n",
              "      <th>0s</th>\n",
              "      <td>32</td>\n",
              "      <td>0</td>\n",
              "    </tr>\n",
              "    <tr>\n",
              "      <th>10s</th>\n",
              "      <td>169</td>\n",
              "      <td>0</td>\n",
              "    </tr>\n",
              "    <tr>\n",
              "      <th>20s</th>\n",
              "      <td>1235</td>\n",
              "      <td>0</td>\n",
              "    </tr>\n",
              "    <tr>\n",
              "      <th>30s</th>\n",
              "      <td>506</td>\n",
              "      <td>1</td>\n",
              "    </tr>\n",
              "    <tr>\n",
              "      <th>40s</th>\n",
              "      <td>633</td>\n",
              "      <td>1</td>\n",
              "    </tr>\n",
              "    <tr>\n",
              "      <th>...</th>\n",
              "      <th>...</th>\n",
              "      <td>...</td>\n",
              "      <td>...</td>\n",
              "    </tr>\n",
              "    <tr>\n",
              "      <th rowspan=\"5\" valign=\"top\">2020-04-30</th>\n",
              "      <th>40s</th>\n",
              "      <td>1427</td>\n",
              "      <td>3</td>\n",
              "    </tr>\n",
              "    <tr>\n",
              "      <th>50s</th>\n",
              "      <td>1956</td>\n",
              "      <td>15</td>\n",
              "    </tr>\n",
              "    <tr>\n",
              "      <th>60s</th>\n",
              "      <td>1348</td>\n",
              "      <td>35</td>\n",
              "    </tr>\n",
              "    <tr>\n",
              "      <th>70s</th>\n",
              "      <td>709</td>\n",
              "      <td>74</td>\n",
              "    </tr>\n",
              "    <tr>\n",
              "      <th>80s</th>\n",
              "      <td>485</td>\n",
              "      <td>118</td>\n",
              "    </tr>\n",
              "  </tbody>\n",
              "</table>\n",
              "<p>540 rows × 2 columns</p>\n",
              "</div>"
            ],
            "text/plain": [
              "                confirmed  deceased\n",
              "date       age                     \n",
              "2020-03-02 0s          32         0\n",
              "           10s        169         0\n",
              "           20s       1235         0\n",
              "           30s        506         1\n",
              "           40s        633         1\n",
              "...                   ...       ...\n",
              "2020-04-30 40s       1427         3\n",
              "           50s       1956        15\n",
              "           60s       1348        35\n",
              "           70s        709        74\n",
              "           80s        485       118\n",
              "\n",
              "[540 rows x 2 columns]"
            ]
          },
          "metadata": {},
          "execution_count": 151
        }
      ]
    },
    {
      "cell_type": "markdown",
      "metadata": {
        "id": "cwEkdLnk8moM"
      },
      "source": [
        "- __Observation__\n",
        "  \n",
        "  - 확진자의 연령대를 살펴보면 20대가 가장 많으며 그 뒤로는 50대, 40대, 60대 순이다.\n",
        "  - 사망자는 80대, 70대, 60대 순으로 나이가 많을 수록 사망자가 많은 것으로 보아 일반적인 질병과 마잔가지로 기저질병, 면역력 등과 관계가 있어 보인다.\n",
        "  - __일자별/연령대별 확진자/사망자 추이 시각화__\n",
        "  - __연령별 확진/사망 비중 컬럼 추가__"
      ]
    },
    {
      "cell_type": "markdown",
      "metadata": {
        "id": "er_VKLISGd87"
      },
      "source": [
        "__06. Time Gender (성별 확진/사망자수 추이)__\n",
        "- 2020년 3월 2일부터 4월 30일까지(60일간) 누적 성별 확진자/사망자 수"
      ]
    },
    {
      "cell_type": "code",
      "metadata": {
        "colab": {
          "base_uri": "https://localhost:8080/",
          "height": 224
        },
        "id": "YGPlsCJnGkW7",
        "outputId": "4915f519-d221-455c-c0cf-9eff4655d513"
      },
      "source": [
        "print('Time Province 크기: ', timegender.shape)\n",
        "timegender.head()"
      ],
      "execution_count": null,
      "outputs": [
        {
          "output_type": "stream",
          "text": [
            "Time Province 크기:  (120, 5)\n"
          ],
          "name": "stdout"
        },
        {
          "output_type": "execute_result",
          "data": {
            "text/html": [
              "<div>\n",
              "<style scoped>\n",
              "    .dataframe tbody tr th:only-of-type {\n",
              "        vertical-align: middle;\n",
              "    }\n",
              "\n",
              "    .dataframe tbody tr th {\n",
              "        vertical-align: top;\n",
              "    }\n",
              "\n",
              "    .dataframe thead th {\n",
              "        text-align: right;\n",
              "    }\n",
              "</style>\n",
              "<table border=\"1\" class=\"dataframe\">\n",
              "  <thead>\n",
              "    <tr style=\"text-align: right;\">\n",
              "      <th></th>\n",
              "      <th>date</th>\n",
              "      <th>time</th>\n",
              "      <th>sex</th>\n",
              "      <th>confirmed</th>\n",
              "      <th>deceased</th>\n",
              "    </tr>\n",
              "  </thead>\n",
              "  <tbody>\n",
              "    <tr>\n",
              "      <th>0</th>\n",
              "      <td>2020-03-02</td>\n",
              "      <td>0</td>\n",
              "      <td>male</td>\n",
              "      <td>1591</td>\n",
              "      <td>13</td>\n",
              "    </tr>\n",
              "    <tr>\n",
              "      <th>1</th>\n",
              "      <td>2020-03-02</td>\n",
              "      <td>0</td>\n",
              "      <td>female</td>\n",
              "      <td>2621</td>\n",
              "      <td>9</td>\n",
              "    </tr>\n",
              "    <tr>\n",
              "      <th>2</th>\n",
              "      <td>2020-03-03</td>\n",
              "      <td>0</td>\n",
              "      <td>male</td>\n",
              "      <td>1810</td>\n",
              "      <td>16</td>\n",
              "    </tr>\n",
              "    <tr>\n",
              "      <th>3</th>\n",
              "      <td>2020-03-03</td>\n",
              "      <td>0</td>\n",
              "      <td>female</td>\n",
              "      <td>3002</td>\n",
              "      <td>12</td>\n",
              "    </tr>\n",
              "    <tr>\n",
              "      <th>4</th>\n",
              "      <td>2020-03-04</td>\n",
              "      <td>0</td>\n",
              "      <td>male</td>\n",
              "      <td>1996</td>\n",
              "      <td>20</td>\n",
              "    </tr>\n",
              "  </tbody>\n",
              "</table>\n",
              "</div>"
            ],
            "text/plain": [
              "         date  time     sex  confirmed  deceased\n",
              "0  2020-03-02     0    male       1591        13\n",
              "1  2020-03-02     0  female       2621         9\n",
              "2  2020-03-03     0    male       1810        16\n",
              "3  2020-03-03     0  female       3002        12\n",
              "4  2020-03-04     0    male       1996        20"
            ]
          },
          "metadata": {},
          "execution_count": 152
        }
      ]
    },
    {
      "cell_type": "code",
      "metadata": {
        "colab": {
          "base_uri": "https://localhost:8080/",
          "height": 288
        },
        "id": "qqLRZVgRbGwA",
        "outputId": "c7eeca7c-6664-464b-a07e-2a3cb104b276"
      },
      "source": [
        "f,ax = plt.subplots(1,1, figsize=(20,6))\n",
        "sns.lineplot(x='date', y='confirmed', hue='sex', data=timegender)\n",
        "plt.show()"
      ],
      "execution_count": null,
      "outputs": [
        {
          "output_type": "display_data",
          "data": {
            "image/png": "[encoded data removed]",
            "text/plain": [
              "<Figure size 1440x432 with 1 Axes>"
            ]
          },
          "metadata": {
            "needs_background": "light"
          }
        }
      ]
    },
    {
      "cell_type": "markdown",
      "metadata": {
        "id": "BK5auiJ9cy1q"
      },
      "source": [
        "그래프가 예쁘지 않으므로 주차별로 전처리가 필요해보인다."
      ]
    },
    {
      "cell_type": "markdown",
      "metadata": {
        "id": "d93ENCxiGsuY"
      },
      "source": [
        "- __Observation__\n",
        "  -  정보이다."
      ]
    },
    {
      "cell_type": "markdown",
      "metadata": {
        "id": "xuh7lkEo9G31"
      },
      "source": [
        "__07. Time Province (지역별 확진/퇴원/사망자수 추이)__\n",
        "- 2020년 1월 20일부터 4월 30일까지의 지역별 누적 확진/퇴원/사망자 수"
      ]
    },
    {
      "cell_type": "code",
      "metadata": {
        "colab": {
          "base_uri": "https://localhost:8080/",
          "height": 224
        },
        "id": "Gx5jQr49MlMU",
        "outputId": "eb0c8a45-0127-41a4-b7a0-f25c03e9ff29"
      },
      "source": [
        "print('Time Province 크기: ', timeprovince.shape)\n",
        "timeprovince.head()"
      ],
      "execution_count": null,
      "outputs": [
        {
          "output_type": "stream",
          "text": [
            "Time Province 크기:  (1734, 6)\n"
          ],
          "name": "stdout"
        },
        {
          "output_type": "execute_result",
          "data": {
            "text/html": [
              "<div>\n",
              "<style scoped>\n",
              "    .dataframe tbody tr th:only-of-type {\n",
              "        vertical-align: middle;\n",
              "    }\n",
              "\n",
              "    .dataframe tbody tr th {\n",
              "        vertical-align: top;\n",
              "    }\n",
              "\n",
              "    .dataframe thead th {\n",
              "        text-align: right;\n",
              "    }\n",
              "</style>\n",
              "<table border=\"1\" class=\"dataframe\">\n",
              "  <thead>\n",
              "    <tr style=\"text-align: right;\">\n",
              "      <th></th>\n",
              "      <th>date</th>\n",
              "      <th>time</th>\n",
              "      <th>province</th>\n",
              "      <th>confirmed</th>\n",
              "      <th>released</th>\n",
              "      <th>deceased</th>\n",
              "    </tr>\n",
              "  </thead>\n",
              "  <tbody>\n",
              "    <tr>\n",
              "      <th>0</th>\n",
              "      <td>2020-01-20</td>\n",
              "      <td>16</td>\n",
              "      <td>Seoul</td>\n",
              "      <td>0</td>\n",
              "      <td>0</td>\n",
              "      <td>0</td>\n",
              "    </tr>\n",
              "    <tr>\n",
              "      <th>1</th>\n",
              "      <td>2020-01-20</td>\n",
              "      <td>16</td>\n",
              "      <td>Busan</td>\n",
              "      <td>0</td>\n",
              "      <td>0</td>\n",
              "      <td>0</td>\n",
              "    </tr>\n",
              "    <tr>\n",
              "      <th>2</th>\n",
              "      <td>2020-01-20</td>\n",
              "      <td>16</td>\n",
              "      <td>Daegu</td>\n",
              "      <td>0</td>\n",
              "      <td>0</td>\n",
              "      <td>0</td>\n",
              "    </tr>\n",
              "    <tr>\n",
              "      <th>3</th>\n",
              "      <td>2020-01-20</td>\n",
              "      <td>16</td>\n",
              "      <td>Incheon</td>\n",
              "      <td>1</td>\n",
              "      <td>0</td>\n",
              "      <td>0</td>\n",
              "    </tr>\n",
              "    <tr>\n",
              "      <th>4</th>\n",
              "      <td>2020-01-20</td>\n",
              "      <td>16</td>\n",
              "      <td>Gwangju</td>\n",
              "      <td>0</td>\n",
              "      <td>0</td>\n",
              "      <td>0</td>\n",
              "    </tr>\n",
              "  </tbody>\n",
              "</table>\n",
              "</div>"
            ],
            "text/plain": [
              "         date  time province  confirmed  released  deceased\n",
              "0  2020-01-20    16    Seoul          0         0         0\n",
              "1  2020-01-20    16    Busan          0         0         0\n",
              "2  2020-01-20    16    Daegu          0         0         0\n",
              "3  2020-01-20    16  Incheon          1         0         0\n",
              "4  2020-01-20    16  Gwangju          0         0         0"
            ]
          },
          "metadata": {},
          "execution_count": 154
        }
      ]
    },
    {
      "cell_type": "code",
      "metadata": {
        "colab": {
          "base_uri": "https://localhost:8080/",
          "height": 205
        },
        "id": "RiVTgca0guhG",
        "outputId": "74eff7db-707e-461b-9a20-7c6e4f2d4d0e"
      },
      "source": [
        "timeprovince.tail()"
      ],
      "execution_count": null,
      "outputs": [
        {
          "output_type": "execute_result",
          "data": {
            "text/html": [
              "<div>\n",
              "<style scoped>\n",
              "    .dataframe tbody tr th:only-of-type {\n",
              "        vertical-align: middle;\n",
              "    }\n",
              "\n",
              "    .dataframe tbody tr th {\n",
              "        vertical-align: top;\n",
              "    }\n",
              "\n",
              "    .dataframe thead th {\n",
              "        text-align: right;\n",
              "    }\n",
              "</style>\n",
              "<table border=\"1\" class=\"dataframe\">\n",
              "  <thead>\n",
              "    <tr style=\"text-align: right;\">\n",
              "      <th></th>\n",
              "      <th>date</th>\n",
              "      <th>time</th>\n",
              "      <th>province</th>\n",
              "      <th>confirmed</th>\n",
              "      <th>released</th>\n",
              "      <th>deceased</th>\n",
              "    </tr>\n",
              "  </thead>\n",
              "  <tbody>\n",
              "    <tr>\n",
              "      <th>1729</th>\n",
              "      <td>2020-04-30</td>\n",
              "      <td>0</td>\n",
              "      <td>Jeollabuk-do</td>\n",
              "      <td>18</td>\n",
              "      <td>11</td>\n",
              "      <td>0</td>\n",
              "    </tr>\n",
              "    <tr>\n",
              "      <th>1730</th>\n",
              "      <td>2020-04-30</td>\n",
              "      <td>0</td>\n",
              "      <td>Jeollanam-do</td>\n",
              "      <td>15</td>\n",
              "      <td>11</td>\n",
              "      <td>0</td>\n",
              "    </tr>\n",
              "    <tr>\n",
              "      <th>1731</th>\n",
              "      <td>2020-04-30</td>\n",
              "      <td>0</td>\n",
              "      <td>Gyeongsangbuk-do</td>\n",
              "      <td>1365</td>\n",
              "      <td>1147</td>\n",
              "      <td>52</td>\n",
              "    </tr>\n",
              "    <tr>\n",
              "      <th>1732</th>\n",
              "      <td>2020-04-30</td>\n",
              "      <td>0</td>\n",
              "      <td>Gyeongsangnam-do</td>\n",
              "      <td>117</td>\n",
              "      <td>97</td>\n",
              "      <td>0</td>\n",
              "    </tr>\n",
              "    <tr>\n",
              "      <th>1733</th>\n",
              "      <td>2020-04-30</td>\n",
              "      <td>0</td>\n",
              "      <td>Jeju-do</td>\n",
              "      <td>13</td>\n",
              "      <td>8</td>\n",
              "      <td>0</td>\n",
              "    </tr>\n",
              "  </tbody>\n",
              "</table>\n",
              "</div>"
            ],
            "text/plain": [
              "            date  time          province  confirmed  released  deceased\n",
              "1729  2020-04-30     0      Jeollabuk-do         18        11         0\n",
              "1730  2020-04-30     0      Jeollanam-do         15        11         0\n",
              "1731  2020-04-30     0  Gyeongsangbuk-do       1365      1147        52\n",
              "1732  2020-04-30     0  Gyeongsangnam-do        117        97         0\n",
              "1733  2020-04-30     0           Jeju-do         13         8         0"
            ]
          },
          "metadata": {},
          "execution_count": 208
        }
      ]
    },
    {
      "cell_type": "code",
      "metadata": {
        "colab": {
          "base_uri": "https://localhost:8080/"
        },
        "id": "0isPKM2vdLu_",
        "outputId": "b3d82f62-309f-43c3-fa45-22b882d58da2"
      },
      "source": [
        "print('지역 개수:', timeprovince['province'].nunique())\n",
        "timeprovince['province'].unique()"
      ],
      "execution_count": null,
      "outputs": [
        {
          "output_type": "stream",
          "text": [
            "지역 개수: 17\n"
          ],
          "name": "stdout"
        },
        {
          "output_type": "execute_result",
          "data": {
            "text/plain": [
              "array(['Seoul', 'Busan', 'Daegu', 'Incheon', 'Gwangju', 'Daejeon',\n",
              "       'Ulsan', 'Sejong', 'Gyeonggi-do', 'Gangwon-do',\n",
              "       'Chungcheongbuk-do', 'Chungcheongnam-do', 'Jeollabuk-do',\n",
              "       'Jeollanam-do', 'Gyeongsangbuk-do', 'Gyeongsangnam-do', 'Jeju-do'],\n",
              "      dtype=object)"
            ]
          },
          "metadata": {},
          "execution_count": 191
        }
      ]
    },
    {
      "cell_type": "code",
      "metadata": {
        "colab": {
          "base_uri": "https://localhost:8080/",
          "height": 286
        },
        "id": "P-nJie0Rg_BO",
        "outputId": "c5a53174-c46b-4fdf-ac77-b5afcdcc1bb8"
      },
      "source": [
        "# 지역별 누적 확진자 수\n",
        "fig = plt.gcf()\n",
        "fig.set_size_inches(15,3)\n",
        "province_confirmed1 = sns.barplot(x='province', y='confirmed', data=timeprovince)\n",
        "province_confirmed1.set_xticklabels(province_confirmed1.get_xticklabels(), rotation=45)\n",
        "\n",
        "plt.show()"
      ],
      "execution_count": null,
      "outputs": [
        {
          "output_type": "display_data",
          "data": {
            "image/png": "[encoded data removed]",
            "text/plain": [
              "<Figure size 1080x216 with 1 Axes>"
            ]
          },
          "metadata": {
            "needs_background": "light"
          }
        }
      ]
    },
    {
      "cell_type": "code",
      "metadata": {
        "colab": {
          "base_uri": "https://localhost:8080/",
          "height": 286
        },
        "id": "0vBplmMoiOUy",
        "outputId": "4473fec0-22d0-47dd-c0ae-e5cbece10643"
      },
      "source": [
        "# 지역별 누적 퇴원자 수\n",
        "fig = plt.gcf()\n",
        "fig.set_size_inches(15,3)\n",
        "province_confirmed = sns.barplot(x='province', y='released', data=timeprovince)\n",
        "province_confirmed.set_xticklabels(province_confirmed.get_xticklabels(), rotation=45)\n",
        "plt.show()"
      ],
      "execution_count": null,
      "outputs": [
        {
          "output_type": "display_data",
          "data": {
            "image/png": "[encoded data removed]",
            "text/plain": [
              "<Figure size 1080x216 with 1 Axes>"
            ]
          },
          "metadata": {
            "needs_background": "light"
          }
        }
      ]
    },
    {
      "cell_type": "code",
      "metadata": {
        "colab": {
          "base_uri": "https://localhost:8080/",
          "height": 290
        },
        "id": "n4p4O8m4iPV8",
        "outputId": "3d52ab02-39d2-4559-8c4b-a840ab886b37"
      },
      "source": [
        "# 지역별 누적 사망자 수\n",
        "fig = plt.gcf()\n",
        "fig.set_size_inches(15,3)\n",
        "province_confirmed = sns.barplot(x='province', y='deceased', data=timeprovince)\n",
        "province_confirmed.set_xticklabels(province_confirmed.get_xticklabels(), rotation=45)\n",
        "plt.show()"
      ],
      "execution_count": null,
      "outputs": [
        {
          "output_type": "display_data",
          "data": {
            "image/png": "[encoded data removed]",
            "text/plain": [
              "<Figure size 1080x216 with 1 Axes>"
            ]
          },
          "metadata": {
            "needs_background": "light"
          }
        }
      ]
    },
    {
      "cell_type": "markdown",
      "metadata": {
        "id": "F45kgNOu-OYG"
      },
      "source": [
        "- __Obeservation__\n",
        "  - 해당 기간(코로나 1차 대유행) 대규모 집단 감염이 대구/경북 지역을 중심으로 이뤄졌음을 알 수 있다.\n",
        "  - 지역별/일자별 확진자수 시각화"
      ]
    },
    {
      "cell_type": "markdown",
      "metadata": {
        "id": "NHgTPJF--2pM"
      },
      "source": [
        "__08. Region (지역정보)__\n",
        "- 지역별 초등학교, 유치원, 대학교, 요양기관 숫자 현황\n",
        "- 지역별 학원, 노인인구, 독거노인 비율 "
      ]
    },
    {
      "cell_type": "code",
      "metadata": {
        "colab": {
          "base_uri": "https://localhost:8080/",
          "height": 615
        },
        "id": "7kNR79S8MtJ9",
        "outputId": "fd485469-591b-4413-e8eb-d337d311d6b2"
      },
      "source": [
        "print('Region 크기: ', region.shape)\n",
        "region.head(100)"
      ],
      "execution_count": null,
      "outputs": [
        {
          "output_type": "stream",
          "text": [
            "Region 크기:  (244, 12)\n"
          ],
          "name": "stdout"
        },
        {
          "output_type": "execute_result",
          "data": {
            "text/html": [
              "<div>\n",
              "<style scoped>\n",
              "    .dataframe tbody tr th:only-of-type {\n",
              "        vertical-align: middle;\n",
              "    }\n",
              "\n",
              "    .dataframe tbody tr th {\n",
              "        vertical-align: top;\n",
              "    }\n",
              "\n",
              "    .dataframe thead th {\n",
              "        text-align: right;\n",
              "    }\n",
              "</style>\n",
              "<table border=\"1\" class=\"dataframe\">\n",
              "  <thead>\n",
              "    <tr style=\"text-align: right;\">\n",
              "      <th></th>\n",
              "      <th>code</th>\n",
              "      <th>province</th>\n",
              "      <th>city</th>\n",
              "      <th>latitude</th>\n",
              "      <th>longitude</th>\n",
              "      <th>elementary_school_count</th>\n",
              "      <th>kindergarten_count</th>\n",
              "      <th>university_count</th>\n",
              "      <th>academy_ratio</th>\n",
              "      <th>elderly_population_ratio</th>\n",
              "      <th>elderly_alone_ratio</th>\n",
              "      <th>nursing_home_count</th>\n",
              "    </tr>\n",
              "  </thead>\n",
              "  <tbody>\n",
              "    <tr>\n",
              "      <th>0</th>\n",
              "      <td>10000</td>\n",
              "      <td>Seoul</td>\n",
              "      <td>Seoul</td>\n",
              "      <td>37.566953</td>\n",
              "      <td>126.977977</td>\n",
              "      <td>607</td>\n",
              "      <td>830</td>\n",
              "      <td>48</td>\n",
              "      <td>1.44</td>\n",
              "      <td>15.38</td>\n",
              "      <td>5.8</td>\n",
              "      <td>22739</td>\n",
              "    </tr>\n",
              "    <tr>\n",
              "      <th>1</th>\n",
              "      <td>10010</td>\n",
              "      <td>Seoul</td>\n",
              "      <td>Gangnam-gu</td>\n",
              "      <td>37.518421</td>\n",
              "      <td>127.047222</td>\n",
              "      <td>33</td>\n",
              "      <td>38</td>\n",
              "      <td>0</td>\n",
              "      <td>4.18</td>\n",
              "      <td>13.17</td>\n",
              "      <td>4.3</td>\n",
              "      <td>3088</td>\n",
              "    </tr>\n",
              "    <tr>\n",
              "      <th>2</th>\n",
              "      <td>10020</td>\n",
              "      <td>Seoul</td>\n",
              "      <td>Gangdong-gu</td>\n",
              "      <td>37.530492</td>\n",
              "      <td>127.123837</td>\n",
              "      <td>27</td>\n",
              "      <td>32</td>\n",
              "      <td>0</td>\n",
              "      <td>1.54</td>\n",
              "      <td>14.55</td>\n",
              "      <td>5.4</td>\n",
              "      <td>1023</td>\n",
              "    </tr>\n",
              "    <tr>\n",
              "      <th>3</th>\n",
              "      <td>10030</td>\n",
              "      <td>Seoul</td>\n",
              "      <td>Gangbuk-gu</td>\n",
              "      <td>37.639938</td>\n",
              "      <td>127.025508</td>\n",
              "      <td>14</td>\n",
              "      <td>21</td>\n",
              "      <td>0</td>\n",
              "      <td>0.67</td>\n",
              "      <td>19.49</td>\n",
              "      <td>8.5</td>\n",
              "      <td>628</td>\n",
              "    </tr>\n",
              "    <tr>\n",
              "      <th>4</th>\n",
              "      <td>10040</td>\n",
              "      <td>Seoul</td>\n",
              "      <td>Gangseo-gu</td>\n",
              "      <td>37.551166</td>\n",
              "      <td>126.849506</td>\n",
              "      <td>36</td>\n",
              "      <td>56</td>\n",
              "      <td>1</td>\n",
              "      <td>1.17</td>\n",
              "      <td>14.39</td>\n",
              "      <td>5.7</td>\n",
              "      <td>1080</td>\n",
              "    </tr>\n",
              "    <tr>\n",
              "      <th>...</th>\n",
              "      <td>...</td>\n",
              "      <td>...</td>\n",
              "      <td>...</td>\n",
              "      <td>...</td>\n",
              "      <td>...</td>\n",
              "      <td>...</td>\n",
              "      <td>...</td>\n",
              "      <td>...</td>\n",
              "      <td>...</td>\n",
              "      <td>...</td>\n",
              "      <td>...</td>\n",
              "      <td>...</td>\n",
              "    </tr>\n",
              "    <tr>\n",
              "      <th>95</th>\n",
              "      <td>20130</td>\n",
              "      <td>Gyeonggi-do</td>\n",
              "      <td>Suwon-si</td>\n",
              "      <td>37.263376</td>\n",
              "      <td>127.028613</td>\n",
              "      <td>99</td>\n",
              "      <td>192</td>\n",
              "      <td>4</td>\n",
              "      <td>1.72</td>\n",
              "      <td>10.50</td>\n",
              "      <td>4.5</td>\n",
              "      <td>2082</td>\n",
              "    </tr>\n",
              "    <tr>\n",
              "      <th>96</th>\n",
              "      <td>20140</td>\n",
              "      <td>Gyeonggi-do</td>\n",
              "      <td>Siheung-si</td>\n",
              "      <td>37.380110</td>\n",
              "      <td>126.803009</td>\n",
              "      <td>46</td>\n",
              "      <td>74</td>\n",
              "      <td>2</td>\n",
              "      <td>1.55</td>\n",
              "      <td>8.86</td>\n",
              "      <td>3.8</td>\n",
              "      <td>622</td>\n",
              "    </tr>\n",
              "    <tr>\n",
              "      <th>97</th>\n",
              "      <td>20150</td>\n",
              "      <td>Gyeonggi-do</td>\n",
              "      <td>Ansan-si</td>\n",
              "      <td>37.321863</td>\n",
              "      <td>126.830920</td>\n",
              "      <td>54</td>\n",
              "      <td>94</td>\n",
              "      <td>4</td>\n",
              "      <td>1.49</td>\n",
              "      <td>10.35</td>\n",
              "      <td>4.6</td>\n",
              "      <td>1024</td>\n",
              "    </tr>\n",
              "    <tr>\n",
              "      <th>98</th>\n",
              "      <td>20160</td>\n",
              "      <td>Gyeonggi-do</td>\n",
              "      <td>Anseong-si</td>\n",
              "      <td>37.008008</td>\n",
              "      <td>127.279763</td>\n",
              "      <td>35</td>\n",
              "      <td>51</td>\n",
              "      <td>3</td>\n",
              "      <td>1.27</td>\n",
              "      <td>16.95</td>\n",
              "      <td>7.2</td>\n",
              "      <td>271</td>\n",
              "    </tr>\n",
              "    <tr>\n",
              "      <th>99</th>\n",
              "      <td>20170</td>\n",
              "      <td>Gyeonggi-do</td>\n",
              "      <td>Anyang-si</td>\n",
              "      <td>37.394258</td>\n",
              "      <td>126.956752</td>\n",
              "      <td>41</td>\n",
              "      <td>79</td>\n",
              "      <td>4</td>\n",
              "      <td>1.86</td>\n",
              "      <td>12.88</td>\n",
              "      <td>5.1</td>\n",
              "      <td>1099</td>\n",
              "    </tr>\n",
              "  </tbody>\n",
              "</table>\n",
              "<p>100 rows × 12 columns</p>\n",
              "</div>"
            ],
            "text/plain": [
              "     code     province  ... elderly_alone_ratio  nursing_home_count\n",
              "0   10000        Seoul  ...                 5.8               22739\n",
              "1   10010        Seoul  ...                 4.3                3088\n",
              "2   10020        Seoul  ...                 5.4                1023\n",
              "3   10030        Seoul  ...                 8.5                 628\n",
              "4   10040        Seoul  ...                 5.7                1080\n",
              "..    ...          ...  ...                 ...                 ...\n",
              "95  20130  Gyeonggi-do  ...                 4.5                2082\n",
              "96  20140  Gyeonggi-do  ...                 3.8                 622\n",
              "97  20150  Gyeonggi-do  ...                 4.6                1024\n",
              "98  20160  Gyeonggi-do  ...                 7.2                 271\n",
              "99  20170  Gyeonggi-do  ...                 5.1                1099\n",
              "\n",
              "[100 rows x 12 columns]"
            ]
          },
          "metadata": {},
          "execution_count": 157
        }
      ]
    },
    {
      "cell_type": "code",
      "metadata": {
        "colab": {
          "base_uri": "https://localhost:8080/",
          "height": 319
        },
        "id": "G5QIhDN0_WDm",
        "outputId": "fccf9785-6ce6-41a8-b330-26058f08008b"
      },
      "source": [
        "region.describe()"
      ],
      "execution_count": null,
      "outputs": [
        {
          "output_type": "execute_result",
          "data": {
            "text/html": [
              "<div>\n",
              "<style scoped>\n",
              "    .dataframe tbody tr th:only-of-type {\n",
              "        vertical-align: middle;\n",
              "    }\n",
              "\n",
              "    .dataframe tbody tr th {\n",
              "        vertical-align: top;\n",
              "    }\n",
              "\n",
              "    .dataframe thead th {\n",
              "        text-align: right;\n",
              "    }\n",
              "</style>\n",
              "<table border=\"1\" class=\"dataframe\">\n",
              "  <thead>\n",
              "    <tr style=\"text-align: right;\">\n",
              "      <th></th>\n",
              "      <th>code</th>\n",
              "      <th>latitude</th>\n",
              "      <th>longitude</th>\n",
              "      <th>elementary_school_count</th>\n",
              "      <th>kindergarten_count</th>\n",
              "      <th>university_count</th>\n",
              "      <th>academy_ratio</th>\n",
              "      <th>elderly_population_ratio</th>\n",
              "      <th>elderly_alone_ratio</th>\n",
              "      <th>nursing_home_count</th>\n",
              "    </tr>\n",
              "  </thead>\n",
              "  <tbody>\n",
              "    <tr>\n",
              "      <th>count</th>\n",
              "      <td>244.000000</td>\n",
              "      <td>244.000000</td>\n",
              "      <td>244.000000</td>\n",
              "      <td>244.000000</td>\n",
              "      <td>244.000000</td>\n",
              "      <td>244.000000</td>\n",
              "      <td>244.000000</td>\n",
              "      <td>244.000000</td>\n",
              "      <td>244.000000</td>\n",
              "      <td>244.000000</td>\n",
              "    </tr>\n",
              "    <tr>\n",
              "      <th>mean</th>\n",
              "      <td>32912.090164</td>\n",
              "      <td>36.396996</td>\n",
              "      <td>127.661401</td>\n",
              "      <td>74.180328</td>\n",
              "      <td>107.901639</td>\n",
              "      <td>4.151639</td>\n",
              "      <td>1.294754</td>\n",
              "      <td>20.923730</td>\n",
              "      <td>10.644672</td>\n",
              "      <td>1159.258197</td>\n",
              "    </tr>\n",
              "    <tr>\n",
              "      <th>std</th>\n",
              "      <td>19373.349736</td>\n",
              "      <td>1.060304</td>\n",
              "      <td>0.904781</td>\n",
              "      <td>402.713482</td>\n",
              "      <td>588.788320</td>\n",
              "      <td>22.513041</td>\n",
              "      <td>0.592898</td>\n",
              "      <td>8.087428</td>\n",
              "      <td>5.604886</td>\n",
              "      <td>6384.185085</td>\n",
              "    </tr>\n",
              "    <tr>\n",
              "      <th>min</th>\n",
              "      <td>10000.000000</td>\n",
              "      <td>33.488936</td>\n",
              "      <td>126.263554</td>\n",
              "      <td>4.000000</td>\n",
              "      <td>4.000000</td>\n",
              "      <td>0.000000</td>\n",
              "      <td>0.190000</td>\n",
              "      <td>7.690000</td>\n",
              "      <td>3.300000</td>\n",
              "      <td>11.000000</td>\n",
              "    </tr>\n",
              "    <tr>\n",
              "      <th>25%</th>\n",
              "      <td>14027.500000</td>\n",
              "      <td>35.405263</td>\n",
              "      <td>126.927663</td>\n",
              "      <td>14.750000</td>\n",
              "      <td>16.000000</td>\n",
              "      <td>0.000000</td>\n",
              "      <td>0.870000</td>\n",
              "      <td>14.117500</td>\n",
              "      <td>6.100000</td>\n",
              "      <td>111.000000</td>\n",
              "    </tr>\n",
              "    <tr>\n",
              "      <th>50%</th>\n",
              "      <td>30075.000000</td>\n",
              "      <td>36.386601</td>\n",
              "      <td>127.384250</td>\n",
              "      <td>22.000000</td>\n",
              "      <td>31.000000</td>\n",
              "      <td>1.000000</td>\n",
              "      <td>1.270000</td>\n",
              "      <td>18.530000</td>\n",
              "      <td>8.750000</td>\n",
              "      <td>300.000000</td>\n",
              "    </tr>\n",
              "    <tr>\n",
              "      <th>75%</th>\n",
              "      <td>51062.500000</td>\n",
              "      <td>37.466119</td>\n",
              "      <td>128.473953</td>\n",
              "      <td>36.250000</td>\n",
              "      <td>55.250000</td>\n",
              "      <td>3.000000</td>\n",
              "      <td>1.612500</td>\n",
              "      <td>27.262500</td>\n",
              "      <td>14.625000</td>\n",
              "      <td>694.500000</td>\n",
              "    </tr>\n",
              "    <tr>\n",
              "      <th>max</th>\n",
              "      <td>80000.000000</td>\n",
              "      <td>38.380571</td>\n",
              "      <td>130.905883</td>\n",
              "      <td>6087.000000</td>\n",
              "      <td>8837.000000</td>\n",
              "      <td>340.000000</td>\n",
              "      <td>4.180000</td>\n",
              "      <td>40.260000</td>\n",
              "      <td>24.700000</td>\n",
              "      <td>94865.000000</td>\n",
              "    </tr>\n",
              "  </tbody>\n",
              "</table>\n",
              "</div>"
            ],
            "text/plain": [
              "               code    latitude  ...  elderly_alone_ratio  nursing_home_count\n",
              "count    244.000000  244.000000  ...           244.000000          244.000000\n",
              "mean   32912.090164   36.396996  ...            10.644672         1159.258197\n",
              "std    19373.349736    1.060304  ...             5.604886         6384.185085\n",
              "min    10000.000000   33.488936  ...             3.300000           11.000000\n",
              "25%    14027.500000   35.405263  ...             6.100000          111.000000\n",
              "50%    30075.000000   36.386601  ...             8.750000          300.000000\n",
              "75%    51062.500000   37.466119  ...            14.625000          694.500000\n",
              "max    80000.000000   38.380571  ...            24.700000        94865.000000\n",
              "\n",
              "[8 rows x 10 columns]"
            ]
          },
          "metadata": {},
          "execution_count": 158
        }
      ]
    },
    {
      "cell_type": "code",
      "metadata": {
        "colab": {
          "base_uri": "https://localhost:8080/",
          "height": 699
        },
        "id": "40qKEJRX_nON",
        "outputId": "19557124-774e-4cec-95be-78334c50a56d"
      },
      "source": [
        "region.groupby(['province'])['elementary_school_count', 'kindergarten_count', 'university_count', 'nursing_home_count'].sum().sort_values(by='elementary_school_count', ascending=False)"
      ],
      "execution_count": null,
      "outputs": [
        {
          "output_type": "stream",
          "text": [
            "/usr/local/lib/python3.7/dist-packages/ipykernel_launcher.py:1: FutureWarning: Indexing with multiple keys (implicitly converted to a tuple of keys) will be deprecated, use a list instead.\n",
            "  \"\"\"Entry point for launching an IPython kernel.\n"
          ],
          "name": "stderr"
        },
        {
          "output_type": "execute_result",
          "data": {
            "text/html": [
              "<div>\n",
              "<style scoped>\n",
              "    .dataframe tbody tr th:only-of-type {\n",
              "        vertical-align: middle;\n",
              "    }\n",
              "\n",
              "    .dataframe tbody tr th {\n",
              "        vertical-align: top;\n",
              "    }\n",
              "\n",
              "    .dataframe thead th {\n",
              "        text-align: right;\n",
              "    }\n",
              "</style>\n",
              "<table border=\"1\" class=\"dataframe\">\n",
              "  <thead>\n",
              "    <tr style=\"text-align: right;\">\n",
              "      <th></th>\n",
              "      <th>elementary_school_count</th>\n",
              "      <th>kindergarten_count</th>\n",
              "      <th>university_count</th>\n",
              "      <th>nursing_home_count</th>\n",
              "    </tr>\n",
              "    <tr>\n",
              "      <th>province</th>\n",
              "      <th></th>\n",
              "      <th></th>\n",
              "      <th></th>\n",
              "      <th></th>\n",
              "    </tr>\n",
              "  </thead>\n",
              "  <tbody>\n",
              "    <tr>\n",
              "      <th>Korea</th>\n",
              "      <td>6087</td>\n",
              "      <td>8837</td>\n",
              "      <td>340</td>\n",
              "      <td>94865</td>\n",
              "    </tr>\n",
              "    <tr>\n",
              "      <th>Gyeonggi-do</th>\n",
              "      <td>2554</td>\n",
              "      <td>4474</td>\n",
              "      <td>122</td>\n",
              "      <td>40982</td>\n",
              "    </tr>\n",
              "    <tr>\n",
              "      <th>Seoul</th>\n",
              "      <td>1214</td>\n",
              "      <td>1660</td>\n",
              "      <td>96</td>\n",
              "      <td>45478</td>\n",
              "    </tr>\n",
              "    <tr>\n",
              "      <th>Gyeongsangnam-do</th>\n",
              "      <td>1002</td>\n",
              "      <td>1372</td>\n",
              "      <td>42</td>\n",
              "      <td>10728</td>\n",
              "    </tr>\n",
              "    <tr>\n",
              "      <th>Gyeongsangbuk-do</th>\n",
              "      <td>942</td>\n",
              "      <td>1414</td>\n",
              "      <td>66</td>\n",
              "      <td>8948</td>\n",
              "    </tr>\n",
              "    <tr>\n",
              "      <th>Jeollanam-do</th>\n",
              "      <td>858</td>\n",
              "      <td>1084</td>\n",
              "      <td>38</td>\n",
              "      <td>6778</td>\n",
              "    </tr>\n",
              "    <tr>\n",
              "      <th>Jeollabuk-do</th>\n",
              "      <td>838</td>\n",
              "      <td>1038</td>\n",
              "      <td>38</td>\n",
              "      <td>7548</td>\n",
              "    </tr>\n",
              "    <tr>\n",
              "      <th>Chungcheongnam-do</th>\n",
              "      <td>818</td>\n",
              "      <td>998</td>\n",
              "      <td>42</td>\n",
              "      <td>7282</td>\n",
              "    </tr>\n",
              "    <tr>\n",
              "      <th>Gangwon-do</th>\n",
              "      <td>698</td>\n",
              "      <td>736</td>\n",
              "      <td>36</td>\n",
              "      <td>5038</td>\n",
              "    </tr>\n",
              "    <tr>\n",
              "      <th>Busan</th>\n",
              "      <td>608</td>\n",
              "      <td>816</td>\n",
              "      <td>44</td>\n",
              "      <td>13504</td>\n",
              "    </tr>\n",
              "    <tr>\n",
              "      <th>Chungcheongbuk-do</th>\n",
              "      <td>518</td>\n",
              "      <td>656</td>\n",
              "      <td>34</td>\n",
              "      <td>5538</td>\n",
              "    </tr>\n",
              "    <tr>\n",
              "      <th>Incheon</th>\n",
              "      <td>500</td>\n",
              "      <td>806</td>\n",
              "      <td>14</td>\n",
              "      <td>8994</td>\n",
              "    </tr>\n",
              "    <tr>\n",
              "      <th>Daegu</th>\n",
              "      <td>458</td>\n",
              "      <td>710</td>\n",
              "      <td>22</td>\n",
              "      <td>10166</td>\n",
              "    </tr>\n",
              "    <tr>\n",
              "      <th>Gwangju</th>\n",
              "      <td>310</td>\n",
              "      <td>624</td>\n",
              "      <td>34</td>\n",
              "      <td>5704</td>\n",
              "    </tr>\n",
              "    <tr>\n",
              "      <th>Daejeon</th>\n",
              "      <td>296</td>\n",
              "      <td>520</td>\n",
              "      <td>30</td>\n",
              "      <td>5968</td>\n",
              "    </tr>\n",
              "    <tr>\n",
              "      <th>Ulsan</th>\n",
              "      <td>238</td>\n",
              "      <td>400</td>\n",
              "      <td>8</td>\n",
              "      <td>3602</td>\n",
              "    </tr>\n",
              "    <tr>\n",
              "      <th>Jeju-do</th>\n",
              "      <td>113</td>\n",
              "      <td>123</td>\n",
              "      <td>4</td>\n",
              "      <td>1245</td>\n",
              "    </tr>\n",
              "    <tr>\n",
              "      <th>Sejong</th>\n",
              "      <td>48</td>\n",
              "      <td>60</td>\n",
              "      <td>3</td>\n",
              "      <td>491</td>\n",
              "    </tr>\n",
              "  </tbody>\n",
              "</table>\n",
              "</div>"
            ],
            "text/plain": [
              "                   elementary_school_count  ...  nursing_home_count\n",
              "province                                    ...                    \n",
              "Korea                                 6087  ...               94865\n",
              "Gyeonggi-do                           2554  ...               40982\n",
              "Seoul                                 1214  ...               45478\n",
              "Gyeongsangnam-do                      1002  ...               10728\n",
              "Gyeongsangbuk-do                       942  ...                8948\n",
              "Jeollanam-do                           858  ...                6778\n",
              "Jeollabuk-do                           838  ...                7548\n",
              "Chungcheongnam-do                      818  ...                7282\n",
              "Gangwon-do                             698  ...                5038\n",
              "Busan                                  608  ...               13504\n",
              "Chungcheongbuk-do                      518  ...                5538\n",
              "Incheon                                500  ...                8994\n",
              "Daegu                                  458  ...               10166\n",
              "Gwangju                                310  ...                5704\n",
              "Daejeon                                296  ...                5968\n",
              "Ulsan                                  238  ...                3602\n",
              "Jeju-do                                113  ...                1245\n",
              "Sejong                                  48  ...                 491\n",
              "\n",
              "[18 rows x 4 columns]"
            ]
          },
          "metadata": {},
          "execution_count": 159
        }
      ]
    },
    {
      "cell_type": "code",
      "metadata": {
        "colab": {
          "base_uri": "https://localhost:8080/",
          "height": 699
        },
        "id": "trXle-7AA5jW",
        "outputId": "96df3da4-dc3d-46eb-837b-eeae17616ae4"
      },
      "source": [
        "region.groupby(['province'])['academy_ratio', 'elderly_population_ratio', 'elderly_alone_ratio'].mean()"
      ],
      "execution_count": null,
      "outputs": [
        {
          "output_type": "stream",
          "text": [
            "/usr/local/lib/python3.7/dist-packages/ipykernel_launcher.py:1: FutureWarning: Indexing with multiple keys (implicitly converted to a tuple of keys) will be deprecated, use a list instead.\n",
            "  \"\"\"Entry point for launching an IPython kernel.\n"
          ],
          "name": "stderr"
        },
        {
          "output_type": "execute_result",
          "data": {
            "text/html": [
              "<div>\n",
              "<style scoped>\n",
              "    .dataframe tbody tr th:only-of-type {\n",
              "        vertical-align: middle;\n",
              "    }\n",
              "\n",
              "    .dataframe tbody tr th {\n",
              "        vertical-align: top;\n",
              "    }\n",
              "\n",
              "    .dataframe thead th {\n",
              "        text-align: right;\n",
              "    }\n",
              "</style>\n",
              "<table border=\"1\" class=\"dataframe\">\n",
              "  <thead>\n",
              "    <tr style=\"text-align: right;\">\n",
              "      <th></th>\n",
              "      <th>academy_ratio</th>\n",
              "      <th>elderly_population_ratio</th>\n",
              "      <th>elderly_alone_ratio</th>\n",
              "    </tr>\n",
              "    <tr>\n",
              "      <th>province</th>\n",
              "      <th></th>\n",
              "      <th></th>\n",
              "      <th></th>\n",
              "    </tr>\n",
              "  </thead>\n",
              "  <tbody>\n",
              "    <tr>\n",
              "      <th>Busan</th>\n",
              "      <td>1.327647</td>\n",
              "      <td>19.357647</td>\n",
              "      <td>9.094118</td>\n",
              "    </tr>\n",
              "    <tr>\n",
              "      <th>Chungcheongbuk-do</th>\n",
              "      <td>1.023333</td>\n",
              "      <td>23.192500</td>\n",
              "      <td>11.825000</td>\n",
              "    </tr>\n",
              "    <tr>\n",
              "      <th>Chungcheongnam-do</th>\n",
              "      <td>1.122500</td>\n",
              "      <td>23.844375</td>\n",
              "      <td>11.706250</td>\n",
              "    </tr>\n",
              "    <tr>\n",
              "      <th>Daegu</th>\n",
              "      <td>1.713333</td>\n",
              "      <td>17.031111</td>\n",
              "      <td>7.966667</td>\n",
              "    </tr>\n",
              "    <tr>\n",
              "      <th>Daejeon</th>\n",
              "      <td>1.425000</td>\n",
              "      <td>14.376667</td>\n",
              "      <td>6.200000</td>\n",
              "    </tr>\n",
              "    <tr>\n",
              "      <th>Gangwon-do</th>\n",
              "      <td>1.116842</td>\n",
              "      <td>22.890526</td>\n",
              "      <td>11.578947</td>\n",
              "    </tr>\n",
              "    <tr>\n",
              "      <th>Gwangju</th>\n",
              "      <td>2.473333</td>\n",
              "      <td>14.815000</td>\n",
              "      <td>6.716667</td>\n",
              "    </tr>\n",
              "    <tr>\n",
              "      <th>Gyeonggi-do</th>\n",
              "      <td>1.420625</td>\n",
              "      <td>14.429688</td>\n",
              "      <td>6.084375</td>\n",
              "    </tr>\n",
              "    <tr>\n",
              "      <th>Gyeongsangbuk-do</th>\n",
              "      <td>0.948750</td>\n",
              "      <td>27.556250</td>\n",
              "      <td>15.133333</td>\n",
              "    </tr>\n",
              "    <tr>\n",
              "      <th>Gyeongsangnam-do</th>\n",
              "      <td>1.363158</td>\n",
              "      <td>24.749474</td>\n",
              "      <td>14.721053</td>\n",
              "    </tr>\n",
              "    <tr>\n",
              "      <th>Incheon</th>\n",
              "      <td>1.054545</td>\n",
              "      <td>16.399091</td>\n",
              "      <td>7.236364</td>\n",
              "    </tr>\n",
              "    <tr>\n",
              "      <th>Jeju-do</th>\n",
              "      <td>1.530000</td>\n",
              "      <td>15.100000</td>\n",
              "      <td>6.400000</td>\n",
              "    </tr>\n",
              "    <tr>\n",
              "      <th>Jeollabuk-do</th>\n",
              "      <td>1.330000</td>\n",
              "      <td>27.470667</td>\n",
              "      <td>15.533333</td>\n",
              "    </tr>\n",
              "    <tr>\n",
              "      <th>Jeollanam-do</th>\n",
              "      <td>1.065217</td>\n",
              "      <td>28.142174</td>\n",
              "      <td>17.030435</td>\n",
              "    </tr>\n",
              "    <tr>\n",
              "      <th>Korea</th>\n",
              "      <td>1.560000</td>\n",
              "      <td>15.670000</td>\n",
              "      <td>7.200000</td>\n",
              "    </tr>\n",
              "    <tr>\n",
              "      <th>Sejong</th>\n",
              "      <td>1.780000</td>\n",
              "      <td>9.480000</td>\n",
              "      <td>3.800000</td>\n",
              "    </tr>\n",
              "    <tr>\n",
              "      <th>Seoul</th>\n",
              "      <td>1.360000</td>\n",
              "      <td>15.738077</td>\n",
              "      <td>5.923077</td>\n",
              "    </tr>\n",
              "    <tr>\n",
              "      <th>Ulsan</th>\n",
              "      <td>2.111667</td>\n",
              "      <td>11.773333</td>\n",
              "      <td>5.166667</td>\n",
              "    </tr>\n",
              "  </tbody>\n",
              "</table>\n",
              "</div>"
            ],
            "text/plain": [
              "                   academy_ratio  elderly_population_ratio  elderly_alone_ratio\n",
              "province                                                                       \n",
              "Busan                   1.327647                 19.357647             9.094118\n",
              "Chungcheongbuk-do       1.023333                 23.192500            11.825000\n",
              "Chungcheongnam-do       1.122500                 23.844375            11.706250\n",
              "Daegu                   1.713333                 17.031111             7.966667\n",
              "Daejeon                 1.425000                 14.376667             6.200000\n",
              "Gangwon-do              1.116842                 22.890526            11.578947\n",
              "Gwangju                 2.473333                 14.815000             6.716667\n",
              "Gyeonggi-do             1.420625                 14.429688             6.084375\n",
              "Gyeongsangbuk-do        0.948750                 27.556250            15.133333\n",
              "Gyeongsangnam-do        1.363158                 24.749474            14.721053\n",
              "Incheon                 1.054545                 16.399091             7.236364\n",
              "Jeju-do                 1.530000                 15.100000             6.400000\n",
              "Jeollabuk-do            1.330000                 27.470667            15.533333\n",
              "Jeollanam-do            1.065217                 28.142174            17.030435\n",
              "Korea                   1.560000                 15.670000             7.200000\n",
              "Sejong                  1.780000                  9.480000             3.800000\n",
              "Seoul                   1.360000                 15.738077             5.923077\n",
              "Ulsan                   2.111667                 11.773333             5.166667"
            ]
          },
          "metadata": {},
          "execution_count": 160
        }
      ]
    },
    {
      "cell_type": "markdown",
      "metadata": {
        "id": "d9Dd4cJoBeAg"
      },
      "source": [
        "- __Observation__\n"
      ]
    },
    {
      "cell_type": "markdown",
      "metadata": {
        "id": "SavA_rI3CAvu"
      },
      "source": [
        "__09. Weather (날씨 정보)__\n",
        "  - 2016년 1월 1일부터 2020년 4월 29일까지 총 25,295개의 지역별 날씨 관련 데이터"
      ]
    },
    {
      "cell_type": "code",
      "metadata": {
        "colab": {
          "base_uri": "https://localhost:8080/",
          "height": 330
        },
        "id": "zAkvVP5DMutL",
        "outputId": "dde0955d-de15-40cd-a6ee-40652cc50b98"
      },
      "source": [
        "print('Weather 크기: ', weather.shape)\n",
        "weather.head()"
      ],
      "execution_count": null,
      "outputs": [
        {
          "output_type": "stream",
          "text": [
            "Weather 크기:  (25295, 10)\n"
          ],
          "name": "stdout"
        },
        {
          "output_type": "execute_result",
          "data": {
            "text/html": [
              "<div>\n",
              "<style scoped>\n",
              "    .dataframe tbody tr th:only-of-type {\n",
              "        vertical-align: middle;\n",
              "    }\n",
              "\n",
              "    .dataframe tbody tr th {\n",
              "        vertical-align: top;\n",
              "    }\n",
              "\n",
              "    .dataframe thead th {\n",
              "        text-align: right;\n",
              "    }\n",
              "</style>\n",
              "<table border=\"1\" class=\"dataframe\">\n",
              "  <thead>\n",
              "    <tr style=\"text-align: right;\">\n",
              "      <th></th>\n",
              "      <th>code</th>\n",
              "      <th>province</th>\n",
              "      <th>date</th>\n",
              "      <th>avg_temp</th>\n",
              "      <th>min_temp</th>\n",
              "      <th>max_temp</th>\n",
              "      <th>precipitation</th>\n",
              "      <th>max_wind_speed</th>\n",
              "      <th>most_wind_direction</th>\n",
              "      <th>avg_relative_humidity</th>\n",
              "    </tr>\n",
              "  </thead>\n",
              "  <tbody>\n",
              "    <tr>\n",
              "      <th>0</th>\n",
              "      <td>10000</td>\n",
              "      <td>Seoul</td>\n",
              "      <td>2016-01-01</td>\n",
              "      <td>1.2</td>\n",
              "      <td>-3.3</td>\n",
              "      <td>4.0</td>\n",
              "      <td>0.0</td>\n",
              "      <td>3.5</td>\n",
              "      <td>90.0</td>\n",
              "      <td>73.0</td>\n",
              "    </tr>\n",
              "    <tr>\n",
              "      <th>1</th>\n",
              "      <td>11000</td>\n",
              "      <td>Busan</td>\n",
              "      <td>2016-01-01</td>\n",
              "      <td>5.3</td>\n",
              "      <td>1.1</td>\n",
              "      <td>10.9</td>\n",
              "      <td>0.0</td>\n",
              "      <td>7.4</td>\n",
              "      <td>340.0</td>\n",
              "      <td>52.1</td>\n",
              "    </tr>\n",
              "    <tr>\n",
              "      <th>2</th>\n",
              "      <td>12000</td>\n",
              "      <td>Daegu</td>\n",
              "      <td>2016-01-01</td>\n",
              "      <td>1.7</td>\n",
              "      <td>-4.0</td>\n",
              "      <td>8.0</td>\n",
              "      <td>0.0</td>\n",
              "      <td>3.7</td>\n",
              "      <td>270.0</td>\n",
              "      <td>70.5</td>\n",
              "    </tr>\n",
              "    <tr>\n",
              "      <th>3</th>\n",
              "      <td>13000</td>\n",
              "      <td>Gwangju</td>\n",
              "      <td>2016-01-01</td>\n",
              "      <td>3.2</td>\n",
              "      <td>-1.5</td>\n",
              "      <td>8.1</td>\n",
              "      <td>0.0</td>\n",
              "      <td>2.7</td>\n",
              "      <td>230.0</td>\n",
              "      <td>73.1</td>\n",
              "    </tr>\n",
              "    <tr>\n",
              "      <th>4</th>\n",
              "      <td>14000</td>\n",
              "      <td>Incheon</td>\n",
              "      <td>2016-01-01</td>\n",
              "      <td>3.1</td>\n",
              "      <td>-0.4</td>\n",
              "      <td>5.7</td>\n",
              "      <td>0.0</td>\n",
              "      <td>5.3</td>\n",
              "      <td>180.0</td>\n",
              "      <td>83.9</td>\n",
              "    </tr>\n",
              "  </tbody>\n",
              "</table>\n",
              "</div>"
            ],
            "text/plain": [
              "    code province  ... most_wind_direction  avg_relative_humidity\n",
              "0  10000    Seoul  ...                90.0                   73.0\n",
              "1  11000    Busan  ...               340.0                   52.1\n",
              "2  12000    Daegu  ...               270.0                   70.5\n",
              "3  13000  Gwangju  ...               230.0                   73.1\n",
              "4  14000  Incheon  ...               180.0                   83.9\n",
              "\n",
              "[5 rows x 10 columns]"
            ]
          },
          "metadata": {},
          "execution_count": 161
        }
      ]
    },
    {
      "cell_type": "code",
      "metadata": {
        "colab": {
          "base_uri": "https://localhost:8080/"
        },
        "id": "NsW7V1B2Cbiq",
        "outputId": "820546b3-3138-42b3-d1a9-683ce72914db"
      },
      "source": [
        "weather.info()"
      ],
      "execution_count": null,
      "outputs": [
        {
          "output_type": "stream",
          "text": [
            "<class 'pandas.core.frame.DataFrame'>\n",
            "RangeIndex: 25295 entries, 0 to 25294\n",
            "Data columns (total 10 columns):\n",
            " #   Column                 Non-Null Count  Dtype  \n",
            "---  ------                 --------------  -----  \n",
            " 0   code                   25295 non-null  int64  \n",
            " 1   province               25295 non-null  object \n",
            " 2   date                   25295 non-null  object \n",
            " 3   avg_temp               25280 non-null  float64\n",
            " 4   min_temp               25290 non-null  float64\n",
            " 5   max_temp               25292 non-null  float64\n",
            " 6   precipitation          25295 non-null  float64\n",
            " 7   max_wind_speed         25286 non-null  float64\n",
            " 8   most_wind_direction    25266 non-null  float64\n",
            " 9   avg_relative_humidity  25275 non-null  float64\n",
            "dtypes: float64(7), int64(1), object(2)\n",
            "memory usage: 1.9+ MB\n"
          ],
          "name": "stdout"
        }
      ]
    },
    {
      "cell_type": "code",
      "metadata": {
        "colab": {
          "base_uri": "https://localhost:8080/"
        },
        "id": "3TKN48tajxMF",
        "outputId": "ef23ac32-9603-4808-a39a-6a2b660029ee"
      },
      "source": [
        "# 결측치 확인\n",
        "weather.isnull().sum()"
      ],
      "execution_count": null,
      "outputs": [
        {
          "output_type": "execute_result",
          "data": {
            "text/plain": [
              "code                      0\n",
              "province                  0\n",
              "date                      0\n",
              "avg_temp                 15\n",
              "min_temp                  5\n",
              "max_temp                  3\n",
              "precipitation             0\n",
              "max_wind_speed            9\n",
              "most_wind_direction      29\n",
              "avg_relative_humidity    20\n",
              "dtype: int64"
            ]
          },
          "metadata": {},
          "execution_count": 224
        }
      ]
    },
    {
      "cell_type": "markdown",
      "metadata": {
        "id": "-O7Mf0WbC66S"
      },
      "source": [
        "- __Observation__\n"
      ]
    },
    {
      "cell_type": "markdown",
      "metadata": {
        "id": "S11jIxpSDcep"
      },
      "source": [
        "__10. Search Trend (검색 트렌드)__\n",
        "- 2016년 1월 1일부터 2020년 4월 29일까지 감기/독감/폐렴/코로나 바이러스에 대한 검색 트렌드 정보"
      ]
    },
    {
      "cell_type": "code",
      "metadata": {
        "colab": {
          "base_uri": "https://localhost:8080/",
          "height": 224
        },
        "id": "lWOOd-M_Mwlu",
        "outputId": "769d83c5-127b-4bd6-813e-6220df96c482"
      },
      "source": [
        "print('Search Trend 크기: ', searchtrend.shape)\n",
        "searchtrend.head()"
      ],
      "execution_count": null,
      "outputs": [
        {
          "output_type": "stream",
          "text": [
            "Search Trend 크기:  (1581, 5)\n"
          ],
          "name": "stdout"
        },
        {
          "output_type": "execute_result",
          "data": {
            "text/html": [
              "<div>\n",
              "<style scoped>\n",
              "    .dataframe tbody tr th:only-of-type {\n",
              "        vertical-align: middle;\n",
              "    }\n",
              "\n",
              "    .dataframe tbody tr th {\n",
              "        vertical-align: top;\n",
              "    }\n",
              "\n",
              "    .dataframe thead th {\n",
              "        text-align: right;\n",
              "    }\n",
              "</style>\n",
              "<table border=\"1\" class=\"dataframe\">\n",
              "  <thead>\n",
              "    <tr style=\"text-align: right;\">\n",
              "      <th></th>\n",
              "      <th>date</th>\n",
              "      <th>cold</th>\n",
              "      <th>flu</th>\n",
              "      <th>pneumonia</th>\n",
              "      <th>coronavirus</th>\n",
              "    </tr>\n",
              "  </thead>\n",
              "  <tbody>\n",
              "    <tr>\n",
              "      <th>0</th>\n",
              "      <td>2016-01-01</td>\n",
              "      <td>0.11663</td>\n",
              "      <td>0.05590</td>\n",
              "      <td>0.15726</td>\n",
              "      <td>0.00736</td>\n",
              "    </tr>\n",
              "    <tr>\n",
              "      <th>1</th>\n",
              "      <td>2016-01-02</td>\n",
              "      <td>0.13372</td>\n",
              "      <td>0.17135</td>\n",
              "      <td>0.20826</td>\n",
              "      <td>0.00890</td>\n",
              "    </tr>\n",
              "    <tr>\n",
              "      <th>2</th>\n",
              "      <td>2016-01-03</td>\n",
              "      <td>0.14917</td>\n",
              "      <td>0.22317</td>\n",
              "      <td>0.19326</td>\n",
              "      <td>0.00845</td>\n",
              "    </tr>\n",
              "    <tr>\n",
              "      <th>3</th>\n",
              "      <td>2016-01-04</td>\n",
              "      <td>0.17463</td>\n",
              "      <td>0.18626</td>\n",
              "      <td>0.29008</td>\n",
              "      <td>0.01145</td>\n",
              "    </tr>\n",
              "    <tr>\n",
              "      <th>4</th>\n",
              "      <td>2016-01-05</td>\n",
              "      <td>0.17226</td>\n",
              "      <td>0.15072</td>\n",
              "      <td>0.24562</td>\n",
              "      <td>0.01381</td>\n",
              "    </tr>\n",
              "  </tbody>\n",
              "</table>\n",
              "</div>"
            ],
            "text/plain": [
              "         date     cold      flu  pneumonia  coronavirus\n",
              "0  2016-01-01  0.11663  0.05590    0.15726      0.00736\n",
              "1  2016-01-02  0.13372  0.17135    0.20826      0.00890\n",
              "2  2016-01-03  0.14917  0.22317    0.19326      0.00845\n",
              "3  2016-01-04  0.17463  0.18626    0.29008      0.01145\n",
              "4  2016-01-05  0.17226  0.15072    0.24562      0.01381"
            ]
          },
          "metadata": {},
          "execution_count": 163
        }
      ]
    },
    {
      "cell_type": "code",
      "metadata": {
        "id": "-mrwCTEymKYn"
      },
      "source": [
        ""
      ],
      "execution_count": null,
      "outputs": []
    },
    {
      "cell_type": "code",
      "metadata": {
        "colab": {
          "base_uri": "https://localhost:8080/",
          "height": 454
        },
        "id": "HWWBjoWclJkv",
        "outputId": "fcceac6f-17a1-432d-e72b-b5b440b1068d"
      },
      "source": [
        "df = searchtrend.set_index('date')\n",
        "df"
      ],
      "execution_count": null,
      "outputs": [
        {
          "output_type": "execute_result",
          "data": {
            "text/html": [
              "<div>\n",
              "<style scoped>\n",
              "    .dataframe tbody tr th:only-of-type {\n",
              "        vertical-align: middle;\n",
              "    }\n",
              "\n",
              "    .dataframe tbody tr th {\n",
              "        vertical-align: top;\n",
              "    }\n",
              "\n",
              "    .dataframe thead th {\n",
              "        text-align: right;\n",
              "    }\n",
              "</style>\n",
              "<table border=\"1\" class=\"dataframe\">\n",
              "  <thead>\n",
              "    <tr style=\"text-align: right;\">\n",
              "      <th></th>\n",
              "      <th>cold</th>\n",
              "      <th>flu</th>\n",
              "      <th>pneumonia</th>\n",
              "      <th>coronavirus</th>\n",
              "    </tr>\n",
              "    <tr>\n",
              "      <th>date</th>\n",
              "      <th></th>\n",
              "      <th></th>\n",
              "      <th></th>\n",
              "      <th></th>\n",
              "    </tr>\n",
              "  </thead>\n",
              "  <tbody>\n",
              "    <tr>\n",
              "      <th>2016-01-01</th>\n",
              "      <td>0.11663</td>\n",
              "      <td>0.05590</td>\n",
              "      <td>0.15726</td>\n",
              "      <td>0.00736</td>\n",
              "    </tr>\n",
              "    <tr>\n",
              "      <th>2016-01-02</th>\n",
              "      <td>0.13372</td>\n",
              "      <td>0.17135</td>\n",
              "      <td>0.20826</td>\n",
              "      <td>0.00890</td>\n",
              "    </tr>\n",
              "    <tr>\n",
              "      <th>2016-01-03</th>\n",
              "      <td>0.14917</td>\n",
              "      <td>0.22317</td>\n",
              "      <td>0.19326</td>\n",
              "      <td>0.00845</td>\n",
              "    </tr>\n",
              "    <tr>\n",
              "      <th>2016-01-04</th>\n",
              "      <td>0.17463</td>\n",
              "      <td>0.18626</td>\n",
              "      <td>0.29008</td>\n",
              "      <td>0.01145</td>\n",
              "    </tr>\n",
              "    <tr>\n",
              "      <th>2016-01-05</th>\n",
              "      <td>0.17226</td>\n",
              "      <td>0.15072</td>\n",
              "      <td>0.24562</td>\n",
              "      <td>0.01381</td>\n",
              "    </tr>\n",
              "    <tr>\n",
              "      <th>...</th>\n",
              "      <td>...</td>\n",
              "      <td>...</td>\n",
              "      <td>...</td>\n",
              "      <td>...</td>\n",
              "    </tr>\n",
              "    <tr>\n",
              "      <th>2020-04-25</th>\n",
              "      <td>0.12781</td>\n",
              "      <td>0.02709</td>\n",
              "      <td>0.08672</td>\n",
              "      <td>4.13405</td>\n",
              "    </tr>\n",
              "    <tr>\n",
              "      <th>2020-04-26</th>\n",
              "      <td>0.13363</td>\n",
              "      <td>0.03263</td>\n",
              "      <td>0.08136</td>\n",
              "      <td>3.95342</td>\n",
              "    </tr>\n",
              "    <tr>\n",
              "      <th>2020-04-27</th>\n",
              "      <td>0.11226</td>\n",
              "      <td>0.04427</td>\n",
              "      <td>0.10390</td>\n",
              "      <td>4.11033</td>\n",
              "    </tr>\n",
              "    <tr>\n",
              "      <th>2020-04-28</th>\n",
              "      <td>0.11481</td>\n",
              "      <td>0.03981</td>\n",
              "      <td>0.10336</td>\n",
              "      <td>3.73088</td>\n",
              "    </tr>\n",
              "    <tr>\n",
              "      <th>2020-04-29</th>\n",
              "      <td>0.10781</td>\n",
              "      <td>0.04163</td>\n",
              "      <td>0.09136</td>\n",
              "      <td>3.78952</td>\n",
              "    </tr>\n",
              "  </tbody>\n",
              "</table>\n",
              "<p>1581 rows × 4 columns</p>\n",
              "</div>"
            ],
            "text/plain": [
              "               cold      flu  pneumonia  coronavirus\n",
              "date                                                \n",
              "2016-01-01  0.11663  0.05590    0.15726      0.00736\n",
              "2016-01-02  0.13372  0.17135    0.20826      0.00890\n",
              "2016-01-03  0.14917  0.22317    0.19326      0.00845\n",
              "2016-01-04  0.17463  0.18626    0.29008      0.01145\n",
              "2016-01-05  0.17226  0.15072    0.24562      0.01381\n",
              "...             ...      ...        ...          ...\n",
              "2020-04-25  0.12781  0.02709    0.08672      4.13405\n",
              "2020-04-26  0.13363  0.03263    0.08136      3.95342\n",
              "2020-04-27  0.11226  0.04427    0.10390      4.11033\n",
              "2020-04-28  0.11481  0.03981    0.10336      3.73088\n",
              "2020-04-29  0.10781  0.04163    0.09136      3.78952\n",
              "\n",
              "[1581 rows x 4 columns]"
            ]
          },
          "metadata": {},
          "execution_count": 225
        }
      ]
    },
    {
      "cell_type": "code",
      "metadata": {
        "colab": {
          "base_uri": "https://localhost:8080/",
          "height": 454
        },
        "id": "dwROQgEBmNp9",
        "outputId": "56cbbe85-e6a9-4c91-cb86-1a9d22896b97"
      },
      "source": [
        ""
      ],
      "execution_count": null,
      "outputs": [
        {
          "output_type": "execute_result",
          "data": {
            "text/html": [
              "<div>\n",
              "<style scoped>\n",
              "    .dataframe tbody tr th:only-of-type {\n",
              "        vertical-align: middle;\n",
              "    }\n",
              "\n",
              "    .dataframe tbody tr th {\n",
              "        vertical-align: top;\n",
              "    }\n",
              "\n",
              "    .dataframe thead th {\n",
              "        text-align: right;\n",
              "    }\n",
              "</style>\n",
              "<table border=\"1\" class=\"dataframe\">\n",
              "  <thead>\n",
              "    <tr style=\"text-align: right;\">\n",
              "      <th></th>\n",
              "      <th>cold</th>\n",
              "      <th>flu</th>\n",
              "      <th>pneumonia</th>\n",
              "      <th>coronavirus</th>\n",
              "    </tr>\n",
              "    <tr>\n",
              "      <th>date</th>\n",
              "      <th></th>\n",
              "      <th></th>\n",
              "      <th></th>\n",
              "      <th></th>\n",
              "    </tr>\n",
              "  </thead>\n",
              "  <tbody>\n",
              "    <tr>\n",
              "      <th>2020-01-01</th>\n",
              "      <td>0.14454</td>\n",
              "      <td>0.48434</td>\n",
              "      <td>0.44880</td>\n",
              "      <td>0.01699</td>\n",
              "    </tr>\n",
              "    <tr>\n",
              "      <th>2020-01-02</th>\n",
              "      <td>0.19508</td>\n",
              "      <td>0.85751</td>\n",
              "      <td>0.36471</td>\n",
              "      <td>0.01827</td>\n",
              "    </tr>\n",
              "    <tr>\n",
              "      <th>2020-01-03</th>\n",
              "      <td>0.19581</td>\n",
              "      <td>0.80443</td>\n",
              "      <td>0.46598</td>\n",
              "      <td>0.02845</td>\n",
              "    </tr>\n",
              "    <tr>\n",
              "      <th>2020-01-04</th>\n",
              "      <td>0.60343</td>\n",
              "      <td>0.86961</td>\n",
              "      <td>0.49571</td>\n",
              "      <td>0.02136</td>\n",
              "    </tr>\n",
              "    <tr>\n",
              "      <th>2020-01-05</th>\n",
              "      <td>0.20081</td>\n",
              "      <td>0.84152</td>\n",
              "      <td>0.41644</td>\n",
              "      <td>0.01927</td>\n",
              "    </tr>\n",
              "    <tr>\n",
              "      <th>...</th>\n",
              "      <td>...</td>\n",
              "      <td>...</td>\n",
              "      <td>...</td>\n",
              "      <td>...</td>\n",
              "    </tr>\n",
              "    <tr>\n",
              "      <th>2020-04-25</th>\n",
              "      <td>0.12781</td>\n",
              "      <td>0.02709</td>\n",
              "      <td>0.08672</td>\n",
              "      <td>4.13405</td>\n",
              "    </tr>\n",
              "    <tr>\n",
              "      <th>2020-04-26</th>\n",
              "      <td>0.13363</td>\n",
              "      <td>0.03263</td>\n",
              "      <td>0.08136</td>\n",
              "      <td>3.95342</td>\n",
              "    </tr>\n",
              "    <tr>\n",
              "      <th>2020-04-27</th>\n",
              "      <td>0.11226</td>\n",
              "      <td>0.04427</td>\n",
              "      <td>0.10390</td>\n",
              "      <td>4.11033</td>\n",
              "    </tr>\n",
              "    <tr>\n",
              "      <th>2020-04-28</th>\n",
              "      <td>0.11481</td>\n",
              "      <td>0.03981</td>\n",
              "      <td>0.10336</td>\n",
              "      <td>3.73088</td>\n",
              "    </tr>\n",
              "    <tr>\n",
              "      <th>2020-04-29</th>\n",
              "      <td>0.10781</td>\n",
              "      <td>0.04163</td>\n",
              "      <td>0.09136</td>\n",
              "      <td>3.78952</td>\n",
              "    </tr>\n",
              "  </tbody>\n",
              "</table>\n",
              "<p>120 rows × 4 columns</p>\n",
              "</div>"
            ],
            "text/plain": [
              "               cold      flu  pneumonia  coronavirus\n",
              "date                                                \n",
              "2020-01-01  0.14454  0.48434    0.44880      0.01699\n",
              "2020-01-02  0.19508  0.85751    0.36471      0.01827\n",
              "2020-01-03  0.19581  0.80443    0.46598      0.02845\n",
              "2020-01-04  0.60343  0.86961    0.49571      0.02136\n",
              "2020-01-05  0.20081  0.84152    0.41644      0.01927\n",
              "...             ...      ...        ...          ...\n",
              "2020-04-25  0.12781  0.02709    0.08672      4.13405\n",
              "2020-04-26  0.13363  0.03263    0.08136      3.95342\n",
              "2020-04-27  0.11226  0.04427    0.10390      4.11033\n",
              "2020-04-28  0.11481  0.03981    0.10336      3.73088\n",
              "2020-04-29  0.10781  0.04163    0.09136      3.78952\n",
              "\n",
              "[120 rows x 4 columns]"
            ]
          },
          "metadata": {},
          "execution_count": 228
        }
      ]
    },
    {
      "cell_type": "markdown",
      "metadata": {
        "id": "mGAQx1-ZD0O8"
      },
      "source": [
        "- __Observation__"
      ]
    },
    {
      "cell_type": "markdown",
      "metadata": {
        "id": "46ZAo-ksEfkZ"
      },
      "source": [
        "__11. Seoul Floating__\n",
        "- 2020년 1월 1일부터 2월 29일까지 서울의 시간대별(00시 ~ 23시), 연령별(20대~70대), 성별, 지역구별 유동인구 정보"
      ]
    },
    {
      "cell_type": "code",
      "metadata": {
        "colab": {
          "base_uri": "https://localhost:8080/",
          "height": 224
        },
        "id": "nIDmjGO1NBp1",
        "outputId": "83a8c785-7758-4e9e-e920-08e77a8f52b6"
      },
      "source": [
        "print('Seoul Floating 크기: ', seoulfloating.shape)\n",
        "seoulfloating.head()"
      ],
      "execution_count": null,
      "outputs": [
        {
          "output_type": "stream",
          "text": [
            "Seoul Floating 크기:  (432000, 7)\n"
          ],
          "name": "stdout"
        },
        {
          "output_type": "execute_result",
          "data": {
            "text/html": [
              "<div>\n",
              "<style scoped>\n",
              "    .dataframe tbody tr th:only-of-type {\n",
              "        vertical-align: middle;\n",
              "    }\n",
              "\n",
              "    .dataframe tbody tr th {\n",
              "        vertical-align: top;\n",
              "    }\n",
              "\n",
              "    .dataframe thead th {\n",
              "        text-align: right;\n",
              "    }\n",
              "</style>\n",
              "<table border=\"1\" class=\"dataframe\">\n",
              "  <thead>\n",
              "    <tr style=\"text-align: right;\">\n",
              "      <th></th>\n",
              "      <th>date</th>\n",
              "      <th>hour</th>\n",
              "      <th>birth_year</th>\n",
              "      <th>sex</th>\n",
              "      <th>province</th>\n",
              "      <th>city</th>\n",
              "      <th>fp_num</th>\n",
              "    </tr>\n",
              "  </thead>\n",
              "  <tbody>\n",
              "    <tr>\n",
              "      <th>0</th>\n",
              "      <td>2020-01-01</td>\n",
              "      <td>0</td>\n",
              "      <td>20</td>\n",
              "      <td>female</td>\n",
              "      <td>Seoul</td>\n",
              "      <td>Dobong-gu</td>\n",
              "      <td>19140</td>\n",
              "    </tr>\n",
              "    <tr>\n",
              "      <th>1</th>\n",
              "      <td>2020-01-01</td>\n",
              "      <td>0</td>\n",
              "      <td>20</td>\n",
              "      <td>male</td>\n",
              "      <td>Seoul</td>\n",
              "      <td>Dobong-gu</td>\n",
              "      <td>19950</td>\n",
              "    </tr>\n",
              "    <tr>\n",
              "      <th>2</th>\n",
              "      <td>2020-01-01</td>\n",
              "      <td>0</td>\n",
              "      <td>20</td>\n",
              "      <td>female</td>\n",
              "      <td>Seoul</td>\n",
              "      <td>Dongdaemun-gu</td>\n",
              "      <td>25450</td>\n",
              "    </tr>\n",
              "    <tr>\n",
              "      <th>3</th>\n",
              "      <td>2020-01-01</td>\n",
              "      <td>0</td>\n",
              "      <td>20</td>\n",
              "      <td>male</td>\n",
              "      <td>Seoul</td>\n",
              "      <td>Dongdaemun-gu</td>\n",
              "      <td>27050</td>\n",
              "    </tr>\n",
              "    <tr>\n",
              "      <th>4</th>\n",
              "      <td>2020-01-01</td>\n",
              "      <td>0</td>\n",
              "      <td>20</td>\n",
              "      <td>female</td>\n",
              "      <td>Seoul</td>\n",
              "      <td>Dongjag-gu</td>\n",
              "      <td>28880</td>\n",
              "    </tr>\n",
              "  </tbody>\n",
              "</table>\n",
              "</div>"
            ],
            "text/plain": [
              "         date  hour  birth_year     sex province           city  fp_num\n",
              "0  2020-01-01     0          20  female    Seoul      Dobong-gu   19140\n",
              "1  2020-01-01     0          20    male    Seoul      Dobong-gu   19950\n",
              "2  2020-01-01     0          20  female    Seoul  Dongdaemun-gu   25450\n",
              "3  2020-01-01     0          20    male    Seoul  Dongdaemun-gu   27050\n",
              "4  2020-01-01     0          20  female    Seoul     Dongjag-gu   28880"
            ]
          },
          "metadata": {},
          "execution_count": 165
        }
      ]
    },
    {
      "cell_type": "code",
      "metadata": {
        "colab": {
          "base_uri": "https://localhost:8080/"
        },
        "id": "0XFxGfyME9qU",
        "outputId": "0ba33cb5-be71-4133-fddc-852cb575782d"
      },
      "source": [
        "seoulfloating.info()"
      ],
      "execution_count": null,
      "outputs": [
        {
          "output_type": "stream",
          "text": [
            "<class 'pandas.core.frame.DataFrame'>\n",
            "RangeIndex: 432000 entries, 0 to 431999\n",
            "Data columns (total 7 columns):\n",
            " #   Column      Non-Null Count   Dtype \n",
            "---  ------      --------------   ----- \n",
            " 0   date        432000 non-null  object\n",
            " 1   hour        432000 non-null  int64 \n",
            " 2   birth_year  432000 non-null  int64 \n",
            " 3   sex         432000 non-null  object\n",
            " 4   province    432000 non-null  object\n",
            " 5   city        432000 non-null  object\n",
            " 6   fp_num      432000 non-null  int64 \n",
            "dtypes: int64(3), object(4)\n",
            "memory usage: 23.1+ MB\n"
          ],
          "name": "stdout"
        }
      ]
    },
    {
      "cell_type": "markdown",
      "metadata": {
        "id": "EQ-t6aSdEKz8"
      },
      "source": [
        "- __Observation__"
      ]
    },
    {
      "cell_type": "markdown",
      "metadata": {
        "id": "GvBH-VK5FiAi"
      },
      "source": [
        "__12. Policy__\n",
        "- 48개의 코로나 관련 정부 정책 정보이다."
      ]
    },
    {
      "cell_type": "code",
      "metadata": {
        "colab": {
          "base_uri": "https://localhost:8080/",
          "height": 224
        },
        "id": "aV2Mvxb1NEck",
        "outputId": "90b034ca-90de-4af7-b9f7-cddebcaa5fa1"
      },
      "source": [
        "print('Policy 크기: ', policy.shape)\n",
        "policy.head()"
      ],
      "execution_count": null,
      "outputs": [
        {
          "output_type": "stream",
          "text": [
            "Policy 크기:  (48, 7)\n"
          ],
          "name": "stdout"
        },
        {
          "output_type": "execute_result",
          "data": {
            "text/html": [
              "<div>\n",
              "<style scoped>\n",
              "    .dataframe tbody tr th:only-of-type {\n",
              "        vertical-align: middle;\n",
              "    }\n",
              "\n",
              "    .dataframe tbody tr th {\n",
              "        vertical-align: top;\n",
              "    }\n",
              "\n",
              "    .dataframe thead th {\n",
              "        text-align: right;\n",
              "    }\n",
              "</style>\n",
              "<table border=\"1\" class=\"dataframe\">\n",
              "  <thead>\n",
              "    <tr style=\"text-align: right;\">\n",
              "      <th></th>\n",
              "      <th>policy_id</th>\n",
              "      <th>country</th>\n",
              "      <th>type</th>\n",
              "      <th>gov_policy</th>\n",
              "      <th>detail</th>\n",
              "      <th>start_date</th>\n",
              "      <th>end_date</th>\n",
              "    </tr>\n",
              "  </thead>\n",
              "  <tbody>\n",
              "    <tr>\n",
              "      <th>0</th>\n",
              "      <td>1</td>\n",
              "      <td>Korea</td>\n",
              "      <td>Alert</td>\n",
              "      <td>Infectious Disease Alert Level</td>\n",
              "      <td>Level 1 (Blue)</td>\n",
              "      <td>2020-01-03</td>\n",
              "      <td>2020-01-19</td>\n",
              "    </tr>\n",
              "    <tr>\n",
              "      <th>1</th>\n",
              "      <td>2</td>\n",
              "      <td>Korea</td>\n",
              "      <td>Alert</td>\n",
              "      <td>Infectious Disease Alert Level</td>\n",
              "      <td>Level 2 (Yellow)</td>\n",
              "      <td>2020-01-20</td>\n",
              "      <td>2020-01-27</td>\n",
              "    </tr>\n",
              "    <tr>\n",
              "      <th>2</th>\n",
              "      <td>3</td>\n",
              "      <td>Korea</td>\n",
              "      <td>Alert</td>\n",
              "      <td>Infectious Disease Alert Level</td>\n",
              "      <td>Level 3 (Orange)</td>\n",
              "      <td>2020-01-28</td>\n",
              "      <td>2020-02-22</td>\n",
              "    </tr>\n",
              "    <tr>\n",
              "      <th>3</th>\n",
              "      <td>4</td>\n",
              "      <td>Korea</td>\n",
              "      <td>Alert</td>\n",
              "      <td>Infectious Disease Alert Level</td>\n",
              "      <td>Level 4 (Red)</td>\n",
              "      <td>2020-02-23</td>\n",
              "      <td>NaN</td>\n",
              "    </tr>\n",
              "    <tr>\n",
              "      <th>4</th>\n",
              "      <td>5</td>\n",
              "      <td>Korea</td>\n",
              "      <td>Immigration</td>\n",
              "      <td>Special Immigration Procedure</td>\n",
              "      <td>from China</td>\n",
              "      <td>2020-02-04</td>\n",
              "      <td>NaN</td>\n",
              "    </tr>\n",
              "  </tbody>\n",
              "</table>\n",
              "</div>"
            ],
            "text/plain": [
              "   policy_id country         type  ...            detail  start_date    end_date\n",
              "0          1   Korea        Alert  ...    Level 1 (Blue)  2020-01-03  2020-01-19\n",
              "1          2   Korea        Alert  ...  Level 2 (Yellow)  2020-01-20  2020-01-27\n",
              "2          3   Korea        Alert  ...  Level 3 (Orange)  2020-01-28  2020-02-22\n",
              "3          4   Korea        Alert  ...     Level 4 (Red)  2020-02-23         NaN\n",
              "4          5   Korea  Immigration  ...        from China  2020-02-04         NaN\n",
              "\n",
              "[5 rows x 7 columns]"
            ]
          },
          "metadata": {},
          "execution_count": 167
        }
      ]
    },
    {
      "cell_type": "code",
      "metadata": {
        "id": "60fVZnbxNFx7",
        "colab": {
          "base_uri": "https://localhost:8080/"
        },
        "outputId": "a1df1992-3f07-45f6-e61d-b5ed54a1d3bd"
      },
      "source": [
        "policy['type'].value_counts()"
      ],
      "execution_count": null,
      "outputs": [
        {
          "output_type": "execute_result",
          "data": {
            "text/plain": [
              "Immigration    15\n",
              "Education      11\n",
              "Health          9\n",
              "Technology      5\n",
              "Alert           4\n",
              "Social          4\n",
              "Name: type, dtype: int64"
            ]
          },
          "metadata": {},
          "execution_count": 168
        }
      ]
    },
    {
      "cell_type": "markdown",
      "metadata": {
        "id": "Q9PAiaVcF5B9"
      },
      "source": [
        "- __Observation__\n",
        "\n",
        "  - 감염병 경보 레벨 관찰하기"
      ]
    }
  ]
}