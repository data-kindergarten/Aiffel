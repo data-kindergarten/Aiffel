{
  "nbformat": 4,
  "nbformat_minor": 0,
  "metadata": {
    "colab": {
      "name": "2.4 부트스트랩.ipynb",
      "provenance": [],
      "collapsed_sections": []
    },
    "kernelspec": {
      "name": "python3",
      "display_name": "Python 3"
    },
    "language_info": {
      "name": "python"
    }
  },
  "cells": [
    {
      "cell_type": "code",
      "metadata": {
        "colab": {
          "base_uri": "https://localhost:8080/"
        },
        "id": "3dcDrb2_zc-U",
        "outputId": "8d20b393-6a89-444b-e408-0f9daa817154"
      },
      "source": [
        "from google.colab import drive\n",
        "drive.mount('/content/gdrive')"
      ],
      "execution_count": 60,
      "outputs": [
        {
          "output_type": "stream",
          "name": "stdout",
          "text": [
            "Drive already mounted at /content/gdrive; to attempt to forcibly remount, call drive.mount(\"/content/gdrive\", force_remount=True).\n"
          ]
        }
      ]
    },
    {
      "cell_type": "code",
      "metadata": {
        "id": "6E67FSSS7622"
      },
      "source": [
        "from pathlib import Path\n",
        "import pandas as pd\n",
        "import numpy as np\n",
        "from scipy import stats\n",
        "from sklearn.utils import resample\n",
        "\n",
        "import seaborn as sns\n",
        "import matplotlib.pylab as plt"
      ],
      "execution_count": 61,
      "outputs": []
    },
    {
      "cell_type": "markdown",
      "metadata": {
        "id": "HNilxfIo2v5B"
      },
      "source": [
        "## 기본 용어정리"
      ]
    },
    {
      "cell_type": "markdown",
      "metadata": {
        "id": "yAjZLAx42f-B"
      },
      "source": [
        "### 표본\n",
        "- 조사대상이 되는 전체 모집단에 대해 샘플링을 통해 얻어지는 결과 값, 모집단의 부분집합"
      ]
    },
    {
      "cell_type": "markdown",
      "metadata": {
        "id": "yhzWZOOz0jfe"
      },
      "source": [
        "### 모집단\n",
        "- 어떤 데이터 집합을 구성하는 전체 대상 혹은 집합을 말한다. 즉, 연구자가 알고 싶어하는 대상 또는 효과에 대한 전체 집단이다.\n",
        "\n",
        "\n",
        "- 대한민국 남자 고등학생의 평균키를 알고 싶다 -> (모집단) 대한민국 전체 고등학교 남학생의 키"
      ]
    },
    {
      "cell_type": "markdown",
      "metadata": {
        "id": "_ySuxGBN1SRm"
      },
      "source": [
        "### 모수\n",
        "- 모집단을 조사하여 얻을 수 있는 통계적인 특성치를 모수(Population Parameter)라고 하며, 모집단 분포의 특성을 규정짓는 척도이다. (모평균, 모분산, 모표준편차 등)\n",
        "\n",
        "\n",
        "- 일반적으로 모수는 알려져 있지 않은 미지의 상수로 취급되며 통계적 추론을 통해 모수를 추론할 수 있다."
      ]
    },
    {
      "cell_type": "markdown",
      "metadata": {
        "id": "7dDgOoBLz1pa"
      },
      "source": [
        "## 부트스트랩(Bootstrap)\n",
        "- 통계량이나 모수의 표본분포를 쉽고 효과적으로 추정하기 위해서, __현재 있는 표본에서 추가적으로 표본을 복원 추출__하고 __각 표본에 대한 통계량을 다시 계산__하는 것(절차)입니다.\n",
        "\n",
        "\n",
        "- 데이터나 표본통계량이 정규분포를 따라야 한다는 가정이 꼭 필요하지 않다. \n",
        "\n",
        "\n",
        "- 이 방법을 사용하면 예를 들어 표본의 수가 30개 밖에 안될지라도, 부트스트랩을 통해 30개보다 더 많은 통계량을 구할 수 있어 모수를 더 정확히 추정할 수 있습니다."
      ]
    },
    {
      "cell_type": "markdown",
      "metadata": {
        "id": "NqeFhPQA3Vds"
      },
      "source": [
        "### 부트스트랩 프로세스\n",
        "\n",
        "- 핵심 아이디어 : __복원추출__\n",
        "\n",
        "1. 표본에서 샘플 값을 뽑아서 기록하고 다시 제자리에 놓는다.\n",
        "2. 이를 n번 반복한다\n",
        "3. n번 재표본추출한 값의 평균을 구한다.\n",
        "4. 1-3단계를 R번 반복한다. (R : 부트스트랩 반복 횟수)"
      ]
    },
    {
      "cell_type": "markdown",
      "metadata": {
        "id": "Fgcz4klM4obV"
      },
      "source": [
        "위의 과정을 [다음 사이트](https://seeing-theory.brown.edu/frequentist-inference/index.html#section3)에서 시각화해서 확인해 볼 수 있다."
      ]
    },
    {
      "cell_type": "markdown",
      "metadata": {
        "id": "FHWTE4Ls44li"
      },
      "source": [
        "### 실습1. 대출 신청자의 연간 소득 데이터(교재)"
      ]
    },
    {
      "cell_type": "code",
      "metadata": {
        "id": "KAVLQ7Uw6xN-"
      },
      "source": [
        "data_path = '/content/gdrive/MyDrive/Data Analysis/Aiffel/FLP/Statistics/loans_income.csv'\n",
        "loans_income = pd.read_csv(data_path, squeeze=True)"
      ],
      "execution_count": 62,
      "outputs": []
    },
    {
      "cell_type": "code",
      "metadata": {
        "colab": {
          "base_uri": "https://localhost:8080/"
        },
        "id": "d0HM4z9o9B1S",
        "outputId": "88575148-f651-42cb-e9c4-16ddcc0c6fb1"
      },
      "source": [
        "loans_income.shape"
      ],
      "execution_count": 63,
      "outputs": [
        {
          "output_type": "execute_result",
          "data": {
            "text/plain": [
              "(50000,)"
            ]
          },
          "metadata": {},
          "execution_count": 63
        }
      ]
    },
    {
      "cell_type": "code",
      "metadata": {
        "colab": {
          "base_uri": "https://localhost:8080/"
        },
        "id": "093b5gQEC8jv",
        "outputId": "a36aee82-d38d-4937-b184-5e9ed3668ce9"
      },
      "source": [
        "loans_income.head(10)"
      ],
      "execution_count": 64,
      "outputs": [
        {
          "output_type": "execute_result",
          "data": {
            "text/plain": [
              "0     67000\n",
              "1     52000\n",
              "2    100000\n",
              "3     78762\n",
              "4     37041\n",
              "5     33000\n",
              "6     38500\n",
              "7     85000\n",
              "8    120000\n",
              "9     57000\n",
              "Name: x, dtype: int64"
            ]
          },
          "metadata": {},
          "execution_count": 64
        }
      ]
    },
    {
      "cell_type": "code",
      "metadata": {
        "colab": {
          "base_uri": "https://localhost:8080/"
        },
        "id": "7fsxoR7j9npO",
        "outputId": "f3d16d7d-f56e-45a6-cc83-be143efefa3c"
      },
      "source": [
        "loans_income.describe()"
      ],
      "execution_count": 65,
      "outputs": [
        {
          "output_type": "execute_result",
          "data": {
            "text/plain": [
              "count     50000.00000\n",
              "mean      68760.51844\n",
              "std       32872.03537\n",
              "min        4000.00000\n",
              "25%       45000.00000\n",
              "50%       62000.00000\n",
              "75%       85000.00000\n",
              "max      199000.00000\n",
              "Name: x, dtype: float64"
            ]
          },
          "metadata": {},
          "execution_count": 65
        }
      ]
    },
    {
      "cell_type": "code",
      "metadata": {
        "colab": {
          "base_uri": "https://localhost:8080/"
        },
        "id": "NlkbMbxP7qKp",
        "outputId": "a5c5cac3-09f8-4bca-eb86-d556e2e4a6a8"
      },
      "source": [
        "results = []\n",
        "for nrepeat in range(1000):\n",
        "    sample = resample(loans_income)\n",
        "    results.append(sample.median())\n",
        "results = pd.Series(results)\n",
        "print('Bootstrap Statistics:')\n",
        "print(f'original: {loans_income.median()}')\n",
        "print(f'bias: {results.mean() - loans_income.median()}')\n",
        "print(f'std. error: {results.std()}')"
      ],
      "execution_count": 66,
      "outputs": [
        {
          "output_type": "stream",
          "name": "stdout",
          "text": [
            "Bootstrap Statistics:\n",
            "original: 62000.0\n",
            "bias: -63.955000000001746\n",
            "std. error: 197.9966480717485\n"
          ]
        }
      ]
    },
    {
      "cell_type": "markdown",
      "metadata": {
        "id": "hB3zX0RV9cyP"
      },
      "source": [
        "### 실습2. [캐글] Heart Failure Prediction(심부전증 예방)\n",
        "- 참고 노트북 : [Bootstrap for small sample & Estimation (83.6%)](https://www.kaggle.com/jjmewtw/bootstrap-for-small-sample-estimation-83-6/notebook)"
      ]
    },
    {
      "cell_type": "markdown",
      "metadata": {
        "id": "IxBQd4ImA-5G"
      },
      "source": [
        "#### Data cleaning"
      ]
    },
    {
      "cell_type": "code",
      "metadata": {
        "id": "jL6znR3iA39O"
      },
      "source": [
        "# Basic libraries\n",
        "import numpy as np # linear algebra\n",
        "import pandas as pd # data processing, CSV file I/O (e.g. pd.read_csv)\n",
        "from mlxtend.preprocessing import minmax_scaling\n",
        "import seaborn as sns\n",
        "import matplotlib.pyplot as plt\n",
        "\n",
        "# Libraries for bootstrap\n",
        "from sklearn.utils import resample"
      ],
      "execution_count": 67,
      "outputs": []
    },
    {
      "cell_type": "code",
      "metadata": {
        "id": "p4liP4mf_ZBL"
      },
      "source": [
        "data_path = '/content/gdrive/MyDrive/Data Analysis/Aiffel/FLP/Statistics/heart_failure_clinical_records_dataset.csv'\n",
        "df = pd.read_csv(data_path)"
      ],
      "execution_count": 68,
      "outputs": []
    },
    {
      "cell_type": "code",
      "metadata": {
        "colab": {
          "base_uri": "https://localhost:8080/"
        },
        "id": "3oOOWHFr_oMl",
        "outputId": "0852b24c-b690-42d3-c895-0af6eb869aad"
      },
      "source": [
        "df.shape"
      ],
      "execution_count": 69,
      "outputs": [
        {
          "output_type": "execute_result",
          "data": {
            "text/plain": [
              "(299, 13)"
            ]
          },
          "metadata": {},
          "execution_count": 69
        }
      ]
    },
    {
      "cell_type": "code",
      "metadata": {
        "colab": {
          "base_uri": "https://localhost:8080/",
          "height": 223
        },
        "id": "yZQzvvc6_wJB",
        "outputId": "0f47a11e-6683-4429-ccd0-244b2e2aa7cd"
      },
      "source": [
        "df.head()"
      ],
      "execution_count": 70,
      "outputs": [
        {
          "output_type": "execute_result",
          "data": {
            "text/html": [
              "<div>\n",
              "<style scoped>\n",
              "    .dataframe tbody tr th:only-of-type {\n",
              "        vertical-align: middle;\n",
              "    }\n",
              "\n",
              "    .dataframe tbody tr th {\n",
              "        vertical-align: top;\n",
              "    }\n",
              "\n",
              "    .dataframe thead th {\n",
              "        text-align: right;\n",
              "    }\n",
              "</style>\n",
              "<table border=\"1\" class=\"dataframe\">\n",
              "  <thead>\n",
              "    <tr style=\"text-align: right;\">\n",
              "      <th></th>\n",
              "      <th>age</th>\n",
              "      <th>anaemia</th>\n",
              "      <th>creatinine_phosphokinase</th>\n",
              "      <th>diabetes</th>\n",
              "      <th>ejection_fraction</th>\n",
              "      <th>high_blood_pressure</th>\n",
              "      <th>platelets</th>\n",
              "      <th>serum_creatinine</th>\n",
              "      <th>serum_sodium</th>\n",
              "      <th>sex</th>\n",
              "      <th>smoking</th>\n",
              "      <th>time</th>\n",
              "      <th>DEATH_EVENT</th>\n",
              "    </tr>\n",
              "  </thead>\n",
              "  <tbody>\n",
              "    <tr>\n",
              "      <th>0</th>\n",
              "      <td>75.0</td>\n",
              "      <td>0</td>\n",
              "      <td>582</td>\n",
              "      <td>0</td>\n",
              "      <td>20</td>\n",
              "      <td>1</td>\n",
              "      <td>265000.00</td>\n",
              "      <td>1.9</td>\n",
              "      <td>130</td>\n",
              "      <td>1</td>\n",
              "      <td>0</td>\n",
              "      <td>4</td>\n",
              "      <td>1</td>\n",
              "    </tr>\n",
              "    <tr>\n",
              "      <th>1</th>\n",
              "      <td>55.0</td>\n",
              "      <td>0</td>\n",
              "      <td>7861</td>\n",
              "      <td>0</td>\n",
              "      <td>38</td>\n",
              "      <td>0</td>\n",
              "      <td>263358.03</td>\n",
              "      <td>1.1</td>\n",
              "      <td>136</td>\n",
              "      <td>1</td>\n",
              "      <td>0</td>\n",
              "      <td>6</td>\n",
              "      <td>1</td>\n",
              "    </tr>\n",
              "    <tr>\n",
              "      <th>2</th>\n",
              "      <td>65.0</td>\n",
              "      <td>0</td>\n",
              "      <td>146</td>\n",
              "      <td>0</td>\n",
              "      <td>20</td>\n",
              "      <td>0</td>\n",
              "      <td>162000.00</td>\n",
              "      <td>1.3</td>\n",
              "      <td>129</td>\n",
              "      <td>1</td>\n",
              "      <td>1</td>\n",
              "      <td>7</td>\n",
              "      <td>1</td>\n",
              "    </tr>\n",
              "    <tr>\n",
              "      <th>3</th>\n",
              "      <td>50.0</td>\n",
              "      <td>1</td>\n",
              "      <td>111</td>\n",
              "      <td>0</td>\n",
              "      <td>20</td>\n",
              "      <td>0</td>\n",
              "      <td>210000.00</td>\n",
              "      <td>1.9</td>\n",
              "      <td>137</td>\n",
              "      <td>1</td>\n",
              "      <td>0</td>\n",
              "      <td>7</td>\n",
              "      <td>1</td>\n",
              "    </tr>\n",
              "    <tr>\n",
              "      <th>4</th>\n",
              "      <td>65.0</td>\n",
              "      <td>1</td>\n",
              "      <td>160</td>\n",
              "      <td>1</td>\n",
              "      <td>20</td>\n",
              "      <td>0</td>\n",
              "      <td>327000.00</td>\n",
              "      <td>2.7</td>\n",
              "      <td>116</td>\n",
              "      <td>0</td>\n",
              "      <td>0</td>\n",
              "      <td>8</td>\n",
              "      <td>1</td>\n",
              "    </tr>\n",
              "  </tbody>\n",
              "</table>\n",
              "</div>"
            ],
            "text/plain": [
              "    age  anaemia  creatinine_phosphokinase  ...  smoking  time  DEATH_EVENT\n",
              "0  75.0        0                       582  ...        0     4            1\n",
              "1  55.0        0                      7861  ...        0     6            1\n",
              "2  65.0        0                       146  ...        1     7            1\n",
              "3  50.0        1                       111  ...        0     7            1\n",
              "4  65.0        1                       160  ...        0     8            1\n",
              "\n",
              "[5 rows x 13 columns]"
            ]
          },
          "metadata": {},
          "execution_count": 70
        }
      ]
    },
    {
      "cell_type": "markdown",
      "metadata": {
        "id": "wNXlZ5wb_4LY"
      },
      "source": [
        "- 컬럼 정보\n",
        "  - age: 환자의 나이\n",
        "  - anaemia: 환자의 빈혈증 여부 (0: 정상, 1: 빈혈)\n",
        "  - creatinine_phosphokinase: 크레아틴키나제 검사 결과\n",
        "  - diabetes: 당뇨병 여부 (0: 정상, 1: 당뇨)\n",
        "  - ejection_fraction: 박출계수 (%)\n",
        "  - high_blood_pressure: 고혈압 여부 (0: 정상, 1: 고혈압)\n",
        "  - platelets: 혈소판 수 (kiloplatelets/mL)\n",
        "  - serum_creatinine: 혈중 크레아틴 레벨 (mg/dL)\n",
        "  - serum_sodium: 혈중 나트륨 레벨 (mEq/L)\n",
        "  - sex: 성별 (0: 여성, 1: 남성)\n",
        "  - smoking: 흡연 여부 (0: 비흡연, 1: 흡연)\n",
        "  - time: 관찰 기간 (일)\n",
        "  - DEATH_EVENT: 사망 여부 (0: 생존, 1: 사망)"
      ]
    },
    {
      "cell_type": "code",
      "metadata": {
        "colab": {
          "base_uri": "https://localhost:8080/"
        },
        "id": "EluCfrTHAT5I",
        "outputId": "cba7e778-82e3-4e4f-b346-46331757858d"
      },
      "source": [
        "df.info()"
      ],
      "execution_count": 71,
      "outputs": [
        {
          "output_type": "stream",
          "name": "stdout",
          "text": [
            "<class 'pandas.core.frame.DataFrame'>\n",
            "RangeIndex: 299 entries, 0 to 298\n",
            "Data columns (total 13 columns):\n",
            " #   Column                    Non-Null Count  Dtype  \n",
            "---  ------                    --------------  -----  \n",
            " 0   age                       299 non-null    float64\n",
            " 1   anaemia                   299 non-null    int64  \n",
            " 2   creatinine_phosphokinase  299 non-null    int64  \n",
            " 3   diabetes                  299 non-null    int64  \n",
            " 4   ejection_fraction         299 non-null    int64  \n",
            " 5   high_blood_pressure       299 non-null    int64  \n",
            " 6   platelets                 299 non-null    float64\n",
            " 7   serum_creatinine          299 non-null    float64\n",
            " 8   serum_sodium              299 non-null    int64  \n",
            " 9   sex                       299 non-null    int64  \n",
            " 10  smoking                   299 non-null    int64  \n",
            " 11  time                      299 non-null    int64  \n",
            " 12  DEATH_EVENT               299 non-null    int64  \n",
            "dtypes: float64(3), int64(10)\n",
            "memory usage: 30.5 KB\n"
          ]
        }
      ]
    },
    {
      "cell_type": "code",
      "metadata": {
        "colab": {
          "base_uri": "https://localhost:8080/",
          "height": 315
        },
        "id": "o_9Cy1HOAUYc",
        "outputId": "38474d18-d50a-4461-97a0-01467fe12136"
      },
      "source": [
        "df.describe()"
      ],
      "execution_count": 72,
      "outputs": [
        {
          "output_type": "execute_result",
          "data": {
            "text/html": [
              "<div>\n",
              "<style scoped>\n",
              "    .dataframe tbody tr th:only-of-type {\n",
              "        vertical-align: middle;\n",
              "    }\n",
              "\n",
              "    .dataframe tbody tr th {\n",
              "        vertical-align: top;\n",
              "    }\n",
              "\n",
              "    .dataframe thead th {\n",
              "        text-align: right;\n",
              "    }\n",
              "</style>\n",
              "<table border=\"1\" class=\"dataframe\">\n",
              "  <thead>\n",
              "    <tr style=\"text-align: right;\">\n",
              "      <th></th>\n",
              "      <th>age</th>\n",
              "      <th>anaemia</th>\n",
              "      <th>creatinine_phosphokinase</th>\n",
              "      <th>diabetes</th>\n",
              "      <th>ejection_fraction</th>\n",
              "      <th>high_blood_pressure</th>\n",
              "      <th>platelets</th>\n",
              "      <th>serum_creatinine</th>\n",
              "      <th>serum_sodium</th>\n",
              "      <th>sex</th>\n",
              "      <th>smoking</th>\n",
              "      <th>time</th>\n",
              "      <th>DEATH_EVENT</th>\n",
              "    </tr>\n",
              "  </thead>\n",
              "  <tbody>\n",
              "    <tr>\n",
              "      <th>count</th>\n",
              "      <td>299.000000</td>\n",
              "      <td>299.000000</td>\n",
              "      <td>299.000000</td>\n",
              "      <td>299.000000</td>\n",
              "      <td>299.000000</td>\n",
              "      <td>299.000000</td>\n",
              "      <td>299.000000</td>\n",
              "      <td>299.00000</td>\n",
              "      <td>299.000000</td>\n",
              "      <td>299.000000</td>\n",
              "      <td>299.00000</td>\n",
              "      <td>299.000000</td>\n",
              "      <td>299.00000</td>\n",
              "    </tr>\n",
              "    <tr>\n",
              "      <th>mean</th>\n",
              "      <td>60.833893</td>\n",
              "      <td>0.431438</td>\n",
              "      <td>581.839465</td>\n",
              "      <td>0.418060</td>\n",
              "      <td>38.083612</td>\n",
              "      <td>0.351171</td>\n",
              "      <td>263358.029264</td>\n",
              "      <td>1.39388</td>\n",
              "      <td>136.625418</td>\n",
              "      <td>0.648829</td>\n",
              "      <td>0.32107</td>\n",
              "      <td>130.260870</td>\n",
              "      <td>0.32107</td>\n",
              "    </tr>\n",
              "    <tr>\n",
              "      <th>std</th>\n",
              "      <td>11.894809</td>\n",
              "      <td>0.496107</td>\n",
              "      <td>970.287881</td>\n",
              "      <td>0.494067</td>\n",
              "      <td>11.834841</td>\n",
              "      <td>0.478136</td>\n",
              "      <td>97804.236869</td>\n",
              "      <td>1.03451</td>\n",
              "      <td>4.412477</td>\n",
              "      <td>0.478136</td>\n",
              "      <td>0.46767</td>\n",
              "      <td>77.614208</td>\n",
              "      <td>0.46767</td>\n",
              "    </tr>\n",
              "    <tr>\n",
              "      <th>min</th>\n",
              "      <td>40.000000</td>\n",
              "      <td>0.000000</td>\n",
              "      <td>23.000000</td>\n",
              "      <td>0.000000</td>\n",
              "      <td>14.000000</td>\n",
              "      <td>0.000000</td>\n",
              "      <td>25100.000000</td>\n",
              "      <td>0.50000</td>\n",
              "      <td>113.000000</td>\n",
              "      <td>0.000000</td>\n",
              "      <td>0.00000</td>\n",
              "      <td>4.000000</td>\n",
              "      <td>0.00000</td>\n",
              "    </tr>\n",
              "    <tr>\n",
              "      <th>25%</th>\n",
              "      <td>51.000000</td>\n",
              "      <td>0.000000</td>\n",
              "      <td>116.500000</td>\n",
              "      <td>0.000000</td>\n",
              "      <td>30.000000</td>\n",
              "      <td>0.000000</td>\n",
              "      <td>212500.000000</td>\n",
              "      <td>0.90000</td>\n",
              "      <td>134.000000</td>\n",
              "      <td>0.000000</td>\n",
              "      <td>0.00000</td>\n",
              "      <td>73.000000</td>\n",
              "      <td>0.00000</td>\n",
              "    </tr>\n",
              "    <tr>\n",
              "      <th>50%</th>\n",
              "      <td>60.000000</td>\n",
              "      <td>0.000000</td>\n",
              "      <td>250.000000</td>\n",
              "      <td>0.000000</td>\n",
              "      <td>38.000000</td>\n",
              "      <td>0.000000</td>\n",
              "      <td>262000.000000</td>\n",
              "      <td>1.10000</td>\n",
              "      <td>137.000000</td>\n",
              "      <td>1.000000</td>\n",
              "      <td>0.00000</td>\n",
              "      <td>115.000000</td>\n",
              "      <td>0.00000</td>\n",
              "    </tr>\n",
              "    <tr>\n",
              "      <th>75%</th>\n",
              "      <td>70.000000</td>\n",
              "      <td>1.000000</td>\n",
              "      <td>582.000000</td>\n",
              "      <td>1.000000</td>\n",
              "      <td>45.000000</td>\n",
              "      <td>1.000000</td>\n",
              "      <td>303500.000000</td>\n",
              "      <td>1.40000</td>\n",
              "      <td>140.000000</td>\n",
              "      <td>1.000000</td>\n",
              "      <td>1.00000</td>\n",
              "      <td>203.000000</td>\n",
              "      <td>1.00000</td>\n",
              "    </tr>\n",
              "    <tr>\n",
              "      <th>max</th>\n",
              "      <td>95.000000</td>\n",
              "      <td>1.000000</td>\n",
              "      <td>7861.000000</td>\n",
              "      <td>1.000000</td>\n",
              "      <td>80.000000</td>\n",
              "      <td>1.000000</td>\n",
              "      <td>850000.000000</td>\n",
              "      <td>9.40000</td>\n",
              "      <td>148.000000</td>\n",
              "      <td>1.000000</td>\n",
              "      <td>1.00000</td>\n",
              "      <td>285.000000</td>\n",
              "      <td>1.00000</td>\n",
              "    </tr>\n",
              "  </tbody>\n",
              "</table>\n",
              "</div>"
            ],
            "text/plain": [
              "              age     anaemia  ...        time  DEATH_EVENT\n",
              "count  299.000000  299.000000  ...  299.000000    299.00000\n",
              "mean    60.833893    0.431438  ...  130.260870      0.32107\n",
              "std     11.894809    0.496107  ...   77.614208      0.46767\n",
              "min     40.000000    0.000000  ...    4.000000      0.00000\n",
              "25%     51.000000    0.000000  ...   73.000000      0.00000\n",
              "50%     60.000000    0.000000  ...  115.000000      0.00000\n",
              "75%     70.000000    1.000000  ...  203.000000      1.00000\n",
              "max     95.000000    1.000000  ...  285.000000      1.00000\n",
              "\n",
              "[8 rows x 13 columns]"
            ]
          },
          "metadata": {},
          "execution_count": 72
        }
      ]
    },
    {
      "cell_type": "code",
      "metadata": {
        "colab": {
          "base_uri": "https://localhost:8080/"
        },
        "id": "H2aAMgBkAWo8",
        "outputId": "c0154c7c-468d-400b-cec6-7457d9e9aac6"
      },
      "source": [
        "C = (df.dtypes == 'object')\n",
        "CategoricalVariables = list(C[C].index)\n",
        "\n",
        "print(CategoricalVariables)\n",
        "\n",
        "Integer = (df.dtypes == 'int64') \n",
        "Float   = (df.dtypes == 'float64') \n",
        "NumericVariables = list(Integer[Integer].index) + list(Float[Float].index)\n",
        "\n",
        "print(NumericVariables)"
      ],
      "execution_count": 73,
      "outputs": [
        {
          "output_type": "stream",
          "name": "stdout",
          "text": [
            "[]\n",
            "['anaemia', 'creatinine_phosphokinase', 'diabetes', 'ejection_fraction', 'high_blood_pressure', 'serum_sodium', 'sex', 'smoking', 'time', 'DEATH_EVENT', 'age', 'platelets', 'serum_creatinine']\n"
          ]
        }
      ]
    },
    {
      "cell_type": "markdown",
      "metadata": {
        "id": "gfv85rdjBDR3"
      },
      "source": [
        "#### Bootstrap"
      ]
    },
    {
      "cell_type": "markdown",
      "metadata": {
        "id": "-Iq93yp4BOAg"
      },
      "source": [
        "First, we apply scaling to continous features."
      ]
    },
    {
      "cell_type": "code",
      "metadata": {
        "id": "Jke2Zb9JAbz1"
      },
      "source": [
        "AllVars = list(df.columns)  \n",
        "ContVars = ['age','ejection_fraction','creatinine_phosphokinase','platelets','serum_creatinine','serum_sodium','time']\n",
        "BinVars = [x for x in AllVars if x not in ContVars]\n",
        "\n",
        "df.index.name = 'Id'\n",
        "\n",
        "sc_df = df\n",
        "sc_df[ContVars] = minmax_scaling(df, columns=ContVars)"
      ],
      "execution_count": 74,
      "outputs": []
    },
    {
      "cell_type": "markdown",
      "metadata": {
        "id": "sCE1An1QBRdq"
      },
      "source": [
        "Now, we will apply bootstrap to our data. We implement our data set as first argument, we allow for replacement and use pre-defined random state. The argument number of samples is not trivial. How to choose? Similarly to any train/test set in other topics. Hence, as our number of records is 299, we will chose let's say 80% of them. Will it be really 80%? No, because of resampling, in other words some records may appear twice or more and some records will not appear there for sure."
      ]
    },
    {
      "cell_type": "code",
      "metadata": {
        "colab": {
          "base_uri": "https://localhost:8080/"
        },
        "id": "2MmQ0OTiDsVO",
        "outputId": "69b22067-a944-4136-d24d-2655dd1a8d6e"
      },
      "source": [
        "NoRecords = df.shape[0]\n",
        "RandState = 100\n",
        "\n",
        "boot = resample(sc_df, replace=True, n_samples=round(NoRecords*0.80), random_state=RandState) # 240 ~= 299 * 80%\n",
        "boot.shape"
      ],
      "execution_count": 75,
      "outputs": [
        {
          "output_type": "execute_result",
          "data": {
            "text/plain": [
              "(239, 13)"
            ]
          },
          "metadata": {},
          "execution_count": 75
        }
      ]
    },
    {
      "cell_type": "code",
      "metadata": {
        "id": "cXHOgYF8Am-8",
        "colab": {
          "base_uri": "https://localhost:8080/"
        },
        "outputId": "4eb0aaa1-1230-4f78-db27-c0199ef83d99"
      },
      "source": [
        "boot_indices_list = list(boot.index)  \n",
        "boot_indices = pd.DataFrame(boot.index)  \n",
        "\n",
        "# out of bag observations\n",
        "oob = sc_df[~sc_df.index.isin(boot_indices_list)]\n",
        "print('The number of records in bootstrap sample is: ' + format(boot.shape[0]) + '. The number of records in out-of-bag sample is: ' + format(oob.shape[0]))"
      ],
      "execution_count": 76,
      "outputs": [
        {
          "output_type": "stream",
          "name": "stdout",
          "text": [
            "The number of records in bootstrap sample is: 239. The number of records in out-of-bag sample is: 130\n"
          ]
        }
      ]
    },
    {
      "cell_type": "markdown",
      "metadata": {
        "id": "LXN7gsAiBYYE"
      },
      "source": [
        "For this random seed, we have even 130 out-of-bag records, what means that in total 130 records did not appear in our bootstrap sample. Let's investigate how many records appear more than once."
      ]
    },
    {
      "cell_type": "code",
      "metadata": {
        "colab": {
          "base_uri": "https://localhost:8080/",
          "height": 296
        },
        "id": "GNu0HmW0BdbK",
        "outputId": "151fcded-ac38-4104-f28c-75f02e94f915"
      },
      "source": [
        "boot_indices_agg = boot_indices.groupby('Id').Id.count()\n",
        "\n",
        "(unique, counts) = np.unique(boot_indices_agg, return_counts=True)\n",
        "\n",
        "boot_indices_agg = pd.DataFrame(np.asarray((unique, counts)).T, columns = ['Value','Frequency'])\n",
        "\n",
        "boot_indices_agg.plot(kind='bar',x='Value',y='Frequency')"
      ],
      "execution_count": 77,
      "outputs": [
        {
          "output_type": "execute_result",
          "data": {
            "text/plain": [
              "<matplotlib.axes._subplots.AxesSubplot at 0x7f75c15c8d90>"
            ]
          },
          "metadata": {},
          "execution_count": 77
        },
        {
          "output_type": "display_data",
          "data": {
            "image/png": "[encoded data removed]",
            "text/plain": [
              "<Figure size 432x288 with 1 Axes>"
            ]
          },
          "metadata": {
            "needs_background": "light"
          }
        }
      ]
    },
    {
      "cell_type": "markdown",
      "metadata": {
        "id": "N0C-FbEVBv1W"
      },
      "source": [
        "### 추가 참고자료\n",
        "- [DATA - 12. 부트스트랩(Bootstrap)](https://bkshin.tistory.com/entry/DATA-12)"
      ]
    }
  ]
}